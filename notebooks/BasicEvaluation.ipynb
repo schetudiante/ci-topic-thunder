{
 "cells": [
  {
   "cell_type": "code",
   "execution_count": 1,
   "metadata": {},
   "outputs": [],
   "source": [
    "import nltk,re,time,umap,collections,os,string,sys,mlflow\n",
    "sys.path.append(os.path.abspath(\"..\"))\n",
    "from modules import utils,modeling\n",
    "\n",
    "from  mlflow.tracking import MlflowClient\n",
    "\n",
    "from sentence_transformers import SentenceTransformer,models\n",
    "import plotly.express as px\n",
    "import pandas as pd\n",
    "\n",
    "from sklearn.metrics import completeness_score,homogeneity_score, v_measure_score,normalized_mutual_info_score,adjusted_mutual_info_score,silhouette_score\n",
    "from sklearn.feature_extraction.text import CountVectorizer\n",
    "import numpy as np\n",
    "from pprint import pprint\n",
    "from sklearn.metrics import calinski_harabasz_score,davies_bouldin_score\n",
    "\n",
    "remote_server=\"http://ec2-18-193-70-141.eu-central-1.compute.amazonaws.com\"\n",
    "client = MlflowClient(remote_server)\n",
    "mlflow.set_tracking_uri(remote_server)\n",
    "\n",
    "os.environ[\"MLFLOW_S3_ENDPOINT_URL\"]=\"http://s3.eu-central-1.amazonaws.com\"\n",
    "os.environ[\"MLFLOW_TRACKING_USERNAME\"]=\"mlflow\"\n",
    "os.environ[\"MLFLOW_TRACKING_PASSWORD\"]=\"mlflow\"\n",
    "%matplotlib inline\n",
    "%load_ext autoreload\n",
    "%autoreload 2\n",
    "%reload_ext utils\n",
    "%reload_ext modeling"
   ]
  },
  {
   "cell_type": "markdown",
   "metadata": {},
   "source": [
    "## Load the labeled data and their Named entities"
   ]
  },
  {
   "cell_type": "code",
   "execution_count": 5,
   "metadata": {},
   "outputs": [
    {
     "data": {
      "text/html": [
       "<div>\n",
       "<style scoped>\n",
       "    .dataframe tbody tr th:only-of-type {\n",
       "        vertical-align: middle;\n",
       "    }\n",
       "\n",
       "    .dataframe tbody tr th {\n",
       "        vertical-align: top;\n",
       "    }\n",
       "\n",
       "    .dataframe thead th {\n",
       "        text-align: right;\n",
       "    }\n",
       "</style>\n",
       "<table border=\"1\" class=\"dataframe\">\n",
       "  <thead>\n",
       "    <tr style=\"text-align: right;\">\n",
       "      <th></th>\n",
       "      <th>headline</th>\n",
       "      <th>seo_title</th>\n",
       "      <th>text</th>\n",
       "      <th>created_at_date</th>\n",
       "      <th>created_at</th>\n",
       "      <th>mix</th>\n",
       "      <th>kicker_headline_NER</th>\n",
       "      <th>text_NER</th>\n",
       "      <th>seo_title_NER</th>\n",
       "      <th>created_at_ne</th>\n",
       "    </tr>\n",
       "  </thead>\n",
       "  <tbody>\n",
       "    <tr>\n",
       "      <th>fde4b3c95901643bf957060e97458af3c3a5cb77979d6b1cab666bd11a343918</th>\n",
       "      <td>„FameMaker“: Wie Stefan Raab die Fäden weiter ...</td>\n",
       "      <td>Wie Raab hinter der Kamera die Fäden zieht</td>\n",
       "      <td>Bühne frei für ein neues bisschen Raab ... Am ...</td>\n",
       "      <td>9/14/20</td>\n",
       "      <td>2020-09-14 18:27:15</td>\n",
       "      <td>„FameMaker“: Wie Stefan Raab die Fäden weiter ...</td>\n",
       "      <td>[{\"entities\":[{\"mentions\":[{\"text\":{\"content\":...</td>\n",
       "      <td>[{\"entities\":[{\"mentions\":[{\"text\":{\"content\":...</td>\n",
       "      <td>[{\"entities\":[{\"mentions\":[{\"text\":{\"content\":...</td>\n",
       "      <td>2020-09-14 18:28:06</td>\n",
       "    </tr>\n",
       "  </tbody>\n",
       "</table>\n",
       "</div>"
      ],
      "text/plain": [
       "                                                                                             headline  \\\n",
       "fde4b3c95901643bf957060e97458af3c3a5cb77979d6b1...  „FameMaker“: Wie Stefan Raab die Fäden weiter ...   \n",
       "\n",
       "                                                                                     seo_title  \\\n",
       "fde4b3c95901643bf957060e97458af3c3a5cb77979d6b1...  Wie Raab hinter der Kamera die Fäden zieht   \n",
       "\n",
       "                                                                                                 text  \\\n",
       "fde4b3c95901643bf957060e97458af3c3a5cb77979d6b1...  Bühne frei für ein neues bisschen Raab ... Am ...   \n",
       "\n",
       "                                                   created_at_date  \\\n",
       "fde4b3c95901643bf957060e97458af3c3a5cb77979d6b1...         9/14/20   \n",
       "\n",
       "                                                            created_at  \\\n",
       "fde4b3c95901643bf957060e97458af3c3a5cb77979d6b1... 2020-09-14 18:27:15   \n",
       "\n",
       "                                                                                                  mix  \\\n",
       "fde4b3c95901643bf957060e97458af3c3a5cb77979d6b1...  „FameMaker“: Wie Stefan Raab die Fäden weiter ...   \n",
       "\n",
       "                                                                                  kicker_headline_NER  \\\n",
       "fde4b3c95901643bf957060e97458af3c3a5cb77979d6b1...  [{\"entities\":[{\"mentions\":[{\"text\":{\"content\":...   \n",
       "\n",
       "                                                                                             text_NER  \\\n",
       "fde4b3c95901643bf957060e97458af3c3a5cb77979d6b1...  [{\"entities\":[{\"mentions\":[{\"text\":{\"content\":...   \n",
       "\n",
       "                                                                                        seo_title_NER  \\\n",
       "fde4b3c95901643bf957060e97458af3c3a5cb77979d6b1...  [{\"entities\":[{\"mentions\":[{\"text\":{\"content\":...   \n",
       "\n",
       "                                                          created_at_ne  \n",
       "fde4b3c95901643bf957060e97458af3c3a5cb77979d6b1...  2020-09-14 18:28:06  "
      ]
     },
     "execution_count": 5,
     "metadata": {},
     "output_type": "execute_result"
    }
   ],
   "source": [
    "X = utils.load_labeled_data()\n",
    "X.drop([\"site\",\"entities_analyzed\",\"updated_at\"],inplace=True,axis=\"columns\")\n",
    "\n",
    "labeled = pd.read_csv(\"../data/raw_article_entities.csv\",header=None,names=[\"_id\",\"article_id\",\n",
    "                                                                            \"kicker_headline_NER\",\"text_NER\",\n",
    "                                                                            \"seo_title_NER\",\"created_at_ne\",\n",
    "                                                                            \"updated_at\",\"parset\"])\n",
    "\n",
    "labeled.drop([\"parset\",\"updated_at\",\"_id\"],axis=1,inplace=True)\n",
    "labeled = labeled.set_index(\"article_id\")\n",
    "\n",
    "\n",
    "X['mix'] =  X['headline'] +\" \"+ X[\"seo_title\"].apply(utils.remove_seo_title_marker) #+ X[\"text\"].apply(lambda x: \" \".join(x.split(\" \")[:150]))\n",
    "#pdf_mix = utils.preprocess_text(X,col=\"mix\")\n",
    "pdf_mix = X[\"mix\"].values\n",
    "X = X.join(labeled,how='right')\n",
    "X.drop_duplicates(subset='headline',inplace=True)\n",
    "pdf= utils.preprocess_articles_for_bert(X,\"text\")\n",
    "y = X.labels\n",
    "X.drop(\"labels\",axis=\"columns\",inplace=True)\n",
    "X.tail(1)\n"
   ]
  },
  {
   "cell_type": "code",
   "execution_count": 27,
   "metadata": {},
   "outputs": [
    {
     "data": {
      "application/vnd.jupyter.widget-view+json": {
       "model_id": "16e9b1ef8c114c188c473018055e6897",
       "version_major": 2,
       "version_minor": 0
      },
      "text/plain": [
       "HBox(children=(FloatProgress(value=0.0, description='Batches', max=8.0, style=ProgressStyle(description_width=…"
      ]
     },
     "metadata": {},
     "output_type": "display_data"
    },
    {
     "name": "stdout",
     "output_type": "stream",
     "text": [
      "\n",
      "--- Embedding dimension 768\n",
      "--- 239 Documnets encoded 24.07139301300049 seconds ---\n",
      "(239, 768)\n"
     ]
    }
   ],
   "source": [
    "word_embedding_model = models.Transformer('T-Systems-onsite/bert-german-dbmdz-uncased-sentence-stsb')\n",
    "emb = modeling.get_sentence_embeddings(pdf,word_embedding_model)\n",
    "\n"
   ]
  },
  {
   "cell_type": "code",
   "execution_count": 44,
   "metadata": {},
   "outputs": [],
   "source": [
    "#Loading Emebddings from the big file \n",
    "#emb_ids=np.load(\"../models/bert-german-dbmdz-uncased-sentence-stsb/Top-100k_articles_embddings_ids.npy\",allow_pickle=True)\n",
    "#emb_df = pd.DataFrame(emb_ids,columns=['article_id',\"embedding\"]).set_index(\"article_id\")\n",
    "\n",
    "#emb = X.join(emb_df,how='left').embedding.to_numpy()\n",
    "#emb = np.stack(emb, axis=0)"
   ]
  },
  {
   "cell_type": "code",
   "execution_count": 49,
   "metadata": {},
   "outputs": [
    {
     "name": "stdout",
     "output_type": "stream",
     "text": [
      "--- UMAP Loaded in 1.779430866241455 seconds ---\n",
      "Outliers: 26 | Clustered: 213 | 0.891213389121339 \n",
      " Cluster count: 23 \n"
     ]
    }
   ],
   "source": [
    "\n",
    "params = {\"alpha\":.80,\"min_samples\":2,\"min_cluster_size\":4,\"allow_single_cluster\":False}\n",
    "umap_model=\"umap_100k_6-neighbors_256-comps.pkl\"\n",
    "umap_data, labels =modeling.load_umap_and_cluster(_emb,umap_model=umap_model,**params)\n",
    "docs_df = utils.relink_data_after_clustering(umap_data,X,labels)"
   ]
  },
  {
   "cell_type": "code",
   "execution_count": 50,
   "metadata": {},
   "outputs": [
    {
     "name": "stdout",
     "output_type": "stream",
     "text": [
      "Outliers: 26 | Clustered: 213 | 0.891213389121339 \n",
      " Cluster count: 23 \n",
      "Outliers: 26 | Clustered: 213 | 0.891213389121339 \n",
      " Cluster count: 23 \n"
     ]
    }
   ],
   "source": [
    "results = utils.link_to_raw_data(umap_data,X,labels)\n",
    "\n",
    "y_summarized_clusters = dict(collections.Counter(y.values))\n",
    "\n",
    "mlflow.set_experiment(\"basic-eval\")\n",
    "with mlflow.start_run():\n",
    "    mlflow.log_params(params)\n",
    "    # For every topic collect all the article and join their texts (preprocessed) , raw texts,\n",
    "    mlflow.log_param(\"umap\",umap_model)\n",
    "    docs_per_topic = docs_df.groupby(['topic_number'], as_index = False).agg({'raw_text': ' '.join,\n",
    "                                                                       'headline': '. '.join,\n",
    "                                                                        \"kicker_headline_ne\":lambda x: (utils.flatten([utils.parse_google_named_entities(el) for el in x ])),\n",
    "                                                                          \"text_ne\":lambda x: (utils.flatten([utils.parse_google_named_entities(el) for el in x ])),\n",
    "                                                                            \"seo_title_ne\":lambda x: (utils.flatten([utils.parse_google_named_entities(el) for el in x ]))\n",
    "                                                                            }).set_index(\"topic_number\")\n",
    "    \n",
    "    mlflow.log_metric(key=\"completeness_score\", value=completeness_score(labels,y.values))\n",
    "    mlflow.log_metric(key=\"v_measure_score\", value=v_measure_score(labels,y.values))\n",
    "    mlflow.log_metric(key=\"homogeneity_score\", value=homogeneity_score(labels,y.values))\n",
    "    mlflow.log_metric(key=\"normalized_mutual_info_score\", value=v_measure_score(labels,y.values))\n",
    "\n",
    "    summarized_clusters = dict(collections.Counter(labels))\n",
    "    try:\n",
    "        mlflow.log_metric(key=\"outliers_ratio\", value=(summarized_clusters[-1]/len(labels)))\n",
    "    except Exception as err:\n",
    "        mlflow.log_metric(key=\"outliers_ratio\", value=0)\n",
    "\n",
    "    mlflow.log_metric(key=\"unique_cluters\", value=len(summarized_clusters.items()))\n",
    "    mlflow.log_metric(key=\"clusters_ratio_to_GT\", value=(len(summarized_clusters.items())-1)/len(y_summarized_clusters.items()))\n",
    "    mlflow.log_metric(key=\"silhuette_score\", value=silhouette_score(emb,labels))\n",
    "\n",
    "    results = utils.link_to_raw_data(results,X,labels)\n",
    "    \n",
    "    try:\n",
    "        modeling.scatter_plot(results,save_fig=True)\n",
    "        mlflow.log_artifact(\"./tmp_scatter_plot.html\")\n",
    "    except Exception as err:\n",
    "        print(err)\n",
    "\n"
   ]
  },
  {
   "cell_type": "code",
   "execution_count": null,
   "metadata": {},
   "outputs": [],
   "source": [
    "ctrs=[]\n",
    "for topic in docs_per_topic.index.values: # Go over topic labels \n",
    "    text_entities = [elem[\"text\"] for elem in docs_per_topic.loc[topic][\"text_ne\"] if not elem['type'] ==\"NUMBER\" and not elem['type'] ==\"COMMON\" ]\n",
    "    seo_title_entities = [elem[\"text\"] for elem in docs_per_topic.loc[topic][\"seo_title_ne\"] if not elem['type'] ==\"NUMBER\" and not elem['type'] ==\"COMMON\" ] * 2\n",
    "    kicker_headline_entities = [elem[\"text\"] for elem in docs_per_topic.loc[topic][\"kicker_headline_ne\"] if not elem['type'] ==\"NUMBER\" and not elem['type'] ==\"COMMON\" ] * 3\n",
    "    counted_word_occurances = collections.Counter(text_entities+seo_title_entities+kicker_headline_entities).most_common()[:8]\n",
    "\n",
    "    ctrs.append(counted_word_occurances)\n",
    "dict_with_top_words = {k:v  for k,v in  zip(docs_per_topic.index.values,ctrs)}    \n",
    "\n",
    "\n",
    "cluster_labels_google = pd.DataFrame(zip(docs_per_topic.index.values,[\" | \".join([word[0] for word in word_score]) for word_score in ctrs]),columns=[\"Topic\",\"TopWords\"]).sort_values(by=\"Topic\").set_index(\"Topic\")"
   ]
  },
  {
   "cell_type": "code",
   "execution_count": 94,
   "metadata": {},
   "outputs": [
    {
     "data": {
      "application/vnd.plotly.v1+json": {
       "config": {
        "plotlyServerURL": "https://plot.ly"
       },
       "data": [
        {
         "customdata": [
          [
           "2020-09-12",
           "Corona | Corona-Krise | Wirtschaft | Finanzminister | Angst | Geld | Leben | Steuererhöhungen"
          ],
          [
           "2020-09-11",
           "Corona | Corona-Krise | Wirtschaft | Finanzminister | Angst | Geld | Leben | Steuererhöhungen"
          ],
          [
           "2020-09-11",
           "Corona | Corona-Krise | Wirtschaft | Finanzminister | Angst | Geld | Leben | Steuererhöhungen"
          ],
          [
           "2020-09-10",
           "Corona | Corona-Krise | Wirtschaft | Finanzminister | Angst | Geld | Leben | Steuererhöhungen"
          ],
          [
           "2020-09-13",
           "Corona | Corona-Krise | Wirtschaft | Finanzminister | Angst | Geld | Leben | Steuererhöhungen"
          ],
          [
           "2020-09-10",
           "Corona | Corona-Krise | Wirtschaft | Finanzminister | Angst | Geld | Leben | Steuererhöhungen"
          ],
          [
           "2020-09-10",
           "Corona | Corona-Krise | Wirtschaft | Finanzminister | Angst | Geld | Leben | Steuererhöhungen"
          ],
          [
           "2020-09-10",
           "Corona | Corona-Krise | Wirtschaft | Finanzminister | Angst | Geld | Leben | Steuererhöhungen"
          ],
          [
           "2020-09-13",
           "Corona | Corona-Krise | Wirtschaft | Finanzminister | Angst | Geld | Leben | Steuererhöhungen"
          ],
          [
           "2020-09-14",
           "Corona | Corona-Krise | Wirtschaft | Finanzminister | Angst | Geld | Leben | Steuererhöhungen"
          ],
          [
           "2020-09-12",
           "Corona | Corona-Krise | Wirtschaft | Finanzminister | Angst | Geld | Leben | Steuererhöhungen"
          ],
          [
           "2020-09-13",
           "Corona | Corona-Krise | Wirtschaft | Finanzminister | Angst | Geld | Leben | Steuererhöhungen"
          ]
         ],
         "hovertemplate": "<b>%{hovertext}</b><br><br>TopWords=%{customdata[1]}<br>x=%{x}<br>y=%{y}<br>created_at=%{customdata[0]}<extra></extra>",
         "hovertext": [
          "Welche Versicherung muss sein, welche ist Quatsch?",
          "So lange müssen wir die Corona-Schulden abstottern",
          "50 Sparfochs-Tipps für ein sorgenfreieres Leben",
          "Steuererhöhungen Gift in der Corona-Krise",
          "Angst vor Smog und Plünderungen",
          "Kassensturz: So groß ist das Corona-Steuerloch",
          "Spätestens im März wird es ein Massensterben geben",
          "Historischer Steuer-Einbruch in Bayern",
          "So weit geht die Renten-Schere auseinander",
          "Corona reißt Milliarden-Loch",
          "Dann mit noch mehr Hexer-Sex?",
          "Wie stark belastet Corona unseren Geldbeutel?"
         ],
         "legendgroup": "Corona | Corona-Krise | Wirtschaft | Finanzminister | Angst | Geld | Leben | Steuererhöhungen",
         "marker": {
          "color": "#636efa",
          "line": {
           "color": "DarkSlateGrey",
           "width": 0.15
          },
          "opacity": 0.8,
          "size": 9,
          "symbol": "circle"
         },
         "mode": "markers",
         "name": "Corona | Corona-Krise | Wirtschaft | Finanzminister | Angst | Geld | Leben | Steuererhöhungen",
         "orientation": "v",
         "showlegend": true,
         "type": "scatter",
         "x": [
          7.195629119873047,
          7.132028579711914,
          7.111648082733154,
          7.1454877853393555,
          7.775134563446045,
          7.092494964599609,
          7.517007350921631,
          7.405791282653809,
          7.047499179840088,
          7.382289886474609,
          12.309284210205078,
          7.432631969451904
         ],
         "xaxis": "x",
         "y": [
          6.489957809448242,
          6.519889831542969,
          6.3262529373168945,
          6.880207538604736,
          10.564671516418457,
          6.71904993057251,
          6.606104373931885,
          6.688356399536133,
          6.903058052062988,
          6.8369646072387695,
          6.114593982696533,
          6.783583641052246
         ],
         "yaxis": "y"
        },
        {
         "customdata": [
          [
           "2020-09-13",
           "Polizei | Hunde | Lotta | Welpen | Leipzig | Hund | Hündin | Supermarkt"
          ],
          [
           "2020-09-10",
           "Polizei | Hunde | Lotta | Welpen | Leipzig | Hund | Hündin | Supermarkt"
          ],
          [
           "2020-09-11",
           "Polizei | Hunde | Lotta | Welpen | Leipzig | Hund | Hündin | Supermarkt"
          ],
          [
           "2020-09-12",
           "Polizei | Hunde | Lotta | Welpen | Leipzig | Hund | Hündin | Supermarkt"
          ],
          [
           "2020-09-14",
           "Polizei | Hunde | Lotta | Welpen | Leipzig | Hund | Hündin | Supermarkt"
          ],
          [
           "2020-09-13",
           "Polizei | Hunde | Lotta | Welpen | Leipzig | Hund | Hündin | Supermarkt"
          ],
          [
           "2020-09-09",
           "Polizei | Hunde | Lotta | Welpen | Leipzig | Hund | Hündin | Supermarkt"
          ],
          [
           "2020-09-09",
           "Polizei | Hunde | Lotta | Welpen | Leipzig | Hund | Hündin | Supermarkt"
          ]
         ],
         "hovertemplate": "<b>%{hovertext}</b><br><br>TopWords=%{customdata[1]}<br>x=%{x}<br>y=%{y}<br>created_at=%{customdata[0]}<extra></extra>",
         "hovertext": [
          "Tierschützer retten völlig verwahrloste Dackel",
          "Lotta von Entführerin befreit",
          "Zöllner retten Zwergspitz-Welpen",
          "Polizei rettet verwahrloste Welpen aus Wohnung",
          "Ist es wirklich schlecht, seinen Hund zu tragen?",
          "Polizei entdeckt vernachlässigte Pferde in Sachsen",
          "Lotta beim Einkaufen entführt!",
          "So läuft das miese Geschäft mit exotischen Tieren"
         ],
         "legendgroup": "Polizei | Hunde | Lotta | Welpen | Leipzig | Hund | Hündin | Supermarkt",
         "marker": {
          "color": "#EF553B",
          "line": {
           "color": "DarkSlateGrey",
           "width": 0.15
          },
          "opacity": 0.8,
          "size": 9,
          "symbol": "circle"
         },
         "mode": "markers",
         "name": "Polizei | Hunde | Lotta | Welpen | Leipzig | Hund | Hündin | Supermarkt",
         "orientation": "v",
         "showlegend": true,
         "type": "scatter",
         "x": [
          11.686262130737305,
          11.546904563903809,
          11.538923263549805,
          11.689353942871094,
          11.751971244812012,
          11.604979515075684,
          11.593423843383789,
          11.757220268249512
         ],
         "xaxis": "x",
         "y": [
          8.51710033416748,
          9.082273483276367,
          8.792520523071289,
          8.728168487548828,
          8.37608814239502,
          8.741874694824219,
          9.156780242919922,
          8.487154006958008
         ],
         "yaxis": "y"
        },
        {
         "customdata": [
          [
           "2020-09-10",
           "Moria | Lesbos | Flüchtlinge | Flüchtlingslager | Kinder | Politik | Menschen | Feuer"
          ],
          [
           "2020-09-11",
           "Moria | Lesbos | Flüchtlinge | Flüchtlingslager | Kinder | Politik | Menschen | Feuer"
          ],
          [
           "2020-09-09",
           "Moria | Lesbos | Flüchtlinge | Flüchtlingslager | Kinder | Politik | Menschen | Feuer"
          ],
          [
           "2020-09-11",
           "Moria | Lesbos | Flüchtlinge | Flüchtlingslager | Kinder | Politik | Menschen | Feuer"
          ],
          [
           "2020-09-09",
           "Moria | Lesbos | Flüchtlinge | Flüchtlingslager | Kinder | Politik | Menschen | Feuer"
          ],
          [
           "2020-09-14",
           "Moria | Lesbos | Flüchtlinge | Flüchtlingslager | Kinder | Politik | Menschen | Feuer"
          ],
          [
           "2020-09-12",
           "Moria | Lesbos | Flüchtlinge | Flüchtlingslager | Kinder | Politik | Menschen | Feuer"
          ],
          [
           "2020-09-14",
           "Moria | Lesbos | Flüchtlinge | Flüchtlingslager | Kinder | Politik | Menschen | Feuer"
          ],
          [
           "2020-09-10",
           "Moria | Lesbos | Flüchtlinge | Flüchtlingslager | Kinder | Politik | Menschen | Feuer"
          ],
          [
           "2020-09-13",
           "Moria | Lesbos | Flüchtlinge | Flüchtlingslager | Kinder | Politik | Menschen | Feuer"
          ],
          [
           "2020-09-12",
           "Moria | Lesbos | Flüchtlinge | Flüchtlingslager | Kinder | Politik | Menschen | Feuer"
          ],
          [
           "2020-09-10",
           "Moria | Lesbos | Flüchtlinge | Flüchtlingslager | Kinder | Politik | Menschen | Feuer"
          ],
          [
           "2020-09-13",
           "Moria | Lesbos | Flüchtlinge | Flüchtlingslager | Kinder | Politik | Menschen | Feuer"
          ],
          [
           "2020-09-11",
           "Moria | Lesbos | Flüchtlinge | Flüchtlingslager | Kinder | Politik | Menschen | Feuer"
          ],
          [
           "2020-09-12",
           "Moria | Lesbos | Flüchtlinge | Flüchtlingslager | Kinder | Politik | Menschen | Feuer"
          ],
          [
           "2020-09-10",
           "Moria | Lesbos | Flüchtlinge | Flüchtlingslager | Kinder | Politik | Menschen | Feuer"
          ],
          [
           "2020-09-14",
           "Moria | Lesbos | Flüchtlinge | Flüchtlingslager | Kinder | Politik | Menschen | Feuer"
          ],
          [
           "2020-09-10",
           "Moria | Lesbos | Flüchtlinge | Flüchtlingslager | Kinder | Politik | Menschen | Feuer"
          ]
         ],
         "hovertemplate": "<b>%{hovertext}</b><br><br>TopWords=%{customdata[1]}<br>x=%{x}<br>y=%{y}<br>created_at=%{customdata[0]}<extra></extra>",
         "hovertext": [
          "Die Kinder von Moria brauchen unsere Hilfe",
          "Diese Missstände führten zur Schande von Moria",
          "Hunderte demonstrieren für Aufnahme von Flüchtlingen",
          "Deutschland nimmt 100 bis 150 Kinder aus Moria auf",
          "Zweites Feuer im Flüchtlingscamp Moria!",
          "„Vorausgehen taugt nichts, wenn niemand mehr folgen will“",
          "Polizei setzt Tränengasgegen Migranten ein",
          "Merkel will mehr Moria-Flüchtlinge aufnehmen!",
          "Alle wussten, dass es passieren würde",
          "Niemand will ein zweites Moria",
          "Claudia Roth attackiert Seehofer",
          "10 deutsche Städte wollen Moria-Flüchtlinge aufnehmen",
          "Werden Sie nicht zum Herzlos-Kanzler, Herr Kurz!",
          "Viele wollen nach „Germany“",
          "Kinder weinen, Politiker streiten",
          "Übernahme von 400 Kinder aus Moria in EU",
          "DRK-Hilfsflüge nach Lesbos",
          "Nach zweitem Feuer: Menschen schliefen auf der Straße"
         ],
         "legendgroup": "Moria | Lesbos | Flüchtlinge | Flüchtlingslager | Kinder | Politik | Menschen | Feuer",
         "marker": {
          "color": "#00cc96",
          "line": {
           "color": "DarkSlateGrey",
           "width": 0.15
          },
          "opacity": 0.8,
          "size": 9,
          "symbol": "circle"
         },
         "mode": "markers",
         "name": "Moria | Lesbos | Flüchtlinge | Flüchtlingslager | Kinder | Politik | Menschen | Feuer",
         "orientation": "v",
         "showlegend": true,
         "type": "scatter",
         "visible": true,
         "x": [
          8.019989967346191,
          7.944691181182861,
          8.480916023254395,
          8.089353561401367,
          8.223456382751465,
          7.934841632843018,
          8.009778022766113,
          7.901423931121826,
          8.076383590698242,
          8.103286743164062,
          7.88900089263916,
          8.012311935424805,
          7.67366886138916,
          8.015351295471191,
          8.097295761108398,
          7.99407958984375,
          8.003378868103027,
          8.15150260925293
         ],
         "xaxis": "x",
         "y": [
          9.263278007507324,
          9.119463920593262,
          9.510994911193848,
          9.126920700073242,
          9.895835876464844,
          8.93266773223877,
          9.247294425964355,
          9.003973007202148,
          9.372760772705078,
          9.318002700805664,
          8.702157974243164,
          9.119383811950684,
          8.846733093261719,
          9.407764434814453,
          9.34457015991211,
          8.964405059814453,
          9.027122497558594,
          9.69573974609375
         ],
         "yaxis": "y"
        },
        {
         "customdata": [
          [
           "2020-09-10",
           "Fortuna Düsseldorf | Trainer | Pause | Uwe Rösler | Platz | Liga | Ferrari | Fortuna"
          ],
          [
           "2020-09-12",
           "Fortuna Düsseldorf | Trainer | Pause | Uwe Rösler | Platz | Liga | Ferrari | Fortuna"
          ],
          [
           "2020-09-13",
           "Fortuna Düsseldorf | Trainer | Pause | Uwe Rösler | Platz | Liga | Ferrari | Fortuna"
          ],
          [
           "2020-09-10",
           "Fortuna Düsseldorf | Trainer | Pause | Uwe Rösler | Platz | Liga | Ferrari | Fortuna"
          ],
          [
           "2020-09-12",
           "Fortuna Düsseldorf | Trainer | Pause | Uwe Rösler | Platz | Liga | Ferrari | Fortuna"
          ],
          [
           "2020-09-14",
           "Fortuna Düsseldorf | Trainer | Pause | Uwe Rösler | Platz | Liga | Ferrari | Fortuna"
          ],
          [
           "2020-09-14",
           "Fortuna Düsseldorf | Trainer | Pause | Uwe Rösler | Platz | Liga | Ferrari | Fortuna"
          ],
          [
           "2020-09-09",
           "Fortuna Düsseldorf | Trainer | Pause | Uwe Rösler | Platz | Liga | Ferrari | Fortuna"
          ],
          [
           "2020-09-11",
           "Fortuna Düsseldorf | Trainer | Pause | Uwe Rösler | Platz | Liga | Ferrari | Fortuna"
          ],
          [
           "2020-09-12",
           "Fortuna Düsseldorf | Trainer | Pause | Uwe Rösler | Platz | Liga | Ferrari | Fortuna"
          ],
          [
           "2020-09-11",
           "Fortuna Düsseldorf | Trainer | Pause | Uwe Rösler | Platz | Liga | Ferrari | Fortuna"
          ]
         ],
         "hovertemplate": "<b>%{hovertext}</b><br><br>TopWords=%{customdata[1]}<br>x=%{x}<br>y=%{y}<br>created_at=%{customdata[0]}<extra></extra>",
         "hovertext": [
          "Iyoha drohtlange Pause!",
          "In dieser Hölle lebenrund 4000 Kinder",
          "Preußen-Doc beklagt Vertrauens-Verlust",
          "Deshalb steht uns die härteste NFL-Saison aller Zeiten bevor",
          "Vettel-Frust beim Ferrari-Fest",
          "Zverevs Titel-Traum zerstört",
          "„Krieger” Sobottka zieht wieder die Strippen",
          "Kownacki wankt über den Platz",
          "Wolf bekommtdie Nr. 1",
          "FINALE statt BLAMAGE!",
          "Zum Pokal-Start nur Hennings da"
         ],
         "legendgroup": "Fortuna Düsseldorf | Trainer | Pause | Uwe Rösler | Platz | Liga | Ferrari | Fortuna",
         "marker": {
          "color": "#ab63fa",
          "line": {
           "color": "DarkSlateGrey",
           "width": 0.15
          },
          "opacity": 0.8,
          "size": 9,
          "symbol": "circle"
         },
         "mode": "markers",
         "name": "Fortuna Düsseldorf | Trainer | Pause | Uwe Rösler | Platz | Liga | Ferrari | Fortuna",
         "orientation": "v",
         "showlegend": true,
         "type": "scatter",
         "x": [
          9.971059799194336,
          8.126030921936035,
          10.013321876525879,
          11.509836196899414,
          6.70258903503418,
          12.72299575805664,
          9.286157608032227,
          9.7728271484375,
          9.77281665802002,
          12.695822715759277,
          9.598959922790527
         ],
         "xaxis": "x",
         "y": [
          0.6501989960670471,
          9.390192031860352,
          0.8890371322631836,
          1.926093578338623,
          3.6336779594421387,
          2.654327869415283,
          -0.38138848543167114,
          0.36547401547431946,
          0.5272632241249084,
          2.6763579845428467,
          -0.013867904432117939
         ],
         "yaxis": "y"
        },
        {
         "customdata": [
          [
           "2020-09-13",
           "Formel 1 | Mugello | Rennen | Ferrari | Sebastian Vettel | Aston Martin | Massen-Crash | Wechsel"
          ],
          [
           "2020-09-11",
           "Formel 1 | Mugello | Rennen | Ferrari | Sebastian Vettel | Aston Martin | Massen-Crash | Wechsel"
          ],
          [
           "2020-09-11",
           "Formel 1 | Mugello | Rennen | Ferrari | Sebastian Vettel | Aston Martin | Massen-Crash | Wechsel"
          ],
          [
           "2020-09-14",
           "Formel 1 | Mugello | Rennen | Ferrari | Sebastian Vettel | Aston Martin | Massen-Crash | Wechsel"
          ],
          [
           "2020-09-13",
           "Formel 1 | Mugello | Rennen | Ferrari | Sebastian Vettel | Aston Martin | Massen-Crash | Wechsel"
          ],
          [
           "2020-09-12",
           "Formel 1 | Mugello | Rennen | Ferrari | Sebastian Vettel | Aston Martin | Massen-Crash | Wechsel"
          ],
          [
           "2020-09-10",
           "Formel 1 | Mugello | Rennen | Ferrari | Sebastian Vettel | Aston Martin | Massen-Crash | Wechsel"
          ],
          [
           "2020-09-13",
           "Formel 1 | Mugello | Rennen | Ferrari | Sebastian Vettel | Aston Martin | Massen-Crash | Wechsel"
          ],
          [
           "2020-09-10",
           "Formel 1 | Mugello | Rennen | Ferrari | Sebastian Vettel | Aston Martin | Massen-Crash | Wechsel"
          ],
          [
           "2020-09-13",
           "Formel 1 | Mugello | Rennen | Ferrari | Sebastian Vettel | Aston Martin | Massen-Crash | Wechsel"
          ],
          [
           "2020-09-12",
           "Formel 1 | Mugello | Rennen | Ferrari | Sebastian Vettel | Aston Martin | Massen-Crash | Wechsel"
          ],
          [
           "2020-09-12",
           "Formel 1 | Mugello | Rennen | Ferrari | Sebastian Vettel | Aston Martin | Massen-Crash | Wechsel"
          ],
          [
           "2020-09-14",
           "Formel 1 | Mugello | Rennen | Ferrari | Sebastian Vettel | Aston Martin | Massen-Crash | Wechsel"
          ],
          [
           "2020-09-14",
           "Formel 1 | Mugello | Rennen | Ferrari | Sebastian Vettel | Aston Martin | Massen-Crash | Wechsel"
          ],
          [
           "2020-09-13",
           "Formel 1 | Mugello | Rennen | Ferrari | Sebastian Vettel | Aston Martin | Massen-Crash | Wechsel"
          ],
          [
           "2020-09-13",
           "Formel 1 | Mugello | Rennen | Ferrari | Sebastian Vettel | Aston Martin | Massen-Crash | Wechsel"
          ],
          [
           "2020-09-11",
           "Formel 1 | Mugello | Rennen | Ferrari | Sebastian Vettel | Aston Martin | Massen-Crash | Wechsel"
          ],
          [
           "2020-09-13",
           "Formel 1 | Mugello | Rennen | Ferrari | Sebastian Vettel | Aston Martin | Massen-Crash | Wechsel"
          ],
          [
           "2020-09-12",
           "Formel 1 | Mugello | Rennen | Ferrari | Sebastian Vettel | Aston Martin | Massen-Crash | Wechsel"
          ],
          [
           "2020-09-13",
           "Formel 1 | Mugello | Rennen | Ferrari | Sebastian Vettel | Aston Martin | Massen-Crash | Wechsel"
          ],
          [
           "2020-09-09",
           "Formel 1 | Mugello | Rennen | Ferrari | Sebastian Vettel | Aston Martin | Massen-Crash | Wechsel"
          ],
          [
           "2020-09-10",
           "Formel 1 | Mugello | Rennen | Ferrari | Sebastian Vettel | Aston Martin | Massen-Crash | Wechsel"
          ],
          [
           "2020-09-11",
           "Formel 1 | Mugello | Rennen | Ferrari | Sebastian Vettel | Aston Martin | Massen-Crash | Wechsel"
          ],
          [
           "2020-09-10",
           "Formel 1 | Mugello | Rennen | Ferrari | Sebastian Vettel | Aston Martin | Massen-Crash | Wechsel"
          ]
         ],
         "hovertemplate": "<b>%{hovertext}</b><br><br>TopWords=%{customdata[1]}<br>x=%{x}<br>y=%{y}<br>created_at=%{customdata[0]}<extra></extra>",
         "hovertext": [
          "Mick fährt SchumisRekord-Ferrari",
          "Ernst August fährtzur Nervenklinik",
          "Formel 1 schenkt Ferrari ein Heim-Rennen",
          "Darum gibt's gerade soviele Crashs in der Formel 1",
          "MotoGP-Krimi! Last-Minute-Schock für Rossi",
          "Alles Müller, oder Rast?",
          "BILD enthülltden Vettel-Vertrag",
          "Massen-Crash beim Neustart",
          "FORMEL BOND",
          "„Wollen die uns töten, oder was!?“",
          "„Mein Vater hat eine Legende geschaffen“",
          "Moto-GP-Legende Rossi fährt mit Viagra-Helm",
          "So kam es zum Massen-Crash in der Formel 1",
          "Hamilton braucht noch 309,7 Kilometer bis zum Schumi-Rekord",
          "Hamilton fährt dem Chaos davon",
          "„Es gibt viel, dass ichvon Mick lernen kann“",
          "Neue Privatleasing-Schnäppchen",
          "Dieser Rennfahrer fährt mit Gottes Segen",
          "Ferraris Aufwärmrunde",
          "Hamilton mit Protest-Shirtauf dem Podium",
          "Mick fährtSchumis rote Göttin",
          "VETTEL Darum gehe ichzu Aston Martin",
          "Das erwartet Vettelbei Aston Martin",
          "Vettel hat schon einen neuen Dienstwagen"
         ],
         "legendgroup": "Formel 1 | Mugello | Rennen | Ferrari | Sebastian Vettel | Aston Martin | Massen-Crash | Wechsel",
         "marker": {
          "color": "#FFA15A",
          "line": {
           "color": "DarkSlateGrey",
           "width": 0.15
          },
          "opacity": 0.8,
          "size": 9,
          "symbol": "circle"
         },
         "mode": "markers",
         "name": "Formel 1 | Mugello | Rennen | Ferrari | Sebastian Vettel | Aston Martin | Massen-Crash | Wechsel",
         "orientation": "v",
         "showlegend": true,
         "type": "scatter",
         "x": [
          6.881146430969238,
          7.037681579589844,
          6.777223110198975,
          6.753021717071533,
          6.685262203216553,
          6.736511707305908,
          6.800724029541016,
          6.687175273895264,
          6.856520652770996,
          6.788315773010254,
          6.921940326690674,
          6.91500997543335,
          6.65254020690918,
          6.782012462615967,
          6.691393852233887,
          6.836850166320801,
          7.185091018676758,
          6.793588161468506,
          6.707310676574707,
          6.689414024353027,
          6.871706485748291,
          6.808995246887207,
          6.797173500061035,
          6.844361782073975
         ],
         "xaxis": "x",
         "y": [
          3.8333377838134766,
          4.315108299255371,
          3.6885604858398438,
          3.6661338806152344,
          3.628202438354492,
          3.643673896789551,
          3.7810897827148438,
          3.5851528644561768,
          3.8301336765289307,
          3.653562068939209,
          3.859529733657837,
          3.76887583732605,
          3.583294153213501,
          3.699023962020874,
          3.6093621253967285,
          3.6675002574920654,
          5.229524612426758,
          3.756465435028076,
          3.661126136779785,
          3.648846387863159,
          3.86362361907959,
          3.717475414276123,
          3.809438943862915,
          3.857039451599121
         ],
         "yaxis": "y"
        },
        {
         "customdata": [
          [
           "2020-09-10",
           "Love Island | Leute | Star | Stars | Hollywood | Instagram | Netflix | Tatort"
          ],
          [
           "2020-09-12",
           "Love Island | Leute | Star | Stars | Hollywood | Instagram | Netflix | Tatort"
          ],
          [
           "2020-09-11",
           "Love Island | Leute | Star | Stars | Hollywood | Instagram | Netflix | Tatort"
          ],
          [
           "2020-09-09",
           "Love Island | Leute | Star | Stars | Hollywood | Instagram | Netflix | Tatort"
          ],
          [
           "2020-09-11",
           "Love Island | Leute | Star | Stars | Hollywood | Instagram | Netflix | Tatort"
          ],
          [
           "2020-09-13",
           "Love Island | Leute | Star | Stars | Hollywood | Instagram | Netflix | Tatort"
          ],
          [
           "2020-09-12",
           "Love Island | Leute | Star | Stars | Hollywood | Instagram | Netflix | Tatort"
          ],
          [
           "2020-09-11",
           "Love Island | Leute | Star | Stars | Hollywood | Instagram | Netflix | Tatort"
          ],
          [
           "2020-09-10",
           "Love Island | Leute | Star | Stars | Hollywood | Instagram | Netflix | Tatort"
          ],
          [
           "2020-09-11",
           "Love Island | Leute | Star | Stars | Hollywood | Instagram | Netflix | Tatort"
          ],
          [
           "2020-09-14",
           "Love Island | Leute | Star | Stars | Hollywood | Instagram | Netflix | Tatort"
          ],
          [
           "2020-09-10",
           "Love Island | Leute | Star | Stars | Hollywood | Instagram | Netflix | Tatort"
          ],
          [
           "2020-09-10",
           "Love Island | Leute | Star | Stars | Hollywood | Instagram | Netflix | Tatort"
          ],
          [
           "2020-09-09",
           "Love Island | Leute | Star | Stars | Hollywood | Instagram | Netflix | Tatort"
          ],
          [
           "2020-09-10",
           "Love Island | Leute | Star | Stars | Hollywood | Instagram | Netflix | Tatort"
          ],
          [
           "2020-09-12",
           "Love Island | Leute | Star | Stars | Hollywood | Instagram | Netflix | Tatort"
          ],
          [
           "2020-09-11",
           "Love Island | Leute | Star | Stars | Hollywood | Instagram | Netflix | Tatort"
          ],
          [
           "2020-09-13",
           "Love Island | Leute | Star | Stars | Hollywood | Instagram | Netflix | Tatort"
          ],
          [
           "2020-09-14",
           "Love Island | Leute | Star | Stars | Hollywood | Instagram | Netflix | Tatort"
          ],
          [
           "2020-09-09",
           "Love Island | Leute | Star | Stars | Hollywood | Instagram | Netflix | Tatort"
          ],
          [
           "2020-09-10",
           "Love Island | Leute | Star | Stars | Hollywood | Instagram | Netflix | Tatort"
          ],
          [
           "2020-09-11",
           "Love Island | Leute | Star | Stars | Hollywood | Instagram | Netflix | Tatort"
          ],
          [
           "2020-09-09",
           "Love Island | Leute | Star | Stars | Hollywood | Instagram | Netflix | Tatort"
          ],
          [
           "2020-09-09",
           "Love Island | Leute | Star | Stars | Hollywood | Instagram | Netflix | Tatort"
          ],
          [
           "2020-09-09",
           "Love Island | Leute | Star | Stars | Hollywood | Instagram | Netflix | Tatort"
          ],
          [
           "2020-09-10",
           "Love Island | Leute | Star | Stars | Hollywood | Instagram | Netflix | Tatort"
          ],
          [
           "2020-09-11",
           "Love Island | Leute | Star | Stars | Hollywood | Instagram | Netflix | Tatort"
          ],
          [
           "2020-09-14",
           "Love Island | Leute | Star | Stars | Hollywood | Instagram | Netflix | Tatort"
          ],
          [
           "2020-09-12",
           "Love Island | Leute | Star | Stars | Hollywood | Instagram | Netflix | Tatort"
          ],
          [
           "2020-09-11",
           "Love Island | Leute | Star | Stars | Hollywood | Instagram | Netflix | Tatort"
          ],
          [
           "2020-09-10",
           "Love Island | Leute | Star | Stars | Hollywood | Instagram | Netflix | Tatort"
          ],
          [
           "2020-09-12",
           "Love Island | Leute | Star | Stars | Hollywood | Instagram | Netflix | Tatort"
          ],
          [
           "2020-09-13",
           "Love Island | Leute | Star | Stars | Hollywood | Instagram | Netflix | Tatort"
          ],
          [
           "2020-09-12",
           "Love Island | Leute | Star | Stars | Hollywood | Instagram | Netflix | Tatort"
          ],
          [
           "2020-09-11",
           "Love Island | Leute | Star | Stars | Hollywood | Instagram | Netflix | Tatort"
          ],
          [
           "2020-09-10",
           "Love Island | Leute | Star | Stars | Hollywood | Instagram | Netflix | Tatort"
          ],
          [
           "2020-09-11",
           "Love Island | Leute | Star | Stars | Hollywood | Instagram | Netflix | Tatort"
          ],
          [
           "2020-09-12",
           "Love Island | Leute | Star | Stars | Hollywood | Instagram | Netflix | Tatort"
          ],
          [
           "2020-09-12",
           "Love Island | Leute | Star | Stars | Hollywood | Instagram | Netflix | Tatort"
          ],
          [
           "2020-09-09",
           "Love Island | Leute | Star | Stars | Hollywood | Instagram | Netflix | Tatort"
          ],
          [
           "2020-09-13",
           "Love Island | Leute | Star | Stars | Hollywood | Instagram | Netflix | Tatort"
          ],
          [
           "2020-09-11",
           "Love Island | Leute | Star | Stars | Hollywood | Instagram | Netflix | Tatort"
          ],
          [
           "2020-09-11",
           "Love Island | Leute | Star | Stars | Hollywood | Instagram | Netflix | Tatort"
          ],
          [
           "2020-09-11",
           "Love Island | Leute | Star | Stars | Hollywood | Instagram | Netflix | Tatort"
          ],
          [
           "2020-09-13",
           "Love Island | Leute | Star | Stars | Hollywood | Instagram | Netflix | Tatort"
          ],
          [
           "2020-09-13",
           "Love Island | Leute | Star | Stars | Hollywood | Instagram | Netflix | Tatort"
          ],
          [
           "2020-09-10",
           "Love Island | Leute | Star | Stars | Hollywood | Instagram | Netflix | Tatort"
          ],
          [
           "2020-09-10",
           "Love Island | Leute | Star | Stars | Hollywood | Instagram | Netflix | Tatort"
          ],
          [
           "2020-09-13",
           "Love Island | Leute | Star | Stars | Hollywood | Instagram | Netflix | Tatort"
          ],
          [
           "2020-09-14",
           "Love Island | Leute | Star | Stars | Hollywood | Instagram | Netflix | Tatort"
          ],
          [
           "2020-09-13",
           "Love Island | Leute | Star | Stars | Hollywood | Instagram | Netflix | Tatort"
          ],
          [
           "2020-09-10",
           "Love Island | Leute | Star | Stars | Hollywood | Instagram | Netflix | Tatort"
          ],
          [
           "2020-09-10",
           "Love Island | Leute | Star | Stars | Hollywood | Instagram | Netflix | Tatort"
          ],
          [
           "2020-09-14",
           "Love Island | Leute | Star | Stars | Hollywood | Instagram | Netflix | Tatort"
          ],
          [
           "2020-09-14",
           "Love Island | Leute | Star | Stars | Hollywood | Instagram | Netflix | Tatort"
          ],
          [
           "2020-09-13",
           "Love Island | Leute | Star | Stars | Hollywood | Instagram | Netflix | Tatort"
          ],
          [
           "2020-09-09",
           "Love Island | Leute | Star | Stars | Hollywood | Instagram | Netflix | Tatort"
          ],
          [
           "2020-09-10",
           "Love Island | Leute | Star | Stars | Hollywood | Instagram | Netflix | Tatort"
          ],
          [
           "2020-09-10",
           "Love Island | Leute | Star | Stars | Hollywood | Instagram | Netflix | Tatort"
          ],
          [
           "2020-09-14",
           "Love Island | Leute | Star | Stars | Hollywood | Instagram | Netflix | Tatort"
          ]
         ],
         "hovertemplate": "<b>%{hovertext}</b><br><br>TopWords=%{customdata[1]}<br>x=%{x}<br>y=%{y}<br>created_at=%{customdata[0]}<extra></extra>",
         "hovertext": [
          "So stinkreich ist derKardashian-Clan",
          "Sex-Proll Henrik knutscht fremd",
          "Kleinwüchsiger Wrestler Stevie Lee stirbt mit 54 Jahren",
          "Queere Mega-Besetzung für neue Netflix-Serie",
          "Flotte Frauen machen Abts DTM-Stars schnell!",
          "Hollywood-König zeigt seine Prinzen-Familie",
          "Hier sprießen nicht nur die Blumen",
          "Nach den Knutsch-Fotos servierte er seine Verlobte ab!",
          "Drama um Raabs Kult-Rentner Ingrid und Klaus",
          "Da glüht der Sand am Strand",
          "Liebt Pietro Lombardi diese Influencerin?",
          "„So etwas Asoziales habe ich noch nicht erlebt“",
          "Christine Neubauer spielt gegen Corona-Krise",
          "„Wir sind im Krankenhaus für Geisteskranke“",
          "Ruiniert das Virusunsere Kultur?",
          "Schlagabtausch der Dschungelnattern!",
          "Steffen Hensslerbricht TV-Dreh ab",
          "Sieht so der neue Feminismus aus?",
          "Ex-Porno-Star (24)stirbt im Schlaf",
          "Politiker-Enkel hat Sex bei „Love Island“!",
          "Politiker-Enkel wird zum Sex-Proll",
          "Zac Efrons Neue ist Kellnerin",
          "Badesalz macht Radio",
          "Mein Freund macht mich verrückt",
          "„Twin Peaks“- und „Fargo“- Fans bitte einschalten!",
          "Dieser Influencer-Kussheizte Venedig ein!",
          "So heftig war dieTorten-Attacke wirklich",
          "Penis-Protz Hendrik geht auf Luca los",
          "„Ich denke nicht an das Alter“",
          "Heidis Next Topmodel",
          "Der „Tatort“-Star musste Soforthilfe beantragen",
          "Darum ist böse besser als nett",
          "Wir sind das neue Traumpaar im TV",
          "Micaela (36) ist scharf auf Gerhard Schröder (76)",
          "Was ein altes Video überden Sex-Proll verrät",
          "Dschungelcamp-Star Elena Miras ist wieder solo",
          "Fan-Liebling André Dietzsteigt nach 14 Jahren aus!",
          "Jetzt beenden sie sogar die Familientherapie",
          "Kleider machen LEADER",
          "Falsche Tierliebe tut weh",
          "Garmisch-Partenkirchen sauer auf die Superspreaderin",
          "Pädophilie-Skandal um Netflix-Film „Cuties“!",
          "Heiße Poledance-Einlage inder „Love Island“-Villa",
          "Fummel-Premiere auf „Love Island“",
          "„Sexy Granaten“ sprengen die Paare auseinander",
          "DIESEN Job macht Laura Müller neben Bohlen und Co.",
          "Nachwuchs bei „Kampf der Realitystars“?",
          "Heidi Klums Prügel-Model: Drogen-Entzug im Kloster!",
          "„Meine tote Mutter hilft mir beim Songschreiben“",
          "Elena Carrière (23) zeigt ihre Cellulite",
          "Warum Hollywood vor China kuscht",
          "Rosige Rache an Brad Pitt",
          "Heiße Schaumparty in der „Love Island“-Villa",
          "Wie viel vom Fall Nawalnysteckte in diesem „Tatort“?",
          "Pietro Lombardi ist nicht mehr single!",
          "Raten Sie mal, wer hier auf Prince macht",
          "Diese Stars waren ihre großen Kinorollen ganz schnell los",
          "Bitte keine politischen Regeln für die Kunst!",
          "„Game of Thrones“-Star Diana Rigg gestorben",
          "Wie Raab hinter der Kamera die Fäden zieht"
         ],
         "legendgroup": "Love Island | Leute | Star | Stars | Hollywood | Instagram | Netflix | Tatort",
         "marker": {
          "color": "#19d3f3",
          "line": {
           "color": "DarkSlateGrey",
           "width": 0.15
          },
          "opacity": 0.8,
          "size": 9,
          "symbol": "circle"
         },
         "mode": "markers",
         "name": "Love Island | Leute | Star | Stars | Hollywood | Instagram | Netflix | Tatort",
         "orientation": "v",
         "showlegend": true,
         "type": "scatter",
         "x": [
          13.055207252502441,
          12.828500747680664,
          12.290091514587402,
          12.40361213684082,
          12.53978157043457,
          12.248766899108887,
          13.3311767578125,
          12.844292640686035,
          12.066308975219727,
          13.243439674377441,
          12.784393310546875,
          12.37369155883789,
          11.467768669128418,
          11.962915420532227,
          11.62584114074707,
          12.475545883178711,
          11.350257873535156,
          12.863122940063477,
          12.697541236877441,
          12.572009086608887,
          12.669740676879883,
          12.934650421142578,
          10.992456436157227,
          12.542481422424316,
          12.32080078125,
          12.796577453613281,
          12.444981575012207,
          12.68369197845459,
          12.229650497436523,
          13.33903694152832,
          11.645235061645508,
          11.763988494873047,
          12.48715877532959,
          12.594265937805176,
          12.238348960876465,
          12.747881889343262,
          11.491742134094238,
          12.875288963317871,
          13.055956840515137,
          12.25864315032959,
          9.46469783782959,
          12.30384635925293,
          12.662044525146484,
          12.76392936706543,
          12.62694263458252,
          12.175762176513672,
          12.739762306213379,
          12.864887237548828,
          12.01346492767334,
          13.211614608764648,
          12.432641983032227,
          12.725199699401855,
          12.23592472076416,
          11.660481452941895,
          12.893928527832031,
          12.383322715759277,
          12.048340797424316,
          12.156098365783691,
          12.664224624633789,
          11.73320484161377
         ],
         "xaxis": "x",
         "y": [
          5.514403343200684,
          4.898579120635986,
          6.632202625274658,
          5.9815874099731445,
          5.628365993499756,
          6.020547389984131,
          5.224132537841797,
          5.987728595733643,
          4.576275825500488,
          5.283046722412109,
          5.313691139221191,
          4.611173152923584,
          5.432664394378662,
          4.473970413208008,
          4.251086235046387,
          4.591573715209961,
          5.179520130157471,
          5.079470634460449,
          6.580750465393066,
          4.814076900482178,
          4.95700216293335,
          5.801087379455566,
          5.205455780029297,
          6.297323703765869,
          6.311933994293213,
          5.7183427810668945,
          4.753492832183838,
          5.075772285461426,
          6.208431243896484,
          5.244211673736572,
          4.2303547859191895,
          5.065193176269531,
          4.965527057647705,
          4.576792240142822,
          5.117424011230469,
          5.520219802856445,
          5.9151482582092285,
          5.51981782913208,
          5.363516330718994,
          6.466739654541016,
          8.32974910736084,
          6.104605674743652,
          4.9608473777771,
          4.924228191375732,
          4.7392754554748535,
          4.637598991394043,
          5.208451747894287,
          4.791311264038086,
          5.476814270019531,
          5.233630657196045,
          6.1398210525512695,
          5.710227966308594,
          4.668601036071777,
          5.750148773193359,
          5.261578559875488,
          4.57847785949707,
          5.862100601196289,
          5.7953362464904785,
          6.3370842933654785,
          4.72565221786499
         ],
         "yaxis": "y"
        },
        {
         "customdata": [
          [
           "2020-09-12",
           "Kalifornien | Brände | Westküste | Flammen | Waldbrände | US | Smog | Feuer"
          ],
          [
           "2020-09-11",
           "Kalifornien | Brände | Westküste | Flammen | Waldbrände | US | Smog | Feuer"
          ],
          [
           "2020-09-14",
           "Kalifornien | Brände | Westküste | Flammen | Waldbrände | US | Smog | Feuer"
          ]
         ],
         "hovertemplate": "<b>%{hovertext}</b><br><br>TopWords=%{customdata[1]}<br>x=%{x}<br>y=%{y}<br>created_at=%{customdata[0]}<extra></extra>",
         "hovertext": [
          "Feuerexperte: „Eigentlich muss es noch mehr brennen!“",
          "Schon 15 Feuer-Opfer an der US-Westküste",
          "35 Tote durch Kalifornien-Brände"
         ],
         "legendgroup": "Kalifornien | Brände | Westküste | Flammen | Waldbrände | US | Smog | Feuer",
         "marker": {
          "color": "#FF6692",
          "line": {
           "color": "DarkSlateGrey",
           "width": 0.15
          },
          "opacity": 0.8,
          "size": 9,
          "symbol": "circle"
         },
         "mode": "markers",
         "name": "Kalifornien | Brände | Westküste | Flammen | Waldbrände | US | Smog | Feuer",
         "orientation": "v",
         "showlegend": true,
         "type": "scatter",
         "x": [
          7.896129608154297,
          7.779565334320068,
          7.55695915222168
         ],
         "xaxis": "x",
         "y": [
          10.701432228088379,
          10.589482307434082,
          10.609604835510254
         ],
         "yaxis": "y"
        },
        {
         "customdata": [
          [
           "2020-09-13",
           "Corona | Garmisch-Partenkirchen | Flammen | FIFA | Menschen | Spieler | Ratings | Schweinepest"
          ],
          [
           "2020-09-13",
           "Corona | Garmisch-Partenkirchen | Flammen | FIFA | Menschen | Spieler | Ratings | Schweinepest"
          ],
          [
           "2020-09-14",
           "Corona | Garmisch-Partenkirchen | Flammen | FIFA | Menschen | Spieler | Ratings | Schweinepest"
          ],
          [
           "2020-09-12",
           "Corona | Garmisch-Partenkirchen | Flammen | FIFA | Menschen | Spieler | Ratings | Schweinepest"
          ],
          [
           "2020-09-13",
           "Corona | Garmisch-Partenkirchen | Flammen | FIFA | Menschen | Spieler | Ratings | Schweinepest"
          ],
          [
           "2020-09-10",
           "Corona | Garmisch-Partenkirchen | Flammen | FIFA | Menschen | Spieler | Ratings | Schweinepest"
          ],
          [
           "2020-09-14",
           "Corona | Garmisch-Partenkirchen | Flammen | FIFA | Menschen | Spieler | Ratings | Schweinepest"
          ],
          [
           "2020-09-12",
           "Corona | Garmisch-Partenkirchen | Flammen | FIFA | Menschen | Spieler | Ratings | Schweinepest"
          ],
          [
           "2020-09-12",
           "Corona | Garmisch-Partenkirchen | Flammen | FIFA | Menschen | Spieler | Ratings | Schweinepest"
          ],
          [
           "2020-09-12",
           "Corona | Garmisch-Partenkirchen | Flammen | FIFA | Menschen | Spieler | Ratings | Schweinepest"
          ],
          [
           "2020-09-11",
           "Corona | Garmisch-Partenkirchen | Flammen | FIFA | Menschen | Spieler | Ratings | Schweinepest"
          ],
          [
           "2020-09-11",
           "Corona | Garmisch-Partenkirchen | Flammen | FIFA | Menschen | Spieler | Ratings | Schweinepest"
          ],
          [
           "2020-09-12",
           "Corona | Garmisch-Partenkirchen | Flammen | FIFA | Menschen | Spieler | Ratings | Schweinepest"
          ],
          [
           "2020-09-10",
           "Corona | Garmisch-Partenkirchen | Flammen | FIFA | Menschen | Spieler | Ratings | Schweinepest"
          ],
          [
           "2020-09-10",
           "Corona | Garmisch-Partenkirchen | Flammen | FIFA | Menschen | Spieler | Ratings | Schweinepest"
          ],
          [
           "2020-09-11",
           "Corona | Garmisch-Partenkirchen | Flammen | FIFA | Menschen | Spieler | Ratings | Schweinepest"
          ],
          [
           "2020-09-13",
           "Corona | Garmisch-Partenkirchen | Flammen | FIFA | Menschen | Spieler | Ratings | Schweinepest"
          ],
          [
           "2020-09-12",
           "Corona | Garmisch-Partenkirchen | Flammen | FIFA | Menschen | Spieler | Ratings | Schweinepest"
          ],
          [
           "2020-09-11",
           "Corona | Garmisch-Partenkirchen | Flammen | FIFA | Menschen | Spieler | Ratings | Schweinepest"
          ],
          [
           "2020-09-13",
           "Corona | Garmisch-Partenkirchen | Flammen | FIFA | Menschen | Spieler | Ratings | Schweinepest"
          ],
          [
           "2020-09-11",
           "Corona | Garmisch-Partenkirchen | Flammen | FIFA | Menschen | Spieler | Ratings | Schweinepest"
          ],
          [
           "2020-09-11",
           "Corona | Garmisch-Partenkirchen | Flammen | FIFA | Menschen | Spieler | Ratings | Schweinepest"
          ],
          [
           "2020-09-12",
           "Corona | Garmisch-Partenkirchen | Flammen | FIFA | Menschen | Spieler | Ratings | Schweinepest"
          ],
          [
           "2020-09-14",
           "Corona | Garmisch-Partenkirchen | Flammen | FIFA | Menschen | Spieler | Ratings | Schweinepest"
          ],
          [
           "2020-09-14",
           "Corona | Garmisch-Partenkirchen | Flammen | FIFA | Menschen | Spieler | Ratings | Schweinepest"
          ],
          [
           "2020-09-13",
           "Corona | Garmisch-Partenkirchen | Flammen | FIFA | Menschen | Spieler | Ratings | Schweinepest"
          ],
          [
           "2020-09-11",
           "Corona | Garmisch-Partenkirchen | Flammen | FIFA | Menschen | Spieler | Ratings | Schweinepest"
          ],
          [
           "2020-09-09",
           "Corona | Garmisch-Partenkirchen | Flammen | FIFA | Menschen | Spieler | Ratings | Schweinepest"
          ],
          [
           "2020-09-09",
           "Corona | Garmisch-Partenkirchen | Flammen | FIFA | Menschen | Spieler | Ratings | Schweinepest"
          ],
          [
           "2020-09-10",
           "Corona | Garmisch-Partenkirchen | Flammen | FIFA | Menschen | Spieler | Ratings | Schweinepest"
          ],
          [
           "2020-09-10",
           "Corona | Garmisch-Partenkirchen | Flammen | FIFA | Menschen | Spieler | Ratings | Schweinepest"
          ],
          [
           "2020-09-14",
           "Corona | Garmisch-Partenkirchen | Flammen | FIFA | Menschen | Spieler | Ratings | Schweinepest"
          ],
          [
           "2020-09-13",
           "Corona | Garmisch-Partenkirchen | Flammen | FIFA | Menschen | Spieler | Ratings | Schweinepest"
          ],
          [
           "2020-09-10",
           "Corona | Garmisch-Partenkirchen | Flammen | FIFA | Menschen | Spieler | Ratings | Schweinepest"
          ],
          [
           "2020-09-12",
           "Corona | Garmisch-Partenkirchen | Flammen | FIFA | Menschen | Spieler | Ratings | Schweinepest"
          ],
          [
           "2020-09-11",
           "Corona | Garmisch-Partenkirchen | Flammen | FIFA | Menschen | Spieler | Ratings | Schweinepest"
          ],
          [
           "2020-09-12",
           "Corona | Garmisch-Partenkirchen | Flammen | FIFA | Menschen | Spieler | Ratings | Schweinepest"
          ],
          [
           "2020-09-11",
           "Corona | Garmisch-Partenkirchen | Flammen | FIFA | Menschen | Spieler | Ratings | Schweinepest"
          ],
          [
           "2020-09-12",
           "Corona | Garmisch-Partenkirchen | Flammen | FIFA | Menschen | Spieler | Ratings | Schweinepest"
          ],
          [
           "2020-09-09",
           "Corona | Garmisch-Partenkirchen | Flammen | FIFA | Menschen | Spieler | Ratings | Schweinepest"
          ],
          [
           "2020-09-13",
           "Corona | Garmisch-Partenkirchen | Flammen | FIFA | Menschen | Spieler | Ratings | Schweinepest"
          ]
         ],
         "hovertemplate": "<b>%{hovertext}</b><br><br>TopWords=%{customdata[1]}<br>x=%{x}<br>y=%{y}<br>created_at=%{customdata[0]}<extra></extra>",
         "hovertext": [
          "Goldhändchen Rösler!",
          "Todesfalle Oldtimer",
          "SCHAUMhochzeit auf Schloss Bückeburg",
          "BMW fackelt auf A57 ab",
          "Thiem gegen Zverev –das Kumpel-Duell!",
          "Entflogener Hornvogel eingefangen",
          "Das sagen die deutscheneSport-Stars zu den Ratings!",
          "Eine Stadt wartet auf Corona-Ergebnisse",
          "Masturbieren Sie mal mit Ihrem Partner!",
          "„Er war einer der liebevollsten Menschen der Welt“",
          "Deutschland nimmt 100 bis 150 Minderjährige auf",
          "Kleines ABC der Schweinepest",
          "So hart trifft uns der Exportstopp nach China",
          "So werden aus 10 000 Euro mit etwas Geduld 99 000 Euro!",
          "Eltern auf Flucht vor dem Feuer verletzt, Baby tot!",
          "Superspreaderin (26) zieht hochinfektiös durch Bars",
          "Audi ist das Mercedes der DTM",
          "Motorrad-Werkstatt in Flammen",
          "Die Kinder von Moria lernen weiter",
          "8 Gründe, wieso Corona der Liebe gut tut!",
          "Spahn-Auftritt bei BILD-Talk ist jetzt sogar Kunst",
          "Garmisch verschärft Corona-Maßnahmen",
          "Die Obert und ihr Liebesnest",
          "Urlaub in der Villa von „Der Prinz von Bel-Air“ gefällig?",
          "Diese Spieler solltetihr euch holen!",
          "Im TV! Zverevs Bruderkommen die Tränen",
          "Pfiffe für Protestaktion bei NFL-Auftakt",
          "Motorradfahrer tödlich verunglückt",
          "Brady muss für denTitel alles neu lernen",
          "Großbrand am Hafen von Beirut",
          "Laster fackelt auf der A5 ab",
          "EU muss Chinas Firmen-„Einkaufstour“ stoppen!",
          "Anwalt: Superspreaderin droht lange Haftstrafe",
          "E-Bike-Fahrer stirbt nach Sturz",
          "China verbietet Import von deutschem Schweinefleisch",
          "Fußball-Stars motzen über FIFA-Wertungen",
          "Nächstes Pokal-Spielvor Absage",
          "Warten auf das Unstrut-Kroko",
          "Feuerteufel treibt im Kölner Westen sein Unwesen",
          "Wendlers Laura riskiert ’ne dicke Lippe",
          "Pub-Betreiber total fertig: „Das ist eine Katastrophe!“"
         ],
         "legendgroup": "Corona | Garmisch-Partenkirchen | Flammen | FIFA | Menschen | Spieler | Ratings | Schweinepest",
         "marker": {
          "color": "#B6E880",
          "line": {
           "color": "DarkSlateGrey",
           "width": 0.15
          },
          "opacity": 0.8,
          "size": 9,
          "symbol": "circle"
         },
         "mode": "markers",
         "name": "Corona | Garmisch-Partenkirchen | Flammen | FIFA | Menschen | Spieler | Ratings | Schweinepest",
         "orientation": "v",
         "showlegend": true,
         "type": "scatter",
         "x": [
          9.448525428771973,
          9.644418716430664,
          12.136643409729004,
          9.24547004699707,
          12.629237174987793,
          11.416728019714355,
          8.85899543762207,
          9.23392105102539,
          12.736091613769531,
          11.255111694335938,
          8.058140754699707,
          10.187541961669922,
          10.112308502197266,
          6.823204517364502,
          7.797583103179932,
          9.111337661743164,
          6.674614429473877,
          9.053813934326172,
          10.108792304992676,
          11.934219360351562,
          11.62199878692627,
          8.960362434387207,
          11.814910888671875,
          12.359639167785645,
          9.068026542663574,
          12.628453254699707,
          11.53852367401123,
          9.695475578308105,
          11.42745304107666,
          8.249178886413574,
          9.405328750610352,
          6.950527191162109,
          11.0968599319458,
          9.352320671081543,
          10.234094619750977,
          8.395727157592773,
          9.439537048339844,
          11.13762378692627,
          9.664620399475098,
          13.194550514221191,
          9.389166831970215
         ],
         "xaxis": "x",
         "y": [
          -0.20725129544734955,
          12.775146484375,
          5.684135437011719,
          11.99474811553955,
          2.69136381149292,
          8.756854057312012,
          -0.8162720799446106,
          8.032865524291992,
          6.779071807861328,
          6.389150142669678,
          8.939056396484375,
          8.201205253601074,
          7.7221574783325195,
          6.087931156158447,
          10.583390235900879,
          7.896300315856934,
          3.6395034790039062,
          11.674991607666016,
          7.369866847991943,
          7.158858776092529,
          4.774600505828857,
          7.423869609832764,
          5.474279403686523,
          5.837367057800293,
          3.2780392169952393,
          2.7177371978759766,
          2.0657877922058105,
          12.626008033752441,
          1.83754301071167,
          10.063302993774414,
          12.702474594116211,
          8.629575729370117,
          7.049202919006348,
          12.300150871276855,
          7.899089813232422,
          1.0926539897918701,
          1.4147981405258179,
          8.424824714660645,
          12.209867477416992,
          5.512874126434326,
          6.926016807556152
         ],
         "yaxis": "y"
        },
        {
         "customdata": [
          [
           "2020-09-09",
           "NFL | Playbook | Vollmer | Kuhn Show | Teams | Taktik-Bibel | Nachfolger | Podcast"
          ],
          [
           "2020-09-10",
           "NFL | Playbook | Vollmer | Kuhn Show | Teams | Taktik-Bibel | Nachfolger | Podcast"
          ],
          [
           "2020-09-09",
           "NFL | Playbook | Vollmer | Kuhn Show | Teams | Taktik-Bibel | Nachfolger | Podcast"
          ],
          [
           "2020-09-13",
           "NFL | Playbook | Vollmer | Kuhn Show | Teams | Taktik-Bibel | Nachfolger | Podcast"
          ]
         ],
         "hovertemplate": "<b>%{hovertext}</b><br><br>TopWords=%{customdata[1]}<br>x=%{x}<br>y=%{y}<br>created_at=%{customdata[0]}<extra></extra>",
         "hovertext": [
          "Buccaneers lösen Versprechenvon Bradys Ex-Klub ein",
          "Das sind die Top-Duelledes ersten NFL-Spieltags",
          "Playbook ist„so wertvoll wie Gold“",
          "Brady-Nachfolger mit Touchdown-Show"
         ],
         "legendgroup": "NFL | Playbook | Vollmer | Kuhn Show | Teams | Taktik-Bibel | Nachfolger | Podcast",
         "marker": {
          "color": "#FF97FF",
          "line": {
           "color": "DarkSlateGrey",
           "width": 0.15
          },
          "opacity": 0.8,
          "size": 9,
          "symbol": "circle"
         },
         "mode": "markers",
         "name": "NFL | Playbook | Vollmer | Kuhn Show | Teams | Taktik-Bibel | Nachfolger | Podcast",
         "orientation": "v",
         "showlegend": true,
         "type": "scatter",
         "x": [
          11.776251792907715,
          11.404767036437988,
          11.289656639099121,
          11.520425796508789
         ],
         "xaxis": "x",
         "y": [
          2.0176467895507812,
          2.100231647491455,
          1.9251625537872314,
          1.8180214166641235
         ],
         "yaxis": "y"
        },
        {
         "customdata": [
          [
           "2020-09-14",
           "Frauen | Proteste | Lukaschenko | Diktator | Kreml | Menschen | Politik | Weißrussland"
          ],
          [
           "2020-09-14",
           "Frauen | Proteste | Lukaschenko | Diktator | Kreml | Menschen | Politik | Weißrussland"
          ],
          [
           "2020-09-13",
           "Frauen | Proteste | Lukaschenko | Diktator | Kreml | Menschen | Politik | Weißrussland"
          ],
          [
           "2020-09-13",
           "Frauen | Proteste | Lukaschenko | Diktator | Kreml | Menschen | Politik | Weißrussland"
          ],
          [
           "2020-09-10",
           "Frauen | Proteste | Lukaschenko | Diktator | Kreml | Menschen | Politik | Weißrussland"
          ],
          [
           "2020-09-10",
           "Frauen | Proteste | Lukaschenko | Diktator | Kreml | Menschen | Politik | Weißrussland"
          ],
          [
           "2020-09-10",
           "Frauen | Proteste | Lukaschenko | Diktator | Kreml | Menschen | Politik | Weißrussland"
          ]
         ],
         "hovertemplate": "<b>%{hovertext}</b><br><br>TopWords=%{customdata[1]}<br>x=%{x}<br>y=%{y}<br>created_at=%{customdata[0]}<extra></extra>",
         "hovertext": [
          "Besen-Oma vermöbelt Lukaschenkos Prügeltruppen",
          "Hat Putin Lukaschenko jetzt in der Hand?",
          "Lukaschenko läßt Dutzende Frauen festnehmen",
          "150 000 Menschen gegen Lukaschenko auf der Straße",
          "Berlin und Moskau streiten über Nawalny-Treffen",
          "Kolesnikowa stellt Anzeige wegen Morddrohungen!",
          "Trumps Top-Diplomat: Kreml steckt hinter Gift-Attacke"
         ],
         "legendgroup": "Frauen | Proteste | Lukaschenko | Diktator | Kreml | Menschen | Politik | Weißrussland",
         "marker": {
          "color": "#FECB52",
          "line": {
           "color": "DarkSlateGrey",
           "width": 0.15
          },
          "opacity": 0.8,
          "size": 9,
          "symbol": "circle"
         },
         "mode": "markers",
         "name": "Frauen | Proteste | Lukaschenko | Diktator | Kreml | Menschen | Politik | Weißrussland",
         "orientation": "v",
         "showlegend": true,
         "type": "scatter",
         "x": [
          7.546186923980713,
          7.394052028656006,
          7.53007698059082,
          7.5912394523620605,
          7.449636936187744,
          7.558998107910156,
          7.499936103820801
         ],
         "xaxis": "x",
         "y": [
          9.418910026550293,
          9.311697006225586,
          9.367925643920898,
          9.408982276916504,
          9.098090171813965,
          9.446598052978516,
          9.312155723571777
         ],
         "yaxis": "y"
        },
        {
         "customdata": [
          [
           "2020-09-10",
           "Unfall | Landkreis | Autos | Diepholz | Fliege | Baum | Retter | Weg"
          ],
          [
           "2020-09-10",
           "Unfall | Landkreis | Autos | Diepholz | Fliege | Baum | Retter | Weg"
          ],
          [
           "2020-09-10",
           "Unfall | Landkreis | Autos | Diepholz | Fliege | Baum | Retter | Weg"
          ],
          [
           "2020-09-13",
           "Unfall | Landkreis | Autos | Diepholz | Fliege | Baum | Retter | Weg"
          ],
          [
           "2020-09-13",
           "Unfall | Landkreis | Autos | Diepholz | Fliege | Baum | Retter | Weg"
          ],
          [
           "2020-09-11",
           "Unfall | Landkreis | Autos | Diepholz | Fliege | Baum | Retter | Weg"
          ]
         ],
         "hovertemplate": "<b>%{hovertext}</b><br><br>TopWords=%{customdata[1]}<br>x=%{x}<br>y=%{y}<br>created_at=%{customdata[0]}<extra></extra>",
         "hovertext": [
          "Fliege verursacht Unfall – zwei Schwerverletzte!",
          "Retter kracht gegen Baum",
          "Fußgängerin kollidiert mit drei Autos auf der Autobahn - tot",
          "Domino-Crash bei Oldenburg",
          "Baum-Crash!Zwei Tote auf B 442",
          "Junger Biker (18) nach Motorrad-Crash schwer verletzt"
         ],
         "legendgroup": "Unfall | Landkreis | Autos | Diepholz | Fliege | Baum | Retter | Weg",
         "marker": {
          "color": "#636efa",
          "line": {
           "color": "DarkSlateGrey",
           "width": 0.15
          },
          "opacity": 0.8,
          "size": 9,
          "symbol": "circle"
         },
         "mode": "markers",
         "name": "Unfall | Landkreis | Autos | Diepholz | Fliege | Baum | Retter | Weg",
         "orientation": "v",
         "showlegend": true,
         "type": "scatter",
         "x": [
          9.54241943359375,
          9.62330436706543,
          9.6647310256958,
          9.660325050354004,
          9.676128387451172,
          9.693577766418457
         ],
         "xaxis": "x",
         "y": [
          13.144221305847168,
          13.224043846130371,
          13.089831352233887,
          13.21016788482666,
          13.096100807189941,
          13.07091999053955
         ],
         "yaxis": "y"
        },
        {
         "customdata": [
          [
           "2020-09-10",
           "Vettel | Formel 1 | Deal | Sebastian Vettel | Aston Martin | Milliardär | Racing Point | Platz"
          ],
          [
           "2020-09-11",
           "Vettel | Formel 1 | Deal | Sebastian Vettel | Aston Martin | Milliardär | Racing Point | Platz"
          ],
          [
           "2020-09-09",
           "Vettel | Formel 1 | Deal | Sebastian Vettel | Aston Martin | Milliardär | Racing Point | Platz"
          ],
          [
           "2020-09-10",
           "Vettel | Formel 1 | Deal | Sebastian Vettel | Aston Martin | Milliardär | Racing Point | Platz"
          ]
         ],
         "hovertemplate": "<b>%{hovertext}</b><br><br>TopWords=%{customdata[1]}<br>x=%{x}<br>y=%{y}<br>created_at=%{customdata[0]}<extra></extra>",
         "hovertext": [
          "So wollte Vettel nicht aufhören",
          "Das ist der Milliardär hinter dem Vettel-Deal",
          "Jetzt ist der Platz für Vettel frei",
          "Offiziell! Vettelwechselt zu Aston Martin"
         ],
         "legendgroup": "Vettel | Formel 1 | Deal | Sebastian Vettel | Aston Martin | Milliardär | Racing Point | Platz",
         "marker": {
          "color": "#EF553B",
          "line": {
           "color": "DarkSlateGrey",
           "width": 0.15
          },
          "opacity": 0.8,
          "size": 9,
          "symbol": "circle"
         },
         "mode": "markers",
         "name": "Vettel | Formel 1 | Deal | Sebastian Vettel | Aston Martin | Milliardär | Racing Point | Platz",
         "orientation": "v",
         "showlegend": true,
         "type": "scatter",
         "x": [
          6.852021217346191,
          7.048927307128906,
          6.798208713531494,
          6.804723739624023
         ],
         "xaxis": "x",
         "y": [
          3.829141855239868,
          3.867084264755249,
          3.7471654415130615,
          3.7509071826934814
         ],
         "yaxis": "y"
        },
        {
         "customdata": [
          [
           "2020-09-13",
           "US Open | Alexander Zverev | Sieg | Dominic Thiem | Halbfinale | Zverev | Bruder | Boris Becker"
          ],
          [
           "2020-09-10",
           "US Open | Alexander Zverev | Sieg | Dominic Thiem | Halbfinale | Zverev | Bruder | Boris Becker"
          ],
          [
           "2020-09-14",
           "US Open | Alexander Zverev | Sieg | Dominic Thiem | Halbfinale | Zverev | Bruder | Boris Becker"
          ],
          [
           "2020-09-09",
           "US Open | Alexander Zverev | Sieg | Dominic Thiem | Halbfinale | Zverev | Bruder | Boris Becker"
          ],
          [
           "2020-09-12",
           "US Open | Alexander Zverev | Sieg | Dominic Thiem | Halbfinale | Zverev | Bruder | Boris Becker"
          ],
          [
           "2020-09-12",
           "US Open | Alexander Zverev | Sieg | Dominic Thiem | Halbfinale | Zverev | Bruder | Boris Becker"
          ],
          [
           "2020-09-10",
           "US Open | Alexander Zverev | Sieg | Dominic Thiem | Halbfinale | Zverev | Bruder | Boris Becker"
          ],
          [
           "2020-09-10",
           "US Open | Alexander Zverev | Sieg | Dominic Thiem | Halbfinale | Zverev | Bruder | Boris Becker"
          ],
          [
           "2020-09-11",
           "US Open | Alexander Zverev | Sieg | Dominic Thiem | Halbfinale | Zverev | Bruder | Boris Becker"
          ],
          [
           "2020-09-10",
           "US Open | Alexander Zverev | Sieg | Dominic Thiem | Halbfinale | Zverev | Bruder | Boris Becker"
          ],
          [
           "2020-09-12",
           "US Open | Alexander Zverev | Sieg | Dominic Thiem | Halbfinale | Zverev | Bruder | Boris Becker"
          ],
          [
           "2020-09-14",
           "US Open | Alexander Zverev | Sieg | Dominic Thiem | Halbfinale | Zverev | Bruder | Boris Becker"
          ]
         ],
         "hovertemplate": "<b>%{hovertext}</b><br><br>TopWords=%{customdata[1]}<br>x=%{x}<br>y=%{y}<br>created_at=%{customdata[0]}<extra></extra>",
         "hovertext": [
          "Thiem zittert vor Anrufbei Andy Murray",
          "Zverev setzt auf seinen Kracher-Aufschlag",
          "Als er seinen Eltern dankte, kamen ihm die Tränen",
          "„Djokovic fragte mich, wie er aus der Nummer rauskommen kann“",
          "„Der Top-Favorit für den Sieg ist für mich …“",
          "Becker-Lob für Zverev nach Giganten-Comeback!",
          "6 Gründe, warum Zverev die US Open gewinnt",
          "Mischa leiht Sascha seinen Trainer",
          "Sorgerecht-Krieg! Ihren größten Sieg holte sie für ihn",
          "Dominic Thiem im Halbfinale",
          "Als er mich nach dem Spiel anrief, sagte er…",
          "„Kopf hoch, mein Junge - du kommst zurück!“"
         ],
         "legendgroup": "US Open | Alexander Zverev | Sieg | Dominic Thiem | Halbfinale | Zverev | Bruder | Boris Becker",
         "marker": {
          "color": "#00cc96",
          "line": {
           "color": "DarkSlateGrey",
           "width": 0.15
          },
          "opacity": 0.8,
          "size": 9,
          "symbol": "circle"
         },
         "mode": "markers",
         "name": "US Open | Alexander Zverev | Sieg | Dominic Thiem | Halbfinale | Zverev | Bruder | Boris Becker",
         "orientation": "v",
         "showlegend": true,
         "type": "scatter",
         "x": [
          12.649749755859375,
          12.738646507263184,
          12.717218399047852,
          12.684175491333008,
          12.644841194152832,
          12.721299171447754,
          12.683025360107422,
          12.625534057617188,
          12.793050765991211,
          12.711502075195312,
          12.707803726196289,
          11.282400131225586
         ],
         "xaxis": "x",
         "y": [
          2.709036350250244,
          2.706641674041748,
          2.6726233959198,
          2.6686694622039795,
          2.7102952003479004,
          2.6496589183807373,
          2.6092689037323,
          2.711876630783081,
          2.753490924835205,
          2.6576457023620605,
          2.675018310546875,
          1.594886302947998
         ],
         "yaxis": "y"
        },
        {
         "customdata": [
          [
           "2020-09-11",
           "US Open | Köln | Grand-Slam-Champion | Alexander Zverev | Halbfinal | Serena Williams | Williams | Tennis-Sensation"
          ],
          [
           "2020-09-10",
           "US Open | Köln | Grand-Slam-Champion | Alexander Zverev | Halbfinal | Serena Williams | Williams | Tennis-Sensation"
          ],
          [
           "2020-09-11",
           "US Open | Köln | Grand-Slam-Champion | Alexander Zverev | Halbfinal | Serena Williams | Williams | Tennis-Sensation"
          ]
         ],
         "hovertemplate": "<b>%{hovertext}</b><br><br>TopWords=%{customdata[1]}<br>x=%{x}<br>y=%{y}<br>created_at=%{customdata[0]}<extra></extra>",
         "hovertext": [
          "Halbfinal-Aus fürSerena Williams",
          "Zverev schlägt in Köln auf!",
          "Tennis-Sensation! Siegemund siegt im Doppel"
         ],
         "legendgroup": "US Open | Köln | Grand-Slam-Champion | Alexander Zverev | Halbfinal | Serena Williams | Williams | Tennis-Sensation",
         "marker": {
          "color": "#ab63fa",
          "line": {
           "color": "DarkSlateGrey",
           "width": 0.15
          },
          "opacity": 0.8,
          "size": 9,
          "symbol": "circle"
         },
         "mode": "markers",
         "name": "US Open | Köln | Grand-Slam-Champion | Alexander Zverev | Halbfinal | Serena Williams | Williams | Tennis-Sensation",
         "orientation": "v",
         "showlegend": true,
         "type": "scatter",
         "visible": true,
         "x": [
          12.828696250915527,
          12.537409782409668,
          12.91207218170166
         ],
         "xaxis": "x",
         "y": [
          2.8707668781280518,
          2.8387296199798584,
          2.902930974960327
         ],
         "yaxis": "y"
        },
        {
         "customdata": [
          [
           "2020-09-09",
           "Verdacht | Brandenburg | Schweinepest | Afrikanische Schweinepest | Menschen | Reptil | Fluss | Experte"
          ],
          [
           "2020-09-10",
           "Verdacht | Brandenburg | Schweinepest | Afrikanische Schweinepest | Menschen | Reptil | Fluss | Experte"
          ],
          [
           "2020-09-14",
           "Verdacht | Brandenburg | Schweinepest | Afrikanische Schweinepest | Menschen | Reptil | Fluss | Experte"
          ],
          [
           "2020-09-10",
           "Verdacht | Brandenburg | Schweinepest | Afrikanische Schweinepest | Menschen | Reptil | Fluss | Experte"
          ]
         ],
         "hovertemplate": "<b>%{hovertext}</b><br><br>TopWords=%{customdata[1]}<br>x=%{x}<br>y=%{y}<br>created_at=%{customdata[0]}<extra></extra>",
         "hovertext": [
          "Verdacht auf Afrikanische Schweinepest",
          "Wie gefährlich ist die Afrikanische Schweinepest?",
          "Experte soll nach Unstrut-Krokodil suchen",
          "Verdacht auf Schweinepest bestätigt!"
         ],
         "legendgroup": "Verdacht | Brandenburg | Schweinepest | Afrikanische Schweinepest | Menschen | Reptil | Fluss | Experte",
         "marker": {
          "color": "#FFA15A",
          "line": {
           "color": "DarkSlateGrey",
           "width": 0.15
          },
          "opacity": 0.8,
          "size": 9,
          "symbol": "circle"
         },
         "mode": "markers",
         "name": "Verdacht | Brandenburg | Schweinepest | Afrikanische Schweinepest | Menschen | Reptil | Fluss | Experte",
         "orientation": "v",
         "showlegend": true,
         "type": "scatter",
         "x": [
          10.976080894470215,
          10.574699401855469,
          11.302569389343262,
          10.947998046875
         ],
         "xaxis": "x",
         "y": [
          8.526094436645508,
          8.408429145812988,
          8.592047691345215,
          8.53394603729248
         ],
         "yaxis": "y"
        },
        {
         "customdata": [
          [
           "2020-09-11",
           "Urlaub | Corona | Reisen | Risikogebiet | Land | Reisewarnungen | 2021 | Herbstferien"
          ],
          [
           "2020-09-10",
           "Urlaub | Corona | Reisen | Risikogebiet | Land | Reisewarnungen | 2021 | Herbstferien"
          ],
          [
           "2020-09-14",
           "Urlaub | Corona | Reisen | Risikogebiet | Land | Reisewarnungen | 2021 | Herbstferien"
          ],
          [
           "2020-09-10",
           "Urlaub | Corona | Reisen | Risikogebiet | Land | Reisewarnungen | 2021 | Herbstferien"
          ],
          [
           "2020-09-10",
           "Urlaub | Corona | Reisen | Risikogebiet | Land | Reisewarnungen | 2021 | Herbstferien"
          ],
          [
           "2020-09-14",
           "Urlaub | Corona | Reisen | Risikogebiet | Land | Reisewarnungen | 2021 | Herbstferien"
          ],
          [
           "2020-09-11",
           "Urlaub | Corona | Reisen | Risikogebiet | Land | Reisewarnungen | 2021 | Herbstferien"
          ],
          [
           "2020-09-14",
           "Urlaub | Corona | Reisen | Risikogebiet | Land | Reisewarnungen | 2021 | Herbstferien"
          ]
         ],
         "hovertemplate": "<b>%{hovertext}</b><br><br>TopWords=%{customdata[1]}<br>x=%{x}<br>y=%{y}<br>created_at=%{customdata[0]}<extra></extra>",
         "hovertext": [
          "Ab wann ist ein Land NICHT mehr Risikogebiet?",
          "Hier können Sie jetzt noch Herbsturlaub machen",
          "Wo kann ich jetzt noch Urlaub machen?",
          "Kann ich Reisen für nächstes Jahr schon SICHER buchen?",
          "BILD beantwortet Ihre Ferien-Fragen!",
          "Darum wollen sie nicht ins neue Camp",
          "Auch in Beziehungen braucht es klare Worte",
          "Storno-Zoff mit FTI um Indien-Urlaub"
         ],
         "legendgroup": "Urlaub | Corona | Reisen | Risikogebiet | Land | Reisewarnungen | 2021 | Herbstferien",
         "marker": {
          "color": "#19d3f3",
          "line": {
           "color": "DarkSlateGrey",
           "width": 0.15
          },
          "opacity": 0.8,
          "size": 9,
          "symbol": "circle"
         },
         "mode": "markers",
         "name": "Urlaub | Corona | Reisen | Risikogebiet | Land | Reisewarnungen | 2021 | Herbstferien",
         "orientation": "v",
         "showlegend": true,
         "type": "scatter",
         "x": [
          8.498064041137695,
          8.52269172668457,
          8.548148155212402,
          8.564598083496094,
          8.368560791015625,
          8.095311164855957,
          12.615601539611816,
          8.404367446899414
         ],
         "xaxis": "x",
         "y": [
          5.615793704986572,
          5.605813026428223,
          5.6056976318359375,
          5.6055145263671875,
          5.469602108001709,
          9.251126289367676,
          6.855399131774902,
          5.583290100097656
         ],
         "yaxis": "y"
        },
        {
         "customdata": [
          [
           "2020-09-10",
           "Nawalny | Charité | Fall | Kritiker | Ereignisse | Nawalnys | Unterwäsche | Gift"
          ],
          [
           "2020-09-14",
           "Nawalny | Charité | Fall | Kritiker | Ereignisse | Nawalnys | Unterwäsche | Gift"
          ],
          [
           "2020-09-11",
           "Nawalny | Charité | Fall | Kritiker | Ereignisse | Nawalnys | Unterwäsche | Gift"
          ]
         ],
         "hovertemplate": "<b>%{hovertext}</b><br><br>TopWords=%{customdata[1]}<br>x=%{x}<br>y=%{y}<br>created_at=%{customdata[0]}<extra></extra>",
         "hovertext": [
          "Er ist bei Bewusstsein! Er erinnert sich an die Ereignisse am Flughafen!",
          "Nawalny wird nicht mehr künstlich beatmet",
          "War das Gift auf der Unterwäsche Nawalnys?"
         ],
         "legendgroup": "Nawalny | Charité | Fall | Kritiker | Ereignisse | Nawalnys | Unterwäsche | Gift",
         "marker": {
          "color": "#FF6692",
          "line": {
           "color": "DarkSlateGrey",
           "width": 0.15
          },
          "opacity": 0.8,
          "size": 9,
          "symbol": "circle"
         },
         "mode": "markers",
         "name": "Nawalny | Charité | Fall | Kritiker | Ereignisse | Nawalnys | Unterwäsche | Gift",
         "orientation": "v",
         "showlegend": true,
         "type": "scatter",
         "x": [
          7.86683464050293,
          7.928034782409668,
          7.900996685028076
         ],
         "xaxis": "x",
         "y": [
          9.67341136932373,
          9.73037052154541,
          9.811698913574219
         ],
         "yaxis": "y"
        },
        {
         "customdata": [
          [
           "2020-09-12",
           "Mercedes | Trucker | Autobahn | Polizei | Crash | Rollifahrer | Laster | Biker"
          ],
          [
           "2020-09-11",
           "Mercedes | Trucker | Autobahn | Polizei | Crash | Rollifahrer | Laster | Biker"
          ],
          [
           "2020-09-11",
           "Mercedes | Trucker | Autobahn | Polizei | Crash | Rollifahrer | Laster | Biker"
          ]
         ],
         "hovertemplate": "<b>%{hovertext}</b><br><br>TopWords=%{customdata[1]}<br>x=%{x}<br>y=%{y}<br>created_at=%{customdata[0]}<extra></extra>",
         "hovertext": [
          "Biker stirbt bei Crash mit Biker",
          "Mercedes rammt Rollifahrer (78) von Landstraße - tot",
          "Liegender Laster legt Autobahn lahm"
         ],
         "legendgroup": "Mercedes | Trucker | Autobahn | Polizei | Crash | Rollifahrer | Laster | Biker",
         "marker": {
          "color": "#B6E880",
          "line": {
           "color": "DarkSlateGrey",
           "width": 0.15
          },
          "opacity": 0.8,
          "size": 9,
          "symbol": "circle"
         },
         "mode": "markers",
         "name": "Mercedes | Trucker | Autobahn | Polizei | Crash | Rollifahrer | Laster | Biker",
         "orientation": "v",
         "showlegend": true,
         "type": "scatter",
         "x": [
          9.383699417114258,
          9.539974212646484,
          9.31492805480957
         ],
         "xaxis": "x",
         "y": [
          12.959057807922363,
          12.898459434509277,
          12.783500671386719
         ],
         "yaxis": "y"
        },
        {
         "customdata": [
          [
           "2020-09-12",
           "NRW | Unfall | Roller | Ennepetal | Lkw | Autobahn 2 | Fahrer | 20-Jähriger"
          ],
          [
           "2020-09-13",
           "NRW | Unfall | Roller | Ennepetal | Lkw | Autobahn 2 | Fahrer | 20-Jähriger"
          ],
          [
           "2020-09-14",
           "NRW | Unfall | Roller | Ennepetal | Lkw | Autobahn 2 | Fahrer | 20-Jähriger"
          ],
          [
           "2020-09-09",
           "NRW | Unfall | Roller | Ennepetal | Lkw | Autobahn 2 | Fahrer | 20-Jähriger"
          ]
         ],
         "hovertemplate": "<b>%{hovertext}</b><br><br>TopWords=%{customdata[1]}<br>x=%{x}<br>y=%{y}<br>created_at=%{customdata[0]}<extra></extra>",
         "hovertext": [
          "20-Jähriger liegt tot unter seinem Roller",
          "Tödlicher Frontalzusammenstoß",
          "Lkw kollidieren auf der Autobahn 2",
          "510-PS-Flitzerkracht gegen Baum"
         ],
         "legendgroup": "NRW | Unfall | Roller | Ennepetal | Lkw | Autobahn 2 | Fahrer | 20-Jähriger",
         "marker": {
          "color": "#FF97FF",
          "line": {
           "color": "DarkSlateGrey",
           "width": 0.15
          },
          "opacity": 0.8,
          "size": 9,
          "symbol": "circle"
         },
         "mode": "markers",
         "name": "NRW | Unfall | Roller | Ennepetal | Lkw | Autobahn 2 | Fahrer | 20-Jähriger",
         "orientation": "v",
         "showlegend": true,
         "type": "scatter",
         "x": [
          10.167973518371582,
          10.14116382598877,
          10.164121627807617,
          10.22071647644043
         ],
         "xaxis": "x",
         "y": [
          12.884124755859375,
          12.918782234191895,
          12.858073234558105,
          12.751679420471191
         ],
         "yaxis": "y"
        },
        {
         "customdata": [
          [
           "2020-09-10",
           "Wiesn | Gästen | Leute | Hans-Werner Meyer | Francis Fulton-Smith | Oktoberfest 1900 | Playmate | Natascha"
          ],
          [
           "2020-09-13",
           "Wiesn | Gästen | Leute | Hans-Werner Meyer | Francis Fulton-Smith | Oktoberfest 1900 | Playmate | Natascha"
          ],
          [
           "2020-09-10",
           "Wiesn | Gästen | Leute | Hans-Werner Meyer | Francis Fulton-Smith | Oktoberfest 1900 | Playmate | Natascha"
          ],
          [
           "2020-09-13",
           "Wiesn | Gästen | Leute | Hans-Werner Meyer | Francis Fulton-Smith | Oktoberfest 1900 | Playmate | Natascha"
          ]
         ],
         "hovertemplate": "<b>%{hovertext}</b><br><br>TopWords=%{customdata[1]}<br>x=%{x}<br>y=%{y}<br>created_at=%{customdata[0]}<extra></extra>",
         "hovertext": [
          "„Wir sind kulturell unterzuckert“",
          "„Zwei, drei Maß schaffe ich schon“",
          "Natascha ist das Wiesn-Playmate 2020",
          "Bei diesem Test hofft er auf ein positives Ergebnis"
         ],
         "legendgroup": "Wiesn | Gästen | Leute | Hans-Werner Meyer | Francis Fulton-Smith | Oktoberfest 1900 | Playmate | Natascha",
         "marker": {
          "color": "#FECB52",
          "line": {
           "color": "DarkSlateGrey",
           "width": 0.15
          },
          "opacity": 0.8,
          "size": 9,
          "symbol": "circle"
         },
         "mode": "markers",
         "name": "Wiesn | Gästen | Leute | Hans-Werner Meyer | Francis Fulton-Smith | Oktoberfest 1900 | Playmate | Natascha",
         "orientation": "v",
         "showlegend": true,
         "type": "scatter",
         "x": [
          10.621269226074219,
          10.984797477722168,
          10.497062683105469,
          10.531649589538574
         ],
         "xaxis": "x",
         "y": [
          5.331690788269043,
          5.575909614562988,
          5.607067108154297,
          5.26096773147583
         ],
         "yaxis": "y"
        }
       ],
       "layout": {
        "autosize": true,
        "legend": {
         "title": {
          "text": "TopWords"
         },
         "tracegroupgap": 0
        },
        "margin": {
         "t": 60
        },
        "template": {
         "data": {
          "bar": [
           {
            "error_x": {
             "color": "#2a3f5f"
            },
            "error_y": {
             "color": "#2a3f5f"
            },
            "marker": {
             "line": {
              "color": "#E5ECF6",
              "width": 0.5
             }
            },
            "type": "bar"
           }
          ],
          "barpolar": [
           {
            "marker": {
             "line": {
              "color": "#E5ECF6",
              "width": 0.5
             }
            },
            "type": "barpolar"
           }
          ],
          "carpet": [
           {
            "aaxis": {
             "endlinecolor": "#2a3f5f",
             "gridcolor": "white",
             "linecolor": "white",
             "minorgridcolor": "white",
             "startlinecolor": "#2a3f5f"
            },
            "baxis": {
             "endlinecolor": "#2a3f5f",
             "gridcolor": "white",
             "linecolor": "white",
             "minorgridcolor": "white",
             "startlinecolor": "#2a3f5f"
            },
            "type": "carpet"
           }
          ],
          "choropleth": [
           {
            "colorbar": {
             "outlinewidth": 0,
             "ticks": ""
            },
            "type": "choropleth"
           }
          ],
          "contour": [
           {
            "colorbar": {
             "outlinewidth": 0,
             "ticks": ""
            },
            "colorscale": [
             [
              0,
              "#0d0887"
             ],
             [
              0.1111111111111111,
              "#46039f"
             ],
             [
              0.2222222222222222,
              "#7201a8"
             ],
             [
              0.3333333333333333,
              "#9c179e"
             ],
             [
              0.4444444444444444,
              "#bd3786"
             ],
             [
              0.5555555555555556,
              "#d8576b"
             ],
             [
              0.6666666666666666,
              "#ed7953"
             ],
             [
              0.7777777777777778,
              "#fb9f3a"
             ],
             [
              0.8888888888888888,
              "#fdca26"
             ],
             [
              1,
              "#f0f921"
             ]
            ],
            "type": "contour"
           }
          ],
          "contourcarpet": [
           {
            "colorbar": {
             "outlinewidth": 0,
             "ticks": ""
            },
            "type": "contourcarpet"
           }
          ],
          "heatmap": [
           {
            "colorbar": {
             "outlinewidth": 0,
             "ticks": ""
            },
            "colorscale": [
             [
              0,
              "#0d0887"
             ],
             [
              0.1111111111111111,
              "#46039f"
             ],
             [
              0.2222222222222222,
              "#7201a8"
             ],
             [
              0.3333333333333333,
              "#9c179e"
             ],
             [
              0.4444444444444444,
              "#bd3786"
             ],
             [
              0.5555555555555556,
              "#d8576b"
             ],
             [
              0.6666666666666666,
              "#ed7953"
             ],
             [
              0.7777777777777778,
              "#fb9f3a"
             ],
             [
              0.8888888888888888,
              "#fdca26"
             ],
             [
              1,
              "#f0f921"
             ]
            ],
            "type": "heatmap"
           }
          ],
          "heatmapgl": [
           {
            "colorbar": {
             "outlinewidth": 0,
             "ticks": ""
            },
            "colorscale": [
             [
              0,
              "#0d0887"
             ],
             [
              0.1111111111111111,
              "#46039f"
             ],
             [
              0.2222222222222222,
              "#7201a8"
             ],
             [
              0.3333333333333333,
              "#9c179e"
             ],
             [
              0.4444444444444444,
              "#bd3786"
             ],
             [
              0.5555555555555556,
              "#d8576b"
             ],
             [
              0.6666666666666666,
              "#ed7953"
             ],
             [
              0.7777777777777778,
              "#fb9f3a"
             ],
             [
              0.8888888888888888,
              "#fdca26"
             ],
             [
              1,
              "#f0f921"
             ]
            ],
            "type": "heatmapgl"
           }
          ],
          "histogram": [
           {
            "marker": {
             "colorbar": {
              "outlinewidth": 0,
              "ticks": ""
             }
            },
            "type": "histogram"
           }
          ],
          "histogram2d": [
           {
            "colorbar": {
             "outlinewidth": 0,
             "ticks": ""
            },
            "colorscale": [
             [
              0,
              "#0d0887"
             ],
             [
              0.1111111111111111,
              "#46039f"
             ],
             [
              0.2222222222222222,
              "#7201a8"
             ],
             [
              0.3333333333333333,
              "#9c179e"
             ],
             [
              0.4444444444444444,
              "#bd3786"
             ],
             [
              0.5555555555555556,
              "#d8576b"
             ],
             [
              0.6666666666666666,
              "#ed7953"
             ],
             [
              0.7777777777777778,
              "#fb9f3a"
             ],
             [
              0.8888888888888888,
              "#fdca26"
             ],
             [
              1,
              "#f0f921"
             ]
            ],
            "type": "histogram2d"
           }
          ],
          "histogram2dcontour": [
           {
            "colorbar": {
             "outlinewidth": 0,
             "ticks": ""
            },
            "colorscale": [
             [
              0,
              "#0d0887"
             ],
             [
              0.1111111111111111,
              "#46039f"
             ],
             [
              0.2222222222222222,
              "#7201a8"
             ],
             [
              0.3333333333333333,
              "#9c179e"
             ],
             [
              0.4444444444444444,
              "#bd3786"
             ],
             [
              0.5555555555555556,
              "#d8576b"
             ],
             [
              0.6666666666666666,
              "#ed7953"
             ],
             [
              0.7777777777777778,
              "#fb9f3a"
             ],
             [
              0.8888888888888888,
              "#fdca26"
             ],
             [
              1,
              "#f0f921"
             ]
            ],
            "type": "histogram2dcontour"
           }
          ],
          "mesh3d": [
           {
            "colorbar": {
             "outlinewidth": 0,
             "ticks": ""
            },
            "type": "mesh3d"
           }
          ],
          "parcoords": [
           {
            "line": {
             "colorbar": {
              "outlinewidth": 0,
              "ticks": ""
             }
            },
            "type": "parcoords"
           }
          ],
          "pie": [
           {
            "automargin": true,
            "type": "pie"
           }
          ],
          "scatter": [
           {
            "marker": {
             "colorbar": {
              "outlinewidth": 0,
              "ticks": ""
             }
            },
            "type": "scatter"
           }
          ],
          "scatter3d": [
           {
            "line": {
             "colorbar": {
              "outlinewidth": 0,
              "ticks": ""
             }
            },
            "marker": {
             "colorbar": {
              "outlinewidth": 0,
              "ticks": ""
             }
            },
            "type": "scatter3d"
           }
          ],
          "scattercarpet": [
           {
            "marker": {
             "colorbar": {
              "outlinewidth": 0,
              "ticks": ""
             }
            },
            "type": "scattercarpet"
           }
          ],
          "scattergeo": [
           {
            "marker": {
             "colorbar": {
              "outlinewidth": 0,
              "ticks": ""
             }
            },
            "type": "scattergeo"
           }
          ],
          "scattergl": [
           {
            "marker": {
             "colorbar": {
              "outlinewidth": 0,
              "ticks": ""
             }
            },
            "type": "scattergl"
           }
          ],
          "scattermapbox": [
           {
            "marker": {
             "colorbar": {
              "outlinewidth": 0,
              "ticks": ""
             }
            },
            "type": "scattermapbox"
           }
          ],
          "scatterpolar": [
           {
            "marker": {
             "colorbar": {
              "outlinewidth": 0,
              "ticks": ""
             }
            },
            "type": "scatterpolar"
           }
          ],
          "scatterpolargl": [
           {
            "marker": {
             "colorbar": {
              "outlinewidth": 0,
              "ticks": ""
             }
            },
            "type": "scatterpolargl"
           }
          ],
          "scatterternary": [
           {
            "marker": {
             "colorbar": {
              "outlinewidth": 0,
              "ticks": ""
             }
            },
            "type": "scatterternary"
           }
          ],
          "surface": [
           {
            "colorbar": {
             "outlinewidth": 0,
             "ticks": ""
            },
            "colorscale": [
             [
              0,
              "#0d0887"
             ],
             [
              0.1111111111111111,
              "#46039f"
             ],
             [
              0.2222222222222222,
              "#7201a8"
             ],
             [
              0.3333333333333333,
              "#9c179e"
             ],
             [
              0.4444444444444444,
              "#bd3786"
             ],
             [
              0.5555555555555556,
              "#d8576b"
             ],
             [
              0.6666666666666666,
              "#ed7953"
             ],
             [
              0.7777777777777778,
              "#fb9f3a"
             ],
             [
              0.8888888888888888,
              "#fdca26"
             ],
             [
              1,
              "#f0f921"
             ]
            ],
            "type": "surface"
           }
          ],
          "table": [
           {
            "cells": {
             "fill": {
              "color": "#EBF0F8"
             },
             "line": {
              "color": "white"
             }
            },
            "header": {
             "fill": {
              "color": "#C8D4E3"
             },
             "line": {
              "color": "white"
             }
            },
            "type": "table"
           }
          ]
         },
         "layout": {
          "annotationdefaults": {
           "arrowcolor": "#2a3f5f",
           "arrowhead": 0,
           "arrowwidth": 1
          },
          "coloraxis": {
           "colorbar": {
            "outlinewidth": 0,
            "ticks": ""
           }
          },
          "colorscale": {
           "diverging": [
            [
             0,
             "#8e0152"
            ],
            [
             0.1,
             "#c51b7d"
            ],
            [
             0.2,
             "#de77ae"
            ],
            [
             0.3,
             "#f1b6da"
            ],
            [
             0.4,
             "#fde0ef"
            ],
            [
             0.5,
             "#f7f7f7"
            ],
            [
             0.6,
             "#e6f5d0"
            ],
            [
             0.7,
             "#b8e186"
            ],
            [
             0.8,
             "#7fbc41"
            ],
            [
             0.9,
             "#4d9221"
            ],
            [
             1,
             "#276419"
            ]
           ],
           "sequential": [
            [
             0,
             "#0d0887"
            ],
            [
             0.1111111111111111,
             "#46039f"
            ],
            [
             0.2222222222222222,
             "#7201a8"
            ],
            [
             0.3333333333333333,
             "#9c179e"
            ],
            [
             0.4444444444444444,
             "#bd3786"
            ],
            [
             0.5555555555555556,
             "#d8576b"
            ],
            [
             0.6666666666666666,
             "#ed7953"
            ],
            [
             0.7777777777777778,
             "#fb9f3a"
            ],
            [
             0.8888888888888888,
             "#fdca26"
            ],
            [
             1,
             "#f0f921"
            ]
           ],
           "sequentialminus": [
            [
             0,
             "#0d0887"
            ],
            [
             0.1111111111111111,
             "#46039f"
            ],
            [
             0.2222222222222222,
             "#7201a8"
            ],
            [
             0.3333333333333333,
             "#9c179e"
            ],
            [
             0.4444444444444444,
             "#bd3786"
            ],
            [
             0.5555555555555556,
             "#d8576b"
            ],
            [
             0.6666666666666666,
             "#ed7953"
            ],
            [
             0.7777777777777778,
             "#fb9f3a"
            ],
            [
             0.8888888888888888,
             "#fdca26"
            ],
            [
             1,
             "#f0f921"
            ]
           ]
          },
          "colorway": [
           "#636efa",
           "#EF553B",
           "#00cc96",
           "#ab63fa",
           "#FFA15A",
           "#19d3f3",
           "#FF6692",
           "#B6E880",
           "#FF97FF",
           "#FECB52"
          ],
          "font": {
           "color": "#2a3f5f"
          },
          "geo": {
           "bgcolor": "white",
           "lakecolor": "white",
           "landcolor": "#E5ECF6",
           "showlakes": true,
           "showland": true,
           "subunitcolor": "white"
          },
          "hoverlabel": {
           "align": "left"
          },
          "hovermode": "closest",
          "mapbox": {
           "style": "light"
          },
          "paper_bgcolor": "white",
          "plot_bgcolor": "#E5ECF6",
          "polar": {
           "angularaxis": {
            "gridcolor": "white",
            "linecolor": "white",
            "ticks": ""
           },
           "bgcolor": "#E5ECF6",
           "radialaxis": {
            "gridcolor": "white",
            "linecolor": "white",
            "ticks": ""
           }
          },
          "scene": {
           "xaxis": {
            "backgroundcolor": "#E5ECF6",
            "gridcolor": "white",
            "gridwidth": 2,
            "linecolor": "white",
            "showbackground": true,
            "ticks": "",
            "zerolinecolor": "white"
           },
           "yaxis": {
            "backgroundcolor": "#E5ECF6",
            "gridcolor": "white",
            "gridwidth": 2,
            "linecolor": "white",
            "showbackground": true,
            "ticks": "",
            "zerolinecolor": "white"
           },
           "zaxis": {
            "backgroundcolor": "#E5ECF6",
            "gridcolor": "white",
            "gridwidth": 2,
            "linecolor": "white",
            "showbackground": true,
            "ticks": "",
            "zerolinecolor": "white"
           }
          },
          "shapedefaults": {
           "line": {
            "color": "#2a3f5f"
           }
          },
          "ternary": {
           "aaxis": {
            "gridcolor": "white",
            "linecolor": "white",
            "ticks": ""
           },
           "baxis": {
            "gridcolor": "white",
            "linecolor": "white",
            "ticks": ""
           },
           "bgcolor": "#E5ECF6",
           "caxis": {
            "gridcolor": "white",
            "linecolor": "white",
            "ticks": ""
           }
          },
          "title": {
           "x": 0.05
          },
          "xaxis": {
           "automargin": true,
           "gridcolor": "white",
           "linecolor": "white",
           "ticks": "",
           "title": {
            "standoff": 15
           },
           "zerolinecolor": "white",
           "zerolinewidth": 2
          },
          "yaxis": {
           "automargin": true,
           "gridcolor": "white",
           "linecolor": "white",
           "ticks": "",
           "title": {
            "standoff": 15
           },
           "zerolinecolor": "white",
           "zerolinewidth": 2
          }
         }
        },
        "xaxis": {
         "anchor": "y",
         "autorange": true,
         "domain": [
          0,
          1
         ],
         "range": [
          6.247310256172234,
          13.744266892265266
         ],
         "title": {
          "text": "x"
         },
         "type": "linear"
        },
        "yaxis": {
         "anchor": "x",
         "autorange": true,
         "domain": [
          0,
          1
         ],
         "range": [
          -1.711336467890066,
          14.119108234075826
         ],
         "title": {
          "text": "y"
         },
         "type": "linear"
        }
       }
      },
      "image/png": "[encoded data removed]",
      "text/html": [
       "<div>                            <div id=\"09abe25e-f4f5-40ff-81f1-7f5a0343d8a0\" class=\"plotly-graph-div\" style=\"height:1000px; width:100%;\"></div>            <script type=\"text/javascript\">                require([\"plotly\"], function(Plotly) {                    window.PLOTLYENV=window.PLOTLYENV || {};                                    if (document.getElementById(\"09abe25e-f4f5-40ff-81f1-7f5a0343d8a0\")) {                    Plotly.newPlot(                        \"09abe25e-f4f5-40ff-81f1-7f5a0343d8a0\",                        [{\"customdata\": [[\"2020-09-12\", \"Corona | Corona-Krise | Wirtschaft | Finanzminister | Angst | Geld | Leben | Steuererh\\u00f6hungen\"], [\"2020-09-11\", \"Corona | Corona-Krise | Wirtschaft | Finanzminister | Angst | Geld | Leben | Steuererh\\u00f6hungen\"], [\"2020-09-11\", \"Corona | Corona-Krise | Wirtschaft | Finanzminister | Angst | Geld | Leben | Steuererh\\u00f6hungen\"], [\"2020-09-10\", \"Corona | Corona-Krise | Wirtschaft | Finanzminister | Angst | Geld | Leben | Steuererh\\u00f6hungen\"], [\"2020-09-13\", \"Corona | Corona-Krise | Wirtschaft | Finanzminister | Angst | Geld | Leben | Steuererh\\u00f6hungen\"], [\"2020-09-10\", \"Corona | Corona-Krise | Wirtschaft | Finanzminister | Angst | Geld | Leben | Steuererh\\u00f6hungen\"], [\"2020-09-10\", \"Corona | Corona-Krise | Wirtschaft | Finanzminister | Angst | Geld | Leben | Steuererh\\u00f6hungen\"], [\"2020-09-10\", \"Corona | Corona-Krise | Wirtschaft | Finanzminister | Angst | Geld | Leben | Steuererh\\u00f6hungen\"], [\"2020-09-13\", \"Corona | Corona-Krise | Wirtschaft | Finanzminister | Angst | Geld | Leben | Steuererh\\u00f6hungen\"], [\"2020-09-14\", \"Corona | Corona-Krise | Wirtschaft | Finanzminister | Angst | Geld | Leben | Steuererh\\u00f6hungen\"], [\"2020-09-12\", \"Corona | Corona-Krise | Wirtschaft | Finanzminister | Angst | Geld | Leben | Steuererh\\u00f6hungen\"], [\"2020-09-13\", \"Corona | Corona-Krise | Wirtschaft | Finanzminister | Angst | Geld | Leben | Steuererh\\u00f6hungen\"]], \"hovertemplate\": \"<b>%{hovertext}</b><br><br>TopWords=%{customdata[1]}<br>x=%{x}<br>y=%{y}<br>created_at=%{customdata[0]}<extra></extra>\", \"hovertext\": [\"Welche Versicherung muss sein, welche ist Quatsch?\", \"So lange m\\u00fcssen wir die Corona-Schulden abstottern\", \"50 Sparfochs-Tipps f\\u00fcr ein sorgenfreieres Leben\", \"Steuererh\\u00f6hungen Gift in der Corona-Krise\", \"Angst vor Smog und Pl\\u00fcnderungen\", \"Kassensturz: So gro\\u00df ist das Corona-Steuerloch\", \"Sp\\u00e4testens im M\\u00e4rz wird es ein Massensterben geben\", \"Historischer Steuer-Einbruch in Bayern\", \"So weit geht die Renten-Schere auseinander\", \"Corona rei\\u00dft Milliarden-Loch\", \"Dann mit noch mehr Hexer-Sex?\", \"Wie stark belastet Corona unseren Geldbeutel?\"], \"legendgroup\": \"Corona | Corona-Krise | Wirtschaft | Finanzminister | Angst | Geld | Leben | Steuererh\\u00f6hungen\", \"marker\": {\"color\": \"#636efa\", \"line\": {\"color\": \"DarkSlateGrey\", \"width\": 0.15}, \"opacity\": 0.8, \"size\": 9, \"symbol\": \"circle\"}, \"mode\": \"markers\", \"name\": \"Corona | Corona-Krise | Wirtschaft | Finanzminister | Angst | Geld | Leben | Steuererh\\u00f6hungen\", \"orientation\": \"v\", \"showlegend\": true, \"type\": \"scatter\", \"x\": [7.195629119873047, 7.132028579711914, 7.111648082733154, 7.1454877853393555, 7.775134563446045, 7.092494964599609, 7.517007350921631, 7.405791282653809, 7.047499179840088, 7.382289886474609, 12.309284210205078, 7.432631969451904], \"xaxis\": \"x\", \"y\": [6.489957809448242, 6.519889831542969, 6.3262529373168945, 6.880207538604736, 10.564671516418457, 6.71904993057251, 6.606104373931885, 6.688356399536133, 6.903058052062988, 6.8369646072387695, 6.114593982696533, 6.783583641052246], \"yaxis\": \"y\"}, {\"customdata\": [[\"2020-09-13\", \"Polizei | Hunde | Lotta | Welpen | Leipzig | Hund | H\\u00fcndin | Supermarkt\"], [\"2020-09-10\", \"Polizei | Hunde | Lotta | Welpen | Leipzig | Hund | H\\u00fcndin | Supermarkt\"], [\"2020-09-11\", \"Polizei | Hunde | Lotta | Welpen | Leipzig | Hund | H\\u00fcndin | Supermarkt\"], [\"2020-09-12\", \"Polizei | Hunde | Lotta | Welpen | Leipzig | Hund | H\\u00fcndin | Supermarkt\"], [\"2020-09-14\", \"Polizei | Hunde | Lotta | Welpen | Leipzig | Hund | H\\u00fcndin | Supermarkt\"], [\"2020-09-13\", \"Polizei | Hunde | Lotta | Welpen | Leipzig | Hund | H\\u00fcndin | Supermarkt\"], [\"2020-09-09\", \"Polizei | Hunde | Lotta | Welpen | Leipzig | Hund | H\\u00fcndin | Supermarkt\"], [\"2020-09-09\", \"Polizei | Hunde | Lotta | Welpen | Leipzig | Hund | H\\u00fcndin | Supermarkt\"]], \"hovertemplate\": \"<b>%{hovertext}</b><br><br>TopWords=%{customdata[1]}<br>x=%{x}<br>y=%{y}<br>created_at=%{customdata[0]}<extra></extra>\", \"hovertext\": [\"Tiersch\\u00fctzer retten v\\u00f6llig verwahrloste Dackel\", \"Lotta von Entf\\u00fchrerin befreit\", \"Z\\u00f6llner retten Zwergspitz-Welpen\", \"Polizei rettet verwahrloste Welpen aus Wohnung\", \"Ist es wirklich schlecht, seinen Hund zu tragen?\", \"Polizei entdeckt vernachl\\u00e4ssigte Pferde in Sachsen\", \"Lotta beim Einkaufen entf\\u00fchrt!\", \"So l\\u00e4uft das miese Gesch\\u00e4ft mit exotischen Tieren\"], \"legendgroup\": \"Polizei | Hunde | Lotta | Welpen | Leipzig | Hund | H\\u00fcndin | Supermarkt\", \"marker\": {\"color\": \"#EF553B\", \"line\": {\"color\": \"DarkSlateGrey\", \"width\": 0.15}, \"opacity\": 0.8, \"size\": 9, \"symbol\": \"circle\"}, \"mode\": \"markers\", \"name\": \"Polizei | Hunde | Lotta | Welpen | Leipzig | Hund | H\\u00fcndin | Supermarkt\", \"orientation\": \"v\", \"showlegend\": true, \"type\": \"scatter\", \"x\": [11.686262130737305, 11.546904563903809, 11.538923263549805, 11.689353942871094, 11.751971244812012, 11.604979515075684, 11.593423843383789, 11.757220268249512], \"xaxis\": \"x\", \"y\": [8.51710033416748, 9.082273483276367, 8.792520523071289, 8.728168487548828, 8.37608814239502, 8.741874694824219, 9.156780242919922, 8.487154006958008], \"yaxis\": \"y\"}, {\"customdata\": [[\"2020-09-10\", \"Moria | Lesbos | Fl\\u00fcchtlinge | Fl\\u00fcchtlingslager | Kinder | Politik | Menschen | Feuer\"], [\"2020-09-11\", \"Moria | Lesbos | Fl\\u00fcchtlinge | Fl\\u00fcchtlingslager | Kinder | Politik | Menschen | Feuer\"], [\"2020-09-09\", \"Moria | Lesbos | Fl\\u00fcchtlinge | Fl\\u00fcchtlingslager | Kinder | Politik | Menschen | Feuer\"], [\"2020-09-11\", \"Moria | Lesbos | Fl\\u00fcchtlinge | Fl\\u00fcchtlingslager | Kinder | Politik | Menschen | Feuer\"], [\"2020-09-09\", \"Moria | Lesbos | Fl\\u00fcchtlinge | Fl\\u00fcchtlingslager | Kinder | Politik | Menschen | Feuer\"], [\"2020-09-14\", \"Moria | Lesbos | Fl\\u00fcchtlinge | Fl\\u00fcchtlingslager | Kinder | Politik | Menschen | Feuer\"], [\"2020-09-12\", \"Moria | Lesbos | Fl\\u00fcchtlinge | Fl\\u00fcchtlingslager | Kinder | Politik | Menschen | Feuer\"], [\"2020-09-14\", \"Moria | Lesbos | Fl\\u00fcchtlinge | Fl\\u00fcchtlingslager | Kinder | Politik | Menschen | Feuer\"], [\"2020-09-10\", \"Moria | Lesbos | Fl\\u00fcchtlinge | Fl\\u00fcchtlingslager | Kinder | Politik | Menschen | Feuer\"], [\"2020-09-13\", \"Moria | Lesbos | Fl\\u00fcchtlinge | Fl\\u00fcchtlingslager | Kinder | Politik | Menschen | Feuer\"], [\"2020-09-12\", \"Moria | Lesbos | Fl\\u00fcchtlinge | Fl\\u00fcchtlingslager | Kinder | Politik | Menschen | Feuer\"], [\"2020-09-10\", \"Moria | Lesbos | Fl\\u00fcchtlinge | Fl\\u00fcchtlingslager | Kinder | Politik | Menschen | Feuer\"], [\"2020-09-13\", \"Moria | Lesbos | Fl\\u00fcchtlinge | Fl\\u00fcchtlingslager | Kinder | Politik | Menschen | Feuer\"], [\"2020-09-11\", \"Moria | Lesbos | Fl\\u00fcchtlinge | Fl\\u00fcchtlingslager | Kinder | Politik | Menschen | Feuer\"], [\"2020-09-12\", \"Moria | Lesbos | Fl\\u00fcchtlinge | Fl\\u00fcchtlingslager | Kinder | Politik | Menschen | Feuer\"], [\"2020-09-10\", \"Moria | Lesbos | Fl\\u00fcchtlinge | Fl\\u00fcchtlingslager | Kinder | Politik | Menschen | Feuer\"], [\"2020-09-14\", \"Moria | Lesbos | Fl\\u00fcchtlinge | Fl\\u00fcchtlingslager | Kinder | Politik | Menschen | Feuer\"], [\"2020-09-10\", \"Moria | Lesbos | Fl\\u00fcchtlinge | Fl\\u00fcchtlingslager | Kinder | Politik | Menschen | Feuer\"]], \"hovertemplate\": \"<b>%{hovertext}</b><br><br>TopWords=%{customdata[1]}<br>x=%{x}<br>y=%{y}<br>created_at=%{customdata[0]}<extra></extra>\", \"hovertext\": [\"Die Kinder von Moria brauchen unsere Hilfe\", \"Diese Missst\\u00e4nde f\\u00fchrten zur Schande von Moria\", \"Hunderte demonstrieren f\\u00fcr Aufnahme von Fl\\u00fcchtlingen\", \"Deutschland nimmt 100 bis 150 Kinder aus Moria auf\", \"Zweites Feuer im Fl\\u00fcchtlingscamp Moria!\", \"\\u201eVorausgehen taugt nichts, wenn niemand mehr folgen will\\u201c\", \"Polizei setzt Tr\\u00e4nengasgegen Migranten ein\", \"Merkel will mehr Moria-Fl\\u00fcchtlinge aufnehmen!\", \"Alle wussten, dass es passieren w\\u00fcrde\", \"Niemand will ein zweites Moria\", \"Claudia Roth attackiert Seehofer\", \"10 deutsche St\\u00e4dte wollen Moria-Fl\\u00fcchtlinge aufnehmen\", \"Werden Sie nicht zum Herzlos-Kanzler, Herr Kurz!\", \"Viele wollen nach \\u201eGermany\\u201c\", \"Kinder weinen, Politiker streiten\", \"\\u00dcbernahme von 400 Kinder aus Moria in EU\", \"DRK-Hilfsfl\\u00fcge nach Lesbos\", \"Nach zweitem Feuer: Menschen schliefen auf der Stra\\u00dfe\"], \"legendgroup\": \"Moria | Lesbos | Fl\\u00fcchtlinge | Fl\\u00fcchtlingslager | Kinder | Politik | Menschen | Feuer\", \"marker\": {\"color\": \"#00cc96\", \"line\": {\"color\": \"DarkSlateGrey\", \"width\": 0.15}, \"opacity\": 0.8, \"size\": 9, \"symbol\": \"circle\"}, \"mode\": \"markers\", \"name\": \"Moria | Lesbos | Fl\\u00fcchtlinge | Fl\\u00fcchtlingslager | Kinder | Politik | Menschen | Feuer\", \"orientation\": \"v\", \"showlegend\": true, \"type\": \"scatter\", \"x\": [8.019989967346191, 7.944691181182861, 8.480916023254395, 8.089353561401367, 8.223456382751465, 7.934841632843018, 8.009778022766113, 7.901423931121826, 8.076383590698242, 8.103286743164062, 7.88900089263916, 8.012311935424805, 7.67366886138916, 8.015351295471191, 8.097295761108398, 7.99407958984375, 8.003378868103027, 8.15150260925293], \"xaxis\": \"x\", \"y\": [9.263278007507324, 9.119463920593262, 9.510994911193848, 9.126920700073242, 9.895835876464844, 8.93266773223877, 9.247294425964355, 9.003973007202148, 9.372760772705078, 9.318002700805664, 8.702157974243164, 9.119383811950684, 8.846733093261719, 9.407764434814453, 9.34457015991211, 8.964405059814453, 9.027122497558594, 9.69573974609375], \"yaxis\": \"y\"}, {\"customdata\": [[\"2020-09-10\", \"Fortuna D\\u00fcsseldorf | Trainer | Pause | Uwe R\\u00f6sler | Platz | Liga | Ferrari | Fortuna\"], [\"2020-09-12\", \"Fortuna D\\u00fcsseldorf | Trainer | Pause | Uwe R\\u00f6sler | Platz | Liga | Ferrari | Fortuna\"], [\"2020-09-13\", \"Fortuna D\\u00fcsseldorf | Trainer | Pause | Uwe R\\u00f6sler | Platz | Liga | Ferrari | Fortuna\"], [\"2020-09-10\", \"Fortuna D\\u00fcsseldorf | Trainer | Pause | Uwe R\\u00f6sler | Platz | Liga | Ferrari | Fortuna\"], [\"2020-09-12\", \"Fortuna D\\u00fcsseldorf | Trainer | Pause | Uwe R\\u00f6sler | Platz | Liga | Ferrari | Fortuna\"], [\"2020-09-14\", \"Fortuna D\\u00fcsseldorf | Trainer | Pause | Uwe R\\u00f6sler | Platz | Liga | Ferrari | Fortuna\"], [\"2020-09-14\", \"Fortuna D\\u00fcsseldorf | Trainer | Pause | Uwe R\\u00f6sler | Platz | Liga | Ferrari | Fortuna\"], [\"2020-09-09\", \"Fortuna D\\u00fcsseldorf | Trainer | Pause | Uwe R\\u00f6sler | Platz | Liga | Ferrari | Fortuna\"], [\"2020-09-11\", \"Fortuna D\\u00fcsseldorf | Trainer | Pause | Uwe R\\u00f6sler | Platz | Liga | Ferrari | Fortuna\"], [\"2020-09-12\", \"Fortuna D\\u00fcsseldorf | Trainer | Pause | Uwe R\\u00f6sler | Platz | Liga | Ferrari | Fortuna\"], [\"2020-09-11\", \"Fortuna D\\u00fcsseldorf | Trainer | Pause | Uwe R\\u00f6sler | Platz | Liga | Ferrari | Fortuna\"]], \"hovertemplate\": \"<b>%{hovertext}</b><br><br>TopWords=%{customdata[1]}<br>x=%{x}<br>y=%{y}<br>created_at=%{customdata[0]}<extra></extra>\", \"hovertext\": [\"Iyoha drohtlange Pause!\", \"In dieser H\\u00f6lle lebenrund 4000 Kinder\", \"Preu\\u00dfen-Doc beklagt Vertrauens-Verlust\", \"Deshalb steht uns die h\\u00e4rteste NFL-Saison aller Zeiten bevor\", \"Vettel-Frust beim Ferrari-Fest\", \"Zverevs Titel-Traum zerst\\u00f6rt\", \"\\u201eKrieger\\u201d Sobottka zieht wieder die Strippen\", \"Kownacki wankt \\u00fcber den Platz\", \"Wolf bekommtdie Nr. 1\", \"FINALE statt BLAMAGE!\", \"Zum Pokal-Start nur Hennings da\"], \"legendgroup\": \"Fortuna D\\u00fcsseldorf | Trainer | Pause | Uwe R\\u00f6sler | Platz | Liga | Ferrari | Fortuna\", \"marker\": {\"color\": \"#ab63fa\", \"line\": {\"color\": \"DarkSlateGrey\", \"width\": 0.15}, \"opacity\": 0.8, \"size\": 9, \"symbol\": \"circle\"}, \"mode\": \"markers\", \"name\": \"Fortuna D\\u00fcsseldorf | Trainer | Pause | Uwe R\\u00f6sler | Platz | Liga | Ferrari | Fortuna\", \"orientation\": \"v\", \"showlegend\": true, \"type\": \"scatter\", \"x\": [9.971059799194336, 8.126030921936035, 10.013321876525879, 11.509836196899414, 6.70258903503418, 12.72299575805664, 9.286157608032227, 9.7728271484375, 9.77281665802002, 12.695822715759277, 9.598959922790527], \"xaxis\": \"x\", \"y\": [0.6501989960670471, 9.390192031860352, 0.8890371322631836, 1.926093578338623, 3.6336779594421387, 2.654327869415283, -0.38138848543167114, 0.36547401547431946, 0.5272632241249084, 2.6763579845428467, -0.013867904432117939], \"yaxis\": \"y\"}, {\"customdata\": [[\"2020-09-13\", \"Formel 1 | Mugello | Rennen | Ferrari | Sebastian Vettel | Aston Martin | Massen-Crash | Wechsel\"], [\"2020-09-11\", \"Formel 1 | Mugello | Rennen | Ferrari | Sebastian Vettel | Aston Martin | Massen-Crash | Wechsel\"], [\"2020-09-11\", \"Formel 1 | Mugello | Rennen | Ferrari | Sebastian Vettel | Aston Martin | Massen-Crash | Wechsel\"], [\"2020-09-14\", \"Formel 1 | Mugello | Rennen | Ferrari | Sebastian Vettel | Aston Martin | Massen-Crash | Wechsel\"], [\"2020-09-13\", \"Formel 1 | Mugello | Rennen | Ferrari | Sebastian Vettel | Aston Martin | Massen-Crash | Wechsel\"], [\"2020-09-12\", \"Formel 1 | Mugello | Rennen | Ferrari | Sebastian Vettel | Aston Martin | Massen-Crash | Wechsel\"], [\"2020-09-10\", \"Formel 1 | Mugello | Rennen | Ferrari | Sebastian Vettel | Aston Martin | Massen-Crash | Wechsel\"], [\"2020-09-13\", \"Formel 1 | Mugello | Rennen | Ferrari | Sebastian Vettel | Aston Martin | Massen-Crash | Wechsel\"], [\"2020-09-10\", \"Formel 1 | Mugello | Rennen | Ferrari | Sebastian Vettel | Aston Martin | Massen-Crash | Wechsel\"], [\"2020-09-13\", \"Formel 1 | Mugello | Rennen | Ferrari | Sebastian Vettel | Aston Martin | Massen-Crash | Wechsel\"], [\"2020-09-12\", \"Formel 1 | Mugello | Rennen | Ferrari | Sebastian Vettel | Aston Martin | Massen-Crash | Wechsel\"], [\"2020-09-12\", \"Formel 1 | Mugello | Rennen | Ferrari | Sebastian Vettel | Aston Martin | Massen-Crash | Wechsel\"], [\"2020-09-14\", \"Formel 1 | Mugello | Rennen | Ferrari | Sebastian Vettel | Aston Martin | Massen-Crash | Wechsel\"], [\"2020-09-14\", \"Formel 1 | Mugello | Rennen | Ferrari | Sebastian Vettel | Aston Martin | Massen-Crash | Wechsel\"], [\"2020-09-13\", \"Formel 1 | Mugello | Rennen | Ferrari | Sebastian Vettel | Aston Martin | Massen-Crash | Wechsel\"], [\"2020-09-13\", \"Formel 1 | Mugello | Rennen | Ferrari | Sebastian Vettel | Aston Martin | Massen-Crash | Wechsel\"], [\"2020-09-11\", \"Formel 1 | Mugello | Rennen | Ferrari | Sebastian Vettel | Aston Martin | Massen-Crash | Wechsel\"], [\"2020-09-13\", \"Formel 1 | Mugello | Rennen | Ferrari | Sebastian Vettel | Aston Martin | Massen-Crash | Wechsel\"], [\"2020-09-12\", \"Formel 1 | Mugello | Rennen | Ferrari | Sebastian Vettel | Aston Martin | Massen-Crash | Wechsel\"], [\"2020-09-13\", \"Formel 1 | Mugello | Rennen | Ferrari | Sebastian Vettel | Aston Martin | Massen-Crash | Wechsel\"], [\"2020-09-09\", \"Formel 1 | Mugello | Rennen | Ferrari | Sebastian Vettel | Aston Martin | Massen-Crash | Wechsel\"], [\"2020-09-10\", \"Formel 1 | Mugello | Rennen | Ferrari | Sebastian Vettel | Aston Martin | Massen-Crash | Wechsel\"], [\"2020-09-11\", \"Formel 1 | Mugello | Rennen | Ferrari | Sebastian Vettel | Aston Martin | Massen-Crash | Wechsel\"], [\"2020-09-10\", \"Formel 1 | Mugello | Rennen | Ferrari | Sebastian Vettel | Aston Martin | Massen-Crash | Wechsel\"]], \"hovertemplate\": \"<b>%{hovertext}</b><br><br>TopWords=%{customdata[1]}<br>x=%{x}<br>y=%{y}<br>created_at=%{customdata[0]}<extra></extra>\", \"hovertext\": [\"Mick f\\u00e4hrt SchumisRekord-Ferrari\", \"Ernst August f\\u00e4hrtzur Nervenklinik\", \"Formel 1 schenkt Ferrari ein Heim-Rennen\", \"Darum gibt's gerade soviele Crashs in der Formel 1\", \"MotoGP-Krimi! Last-Minute-Schock f\\u00fcr Rossi\", \"Alles M\\u00fcller, oder Rast?\", \"BILD enth\\u00fclltden Vettel-Vertrag\", \"Massen-Crash beim Neustart\", \"FORMEL BOND\", \"\\u201eWollen die uns t\\u00f6ten, oder was!?\\u201c\", \"\\u201eMein Vater hat eine Legende geschaffen\\u201c\", \"Moto-GP-Legende Rossi f\\u00e4hrt mit Viagra-Helm\", \"So kam es zum Massen-Crash in der Formel 1\", \"Hamilton braucht noch 309,7 Kilometer bis zum Schumi-Rekord\", \"Hamilton f\\u00e4hrt dem Chaos davon\", \"\\u201eEs gibt viel, dass ichvon Mick lernen kann\\u201c\", \"Neue Privatleasing-Schn\\u00e4ppchen\", \"Dieser Rennfahrer f\\u00e4hrt mit Gottes Segen\", \"Ferraris Aufw\\u00e4rmrunde\", \"Hamilton mit Protest-Shirtauf dem Podium\", \"Mick f\\u00e4hrtSchumis rote G\\u00f6ttin\", \"VETTEL Darum gehe ichzu Aston Martin\", \"Das erwartet Vettelbei Aston Martin\", \"Vettel hat schon einen neuen Dienstwagen\"], \"legendgroup\": \"Formel 1 | Mugello | Rennen | Ferrari | Sebastian Vettel | Aston Martin | Massen-Crash | Wechsel\", \"marker\": {\"color\": \"#FFA15A\", \"line\": {\"color\": \"DarkSlateGrey\", \"width\": 0.15}, \"opacity\": 0.8, \"size\": 9, \"symbol\": \"circle\"}, \"mode\": \"markers\", \"name\": \"Formel 1 | Mugello | Rennen | Ferrari | Sebastian Vettel | Aston Martin | Massen-Crash | Wechsel\", \"orientation\": \"v\", \"showlegend\": true, \"type\": \"scatter\", \"x\": [6.881146430969238, 7.037681579589844, 6.777223110198975, 6.753021717071533, 6.685262203216553, 6.736511707305908, 6.800724029541016, 6.687175273895264, 6.856520652770996, 6.788315773010254, 6.921940326690674, 6.91500997543335, 6.65254020690918, 6.782012462615967, 6.691393852233887, 6.836850166320801, 7.185091018676758, 6.793588161468506, 6.707310676574707, 6.689414024353027, 6.871706485748291, 6.808995246887207, 6.797173500061035, 6.844361782073975], \"xaxis\": \"x\", \"y\": [3.8333377838134766, 4.315108299255371, 3.6885604858398438, 3.6661338806152344, 3.628202438354492, 3.643673896789551, 3.7810897827148438, 3.5851528644561768, 3.8301336765289307, 3.653562068939209, 3.859529733657837, 3.76887583732605, 3.583294153213501, 3.699023962020874, 3.6093621253967285, 3.6675002574920654, 5.229524612426758, 3.756465435028076, 3.661126136779785, 3.648846387863159, 3.86362361907959, 3.717475414276123, 3.809438943862915, 3.857039451599121], \"yaxis\": \"y\"}, {\"customdata\": [[\"2020-09-10\", \"Love Island | Leute | Star | Stars | Hollywood | Instagram | Netflix | Tatort\"], [\"2020-09-12\", \"Love Island | Leute | Star | Stars | Hollywood | Instagram | Netflix | Tatort\"], [\"2020-09-11\", \"Love Island | Leute | Star | Stars | Hollywood | Instagram | Netflix | Tatort\"], [\"2020-09-09\", \"Love Island | Leute | Star | Stars | Hollywood | Instagram | Netflix | Tatort\"], [\"2020-09-11\", \"Love Island | Leute | Star | Stars | Hollywood | Instagram | Netflix | Tatort\"], [\"2020-09-13\", \"Love Island | Leute | Star | Stars | Hollywood | Instagram | Netflix | Tatort\"], [\"2020-09-12\", \"Love Island | Leute | Star | Stars | Hollywood | Instagram | Netflix | Tatort\"], [\"2020-09-11\", \"Love Island | Leute | Star | Stars | Hollywood | Instagram | Netflix | Tatort\"], [\"2020-09-10\", \"Love Island | Leute | Star | Stars | Hollywood | Instagram | Netflix | Tatort\"], [\"2020-09-11\", \"Love Island | Leute | Star | Stars | Hollywood | Instagram | Netflix | Tatort\"], [\"2020-09-14\", \"Love Island | Leute | Star | Stars | Hollywood | Instagram | Netflix | Tatort\"], [\"2020-09-10\", \"Love Island | Leute | Star | Stars | Hollywood | Instagram | Netflix | Tatort\"], [\"2020-09-10\", \"Love Island | Leute | Star | Stars | Hollywood | Instagram | Netflix | Tatort\"], [\"2020-09-09\", \"Love Island | Leute | Star | Stars | Hollywood | Instagram | Netflix | Tatort\"], [\"2020-09-10\", \"Love Island | Leute | Star | Stars | Hollywood | Instagram | Netflix | Tatort\"], [\"2020-09-12\", \"Love Island | Leute | Star | Stars | Hollywood | Instagram | Netflix | Tatort\"], [\"2020-09-11\", \"Love Island | Leute | Star | Stars | Hollywood | Instagram | Netflix | Tatort\"], [\"2020-09-13\", \"Love Island | Leute | Star | Stars | Hollywood | Instagram | Netflix | Tatort\"], [\"2020-09-14\", \"Love Island | Leute | Star | Stars | Hollywood | Instagram | Netflix | Tatort\"], [\"2020-09-09\", \"Love Island | Leute | Star | Stars | Hollywood | Instagram | Netflix | Tatort\"], [\"2020-09-10\", \"Love Island | Leute | Star | Stars | Hollywood | Instagram | Netflix | Tatort\"], [\"2020-09-11\", \"Love Island | Leute | Star | Stars | Hollywood | Instagram | Netflix | Tatort\"], [\"2020-09-09\", \"Love Island | Leute | Star | Stars | Hollywood | Instagram | Netflix | Tatort\"], [\"2020-09-09\", \"Love Island | Leute | Star | Stars | Hollywood | Instagram | Netflix | Tatort\"], [\"2020-09-09\", \"Love Island | Leute | Star | Stars | Hollywood | Instagram | Netflix | Tatort\"], [\"2020-09-10\", \"Love Island | Leute | Star | Stars | Hollywood | Instagram | Netflix | Tatort\"], [\"2020-09-11\", \"Love Island | Leute | Star | Stars | Hollywood | Instagram | Netflix | Tatort\"], [\"2020-09-14\", \"Love Island | Leute | Star | Stars | Hollywood | Instagram | Netflix | Tatort\"], [\"2020-09-12\", \"Love Island | Leute | Star | Stars | Hollywood | Instagram | Netflix | Tatort\"], [\"2020-09-11\", \"Love Island | Leute | Star | Stars | Hollywood | Instagram | Netflix | Tatort\"], [\"2020-09-10\", \"Love Island | Leute | Star | Stars | Hollywood | Instagram | Netflix | Tatort\"], [\"2020-09-12\", \"Love Island | Leute | Star | Stars | Hollywood | Instagram | Netflix | Tatort\"], [\"2020-09-13\", \"Love Island | Leute | Star | Stars | Hollywood | Instagram | Netflix | Tatort\"], [\"2020-09-12\", \"Love Island | Leute | Star | Stars | Hollywood | Instagram | Netflix | Tatort\"], [\"2020-09-11\", \"Love Island | Leute | Star | Stars | Hollywood | Instagram | Netflix | Tatort\"], [\"2020-09-10\", \"Love Island | Leute | Star | Stars | Hollywood | Instagram | Netflix | Tatort\"], [\"2020-09-11\", \"Love Island | Leute | Star | Stars | Hollywood | Instagram | Netflix | Tatort\"], [\"2020-09-12\", \"Love Island | Leute | Star | Stars | Hollywood | Instagram | Netflix | Tatort\"], [\"2020-09-12\", \"Love Island | Leute | Star | Stars | Hollywood | Instagram | Netflix | Tatort\"], [\"2020-09-09\", \"Love Island | Leute | Star | Stars | Hollywood | Instagram | Netflix | Tatort\"], [\"2020-09-13\", \"Love Island | Leute | Star | Stars | Hollywood | Instagram | Netflix | Tatort\"], [\"2020-09-11\", \"Love Island | Leute | Star | Stars | Hollywood | Instagram | Netflix | Tatort\"], [\"2020-09-11\", \"Love Island | Leute | Star | Stars | Hollywood | Instagram | Netflix | Tatort\"], [\"2020-09-11\", \"Love Island | Leute | Star | Stars | Hollywood | Instagram | Netflix | Tatort\"], [\"2020-09-13\", \"Love Island | Leute | Star | Stars | Hollywood | Instagram | Netflix | Tatort\"], [\"2020-09-13\", \"Love Island | Leute | Star | Stars | Hollywood | Instagram | Netflix | Tatort\"], [\"2020-09-10\", \"Love Island | Leute | Star | Stars | Hollywood | Instagram | Netflix | Tatort\"], [\"2020-09-10\", \"Love Island | Leute | Star | Stars | Hollywood | Instagram | Netflix | Tatort\"], [\"2020-09-13\", \"Love Island | Leute | Star | Stars | Hollywood | Instagram | Netflix | Tatort\"], [\"2020-09-14\", \"Love Island | Leute | Star | Stars | Hollywood | Instagram | Netflix | Tatort\"], [\"2020-09-13\", \"Love Island | Leute | Star | Stars | Hollywood | Instagram | Netflix | Tatort\"], [\"2020-09-10\", \"Love Island | Leute | Star | Stars | Hollywood | Instagram | Netflix | Tatort\"], [\"2020-09-10\", \"Love Island | Leute | Star | Stars | Hollywood | Instagram | Netflix | Tatort\"], [\"2020-09-14\", \"Love Island | Leute | Star | Stars | Hollywood | Instagram | Netflix | Tatort\"], [\"2020-09-14\", \"Love Island | Leute | Star | Stars | Hollywood | Instagram | Netflix | Tatort\"], [\"2020-09-13\", \"Love Island | Leute | Star | Stars | Hollywood | Instagram | Netflix | Tatort\"], [\"2020-09-09\", \"Love Island | Leute | Star | Stars | Hollywood | Instagram | Netflix | Tatort\"], [\"2020-09-10\", \"Love Island | Leute | Star | Stars | Hollywood | Instagram | Netflix | Tatort\"], [\"2020-09-10\", \"Love Island | Leute | Star | Stars | Hollywood | Instagram | Netflix | Tatort\"], [\"2020-09-14\", \"Love Island | Leute | Star | Stars | Hollywood | Instagram | Netflix | Tatort\"]], \"hovertemplate\": \"<b>%{hovertext}</b><br><br>TopWords=%{customdata[1]}<br>x=%{x}<br>y=%{y}<br>created_at=%{customdata[0]}<extra></extra>\", \"hovertext\": [\"So stinkreich ist derKardashian-Clan\", \"Sex-Proll Henrik knutscht fremd\", \"Kleinw\\u00fcchsiger Wrestler Stevie Lee stirbt mit 54 Jahren\", \"Queere Mega-Besetzung f\\u00fcr neue Netflix-Serie\", \"Flotte Frauen machen Abts DTM-Stars schnell!\", \"Hollywood-K\\u00f6nig zeigt seine Prinzen-Familie\", \"Hier sprie\\u00dfen nicht nur die Blumen\", \"Nach den Knutsch-Fotos servierte er seine Verlobte ab!\", \"Drama um Raabs Kult-Rentner Ingrid und Klaus\", \"Da gl\\u00fcht der Sand am Strand\", \"Liebt Pietro Lombardi diese Influencerin?\", \"\\u201eSo etwas Asoziales habe ich noch nicht erlebt\\u201c\", \"Christine Neubauer spielt gegen Corona-Krise\", \"\\u201eWir sind im Krankenhaus f\\u00fcr Geisteskranke\\u201c\", \"Ruiniert das Virusunsere Kultur?\", \"Schlagabtausch der Dschungelnattern!\", \"Steffen Hensslerbricht TV-Dreh ab\", \"Sieht so der neue Feminismus aus?\", \"Ex-Porno-Star (24)stirbt im Schlaf\", \"Politiker-Enkel hat Sex bei \\u201eLove Island\\u201c!\", \"Politiker-Enkel wird zum Sex-Proll\", \"Zac Efrons Neue ist Kellnerin\", \"Badesalz macht Radio\", \"Mein Freund macht mich verr\\u00fcckt\", \"\\u201eTwin Peaks\\u201c- und \\u201eFargo\\u201c- Fans bitte einschalten!\", \"Dieser Influencer-Kussheizte Venedig ein!\", \"So heftig war dieTorten-Attacke wirklich\", \"Penis-Protz Hendrik geht auf Luca los\", \"\\u201eIch denke nicht an das Alter\\u201c\", \"Heidis Next Topmodel\", \"Der \\u201eTatort\\u201c-Star musste Soforthilfe beantragen\", \"Darum ist b\\u00f6se besser als nett\", \"Wir sind das neue Traumpaar im TV\", \"Micaela (36) ist scharf auf Gerhard Schr\\u00f6der (76)\", \"Was ein altes Video \\u00fcberden Sex-Proll verr\\u00e4t\", \"Dschungelcamp-Star Elena Miras ist wieder solo\", \"Fan-Liebling Andr\\u00e9 Dietzsteigt nach 14 Jahren aus!\", \"Jetzt beenden sie sogar die Familientherapie\", \"Kleider machen LEADER\", \"Falsche Tierliebe tut weh\", \"Garmisch-Partenkirchen sauer auf die Superspreaderin\", \"P\\u00e4dophilie-Skandal um Netflix-Film \\u201eCuties\\u201c!\", \"Hei\\u00dfe Poledance-Einlage inder \\u201eLove Island\\u201c-Villa\", \"Fummel-Premiere auf \\u201eLove Island\\u201c\", \"\\u201eSexy Granaten\\u201c sprengen die Paare auseinander\", \"DIESEN Job macht Laura M\\u00fcller neben Bohlen und Co.\", \"Nachwuchs bei \\u201eKampf der Realitystars\\u201c?\", \"Heidi Klums Pr\\u00fcgel-Model: Drogen-Entzug im Kloster!\", \"\\u201eMeine tote Mutter hilft mir beim Songschreiben\\u201c\", \"Elena Carri\\u00e8re (23) zeigt ihre Cellulite\", \"Warum Hollywood vor China kuscht\", \"Rosige Rache an Brad Pitt\", \"Hei\\u00dfe Schaumparty in der \\u201eLove Island\\u201c-Villa\", \"Wie viel vom Fall Nawalnysteckte in diesem \\u201eTatort\\u201c?\", \"Pietro Lombardi ist nicht mehr single!\", \"Raten Sie mal, wer hier auf Prince macht\", \"Diese Stars waren ihre gro\\u00dfen Kinorollen ganz schnell los\", \"Bitte keine politischen Regeln f\\u00fcr die Kunst!\", \"\\u201eGame of Thrones\\u201c-Star Diana Rigg gestorben\", \"Wie Raab hinter der Kamera die F\\u00e4den zieht\"], \"legendgroup\": \"Love Island | Leute | Star | Stars | Hollywood | Instagram | Netflix | Tatort\", \"marker\": {\"color\": \"#19d3f3\", \"line\": {\"color\": \"DarkSlateGrey\", \"width\": 0.15}, \"opacity\": 0.8, \"size\": 9, \"symbol\": \"circle\"}, \"mode\": \"markers\", \"name\": \"Love Island | Leute | Star | Stars | Hollywood | Instagram | Netflix | Tatort\", \"orientation\": \"v\", \"showlegend\": true, \"type\": \"scatter\", \"x\": [13.055207252502441, 12.828500747680664, 12.290091514587402, 12.40361213684082, 12.53978157043457, 12.248766899108887, 13.3311767578125, 12.844292640686035, 12.066308975219727, 13.243439674377441, 12.784393310546875, 12.37369155883789, 11.467768669128418, 11.962915420532227, 11.62584114074707, 12.475545883178711, 11.350257873535156, 12.863122940063477, 12.697541236877441, 12.572009086608887, 12.669740676879883, 12.934650421142578, 10.992456436157227, 12.542481422424316, 12.32080078125, 12.796577453613281, 12.444981575012207, 12.68369197845459, 12.229650497436523, 13.33903694152832, 11.645235061645508, 11.763988494873047, 12.48715877532959, 12.594265937805176, 12.238348960876465, 12.747881889343262, 11.491742134094238, 12.875288963317871, 13.055956840515137, 12.25864315032959, 9.46469783782959, 12.30384635925293, 12.662044525146484, 12.76392936706543, 12.62694263458252, 12.175762176513672, 12.739762306213379, 12.864887237548828, 12.01346492767334, 13.211614608764648, 12.432641983032227, 12.725199699401855, 12.23592472076416, 11.660481452941895, 12.893928527832031, 12.383322715759277, 12.048340797424316, 12.156098365783691, 12.664224624633789, 11.73320484161377], \"xaxis\": \"x\", \"y\": [5.514403343200684, 4.898579120635986, 6.632202625274658, 5.9815874099731445, 5.628365993499756, 6.020547389984131, 5.224132537841797, 5.987728595733643, 4.576275825500488, 5.283046722412109, 5.313691139221191, 4.611173152923584, 5.432664394378662, 4.473970413208008, 4.251086235046387, 4.591573715209961, 5.179520130157471, 5.079470634460449, 6.580750465393066, 4.814076900482178, 4.95700216293335, 5.801087379455566, 5.205455780029297, 6.297323703765869, 6.311933994293213, 5.7183427810668945, 4.753492832183838, 5.075772285461426, 6.208431243896484, 5.244211673736572, 4.2303547859191895, 5.065193176269531, 4.965527057647705, 4.576792240142822, 5.117424011230469, 5.520219802856445, 5.9151482582092285, 5.51981782913208, 5.363516330718994, 6.466739654541016, 8.32974910736084, 6.104605674743652, 4.9608473777771, 4.924228191375732, 4.7392754554748535, 4.637598991394043, 5.208451747894287, 4.791311264038086, 5.476814270019531, 5.233630657196045, 6.1398210525512695, 5.710227966308594, 4.668601036071777, 5.750148773193359, 5.261578559875488, 4.57847785949707, 5.862100601196289, 5.7953362464904785, 6.3370842933654785, 4.72565221786499], \"yaxis\": \"y\"}, {\"customdata\": [[\"2020-09-12\", \"Kalifornien | Br\\u00e4nde | Westk\\u00fcste | Flammen | Waldbr\\u00e4nde | US | Smog | Feuer\"], [\"2020-09-11\", \"Kalifornien | Br\\u00e4nde | Westk\\u00fcste | Flammen | Waldbr\\u00e4nde | US | Smog | Feuer\"], [\"2020-09-14\", \"Kalifornien | Br\\u00e4nde | Westk\\u00fcste | Flammen | Waldbr\\u00e4nde | US | Smog | Feuer\"]], \"hovertemplate\": \"<b>%{hovertext}</b><br><br>TopWords=%{customdata[1]}<br>x=%{x}<br>y=%{y}<br>created_at=%{customdata[0]}<extra></extra>\", \"hovertext\": [\"Feuerexperte: \\u201eEigentlich muss es noch mehr brennen!\\u201c\", \"Schon 15 Feuer-Opfer an der US-Westk\\u00fcste\", \"35 Tote durch Kalifornien-Br\\u00e4nde\"], \"legendgroup\": \"Kalifornien | Br\\u00e4nde | Westk\\u00fcste | Flammen | Waldbr\\u00e4nde | US | Smog | Feuer\", \"marker\": {\"color\": \"#FF6692\", \"line\": {\"color\": \"DarkSlateGrey\", \"width\": 0.15}, \"opacity\": 0.8, \"size\": 9, \"symbol\": \"circle\"}, \"mode\": \"markers\", \"name\": \"Kalifornien | Br\\u00e4nde | Westk\\u00fcste | Flammen | Waldbr\\u00e4nde | US | Smog | Feuer\", \"orientation\": \"v\", \"showlegend\": true, \"type\": \"scatter\", \"x\": [7.896129608154297, 7.779565334320068, 7.55695915222168], \"xaxis\": \"x\", \"y\": [10.701432228088379, 10.589482307434082, 10.609604835510254], \"yaxis\": \"y\"}, {\"customdata\": [[\"2020-09-13\", \"Corona | Garmisch-Partenkirchen | Flammen | FIFA | Menschen | Spieler | Ratings | Schweinepest\"], [\"2020-09-13\", \"Corona | Garmisch-Partenkirchen | Flammen | FIFA | Menschen | Spieler | Ratings | Schweinepest\"], [\"2020-09-14\", \"Corona | Garmisch-Partenkirchen | Flammen | FIFA | Menschen | Spieler | Ratings | Schweinepest\"], [\"2020-09-12\", \"Corona | Garmisch-Partenkirchen | Flammen | FIFA | Menschen | Spieler | Ratings | Schweinepest\"], [\"2020-09-13\", \"Corona | Garmisch-Partenkirchen | Flammen | FIFA | Menschen | Spieler | Ratings | Schweinepest\"], [\"2020-09-10\", \"Corona | Garmisch-Partenkirchen | Flammen | FIFA | Menschen | Spieler | Ratings | Schweinepest\"], [\"2020-09-14\", \"Corona | Garmisch-Partenkirchen | Flammen | FIFA | Menschen | Spieler | Ratings | Schweinepest\"], [\"2020-09-12\", \"Corona | Garmisch-Partenkirchen | Flammen | FIFA | Menschen | Spieler | Ratings | Schweinepest\"], [\"2020-09-12\", \"Corona | Garmisch-Partenkirchen | Flammen | FIFA | Menschen | Spieler | Ratings | Schweinepest\"], [\"2020-09-12\", \"Corona | Garmisch-Partenkirchen | Flammen | FIFA | Menschen | Spieler | Ratings | Schweinepest\"], [\"2020-09-11\", \"Corona | Garmisch-Partenkirchen | Flammen | FIFA | Menschen | Spieler | Ratings | Schweinepest\"], [\"2020-09-11\", \"Corona | Garmisch-Partenkirchen | Flammen | FIFA | Menschen | Spieler | Ratings | Schweinepest\"], [\"2020-09-12\", \"Corona | Garmisch-Partenkirchen | Flammen | FIFA | Menschen | Spieler | Ratings | Schweinepest\"], [\"2020-09-10\", \"Corona | Garmisch-Partenkirchen | Flammen | FIFA | Menschen | Spieler | Ratings | Schweinepest\"], [\"2020-09-10\", \"Corona | Garmisch-Partenkirchen | Flammen | FIFA | Menschen | Spieler | Ratings | Schweinepest\"], [\"2020-09-11\", \"Corona | Garmisch-Partenkirchen | Flammen | FIFA | Menschen | Spieler | Ratings | Schweinepest\"], [\"2020-09-13\", \"Corona | Garmisch-Partenkirchen | Flammen | FIFA | Menschen | Spieler | Ratings | Schweinepest\"], [\"2020-09-12\", \"Corona | Garmisch-Partenkirchen | Flammen | FIFA | Menschen | Spieler | Ratings | Schweinepest\"], [\"2020-09-11\", \"Corona | Garmisch-Partenkirchen | Flammen | FIFA | Menschen | Spieler | Ratings | Schweinepest\"], [\"2020-09-13\", \"Corona | Garmisch-Partenkirchen | Flammen | FIFA | Menschen | Spieler | Ratings | Schweinepest\"], [\"2020-09-11\", \"Corona | Garmisch-Partenkirchen | Flammen | FIFA | Menschen | Spieler | Ratings | Schweinepest\"], [\"2020-09-11\", \"Corona | Garmisch-Partenkirchen | Flammen | FIFA | Menschen | Spieler | Ratings | Schweinepest\"], [\"2020-09-12\", \"Corona | Garmisch-Partenkirchen | Flammen | FIFA | Menschen | Spieler | Ratings | Schweinepest\"], [\"2020-09-14\", \"Corona | Garmisch-Partenkirchen | Flammen | FIFA | Menschen | Spieler | Ratings | Schweinepest\"], [\"2020-09-14\", \"Corona | Garmisch-Partenkirchen | Flammen | FIFA | Menschen | Spieler | Ratings | Schweinepest\"], [\"2020-09-13\", \"Corona | Garmisch-Partenkirchen | Flammen | FIFA | Menschen | Spieler | Ratings | Schweinepest\"], [\"2020-09-11\", \"Corona | Garmisch-Partenkirchen | Flammen | FIFA | Menschen | Spieler | Ratings | Schweinepest\"], [\"2020-09-09\", \"Corona | Garmisch-Partenkirchen | Flammen | FIFA | Menschen | Spieler | Ratings | Schweinepest\"], [\"2020-09-09\", \"Corona | Garmisch-Partenkirchen | Flammen | FIFA | Menschen | Spieler | Ratings | Schweinepest\"], [\"2020-09-10\", \"Corona | Garmisch-Partenkirchen | Flammen | FIFA | Menschen | Spieler | Ratings | Schweinepest\"], [\"2020-09-10\", \"Corona | Garmisch-Partenkirchen | Flammen | FIFA | Menschen | Spieler | Ratings | Schweinepest\"], [\"2020-09-14\", \"Corona | Garmisch-Partenkirchen | Flammen | FIFA | Menschen | Spieler | Ratings | Schweinepest\"], [\"2020-09-13\", \"Corona | Garmisch-Partenkirchen | Flammen | FIFA | Menschen | Spieler | Ratings | Schweinepest\"], [\"2020-09-10\", \"Corona | Garmisch-Partenkirchen | Flammen | FIFA | Menschen | Spieler | Ratings | Schweinepest\"], [\"2020-09-12\", \"Corona | Garmisch-Partenkirchen | Flammen | FIFA | Menschen | Spieler | Ratings | Schweinepest\"], [\"2020-09-11\", \"Corona | Garmisch-Partenkirchen | Flammen | FIFA | Menschen | Spieler | Ratings | Schweinepest\"], [\"2020-09-12\", \"Corona | Garmisch-Partenkirchen | Flammen | FIFA | Menschen | Spieler | Ratings | Schweinepest\"], [\"2020-09-11\", \"Corona | Garmisch-Partenkirchen | Flammen | FIFA | Menschen | Spieler | Ratings | Schweinepest\"], [\"2020-09-12\", \"Corona | Garmisch-Partenkirchen | Flammen | FIFA | Menschen | Spieler | Ratings | Schweinepest\"], [\"2020-09-09\", \"Corona | Garmisch-Partenkirchen | Flammen | FIFA | Menschen | Spieler | Ratings | Schweinepest\"], [\"2020-09-13\", \"Corona | Garmisch-Partenkirchen | Flammen | FIFA | Menschen | Spieler | Ratings | Schweinepest\"]], \"hovertemplate\": \"<b>%{hovertext}</b><br><br>TopWords=%{customdata[1]}<br>x=%{x}<br>y=%{y}<br>created_at=%{customdata[0]}<extra></extra>\", \"hovertext\": [\"Goldh\\u00e4ndchen R\\u00f6sler!\", \"Todesfalle Oldtimer\", \"SCHAUMhochzeit auf Schloss B\\u00fcckeburg\", \"BMW fackelt auf A57 ab\", \"Thiem gegen Zverev \\u2013das Kumpel-Duell!\", \"Entflogener Hornvogel eingefangen\", \"Das sagen die deutscheneSport-Stars zu den Ratings!\", \"Eine Stadt wartet auf Corona-Ergebnisse\", \"Masturbieren Sie mal mit Ihrem Partner!\", \"\\u201eEr war einer der liebevollsten Menschen der Welt\\u201c\", \"Deutschland nimmt 100 bis 150 Minderj\\u00e4hrige auf\", \"Kleines ABC der Schweinepest\", \"So hart trifft uns der Exportstopp nach China\", \"So werden aus 10\\u00a0000 Euro mit etwas Geduld 99\\u00a0000 Euro!\", \"Eltern auf Flucht vor dem Feuer verletzt, Baby tot!\", \"Superspreaderin (26) zieht hochinfekti\\u00f6s durch Bars\", \"Audi ist das Mercedes der DTM\", \"Motorrad-Werkstatt in Flammen\", \"Die Kinder von Moria lernen weiter\", \"8 Gr\\u00fcnde, wieso Corona der Liebe gut tut!\", \"Spahn-Auftritt bei BILD-Talk ist jetzt sogar Kunst\", \"Garmisch versch\\u00e4rft Corona-Ma\\u00dfnahmen\", \"Die Obert und ihr Liebesnest\", \"Urlaub in der Villa von \\u201eDer Prinz von Bel-Air\\u201c gef\\u00e4llig?\", \"Diese Spieler solltetihr euch holen!\", \"Im TV! Zverevs Bruderkommen die Tr\\u00e4nen\", \"Pfiffe f\\u00fcr Protestaktion bei NFL-Auftakt\", \"Motorradfahrer t\\u00f6dlich verungl\\u00fcckt\", \"Brady muss f\\u00fcr denTitel alles neu lernen\", \"Gro\\u00dfbrand am Hafen von Beirut\", \"Laster fackelt auf der A5 ab\", \"EU muss Chinas Firmen-\\u201eEinkaufstour\\u201c stoppen!\", \"Anwalt: Superspreaderin droht lange Haftstrafe\", \"E-Bike-Fahrer stirbt nach Sturz\", \"China verbietet Import von deutschem Schweinefleisch\", \"Fu\\u00dfball-Stars motzen \\u00fcber FIFA-Wertungen\", \"N\\u00e4chstes Pokal-Spielvor Absage\", \"Warten auf das Unstrut-Kroko\", \"Feuerteufel treibt im K\\u00f6lner Westen sein Unwesen\", \"Wendlers Laura riskiert \\u2019ne dicke Lippe\", \"Pub-Betreiber total fertig: \\u201eDas ist eine Katastrophe!\\u201c\"], \"legendgroup\": \"Corona | Garmisch-Partenkirchen | Flammen | FIFA | Menschen | Spieler | Ratings | Schweinepest\", \"marker\": {\"color\": \"#B6E880\", \"line\": {\"color\": \"DarkSlateGrey\", \"width\": 0.15}, \"opacity\": 0.8, \"size\": 9, \"symbol\": \"circle\"}, \"mode\": \"markers\", \"name\": \"Corona | Garmisch-Partenkirchen | Flammen | FIFA | Menschen | Spieler | Ratings | Schweinepest\", \"orientation\": \"v\", \"showlegend\": true, \"type\": \"scatter\", \"x\": [9.448525428771973, 9.644418716430664, 12.136643409729004, 9.24547004699707, 12.629237174987793, 11.416728019714355, 8.85899543762207, 9.23392105102539, 12.736091613769531, 11.255111694335938, 8.058140754699707, 10.187541961669922, 10.112308502197266, 6.823204517364502, 7.797583103179932, 9.111337661743164, 6.674614429473877, 9.053813934326172, 10.108792304992676, 11.934219360351562, 11.62199878692627, 8.960362434387207, 11.814910888671875, 12.359639167785645, 9.068026542663574, 12.628453254699707, 11.53852367401123, 9.695475578308105, 11.42745304107666, 8.249178886413574, 9.405328750610352, 6.950527191162109, 11.0968599319458, 9.352320671081543, 10.234094619750977, 8.395727157592773, 9.439537048339844, 11.13762378692627, 9.664620399475098, 13.194550514221191, 9.389166831970215], \"xaxis\": \"x\", \"y\": [-0.20725129544734955, 12.775146484375, 5.684135437011719, 11.99474811553955, 2.69136381149292, 8.756854057312012, -0.8162720799446106, 8.032865524291992, 6.779071807861328, 6.389150142669678, 8.939056396484375, 8.201205253601074, 7.7221574783325195, 6.087931156158447, 10.583390235900879, 7.896300315856934, 3.6395034790039062, 11.674991607666016, 7.369866847991943, 7.158858776092529, 4.774600505828857, 7.423869609832764, 5.474279403686523, 5.837367057800293, 3.2780392169952393, 2.7177371978759766, 2.0657877922058105, 12.626008033752441, 1.83754301071167, 10.063302993774414, 12.702474594116211, 8.629575729370117, 7.049202919006348, 12.300150871276855, 7.899089813232422, 1.0926539897918701, 1.4147981405258179, 8.424824714660645, 12.209867477416992, 5.512874126434326, 6.926016807556152], \"yaxis\": \"y\"}, {\"customdata\": [[\"2020-09-09\", \"NFL | Playbook | Vollmer | Kuhn Show | Teams | Taktik-Bibel | Nachfolger | Podcast\"], [\"2020-09-10\", \"NFL | Playbook | Vollmer | Kuhn Show | Teams | Taktik-Bibel | Nachfolger | Podcast\"], [\"2020-09-09\", \"NFL | Playbook | Vollmer | Kuhn Show | Teams | Taktik-Bibel | Nachfolger | Podcast\"], [\"2020-09-13\", \"NFL | Playbook | Vollmer | Kuhn Show | Teams | Taktik-Bibel | Nachfolger | Podcast\"]], \"hovertemplate\": \"<b>%{hovertext}</b><br><br>TopWords=%{customdata[1]}<br>x=%{x}<br>y=%{y}<br>created_at=%{customdata[0]}<extra></extra>\", \"hovertext\": [\"Buccaneers l\\u00f6sen Versprechenvon Bradys Ex-Klub ein\", \"Das sind die Top-Duelledes ersten NFL-Spieltags\", \"Playbook ist\\u201eso wertvoll wie Gold\\u201c\", \"Brady-Nachfolger mit Touchdown-Show\"], \"legendgroup\": \"NFL | Playbook | Vollmer | Kuhn Show | Teams | Taktik-Bibel | Nachfolger | Podcast\", \"marker\": {\"color\": \"#FF97FF\", \"line\": {\"color\": \"DarkSlateGrey\", \"width\": 0.15}, \"opacity\": 0.8, \"size\": 9, \"symbol\": \"circle\"}, \"mode\": \"markers\", \"name\": \"NFL | Playbook | Vollmer | Kuhn Show | Teams | Taktik-Bibel | Nachfolger | Podcast\", \"orientation\": \"v\", \"showlegend\": true, \"type\": \"scatter\", \"x\": [11.776251792907715, 11.404767036437988, 11.289656639099121, 11.520425796508789], \"xaxis\": \"x\", \"y\": [2.0176467895507812, 2.100231647491455, 1.9251625537872314, 1.8180214166641235], \"yaxis\": \"y\"}, {\"customdata\": [[\"2020-09-14\", \"Frauen | Proteste | Lukaschenko | Diktator | Kreml | Menschen | Politik | Wei\\u00dfrussland\"], [\"2020-09-14\", \"Frauen | Proteste | Lukaschenko | Diktator | Kreml | Menschen | Politik | Wei\\u00dfrussland\"], [\"2020-09-13\", \"Frauen | Proteste | Lukaschenko | Diktator | Kreml | Menschen | Politik | Wei\\u00dfrussland\"], [\"2020-09-13\", \"Frauen | Proteste | Lukaschenko | Diktator | Kreml | Menschen | Politik | Wei\\u00dfrussland\"], [\"2020-09-10\", \"Frauen | Proteste | Lukaschenko | Diktator | Kreml | Menschen | Politik | Wei\\u00dfrussland\"], [\"2020-09-10\", \"Frauen | Proteste | Lukaschenko | Diktator | Kreml | Menschen | Politik | Wei\\u00dfrussland\"], [\"2020-09-10\", \"Frauen | Proteste | Lukaschenko | Diktator | Kreml | Menschen | Politik | Wei\\u00dfrussland\"]], \"hovertemplate\": \"<b>%{hovertext}</b><br><br>TopWords=%{customdata[1]}<br>x=%{x}<br>y=%{y}<br>created_at=%{customdata[0]}<extra></extra>\", \"hovertext\": [\"Besen-Oma verm\\u00f6belt Lukaschenkos Pr\\u00fcgeltruppen\", \"Hat Putin Lukaschenko jetzt in der Hand?\", \"Lukaschenko l\\u00e4\\u00dft Dutzende Frauen festnehmen\", \"150 000 Menschen gegen Lukaschenko auf der Stra\\u00dfe\", \"Berlin und Moskau streiten \\u00fcber Nawalny-Treffen\", \"Kolesnikowa stellt Anzeige wegen Morddrohungen!\", \"Trumps Top-Diplomat: Kreml steckt hinter Gift-Attacke\"], \"legendgroup\": \"Frauen | Proteste | Lukaschenko | Diktator | Kreml | Menschen | Politik | Wei\\u00dfrussland\", \"marker\": {\"color\": \"#FECB52\", \"line\": {\"color\": \"DarkSlateGrey\", \"width\": 0.15}, \"opacity\": 0.8, \"size\": 9, \"symbol\": \"circle\"}, \"mode\": \"markers\", \"name\": \"Frauen | Proteste | Lukaschenko | Diktator | Kreml | Menschen | Politik | Wei\\u00dfrussland\", \"orientation\": \"v\", \"showlegend\": true, \"type\": \"scatter\", \"x\": [7.546186923980713, 7.394052028656006, 7.53007698059082, 7.5912394523620605, 7.449636936187744, 7.558998107910156, 7.499936103820801], \"xaxis\": \"x\", \"y\": [9.418910026550293, 9.311697006225586, 9.367925643920898, 9.408982276916504, 9.098090171813965, 9.446598052978516, 9.312155723571777], \"yaxis\": \"y\"}, {\"customdata\": [[\"2020-09-10\", \"Unfall | Landkreis | Autos | Diepholz | Fliege | Baum | Retter | Weg\"], [\"2020-09-10\", \"Unfall | Landkreis | Autos | Diepholz | Fliege | Baum | Retter | Weg\"], [\"2020-09-10\", \"Unfall | Landkreis | Autos | Diepholz | Fliege | Baum | Retter | Weg\"], [\"2020-09-13\", \"Unfall | Landkreis | Autos | Diepholz | Fliege | Baum | Retter | Weg\"], [\"2020-09-13\", \"Unfall | Landkreis | Autos | Diepholz | Fliege | Baum | Retter | Weg\"], [\"2020-09-11\", \"Unfall | Landkreis | Autos | Diepholz | Fliege | Baum | Retter | Weg\"]], \"hovertemplate\": \"<b>%{hovertext}</b><br><br>TopWords=%{customdata[1]}<br>x=%{x}<br>y=%{y}<br>created_at=%{customdata[0]}<extra></extra>\", \"hovertext\": [\"Fliege verursacht Unfall \\u2013 zwei Schwerverletzte!\", \"Retter kracht gegen Baum\", \"Fu\\u00dfg\\u00e4ngerin kollidiert mit drei Autos auf der Autobahn - tot\", \"Domino-Crash bei Oldenburg\", \"Baum-Crash!Zwei Tote auf B 442\", \"Junger Biker (18) nach Motorrad-Crash schwer verletzt\"], \"legendgroup\": \"Unfall | Landkreis | Autos | Diepholz | Fliege | Baum | Retter | Weg\", \"marker\": {\"color\": \"#636efa\", \"line\": {\"color\": \"DarkSlateGrey\", \"width\": 0.15}, \"opacity\": 0.8, \"size\": 9, \"symbol\": \"circle\"}, \"mode\": \"markers\", \"name\": \"Unfall | Landkreis | Autos | Diepholz | Fliege | Baum | Retter | Weg\", \"orientation\": \"v\", \"showlegend\": true, \"type\": \"scatter\", \"x\": [9.54241943359375, 9.62330436706543, 9.6647310256958, 9.660325050354004, 9.676128387451172, 9.693577766418457], \"xaxis\": \"x\", \"y\": [13.144221305847168, 13.224043846130371, 13.089831352233887, 13.21016788482666, 13.096100807189941, 13.07091999053955], \"yaxis\": \"y\"}, {\"customdata\": [[\"2020-09-10\", \"Vettel | Formel 1 | Deal | Sebastian Vettel | Aston Martin | Milliard\\u00e4r | Racing Point | Platz\"], [\"2020-09-11\", \"Vettel | Formel 1 | Deal | Sebastian Vettel | Aston Martin | Milliard\\u00e4r | Racing Point | Platz\"], [\"2020-09-09\", \"Vettel | Formel 1 | Deal | Sebastian Vettel | Aston Martin | Milliard\\u00e4r | Racing Point | Platz\"], [\"2020-09-10\", \"Vettel | Formel 1 | Deal | Sebastian Vettel | Aston Martin | Milliard\\u00e4r | Racing Point | Platz\"]], \"hovertemplate\": \"<b>%{hovertext}</b><br><br>TopWords=%{customdata[1]}<br>x=%{x}<br>y=%{y}<br>created_at=%{customdata[0]}<extra></extra>\", \"hovertext\": [\"So wollte Vettel nicht aufh\\u00f6ren\", \"Das ist der Milliard\\u00e4r hinter dem Vettel-Deal\", \"Jetzt ist der Platz f\\u00fcr Vettel frei\", \"Offiziell! Vettelwechselt zu Aston Martin\"], \"legendgroup\": \"Vettel | Formel 1 | Deal | Sebastian Vettel | Aston Martin | Milliard\\u00e4r | Racing Point | Platz\", \"marker\": {\"color\": \"#EF553B\", \"line\": {\"color\": \"DarkSlateGrey\", \"width\": 0.15}, \"opacity\": 0.8, \"size\": 9, \"symbol\": \"circle\"}, \"mode\": \"markers\", \"name\": \"Vettel | Formel 1 | Deal | Sebastian Vettel | Aston Martin | Milliard\\u00e4r | Racing Point | Platz\", \"orientation\": \"v\", \"showlegend\": true, \"type\": \"scatter\", \"x\": [6.852021217346191, 7.048927307128906, 6.798208713531494, 6.804723739624023], \"xaxis\": \"x\", \"y\": [3.829141855239868, 3.867084264755249, 3.7471654415130615, 3.7509071826934814], \"yaxis\": \"y\"}, {\"customdata\": [[\"2020-09-13\", \"US Open | Alexander Zverev | Sieg | Dominic Thiem | Halbfinale | Zverev | Bruder | Boris Becker\"], [\"2020-09-10\", \"US Open | Alexander Zverev | Sieg | Dominic Thiem | Halbfinale | Zverev | Bruder | Boris Becker\"], [\"2020-09-14\", \"US Open | Alexander Zverev | Sieg | Dominic Thiem | Halbfinale | Zverev | Bruder | Boris Becker\"], [\"2020-09-09\", \"US Open | Alexander Zverev | Sieg | Dominic Thiem | Halbfinale | Zverev | Bruder | Boris Becker\"], [\"2020-09-12\", \"US Open | Alexander Zverev | Sieg | Dominic Thiem | Halbfinale | Zverev | Bruder | Boris Becker\"], [\"2020-09-12\", \"US Open | Alexander Zverev | Sieg | Dominic Thiem | Halbfinale | Zverev | Bruder | Boris Becker\"], [\"2020-09-10\", \"US Open | Alexander Zverev | Sieg | Dominic Thiem | Halbfinale | Zverev | Bruder | Boris Becker\"], [\"2020-09-10\", \"US Open | Alexander Zverev | Sieg | Dominic Thiem | Halbfinale | Zverev | Bruder | Boris Becker\"], [\"2020-09-11\", \"US Open | Alexander Zverev | Sieg | Dominic Thiem | Halbfinale | Zverev | Bruder | Boris Becker\"], [\"2020-09-10\", \"US Open | Alexander Zverev | Sieg | Dominic Thiem | Halbfinale | Zverev | Bruder | Boris Becker\"], [\"2020-09-12\", \"US Open | Alexander Zverev | Sieg | Dominic Thiem | Halbfinale | Zverev | Bruder | Boris Becker\"], [\"2020-09-14\", \"US Open | Alexander Zverev | Sieg | Dominic Thiem | Halbfinale | Zverev | Bruder | Boris Becker\"]], \"hovertemplate\": \"<b>%{hovertext}</b><br><br>TopWords=%{customdata[1]}<br>x=%{x}<br>y=%{y}<br>created_at=%{customdata[0]}<extra></extra>\", \"hovertext\": [\"Thiem zittert vor Anrufbei Andy Murray\", \"Zverev setzt auf seinen Kracher-Aufschlag\", \"Als er seinen Eltern dankte, kamen ihm die Tr\\u00e4nen\", \"\\u201eDjokovic fragte mich, wie er aus der Nummer rauskommen kann\\u201c\", \"\\u201eDer Top-Favorit f\\u00fcr den Sieg ist f\\u00fcr mich \\u2026\\u201c\", \"Becker-Lob f\\u00fcr Zverev nach Giganten-Comeback!\", \"6 Gr\\u00fcnde, warum Zverev die US Open gewinnt\", \"Mischa leiht Sascha seinen Trainer\", \"Sorgerecht-Krieg! Ihren gr\\u00f6\\u00dften Sieg holte sie f\\u00fcr ihn\", \"Dominic Thiem im Halbfinale\", \"Als er mich nach dem Spiel anrief, sagte er\\u2026\", \"\\u201eKopf hoch, mein Junge - du kommst zur\\u00fcck!\\u201c\"], \"legendgroup\": \"US Open | Alexander Zverev | Sieg | Dominic Thiem | Halbfinale | Zverev | Bruder | Boris Becker\", \"marker\": {\"color\": \"#00cc96\", \"line\": {\"color\": \"DarkSlateGrey\", \"width\": 0.15}, \"opacity\": 0.8, \"size\": 9, \"symbol\": \"circle\"}, \"mode\": \"markers\", \"name\": \"US Open | Alexander Zverev | Sieg | Dominic Thiem | Halbfinale | Zverev | Bruder | Boris Becker\", \"orientation\": \"v\", \"showlegend\": true, \"type\": \"scatter\", \"x\": [12.649749755859375, 12.738646507263184, 12.717218399047852, 12.684175491333008, 12.644841194152832, 12.721299171447754, 12.683025360107422, 12.625534057617188, 12.793050765991211, 12.711502075195312, 12.707803726196289, 11.282400131225586], \"xaxis\": \"x\", \"y\": [2.709036350250244, 2.706641674041748, 2.6726233959198, 2.6686694622039795, 2.7102952003479004, 2.6496589183807373, 2.6092689037323, 2.711876630783081, 2.753490924835205, 2.6576457023620605, 2.675018310546875, 1.594886302947998], \"yaxis\": \"y\"}, {\"customdata\": [[\"2020-09-11\", \"US Open | K\\u00f6ln | Grand-Slam-Champion | Alexander Zverev | Halbfinal | Serena Williams | Williams | Tennis-Sensation\"], [\"2020-09-10\", \"US Open | K\\u00f6ln | Grand-Slam-Champion | Alexander Zverev | Halbfinal | Serena Williams | Williams | Tennis-Sensation\"], [\"2020-09-11\", \"US Open | K\\u00f6ln | Grand-Slam-Champion | Alexander Zverev | Halbfinal | Serena Williams | Williams | Tennis-Sensation\"]], \"hovertemplate\": \"<b>%{hovertext}</b><br><br>TopWords=%{customdata[1]}<br>x=%{x}<br>y=%{y}<br>created_at=%{customdata[0]}<extra></extra>\", \"hovertext\": [\"Halbfinal-Aus f\\u00fcrSerena Williams\", \"Zverev schl\\u00e4gt in K\\u00f6ln auf!\", \"Tennis-Sensation! Siegemund siegt im Doppel\"], \"legendgroup\": \"US Open | K\\u00f6ln | Grand-Slam-Champion | Alexander Zverev | Halbfinal | Serena Williams | Williams | Tennis-Sensation\", \"marker\": {\"color\": \"#ab63fa\", \"line\": {\"color\": \"DarkSlateGrey\", \"width\": 0.15}, \"opacity\": 0.8, \"size\": 9, \"symbol\": \"circle\"}, \"mode\": \"markers\", \"name\": \"US Open | K\\u00f6ln | Grand-Slam-Champion | Alexander Zverev | Halbfinal | Serena Williams | Williams | Tennis-Sensation\", \"orientation\": \"v\", \"showlegend\": true, \"type\": \"scatter\", \"x\": [12.828696250915527, 12.537409782409668, 12.91207218170166], \"xaxis\": \"x\", \"y\": [2.8707668781280518, 2.8387296199798584, 2.902930974960327], \"yaxis\": \"y\"}, {\"customdata\": [[\"2020-09-09\", \"Verdacht | Brandenburg | Schweinepest | Afrikanische Schweinepest | Menschen | Reptil | Fluss | Experte\"], [\"2020-09-10\", \"Verdacht | Brandenburg | Schweinepest | Afrikanische Schweinepest | Menschen | Reptil | Fluss | Experte\"], [\"2020-09-14\", \"Verdacht | Brandenburg | Schweinepest | Afrikanische Schweinepest | Menschen | Reptil | Fluss | Experte\"], [\"2020-09-10\", \"Verdacht | Brandenburg | Schweinepest | Afrikanische Schweinepest | Menschen | Reptil | Fluss | Experte\"]], \"hovertemplate\": \"<b>%{hovertext}</b><br><br>TopWords=%{customdata[1]}<br>x=%{x}<br>y=%{y}<br>created_at=%{customdata[0]}<extra></extra>\", \"hovertext\": [\"Verdacht auf Afrikanische Schweinepest\", \"Wie gef\\u00e4hrlich ist die Afrikanische Schweinepest?\", \"Experte soll nach Unstrut-Krokodil suchen\", \"Verdacht auf Schweinepest best\\u00e4tigt!\"], \"legendgroup\": \"Verdacht | Brandenburg | Schweinepest | Afrikanische Schweinepest | Menschen | Reptil | Fluss | Experte\", \"marker\": {\"color\": \"#FFA15A\", \"line\": {\"color\": \"DarkSlateGrey\", \"width\": 0.15}, \"opacity\": 0.8, \"size\": 9, \"symbol\": \"circle\"}, \"mode\": \"markers\", \"name\": \"Verdacht | Brandenburg | Schweinepest | Afrikanische Schweinepest | Menschen | Reptil | Fluss | Experte\", \"orientation\": \"v\", \"showlegend\": true, \"type\": \"scatter\", \"x\": [10.976080894470215, 10.574699401855469, 11.302569389343262, 10.947998046875], \"xaxis\": \"x\", \"y\": [8.526094436645508, 8.408429145812988, 8.592047691345215, 8.53394603729248], \"yaxis\": \"y\"}, {\"customdata\": [[\"2020-09-11\", \"Urlaub | Corona | Reisen | Risikogebiet | Land | Reisewarnungen | 2021 | Herbstferien\"], [\"2020-09-10\", \"Urlaub | Corona | Reisen | Risikogebiet | Land | Reisewarnungen | 2021 | Herbstferien\"], [\"2020-09-14\", \"Urlaub | Corona | Reisen | Risikogebiet | Land | Reisewarnungen | 2021 | Herbstferien\"], [\"2020-09-10\", \"Urlaub | Corona | Reisen | Risikogebiet | Land | Reisewarnungen | 2021 | Herbstferien\"], [\"2020-09-10\", \"Urlaub | Corona | Reisen | Risikogebiet | Land | Reisewarnungen | 2021 | Herbstferien\"], [\"2020-09-14\", \"Urlaub | Corona | Reisen | Risikogebiet | Land | Reisewarnungen | 2021 | Herbstferien\"], [\"2020-09-11\", \"Urlaub | Corona | Reisen | Risikogebiet | Land | Reisewarnungen | 2021 | Herbstferien\"], [\"2020-09-14\", \"Urlaub | Corona | Reisen | Risikogebiet | Land | Reisewarnungen | 2021 | Herbstferien\"]], \"hovertemplate\": \"<b>%{hovertext}</b><br><br>TopWords=%{customdata[1]}<br>x=%{x}<br>y=%{y}<br>created_at=%{customdata[0]}<extra></extra>\", \"hovertext\": [\"Ab wann ist ein Land NICHT mehr Risikogebiet?\", \"Hier k\\u00f6nnen Sie jetzt noch Herbsturlaub machen\", \"Wo kann ich jetzt noch Urlaub machen?\", \"Kann ich Reisen f\\u00fcr n\\u00e4chstes Jahr schon SICHER buchen?\", \"BILD beantwortet Ihre Ferien-Fragen!\", \"Darum wollen sie nicht ins neue Camp\", \"Auch in Beziehungen braucht es klare Worte\", \"Storno-Zoff mit FTI um Indien-Urlaub\"], \"legendgroup\": \"Urlaub | Corona | Reisen | Risikogebiet | Land | Reisewarnungen | 2021 | Herbstferien\", \"marker\": {\"color\": \"#19d3f3\", \"line\": {\"color\": \"DarkSlateGrey\", \"width\": 0.15}, \"opacity\": 0.8, \"size\": 9, \"symbol\": \"circle\"}, \"mode\": \"markers\", \"name\": \"Urlaub | Corona | Reisen | Risikogebiet | Land | Reisewarnungen | 2021 | Herbstferien\", \"orientation\": \"v\", \"showlegend\": true, \"type\": \"scatter\", \"x\": [8.498064041137695, 8.52269172668457, 8.548148155212402, 8.564598083496094, 8.368560791015625, 8.095311164855957, 12.615601539611816, 8.404367446899414], \"xaxis\": \"x\", \"y\": [5.615793704986572, 5.605813026428223, 5.6056976318359375, 5.6055145263671875, 5.469602108001709, 9.251126289367676, 6.855399131774902, 5.583290100097656], \"yaxis\": \"y\"}, {\"customdata\": [[\"2020-09-10\", \"Nawalny | Charit\\u00e9 | Fall | Kritiker | Ereignisse | Nawalnys | Unterw\\u00e4sche | Gift\"], [\"2020-09-14\", \"Nawalny | Charit\\u00e9 | Fall | Kritiker | Ereignisse | Nawalnys | Unterw\\u00e4sche | Gift\"], [\"2020-09-11\", \"Nawalny | Charit\\u00e9 | Fall | Kritiker | Ereignisse | Nawalnys | Unterw\\u00e4sche | Gift\"]], \"hovertemplate\": \"<b>%{hovertext}</b><br><br>TopWords=%{customdata[1]}<br>x=%{x}<br>y=%{y}<br>created_at=%{customdata[0]}<extra></extra>\", \"hovertext\": [\"Er ist bei Bewusstsein! Er erinnert sich an die Ereignisse am Flughafen!\", \"Nawalny wird nicht mehr k\\u00fcnstlich beatmet\", \"War das Gift auf der Unterw\\u00e4sche Nawalnys?\"], \"legendgroup\": \"Nawalny | Charit\\u00e9 | Fall | Kritiker | Ereignisse | Nawalnys | Unterw\\u00e4sche | Gift\", \"marker\": {\"color\": \"#FF6692\", \"line\": {\"color\": \"DarkSlateGrey\", \"width\": 0.15}, \"opacity\": 0.8, \"size\": 9, \"symbol\": \"circle\"}, \"mode\": \"markers\", \"name\": \"Nawalny | Charit\\u00e9 | Fall | Kritiker | Ereignisse | Nawalnys | Unterw\\u00e4sche | Gift\", \"orientation\": \"v\", \"showlegend\": true, \"type\": \"scatter\", \"x\": [7.86683464050293, 7.928034782409668, 7.900996685028076], \"xaxis\": \"x\", \"y\": [9.67341136932373, 9.73037052154541, 9.811698913574219], \"yaxis\": \"y\"}, {\"customdata\": [[\"2020-09-12\", \"Mercedes | Trucker | Autobahn | Polizei | Crash | Rollifahrer | Laster | Biker\"], [\"2020-09-11\", \"Mercedes | Trucker | Autobahn | Polizei | Crash | Rollifahrer | Laster | Biker\"], [\"2020-09-11\", \"Mercedes | Trucker | Autobahn | Polizei | Crash | Rollifahrer | Laster | Biker\"]], \"hovertemplate\": \"<b>%{hovertext}</b><br><br>TopWords=%{customdata[1]}<br>x=%{x}<br>y=%{y}<br>created_at=%{customdata[0]}<extra></extra>\", \"hovertext\": [\"Biker stirbt bei Crash mit Biker\", \"Mercedes rammt Rollifahrer (78) von Landstra\\u00dfe - tot\", \"Liegender Laster legt Autobahn lahm\"], \"legendgroup\": \"Mercedes | Trucker | Autobahn | Polizei | Crash | Rollifahrer | Laster | Biker\", \"marker\": {\"color\": \"#B6E880\", \"line\": {\"color\": \"DarkSlateGrey\", \"width\": 0.15}, \"opacity\": 0.8, \"size\": 9, \"symbol\": \"circle\"}, \"mode\": \"markers\", \"name\": \"Mercedes | Trucker | Autobahn | Polizei | Crash | Rollifahrer | Laster | Biker\", \"orientation\": \"v\", \"showlegend\": true, \"type\": \"scatter\", \"x\": [9.383699417114258, 9.539974212646484, 9.31492805480957], \"xaxis\": \"x\", \"y\": [12.959057807922363, 12.898459434509277, 12.783500671386719], \"yaxis\": \"y\"}, {\"customdata\": [[\"2020-09-12\", \"NRW | Unfall | Roller | Ennepetal | Lkw | Autobahn 2 | Fahrer | 20-J\\u00e4hriger\"], [\"2020-09-13\", \"NRW | Unfall | Roller | Ennepetal | Lkw | Autobahn 2 | Fahrer | 20-J\\u00e4hriger\"], [\"2020-09-14\", \"NRW | Unfall | Roller | Ennepetal | Lkw | Autobahn 2 | Fahrer | 20-J\\u00e4hriger\"], [\"2020-09-09\", \"NRW | Unfall | Roller | Ennepetal | Lkw | Autobahn 2 | Fahrer | 20-J\\u00e4hriger\"]], \"hovertemplate\": \"<b>%{hovertext}</b><br><br>TopWords=%{customdata[1]}<br>x=%{x}<br>y=%{y}<br>created_at=%{customdata[0]}<extra></extra>\", \"hovertext\": [\"20-J\\u00e4hriger liegt tot unter seinem Roller\", \"T\\u00f6dlicher Frontalzusammensto\\u00df\", \"Lkw kollidieren auf der Autobahn\\u00a02\", \"510-PS-Flitzerkracht gegen Baum\"], \"legendgroup\": \"NRW | Unfall | Roller | Ennepetal | Lkw | Autobahn 2 | Fahrer | 20-J\\u00e4hriger\", \"marker\": {\"color\": \"#FF97FF\", \"line\": {\"color\": \"DarkSlateGrey\", \"width\": 0.15}, \"opacity\": 0.8, \"size\": 9, \"symbol\": \"circle\"}, \"mode\": \"markers\", \"name\": \"NRW | Unfall | Roller | Ennepetal | Lkw | Autobahn 2 | Fahrer | 20-J\\u00e4hriger\", \"orientation\": \"v\", \"showlegend\": true, \"type\": \"scatter\", \"x\": [10.167973518371582, 10.14116382598877, 10.164121627807617, 10.22071647644043], \"xaxis\": \"x\", \"y\": [12.884124755859375, 12.918782234191895, 12.858073234558105, 12.751679420471191], \"yaxis\": \"y\"}, {\"customdata\": [[\"2020-09-10\", \"Wiesn | G\\u00e4sten | Leute | Hans-Werner Meyer | Francis Fulton-Smith | Oktoberfest 1900 | Playmate | Natascha\"], [\"2020-09-13\", \"Wiesn | G\\u00e4sten | Leute | Hans-Werner Meyer | Francis Fulton-Smith | Oktoberfest 1900 | Playmate | Natascha\"], [\"2020-09-10\", \"Wiesn | G\\u00e4sten | Leute | Hans-Werner Meyer | Francis Fulton-Smith | Oktoberfest 1900 | Playmate | Natascha\"], [\"2020-09-13\", \"Wiesn | G\\u00e4sten | Leute | Hans-Werner Meyer | Francis Fulton-Smith | Oktoberfest 1900 | Playmate | Natascha\"]], \"hovertemplate\": \"<b>%{hovertext}</b><br><br>TopWords=%{customdata[1]}<br>x=%{x}<br>y=%{y}<br>created_at=%{customdata[0]}<extra></extra>\", \"hovertext\": [\"\\u201eWir sind kulturell unterzuckert\\u201c\", \"\\u201eZwei, drei Ma\\u00df schaffe ich schon\\u201c\", \"Natascha ist das Wiesn-Playmate 2020\", \"Bei diesem Test hofft er auf ein positives Ergebnis\"], \"legendgroup\": \"Wiesn | G\\u00e4sten | Leute | Hans-Werner Meyer | Francis Fulton-Smith | Oktoberfest 1900 | Playmate | Natascha\", \"marker\": {\"color\": \"#FECB52\", \"line\": {\"color\": \"DarkSlateGrey\", \"width\": 0.15}, \"opacity\": 0.8, \"size\": 9, \"symbol\": \"circle\"}, \"mode\": \"markers\", \"name\": \"Wiesn | G\\u00e4sten | Leute | Hans-Werner Meyer | Francis Fulton-Smith | Oktoberfest 1900 | Playmate | Natascha\", \"orientation\": \"v\", \"showlegend\": true, \"type\": \"scatter\", \"x\": [10.621269226074219, 10.984797477722168, 10.497062683105469, 10.531649589538574], \"xaxis\": \"x\", \"y\": [5.331690788269043, 5.575909614562988, 5.607067108154297, 5.26096773147583], \"yaxis\": \"y\"}],                        {\"height\": 1000, \"legend\": {\"title\": {\"text\": \"TopWords\"}, \"tracegroupgap\": 0}, \"margin\": {\"t\": 60}, \"template\": {\"data\": {\"bar\": [{\"error_x\": {\"color\": \"#2a3f5f\"}, \"error_y\": {\"color\": \"#2a3f5f\"}, \"marker\": {\"line\": {\"color\": \"#E5ECF6\", \"width\": 0.5}}, \"type\": \"bar\"}], \"barpolar\": [{\"marker\": {\"line\": {\"color\": \"#E5ECF6\", \"width\": 0.5}}, \"type\": \"barpolar\"}], \"carpet\": [{\"aaxis\": {\"endlinecolor\": \"#2a3f5f\", \"gridcolor\": \"white\", \"linecolor\": \"white\", \"minorgridcolor\": \"white\", \"startlinecolor\": \"#2a3f5f\"}, \"baxis\": {\"endlinecolor\": \"#2a3f5f\", \"gridcolor\": \"white\", \"linecolor\": \"white\", \"minorgridcolor\": \"white\", \"startlinecolor\": \"#2a3f5f\"}, \"type\": \"carpet\"}], \"choropleth\": [{\"colorbar\": {\"outlinewidth\": 0, \"ticks\": \"\"}, \"type\": \"choropleth\"}], \"contour\": [{\"colorbar\": {\"outlinewidth\": 0, \"ticks\": \"\"}, \"colorscale\": [[0.0, \"#0d0887\"], [0.1111111111111111, \"#46039f\"], [0.2222222222222222, \"#7201a8\"], [0.3333333333333333, \"#9c179e\"], [0.4444444444444444, \"#bd3786\"], [0.5555555555555556, \"#d8576b\"], [0.6666666666666666, \"#ed7953\"], [0.7777777777777778, \"#fb9f3a\"], [0.8888888888888888, \"#fdca26\"], [1.0, \"#f0f921\"]], \"type\": \"contour\"}], \"contourcarpet\": [{\"colorbar\": {\"outlinewidth\": 0, \"ticks\": \"\"}, \"type\": \"contourcarpet\"}], \"heatmap\": [{\"colorbar\": {\"outlinewidth\": 0, \"ticks\": \"\"}, \"colorscale\": [[0.0, \"#0d0887\"], [0.1111111111111111, \"#46039f\"], [0.2222222222222222, \"#7201a8\"], [0.3333333333333333, \"#9c179e\"], [0.4444444444444444, \"#bd3786\"], [0.5555555555555556, \"#d8576b\"], [0.6666666666666666, \"#ed7953\"], [0.7777777777777778, \"#fb9f3a\"], [0.8888888888888888, \"#fdca26\"], [1.0, \"#f0f921\"]], \"type\": \"heatmap\"}], \"heatmapgl\": [{\"colorbar\": {\"outlinewidth\": 0, \"ticks\": \"\"}, \"colorscale\": [[0.0, \"#0d0887\"], [0.1111111111111111, \"#46039f\"], [0.2222222222222222, \"#7201a8\"], [0.3333333333333333, \"#9c179e\"], [0.4444444444444444, \"#bd3786\"], [0.5555555555555556, \"#d8576b\"], [0.6666666666666666, \"#ed7953\"], [0.7777777777777778, \"#fb9f3a\"], [0.8888888888888888, \"#fdca26\"], [1.0, \"#f0f921\"]], \"type\": \"heatmapgl\"}], \"histogram\": [{\"marker\": {\"colorbar\": {\"outlinewidth\": 0, \"ticks\": \"\"}}, \"type\": \"histogram\"}], \"histogram2d\": [{\"colorbar\": {\"outlinewidth\": 0, \"ticks\": \"\"}, \"colorscale\": [[0.0, \"#0d0887\"], [0.1111111111111111, \"#46039f\"], [0.2222222222222222, \"#7201a8\"], [0.3333333333333333, \"#9c179e\"], [0.4444444444444444, \"#bd3786\"], [0.5555555555555556, \"#d8576b\"], [0.6666666666666666, \"#ed7953\"], [0.7777777777777778, \"#fb9f3a\"], [0.8888888888888888, \"#fdca26\"], [1.0, \"#f0f921\"]], \"type\": \"histogram2d\"}], \"histogram2dcontour\": [{\"colorbar\": {\"outlinewidth\": 0, \"ticks\": \"\"}, \"colorscale\": [[0.0, \"#0d0887\"], [0.1111111111111111, \"#46039f\"], [0.2222222222222222, \"#7201a8\"], [0.3333333333333333, \"#9c179e\"], [0.4444444444444444, \"#bd3786\"], [0.5555555555555556, \"#d8576b\"], [0.6666666666666666, \"#ed7953\"], [0.7777777777777778, \"#fb9f3a\"], [0.8888888888888888, \"#fdca26\"], [1.0, \"#f0f921\"]], \"type\": \"histogram2dcontour\"}], \"mesh3d\": [{\"colorbar\": {\"outlinewidth\": 0, \"ticks\": \"\"}, \"type\": \"mesh3d\"}], \"parcoords\": [{\"line\": {\"colorbar\": {\"outlinewidth\": 0, \"ticks\": \"\"}}, \"type\": \"parcoords\"}], \"pie\": [{\"automargin\": true, \"type\": \"pie\"}], \"scatter\": [{\"marker\": {\"colorbar\": {\"outlinewidth\": 0, \"ticks\": \"\"}}, \"type\": \"scatter\"}], \"scatter3d\": [{\"line\": {\"colorbar\": {\"outlinewidth\": 0, \"ticks\": \"\"}}, \"marker\": {\"colorbar\": {\"outlinewidth\": 0, \"ticks\": \"\"}}, \"type\": \"scatter3d\"}], \"scattercarpet\": [{\"marker\": {\"colorbar\": {\"outlinewidth\": 0, \"ticks\": \"\"}}, \"type\": \"scattercarpet\"}], \"scattergeo\": [{\"marker\": {\"colorbar\": {\"outlinewidth\": 0, \"ticks\": \"\"}}, \"type\": \"scattergeo\"}], \"scattergl\": [{\"marker\": {\"colorbar\": {\"outlinewidth\": 0, \"ticks\": \"\"}}, \"type\": \"scattergl\"}], \"scattermapbox\": [{\"marker\": {\"colorbar\": {\"outlinewidth\": 0, \"ticks\": \"\"}}, \"type\": \"scattermapbox\"}], \"scatterpolar\": [{\"marker\": {\"colorbar\": {\"outlinewidth\": 0, \"ticks\": \"\"}}, \"type\": \"scatterpolar\"}], \"scatterpolargl\": [{\"marker\": {\"colorbar\": {\"outlinewidth\": 0, \"ticks\": \"\"}}, \"type\": \"scatterpolargl\"}], \"scatterternary\": [{\"marker\": {\"colorbar\": {\"outlinewidth\": 0, \"ticks\": \"\"}}, \"type\": \"scatterternary\"}], \"surface\": [{\"colorbar\": {\"outlinewidth\": 0, \"ticks\": \"\"}, \"colorscale\": [[0.0, \"#0d0887\"], [0.1111111111111111, \"#46039f\"], [0.2222222222222222, \"#7201a8\"], [0.3333333333333333, \"#9c179e\"], [0.4444444444444444, \"#bd3786\"], [0.5555555555555556, \"#d8576b\"], [0.6666666666666666, \"#ed7953\"], [0.7777777777777778, \"#fb9f3a\"], [0.8888888888888888, \"#fdca26\"], [1.0, \"#f0f921\"]], \"type\": \"surface\"}], \"table\": [{\"cells\": {\"fill\": {\"color\": \"#EBF0F8\"}, \"line\": {\"color\": \"white\"}}, \"header\": {\"fill\": {\"color\": \"#C8D4E3\"}, \"line\": {\"color\": \"white\"}}, \"type\": \"table\"}]}, \"layout\": {\"annotationdefaults\": {\"arrowcolor\": \"#2a3f5f\", \"arrowhead\": 0, \"arrowwidth\": 1}, \"coloraxis\": {\"colorbar\": {\"outlinewidth\": 0, \"ticks\": \"\"}}, \"colorscale\": {\"diverging\": [[0, \"#8e0152\"], [0.1, \"#c51b7d\"], [0.2, \"#de77ae\"], [0.3, \"#f1b6da\"], [0.4, \"#fde0ef\"], [0.5, \"#f7f7f7\"], [0.6, \"#e6f5d0\"], [0.7, \"#b8e186\"], [0.8, \"#7fbc41\"], [0.9, \"#4d9221\"], [1, \"#276419\"]], \"sequential\": [[0.0, \"#0d0887\"], [0.1111111111111111, \"#46039f\"], [0.2222222222222222, \"#7201a8\"], [0.3333333333333333, \"#9c179e\"], [0.4444444444444444, \"#bd3786\"], [0.5555555555555556, \"#d8576b\"], [0.6666666666666666, \"#ed7953\"], [0.7777777777777778, \"#fb9f3a\"], [0.8888888888888888, \"#fdca26\"], [1.0, \"#f0f921\"]], \"sequentialminus\": [[0.0, \"#0d0887\"], [0.1111111111111111, \"#46039f\"], [0.2222222222222222, \"#7201a8\"], [0.3333333333333333, \"#9c179e\"], [0.4444444444444444, \"#bd3786\"], [0.5555555555555556, \"#d8576b\"], [0.6666666666666666, \"#ed7953\"], [0.7777777777777778, \"#fb9f3a\"], [0.8888888888888888, \"#fdca26\"], [1.0, \"#f0f921\"]]}, \"colorway\": [\"#636efa\", \"#EF553B\", \"#00cc96\", \"#ab63fa\", \"#FFA15A\", \"#19d3f3\", \"#FF6692\", \"#B6E880\", \"#FF97FF\", \"#FECB52\"], \"font\": {\"color\": \"#2a3f5f\"}, \"geo\": {\"bgcolor\": \"white\", \"lakecolor\": \"white\", \"landcolor\": \"#E5ECF6\", \"showlakes\": true, \"showland\": true, \"subunitcolor\": \"white\"}, \"hoverlabel\": {\"align\": \"left\"}, \"hovermode\": \"closest\", \"mapbox\": {\"style\": \"light\"}, \"paper_bgcolor\": \"white\", \"plot_bgcolor\": \"#E5ECF6\", \"polar\": {\"angularaxis\": {\"gridcolor\": \"white\", \"linecolor\": \"white\", \"ticks\": \"\"}, \"bgcolor\": \"#E5ECF6\", \"radialaxis\": {\"gridcolor\": \"white\", \"linecolor\": \"white\", \"ticks\": \"\"}}, \"scene\": {\"xaxis\": {\"backgroundcolor\": \"#E5ECF6\", \"gridcolor\": \"white\", \"gridwidth\": 2, \"linecolor\": \"white\", \"showbackground\": true, \"ticks\": \"\", \"zerolinecolor\": \"white\"}, \"yaxis\": {\"backgroundcolor\": \"#E5ECF6\", \"gridcolor\": \"white\", \"gridwidth\": 2, \"linecolor\": \"white\", \"showbackground\": true, \"ticks\": \"\", \"zerolinecolor\": \"white\"}, \"zaxis\": {\"backgroundcolor\": \"#E5ECF6\", \"gridcolor\": \"white\", \"gridwidth\": 2, \"linecolor\": \"white\", \"showbackground\": true, \"ticks\": \"\", \"zerolinecolor\": \"white\"}}, \"shapedefaults\": {\"line\": {\"color\": \"#2a3f5f\"}}, \"ternary\": {\"aaxis\": {\"gridcolor\": \"white\", \"linecolor\": \"white\", \"ticks\": \"\"}, \"baxis\": {\"gridcolor\": \"white\", \"linecolor\": \"white\", \"ticks\": \"\"}, \"bgcolor\": \"#E5ECF6\", \"caxis\": {\"gridcolor\": \"white\", \"linecolor\": \"white\", \"ticks\": \"\"}}, \"title\": {\"x\": 0.05}, \"xaxis\": {\"automargin\": true, \"gridcolor\": \"white\", \"linecolor\": \"white\", \"ticks\": \"\", \"title\": {\"standoff\": 15}, \"zerolinecolor\": \"white\", \"zerolinewidth\": 2}, \"yaxis\": {\"automargin\": true, \"gridcolor\": \"white\", \"linecolor\": \"white\", \"ticks\": \"\", \"title\": {\"standoff\": 15}, \"zerolinecolor\": \"white\", \"zerolinewidth\": 2}}}, \"xaxis\": {\"anchor\": \"y\", \"domain\": [0.0, 1.0], \"title\": {\"text\": \"x\"}}, \"yaxis\": {\"anchor\": \"x\", \"domain\": [0.0, 1.0], \"title\": {\"text\": \"y\"}}},                        {\"responsive\": true}                    ).then(function(){\n",
       "                            \n",
       "var gd = document.getElementById('09abe25e-f4f5-40ff-81f1-7f5a0343d8a0');\n",
       "var x = new MutationObserver(function (mutations, observer) {{\n",
       "        var display = window.getComputedStyle(gd).display;\n",
       "        if (!display || display === 'none') {{\n",
       "            console.log([gd, 'removed!']);\n",
       "            Plotly.purge(gd);\n",
       "            observer.disconnect();\n",
       "        }}\n",
       "}});\n",
       "\n",
       "// Listen for the removal of the full notebook cells\n",
       "var notebookContainer = gd.closest('#notebook-container');\n",
       "if (notebookContainer) {{\n",
       "    x.observe(notebookContainer, {childList: true});\n",
       "}}\n",
       "\n",
       "// Listen for the clearing of the current output cell\n",
       "var outputEl = gd.closest('.output');\n",
       "if (outputEl) {{\n",
       "    x.observe(outputEl, {childList: true});\n",
       "}}\n",
       "\n",
       "                        })                };                });            </script>        </div>"
      ]
     },
     "metadata": {},
     "output_type": "display_data"
    }
   ],
   "source": [
    "                      \n",
    "results[\"labels\"] = results.labels.apply(int)\n",
    "cluster_labels_google = pd.DataFrame(zip(docs_per_topic.index.values,[\" | \".join([word[0] for word in word_score]) for word_score in ctrs]),columns=[\"Topic\",\"TopWords\"]).sort_values(by=\"Topic\").set_index(\"Topic\")\n"
   ]
  },
  {
   "cell_type": "code",
   "execution_count": null,
   "metadata": {},
   "outputs": [],
   "source": [
    "results=pd.merge(results,cluster_labels_google.reset_index(),left_on=\"labels\",right_on = \"Topic\")\n",
    "fig = px.scatter(results, x=\"x\", y=\"y\", hover_name=\"headline\", hover_data=[\"created_at\",\"TopWords\"], color=\"TopWords\",\n",
    "                 opacity=0.8)\n",
    "fig.update_traces(marker=dict(size=9,\n",
    "                              line=dict(width=0.15,\n",
    "                                        color='DarkSlateGrey')),\n",
    "                  selector=dict(mode='markers'))\n",
    "fig[\"layout\"].pop(\"updatemenus\")\n",
    "\n",
    "fig.update_layout(height=1000)\n",
    "fig.show()"
   ]
  },
  {
   "cell_type": "code",
   "execution_count": 109,
   "metadata": {},
   "outputs": [],
   "source": [
    "def mlflow_run_model_eval(mlflow,embeddings,df,**kwargs):\n",
    "    with mlflow.start_run():\n",
    "\n",
    "        #mlflow.log_params(kwargs)\n",
    "\n",
    "        results,cluster_labels = modeling.c(embeddings,n_components_clustering=N_COMPONENTS,\n",
    "                                                             min_cluster_size=min_cluster_size,n_neighbors=n_neighbors, \n",
    "                                                             min_samples= min_samples,alpha=alpha)\n",
    "        mlflow.log_metric(key=\"completeness_score\", value=completeness_score(cluster_labels,y.values))\n",
    "        mlflow.log_metric(key=\"v_measure_score\", value=v_measure_score(cluster_labels,y.values))\n",
    "        mlflow.log_metric(key=\"homogeneity_score\", value=homogeneity_score(cluster_labels,y.values))\n",
    "        mlflow.log_metric(key=\"normalized_mutual_info_score\", value=v_measure_score(cluster_labels,y.values))\n",
    "\n",
    "        summarized_clusters = dict(collections.Counter(cluster_labels))\n",
    "        try:\n",
    "            mlflow.log_metric(key=\"outliers_ratio\", value=(summarized_clusters[-1]/len(cluster_labels)))\n",
    "        except Exception as err:\n",
    "            mlflow.log_metric(key=\"outliers_ratio\", value=0)\n",
    "\n",
    "        mlflow.log_metric(key=\"unique_cluters\", value=len(summarized_clusters.items()))\n",
    "        mlflow.log_metric(key=\"cluters_ratio_to_GT\", value=(len(summarized_clusters.items())-1)/len(y_summarized_clusters.items()))\n",
    "        #mlflow.log_metric(key=\"silhuette_score\", value=silhouette_score(_X,cluster_labels))\n",
    "\n",
    "        results = utils.link_to_raw_data(results,df,cluster_labels)\n",
    "\n",
    "        modeling.scatter_plot(results,save_fig=True)\n",
    "        mlflow.log_artifact(\"./tmp_scatter_plot.html\")\n",
    "    "
   ]
  },
  {
   "cell_type": "code",
   "execution_count": 108,
   "metadata": {},
   "outputs": [
    {
     "data": {
      "text/html": [
       "<div>\n",
       "<style scoped>\n",
       "    .dataframe tbody tr th:only-of-type {\n",
       "        vertical-align: middle;\n",
       "    }\n",
       "\n",
       "    .dataframe tbody tr th {\n",
       "        vertical-align: top;\n",
       "    }\n",
       "\n",
       "    .dataframe thead th {\n",
       "        text-align: right;\n",
       "    }\n",
       "</style>\n",
       "<table border=\"1\" class=\"dataframe\">\n",
       "  <thead>\n",
       "    <tr style=\"text-align: right;\">\n",
       "      <th></th>\n",
       "      <th>x</th>\n",
       "      <th>y</th>\n",
       "      <th>topic_number</th>\n",
       "      <th>headline</th>\n",
       "      <th>seo_title</th>\n",
       "      <th>raw_text</th>\n",
       "      <th>article_uid</th>\n",
       "      <th>kicker_headline_ne</th>\n",
       "      <th>text_ne</th>\n",
       "      <th>seo_title_ne</th>\n",
       "      <th>created_at</th>\n",
       "    </tr>\n",
       "  </thead>\n",
       "  <tbody>\n",
       "    <tr>\n",
       "      <th>0</th>\n",
       "      <td>7.195629</td>\n",
       "      <td>6.489958</td>\n",
       "      <td>10</td>\n",
       "      <td>Die große Analyse - Welche Versicherung muss s...</td>\n",
       "      <td>Welche Versicherung muss sein, welche ist Quat...</td>\n",
       "      <td>Corona-Krise, Kurzarbeit, steigende Arbeitslos...</td>\n",
       "      <td>01041edd835d23b5fc1da3f45bd9eecee20712902612a0...</td>\n",
       "      <td>[{\"entities\":[{\"mentions\":[{\"text\":{\"content\":...</td>\n",
       "      <td>[{\"entities\":[{\"mentions\":[{\"text\":{\"content\":...</td>\n",
       "      <td>[{\"entities\":[{\"mentions\":[{\"text\":{\"content\":...</td>\n",
       "      <td>2020-09-12</td>\n",
       "    </tr>\n",
       "    <tr>\n",
       "      <th>1</th>\n",
       "      <td>11.686262</td>\n",
       "      <td>8.517100</td>\n",
       "      <td>14</td>\n",
       "      <td>Dortmund: Tierschützer retten verwahrloste Dac...</td>\n",
       "      <td>Tierschützer retten völlig verwahrloste Dackel</td>\n",
       "      <td>Dortmund – Diese Hilfs-Aktion hat wahrscheinli...</td>\n",
       "      <td>0177704b8dba48b9f78a4e7e40bdf147ca407c121f32e2...</td>\n",
       "      <td>[{\"entities\":[{\"mentions\":[{\"text\":{\"content\":...</td>\n",
       "      <td>[{\"entities\":[{\"mentions\":[{\"text\":{\"content\":...</td>\n",
       "      <td>[{\"entities\":[{\"mentions\":[{\"text\":{\"content\":...</td>\n",
       "      <td>2020-09-13</td>\n",
       "    </tr>\n",
       "    <tr>\n",
       "      <th>2</th>\n",
       "      <td>8.019990</td>\n",
       "      <td>9.263278</td>\n",
       "      <td>12</td>\n",
       "      <td>Kommentar zur Lage in Moria - Die Kinder von M...</td>\n",
       "      <td>Die Kinder von Moria brauchen unsere Hilfe</td>\n",
       "      <td>Wenn man an der Feuerkatastrophe im Flüchtling...</td>\n",
       "      <td>02269300addef66e501d2bb13124a1729135ebbb923ee4...</td>\n",
       "      <td>[{\"entities\":[{\"mentions\":[{\"text\":{\"content\":...</td>\n",
       "      <td>[{\"entities\":[{\"mentions\":[{\"text\":{\"content\":...</td>\n",
       "      <td>[{\"entities\":[{\"mentions\":[{\"text\":{\"content\":...</td>\n",
       "      <td>2020-09-10</td>\n",
       "    </tr>\n",
       "    <tr>\n",
       "      <th>3</th>\n",
       "      <td>9.971060</td>\n",
       "      <td>0.650199</td>\n",
       "      <td>8</td>\n",
       "      <td>Fortuna Düsseldorf: Drüsenfieber! Emma Iyoha d...</td>\n",
       "      <td>Iyoha drohtlange Pause!</td>\n",
       "      <td>Vor zwei Tagen trabte Fortuna-Profi Emmanuel I...</td>\n",
       "      <td>02bdfc4160d2b5fd6c4c0ca1b890db57880964b29e8f66...</td>\n",
       "      <td>[{\"entities\":[{\"mentions\":[{\"text\":{\"content\":...</td>\n",
       "      <td>[{\"entities\":[{\"mentions\":[{\"text\":{\"content\":...</td>\n",
       "      <td>[{\"entities\":[{\"mentions\":[{\"text\":{\"content\":...</td>\n",
       "      <td>2020-09-10</td>\n",
       "    </tr>\n",
       "    <tr>\n",
       "      <th>4</th>\n",
       "      <td>6.881146</td>\n",
       "      <td>3.833338</td>\n",
       "      <td>4</td>\n",
       "      <td>Formel 1: Mick Schumacher fährt Rekord-Ferrari...</td>\n",
       "      <td>Mick fährt SchumisRekord-Ferrari</td>\n",
       "      <td>Dass Ferrari in der Formel 1 für Gänsehaut sor...</td>\n",
       "      <td>0368404e36a88feab9248096fb7ea8e56fa42e498e6ef2...</td>\n",
       "      <td>[{\"entities\":[{\"mentions\":[{\"text\":{\"content\":...</td>\n",
       "      <td>[{\"entities\":[{\"mentions\":[{\"text\":{\"content\":...</td>\n",
       "      <td>[{\"entities\":[{\"mentions\":[{\"text\":{\"content\":...</td>\n",
       "      <td>2020-09-13</td>\n",
       "    </tr>\n",
       "    <tr>\n",
       "      <th>...</th>\n",
       "      <td>...</td>\n",
       "      <td>...</td>\n",
       "      <td>...</td>\n",
       "      <td>...</td>\n",
       "      <td>...</td>\n",
       "      <td>...</td>\n",
       "      <td>...</td>\n",
       "      <td>...</td>\n",
       "      <td>...</td>\n",
       "      <td>...</td>\n",
       "      <td>...</td>\n",
       "    </tr>\n",
       "    <tr>\n",
       "      <th>234</th>\n",
       "      <td>7.432632</td>\n",
       "      <td>6.783584</td>\n",
       "      <td>10</td>\n",
       "      <td>Finanzielle Engpässe: Wie stark belastet Coron...</td>\n",
       "      <td>Wie stark belastet Corona unseren Geldbeutel?</td>\n",
       "      <td>Die Corona-Pandemie macht sich seit Monaten im...</td>\n",
       "      <td>faae5f2ef63c63baae47bc98fb1cb2a40274156a3508a9...</td>\n",
       "      <td>[{\"entities\":[{\"mentions\":[{\"text\":{\"content\":...</td>\n",
       "      <td>[{\"entities\":[{\"mentions\":[{\"text\":{\"content\":...</td>\n",
       "      <td>[{\"entities\":[{\"mentions\":[{\"text\":{\"content\":...</td>\n",
       "      <td>2020-09-13</td>\n",
       "    </tr>\n",
       "    <tr>\n",
       "      <th>235</th>\n",
       "      <td>9.389167</td>\n",
       "      <td>6.926017</td>\n",
       "      <td>-1</td>\n",
       "      <td>Corona in Garmisch-Partenkirchen | Pub-Bertrei...</td>\n",
       "      <td>Pub-Betreiber total fertig: „Das ist eine Kata...</td>\n",
       "      <td>Eine 26-jährige Super-Spreaderin verursachte a...</td>\n",
       "      <td>fab9f708d9ba4e68959eea74ace58df6fee0449bdb6e71...</td>\n",
       "      <td>[{\"entities\":[{\"mentions\":[{\"text\":{\"content\":...</td>\n",
       "      <td>[{\"entities\":[{\"mentions\":[{\"text\":{\"content\":...</td>\n",
       "      <td>[{\"entities\":[{\"mentions\":[{\"text\":{\"content\":...</td>\n",
       "      <td>2020-09-13</td>\n",
       "    </tr>\n",
       "    <tr>\n",
       "      <th>236</th>\n",
       "      <td>7.900997</td>\n",
       "      <td>9.811699</td>\n",
       "      <td>16</td>\n",
       "      <td>Nawalny: War das Nowitschok-Gift auf seiner Un...</td>\n",
       "      <td>War das Gift auf der Unterwäsche Nawalnys?</td>\n",
       "      <td>War es doch nicht der Tee am Flughafen?  Der N...</td>\n",
       "      <td>fd3215b0fc56e66a2ffd49b7976413dc5ef1aae4cbc1fd...</td>\n",
       "      <td>[{\"entities\":[{\"mentions\":[{\"text\":{\"content\":...</td>\n",
       "      <td>[{\"entities\":[{\"mentions\":[{\"text\":{\"content\":...</td>\n",
       "      <td>[{\"entities\":[{\"mentions\":[{\"text\":{\"content\":...</td>\n",
       "      <td>2020-09-11</td>\n",
       "    </tr>\n",
       "    <tr>\n",
       "      <th>237</th>\n",
       "      <td>7.556959</td>\n",
       "      <td>10.609605</td>\n",
       "      <td>3</td>\n",
       "      <td>Dutzende werden vermisst - 35 Tote durch Kalif...</td>\n",
       "      <td>35 Tote durch Kalifornien-Brände</td>\n",
       "      <td>Das Flammen-Inferno in Kalifornien fordert imm...</td>\n",
       "      <td>fdbd80734a8be7d3cab1c0a450442219166af24e9c2a92...</td>\n",
       "      <td>[{\"entities\":[{\"mentions\":[{\"text\":{\"content\":...</td>\n",
       "      <td>[{\"entities\":[{\"mentions\":[{\"text\":{\"content\":...</td>\n",
       "      <td>[{\"entities\":[{\"mentions\":[{\"text\":{\"content\":...</td>\n",
       "      <td>2020-09-14</td>\n",
       "    </tr>\n",
       "    <tr>\n",
       "      <th>238</th>\n",
       "      <td>11.733205</td>\n",
       "      <td>4.725652</td>\n",
       "      <td>18</td>\n",
       "      <td>„FameMaker“: Wie Stefan Raab die Fäden weiter ...</td>\n",
       "      <td>Wie Raab hinter der Kamera die Fäden zieht</td>\n",
       "      <td>Bühne frei für ein neues bisschen Raab ... Am ...</td>\n",
       "      <td>fde4b3c95901643bf957060e97458af3c3a5cb77979d6b...</td>\n",
       "      <td>[{\"entities\":[{\"mentions\":[{\"text\":{\"content\":...</td>\n",
       "      <td>[{\"entities\":[{\"mentions\":[{\"text\":{\"content\":...</td>\n",
       "      <td>[{\"entities\":[{\"mentions\":[{\"text\":{\"content\":...</td>\n",
       "      <td>2020-09-14</td>\n",
       "    </tr>\n",
       "  </tbody>\n",
       "</table>\n",
       "<p>239 rows × 11 columns</p>\n",
       "</div>"
      ],
      "text/plain": [
       "             x          y  topic_number  \\\n",
       "0     7.195629   6.489958            10   \n",
       "1    11.686262   8.517100            14   \n",
       "2     8.019990   9.263278            12   \n",
       "3     9.971060   0.650199             8   \n",
       "4     6.881146   3.833338             4   \n",
       "..         ...        ...           ...   \n",
       "234   7.432632   6.783584            10   \n",
       "235   9.389167   6.926017            -1   \n",
       "236   7.900997   9.811699            16   \n",
       "237   7.556959  10.609605             3   \n",
       "238  11.733205   4.725652            18   \n",
       "\n",
       "                                              headline  \\\n",
       "0    Die große Analyse - Welche Versicherung muss s...   \n",
       "1    Dortmund: Tierschützer retten verwahrloste Dac...   \n",
       "2    Kommentar zur Lage in Moria - Die Kinder von M...   \n",
       "3    Fortuna Düsseldorf: Drüsenfieber! Emma Iyoha d...   \n",
       "4    Formel 1: Mick Schumacher fährt Rekord-Ferrari...   \n",
       "..                                                 ...   \n",
       "234  Finanzielle Engpässe: Wie stark belastet Coron...   \n",
       "235  Corona in Garmisch-Partenkirchen | Pub-Bertrei...   \n",
       "236  Nawalny: War das Nowitschok-Gift auf seiner Un...   \n",
       "237  Dutzende werden vermisst - 35 Tote durch Kalif...   \n",
       "238  „FameMaker“: Wie Stefan Raab die Fäden weiter ...   \n",
       "\n",
       "                                             seo_title  \\\n",
       "0    Welche Versicherung muss sein, welche ist Quat...   \n",
       "1       Tierschützer retten völlig verwahrloste Dackel   \n",
       "2           Die Kinder von Moria brauchen unsere Hilfe   \n",
       "3                              Iyoha drohtlange Pause!   \n",
       "4                     Mick fährt SchumisRekord-Ferrari   \n",
       "..                                                 ...   \n",
       "234      Wie stark belastet Corona unseren Geldbeutel?   \n",
       "235  Pub-Betreiber total fertig: „Das ist eine Kata...   \n",
       "236         War das Gift auf der Unterwäsche Nawalnys?   \n",
       "237                   35 Tote durch Kalifornien-Brände   \n",
       "238         Wie Raab hinter der Kamera die Fäden zieht   \n",
       "\n",
       "                                              raw_text  \\\n",
       "0    Corona-Krise, Kurzarbeit, steigende Arbeitslos...   \n",
       "1    Dortmund – Diese Hilfs-Aktion hat wahrscheinli...   \n",
       "2    Wenn man an der Feuerkatastrophe im Flüchtling...   \n",
       "3    Vor zwei Tagen trabte Fortuna-Profi Emmanuel I...   \n",
       "4    Dass Ferrari in der Formel 1 für Gänsehaut sor...   \n",
       "..                                                 ...   \n",
       "234  Die Corona-Pandemie macht sich seit Monaten im...   \n",
       "235  Eine 26-jährige Super-Spreaderin verursachte a...   \n",
       "236  War es doch nicht der Tee am Flughafen?  Der N...   \n",
       "237  Das Flammen-Inferno in Kalifornien fordert imm...   \n",
       "238  Bühne frei für ein neues bisschen Raab ... Am ...   \n",
       "\n",
       "                                           article_uid  \\\n",
       "0    01041edd835d23b5fc1da3f45bd9eecee20712902612a0...   \n",
       "1    0177704b8dba48b9f78a4e7e40bdf147ca407c121f32e2...   \n",
       "2    02269300addef66e501d2bb13124a1729135ebbb923ee4...   \n",
       "3    02bdfc4160d2b5fd6c4c0ca1b890db57880964b29e8f66...   \n",
       "4    0368404e36a88feab9248096fb7ea8e56fa42e498e6ef2...   \n",
       "..                                                 ...   \n",
       "234  faae5f2ef63c63baae47bc98fb1cb2a40274156a3508a9...   \n",
       "235  fab9f708d9ba4e68959eea74ace58df6fee0449bdb6e71...   \n",
       "236  fd3215b0fc56e66a2ffd49b7976413dc5ef1aae4cbc1fd...   \n",
       "237  fdbd80734a8be7d3cab1c0a450442219166af24e9c2a92...   \n",
       "238  fde4b3c95901643bf957060e97458af3c3a5cb77979d6b...   \n",
       "\n",
       "                                    kicker_headline_ne  \\\n",
       "0    [{\"entities\":[{\"mentions\":[{\"text\":{\"content\":...   \n",
       "1    [{\"entities\":[{\"mentions\":[{\"text\":{\"content\":...   \n",
       "2    [{\"entities\":[{\"mentions\":[{\"text\":{\"content\":...   \n",
       "3    [{\"entities\":[{\"mentions\":[{\"text\":{\"content\":...   \n",
       "4    [{\"entities\":[{\"mentions\":[{\"text\":{\"content\":...   \n",
       "..                                                 ...   \n",
       "234  [{\"entities\":[{\"mentions\":[{\"text\":{\"content\":...   \n",
       "235  [{\"entities\":[{\"mentions\":[{\"text\":{\"content\":...   \n",
       "236  [{\"entities\":[{\"mentions\":[{\"text\":{\"content\":...   \n",
       "237  [{\"entities\":[{\"mentions\":[{\"text\":{\"content\":...   \n",
       "238  [{\"entities\":[{\"mentions\":[{\"text\":{\"content\":...   \n",
       "\n",
       "                                               text_ne  \\\n",
       "0    [{\"entities\":[{\"mentions\":[{\"text\":{\"content\":...   \n",
       "1    [{\"entities\":[{\"mentions\":[{\"text\":{\"content\":...   \n",
       "2    [{\"entities\":[{\"mentions\":[{\"text\":{\"content\":...   \n",
       "3    [{\"entities\":[{\"mentions\":[{\"text\":{\"content\":...   \n",
       "4    [{\"entities\":[{\"mentions\":[{\"text\":{\"content\":...   \n",
       "..                                                 ...   \n",
       "234  [{\"entities\":[{\"mentions\":[{\"text\":{\"content\":...   \n",
       "235  [{\"entities\":[{\"mentions\":[{\"text\":{\"content\":...   \n",
       "236  [{\"entities\":[{\"mentions\":[{\"text\":{\"content\":...   \n",
       "237  [{\"entities\":[{\"mentions\":[{\"text\":{\"content\":...   \n",
       "238  [{\"entities\":[{\"mentions\":[{\"text\":{\"content\":...   \n",
       "\n",
       "                                          seo_title_ne  created_at  \n",
       "0    [{\"entities\":[{\"mentions\":[{\"text\":{\"content\":...  2020-09-12  \n",
       "1    [{\"entities\":[{\"mentions\":[{\"text\":{\"content\":...  2020-09-13  \n",
       "2    [{\"entities\":[{\"mentions\":[{\"text\":{\"content\":...  2020-09-10  \n",
       "3    [{\"entities\":[{\"mentions\":[{\"text\":{\"content\":...  2020-09-10  \n",
       "4    [{\"entities\":[{\"mentions\":[{\"text\":{\"content\":...  2020-09-13  \n",
       "..                                                 ...         ...  \n",
       "234  [{\"entities\":[{\"mentions\":[{\"text\":{\"content\":...  2020-09-13  \n",
       "235  [{\"entities\":[{\"mentions\":[{\"text\":{\"content\":...  2020-09-13  \n",
       "236  [{\"entities\":[{\"mentions\":[{\"text\":{\"content\":...  2020-09-11  \n",
       "237  [{\"entities\":[{\"mentions\":[{\"text\":{\"content\":...  2020-09-14  \n",
       "238  [{\"entities\":[{\"mentions\":[{\"text\":{\"content\":...  2020-09-14  \n",
       "\n",
       "[239 rows x 11 columns]"
      ]
     },
     "execution_count": 108,
     "metadata": {},
     "output_type": "execute_result"
    }
   ],
   "source": []
  },
  {
   "cell_type": "code",
   "execution_count": null,
   "metadata": {},
   "outputs": [],
   "source": []
  }
 ],
 "metadata": {
  "kernelspec": {
   "display_name": "py38",
   "language": "python",
   "name": "py38"
  },
  "language_info": {
   "codemirror_mode": {
    "name": "ipython",
    "version": 3
   },
   "file_extension": ".py",
   "mimetype": "text/x-python",
   "name": "python",
   "nbconvert_exporter": "python",
   "pygments_lexer": "ipython3",
   "version": "3.8.3"
  }
 },
 "nbformat": 4,
 "nbformat_minor": 4
}
