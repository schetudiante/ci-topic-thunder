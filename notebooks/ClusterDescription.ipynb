{
 "cells": [
  {
   "cell_type": "code",
   "execution_count": 2,
   "metadata": {},
   "outputs": [
    {
     "ename": "ImportError",
     "evalue": "attempted relative import with no known parent package",
     "output_type": "error",
     "traceback": [
      "\u001b[0;31m---------------------------------------------------------------------------\u001b[0m",
      "\u001b[0;31mImportError\u001b[0m                               Traceback (most recent call last)",
      "\u001b[0;32m<ipython-input-2-f4915aab7045>\u001b[0m in \u001b[0;36m<module>\u001b[0;34m\u001b[0m\n\u001b[1;32m      5\u001b[0m \u001b[0;32mfrom\u001b[0m \u001b[0msklearn\u001b[0m\u001b[0;34m.\u001b[0m\u001b[0mfeature_extraction\u001b[0m\u001b[0;34m.\u001b[0m\u001b[0mtext\u001b[0m \u001b[0;32mimport\u001b[0m \u001b[0mCountVectorizer\u001b[0m\u001b[0;34m\u001b[0m\u001b[0;34m\u001b[0m\u001b[0m\n\u001b[1;32m      6\u001b[0m \u001b[0;32mimport\u001b[0m \u001b[0mnumpy\u001b[0m \u001b[0;32mas\u001b[0m \u001b[0mnp\u001b[0m\u001b[0;34m\u001b[0m\u001b[0;34m\u001b[0m\u001b[0m\n\u001b[0;32m----> 7\u001b[0;31m \u001b[0;32mfrom\u001b[0m \u001b[0;34m.\u001b[0m\u001b[0mmodules\u001b[0m \u001b[0;32mimport\u001b[0m \u001b[0mutils\u001b[0m\u001b[0;34m\u001b[0m\u001b[0;34m\u001b[0m\u001b[0m\n\u001b[0m\u001b[1;32m      8\u001b[0m \u001b[0;32mimport\u001b[0m \u001b[0mnltk\u001b[0m\u001b[0;34m,\u001b[0m\u001b[0mre\u001b[0m\u001b[0;34m,\u001b[0m\u001b[0mtime\u001b[0m\u001b[0;34m,\u001b[0m\u001b[0mumap\u001b[0m\u001b[0;34m,\u001b[0m\u001b[0mcollections\u001b[0m\u001b[0;34m,\u001b[0m\u001b[0mwordcloud\u001b[0m\u001b[0;34m\u001b[0m\u001b[0;34m\u001b[0m\u001b[0m\n\u001b[1;32m      9\u001b[0m \u001b[0;32mfrom\u001b[0m \u001b[0mhdbscan\u001b[0m \u001b[0;32mimport\u001b[0m \u001b[0mHDBSCAN\u001b[0m\u001b[0;34m\u001b[0m\u001b[0;34m\u001b[0m\u001b[0m\n",
      "\u001b[0;31mImportError\u001b[0m: attempted relative import with no known parent package"
     ]
    }
   ],
   "source": [
    "import nltk,re,time,umap,collections,wordcloud,sys,os\n",
    "os.path.append('../')\n",
    "from sentence_transformers import SentenceTransformer,models\n",
    "import plotly.express as px\n",
    "import pandas as pd\n",
    "import mlflow\n",
    "from sklearn.feature_extraction.text import CountVectorizer\n",
    "import numpy as np\n",
    "from modules import utils\n",
    "\n",
    "from hdbscan import HDBSCAN\n",
    "from sklearn.preprocessing import normalize\n",
    "from transformers import AutoModel, AutoTokenizer\n",
    "from torch import nn\n",
    "#tokenizer = AutoTokenizer.from_pretrained(\"dbmdz/bert-base-german-cased\")\n",
    "%reload_ext utils\n",
    "%matplotlib inline\n",
    "%load_ext autoreload\n",
    "%autoreload 2\n",
    "\n",
    "from scipy.spatial.distance import pdist, squareform\n",
    "\n",
    "from flair.models import SequenceTagger\n",
    "from flair.data import Sentence\n",
    "\n",
    "TOP_N = 100\n"
   ]
  },
  {
   "cell_type": "markdown",
   "metadata": {},
   "source": [
    "#### Load Flair-based NER "
   ]
  },
  {
   "cell_type": "code",
   "execution_count": 164,
   "metadata": {},
   "outputs": [
    {
     "name": "stdout",
     "output_type": "stream",
     "text": [
      "2020-10-22 00:35:21,078 loading file /Users/tomasztkaczyk/.flair/models/de-ner-germeval-0.4.1.pt\n"
     ]
    }
   ],
   "source": [
    "tagger = SequenceTagger.load('de-ner-germeval')\n",
    "sentence = Sentence('George Washington ging nach Washington.')\n",
    "tagger.predict(sentence)"
   ]
  },
  {
   "cell_type": "markdown",
   "metadata": {},
   "source": [
    "## Load the Google's NER Tags for the labeled articles "
   ]
  },
  {
   "cell_type": "code",
   "execution_count": 140,
   "metadata": {},
   "outputs": [
    {
     "name": "stdout",
     "output_type": "stream",
     "text": [
      "(240, 4)\n"
     ]
    },
    {
     "data": {
      "text/html": [
       "<div>\n",
       "<style scoped>\n",
       "    .dataframe tbody tr th:only-of-type {\n",
       "        vertical-align: middle;\n",
       "    }\n",
       "\n",
       "    .dataframe tbody tr th {\n",
       "        vertical-align: top;\n",
       "    }\n",
       "\n",
       "    .dataframe thead th {\n",
       "        text-align: right;\n",
       "    }\n",
       "</style>\n",
       "<table border=\"1\" class=\"dataframe\">\n",
       "  <thead>\n",
       "    <tr style=\"text-align: right;\">\n",
       "      <th></th>\n",
       "      <th>kicker_headline</th>\n",
       "      <th>text_ne</th>\n",
       "      <th>seo_title_ne</th>\n",
       "      <th>created_at_ne</th>\n",
       "    </tr>\n",
       "    <tr>\n",
       "      <th>article_id</th>\n",
       "      <th></th>\n",
       "      <th></th>\n",
       "      <th></th>\n",
       "      <th></th>\n",
       "    </tr>\n",
       "  </thead>\n",
       "  <tbody>\n",
       "    <tr>\n",
       "      <th>080f9e0033f23540881fd07ecbf503e9066c5151ddb82287852b1badfcad4e7d</th>\n",
       "      <td>[{\"entities\":[{\"mentions\":[{\"text\":{\"content\":...</td>\n",
       "      <td>[{\"entities\":[{\"mentions\":[{\"text\":{\"content\":...</td>\n",
       "      <td>[{\"entities\":[{\"mentions\":[{\"text\":{\"content\":...</td>\n",
       "      <td>2020-09-09 15:52:04</td>\n",
       "    </tr>\n",
       "  </tbody>\n",
       "</table>\n",
       "</div>"
      ],
      "text/plain": [
       "                                                                                      kicker_headline  \\\n",
       "article_id                                                                                              \n",
       "080f9e0033f23540881fd07ecbf503e9066c5151ddb8228...  [{\"entities\":[{\"mentions\":[{\"text\":{\"content\":...   \n",
       "\n",
       "                                                                                              text_ne  \\\n",
       "article_id                                                                                              \n",
       "080f9e0033f23540881fd07ecbf503e9066c5151ddb8228...  [{\"entities\":[{\"mentions\":[{\"text\":{\"content\":...   \n",
       "\n",
       "                                                                                         seo_title_ne  \\\n",
       "article_id                                                                                              \n",
       "080f9e0033f23540881fd07ecbf503e9066c5151ddb8228...  [{\"entities\":[{\"mentions\":[{\"text\":{\"content\":...   \n",
       "\n",
       "                                                          created_at_ne  \n",
       "article_id                                                               \n",
       "080f9e0033f23540881fd07ecbf503e9066c5151ddb8228...  2020-09-09 15:52:04  "
      ]
     },
     "execution_count": 140,
     "metadata": {},
     "output_type": "execute_result"
    }
   ],
   "source": [
    "labeled = pd.read_csv(\"./raw_article_entities.csv\",header=None,names=[\"_id\",\"article_id\",\"kicker_headline\",\"text_ne\",\"seo_title_ne\",\"created_at_ne\",\"updated_at\",\"parset\"])\n",
    "\n",
    "labeled.drop([\"parset\",\"updated_at\",\"_id\"],axis=1,inplace=True)\n",
    "labeled=labeled.set_index(\"article_id\")\n",
    "print(labeled.shape)\n",
    "labeled.head(1)"
   ]
  },
  {
   "cell_type": "markdown",
   "metadata": {},
   "source": [
    "# Load the labeled Clusters and join them with NER from HUD DB"
   ]
  },
  {
   "cell_type": "code",
   "execution_count": 222,
   "metadata": {},
   "outputs": [
    {
     "data": {
      "text/html": [
       "<div>\n",
       "<style scoped>\n",
       "    .dataframe tbody tr th:only-of-type {\n",
       "        vertical-align: middle;\n",
       "    }\n",
       "\n",
       "    .dataframe tbody tr th {\n",
       "        vertical-align: top;\n",
       "    }\n",
       "\n",
       "    .dataframe thead th {\n",
       "        text-align: right;\n",
       "    }\n",
       "</style>\n",
       "<table border=\"1\" class=\"dataframe\">\n",
       "  <thead>\n",
       "    <tr style=\"text-align: right;\">\n",
       "      <th></th>\n",
       "      <th>labels</th>\n",
       "      <th>headline</th>\n",
       "      <th>seo_title</th>\n",
       "      <th>text</th>\n",
       "      <th>created_at_date</th>\n",
       "      <th>created_at</th>\n",
       "      <th>mix</th>\n",
       "      <th>kicker_headline</th>\n",
       "      <th>text_ne</th>\n",
       "      <th>seo_title_ne</th>\n",
       "      <th>created_at_ne</th>\n",
       "    </tr>\n",
       "  </thead>\n",
       "  <tbody>\n",
       "    <tr>\n",
       "      <th>01041edd835d23b5fc1da3f45bd9eecee20712902612a075ee68873bcdfba708</th>\n",
       "      <td>22</td>\n",
       "      <td>Die große Analyse - Welche Versicherung muss sein, welche ist Quatsch? *** BILDplus Inhalt ***  -Wirtschaft -Bild.de</td>\n",
       "      <td>Welche Versicherung muss sein, welche ist Quatsch?</td>\n",
       "      <td>Corona-Krise, Kurzarbeit, steigende Arbeitslosigkeit: Millionen haben gerade Angst um ihre Finanzen. Ein großer Kostenblock für viele sind Versicherungen. Welche ist wichtig, welche kann man sich sparen? Lesen Sie nur mit BILD plus die große Versicherungs-Analyse!</td>\n",
       "      <td>9/12/20</td>\n",
       "      <td>2020-09-12 23:24:15</td>\n",
       "      <td>Die große Analyse - Welche Versicherung muss sein, welche ist Quatsch? *** BILDplus Inhalt ***  -Wirtschaft -Bild.de</td>\n",
       "      <td>[{\"entities\":[{\"mentions\":[{\"text\":{\"content\":\"Analyse\",\"beginOffset\":11},\"type\":\"COMMON\",\"sentiment\":null}],\"metadata\":{},\"name\":\"Analyse\",\"type\":\"OTHER\",\"salience\":0.4083549380302429,\"sentiment\":null},{\"mentions\":[{\"text\":{\"content\":\"Quatsch\",\"beginOffset\":61},\"type\":\"COMMON\",\"sentiment\":null}],\"metadata\":{},\"name\":\"Quatsch\",\"type\":\"OTHER\",\"salience\":0.3228294253349304,\"sentiment\":null},{\"mentions\":[{\"text\":{\"content\":\"Versicherung\",\"beginOffset\":26},\"type\":\"COMMON\",\"sentiment\":null}],\"metadata\":{},\"name\":\"Versicherung\",\"type\":\"ORGANIZATION\",\"salience\":0.26881563663482666,\"sentiment\":null}],\"language\":\"de\"},null,null]</td>\n",
       "      <td>[{\"entities\":[{\"mentions\":[{\"text\":{\"content\":\"Kurzarbeit\",\"beginOffset\":14},\"type\":\"COMMON\",\"sentiment\":null}],\"metadata\":{},\"name\":\"Kurzarbeit\",\"type\":\"OTHER\",\"salience\":0.29490000009536743,\"sentiment\":null},{\"mentions\":[{\"text\":{\"content\":\"Arbeitslosigkeit\",\"beginOffset\":36},\"type\":\"COMMON\",\"sentiment\":null}],\"metadata\":{},\"name\":\"Arbeitslosigkeit\",\"type\":\"OTHER\",\"salience\":0.19496002793312073,\"sentiment\":null},{\"mentions\":[{\"text\":{\"content\":\"Angst\",\"beginOffset\":77},\"type\":\"COMMON\",\"sentiment\":null}],\"metadata\":{},\"name\":\"Angst\",\"type\":\"OTHER\",\"salience\":0.11731062084436417,\"sentiment\":null},{\"mentions\":[{\"text\":{\"content\":\"Finanzen\",\"beginOffset\":91},\"type\":\"COMMON\",\"sentiment\":null}],\"metadata\":{},\"name\":\"Finanzen\",\"type\":\"OTHER\",\"salience\":0.11731062084436417,\"sentiment\":null},{\"mentions\":[{\"text\":{\"content\":\"Corona-Krise\",\"beginOffset\":0},\"type\":\"PROPER\",\"sentiment\":null}],\"metadata\":{\"mid\":\"/g/11fr15t15h\",\"wikipedia_url\":\"https://en.wikipedia.org/wiki/COVID-19_pandemic\"},...</td>\n",
       "      <td>[{\"entities\":[{\"mentions\":[{\"text\":{\"content\":\"Analyse\",\"beginOffset\":11},\"type\":\"COMMON\",\"sentiment\":null}],\"metadata\":{},\"name\":\"Analyse\",\"type\":\"WORK_OF_ART\",\"salience\":0.42783594131469727,\"sentiment\":null},{\"mentions\":[{\"text\":{\"content\":\"Versicherung\",\"beginOffset\":28},\"type\":\"COMMON\",\"sentiment\":null}],\"metadata\":{},\"name\":\"Versicherung\",\"type\":\"ORGANIZATION\",\"salience\":0.29629403352737427,\"sentiment\":null},{\"mentions\":[{\"text\":{\"content\":\"Quatsch\",\"beginOffset\":63},\"type\":\"COMMON\",\"sentiment\":null}],\"metadata\":{},\"name\":\"Quatsch\",\"type\":\"OTHER\",\"salience\":0.1511181890964508,\"sentiment\":null},{\"mentions\":[{\"text\":{\"content\":\"BILDplus Inhalt ***  -Wirtschaft -Bild.de\",\"beginOffset\":76},\"type\":\"COMMON\",\"sentiment\":null}],\"metadata\":{},\"name\":\"BILDplus Inhalt *** -Wirtschaft -Bild.de\",\"type\":\"OTHER\",\"salience\":0.12475184351205826,\"sentiment\":null}],\"language\":\"de\"},null,null]</td>\n",
       "      <td>2020-09-12 23:25:05</td>\n",
       "    </tr>\n",
       "    <tr>\n",
       "      <th>0177704b8dba48b9f78a4e7e40bdf147ca407c121f32e2cf109e62ff16c64708</th>\n",
       "      <td>17</td>\n",
       "      <td>Dortmund: Tierschützer retten verwahrloste Dackel, Kaninchen und Tauben  -Ruhrgebiet -Bild.de</td>\n",
       "      <td>Tierschützer retten völlig verwahrloste Dackel</td>\n",
       "      <td>Dortmund – Diese Hilfs-Aktion hat wahrscheinlich Leben gerettet. In Dortmund holten Tierschützer verwahrloste Hunde, Tauben und Kaninchen aus einem Haus. Spaziergänger hatten die Missstände bemerkt und Alarm geschlagen. Gabi Beyer (54) vom Verein „Arche90 e.V.“ fuhr sofort zu dem Hof, begutachtete die Tiere und sprach mit den Besitzern. „Die Dackel waren am schlimmsten vernachlässigt. Einer Hündin konnte die Klinik nicht mehr helfen, sie musste eingeschläfert werden. Ihr Körper war von Maden befallen.“  Drei weitere Rauhaardackel, 15 Kaninchen und 39 Tauben händigte das Ehepaar der Tierschützerin schließlich freiwillig aus. Als Erste Hilfe ging es zum „Dog-Styling Saloon“ von Cordula Luckhard (45). Sie dokumentierte eingewachsene Krallen, fast vollständig zahnlose Gebisse und extremen Flohbefall. Stundenlang wurde gewaschen, entfilzt und gegen die Parasiten gekämpft. „So einen Flohbefall habe ich noch nie gesehen. Außerdem sind die Hunde völlig unterernährt. Sie scheinen Heu oder S...</td>\n",
       "      <td>9/13/20</td>\n",
       "      <td>2020-09-13 17:23:15</td>\n",
       "      <td>Dortmund: Tierschützer retten verwahrloste Dackel, Kaninchen und Tauben  -Ruhrgebiet -Bild.de</td>\n",
       "      <td>[{\"entities\":[{\"mentions\":[{\"text\":{\"content\":\"Paar\",\"beginOffset\":11},\"type\":\"COMMON\",\"sentiment\":null}],\"metadata\":{},\"name\":\"Paar\",\"type\":\"PERSON\",\"salience\":0.28327426314353943,\"sentiment\":null},{\"mentions\":[{\"text\":{\"content\":\"Kaninchen\",\"beginOffset\":24},\"type\":\"COMMON\",\"sentiment\":null}],\"metadata\":{},\"name\":\"Kaninchen\",\"type\":\"OTHER\",\"salience\":0.19555598497390747,\"sentiment\":null},{\"mentions\":[{\"text\":{\"content\":\"Dackel\",\"beginOffset\":91},\"type\":\"COMMON\",\"sentiment\":null}],\"metadata\":{},\"name\":\"Dackel\",\"type\":\"OTHER\",\"salience\":0.11904020607471466,\"sentiment\":null},{\"mentions\":[{\"text\":{\"content\":\"Tierschützer\",\"beginOffset\":49},\"type\":\"COMMON\",\"sentiment\":null}],\"metadata\":{},\"name\":\"Tierschützer\",\"type\":\"PERSON\",\"salience\":0.1096307560801506,\"sentiment\":null},{\"mentions\":[{\"text\":{\"content\":\"Hunde\",\"beginOffset\":43},\"type\":\"COMMON\",\"sentiment\":null}],\"metadata\":{},\"name\":\"Hunde\",\"type\":\"OTHER\",\"salience\":0.1096307560801506,\"sentiment\":null},{\"mentions\":[{\"text\":{\"content...</td>\n",
       "      <td>[{\"entities\":[{\"mentions\":[{\"text\":{\"content\":\"Tierschützer\",\"beginOffset\":86},\"type\":\"COMMON\",\"sentiment\":null}],\"metadata\":{},\"name\":\"Tierschützer\",\"type\":\"PERSON\",\"salience\":0.11339171975851059,\"sentiment\":null},{\"mentions\":[{\"text\":{\"content\":\"Hilfs-Aktion\",\"beginOffset\":19},\"type\":\"COMMON\",\"sentiment\":null}],\"metadata\":{},\"name\":\"Hilfs-Aktion\",\"type\":\"EVENT\",\"salience\":0.09145684540271759,\"sentiment\":null},{\"mentions\":[{\"text\":{\"content\":\"Leben\",\"beginOffset\":51},\"type\":\"COMMON\",\"sentiment\":null}],\"metadata\":{},\"name\":\"Leben\",\"type\":\"OTHER\",\"salience\":0.09145684540271759,\"sentiment\":null},{\"mentions\":[{\"text\":{\"content\":\"Hunde\",\"beginOffset\":113},\"type\":\"COMMON\",\"sentiment\":null}],\"metadata\":{},\"name\":\"Hunde\",\"type\":\"OTHER\",\"salience\":0.07723048329353333,\"sentiment\":null},{\"mentions\":[{\"text\":{\"content\":\"Tauben\",\"beginOffset\":120},\"type\":\"COMMON\",\"sentiment\":null}],\"metadata\":{},\"name\":\"Tauben\",\"type\":\"OTHER\",\"salience\":0.06831344962120056,\"sentiment\":null},{\"mentions\":[{\"text...</td>\n",
       "      <td>[{\"entities\":[{\"mentions\":[{\"text\":{\"content\":\"Tierschützer\",\"beginOffset\":10},\"type\":\"COMMON\",\"sentiment\":null}],\"metadata\":{},\"name\":\"Tierschützer\",\"type\":\"PERSON\",\"salience\":0.28799936175346375,\"sentiment\":null},{\"mentions\":[{\"text\":{\"content\":\"Dackel\",\"beginOffset\":44},\"type\":\"COMMON\",\"sentiment\":null}],\"metadata\":{},\"name\":\"Dackel\",\"type\":\"OTHER\",\"salience\":0.17946001887321472,\"sentiment\":null},{\"mentions\":[{\"text\":{\"content\":\"Dortmund\",\"beginOffset\":0},\"type\":\"PROPER\",\"sentiment\":null}],\"metadata\":{\"mid\":\"/m/0135k2\",\"wikipedia_url\":\"https://en.wikipedia.org/wiki/Dortmund\"},\"name\":\"Dortmund\",\"type\":\"LOCATION\",\"salience\":0.15813054144382477,\"sentiment\":null},{\"mentions\":[{\"text\":{\"content\":\"Tauben\",\"beginOffset\":66},\"type\":\"COMMON\",\"sentiment\":null}],\"metadata\":{},\"name\":\"Tauben\",\"type\":\"OTHER\",\"salience\":0.14507541060447693,\"sentiment\":null},{\"mentions\":[{\"text\":{\"content\":\"Kaninchen\",\"beginOffset\":52},\"type\":\"COMMON\",\"sentiment\":null}],\"metadata\":{},\"name\":\"Kaninchen\",\"type\":...</td>\n",
       "      <td>2020-09-13 17:24:04</td>\n",
       "    </tr>\n",
       "    <tr>\n",
       "      <th>02269300addef66e501d2bb13124a1729135ebbb923ee4bf9c488297a2bc8fec</th>\n",
       "      <td>2</td>\n",
       "      <td>Kommentar zur Lage in Moria - Die Kinder von Moria brauchen unsere Hilfe  -Politik -Bild.de</td>\n",
       "      <td>Die Kinder von Moria brauchen unsere Hilfe</td>\n",
       "      <td>Wenn man an der Feuerkatastrophe im Flüchtlingslager Moria auf Lesbos irgendetwas Gutes finden kann, dann, dass die Flammen die Hoffnungslosen und Verzweifelten vor die Kameras und damit die Augen der Weltöffentlichkeit getrieben haben. Wir sehen: Unerträglich viele Familien mit kleinen Kindern sitzen seit Monaten unter desolaten Umständen in Moria fest. \\n                                    Alle wussten, dass es passieren würde – die griechische Regierung und alle europäischen Staats- und Regierungschefs. \\n                                    Merkel und Macron wollen in einer gemeinsamen Aktion mit anderen EU-Ländern 400 unbegleitete Kinder aus Moria übernehmen.  Nach allem, was seit 2015 schlecht gemanagt wurde – zum Beispiel die Abschiebung von Gewalttätern –, ist es nachvollziehbar, dass wir genau darauf achten, WEN wir bei uns aufnehmen. Aber nachdem im vergangenen Sommer Flüchtlingskinder in deutschen Schulen ihr Abitur ablegten, oft mit fabelhaften Noten, muss auch klar sein...</td>\n",
       "      <td>9/10/20</td>\n",
       "      <td>2020-09-10 17:11:15</td>\n",
       "      <td>Kommentar zur Lage in Moria - Die Kinder von Moria brauchen unsere Hilfe  -Politik -Bild.de</td>\n",
       "      <td>[{\"entities\":[{\"mentions\":[{\"text\":{\"content\":\"Kommentar\",\"beginOffset\":0},\"type\":\"COMMON\",\"sentiment\":null}],\"metadata\":{},\"name\":\"Kommentar\",\"type\":\"OTHER\",\"salience\":0.37007957696914673,\"sentiment\":null},{\"mentions\":[{\"text\":{\"content\":\"Lage\",\"beginOffset\":14},\"type\":\"COMMON\",\"sentiment\":null}],\"metadata\":{},\"name\":\"Lage\",\"type\":\"OTHER\",\"salience\":0.2554812729358673,\"sentiment\":null},{\"mentions\":[{\"text\":{\"content\":\"Hilfe\",\"beginOffset\":65},\"type\":\"COMMON\",\"sentiment\":null}],\"metadata\":{},\"name\":\"Hilfe\",\"type\":\"OTHER\",\"salience\":0.15551836788654327,\"sentiment\":null},{\"mentions\":[{\"text\":{\"content\":\"Kinder\",\"beginOffset\":32},\"type\":\"COMMON\",\"sentiment\":null}],\"metadata\":{},\"name\":\"Kinder\",\"type\":\"PERSON\",\"salience\":0.09862931817770004,\"sentiment\":null},{\"mentions\":[{\"text\":{\"content\":\"Moria\",\"beginOffset\":22},\"type\":\"PROPER\",\"sentiment\":null}],\"metadata\":{\"mid\":\"/g/11dxl1jzkj\",\"wikipedia_url\":\"https://de.wikipedia.org/wiki/Flüchtlingslager_Moria\"},\"name\":\"Moria\",\"type\":\"OTHER\",\"s...</td>\n",
       "      <td>[{\"entities\":[{\"mentions\":[{\"text\":{\"content\":\"Flüchtlingslager\",\"beginOffset\":36},\"type\":\"COMMON\",\"sentiment\":null}],\"metadata\":{},\"name\":\"Flüchtlingslager\",\"type\":\"LOCATION\",\"salience\":0.08668573200702667,\"sentiment\":null},{\"mentions\":[{\"text\":{\"content\":\"Feuerkatastrophe\",\"beginOffset\":16},\"type\":\"COMMON\",\"sentiment\":null}],\"metadata\":{},\"name\":\"Feuerkatastrophe\",\"type\":\"EVENT\",\"salience\":0.06952575594186783,\"sentiment\":null},{\"mentions\":[{\"text\":{\"content\":\"Verzweifelten\",\"beginOffset\":148},\"type\":\"COMMON\",\"sentiment\":null}],\"metadata\":{},\"name\":\"Verzweifelten\",\"type\":\"OTHER\",\"salience\":0.06952575594186783,\"sentiment\":null},{\"mentions\":[{\"text\":{\"content\":\"Augen\",\"beginOffset\":192},\"type\":\"COMMON\",\"sentiment\":null}],\"metadata\":{},\"name\":\"Augen\",\"type\":\"OTHER\",\"salience\":0.06952575594186783,\"sentiment\":null},{\"mentions\":[{\"text\":{\"content\":\"Gutes\",\"beginOffset\":83},\"type\":\"COMMON\",\"sentiment\":null}],\"metadata\":{},\"name\":\"Gutes\",\"type\":\"OTHER\",\"salience\":0.06952575594186783,\"sent...</td>\n",
       "      <td>[{\"entities\":[{\"mentions\":[{\"text\":{\"content\":\"Kommentar\",\"beginOffset\":0},\"type\":\"COMMON\",\"sentiment\":null}],\"metadata\":{},\"name\":\"Kommentar\",\"type\":\"OTHER\",\"salience\":0.3172852694988251,\"sentiment\":null},{\"mentions\":[{\"text\":{\"content\":\"Lage\",\"beginOffset\":14},\"type\":\"COMMON\",\"sentiment\":null}],\"metadata\":{},\"name\":\"Lage\",\"type\":\"OTHER\",\"salience\":0.3172852694988251,\"sentiment\":null},{\"mentions\":[{\"text\":{\"content\":\"Hilfe  -Politik -Bild.de\",\"beginOffset\":67},\"type\":\"COMMON\",\"sentiment\":null}],\"metadata\":{},\"name\":\"Hilfe -Politik -Bild.de\",\"type\":\"OTHER\",\"salience\":0.13333263993263245,\"sentiment\":null},{\"mentions\":[{\"text\":{\"content\":\"Moria\",\"beginOffset\":22},\"type\":\"PROPER\",\"sentiment\":null}],\"metadata\":{\"wikipedia_url\":\"https://de.wikipedia.org/wiki/Flüchtlingslager_Moria\",\"mid\":\"/g/11dxl1jzkj\"},\"name\":\"Moria\",\"type\":\"OTHER\",\"salience\":0.09628654271364212,\"sentiment\":null},{\"mentions\":[{\"text\":{\"content\":\"Kinder\",\"beginOffset\":34},\"type\":\"COMMON\",\"sentiment\":null}],\"metadata\":{...</td>\n",
       "      <td>2020-09-10 17:12:03</td>\n",
       "    </tr>\n",
       "  </tbody>\n",
       "</table>\n",
       "</div>"
      ],
      "text/plain": [
       "                                                                  labels                                                                                                              headline                                           seo_title  \\\n",
       "01041edd835d23b5fc1da3f45bd9eecee20712902612a075ee68873bcdfba708      22  Die große Analyse - Welche Versicherung muss sein, welche ist Quatsch? *** BILDplus Inhalt ***  -Wirtschaft -Bild.de  Welche Versicherung muss sein, welche ist Quatsch?   \n",
       "0177704b8dba48b9f78a4e7e40bdf147ca407c121f32e2cf109e62ff16c64708      17                         Dortmund: Tierschützer retten verwahrloste Dackel, Kaninchen und Tauben  -Ruhrgebiet -Bild.de      Tierschützer retten völlig verwahrloste Dackel   \n",
       "02269300addef66e501d2bb13124a1729135ebbb923ee4bf9c488297a2bc8fec       2                           Kommentar zur Lage in Moria - Die Kinder von Moria brauchen unsere Hilfe  -Politik -Bild.de          Die Kinder von Moria brauchen unsere Hilfe   \n",
       "\n",
       "                                                                                                                                                                                                                                                                                                                                                                                                                                                                                                                                                                                                                                                                                                                                                                                                                                                                                                                                                                                                                                                                                                     text  \\\n",
       "01041edd835d23b5fc1da3f45bd9eecee20712902612a075ee68873bcdfba708                                                                                                                                                                                                                                                                                                                                                                                                                                                                                                                                                                                                                                                                                                                                                                Corona-Krise, Kurzarbeit, steigende Arbeitslosigkeit: Millionen haben gerade Angst um ihre Finanzen. Ein großer Kostenblock für viele sind Versicherungen. Welche ist wichtig, welche kann man sich sparen? Lesen Sie nur mit BILD plus die große Versicherungs-Analyse!    \n",
       "0177704b8dba48b9f78a4e7e40bdf147ca407c121f32e2cf109e62ff16c64708  Dortmund – Diese Hilfs-Aktion hat wahrscheinlich Leben gerettet. In Dortmund holten Tierschützer verwahrloste Hunde, Tauben und Kaninchen aus einem Haus. Spaziergänger hatten die Missstände bemerkt und Alarm geschlagen. Gabi Beyer (54) vom Verein „Arche90 e.V.“ fuhr sofort zu dem Hof, begutachtete die Tiere und sprach mit den Besitzern. „Die Dackel waren am schlimmsten vernachlässigt. Einer Hündin konnte die Klinik nicht mehr helfen, sie musste eingeschläfert werden. Ihr Körper war von Maden befallen.“  Drei weitere Rauhaardackel, 15 Kaninchen und 39 Tauben händigte das Ehepaar der Tierschützerin schließlich freiwillig aus. Als Erste Hilfe ging es zum „Dog-Styling Saloon“ von Cordula Luckhard (45). Sie dokumentierte eingewachsene Krallen, fast vollständig zahnlose Gebisse und extremen Flohbefall. Stundenlang wurde gewaschen, entfilzt und gegen die Parasiten gekämpft. „So einen Flohbefall habe ich noch nie gesehen. Außerdem sind die Hunde völlig unterernährt. Sie scheinen Heu oder S...   \n",
       "02269300addef66e501d2bb13124a1729135ebbb923ee4bf9c488297a2bc8fec  Wenn man an der Feuerkatastrophe im Flüchtlingslager Moria auf Lesbos irgendetwas Gutes finden kann, dann, dass die Flammen die Hoffnungslosen und Verzweifelten vor die Kameras und damit die Augen der Weltöffentlichkeit getrieben haben. Wir sehen: Unerträglich viele Familien mit kleinen Kindern sitzen seit Monaten unter desolaten Umständen in Moria fest. \\n                                    Alle wussten, dass es passieren würde – die griechische Regierung und alle europäischen Staats- und Regierungschefs. \\n                                    Merkel und Macron wollen in einer gemeinsamen Aktion mit anderen EU-Ländern 400 unbegleitete Kinder aus Moria übernehmen.  Nach allem, was seit 2015 schlecht gemanagt wurde – zum Beispiel die Abschiebung von Gewalttätern –, ist es nachvollziehbar, dass wir genau darauf achten, WEN wir bei uns aufnehmen. Aber nachdem im vergangenen Sommer Flüchtlingskinder in deutschen Schulen ihr Abitur ablegten, oft mit fabelhaften Noten, muss auch klar sein...   \n",
       "\n",
       "                                                                 created_at_date          created_at                                                                                                                    mix  \\\n",
       "01041edd835d23b5fc1da3f45bd9eecee20712902612a075ee68873bcdfba708         9/12/20 2020-09-12 23:24:15  Die große Analyse - Welche Versicherung muss sein, welche ist Quatsch? *** BILDplus Inhalt ***  -Wirtschaft -Bild.de    \n",
       "0177704b8dba48b9f78a4e7e40bdf147ca407c121f32e2cf109e62ff16c64708         9/13/20 2020-09-13 17:23:15                         Dortmund: Tierschützer retten verwahrloste Dackel, Kaninchen und Tauben  -Ruhrgebiet -Bild.de    \n",
       "02269300addef66e501d2bb13124a1729135ebbb923ee4bf9c488297a2bc8fec         9/10/20 2020-09-10 17:11:15                           Kommentar zur Lage in Moria - Die Kinder von Moria brauchen unsere Hilfe  -Politik -Bild.de    \n",
       "\n",
       "                                                                                                                                                                                                                                                                                                                                                                                                                                                                                                                                                                                                                                                                                                                                                                                                                                                                                                                                                                                                                                                                                          kicker_headline  \\\n",
       "01041edd835d23b5fc1da3f45bd9eecee20712902612a075ee68873bcdfba708                                                                                                                                                                                                                                                                                                                                                                                      [{\"entities\":[{\"mentions\":[{\"text\":{\"content\":\"Analyse\",\"beginOffset\":11},\"type\":\"COMMON\",\"sentiment\":null}],\"metadata\":{},\"name\":\"Analyse\",\"type\":\"OTHER\",\"salience\":0.4083549380302429,\"sentiment\":null},{\"mentions\":[{\"text\":{\"content\":\"Quatsch\",\"beginOffset\":61},\"type\":\"COMMON\",\"sentiment\":null}],\"metadata\":{},\"name\":\"Quatsch\",\"type\":\"OTHER\",\"salience\":0.3228294253349304,\"sentiment\":null},{\"mentions\":[{\"text\":{\"content\":\"Versicherung\",\"beginOffset\":26},\"type\":\"COMMON\",\"sentiment\":null}],\"metadata\":{},\"name\":\"Versicherung\",\"type\":\"ORGANIZATION\",\"salience\":0.26881563663482666,\"sentiment\":null}],\"language\":\"de\"},null,null]   \n",
       "0177704b8dba48b9f78a4e7e40bdf147ca407c121f32e2cf109e62ff16c64708  [{\"entities\":[{\"mentions\":[{\"text\":{\"content\":\"Paar\",\"beginOffset\":11},\"type\":\"COMMON\",\"sentiment\":null}],\"metadata\":{},\"name\":\"Paar\",\"type\":\"PERSON\",\"salience\":0.28327426314353943,\"sentiment\":null},{\"mentions\":[{\"text\":{\"content\":\"Kaninchen\",\"beginOffset\":24},\"type\":\"COMMON\",\"sentiment\":null}],\"metadata\":{},\"name\":\"Kaninchen\",\"type\":\"OTHER\",\"salience\":0.19555598497390747,\"sentiment\":null},{\"mentions\":[{\"text\":{\"content\":\"Dackel\",\"beginOffset\":91},\"type\":\"COMMON\",\"sentiment\":null}],\"metadata\":{},\"name\":\"Dackel\",\"type\":\"OTHER\",\"salience\":0.11904020607471466,\"sentiment\":null},{\"mentions\":[{\"text\":{\"content\":\"Tierschützer\",\"beginOffset\":49},\"type\":\"COMMON\",\"sentiment\":null}],\"metadata\":{},\"name\":\"Tierschützer\",\"type\":\"PERSON\",\"salience\":0.1096307560801506,\"sentiment\":null},{\"mentions\":[{\"text\":{\"content\":\"Hunde\",\"beginOffset\":43},\"type\":\"COMMON\",\"sentiment\":null}],\"metadata\":{},\"name\":\"Hunde\",\"type\":\"OTHER\",\"salience\":0.1096307560801506,\"sentiment\":null},{\"mentions\":[{\"text\":{\"content...   \n",
       "02269300addef66e501d2bb13124a1729135ebbb923ee4bf9c488297a2bc8fec  [{\"entities\":[{\"mentions\":[{\"text\":{\"content\":\"Kommentar\",\"beginOffset\":0},\"type\":\"COMMON\",\"sentiment\":null}],\"metadata\":{},\"name\":\"Kommentar\",\"type\":\"OTHER\",\"salience\":0.37007957696914673,\"sentiment\":null},{\"mentions\":[{\"text\":{\"content\":\"Lage\",\"beginOffset\":14},\"type\":\"COMMON\",\"sentiment\":null}],\"metadata\":{},\"name\":\"Lage\",\"type\":\"OTHER\",\"salience\":0.2554812729358673,\"sentiment\":null},{\"mentions\":[{\"text\":{\"content\":\"Hilfe\",\"beginOffset\":65},\"type\":\"COMMON\",\"sentiment\":null}],\"metadata\":{},\"name\":\"Hilfe\",\"type\":\"OTHER\",\"salience\":0.15551836788654327,\"sentiment\":null},{\"mentions\":[{\"text\":{\"content\":\"Kinder\",\"beginOffset\":32},\"type\":\"COMMON\",\"sentiment\":null}],\"metadata\":{},\"name\":\"Kinder\",\"type\":\"PERSON\",\"salience\":0.09862931817770004,\"sentiment\":null},{\"mentions\":[{\"text\":{\"content\":\"Moria\",\"beginOffset\":22},\"type\":\"PROPER\",\"sentiment\":null}],\"metadata\":{\"mid\":\"/g/11dxl1jzkj\",\"wikipedia_url\":\"https://de.wikipedia.org/wiki/Flüchtlingslager_Moria\"},\"name\":\"Moria\",\"type\":\"OTHER\",\"s...   \n",
       "\n",
       "                                                                                                                                                                                                                                                                                                                                                                                                                                                                                                                                                                                                                                                                                                                                                                                                                                                                                                                                                                                                                                                                                                  text_ne  \\\n",
       "01041edd835d23b5fc1da3f45bd9eecee20712902612a075ee68873bcdfba708  [{\"entities\":[{\"mentions\":[{\"text\":{\"content\":\"Kurzarbeit\",\"beginOffset\":14},\"type\":\"COMMON\",\"sentiment\":null}],\"metadata\":{},\"name\":\"Kurzarbeit\",\"type\":\"OTHER\",\"salience\":0.29490000009536743,\"sentiment\":null},{\"mentions\":[{\"text\":{\"content\":\"Arbeitslosigkeit\",\"beginOffset\":36},\"type\":\"COMMON\",\"sentiment\":null}],\"metadata\":{},\"name\":\"Arbeitslosigkeit\",\"type\":\"OTHER\",\"salience\":0.19496002793312073,\"sentiment\":null},{\"mentions\":[{\"text\":{\"content\":\"Angst\",\"beginOffset\":77},\"type\":\"COMMON\",\"sentiment\":null}],\"metadata\":{},\"name\":\"Angst\",\"type\":\"OTHER\",\"salience\":0.11731062084436417,\"sentiment\":null},{\"mentions\":[{\"text\":{\"content\":\"Finanzen\",\"beginOffset\":91},\"type\":\"COMMON\",\"sentiment\":null}],\"metadata\":{},\"name\":\"Finanzen\",\"type\":\"OTHER\",\"salience\":0.11731062084436417,\"sentiment\":null},{\"mentions\":[{\"text\":{\"content\":\"Corona-Krise\",\"beginOffset\":0},\"type\":\"PROPER\",\"sentiment\":null}],\"metadata\":{\"mid\":\"/g/11fr15t15h\",\"wikipedia_url\":\"https://en.wikipedia.org/wiki/COVID-19_pandemic\"},...   \n",
       "0177704b8dba48b9f78a4e7e40bdf147ca407c121f32e2cf109e62ff16c64708  [{\"entities\":[{\"mentions\":[{\"text\":{\"content\":\"Tierschützer\",\"beginOffset\":86},\"type\":\"COMMON\",\"sentiment\":null}],\"metadata\":{},\"name\":\"Tierschützer\",\"type\":\"PERSON\",\"salience\":0.11339171975851059,\"sentiment\":null},{\"mentions\":[{\"text\":{\"content\":\"Hilfs-Aktion\",\"beginOffset\":19},\"type\":\"COMMON\",\"sentiment\":null}],\"metadata\":{},\"name\":\"Hilfs-Aktion\",\"type\":\"EVENT\",\"salience\":0.09145684540271759,\"sentiment\":null},{\"mentions\":[{\"text\":{\"content\":\"Leben\",\"beginOffset\":51},\"type\":\"COMMON\",\"sentiment\":null}],\"metadata\":{},\"name\":\"Leben\",\"type\":\"OTHER\",\"salience\":0.09145684540271759,\"sentiment\":null},{\"mentions\":[{\"text\":{\"content\":\"Hunde\",\"beginOffset\":113},\"type\":\"COMMON\",\"sentiment\":null}],\"metadata\":{},\"name\":\"Hunde\",\"type\":\"OTHER\",\"salience\":0.07723048329353333,\"sentiment\":null},{\"mentions\":[{\"text\":{\"content\":\"Tauben\",\"beginOffset\":120},\"type\":\"COMMON\",\"sentiment\":null}],\"metadata\":{},\"name\":\"Tauben\",\"type\":\"OTHER\",\"salience\":0.06831344962120056,\"sentiment\":null},{\"mentions\":[{\"text...   \n",
       "02269300addef66e501d2bb13124a1729135ebbb923ee4bf9c488297a2bc8fec  [{\"entities\":[{\"mentions\":[{\"text\":{\"content\":\"Flüchtlingslager\",\"beginOffset\":36},\"type\":\"COMMON\",\"sentiment\":null}],\"metadata\":{},\"name\":\"Flüchtlingslager\",\"type\":\"LOCATION\",\"salience\":0.08668573200702667,\"sentiment\":null},{\"mentions\":[{\"text\":{\"content\":\"Feuerkatastrophe\",\"beginOffset\":16},\"type\":\"COMMON\",\"sentiment\":null}],\"metadata\":{},\"name\":\"Feuerkatastrophe\",\"type\":\"EVENT\",\"salience\":0.06952575594186783,\"sentiment\":null},{\"mentions\":[{\"text\":{\"content\":\"Verzweifelten\",\"beginOffset\":148},\"type\":\"COMMON\",\"sentiment\":null}],\"metadata\":{},\"name\":\"Verzweifelten\",\"type\":\"OTHER\",\"salience\":0.06952575594186783,\"sentiment\":null},{\"mentions\":[{\"text\":{\"content\":\"Augen\",\"beginOffset\":192},\"type\":\"COMMON\",\"sentiment\":null}],\"metadata\":{},\"name\":\"Augen\",\"type\":\"OTHER\",\"salience\":0.06952575594186783,\"sentiment\":null},{\"mentions\":[{\"text\":{\"content\":\"Gutes\",\"beginOffset\":83},\"type\":\"COMMON\",\"sentiment\":null}],\"metadata\":{},\"name\":\"Gutes\",\"type\":\"OTHER\",\"salience\":0.06952575594186783,\"sent...   \n",
       "\n",
       "                                                                                                                                                                                                                                                                                                                                                                                                                                                                                                                                                                                                                                                                                                                                                                                                                                                                                                                                                                                                                                                                                             seo_title_ne  \\\n",
       "01041edd835d23b5fc1da3f45bd9eecee20712902612a075ee68873bcdfba708                                                                                                              [{\"entities\":[{\"mentions\":[{\"text\":{\"content\":\"Analyse\",\"beginOffset\":11},\"type\":\"COMMON\",\"sentiment\":null}],\"metadata\":{},\"name\":\"Analyse\",\"type\":\"WORK_OF_ART\",\"salience\":0.42783594131469727,\"sentiment\":null},{\"mentions\":[{\"text\":{\"content\":\"Versicherung\",\"beginOffset\":28},\"type\":\"COMMON\",\"sentiment\":null}],\"metadata\":{},\"name\":\"Versicherung\",\"type\":\"ORGANIZATION\",\"salience\":0.29629403352737427,\"sentiment\":null},{\"mentions\":[{\"text\":{\"content\":\"Quatsch\",\"beginOffset\":63},\"type\":\"COMMON\",\"sentiment\":null}],\"metadata\":{},\"name\":\"Quatsch\",\"type\":\"OTHER\",\"salience\":0.1511181890964508,\"sentiment\":null},{\"mentions\":[{\"text\":{\"content\":\"BILDplus Inhalt ***  -Wirtschaft -Bild.de\",\"beginOffset\":76},\"type\":\"COMMON\",\"sentiment\":null}],\"metadata\":{},\"name\":\"BILDplus Inhalt *** -Wirtschaft -Bild.de\",\"type\":\"OTHER\",\"salience\":0.12475184351205826,\"sentiment\":null}],\"language\":\"de\"},null,null]   \n",
       "0177704b8dba48b9f78a4e7e40bdf147ca407c121f32e2cf109e62ff16c64708  [{\"entities\":[{\"mentions\":[{\"text\":{\"content\":\"Tierschützer\",\"beginOffset\":10},\"type\":\"COMMON\",\"sentiment\":null}],\"metadata\":{},\"name\":\"Tierschützer\",\"type\":\"PERSON\",\"salience\":0.28799936175346375,\"sentiment\":null},{\"mentions\":[{\"text\":{\"content\":\"Dackel\",\"beginOffset\":44},\"type\":\"COMMON\",\"sentiment\":null}],\"metadata\":{},\"name\":\"Dackel\",\"type\":\"OTHER\",\"salience\":0.17946001887321472,\"sentiment\":null},{\"mentions\":[{\"text\":{\"content\":\"Dortmund\",\"beginOffset\":0},\"type\":\"PROPER\",\"sentiment\":null}],\"metadata\":{\"mid\":\"/m/0135k2\",\"wikipedia_url\":\"https://en.wikipedia.org/wiki/Dortmund\"},\"name\":\"Dortmund\",\"type\":\"LOCATION\",\"salience\":0.15813054144382477,\"sentiment\":null},{\"mentions\":[{\"text\":{\"content\":\"Tauben\",\"beginOffset\":66},\"type\":\"COMMON\",\"sentiment\":null}],\"metadata\":{},\"name\":\"Tauben\",\"type\":\"OTHER\",\"salience\":0.14507541060447693,\"sentiment\":null},{\"mentions\":[{\"text\":{\"content\":\"Kaninchen\",\"beginOffset\":52},\"type\":\"COMMON\",\"sentiment\":null}],\"metadata\":{},\"name\":\"Kaninchen\",\"type\":...   \n",
       "02269300addef66e501d2bb13124a1729135ebbb923ee4bf9c488297a2bc8fec  [{\"entities\":[{\"mentions\":[{\"text\":{\"content\":\"Kommentar\",\"beginOffset\":0},\"type\":\"COMMON\",\"sentiment\":null}],\"metadata\":{},\"name\":\"Kommentar\",\"type\":\"OTHER\",\"salience\":0.3172852694988251,\"sentiment\":null},{\"mentions\":[{\"text\":{\"content\":\"Lage\",\"beginOffset\":14},\"type\":\"COMMON\",\"sentiment\":null}],\"metadata\":{},\"name\":\"Lage\",\"type\":\"OTHER\",\"salience\":0.3172852694988251,\"sentiment\":null},{\"mentions\":[{\"text\":{\"content\":\"Hilfe  -Politik -Bild.de\",\"beginOffset\":67},\"type\":\"COMMON\",\"sentiment\":null}],\"metadata\":{},\"name\":\"Hilfe -Politik -Bild.de\",\"type\":\"OTHER\",\"salience\":0.13333263993263245,\"sentiment\":null},{\"mentions\":[{\"text\":{\"content\":\"Moria\",\"beginOffset\":22},\"type\":\"PROPER\",\"sentiment\":null}],\"metadata\":{\"wikipedia_url\":\"https://de.wikipedia.org/wiki/Flüchtlingslager_Moria\",\"mid\":\"/g/11dxl1jzkj\"},\"name\":\"Moria\",\"type\":\"OTHER\",\"salience\":0.09628654271364212,\"sentiment\":null},{\"mentions\":[{\"text\":{\"content\":\"Kinder\",\"beginOffset\":34},\"type\":\"COMMON\",\"sentiment\":null}],\"metadata\":{...   \n",
       "\n",
       "                                                                        created_at_ne  \n",
       "01041edd835d23b5fc1da3f45bd9eecee20712902612a075ee68873bcdfba708  2020-09-12 23:25:05  \n",
       "0177704b8dba48b9f78a4e7e40bdf147ca407c121f32e2cf109e62ff16c64708  2020-09-13 17:24:04  \n",
       "02269300addef66e501d2bb13124a1729135ebbb923ee4bf9c488297a2bc8fec  2020-09-10 17:12:03  "
      ]
     },
     "execution_count": 222,
     "metadata": {},
     "output_type": "execute_result"
    }
   ],
   "source": [
    "X = utils.load_labeled_data()\n",
    "\n",
    "X.drop([\"site\",\"entities_analyzed\",\"updated_at\"],inplace=True,axis=\"columns\")\n",
    "y_summarized_clusters = dict(collections.Counter(y))\n",
    "\n",
    "X['mix'] =  X['headline'] +\" \"+ X[\"seo_title\"].apply(utils.remove_seo_title_marker) #+ X[\"text\"].apply(lambda x: \" \".join(x.split(\" \")[:150]))\n",
    "#pdf_mix = utils.preprocess_text(X,col=\"mix\")\n",
    "pdf_mix = X[\"mix\"].values\n",
    "X = X.join(labeled,how='right')\n",
    "X.drop_duplicates(subset='headline',inplace=True)\n",
    "pdf= utils.preprocess_text(X,\"text\")\n",
    "\n",
    "X.head(3)"
   ]
  },
  {
   "cell_type": "code",
   "execution_count": 223,
   "metadata": {},
   "outputs": [],
   "source": [
    "y= X[\"labels\"]\n",
    "X.drop(\"labels\",axis=1,inplace=True)"
   ]
  },
  {
   "cell_type": "code",
   "execution_count": 224,
   "metadata": {},
   "outputs": [
    {
     "name": "stdout",
     "output_type": "stream",
     "text": [
      "[('Waghäusel', 2), ('Karlsruhe', 1), ('A5', 1), ('Landau', 1), ('Autobahn 5', 1), ('Kronau', 1), ('Reptilienzoo Landau', 1)]\n"
     ]
    }
   ],
   "source": [
    "\n",
    "\n",
    "def ner_article(text,threshold = 0.70,log_spans=False,*kwargs):\n",
    "    sentence = Sentence(text)\n",
    "    tagger.predict(sentence,mini_batch_size=60,*kwargs)\n",
    "    if log_spans:\n",
    "        ctr = collections.Counter([ x.to_dict()[\"text\"] for x in sentence.get_spans('ner')])\n",
    "        print(ctr.most_common())\n",
    "        #\n",
    "        \n",
    "    return [ x.to_dict() for x in sentence.get_spans('ner') if x.score > threshold]\n",
    "\n",
    "\n",
    "ner_labels =ner_article(X[\"text\"].iloc[26])\n",
    "ctr = collections.Counter([x[\"text\"] for x in ner_labels])\n",
    "print(ctr.most_common())"
   ]
  },
  {
   "cell_type": "code",
   "execution_count": 213,
   "metadata": {},
   "outputs": [],
   "source": [
    "## Parsing utilities\n",
    "\n",
    "flatten = lambda t: [item for sublist in t for item in sublist] #Flatten list of lists\n",
    "dedupe = lambda list_of_objects :[i for n, i in enumerate(list_of_objects) if i not in list_of_objects[n + 1:]] # Deduplicated list of objects"
   ]
  },
  {
   "cell_type": "code",
   "execution_count": null,
   "metadata": {},
   "outputs": [],
   "source": []
  },
  {
   "cell_type": "markdown",
   "metadata": {},
   "source": [
    "### Cluster descriotion evaluation "
   ]
  },
  {
   "cell_type": "code",
   "execution_count": 225,
   "metadata": {},
   "outputs": [
    {
     "data": {
      "text/html": [
       "<div>\n",
       "<style scoped>\n",
       "    .dataframe tbody tr th:only-of-type {\n",
       "        vertical-align: middle;\n",
       "    }\n",
       "\n",
       "    .dataframe tbody tr th {\n",
       "        vertical-align: top;\n",
       "    }\n",
       "\n",
       "    .dataframe thead th {\n",
       "        text-align: right;\n",
       "    }\n",
       "</style>\n",
       "<table border=\"1\" class=\"dataframe\">\n",
       "  <thead>\n",
       "    <tr style=\"text-align: right;\">\n",
       "      <th></th>\n",
       "      <th>Topic</th>\n",
       "      <th>Doc</th>\n",
       "      <th>Raw_Doc</th>\n",
       "      <th>mix</th>\n",
       "      <th>kicker_headline</th>\n",
       "      <th>text_ne</th>\n",
       "    </tr>\n",
       "  </thead>\n",
       "  <tbody>\n",
       "    <tr>\n",
       "      <th>0</th>\n",
       "      <td>0</td>\n",
       "      <td>jagd auf die titel-premiere wenn alexander sascha zverev heute abend uhr eurosport und bild-liveticker im finale der us open auf dominic thiem trifft dann wird einer von beiden am ende seinen ersten grand-slam-titel feiern. es ist für beide tennis-stars mehr als einfach nur ein endspiel. der österreicher ich freue mich extrem. wir haben eine langjährige freundschaft eine packende rivalität. es ist geil dass sich unsere wege in einem grand-slam-endspiel kreuzen. und zverev sagt es ist nur noch ein schritt aber es wird extrem schwer für mich. wir haben ein episches duell in australien gespielt. das halbfinale der australian open   für thiem im januar war das bisher letzte duell der beiden. es kann nur einen geben heute abend uhr eurosport und im bild-live-ticker kämpfen alexander zverev und dominic thiem zverev gegen thiem die nummer sieben der welt gegen die nummer drei der endspiel-debütant gegen den vierfachen finalisten bei einem grand slam. bild erklärt was die beiden vereint un...</td>\n",
       "      <td>Jagd auf die Titel-Premiere! Wenn Alexander „Sascha“ Zverev (23) heute Abend (22 Uhr Eurosport und BILD-Liveticker) im Finale der US Open auf Dominic Thiem (27) trifft, dann wird einer von beiden am Ende seinen ersten Grand-Slam-Titel feiern. Es ist für beide Tennis-Stars mehr als einfach nur ein Endspiel. Der Österreicher: „Ich freue mich extrem. Wir haben eine langjährige Freundschaft, eine packende Rivalität. Es ist geil, dass sich unsere Wege in einem Grand-Slam-Endspiel kreuzen.“ Und Zverev sagt: „Es ist nur noch ein Schritt, aber es wird extrem schwer für mich. Wir haben ein episches Duell in Australien gespielt.“ Das Halbfinale der Australian Open (3:6, 6:4, 7:6, 7:6  für Thiem) im Januar war das bisher letzte Duell der beiden. \\n                                    Es kann nur einen geben! Heute Abend (22 Uhr, Eurosport und im BILD-Live-Ticker) kämpfen Alexander Zverev (23) und Dominic Thiem (27... Zverev gegen Thiem, die Nummer sieben der Welt gegen die Nummer drei, der End...</td>\n",
       "      <td>US Open: Alex Zverev gegen Dominic Thiem – Freundschaft! Stärken! Bilanz!   -Sport-Mix -Bild.de Thiem gegen Zverev –das Kumpel US Open: Dominic Thiem zittert vor Anruf bei Andy Murray  -Sport-Mix -Bild.de  Serena Williams: Grand-Slam-Rekord verpasst - Halbfinal-Aus bei den US Open  -Sport-Mix -Bild.de Halbfinal US-Open-Halbfinale: Alex Zverev setzt auf seinen Kracher-Aufschlag  -Sport-Mix -Bild.de Zverev setzt auf seinen Kracher Alexander Zverev: US Open – Titeltraum zerstört im Finale gegen Dominic Thiem  -Sport-Mix -Bild.de Zverevs Titel US Open: Als Alexander Zverev seinen Eltern dankte, kamen ihm die Tränen  -Sport-Mix -Bild.de  Novak Djokovic: Ober-Schiri verrät, was ihn Djokovic fragte *** BILDplus Inhalt ***  -Sport-Mix -Bild.de  US Open: Alexander Zverev - Dominic Thiem: Final-Prognose von Boris Becker *** BILDplus Inhalt ***  -Sport-Mix -Bild.de „Der Top Kommt er als Grand-Slam-Champion? Alexander  Zverev schlägt in Köln auf!  -Sport-Mix -Bild.de  US Open: „Mentalitätsmons...</td>\n",
       "      <td>[{'text': 'Freundschaft', 'type': 'OTHER'}, {'text': 'Stärken', 'type': 'OTHER'}, {'text': 'Kumpel-Duell', 'type': 'CONSUMER_GOOD'}, {'text': 'Bilanz', 'type': 'OTHER'}, {'text': 'Zverev', 'type': 'PERSON'}, {'text': 'Thiem', 'type': 'PERSON'}, {'text': 'Anrufbei', 'type': 'PERSON'}, {'text': 'Zverevs', 'type': 'PERSON'}, {'text': 'Finalgegner Thiem', 'type': 'PERSON'}, {'text': 'Andy Murray', 'type': 'PERSON'}, {'text': 'Grand-Slam-Rekord', 'type': 'OTHER'}, {'text': 'fürSerena', 'type': 'ORGANIZATION'}, {'text': 'Williams', 'type': 'PERSON'}, {'text': 'Halbfinal', 'type': 'EVENT'}, {'text': 'Kracher-Aufschlag', 'type': 'OTHER'}, {'text': 'US-Open', 'type': 'EVENT'}, {'text': 'Halbfinale', 'type': 'EVENT'}, {'text': 'Zverev', 'type': 'PERSON'}, {'text': 'Sieger', 'type': 'ORGANIZATION'}, {'text': 'Titel-Traum', 'type': 'LOCATION'}, {'text': 'Zverevs', 'type': 'ORGANIZATION'}, {'text': 'Rede', 'type': 'OTHER'}, {'text': 'Tränen', 'type': 'OTHER'}, {'text': 'Zverev', 'type': 'PERSON...</td>\n",
       "      <td>[{'text': 'Finale', 'type': 'EVENT'}, {'text': 'Jagd', 'type': 'OTHER'}, {'text': 'Titel-Premiere', 'type': 'EVENT'}, {'text': 'Grand-Slam-Titel', 'type': 'EVENT'}, {'text': 'Dominic Thiem', 'type': 'PERSON'}, {'text': 'Tennis-Stars', 'type': 'PERSON'}, {'text': 'Endspiel', 'type': 'EVENT'}, {'text': 'US Open', 'type': 'ORGANIZATION'}, {'text': 'Zverev', 'type': 'PERSON'}, {'text': 'Rivalität', 'type': 'OTHER'}, {'text': 'Freundschaft', 'type': 'OTHER'}, {'text': 'Österreicher', 'type': 'PERSON'}, {'text': 'Eurosport', 'type': 'ORGANIZATION'}, {'text': 'Schritt', 'type': 'OTHER'}, {'text': 'Alexander ``Sascha', 'type': 'PERSON'}, {'text': 'Duell', 'type': 'EVENT'}, {'text': 'Halbfinale', 'type': 'EVENT'}, {'text': 'Wege', 'type': 'OTHER'}, {'text': 'Zverev', 'type': 'PERSON'}, {'text': 'Duell', 'type': 'EVENT'}, {'text': 'Finalisten', 'type': 'PERSON'}, {'text': 'Live-Ticker', 'type': 'OTHER'}, {'text': 'Australian Open', 'type': 'ORGANIZATION'}, {'text': 'Kumpel', 'type': 'PERSON'...</td>\n",
       "    </tr>\n",
       "    <tr>\n",
       "      <th>1</th>\n",
       "      <td>1</td>\n",
       "      <td>es brennt und brennt. auch in diesem jahr stehen weite teile der us-westküste in flammen. menschen werden evakuiert es gibt tote. zurück bleibt mal wieder verbrannte erde. wird es dort immer brennen gibt es wirklich keinen schutz für diese gebiete doch sagt waldbrand-experte alexander held vom european forest institute in bonn zu bild. was muss denn getan werden damit solche feuer endlich aufhören aufklärung vorsorge und kontrolliertes brennen zu milden wetterbedingungen. viele kleine feuer zu für den menschen günstigen bedingungen statt vieler großer brände bei bestem feuerwetter. in einem feuerökosystem wie kalifornien müssen wir mehr brände zulassen. es muss also eigentlich noch mehr brennen aber eben zu einem anderen zeitpunkt sagt alexander held zu bild. denn historisch betrachtet genau wie in australien und afrika hat es deutlich mehr feuer gegeben es hat andauernd überall irgendwo gebrannt erklärt held. dadurch waren aber die brände immer kleiner und vor allem eher harmlos. ...</td>\n",
       "      <td>Es brennt und brennt. Auch in diesem Jahr stehen weite Teile der US-Westküste in Flammen. Menschen werden evakuiert, es gibt Tote. Zurück bleibt mal wieder verbrannte Erde.  Wird es dort immer brennen? Gibt es wirklich keinen Schutz für diese Gebiete?  Doch, sagt Waldbrand-Experte Alexander Held vom European Forest Institute in Bonn zu BILD. Was muss denn getan werden, damit solche Feuer endlich aufhören?  „Aufklärung, Vorsorge und kontrolliertes Brennen zu milden Wetterbedingungen. Viele kleine Feuer zu für den Menschen günstigen Bedingungen statt vieler großer Brände bei bestem Feuerwetter. In einem Feuerökosystem wie Kalifornien müssen wir mehr Brände zulassen. Es muss also eigentlich noch mehr brennen, aber eben zu einem anderen Zeitpunkt“, sagt Alexander Held zu BILD. Denn historisch betrachtet, genau wie in Australien und Afrika, hat es deutlich mehr Feuer gegeben, es hat andauernd überall irgendwo gebrannt, erklärt Held. Dadurch waren aber die Brände immer kleiner und vor al...</td>\n",
       "      <td>Waldbrände in Kalifornien - Feuerexperte: „Eigentlich muss es noch mehr brennen!“  -News Ausland -Bild.de  Flammen, Smog und Zerstörung an US-Westküste: Brände fordern 15 Tote  -News Ausland -Bild.de Schon 15 Feuer Opfer an der US Feuer von Nord-Washington bis Süd-Kalifornien: Eltern verletzt, Baby tot!  -News Ausland -Bild.de  Flammen-Hölle Westküste - Angst vor Smog und Plünderungen  -News Ausland -Bild.de  Dutzende werden vermisst - 35 Tote durch Kalifornien-Brände  -News Ausland -Bild.de 35 Tote durch Kalifornien</td>\n",
       "      <td>[{'text': 'Waldbrände', 'type': 'EVENT'}, {'text': 'Feuerexperte', 'type': 'PERSON'}, {'text': 'Kalifornien', 'type': 'LOCATION'}, {'text': 'Flammen', 'type': 'OTHER'}, {'text': 'Smog', 'type': 'OTHER'}, {'text': 'zerstörung', 'type': 'OTHER'}, {'text': 'Feuer-Opfer', 'type': 'PERSON'}, {'text': 'US', 'type': 'LOCATION'}, {'text': 'Westküste', 'type': 'LOCATION'}, {'text': '15', 'type': 'NUMBER'}, {'text': 'Waldbrände', 'type': 'EVENT'}, {'text': 'Baby', 'type': 'PERSON'}, {'text': 'Flucht', 'type': 'OTHER'}, {'text': 'Feuer', 'type': 'EVENT'}, {'text': 'Eltern', 'type': 'PERSON'}, {'text': 'Nord-Washington', 'type': 'ORGANIZATION'}, {'text': 'Süd-kalifornien', 'type': 'LOCATION'}, {'text': 'Hölle', 'type': 'LOCATION'}, {'text': 'Plünderungen', 'type': 'OTHER'}, {'text': 'Smog', 'type': 'OTHER'}, {'text': 'Angst', 'type': 'OTHER'}, {'text': 'Westküste', 'type': 'LOCATION'}, {'text': 'Brände', 'type': 'EVENT'}, {'text': 'Kalifornien', 'type': 'LOCATION'}, {'text': '35', 'type': 'NUM...</td>\n",
       "      <td>[{'text': 'Teile', 'type': 'OTHER'}, {'text': 'Westküste', 'type': 'LOCATION'}, {'text': 'Flammen', 'type': 'OTHER'}, {'text': 'Menschen', 'type': 'PERSON'}, {'text': 'Schutz', 'type': 'OTHER'}, {'text': 'Feuer', 'type': 'EVENT'}, {'text': 'US', 'type': 'LOCATION'}, {'text': 'Waldbrand', 'type': 'EVENT'}, {'text': 'Gebiete', 'type': 'LOCATION'}, {'text': 'Feuer', 'type': 'OTHER'}, {'text': 'Feuerwetter', 'type': 'OTHER'}, {'text': 'Feuerökosystem', 'type': 'CONSUMER_GOOD'}, {'text': 'Experte', 'type': 'PERSON'}, {'text': 'Brände', 'type': 'EVENT'}, {'text': 'Brände', 'type': 'OTHER'}, {'text': 'Wetterbedingungen', 'type': 'OTHER'}, {'text': 'Alexander Held', 'type': 'PERSON'}, {'text': 'Menschen', 'type': 'PERSON'}, {'text': 'Erde', 'type': 'LOCATION'}, {'text': 'Feuer', 'type': 'OTHER'}, {'text': 'Vorsorge', 'type': 'OTHER'}, {'text': 'Aufklärung', 'type': 'OTHER'}, {'text': 'Brennen', 'type': 'OTHER'}, {'text': 'Held', 'type': 'PERSON'}, {'text': 'Bedingungen', 'type': 'OTHER'}, ...</td>\n",
       "    </tr>\n",
       "    <tr>\n",
       "      <th>2</th>\n",
       "      <td>2</td>\n",
       "      <td>wenn man an der feuerkatastrophe im flüchtlingslager moria auf lesbos irgendetwas gutes finden kann dann dass die flammen die hoffnungslosen und verzweifelten vor die kameras und damit die augen der weltöffentlichkeit getrieben haben. wir sehen unerträglich viele familien mit kleinen kindern sitzen seit monaten unter desolaten umständen in moria fest. alle wussten dass es passieren würde die griechische regierung und alle europäischen staats- und regierungschefs. merkel und macron wollen in einer gemeinsamen aktion mit anderen eu-ländern unbegleitete kinder aus moria übernehmen. nach allem was seit schlecht gemanagt wurde zum beispiel die abschiebung von gewalttätern ist es nachvollziehbar dass wir genau darauf achten wen wir bei uns aufnehmen. aber nachdem im vergangenen sommer flüchtlingskinder in deutschen schulen ihr abitur ablegten oft mit fabelhaften noten muss auch klar sein es ist nicht nur unsere moralische pflicht kleinen kindern eine zukunft zu ermöglichen. kinder stürze...</td>\n",
       "      <td>Wenn man an der Feuerkatastrophe im Flüchtlingslager Moria auf Lesbos irgendetwas Gutes finden kann, dann, dass die Flammen die Hoffnungslosen und Verzweifelten vor die Kameras und damit die Augen der Weltöffentlichkeit getrieben haben. Wir sehen: Unerträglich viele Familien mit kleinen Kindern sitzen seit Monaten unter desolaten Umständen in Moria fest. \\n                                    Alle wussten, dass es passieren würde – die griechische Regierung und alle europäischen Staats- und Regierungschefs. \\n                                    Merkel und Macron wollen in einer gemeinsamen Aktion mit anderen EU-Ländern 400 unbegleitete Kinder aus Moria übernehmen.  Nach allem, was seit 2015 schlecht gemanagt wurde – zum Beispiel die Abschiebung von Gewalttätern –, ist es nachvollziehbar, dass wir genau darauf achten, WEN wir bei uns aufnehmen. Aber nachdem im vergangenen Sommer Flüchtlingskinder in deutschen Schulen ihr Abitur ablegten, oft mit fabelhaften Noten, muss auch klar sein...</td>\n",
       "      <td>Kommentar zur Lage in Moria - Die Kinder von Moria brauchen unsere Hilfe  -Politik -Bild.de  Moria auf Lesbos in Endzeitstimmung: In dieser Hölle leben etwa ein Drittel Kinder  -Politik Ausland -Bild.de  Lesbos-Feuer-Drama: Diese Missstände führten zur Schande von Moria  -Politik Ausland -Bild.de  Protest in Leipzig: Hunderte demonstrieren für Flüchtlinge  -Leipzig -Bild.de  Moria – Seehofer kündigt an: Deutschland nimmt 100 bis 150 Kinder auf  -Politik Inland -Bild.de  Moria: Zweites Feuer im Flüchtlingscamp ausgebrochen – Tausende fliehen!  -News Ausland -Bild.de  Seehofer zu Moria - Deutschland nimmt 100 bis 150 Minderjährige auf  -Politik -Bild.de  CDU/CSU: Unions-Aufstand gegen Merkels Flüchtlings-Plan *** BILDplus Inhalt ***  -Politik Inland -Bild.de  Obdachlose Flüchtlinge protestieren auf Lesbos: Polizei setzt Tränengas gegen Migranten ein  -Politik Ausland -Bild.de  Nach der Feuerhölle - Die Kinder von Moria lernen weiter  -Politik Ausland -Bild.de  Moria – Kanzlerin Angel...</td>\n",
       "      <td>[{'text': 'Kommentar', 'type': 'OTHER'}, {'text': 'Lage', 'type': 'OTHER'}, {'text': 'Hilfe', 'type': 'OTHER'}, {'text': 'Kinder', 'type': 'PERSON'}, {'text': 'Moria', 'type': 'OTHER'}, {'text': 'Moria', 'type': 'PERSON'}, {'text': 'Schande', 'type': 'OTHER'}, {'text': 'Kinder', 'type': 'PERSON'}, {'text': 'Hölle', 'type': 'OTHER'}, {'text': 'Europa', 'type': 'LOCATION'}, {'text': '4000', 'type': 'NUMBER'}, {'text': 'Flüchtlingslager', 'type': 'LOCATION'}, {'text': 'Schande', 'type': 'OTHER'}, {'text': 'Missstände', 'type': 'OTHER'}, {'text': 'Moria', 'type': 'OTHER'}, {'text': 'Protest', 'type': 'OTHER'}, {'text': 'Hunderte', 'type': 'OTHER'}, {'text': 'Flüchtlingen', 'type': 'PERSON'}, {'text': 'Aufnahme', 'type': 'OTHER'}, {'text': 'Leipzig', 'type': 'LOCATION'}, {'text': 'Flüchtlingslager', 'type': 'LOCATION'}, {'text': 'Kinder', 'type': 'PERSON'}, {'text': 'Deutschland', 'type': 'LOCATION'}, {'text': 'Moria', 'type': 'OTHER'}, {'text': '100', 'type': 'NUMBER'}, {'text': '150',...</td>\n",
       "      <td>[{'text': 'Flüchtlingslager', 'type': 'LOCATION'}, {'text': 'Feuerkatastrophe', 'type': 'EVENT'}, {'text': 'Verzweifelten', 'type': 'OTHER'}, {'text': 'Augen', 'type': 'OTHER'}, {'text': 'Gutes', 'type': 'OTHER'}, {'text': 'Kameras', 'type': 'OTHER'}, {'text': 'Hoffnungslosen', 'type': 'OTHER'}, {'text': 'Weltöffentlichkeit', 'type': 'OTHER'}, {'text': 'Flammen', 'type': 'OTHER'}, {'text': 'Kindern', 'type': 'PERSON'}, {'text': 'Moria', 'type': 'OTHER'}, {'text': 'Familien', 'type': 'PERSON'}, {'text': 'Umständen', 'type': 'OTHER'}, {'text': 'Lesbos', 'type': 'LOCATION'}, {'text': 'Staats-', 'type': 'OTHER'}, {'text': 'Alle', 'type': 'PERSON'}, {'text': 'Regierung', 'type': 'ORGANIZATION'}, {'text': 'Kinder', 'type': 'PERSON'}, {'text': 'Regierungschefs', 'type': 'PERSON'}, {'text': 'Moria', 'type': 'OTHER'}, {'text': 'Kindern', 'type': 'PERSON'}, {'text': 'allem', 'type': 'OTHER'}, {'text': 'Macron', 'type': 'PERSON'}, {'text': 'Aktion', 'type': 'EVENT'}, {'text': 'Ländern', 'type...</td>\n",
       "    </tr>\n",
       "    <tr>\n",
       "      <th>3</th>\n",
       "      <td>4</td>\n",
       "      <td>endlich fliegt das ei wieder die vollmer und kuhn show ist der nfl-podcast bei bild. dort sprechen die deutschen ex-nfl-profis sebastian vollmer zweifacher super-bowl-champion und markus kuhn einziger deutscher mit einem touchdown jede woche über die heißesten themen der milliarden-liga. hier den podcast auf itunes hören hier den podcast auf spotify hören in der aktuellen folge der vollmer und kuhn-show sprechen die beiden nfl-insidera. über die chancen der deutschen nfl-spieler mark nzeocha san francisco ers equanimeous st. brown green bay packers und jakob johnson new england patriots die im finalenmann-kader ihrer teams stehen. ihre heißesten super-bowl-kandidaten. was sebastian im training immer genervt hat. etwas das die patriots tom brady immer versprochen haben und das nun ausgerechnet bradys neuer klub einlöst.  die vollmer und kuhn show können sie kostenlos bei itunes spotify oder ihrer lieblings-podcast-app hören. um keine folge zu verpassen können sie die show dort auch ...</td>\n",
       "      <td>Endlich fliegt das Ei wieder!  Die „Vollmer und Kuhn Show“ ist der NFL-Podcast bei BILD. Dort sprechen die deutschen Ex-NFL-Profis Sebastian Vollmer (35/zweifacher Super-Bowl-Champion) und Markus Kuhn (34/einziger Deutscher mit einem Touchdown) jede Woche über die heißesten Themen der Milliarden-Liga. HIER den Podcast auf iTunes hören! HIER den Podcast auf Spotify hören! In der aktuellen Folge der „Vollmer und Kuhn“-Show sprechen die beiden NFL-Insider u.a. über ... … die Chancen der deutschen NFL-Spieler Mark Nzeocha (San Francisco 49ers), Equanimeous St. Brown (Green Bay Packers) und Jakob Johnson (New England Patriots), die im finalen 53-Mann-Kader ihrer Teams stehen. … ihre heißesten Super-Bowl-Kandidaten. ... was Sebastian im Training immer genervt hat. … etwas, das die Patriots Tom Brady (43) immer versprochen haben und das nun ausgerechnet Bradys neuer Klub einlöst.   Die „Vollmer und Kuhn Show“ können Sie kostenlos bei iTunes, Spotify oder Ihrer Lieblings-Podcast-App hören....</td>\n",
       "      <td>NFL: „Vollmer und Kuhn“-Show ist der Football-Podcast von BILD  -American Football -Bild.de Buccaneers lösen Versprechenvon Bradys Ex LIVE IM TV UND IM STREAM: Das sind die Top-Partie des ersten NFL-Spieltags  -American Football -Bild.de Das sind die Top Duelledes ersten NFL Spengemann-Kolumne: Das wird die härteste NFL-Saison aller Zeiten   -American Football -Bild.de Deshalb steht uns die härteste NFL NFL: Das Playbook – BILD erklärt die Taktik-Bibel der Football-Teams  -American Football -Bild.de  NFL: Pfiffe für Protestaktion Auftakt – Patrick Mahomes überragend!  -American Football -Bild.de Pfiffe für Protestaktion bei NFL NFL: Superstar jetzt bei Tampa Bay – Tom Brady muss für den Titel alles neu lernen  -American Football -Bild.de  NFL: Brady-Nachfolger Cam Newton mit Touchdown-Show  -American Football -Bild.de Brady Nachfolger mit Touchdown</td>\n",
       "      <td>[{'text': 'Ex-Klub', 'type': 'PERSON'}, {'text': 'Vollmer', 'type': 'PERSON'}, {'text': 'Versprechenvon', 'type': 'PERSON'}, {'text': 'Podcast', 'type': 'OTHER'}, {'text': 'Kuhn Show', 'type': 'WORK_OF_ART'}, {'text': 'NFL', 'type': 'ORGANIZATION'}, {'text': 'Bradys', 'type': 'OTHER'}, {'text': 'ein', 'type': 'NUMBER'}, {'text': 'LIVE IM TV UND IM STREAM', 'type': 'WORK_OF_ART'}, {'text': 'Top-Duelledes', 'type': 'CONSUMER_GOOD'}, {'text': 'NFL', 'type': 'ORGANIZATION'}, {'text': 'Spieltags', 'type': 'OTHER'}, {'text': 'Kolumne', 'type': 'PERSON'}, {'text': 'Carsten Spengemann', 'type': 'PERSON'}, {'text': 'NFL', 'type': 'ORGANIZATION'}, {'text': 'Taktik-Bibel', 'type': 'ORGANIZATION'}, {'text': 'Playbook', 'type': 'CONSUMER_GOOD'}, {'text': 'Gold', 'type': 'OTHER'}, {'text': 'Teams', 'type': 'ORGANIZATION'}, {'text': 'NFL', 'type': 'ORGANIZATION'}, {'text': 'Sieg', 'type': 'OTHER'}, {'text': 'Champion', 'type': 'PERSON'}, {'text': 'Auftakt', 'type': 'EVENT'}, {'text': 'Protestakti...</td>\n",
       "      <td>[{'text': 'Podcast', 'type': 'OTHER'}, {'text': 'Ei', 'type': 'CONSUMER_GOOD'}, {'text': 'Vollmer', 'type': 'PERSON'}, {'text': 'Kuhn Show', 'type': 'WORK_OF_ART'}, {'text': 'NFL', 'type': 'ORGANIZATION'}, {'text': 'Super-Bowl-Champion', 'type': 'PERSON'}, {'text': 'Ex-NFL-Profis', 'type': 'PERSON'}, {'text': 'Touchdown', 'type': 'OTHER'}, {'text': 'Deutscher', 'type': 'PERSON'}, {'text': 'Podcast', 'type': 'OTHER'}, {'text': 'deutschen', 'type': 'LOCATION'}, {'text': 'Podcast', 'type': 'OTHER'}, {'text': 'Themen', 'type': 'OTHER'}, {'text': 'Milliarden-Liga', 'type': 'ORGANIZATION'}, {'text': 'Sebastian Vollmer', 'type': 'PERSON'}, {'text': 'Markus Kuhn', 'type': 'PERSON'}, {'text': 'Folge', 'type': 'OTHER'}, {'text': 'Show', 'type': 'WORK_OF_ART'}, {'text': 'Chancen', 'type': 'OTHER'}, {'text': 'Show', 'type': 'EVENT'}, {'text': '53-Mann-Kader', 'type': 'ORGANIZATION'}, {'text': 'Teams', 'type': 'ORGANIZATION'}, {'text': 'Patriots', 'type': 'OTHER'}, {'text': 'Folge', 'type': 'OT...</td>\n",
       "    </tr>\n",
       "    <tr>\n",
       "      <th>4</th>\n",
       "      <td>9</td>\n",
       "      <td>stuttgart es war das vielleicht letzte sommerliche wochenende grad keine wolke am himmel. ideale bedingungen für eine spritztour mit dem oldtimer. doch gleich drei ausfahrten endeten in baden-württemberg mit schweren crashs.  freitag uhr auf der l bei bad friedrichshall. ein mann ist mit seinem jahre alten roten porsche carrera cabrio unterwegs als eine entgegenkommende fahrerin die kontrolle über ihren mercedes verliert. frontal kracht sie in den porsche. der fahrer stirbt seine beifahrerin wird schwer verletzt. uhr kreisstraße bei gerabronn. ein familienvater macht mit seinen drei söhnen  jahre einen ausflug im weißen mercedes sl. ein hyundai-fahrer gerät ins schleudern prallt gegen den oldtimer. alle kinder werden so schwer verletzt dass sie mit rettungshubschraubern in kliniken geflogen werden. auch der vater erleidet schwere verletzungen.  minuten später auf der bundesstraße bei nürtingen. eine vw-fahrerin gerät auf die gegenfahrbahn streift einen opel kadett a coupé aero bauj...</td>\n",
       "      <td>Stuttgart – Es war das vielleicht letzte sommerliche Wochenende: 28 Grad, keine Wolke am Himmel. Ideale Bedingungen für eine Spritztour mit dem Oldtimer. Doch gleich drei Ausfahrten endeten in Baden-Württemberg mit schweren Crashs.   ► Freitag, 15.45 Uhr auf der L 1096 bei Bad Friedrichshall. Ein Mann (59) ist mit seinem 31 Jahre alten, roten Porsche 911 Carrera Cabrio unterwegs, als eine entgegenkommende Fahrerin (57) die Kontrolle über ihren Mercedes verliert. Frontal kracht sie in den Porsche. Der Fahrer stirbt, seine Beifahrerin (47) wird schwer verletzt. ► 18.16 Uhr, Kreisstraße 2644 bei Gerabronn. Ein Familienvater (39) macht mit seinen drei Söhnen (1, 11, 13 Jahre) einen Ausflug im weißen Mercedes 190 SL. Ein Hyundai-Fahrer (27) gerät ins Schleudern, prallt gegen den Oldtimer. Alle Kinder werden so schwer verletzt, dass sie mit Rettungshubschraubern in Kliniken geflogen werden. Auch der Vater erleidet schwere Verletzungen. ► 30 Minuten später, auf der Bundesstraße 297 bei Nü...</td>\n",
       "      <td>Drei schwere Unfälle am Wochenende: Todesfalle Oldtimer  -News Inland -Bild.de  Auto in Flammen! - BMW fackelt auf A57 ab  -Ruhrgebiet -Bild.de  Landkreis Diepholz - Fliege verursacht Unfall – zwei Schwerverletzte!  -Bremen -Bild.de  Auf Motorrad-Ausfahrt - Biker stirbt bei Crash mit Biker  -Sachsen-Anhalt -Bild.de  Düsseldorf: Unklarer Unfall – 20-Jähriger liegt tot unterm Roller  -Düsseldorf -Bild.de 20 Dortmund: Motorrad-Werkstatt in Flammen  -Ruhrgebiet -Bild.de Motorrad Auf dem Weg zu Einsatz in Verden: Retter kracht gegen Baum  -Bremen -Bild.de  Stendal: Mercedes rammt Rollifahrer (78) von Landstraße - tot  -Sachsen-Anhalt -Bild.de Mercedes rammt Rollifahrer (78) von Landstraße Trucker schwer verletzt: Liegender Laster legt Autobahn A73 lahm  -Thüringen -Bild.de  Drama in Hamburg: Fußgängerin kollidiert mit drei Autos - tot  -Hamburg -Bild.de Fußgängerin kollidiert mit drei Autos auf der Autobahn Acht Verletzte bei Unfall: Domino-Crash bei Oldenburg  -Bremen -Bild.de Domino R...</td>\n",
       "      <td>[{'text': 'Unfälle', 'type': 'EVENT'}, {'text': 'Autos', 'type': 'CONSUMER_GOOD'}, {'text': 'Todesfalle', 'type': 'OTHER'}, {'text': 'Toter', 'type': 'OTHER'}, {'text': 'Oldtimer', 'type': 'OTHER'}, {'text': 'Sieben Verletzte', 'type': 'PERSON'}, {'text': 'Drei', 'type': 'NUMBER'}, {'text': 'Sieben', 'type': 'NUMBER'}, {'text': 'ein', 'type': 'NUMBER'}, {'text': 'Auto', 'type': 'CONSUMER_GOOD'}, {'text': 'Flammen', 'type': 'OTHER'}, {'text': 'A57', 'type': 'LOCATION'}, {'text': 'BMW', 'type': 'ORGANIZATION'}, {'text': 'Landkreis', 'type': 'LOCATION'}, {'text': 'Fliege', 'type': 'OTHER'}, {'text': 'Diepholz', 'type': 'LOCATION'}, {'text': 'Unfall', 'type': 'EVENT'}, {'text': 'zwei', 'type': 'NUMBER'}, {'text': 'Biker', 'type': 'PERSON'}, {'text': 'Motorrad-Ausfahrt', 'type': 'EVENT'}, {'text': 'Crash', 'type': 'EVENT'}, {'text': 'Biker', 'type': 'PERSON'}, {'text': 'Unfallursache', 'type': 'OTHER'}, {'text': 'Roller', 'type': 'CONSUMER_GOOD'}, {'text': '20-Jähriger', 'type': 'PERSON...</td>\n",
       "      <td>[{'text': 'Oldtimer', 'type': 'OTHER'}, {'text': 'Wolke', 'type': 'OTHER'}, {'text': 'Himmel', 'type': 'OTHER'}, {'text': 'Ideale', 'type': 'OTHER'}, {'text': 'Bedingungen', 'type': 'OTHER'}, {'text': 'Spritztour', 'type': 'EVENT'}, {'text': 'Ausfahrten', 'type': 'EVENT'}, {'text': 'Crashs', 'type': 'OTHER'}, {'text': 'Stuttgart', 'type': 'LOCATION'}, {'text': 'Fahrerin', 'type': 'PERSON'}, {'text': 'Mann', 'type': 'PERSON'}, {'text': 'Kontrolle', 'type': 'OTHER'}, {'text': 'Cabrio', 'type': 'CONSUMER_GOOD'}, {'text': 'Fahrer', 'type': 'PERSON'}, {'text': 'Baden-Württemberg', 'type': 'LOCATION'}, {'text': 'Ausflug', 'type': 'EVENT'}, {'text': 'Mercedes', 'type': 'ORGANIZATION'}, {'text': 'Beifahrerin', 'type': 'PERSON'}, {'text': 'Familienvater', 'type': 'PERSON'}, {'text': 'Fahrerin', 'type': 'PERSON'}, {'text': 'L 1096', 'type': 'CONSUMER_GOOD'}, {'text': 'Bad Friedrichshall', 'type': 'LOCATION'}, {'text': 'Fahrer', 'type': 'PERSON'}, {'text': 'Oldtimer', 'type': 'CONSUMER_GOOD'}...</td>\n",
       "    </tr>\n",
       "    <tr>\n",
       "      <th>5</th>\n",
       "      <td>10</td>\n",
       "      <td>dass ferrari in der formel für gänsehaut sorgt kommt in der aktuellen saison eher selten vor. doch in mugello bot die scuderia etwas ganz besonderes. mick schumacher im ferrari f seines vaters michael der formel-pilot und ferrari-junior durfte für fünf demo-runden hinter das steuer des legendären boliden mit dem schumi seinen siebten und letzten wm-titel holte. ferrari feiert auf dem firmeneigenen kurs an diesem wochenende in der toskana sein rennen in der königsklasse. deshalb gab es am samstagabend eine veranstaltung in florenz und am sonntag dann die demo-runden des wie legendär das auto ist zeigte sich an den reaktionen der aktuellen formel-teams viele mitglieder der rennställe unterbrachen ihre arbeit und nahmen sich die zeit auf der boxenmauer stehend den f vorbeirasen zu sehen. auch die beiden aktuellen ferrari-stars schauten ehrfürchtig zu sebastian vettel sicherte sich einen platz zu beginn der start-zielgeraden ein paar meter weiter hinten auf der boxenmauer stand sein te...</td>\n",
       "      <td>Dass Ferrari in der Formel 1 für Gänsehaut sorgt, kommt in der aktuellen Saison eher selten vor. Doch in Mugello bot die Scuderia etwas ganz Besonderes. Mick Schumacher (21) im Ferrari F2004 seines Vaters Michael (51)! Der Formel-2-Pilot und Ferrari-Junior durfte für fünf Demo-Runden hinter das Steuer des legendären Boliden, mit dem Schumi 2004 seinen siebten und letzten WM-Titel holte. Ferrari feiert auf dem firmeneigenen Kurs an diesem Wochenende in der Toskana sein 1000. Rennen in der Königsklasse. Deshalb gab es am Samstagabend eine Veranstaltung in Florenz – und am Sonntag dann die Demo-Runden des F2004. Wie legendär das Auto ist, zeigte sich an den Reaktionen der aktuellen Formel-1-Teams: Viele Mitglieder der Rennställe unterbrachen ihre Arbeit und nahmen sich die Zeit, auf der Boxenmauer stehend den F2004 vorbeirasen zu sehen. Auch die beiden aktuellen Ferrari-Stars schauten ehrfürchtig zu: Sebastian Vettel (33) sicherte sich einen Platz zu Beginn der Start-/Zielgeraden, ein...</td>\n",
       "      <td>Formel 1: Mick Schumacher fährt Rekord-Ferrari seines Vaters Michael  -Formel 1 -Bild.de Mick fährt SchumisRekord Ernst August fährt zur Nervenklinik *** BILDplus Inhalt ***  -Royals -Bild.de  Formel 1: BILD-Kommentar - So wollte Sebastian Vettel nicht aufhören  -Formel 1 -Bild.de  Formel 1: Lawrence Stroll ist der Milliardär hinter dem Vettel-Deal *** BILDplus Inhalt ***  -Formel 1 -Bild.de Das ist der Milliardär hinter dem Vettel  Formel 1: Ferrari bekommt zum 1000. Grand Prix ein Heim-Rennen  -Formel 1 -Bild.de Formel 1 schenkt Ferrari ein Heim Formel 1: Unfall-Spektakel! Darum gibt's gerade so viele Crashs *** BILDplus Inhalt ***  -Formel 1 -Bild.de  Formel 1: Perez weg! Platz bei Racing Point für Sebastian Vettel frei  -Formel 1 -Bild.de  Sebastian Vettel: BILD enthüllt den neuen Vertrag *** BILDplus Inhalt ***  -Formel 1 -Bild.de BILD enthülltden Vettel Formel-1-Rennen im Mugello unterbrochen: Massen-Crash beim Neustart  -Formel 1 -Bild.de Massen Formel 1: Qualifikation in Mu...</td>\n",
       "      <td>[{'text': 'Ferrari', 'type': 'ORGANIZATION'}, {'text': 'Jubiläum', 'type': 'EVENT'}, {'text': 'Mugello Mick', 'type': 'PERSON'}, {'text': 'SchumisRekord', 'type': 'CONSUMER_GOOD'}, {'text': 'Nervenklinik', 'type': 'ORGANIZATION'}, {'text': 'Ernst August', 'type': 'PERSON'}, {'text': 'Gittern', 'type': 'PERSON'}, {'text': 'zwei', 'type': 'NUMBER'}, {'text': 'Vettel', 'type': 'OTHER'}, {'text': 'Milliardär', 'type': 'PERSON'}, {'text': 'Deal', 'type': 'OTHER'}, {'text': 'Aston', 'type': 'LOCATION'}, {'text': 'Martin-Boss Stroll', 'type': 'PERSON'}, {'text': 'Vettel', 'type': 'CONSUMER_GOOD'}, {'text': 'Heim-Rennen', 'type': 'EVENT'}, {'text': 'Grand Prix', 'type': 'ORGANIZATION'}, {'text': 'Ferrari', 'type': 'ORGANIZATION'}, {'text': '1000', 'type': 'NUMBER'}, {'text': '1', 'type': 'NUMBER'}, {'text': 'ein', 'type': 'NUMBER'}, {'text': 'Unfall-Spektakel', 'type': 'OTHER'}, {'text': 'Crashs', 'type': 'CONSUMER_GOOD'}, {'text': 'Mugello', 'type': 'LOCATION'}, {'text': 'Formel 1', 'type...</td>\n",
       "      <td>[{'text': 'Gänsehaut', 'type': 'OTHER'}, {'text': 'Ferrari', 'type': 'ORGANIZATION'}, {'text': 'Formel 1', 'type': 'ORGANIZATION'}, {'text': 'Besonderes', 'type': 'OTHER'}, {'text': 'Scuderia', 'type': 'ORGANIZATION'}, {'text': 'etwas', 'type': 'OTHER'}, {'text': 'Vaters', 'type': 'PERSON'}, {'text': 'Demo-Runden', 'type': 'EVENT'}, {'text': 'Ferrari', 'type': 'ORGANIZATION'}, {'text': 'Boliden', 'type': 'CONSUMER_GOOD'}, {'text': 'Junior', 'type': 'PERSON'}, {'text': 'Mugello', 'type': 'LOCATION'}, {'text': 'Pilot', 'type': 'PERSON'}, {'text': 'Titel', 'type': 'OTHER'}, {'text': 'Steuer', 'type': 'OTHER'}, {'text': 'Mick Schumacher', 'type': 'PERSON'}, {'text': 'F2004', 'type': 'CONSUMER_GOOD'}, {'text': 'Kurs', 'type': 'OTHER'}, {'text': 'Michael', 'type': 'PERSON'}, {'text': 'Rennen', 'type': 'EVENT'}, {'text': 'Demo-Runden', 'type': 'EVENT'}, {'text': 'Schumi', 'type': 'OTHER'}, {'text': 'F2004', 'type': 'OTHER'}, {'text': 'Auto', 'type': 'CONSUMER_GOOD'}, {'text': 'Königsklass...</td>\n",
       "    </tr>\n",
       "    <tr>\n",
       "      <th>6</th>\n",
       "      <td>14</td>\n",
       "      <td>die auswärtige amt warnt die bevölkerung seit monaten vor nicht notwendigen touristischen reisen in mehr als staaten außerhalb der eu wegen steigender infektionszahlen innerhalb europas zählen inzwischen auch zahlreiche regionen in urlaubsländern wie spanien frankreich und portugal zu der liste der risikogebiete. die bundesregierung hat die pauschale und flächendeckende warnung am donnerstag erneut bis zum september verlängert. ab dann soll jede region wieder individuell betrachtet werden. aber ab wann gilt ein land nicht mehr als risikogebiet mit lesen sie welche kriterien entscheidend sind damit ein urlaubsland von der liste der risikogebiete genommen werden kann. und wie das auswärtige amt die möglichkeiten ab oktober zu reisen bewertet. vor corona war urlaub ein kinderspiel ziel aussuchen buchen zahlen und reisen. jetzt ist es eine herkules-aufgabe welches land ist kein risikogebiet bild beantwortet die wichtigsten fragen für ihren herbst-urlaubb. findet mein gebuchter urlaub ü...</td>\n",
       "      <td>Die Auswärtige Amt warnt die Bevölkerung seit Monaten „vor nicht notwendigen, touristischen Reisen“ in mehr als 160 Staaten außerhalb der EU – wegen steigender Infektionszahlen innerhalb Europas zählen inzwischen auch zahlreiche Regionen in Urlaubsländern wie Spanien, Frankreich und Portugal zu der Liste der Risikogebiete.  Die Bundesregierung hat die pauschale und flächendeckende Warnung am Donnerstag erneut bis zum 30. September verlängert. Ab dann soll jede Region wieder individuell betrachtet werden. Aber ab wann gilt ein Land nicht mehr als Risikogebiet?  Mit BILDplus lesen Sie, welche Kriterien entscheidend sind, damit ein Urlaubsland von der Liste der Risikogebiete genommen werden kann. Und wie das Auswärtige Amt die Möglichkeiten ab Oktober zu reisen bewertet.  Vor Corona war Urlaub ein Kinderspiel: Ziel aussuchen, buchen, zahlen und reisen. Jetzt ist es eine Herkules-Aufgabe: Welches Land ist KEIN Risikogebiet? BILD beantwortet die wichtigsten Fragen für Ihren Herbst-Urlau...</td>\n",
       "      <td>Reisewarnung des Auswärtigen Amtes: Ab wann ist ein Land kein Risikogebiet mehr? *** BILDplus Inhalt ***  -Wirtschaft -Bild.de  Reisewarnungen, Quarantäne: Hier können Sie noch Herbsturlaub machen *** BILDplus Inhalt ***  -Bild.de  Corona-Lage vor den Herbstferien - Wo kann ich jetzt noch Urlaub machen? *** BILDplus Inhalt ***  -Wirtschaft -Bild.de  Urlaub 2021 - Kann ich Reisen für nächstes Jahr schon SICHER buchen? *** BILDplus Inhalt ***  -Ratgeber -Bild.de  BILD beantwortet Ihre Ferien-Fragen!  -Bild.de BILD beantwortet Ihre Ferien Corona-Angst: Storno-Zoff mit FTI um Indien-Urlaub *** BILDplus Inhalt ***  -Bild.de Storno Zoff mit FTI um Indien</td>\n",
       "      <td>[{'text': 'Reisewarnung', 'type': 'OTHER'}, {'text': 'Risikogebiet', 'type': 'OTHER'}, {'text': 'Land', 'type': 'LOCATION'}, {'text': 'Auswärtigen Amtes Ab', 'type': 'ORGANIZATION'}, {'text': 'ein', 'type': 'NUMBER'}, {'text': 'Reisewarnungen', 'type': 'OTHER'}, {'text': 'Herbsturlaub', 'type': 'EVENT'}, {'text': 'Quarantäne-Verschärfungen', 'type': 'OTHER'}, {'text': 'Lage', 'type': 'OTHER'}, {'text': 'Urlaub', 'type': 'EVENT'}, {'text': 'Herbstferien', 'type': 'OTHER'}, {'text': 'Corona', 'type': 'CONSUMER_GOOD'}, {'text': 'Urlaub', 'type': 'EVENT'}, {'text': 'Reisen', 'type': 'OTHER'}, {'text': '2021', 'type': 'DATE'}, {'text': '2021', 'type': 'NUMBER'}, {'text': 'Video', 'type': 'WORK_OF_ART'}, {'text': 'Ferien-Fragen', 'type': 'OTHER'}, {'text': 'ein', 'type': 'NUMBER'}, {'text': 'Angst', 'type': 'OTHER'}, {'text': 'Fernreise', 'type': 'OTHER'}, {'text': 'Urlaub', 'type': 'EVENT'}, {'text': 'Corona', 'type': 'CONSUMER_GOOD'}, {'text': 'Storno-Zoff', 'type': 'OTHER'}, {'text': ...</td>\n",
       "      <td>[{'text': 'Amt', 'type': 'ORGANIZATION'}, {'text': 'Bevölkerung', 'type': 'PERSON'}, {'text': 'Reisen', 'type': 'OTHER'}, {'text': 'Staaten', 'type': 'LOCATION'}, {'text': 'Infektionszahlen', 'type': 'OTHER'}, {'text': 'Regionen', 'type': 'LOCATION'}, {'text': 'Urlaubsländern', 'type': 'LOCATION'}, {'text': 'Liste', 'type': 'OTHER'}, {'text': 'Risikogebiete', 'type': 'LOCATION'}, {'text': 'EU', 'type': 'ORGANIZATION'}, {'text': 'Europas', 'type': 'LOCATION'}, {'text': 'Warnung', 'type': 'OTHER'}, {'text': 'Region', 'type': 'LOCATION'}, {'text': 'Spanien', 'type': 'LOCATION'}, {'text': 'Portugal', 'type': 'LOCATION'}, {'text': 'Frankreich', 'type': 'LOCATION'}, {'text': 'Bundesregierung', 'type': 'ORGANIZATION'}, {'text': 'Risikogebiet', 'type': 'OTHER'}, {'text': 'Risikogebiete', 'type': 'LOCATION'}, {'text': 'Kriterien', 'type': 'OTHER'}, {'text': 'Urlaubsland', 'type': 'LOCATION'}, {'text': 'Liste', 'type': 'OTHER'}, {'text': 'Amt', 'type': 'ORGANIZATION'}, {'text': 'Land', 'type...</td>\n",
       "    </tr>\n",
       "    <tr>\n",
       "      <th>7</th>\n",
       "      <td>16</td>\n",
       "      <td>sondershausen gibt es das unstrut-ungetüm wirklich das soll jetzt ein ausgewiesener krokodil-experte herausfinden. auf empfehlung der zoos in erfurt und leipzig soll mit ihm noch diese woche eine uferbegehung erfolgen. so könnten vorhandene aber bisher kaum identifizierbaren spuren neu bewertet werden. unterdessen stellen feuerwehr und landratsamt die kroko-gopro vorerst nicht mehr am ufer des flusses auf nachdem keine video-aufnahme des krokos gelungen war. dessen existenz konnte somit nach wie vor nicht bewiesen werden. feuerwehrmann gero wendt und jeffrey schulz vom landratsamt haben nur eine aufgabe die existenz des reptils nachzuweisen. die futterfalle ist aufgespannt um endlich den beweis zu liefern ein hähnchen soll das vermeintliche krokodil anlocken. die reptilenjagd per futterköder hühner-kadaver am ufer sei damit vorerst vorbei so heinz-ulrich thiele vom landratsamt. dennoch werde weiter entlang des gewässers patrouilliert gelte bis auf weiteres die allgemeinverfügung di...</td>\n",
       "      <td>Sondershausen – Gibt es das Unstrut-Ungetüm wirklich? Das soll jetzt ein ausgewiesener Krokodil-Experte herausfinden. Auf Empfehlung der Zoos in Erfurt und Leipzig soll mit ihm noch diese Woche eine Uferbegehung erfolgen. So könnten vorhandene, aber bisher kaum identifizierbaren Spuren, neu bewertet werden. Unterdessen stellen Feuerwehr und Landratsamt die Kroko-GoPro vorerst nicht mehr am Ufer des Flusses auf, nachdem keine Video-Aufnahme des Krokos gelungen war. Dessen Existenz konnte somit nach wie vor nicht bewiesen werden. \\n                                    Feuerwehrmann Gero Wendt und Jeffrey Schulz vom Landratsamt haben nur eine Aufgabe: Die Existenz des Reptils nachzuweisen. \\n                                    Die Futterfalle ist aufgespannt, um endlich den Beweis zu liefern: Ein Hähnchen soll das vermeintliche Krokodil anlocken. Die Reptilenjagd per Futterköder (Hühner-Kadaver) am Ufer sei damit vorerst vorbei, so Heinz-Ulrich Thiele vom Landratsamt. Dennoch werde wei...</td>\n",
       "      <td>Reptil im Fluss? Experte soll nach Unstrut-Krokodil suchen  -Thüringen -Bild.de Experte soll nach Unstrut Zwei Männer auf Reptil-Patrouille - Warten auf das Unstrut-Kroko  -Thüringen -Bild.de Warten auf das Unstrut</td>\n",
       "      <td>[{'text': 'Reptil', 'type': 'OTHER'}, {'text': 'Fluss', 'type': 'LOCATION'}, {'text': 'Unstrut-Krokodil', 'type': 'OTHER'}, {'text': 'Experte', 'type': 'PERSON'}, {'text': 'ein', 'type': 'NUMBER'}, {'text': 'Männer', 'type': 'PERSON'}, {'text': 'Reptil', 'type': 'OTHER'}, {'text': 'Patrouille', 'type': 'OTHER'}, {'text': 'Warten', 'type': 'OTHER'}, {'text': 'Kroko', 'type': 'OTHER'}, {'text': 'Unstrut', 'type': 'LOCATION'}, {'text': 'Zwei', 'type': 'NUMBER'}]</td>\n",
       "      <td>[{'text': 'Unstrut-Ungetüm', 'type': 'OTHER'}, {'text': 'Krokodil-Experte', 'type': 'PERSON'}, {'text': 'Uferbegehung', 'type': 'EVENT'}, {'text': 'Empfehlung', 'type': 'OTHER'}, {'text': 'Sondershausen', 'type': 'LOCATION'}, {'text': 'Zoos', 'type': 'OTHER'}, {'text': 'Video-Aufnahme', 'type': 'OTHER'}, {'text': 'Ufer', 'type': 'LOCATION'}, {'text': 'Landratsamt', 'type': 'ORGANIZATION'}, {'text': 'Feuerwehr', 'type': 'ORGANIZATION'}, {'text': 'Spuren', 'type': 'OTHER'}, {'text': 'Flusses', 'type': 'OTHER'}, {'text': 'Krokos', 'type': 'CONSUMER_GOOD'}, {'text': 'Landratsamt', 'type': 'ORGANIZATION'}, {'text': 'Futterfalle', 'type': 'CONSUMER_GOOD'}, {'text': 'Ufer', 'type': 'LOCATION'}, {'text': 'Leipzig', 'type': 'LOCATION'}, {'text': 'Erfurt', 'type': 'LOCATION'}, {'text': 'Krokodil', 'type': 'OTHER'}, {'text': 'Uferbereiche', 'type': 'OTHER'}, {'text': 'Landratsamt', 'type': 'ORGANIZATION'}, {'text': 'Existenz', 'type': 'OTHER'}, {'text': 'Reptils', 'type': 'OTHER'}, {'text': '...</td>\n",
       "    </tr>\n",
       "    <tr>\n",
       "      <th>8</th>\n",
       "      <td>17</td>\n",
       "      <td>dortmund diese hilfs-aktion hat wahrscheinlich leben gerettet. in dortmund holten tierschützer verwahrloste hunde tauben und kaninchen aus einem haus. spaziergänger hatten die missstände bemerkt und alarm geschlagen. gabi beyer vom verein archev. fuhr sofort zu dem hof begutachtete die tiere und sprach mit den besitzern. die dackel waren am schlimmsten vernachlässigt. einer hündin konnte die klinik nicht mehr helfen sie musste eingeschläfert werden. ihr körper war von maden befallen. drei weitere rauhaardackel kaninchen und tauben händigte das ehepaar der tierschützerin schließlich freiwillig aus. als erste hilfe ging es zum dog-styling saloon von cordula luckhard sie dokumentierte eingewachsene krallen fast vollständig zahnlose gebisse und extremen flohbefall. stundenlang wurde gewaschen entfilzt und gegen die parasiten gekämpft. so einen flohbefall habe ich noch nie gesehen. außerdem sind die hunde völlig unterernährt. sie scheinen heu oder stroh gefressen zu haben um überhaupt e...</td>\n",
       "      <td>Dortmund – Diese Hilfs-Aktion hat wahrscheinlich Leben gerettet. In Dortmund holten Tierschützer verwahrloste Hunde, Tauben und Kaninchen aus einem Haus. Spaziergänger hatten die Missstände bemerkt und Alarm geschlagen. Gabi Beyer (54) vom Verein „Arche90 e.V.“ fuhr sofort zu dem Hof, begutachtete die Tiere und sprach mit den Besitzern. „Die Dackel waren am schlimmsten vernachlässigt. Einer Hündin konnte die Klinik nicht mehr helfen, sie musste eingeschläfert werden. Ihr Körper war von Maden befallen.“  Drei weitere Rauhaardackel, 15 Kaninchen und 39 Tauben händigte das Ehepaar der Tierschützerin schließlich freiwillig aus. Als Erste Hilfe ging es zum „Dog-Styling Saloon“ von Cordula Luckhard (45). Sie dokumentierte eingewachsene Krallen, fast vollständig zahnlose Gebisse und extremen Flohbefall. Stundenlang wurde gewaschen, entfilzt und gegen die Parasiten gekämpft. „So einen Flohbefall habe ich noch nie gesehen. Außerdem sind die Hunde völlig unterernährt. Sie scheinen Heu oder S...</td>\n",
       "      <td>Dortmund: Tierschützer retten verwahrloste Dackel, Kaninchen und Tauben  -Ruhrgebiet -Bild.de  Leipzig: Hündin vor Supermarkt geklaut: Lotta von Entführerin befreit  -Leipzig -Bild.de  Nach Unfall auf A5 mit Löwenbaby - Entflogener Hornvogel eingefangen  -Stuttgart -Bild.de  Auf der A7 - Zöllner retten Zwergspitz-Welpen  -Hannover -Bild.de Zöllner retten Zwergspitz Tierquälerin (31) ließ Hunde zurück - Polizei rettet verwahrloste Welpen aus Wohnung  -Leipzig -Bild.de  Tierhaltung - Ist es wirklich schlecht, seinen Hund zu tragen?  -Ratgeber -Bild.de  Lichtenstein: Polizei entdeckt vernachlässigte Pferde – ein Tier tot  -Chemnitz -Bild.de  Leipzig: Hund Lotta beim Einkaufen entführt!  -Leipzig -Bild.de  Löwenbaby Lea sollte verkauft werden: Das miese Geschäft mit den Exoten *** BILDplus Inhalt ***  -News Inland -Bild.de</td>\n",
       "      <td>[{'text': 'Paar', 'type': 'PERSON'}, {'text': 'Kaninchen', 'type': 'OTHER'}, {'text': 'Dackel', 'type': 'OTHER'}, {'text': 'Tierschützer', 'type': 'PERSON'}, {'text': 'Hunde', 'type': 'OTHER'}, {'text': 'Dortmunder', 'type': 'LOCATION'}, {'text': 'Tauben', 'type': 'OTHER'}, {'text': 'Hündin', 'type': 'PERSON'}, {'text': 'Supermarkt', 'type': 'ORGANIZATION'}, {'text': 'Entführerin', 'type': 'PERSON'}, {'text': 'Unfall', 'type': 'EVENT'}, {'text': 'Löwenbaby', 'type': 'OTHER'}, {'text': 'A5', 'type': 'CONSUMER_GOOD'}, {'text': 'Entflogener Hornvogel', 'type': 'CONSUMER_GOOD'}, {'text': 'A7 Zöllner', 'type': 'OTHER'}, {'text': 'Welpen', 'type': 'PERSON'}, {'text': 'Zwergspitz', 'type': 'ORGANIZATION'}, {'text': 'Tierquälerin', 'type': 'PERSON'}, {'text': 'Welpen', 'type': 'PERSON'}, {'text': 'Wohnung', 'type': 'LOCATION'}, {'text': 'Polizei', 'type': 'ORGANIZATION'}, {'text': 'Hunde', 'type': 'OTHER'}, {'text': '31', 'type': 'NUMBER'}, {'text': 'Tierhaltung', 'type': 'OTHER'}, {'text'...</td>\n",
       "      <td>[{'text': 'Tierschützer', 'type': 'PERSON'}, {'text': 'Hilfs-Aktion', 'type': 'EVENT'}, {'text': 'Leben', 'type': 'OTHER'}, {'text': 'Hunde', 'type': 'OTHER'}, {'text': 'Tauben', 'type': 'OTHER'}, {'text': 'Kaninchen', 'type': 'OTHER'}, {'text': 'Haus', 'type': 'LOCATION'}, {'text': 'Missstände', 'type': 'OTHER'}, {'text': 'Dortmund', 'type': 'LOCATION'}, {'text': 'Tiere', 'type': 'OTHER'}, {'text': 'Alarm', 'type': 'OTHER'}, {'text': 'Spaziergänger', 'type': 'PERSON'}, {'text': 'Verein', 'type': 'ORGANIZATION'}, {'text': 'Besitzern', 'type': 'PERSON'}, {'text': 'Hof', 'type': 'LOCATION'}, {'text': 'Dackel', 'type': 'OTHER'}, {'text': 'Tierschützerin', 'type': 'PERSON'}, {'text': 'Körper', 'type': 'OTHER'}, {'text': 'Tauben', 'type': 'OTHER'}, {'text': 'Kaninchen', 'type': 'OTHER'}, {'text': 'Hündin', 'type': 'PERSON'}, {'text': 'Hilfe', 'type': 'OTHER'}, {'text': 'Arche90 e.V.', 'type': 'OTHER'}, {'text': 'Klinik', 'type': 'ORGANIZATION'}, {'text': 'Rauhaardackel', 'type': 'OTHER'...</td>\n",
       "    </tr>\n",
       "    <tr>\n",
       "      <th>9</th>\n",
       "      <td>18</td>\n",
       "      <td>dramatische entwicklung im fall nawalny laut medienberichten ist kreml-kritiker alexej nawalny wieder bei vollem bewusstsein er erinnere sich auch an die ereignisse im flughafen schreibt der spiegel. man lasse jetzt wieder besucher zu ihm. vorher hatten ihn nur ehefrau und ärzte sehen dürfen. dass sich der gesundheitszustand nawalnys bessert hat zur folge dass das die schutzmaßnahmen verschärft werden. die anzahl der eingesetzten beamten sowie die kontrolldichte um nawalny in der berliner charité seien erhöht worden berichtete der spiegel unter berufung auf eigene recherchen mit der investigativplattform bellingcat. damit werde deutlich dass die polizei in berlin weiteren attentatsversuchen vorbeugen wolle hieß es. hintergrund die aussagen des kreml-kritikers könnten für die hintermänner des attentats gefährlich werden. demnach soll nawalny nun auch direkt in der berliner klinik bewacht werden in der er seit dem august behandelt wird. inzwischen konnte er von den ärzten aus dem kün...</td>\n",
       "      <td>Dramatische Entwicklung im Fall Nawalny! Laut Medienberichten ist Kreml-Kritiker Alexej Nawalny wieder bei vollem Bewusstsein! Er erinnere sich auch an die Ereignisse im Flughafen, schreibt der „Spiegel“. Man lasse jetzt wieder Besucher zu ihm. Vorher hatten ihn nur Ehefrau und Ärzte sehen dürfen.  Dass sich der Gesundheitszustand Nawalnys bessert, hat zur Folge, dass das die Schutzmaßnahmen verschärft werden. Die Anzahl der eingesetzten Beamten sowie die Kontrolldichte um Nawalny in der Berliner Charité seien erhöht worden, berichtete der „Spiegel“ unter Berufung auf eigene Recherchen mit der Investigativplattform „Bellingcat“. Damit werde deutlich, dass die Polizei in Berlin weiteren Attentatsversuchen vorbeugen wolle, hieß es. Hintergrund: Die Aussagen des Kreml-Kritikers könnten für die Hintermänner des Attentats gefährlich werden. Demnach soll Nawalny nun auch direkt in der Berliner Klinik bewacht werden, in der er seit dem 22. August behandelt wird. Inzwischen konnte er von d...</td>\n",
       "      <td>Wende im Fall Nawalny: Er erinnert sich an die Ereignisse am Flughafen  -Politik Ausland -Bild.de  Einbestellt oder eingeladen: Berlin und Moskau streiten über Nawalny-Treffen  -Politik Ausland -Bild.de Berlin und Moskau streiten über Nawalny FAll Nawalny - Trumps Top-Diplomat: Kreml steckt hinter Gift-Attacke  -Politik Ausland -Bild.de Trumps Top Diplomat: Kreml steckt hinter Gift Nawalny wird nicht mehr künstlich beatmet – Charité teilt mit  -Politik Ausland -Bild.de  „Tatort“: Wie viel vom Fall Nawalny steckte in diesem Krimi *** BILDplus Inhalt ***  -Politik Inland -Bild.de  Nawalny: War das Nowitschok-Gift auf seiner Unterwäsche?  -Politik Ausland -Bild.de</td>\n",
       "      <td>[{'text': 'Wende', 'type': 'OTHER'}, {'text': 'Fall', 'type': 'OTHER'}, {'text': 'Nawalny', 'type': 'PERSON'}, {'text': 'Bewusstsein', 'type': 'OTHER'}, {'text': 'Ereignisse', 'type': 'OTHER'}, {'text': 'Flughafen', 'type': 'LOCATION'}, {'text': 'Einbestellt', 'type': 'OTHER'}, {'text': 'Treffen', 'type': 'EVENT'}, {'text': 'Nawalny', 'type': 'PERSON'}, {'text': 'Moskau', 'type': 'LOCATION'}, {'text': 'Berlin', 'type': 'LOCATION'}, {'text': 'FAll', 'type': 'OTHER'}, {'text': 'Gift-Attacke', 'type': 'EVENT'}, {'text': 'Top-Diplomat', 'type': 'PERSON'}, {'text': 'Nawalny Trumps', 'type': 'PERSON'}, {'text': 'Kreml', 'type': 'PERSON'}, {'text': 'Charité', 'type': 'ORGANIZATION'}, {'text': 'Nawalny', 'type': 'PERSON'}, {'text': 'Agenten', 'type': 'PERSON'}, {'text': 'Gift', 'type': 'OTHER'}, {'text': 'Russische', 'type': 'LOCATION'}, {'text': 'Tatort', 'type': 'LOCATION'}, {'text': 'Nawalnysteckte', 'type': 'OTHER'}, {'text': 'Fall', 'type': 'OTHER'}, {'text': 'Theorie', 'type': 'OTHER...</td>\n",
       "      <td>[{'text': 'Entwicklung', 'type': 'OTHER'}, {'text': 'Fall', 'type': 'OTHER'}, {'text': 'Kritiker', 'type': 'PERSON'}, {'text': 'Nawalny', 'type': 'PERSON'}, {'text': 'Medienberichten', 'type': 'WORK_OF_ART'}, {'text': 'Bewusstsein', 'type': 'OTHER'}, {'text': 'Ereignisse', 'type': 'OTHER'}, {'text': 'Flughafen', 'type': 'LOCATION'}, {'text': 'Besucher', 'type': 'PERSON'}, {'text': 'Kreml', 'type': 'LOCATION'}, {'text': 'Ehefrau', 'type': 'PERSON'}, {'text': 'Ärzte', 'type': 'PERSON'}, {'text': 'Schutzmaßnahmen', 'type': 'OTHER'}, {'text': 'Spiegel', 'type': 'ORGANIZATION'}, {'text': 'Gesundheitszustand', 'type': 'OTHER'}, {'text': 'Folge', 'type': 'OTHER'}, {'text': 'Anzahl', 'type': 'OTHER'}, {'text': 'Beamten', 'type': 'PERSON'}, {'text': 'Kontrolldichte', 'type': 'OTHER'}, {'text': 'Polizei', 'type': 'ORGANIZATION'}, {'text': 'Nawalnys', 'type': 'OTHER'}, {'text': 'Objektschutz-', 'type': 'OTHER'}, {'text': 'Attentatsversuchen', 'type': 'EVENT'}, {'text': 'Recherchen', 'type': '...</td>\n",
       "    </tr>\n",
       "    <tr>\n",
       "      <th>10</th>\n",
       "      <td>22</td>\n",
       "      <td>corona-krise kurzarbeit steigende arbeitslosigkeit millionen haben gerade angst um ihre finanzen. ein großer kostenblock für viele sind versicherungen. welche ist wichtig welche kann man sich sparen lesen sie nur mit bild plus die große versicherungs-analyse die bundesländer nehmen kredite von unfassbaren milliarden euro auf um die wirtschaftlichen folgen der corona-krise abzufedern. die einen machen deutlich mehr schulden als die anderen und lassen sich dann auch noch viel mehr zeit das ganze geld wieder abzustottern. bild kennt die genauen zahlen. lesen sie mit wie hoch und wie lange sich ihr bundesland verschuldet und in welchem verhältnis die kreditsumme zur sonstigen wirtschaftskraft steht. die bild-leser haben immer wieder akute probleme mit geld inkasso wohnung job verträgen und internet-ärger. ist ja auch klar nicht jeder ist überall experte und weiß wo die fallen lauern. daher kommen hier die wichtigsten sparfochs-tipps aufgeteilt in zehn kategorien für ein sorgenfreieres ...</td>\n",
       "      <td>Corona-Krise, Kurzarbeit, steigende Arbeitslosigkeit: Millionen haben gerade Angst um ihre Finanzen. Ein großer Kostenblock für viele sind Versicherungen. Welche ist wichtig, welche kann man sich sparen? Lesen Sie nur mit BILD plus die große Versicherungs-Analyse!  Die 16 Bundesländer nehmen Kredite von unfassbaren 110 Milliarden Euro auf, um die wirtschaftlichen Folgen der Corona-Krise abzufedern. Die einen machen deutlich mehr Schulden als die anderen – und lassen sich dann auch noch viel mehr Zeit, das ganze Geld wieder abzustottern. BILD kennt die genauen Zahlen. Lesen Sie mit BILDplus, wie hoch und wie lange sich Ihr Bundesland verschuldet –  und in welchem Verhältnis die Kreditsumme zur sonstigen Wirtschaftskraft steht.  Die BILD-Leser haben immer wieder akute Probleme mit Geld, Inkasso, Wohnung, Job, Verträgen und Internet-Ärger. Ist ja auch klar: Nicht jeder ist überall Experte und weiß, wo die Fallen lauern. Daher kommen hier die wichtigsten 50 Sparfochs-Tipps (aufgeteilt ...</td>\n",
       "      <td>Die große Analyse - Welche Versicherung muss sein, welche ist Quatsch? *** BILDplus Inhalt ***  -Wirtschaft -Bild.de  Corona – Milliarden-Kredite in der Krise: So so lange verschulden sich die Bundesländer *** BILDplus Inhalt ***  -Wirtschaft -Bild.de So lange müssen wir die Corona Geld, Verträge, Internet - 50 Sparfochs-Tipps für ein sorgenfreieres Leben *** BILDplus Inhalt ***  -Bild.de 50 Sparfochs Wirtschaft warnt - Steuererhöhungen Gift in der Corona-Krise  -Wirtschaft -Bild.de Steuererhöhungen Gift in der Corona Börsen-Oma Beate Sander: So werden aus 10 000 Euro mit Geduld 99 000 Euro! *** BILDplus Inhalt ***  -Wirtschaft -Bild.de  VW Golf, Fiat 500, VW Multivan - Neue Privatleasing-Schnäppchen *** BILDplus Inhalt ***  -Auto-Service -Bild.de Neue Privatleasing Finanzminister Scholz legt Zahlen vor - Kassensturz: So groß ist das Corona-Steuerloch  -Politik Inland -Bild.de Kassensturz: So groß ist das Corona Bis zu 800 000 Zombie-Firmen: Spätestens im März gibt's ein Massenster...</td>\n",
       "      <td>[{'text': 'Analyse', 'type': 'OTHER'}, {'text': 'Quatsch', 'type': 'OTHER'}, {'text': 'Versicherung', 'type': 'ORGANIZATION'}, {'text': 'Corona-Schulden', 'type': 'OTHER'}, {'text': 'einem', 'type': 'NUMBER'}, {'text': 'Geld', 'type': 'OTHER'}, {'text': 'Verträge', 'type': 'OTHER'}, {'text': 'Internet', 'type': 'OTHER'}, {'text': 'Leben', 'type': 'OTHER'}, {'text': 'Tipps', 'type': 'OTHER'}, {'text': '50', 'type': 'NUMBER'}, {'text': 'ein', 'type': 'NUMBER'}, {'text': 'Wirtschaft', 'type': 'OTHER'}, {'text': 'Steuererhöhungen', 'type': 'OTHER'}, {'text': 'Gift', 'type': 'OTHER'}, {'text': 'Corona-Krise', 'type': 'EVENT'}, {'text': 'OMA', 'type': 'ORGANIZATION'}, {'text': 'etwas', 'type': 'OTHER'}, {'text': 'Geduld', 'type': 'OTHER'}, {'text': 'BEATE SANDER', 'type': 'PERSON'}, {'text': '10 000 Euro', 'type': 'PRICE'}, {'text': '99 000 Euro', 'type': 'PRICE'}, {'text': '10 000', 'type': 'NUMBER'}, {'text': '99 000', 'type': 'NUMBER'}, {'text': 'Golf', 'type': 'CONSUMER_GOOD'}, {'tex...</td>\n",
       "      <td>[{'text': 'Kurzarbeit', 'type': 'OTHER'}, {'text': 'Arbeitslosigkeit', 'type': 'OTHER'}, {'text': 'Angst', 'type': 'OTHER'}, {'text': 'Finanzen', 'type': 'OTHER'}, {'text': 'Corona-Krise', 'type': 'EVENT'}, {'text': 'Versicherungen', 'type': 'OTHER'}, {'text': 'Kostenblock', 'type': 'OTHER'}, {'text': 'Versicherungs-Analyse', 'type': 'OTHER'}, {'text': 'Ein', 'type': 'NUMBER'}, {'text': 'Bundesländer', 'type': 'LOCATION'}, {'text': 'Kredite', 'type': 'OTHER'}, {'text': 'Folgen', 'type': 'OTHER'}, {'text': 'Corona-Krise', 'type': 'EVENT'}, {'text': 'Schulden', 'type': 'OTHER'}, {'text': 'einen', 'type': 'OTHER'}, {'text': 'Kreditsumme', 'type': 'OTHER'}, {'text': 'Geld', 'type': 'OTHER'}, {'text': 'Bundesland', 'type': 'LOCATION'}, {'text': 'viel', 'type': 'OTHER'}, {'text': 'Zahlen', 'type': 'OTHER'}, {'text': 'Verhältnis', 'type': 'OTHER'}, {'text': 'Wirtschaftskraft', 'type': 'OTHER'}, {'text': '110 Milliarden Euro', 'type': 'PRICE'}, {'text': '16', 'type': 'NUMBER'}, {'text': '1...</td>\n",
       "    </tr>\n",
       "    <tr>\n",
       "      <th>11</th>\n",
       "      <td>23</td>\n",
       "      <td>vor zwei tagen trabte fortuna-profi emmanuel iyoha noch über den trainingsplatz absolvierte leicht angeschlagen eine laufeinheit. dann war er zwei tage gar nicht mehr zu sehen. gestern folgte der hammer. pfeiffersches drüsenfieber iyoha droht lange pause. die schock-diagnose von vereinsarzt dr. ulf becker erwischt auch düsseldorf-trainer uwe rösler eiskalt das trifft uns total es war aber wichtig dass unsere medizinische abteilung das so schnell erkannt hat und entsprechende maßnahmen ergriffen hat.” der kerl konnte einem leid tun tage nachdem bei düsseldorfs dawid kownacki corona nachgewiesen worden war trainierte er wieder. kenan karaman sollte mittwoch nach seiner rückkehr von der türkischen nationalmannschaft bei fortuna wieder auf dem platz stehen. da die verläufe der fieber-krankheit äußerst unterschiedlich sind vermag niemand eine konkrete prognose wann iyoha die arbeit wieder aufnehmen kann. vier bis sechs wochen absolute schonung sind üblich. zur erinnerung erst am august ...</td>\n",
       "      <td>Vor zwei Tagen trabte Fortuna-Profi Emmanuel Iyoha (22) noch über den Trainingsplatz, absolvierte leicht angeschlagen eine Laufeinheit. Dann war er zwei Tage gar nicht mehr zu sehen. Gestern folgte der Hammer... Pfeiffersches Drüsenfieber! Iyoha droht lange Pause. Die Schock-Diagnose von Vereinsarzt Dr. Ulf Becker (57) erwischt auch Düsseldorf-Trainer Uwe Rösler (51) eiskalt: „Das trifft uns total! Es war aber wichtig, dass unsere medizinische Abteilung das so schnell erkannt hat und entsprechende Maßnahmen ergriffen hat.” \\n                                    Der Kerl konnte einem leid tun! 26 Tage, nachdem bei Düsseldorfs Dawid Kownacki Corona nachgewiesen worden war, trainierte er wieder. \\n                                    Kenan Karaman (26) sollte Mittwoch nach seiner Rückkehr von der türkischen Nationalmannschaft bei Fortuna wieder auf dem Platz stehen. Da die Verläufe der Fieber-Krankheit äußerst unterschiedlich sind, vermag niemand eine konkrete Prognose, wann Iyoha die A...</td>\n",
       "      <td>Fortuna Düsseldorf: Drüsenfieber! Emma Iyoha droht lange Pause!  -Bundesliga -Bild.de  Fortuna Düsseldorf: Goldhändchen Uwe Rösler!  -Bundesliga -Bild.de  Müller-Rensmann wirft hin: Preußen-Doc beklagt Vertrauens-Verlust  -Fussball -Bild.de Preußen Doc beklagt Vertrauens Fortuna Düsseldorf: Uwe Rösler lobt „Krieger” Marcel Sobottka  -Bundesliga -Bild.de  Fortuna Düsseldorf: Dawid Kownacki wankt nach Corona-Infek  -Bundesliga -Bild.de  Fortuna Düsseldorf: Raphael Wolf bekommt die Nr. 1  -Bundesliga -Bild.de  Fortuna Düsseldorf: Zum Pokal-Start nur Rouwen Hennings da  -Bundesliga -Bild.de Zum Pokal DFB-Pokal: Mannheim - Freiburg vor Absage! Zwei positive Corona-Tests  -Fussball -Bild.de Nächstes Pokal</td>\n",
       "      <td>[{'text': 'Schock-Diagnose Pfeiffersches Drüsenfieber', 'type': 'OTHER'}, {'text': 'Pause', 'type': 'OTHER'}, {'text': 'Iyoha', 'type': 'OTHER'}, {'text': 'Trainer', 'type': 'PERSON'}, {'text': 'Goldhändchen', 'type': 'OTHER'}, {'text': 'Pokal-Sieg', 'type': 'EVENT'}, {'text': 'Rösler', 'type': 'PERSON'}, {'text': 'ein', 'type': 'NUMBER'}, {'text': 'Vertrauens-Verlust', 'type': 'OTHER'}, {'text': 'Müller-Rensmann', 'type': 'PERSON'}, {'text': 'Doc', 'type': 'ORGANIZATION'}, {'text': 'Preußen', 'type': 'ORGANIZATION'}, {'text': 'Sonderlob', 'type': 'OTHER'}, {'text': 'Trainer', 'type': 'PERSON'}, {'text': 'Strippen', 'type': 'OTHER'}, {'text': 'Krieger', 'type': 'PERSON'}, {'text': 'Sobottka', 'type': 'PERSON'}, {'text': 'Comeback', 'type': 'OTHER'}, {'text': 'Platz', 'type': 'OTHER'}, {'text': 'Corona Kownacki', 'type': 'PERSON'}, {'text': 'Kastenmeier', 'type': 'PERSON'}, {'text': 'Wolf bekommtdie Nr. 1', 'type': 'WORK_OF_ART'}, {'text': '1', 'type': 'NUMBER'}, {'text': 'Sturm', '...</td>\n",
       "      <td>[{'text': 'Trainingsplatz', 'type': 'OTHER'}, {'text': 'Profi', 'type': 'PERSON'}, {'text': 'Laufeinheit', 'type': 'OTHER'}, {'text': 'Emmanuel Iyoha', 'type': 'OTHER'}, {'text': 'Fortuna', 'type': 'ORGANIZATION'}, {'text': 'Hammer', 'type': 'OTHER'}, {'text': 'Pfeiffersches Drüsenfieber', 'type': 'OTHER'}, {'text': 'Trainer', 'type': 'PERSON'}, {'text': 'Pause', 'type': 'OTHER'}, {'text': 'Schock-Diagnose', 'type': 'OTHER'}, {'text': 'Vereinsarzt', 'type': 'PERSON'}, {'text': 'Abteilung', 'type': 'ORGANIZATION'}, {'text': 'Maßnahmen', 'type': 'OTHER'}, {'text': 'Düsseldorfs', 'type': 'PERSON'}, {'text': 'Schonung', 'type': 'OTHER'}, {'text': 'Probleme', 'type': 'OTHER'}, {'text': 'Kerl', 'type': 'PERSON'}, {'text': 'Düsseldorf', 'type': 'LOCATION'}, {'text': 'Prognose', 'type': 'OTHER'}, {'text': 'Uwe Rösler', 'type': 'PERSON'}, {'text': 'Dr. Ulf Becker', 'type': 'PERSON'}, {'text': 'Arbeit', 'type': 'OTHER'}, {'text': 'niemand', 'type': 'PERSON'}, {'text': 'Verläufe', 'type': 'OT...</td>\n",
       "    </tr>\n",
       "    <tr>\n",
       "      <th>12</th>\n",
       "      <td>29</td>\n",
       "      <td>garmisch-partenkirchen den ganzen tag stehen in garmisch-partenkirchen menschen an einer corona-teststation. sie lassen sich abstriche abnehmen und rechnen mit schlechten ergebnissen. der grund einejährige frau die nach einem griechenland-urlaub mit noch unklarem testergebnis durch die bars der bayrischen stadt zog. und positiv war. stephan scharf sprecher des landratsamts die dame hat symptome gehabt war bei uns bei der teststation und wurde aufgrund der symptome aufgefordert in quarantäne zu bleiben. das hat sie aber nicht getan. ob sie sich auf der reise angesteckt hat oder danach in garmisch-partenkirchen sei aber unklar. wo sie sich angesteckt hat wissen wir nicht sagt scharf. die junge frau war corona-positiv litt unter symptomen und zog hochansteckend durch bars. allein freitag gab es neuinfektionen. in einer unterkunft auf dem gelände von us-streitkräften in der die frau arbeitet wurden nach angaben scharfs bislang menschen positiv getestet. insgesamt belief sich die zahl d...</td>\n",
       "      <td>Garmisch-Partenkirchen - Den ganzen Tag stehen in Garmisch-Partenkirchen Menschen an einer Corona-Teststation. Sie lassen sich Abstriche abnehmen und rechnen mit schlechten Ergebnissen.  Der Grund: eine 26-jährige Frau, die nach einem Griechenland-Urlaub mit noch unklarem Testergebnis durch die Bars der bayrischen Stadt zog. Und positiv war. Stephan Scharf, Sprecher des Landratsamts: „Die Dame hat Symptome gehabt, war bei uns bei der Teststation und wurde aufgrund der Symptome aufgefordert, in Quarantäne zu bleiben. Das hat sie aber nicht getan.“ Ob sie sich auf der Reise angesteckt hat oder danach in Garmisch-Partenkirchen, sei aber unklar. „Wo sie sich angesteckt hat, wissen wir nicht“, sagt Scharf.  \\n                                    Die junge Frau war corona-positiv, litt unter Symptomen – und zog hochansteckend durch Bars. Allein Freitag gab es 33 Neuinfektionen. In einer Unterkunft auf dem Gelände von US-Streitkräften, in der die Frau arbeitet, wurden nach Angaben Scharfs ...</td>\n",
       "      <td>BILD in Garmisch-Partenkirchen: Eine Stadt wartet auf Corona-Ergebnisse  -News Inland -Bild.de Eine Stadt wartet auf Corona Garmisch-Partenkirchen: Corona-Superspreaderin legt Nachtleben lahm  -News Inland -Bild.de  Garmisch verschärft Corona-Maßnahmen  -München -Bild.de Garmisch verschärft Corona „Superspreaderin“ von Garmisch: Nach dem Corona-Test ging Amerikanerin feiern  -News Inland -Bild.de Garmisch Justiz-Experte in BILD: Das droht der Superspreaderin von Garmisch *** BILDplus Inhalt ***  -News Inland -Bild.de  Corona in Garmisch-Partenkirchen | Pub-Bertreiber: „Das ist eine Katastrophe!“ *** BILDplus Inhalt ***  -News Inland -Bild.de Pub</td>\n",
       "      <td>[{'text': 'Ergebnisse', 'type': 'OTHER'}, {'text': 'Stadt', 'type': 'LOCATION'}, {'text': 'Garmisch-Partenkirchen', 'type': 'LOCATION'}, {'text': 'Corona', 'type': 'CONSUMER_GOOD'}, {'text': 'Eine', 'type': 'NUMBER'}, {'text': 'Corona-Fälle', 'type': 'OTHER'}, {'text': 'Bars', 'type': 'OTHER'}, {'text': 'Superspreaderin', 'type': 'PERSON'}, {'text': 'Garmisch-Partenkirchen', 'type': 'LOCATION'}, {'text': '33', 'type': 'NUMBER'}, {'text': '26', 'type': 'NUMBER'}, {'text': '50-Personen-Marke', 'type': 'OTHER'}, {'text': 'Maßnahmen', 'type': 'OTHER'}, {'text': 'Garmisch', 'type': 'LOCATION'}, {'text': 'Corona', 'type': 'CONSUMER_GOOD'}, {'text': '50', 'type': 'NUMBER'}, {'text': 'Party', 'type': 'EVENT'}, {'text': 'Quarantäne', 'type': 'OTHER'}, {'text': 'Superspreaderin', 'type': 'PERSON'}, {'text': 'Halsweh', 'type': 'OTHER'}, {'text': 'Garmisch-Partenkirchen', 'type': 'LOCATION'}, {'text': 'Alarm', 'type': 'OTHER'}, {'text': 'Haftstrafe', 'type': 'OTHER'}, {'text': 'Anwalt', 'type'...</td>\n",
       "      <td>[{'text': 'Teststation', 'type': 'OTHER'}, {'text': 'Menschen', 'type': 'PERSON'}, {'text': 'Testergebnis', 'type': 'OTHER'}, {'text': 'Frau', 'type': 'PERSON'}, {'text': 'Abstriche', 'type': 'OTHER'}, {'text': 'Ergebnissen', 'type': 'OTHER'}, {'text': 'Bars', 'type': 'OTHER'}, {'text': 'Garmisch-Partenkirchen', 'type': 'LOCATION'}, {'text': 'Grund', 'type': 'OTHER'}, {'text': 'Urlaub', 'type': 'EVENT'}, {'text': 'Corona', 'type': 'CONSUMER_GOOD'}, {'text': 'Teststation', 'type': 'EVENT'}, {'text': 'Symptome', 'type': 'OTHER'}, {'text': 'Stadt', 'type': 'LOCATION'}, {'text': 'Landratsamts', 'type': 'ORGANIZATION'}, {'text': 'Symptome', 'type': 'OTHER'}, {'text': 'Sprecher', 'type': 'PERSON'}, {'text': 'Dame', 'type': 'PERSON'}, {'text': 'Quarantäne', 'type': 'OTHER'}, {'text': 'Griechenland', 'type': 'LOCATION'}, {'text': 'Frau', 'type': 'PERSON'}, {'text': 'Symptomen', 'type': 'OTHER'}, {'text': 'Bars', 'type': 'OTHER'}, {'text': 'Stephan Scharf', 'type': 'PERSON'}, {'text': 'Reis...</td>\n",
       "    </tr>\n",
       "    <tr>\n",
       "      <th>13</th>\n",
       "      <td>30</td>\n",
       "      <td>in brandenburg gibt es einen amtlichen verdachtsfall der afrikanischen schweinepest. das landeslabor berlin-brandenburg habe den verdacht bei einem wildschwein-kadaver festgestellt der wenige kilometer von der deutsch-polnischen grenze im spree-neiße-kreis gefunden wurde teilte das bundesministerium für ernährung und landwirtschaft am mittwoch mit. mehr gleich bei bild. nach dem ersten deutschen fall der afrikanischen schweinepest asp sind jäger schweinehalter und auch politiker alarmiert. ein ausbrechen der seuche hätte schwerwiegende folgen für die wirtschaft. jetzt gilt es die seuche einzudämmen zu bekämpfen eine verbreitung zu verhindern. und dabei kann jeder von uns helfen  asp ist eine viruserkrankung die nur schweine betrifft. der erreger ist ein komplett anderer als bei der klassischen schweinepest. in beiden fällen ist das virus für andere tiere und auch den menschen ungefährlich sagt diplom-biologin elke reinking vom friedrich-loeffler-institut fli in greifswald mecklenbu...</td>\n",
       "      <td>In Brandenburg gibt es einen amtlichen Verdachtsfall der Afrikanischen Schweinepest. Das Landeslabor Berlin-Brandenburg habe den Verdacht bei einem Wildschwein-Kadaver festgestellt, der wenige Kilometer von der deutsch-polnischen Grenze im Spree-Neiße-Kreis gefunden wurde, teilte das Bundesministerium für Ernährung und Landwirtschaft am Mittwoch mit. Mehr gleich bei BILD. Nach dem ersten deutschen Fall der Afrikanischen Schweinepest (ASP) sind Jäger, Schweinehalter und auch Politiker alarmiert. Ein Ausbrechen der Seuche hätte schwerwiegende Folgen für die Wirtschaft.  Jetzt gilt es, die Seuche einzudämmen, zu bekämpfen, eine Verbreitung zu verhindern. Und dabei kann jeder von uns helfen!   ASP ist eine Viruserkrankung, die nur Schweine betrifft. „Der Erreger ist ein komplett anderer als bei der klassischen Schweinepest. In beiden Fällen ist das Virus für andere Tiere und auch den Menschen ungefährlich“, sagt Diplom-Biologin Elke Reinking vom Friedrich-Loeffler-Institut (FLI) in Gre...</td>\n",
       "      <td>Brandenburg: Verdacht auf Afrikanische Schweinepest  -News -Bild.de  Was Sie jetzt wissen müssen - Kleines ABC der Schweinepest  -Ratgeber -Bild.de  Verbraucherpreise werden steigen: So hart trifft uns der Exportstopp nach China  -Wirtschaft -Bild.de  Afrikanische Schweinepest: Wie gefährlich ist die Seuche?  -Ratgeber -Bild.de  Afrikanische Schweinepest  -News -Bild.de  Schweinepest! China verbietet Import von deutschem Schweinefleisch  -Politik -Bild.de</td>\n",
       "      <td>[{'text': 'Verdacht', 'type': 'OTHER'}, {'text': 'Brandenburg', 'type': 'LOCATION'}, {'text': 'Afrikanische Schweinepest', 'type': 'PERSON'}, {'text': 'Schweinepest', 'type': 'OTHER'}, {'text': 'ABC', 'type': 'OTHER'}, {'text': 'Verbraucherpreise', 'type': 'OTHER'}, {'text': 'Exportstopp', 'type': 'OTHER'}, {'text': 'China', 'type': 'LOCATION'}, {'text': 'Menschen', 'type': 'PERSON'}, {'text': 'Tiere', 'type': 'OTHER'}, {'text': 'Afrikanische Schweinepest', 'type': 'PERSON'}, {'text': 'Wirtschaft', 'type': 'OTHER'}, {'text': 'Wildschwein', 'type': 'OTHER'}, {'text': 'Kadaver', 'type': 'PERSON'}, {'text': 'Schweinepest', 'type': 'OTHER'}, {'text': 'Verdacht', 'type': 'OTHER'}, {'text': 'Brandenburg', 'type': 'LOCATION'}, {'text': 'Schweinepest', 'type': 'OTHER'}, {'text': 'Schweinefleisch', 'type': 'CONSUMER_GOOD'}, {'text': 'Import', 'type': 'OTHER'}, {'text': 'China', 'type': 'LOCATION'}]</td>\n",
       "      <td>[{'text': 'Verdachtsfall', 'type': 'OTHER'}, {'text': 'Schweinepest', 'type': 'PERSON'}, {'text': 'Verdacht', 'type': 'OTHER'}, {'text': 'Landeslabor', 'type': 'ORGANIZATION'}, {'text': 'Brandenburg', 'type': 'LOCATION'}, {'text': 'Afrikanischen', 'type': 'LOCATION'}, {'text': 'Grenze', 'type': 'LOCATION'}, {'text': 'Berlin-Brandenburg', 'type': 'LOCATION'}, {'text': 'Wildschwein-Kadaver', 'type': 'PERSON'}, {'text': 'Bundesministerium für Ernährung und Landwirtschaft', 'type': 'ORGANIZATION'}, {'text': 'deutsch', 'type': 'OTHER'}, {'text': 'Spree-Neiße-Kreis', 'type': 'LOCATION'}, {'text': 'einen', 'type': 'NUMBER'}, {'text': 'einem', 'type': 'NUMBER'}, {'text': 'Schweinepest', 'type': 'PERSON'}, {'text': 'Schweinehalter', 'type': 'PERSON'}, {'text': 'Jäger', 'type': 'PERSON'}, {'text': 'Politiker', 'type': 'PERSON'}, {'text': 'Fall', 'type': 'OTHER'}, {'text': 'Seuche', 'type': 'OTHER'}, {'text': 'Viruserkrankung', 'type': 'OTHER'}, {'text': 'ASP', 'type': 'ORGANIZATION'}, {'text...</td>\n",
       "    </tr>\n",
       "    <tr>\n",
       "      <th>14</th>\n",
       "      <td>44</td>\n",
       "      <td>liebesglück trennungsschmerz oder einfach nur zoff jetzt gehen die lichter aus. die mutter aller reality-shows keeping up with the kardashians kuwtk um den kardashian-jenner-clan geht nach jahren zu ende. die letzte staffel soll anfang ausgestrahlt werden. das gab clan-chefin kim kardashian auf instagram bekannt. ein schock für millionen fans die folge für folge anguckten. dank keeping up with the kardashians gelangte die ganze familie zu berühmtheit und sehr viel geld. ihre popularität als reality-stars schlachteten kim kardashian und andere familienmitglieder sehr gewieft aus um als models und influencer sowie mit parfüm kosmetik und anderen produkten immer reicher zu werden. so wurde allein das vermögen von kim kardashiansjähriger halbschwester kylie jenner vom us-magazin forbes im vergangenen mai auf knapp millionen dollar geschätzt. kaum eine andere familie in den usa ist so reich wie dieser clan und versteht es aus allem möglichen geld zu machen. doch wo genau kommt die ganze...</td>\n",
       "      <td>Liebesglück, Trennungsschmerz oder einfach nur Zoff – jetzt gehen die Lichter aus. Die Mutter aller Reality-Shows, „Keeping Up With The Kardashians“ (KUWTK), um den Kardashian-Jenner-Clan geht nach 14 Jahren zu Ende.  Die letzte Staffel soll Anfang 2021 ausgestrahlt werden. Das gab Clan-Chefin Kim Kardashian (39) auf Instagram bekannt. Ein Schock für Millionen Fans, die Folge für Folge anguckten. Dank „Keeping Up with the Kardashians“ gelangte die ganze Familie zu Berühmtheit – und sehr viel Geld.  Ihre Popularität als Reality-Stars schlachteten Kim Kardashian und andere Familienmitglieder sehr gewieft aus, um als Models und Influencer sowie mit Parfüm, Kosmetik und anderen Produkten immer reicher zu werden.  So wurde allein das Vermögen von Kim Kardashians 23-jähriger Halbschwester Kylie Jenner vom US-Magazin „Forbes“ im vergangenen Mai auf knapp 900 Millionen Dollar geschätzt.  Kaum eine andere Familie in den USA ist so reich wie dieser Clan und versteht es, aus allem Möglichen G...</td>\n",
       "      <td>Kardashians: So reich wurden sie durch „Keeping Up with the Kardashians“  -Leute -Bild.de So stinkreich ist derKardashian Stevie Lee Richardson: Kleinwüchsiger Wrestler stirbt plötzlich mit 54 Jahren  -Leute -Bild.de  Neue Netflix-Serie „Ratched“ kommt mit queerem Star-Aufgebot  -Bild.de Queere Mega Besetzung für neue Netflix Will Smith: Hollywood-König zeigt „Prinz von Bel-Air“-Reunion  -Leute -Bild.de Hollywood König zeigt seine Prinzen Fürst Alexander zu Schaumburg-Lippe: Hochzeit auf Schloss Bückeburg  -Royals -Bild.de  Heidi Klum, Nicole Scherzinger &amp; Co.: Hier sprießen nicht nur die Blumen  -Leute -Bild.de  Katie Holmes‘ Neuer: Er servierte für sie seine Verlobte ab!  -Leute -Bild.de Nach den Knutsch Ingrid und Klaus – Krankenhaus, Not-Op! Drama um Raabs Kult-Rentner *** BILDplus Inhalt ***  -Leute -Bild.de Drama um Raabs Kult Schöner zu zweit? - Masturbieren Sie mal mit Ihrem Partner! *** BILDplus Inhalt ***  -Erotik -Bild.de  Shakiras Bikini-Show: Da glüht der Sand am Stran...</td>\n",
       "      <td>[{'text': 'Reality-Show', 'type': 'WORK_OF_ART'}, {'text': 'Clan', 'type': 'OTHER'}, {'text': 'derKardashian', 'type': 'CONSUMER_GOOD'}, {'text': '14', 'type': 'NUMBER'}, {'text': 'Wrestler', 'type': 'PERSON'}, {'text': 'Psycho-Zwerg', 'type': 'WORK_OF_ART'}, {'text': 'Stevie Lee', 'type': 'PERSON'}, {'text': '54', 'type': 'NUMBER'}, {'text': 'Vorgeschichte', 'type': 'OTHER'}, {'text': 'Kultfilm', 'type': 'WORK_OF_ART'}, {'text': 'Serie', 'type': 'WORK_OF_ART'}, {'text': 'Besetzung', 'type': 'OTHER'}, {'text': 'Queere Mega', 'type': 'CONSUMER_GOOD'}, {'text': 'Netflix', 'type': 'ORGANIZATION'}, {'text': 'Will Smith Hollywood-König', 'type': 'PERSON'}, {'text': 'Familie', 'type': 'PERSON'}, {'text': 'Prinzen', 'type': 'PERSON'}, {'text': 'Fürst', 'type': 'PERSON'}, {'text': 'SCHAUMhochzeit', 'type': 'PERSON'}, {'text': 'Pianistin', 'type': 'PERSON'}, {'text': 'Schloss Bückeburg', 'type': 'LOCATION'}, {'text': 'Promis', 'type': 'PERSON'}, {'text': 'Blumen', 'type': 'OTHER'}, {'text':...</td>\n",
       "      <td>[{'text': 'Reality-Shows', 'type': 'WORK_OF_ART'}, {'text': 'Liebesglück', 'type': 'OTHER'}, {'text': 'Trennungsschmerz', 'type': 'OTHER'}, {'text': 'Zoff', 'type': 'OTHER'}, {'text': 'Lichter', 'type': 'PERSON'}, {'text': 'Mutter', 'type': 'PERSON'}, {'text': 'Staffel', 'type': 'WORK_OF_ART'}, {'text': 'Geld', 'type': 'OTHER'}, {'text': 'Folge', 'type': 'OTHER'}, {'text': 'Folge', 'type': 'OTHER'}, {'text': 'Keeping Up With The Kardashians', 'type': 'WORK_OF_ART'}, {'text': 'Produkten', 'type': 'CONSUMER_GOOD'}, {'text': 'Kardashian-Jenner-Clan', 'type': 'OTHER'}, {'text': 'Vermögen', 'type': 'OTHER'}, {'text': 'Models', 'type': 'PERSON'}, {'text': 'Kosmetik', 'type': 'OTHER'}, {'text': 'Kim Kardashian', 'type': 'PERSON'}, {'text': 'Clan-Chefin', 'type': 'PERSON'}, {'text': 'Familienmitglieder', 'type': 'PERSON'}, {'text': 'Milliardärin', 'type': 'PERSON'}, {'text': 'Familie', 'type': 'PERSON'}, {'text': 'Schock', 'type': 'OTHER'}, {'text': 'Fans', 'type': 'PERSON'}, {'text': 'Rea...</td>\n",
       "    </tr>\n",
       "    <tr>\n",
       "      <th>15</th>\n",
       "      <td>45</td>\n",
       "      <td>da konnte wohl jemand seine zunge nicht im zaum halten eine kuss-challenge sorgte am freitagabend auf love island rtlfür jede menge zoff. denn sex-proll henrik fuhr nicht nur bei seiner insel-freundin aurelia die zunge ganz weit aus. mit dem politiker-enkel hat die süße frankfurterin bei der kuppel-show ja schon einiges mitgemacht. obwohl beide vercoupelt sind guckt der nämlich noch nach anderen frauen. beim anblick von neu-zugang nathalia machten seine hormone purzelbäume. so eine wucht die hat mich krass geflasht ich habe gänsehaut aurelia zieht mich nicht so krass an. das hielt den selbsternannten penis-guru aber nicht davon ab wenig später mit aurelia die laken glühen zu lassen und vor den jungs mächtig anzugeben. doch damit nicht genug. an tag elf auf der liebes-insel leistete sich der kölner das nächste dicke ding. rtlhatte zur kuss-challenge aufgerufen. erst sollten die mädels jeden jungen küssen danach die jungs jedes mädchen. die lippenbekenntnisse wurden mit punkten bewer...</td>\n",
       "      <td>Da konnte wohl jemand seine Zunge nicht im Zaum halten … Eine Kuss-Challenge sorgte am Freitagabend auf „Love Island“ (RTL2) für jede Menge Zoff. Denn Sex-Proll Henrik (23) fuhr nicht nur bei seiner Insel-Freundin Aurelia (24) die Zunge ganz weit aus. Mit dem Politiker-Enkel hat die süße Frankfurterin bei der Kuppel-Show ja schon einiges mitgemacht. Obwohl beide „vercoupelt“ sind, guckt der nämlich noch nach anderen Frauen. Beim Anblick von Neu-Zugang Nathalia (27) machten seine Hormone Purzelbäume. „So eine Wucht! Die hat mich krass geflasht, ich habe Gänsehaut! Aurelia zieht mich nicht so krass an.“ Das hielt den selbsternannten Penis-Guru aber nicht davon ab, wenig später mit Aurelia die Laken glühen zu lassen und vor den Jungs mächtig anzugeben. Doch damit nicht genug. An Tag elf auf der Liebes-Insel leistete sich der Kölner das nächste dicke Ding. RTL2 hatte zur Kuss-Challenge aufgerufen. Erst sollten die Mädels jeden Jungen küssen, danach die Jungs jedes Mädchen. Die Lippenbe...</td>\n",
       "      <td>„Love Island“: Züngel-Zoff! Sex-Proll Henrik knutscht fremd  -TV -Bild.de Sex BILD zeigt die Aufnahmen: Politiker-Enkel hat Sex bei „Love Island“! *** BILDplus Inhalt ***  -TV -Bild.de Politiker „Love Island“ - Politiker-Enkel wird zum Sex-Proll  -TV -Bild.de Politiker Enkel wird zum Sex Mega-Zoff auf „Love ISLAND“ - Penis-Protz Hendrik geht auf Luca los  -TV -Bild.de Penis „Festspiele der Reality Stars“: Micaela Schäfer ist scharf auf Ex-Kanzler Schröder  -TV -Bild.de  „Love Island“-Star Henrik - Was ein altes Video über den Sex-Proll verrät *** BILDplus Inhalt ***  -Leute -Bild.de Was ein altes Video überden Sex „Love Island“: Sexy Poledance-Action in der Show-Villa *** BILDplus Inhalt ***  -TV -Bild.de Heiße Poledance Einlage inder „Love Island“ „Love Island“: Fummel-Premiere bei Ex-„Bachelor“-Babe Nathalia  -TV -Bild.de Fummel „Love Island“: „Sexy Granaten“ sprengen die Paare auseinander *** BILDplus Inhalt ***  -TV -Bild.de  „Love Island“: Heiße Schaumparty in der Badewanne **...</td>\n",
       "      <td>[{'text': 'Zoff', 'type': 'OTHER'}, {'text': 'Züngel', 'type': 'OTHER'}, {'text': 'Sex-Proll', 'type': 'PERSON'}, {'text': 'Henrik', 'type': 'PERSON'}, {'text': 'Love Island', 'type': 'ORGANIZATION'}, {'text': 'Aufnahmen', 'type': 'OTHER'}, {'text': 'Sex', 'type': 'OTHER'}, {'text': 'Love Island', 'type': 'WORK_OF_ART'}, {'text': 'Politiker-Enkel', 'type': 'PERSON'}, {'text': 'Sex', 'type': 'OTHER'}, {'text': 'Politiker-Enkel', 'type': 'PERSON'}, {'text': 'Love Island', 'type': 'WORK_OF_ART'}, {'text': 'Proll', 'type': 'OTHER'}, {'text': 'Mega-Zoff', 'type': 'OTHER'}, {'text': 'Penis-Protz Hendrik', 'type': 'OTHER'}, {'text': 'Love ISLAND', 'type': 'ORGANIZATION'}, {'text': 'Luca', 'type': 'LOCATION'}, {'text': 'Festspiele der Reality Stars', 'type': 'EVENT'}, {'text': 'Micaela', 'type': 'PERSON'}, {'text': 'Gerhard Schröder', 'type': 'PERSON'}, {'text': '36', 'type': 'NUMBER'}, {'text': '76', 'type': 'NUMBER'}, {'text': 'Star', 'type': 'PERSON'}, {'text': 'Love Island', 'type': 'O...</td>\n",
       "      <td>[{'text': 'Zunge', 'type': 'OTHER'}, {'text': 'jemand', 'type': 'PERSON'}, {'text': 'Zaum', 'type': 'OTHER'}, {'text': 'Kuss-Challenge', 'type': 'ORGANIZATION'}, {'text': 'Zoff', 'type': 'OTHER'}, {'text': 'Menge', 'type': 'OTHER'}, {'text': 'Zunge', 'type': 'OTHER'}, {'text': 'Insel-Freundin', 'type': 'PERSON'}, {'text': 'Sex-Proll', 'type': 'PERSON'}, {'text': 'Frankfurterin', 'type': 'PERSON'}, {'text': 'Politiker-Enkel', 'type': 'PERSON'}, {'text': 'Kuppel-Show', 'type': 'EVENT'}, {'text': 'RTL2', 'type': 'ORGANIZATION'}, {'text': 'Aurelia', 'type': 'PERSON'}, {'text': 'einiges', 'type': 'OTHER'}, {'text': 'Love Island', 'type': 'ORGANIZATION'}, {'text': 'Purzelbäume', 'type': 'OTHER'}, {'text': 'Hormone', 'type': 'CONSUMER_GOOD'}, {'text': 'Frauen', 'type': 'PERSON'}, {'text': 'Anblick', 'type': 'OTHER'}, {'text': 'Neu-Zugang', 'type': 'OTHER'}, {'text': 'Henrik', 'type': 'PERSON'}, {'text': 'Wucht', 'type': 'OTHER'}, {'text': 'Gänsehaut', 'type': 'OTHER'}, {'text': 'Penis-Gur...</td>\n",
       "    </tr>\n",
       "    <tr>\n",
       "      <th>16</th>\n",
       "      <td>50</td>\n",
       "      <td>da gewitterts wieder im esport-himmel am donnerstag gab der spiele-hersteller ea sports die neuen spielerbewertungen für fifa bekannt. und zwar nicht wie in den letzten jahren stück für stück sondern diesmal veröffentlichte ea sports gleich die besten spieler der diesjährigen ausgabe auf einen schlag. und wie jedes jahr regen sich die zocker und esportler mächtig auf zurecht bild fragte bei den deutschen esport-stars nach ein beispiel ex-bvb-flop ciro immobile gesamtspielstärke tempo  hat eine höhere tempo-bewertung als serge gnabry gesamtspielstärke tempo und jadon sancho gesamtspielstärke tempo was zu viel unverständnis führt. zudem haben mit thiago gesamtspielstärkezum vorgänger fifa und david alaba gesamtspielstärkezum vorgänger fifa zwei bayern-schlüsselspieler beim triple ein downgrade bekommen. auch romelu lukaku wütete auf twitter über zu wenig tempo seien wir doch ehrlich fifa baut nur scheiße mit den ratings und wir spieler beschweren uns auch noch darüber und geben denen...</td>\n",
       "      <td>Da gewittert's wieder im eSport-Himmel! Am Donnerstag gab der Spiele-Hersteller „EA Sports“ die neuen Spielerbewertungen für FIFA 21 bekannt. Und zwar nicht wie in den letzten Jahren Stück für Stück, sondern diesmal veröffentlichte EA Sports gleich die 100 besten Spieler der diesjährigen Ausgabe auf einen Schlag. Und wie jedes Jahr regen sich die Zocker und eSportler mächtig auf! Zurecht? BILD fragte bei den deutschen eSport-Stars nach! Ein Beispiel: Ex-BVB-Flop Ciro Immobile (30, Gesamtspielstärke: 87, Tempo: 84 ) hat eine höhere Tempo-Bewertung als Serge Gnabry (25, Gesamtspielstärke: 85, Tempo: 82) und Jadon Sancho (20, Gesamtspielstärke: 86, Tempo: 83), was zu viel Unverständnis führt.  Zudem haben mit Thiago (29, Gesamtspielstärke: 85, -2 zum Vorgänger FIFA 20) und David Alaba (28, Gesamtspielstärke: 85, -1 zum Vorgänger FIFA 20) zwei Bayern-Schlüsselspieler beim Triple ein Downgrade bekommen.  Auch Romelu Lukaku (27) wütete auf Twitter über zu wenig Tempo: „Seien wir doch ehr...</td>\n",
       "      <td>eSport: So denken die Stars über die neuen Ratings bei FIFA 21  -Bild.de Das sagen die deutscheneSport FIFA 21: Die neuen Ratings – diese Spieler solltet ihr euch holen *** BILDplus Inhalt ***  -Bild.de  FIFA 21: Fußball-Stars wütend - Spieler meckern über FIFA 21-Rating  -Bild.de Fußball Stars motzen über FIFA</td>\n",
       "      <td>[{'text': 'Thiago', 'type': 'PERSON'}, {'text': 'Ratings', 'type': 'OTHER'}, {'text': 'Gnabry', 'type': 'PERSON'}, {'text': 'deutscheneSport-Stars', 'type': 'PERSON'}, {'text': 'Ratings', 'type': 'OTHER'}, {'text': 'Spieler', 'type': 'PERSON'}, {'text': 'FIFA', 'type': 'ORGANIZATION'}, {'text': '21', 'type': 'NUMBER'}, {'text': 'Wertungen', 'type': 'OTHER'}, {'text': 'Fußball-Stars', 'type': 'PERSON'}, {'text': 'FIFA', 'type': 'ORGANIZATION'}]</td>\n",
       "      <td>[{'text': 'Spielerbewertungen', 'type': 'OTHER'}, {'text': 'Spieler', 'type': 'PERSON'}, {'text': 'eSport-Himmel', 'type': 'OTHER'}, {'text': 'FIFA 21', 'type': 'ORGANIZATION'}, {'text': 'eSportler', 'type': 'PERSON'}, {'text': 'Spiele-Hersteller', 'type': 'ORGANIZATION'}, {'text': 'Stück', 'type': 'WORK_OF_ART'}, {'text': 'Stück', 'type': 'OTHER'}, {'text': 'Schlag', 'type': 'OTHER'}, {'text': 'Ausgabe', 'type': 'WORK_OF_ART'}, {'text': 'Gesamtspielstärke', 'type': 'OTHER'}, {'text': 'Zocker', 'type': 'PERSON'}, {'text': 'Downgrade', 'type': 'OTHER'}, {'text': 'EA Sports', 'type': 'ORGANIZATION'}, {'text': 'Tempo', 'type': 'OTHER'}, {'text': 'eSport-Stars', 'type': 'PERSON'}, {'text': 'Gesamtspielstärke', 'type': 'OTHER'}, {'text': 'Tempo', 'type': 'OTHER'}, {'text': 'Tempo', 'type': 'OTHER'}, {'text': 'Gesamtspielstärke', 'type': 'OTHER'}, {'text': 'Beispiel', 'type': 'OTHER'}, {'text': 'Tempo-Bewertung', 'type': 'OTHER'}, {'text': 'Gesamtspielstärke', 'type': 'OTHER'}, {'text': ...</td>\n",
       "    </tr>\n",
       "    <tr>\n",
       "      <th>17</th>\n",
       "      <td>51</td>\n",
       "      <td>vorm dtm-lauf am nürburgring diesen samstag und sonntag ab uhr haben die beiden tabellenführer nico müller und robin frijns beide audi eins gemeinsam beide werden von ihren frauen für die fahrt durch flotte kurven beflügelt müller ist gerade papa geworden. die mama ein deutsches playmate. ende august brachte lebensgefährtin victoria paschold einen sohn auf die welt fynn war bei der geburt zentimeter groß passend zu müllers startnummer. ist das private glück das erfolgsgeheimnis schaden tut es nicht. ich bin glücklich und happy menschen performen einfach sagt er zu bild. aber das war ich schon vorher es ist nicht so dass ich die letzten jahre weniger happy und deswegen die performance nicht ganz so gut war. eigentlich mache ich nicht so viel anders als vorher auch. victoria paschold und nico müller lernten sich im frühjahr auf der jahrfeier von abt in kempen kennen. für abt sportsline fährt müller aktuell in der dtm. auf der feier ist ihm die hübsche blondine sofort aufgefallen. kei...</td>\n",
       "      <td>Vorm DTM-Lauf am Nürburgring (diesen Samstag und Sonntag ab 13 Uhr) haben die beiden Tabellenführer Nico Müller (28) und Robin Frijns (29/beide Audi) eins gemeinsam: Beide werden von ihren Frauen für die Fahrt durch flotte Kurven beflügelt! Müller ist gerade Papa geworden. Die Mama: ein deutsches Playmate. Ende August brachte Lebensgefährtin Victoria Paschold einen Sohn auf die Welt: Fynn war bei der Geburt 51 Zentimeter groß – passend zu Müllers Startnummer. Ist das private Glück das Erfolgsgeheimnis? „Schaden tut es nicht. Ich bin glücklich und happy Menschen performen einfach“, sagt er zu BILD. „Aber das war ich schon vorher, es ist nicht so, dass ich die letzten Jahre weniger happy und deswegen die Performance nicht ganz so gut war. Eigentlich mache ich nicht so viel anders als vorher auch.“ Victoria Paschold und Nico Müller lernten sich im Frühjahr 2016 auf der 120-Jahrfeier von Abt in Kempen kennen. Für Abt Sportsline fährt Müller aktuell in der DTM. Auf der Feier ist ihm die...</td>\n",
       "      <td>DTM am Nürburgring - Flotte Frauen machen Abts DTM-Stars schnell!  -DTM -Bild.de Flotte Frauen machen Abts DTM MotoGP: Bei Fan-Rückkehr in Misano! Last-Minute-Schock für Rossi  -Bild.de MotoGP Krimi! Last Minute DTM am Nürburging - Alles Müller, oder Rast?  -DTM -Bild.de  DTM am Nürburgring - Audi ist das Mercedes der DTM  -DTM -Bild.de  DTM - Dieser Rennfahrer fährt mit Gottes Segen  -DTM -Bild.de</td>\n",
       "      <td>[{'text': 'Nürburgring', 'type': 'LOCATION'}, {'text': 'Flotte', 'type': 'OTHER'}, {'text': 'DTM', 'type': 'ORGANIZATION'}, {'text': 'Frauen', 'type': 'PERSON'}, {'text': 'Stars', 'type': 'PERSON'}, {'text': 'Abts DTM', 'type': 'ORGANIZATION'}, {'text': 'Fan-Rückkehr', 'type': 'EVENT'}, {'text': 'Krimi', 'type': 'WORK_OF_ART'}, {'text': 'Last-Minute-Schock', 'type': 'OTHER'}, {'text': 'Misano', 'type': 'LOCATION'}, {'text': 'MotoGP', 'type': 'ORGANIZATION'}, {'text': 'Rossi', 'type': 'PERSON'}, {'text': 'Nürburging', 'type': 'LOCATION'}, {'text': 'Alles', 'type': 'OTHER'}, {'text': 'Rast', 'type': 'OTHER'}, {'text': 'DTM', 'type': 'ORGANIZATION'}, {'text': 'Müller', 'type': 'PERSON'}, {'text': 'Nürburgring', 'type': 'LOCATION'}, {'text': 'DTM', 'type': 'ORGANIZATION'}, {'text': 'Mercedes', 'type': 'ORGANIZATION'}, {'text': 'Audi', 'type': 'ORGANIZATION'}, {'text': 'DTM', 'type': 'ORGANIZATION'}, {'text': 'Rennfahrer', 'type': 'PERSON'}, {'text': 'Segen', 'type': 'OTHER'}, {'text': ...</td>\n",
       "      <td>[{'text': 'beide', 'type': 'PERSON'}, {'text': 'Beide', 'type': 'PERSON'}, {'text': 'Nürburgring', 'type': 'LOCATION'}, {'text': 'Tabellenführer', 'type': 'PERSON'}, {'text': 'Frauen', 'type': 'PERSON'}, {'text': 'Lauf', 'type': 'EVENT'}, {'text': 'Kurven', 'type': 'OTHER'}, {'text': 'Fahrt', 'type': 'EVENT'}, {'text': 'Nico Müller', 'type': 'PERSON'}, {'text': 'Playmate', 'type': 'PERSON'}, {'text': 'DTM', 'type': 'ORGANIZATION'}, {'text': 'Papa', 'type': 'OTHER'}, {'text': 'Müller', 'type': 'PERSON'}, {'text': 'Mama', 'type': 'PERSON'}, {'text': 'Audi', 'type': 'ORGANIZATION'}, {'text': 'Robin Frijns', 'type': 'PERSON'}, {'text': 'Glück', 'type': 'OTHER'}, {'text': 'Erfolgsgeheimnis', 'type': 'OTHER'}, {'text': 'Sohn', 'type': 'PERSON'}, {'text': 'Welt', 'type': 'LOCATION'}, {'text': 'Geburt', 'type': 'EVENT'}, {'text': 'Lebensgefährtin', 'type': 'PERSON'}, {'text': 'Startnummer', 'type': 'OTHER'}, {'text': 'Schaden', 'type': 'OTHER'}, {'text': 'Müllers', 'type': 'PERSON'}, {'tex...</td>\n",
       "    </tr>\n",
       "    <tr>\n",
       "      <th>18</th>\n",
       "      <td>53</td>\n",
       "      <td>diese frauen wollen und werden nicht aufgeben vor mehr als einen monat fälschte diktator alexander lukaschenko die präsidentschaftswahlen schenkte sich die sechste amtszeit und scheut seitdem vor nichts zurück um an der macht zu bleiben seine prügeltruppen schlagen auf die friedlichen demonstranten ein gehen brutal und mit voller härte gegen unschuldige menschen vor. auffällig die brutalität mit der sie zuletzt auch frauen in ihre transporter zerrten sie zur abschreckung in gefängnisse bringen. jetzt schlagen die mutigen frauen von belarus zurück auf einem video sieht man wie einer von lukaschenkos prüggeltruppen von einer älteren frau verprügelt wird mit einem besen der mutigen frau mit gelben schlappen laufen dutzende andere frauen hinterher. sie filmen mit ihrem handy die szene klatschen und bejubeln die besen-frau. der schläger wird so verjagt rennt vor den frauen weg. heute vor genau einem monat wählten die weißrussen ihre neue präsidentin doch sie bekamen diktator alexander l...</td>\n",
       "      <td>Diese Frauen wollen und werden nicht aufgeben! Vor mehr als einen Monat fälschte Diktator Alexander Lukaschenko (66) die Präsidentschaftswahlen, schenkte sich die sechste Amtszeit und scheut seitdem vor nichts zurück, um an der Macht zu bleiben: Seine Prügeltruppen schlagen auf die friedlichen Demonstranten ein, gehen brutal und mit voller Härte gegen unschuldige Menschen vor. Auffällig: Die Brutalität, mit der sie zuletzt auch Frauen in ihre Transporter zerrten, sie zur Abschreckung in Gefängnisse bringen.  Jetzt schlagen die mutigen Frauen von Belarus zurück!  Auf einem Video sieht man, wie einer von Lukaschenkos Prüggeltruppen von einer älteren Frau verprügelt wird – mit einem Besen! Der mutigen Frau mit gelben Schlappen laufen dutzende andere Frauen hinterher. Sie filmen mit ihrem Handy die Szene, klatschen und bejubeln die Besen-Frau. Der Schläger wird so verjagt, rennt vor den Frauen weg.  \\n                                    Heute vor genau einem Monat wählten die Weißrusse...</td>\n",
       "      <td>Lukaschenkos Prügeltruppen: Jetzt schlagen die Frauen von Belarus zurück  -Politik Ausland -Bild.de Besen Diktator pumpt sich 1,2 Milliarden   - Hat Putin Lukaschenko jetzt in der Hand?  -Politik Ausland -Bild.de  Proteste in Weißrussland - Lukaschenko läßt Dutzende Frauen festnehmen  -Politik Ausland -Bild.de  Weissrussland: 150 000 Menschen gegen Lukaschenko auf der Straße  -Politik Ausland -Bild.de  Kolesnikowa stellt Anzeige gegen weißrussische Behörde: Morddrohungen!  -Politik Ausland -Bild.de</td>\n",
       "      <td>[{'text': 'Demonstranten', 'type': 'PERSON'}, {'text': 'Prügeltruppen', 'type': 'OTHER'}, {'text': 'Besen-Oma', 'type': 'PERSON'}, {'text': 'Lukaschenkos', 'type': 'PERSON'}, {'text': 'Diktator', 'type': 'PERSON'}, {'text': 'Hand', 'type': 'OTHER'}, {'text': 'Putin Lukaschenko', 'type': 'PERSON'}, {'text': '1,2 Milliarden', 'type': 'NUMBER'}, {'text': 'Proteste', 'type': 'OTHER'}, {'text': 'Frauen', 'type': 'PERSON'}, {'text': 'Weißrussland', 'type': 'LOCATION'}, {'text': 'Lukaschenko', 'type': 'PERSON'}, {'text': 'Proteste', 'type': 'OTHER'}, {'text': 'Straße', 'type': 'LOCATION'}, {'text': 'Menschen', 'type': 'PERSON'}, {'text': 'Weissrussland', 'type': 'LOCATION'}, {'text': 'Lukaschenko', 'type': 'PERSON'}, {'text': '150 000', 'type': 'NUMBER'}, {'text': 'Anzeige', 'type': 'OTHER'}, {'text': 'Morddrohungen', 'type': 'OTHER'}, {'text': 'KGB Kolesnikowa', 'type': 'ORGANIZATION'}]</td>\n",
       "      <td>[{'text': 'Frauen', 'type': 'PERSON'}, {'text': 'Diktator', 'type': 'PERSON'}, {'text': 'Demonstranten', 'type': 'PERSON'}, {'text': 'Prügeltruppen', 'type': 'OTHER'}, {'text': 'Frauen', 'type': 'PERSON'}, {'text': 'Härte', 'type': 'OTHER'}, {'text': 'Macht', 'type': 'OTHER'}, {'text': 'Präsidentschaftswahlen', 'type': 'OTHER'}, {'text': 'Frauen', 'type': 'PERSON'}, {'text': 'mehr', 'type': 'OTHER'}, {'text': 'Amtszeit', 'type': 'OTHER'}, {'text': 'nichts', 'type': 'OTHER'}, {'text': 'Menschen', 'type': 'PERSON'}, {'text': 'einer', 'type': 'PERSON'}, {'text': 'Frau', 'type': 'PERSON'}, {'text': 'Alexander Lukaschenko', 'type': 'PERSON'}, {'text': 'Gefängnisse', 'type': 'OTHER'}, {'text': 'Abschreckung', 'type': 'OTHER'}, {'text': 'Transporter', 'type': 'CONSUMER_GOOD'}, {'text': 'Brutalität', 'type': 'OTHER'}, {'text': 'Frauen', 'type': 'PERSON'}, {'text': 'Frau', 'type': 'PERSON'}, {'text': 'Besen-Frau', 'type': 'PERSON'}, {'text': 'Besen', 'type': 'OTHER'}, {'text': 'Video', 'typ...</td>\n",
       "    </tr>\n",
       "  </tbody>\n",
       "</table>\n",
       "</div>"
      ],
      "text/plain": [
       "    Topic  \\\n",
       "0       0   \n",
       "1       1   \n",
       "2       2   \n",
       "3       4   \n",
       "4       9   \n",
       "5      10   \n",
       "6      14   \n",
       "7      16   \n",
       "8      17   \n",
       "9      18   \n",
       "10     22   \n",
       "11     23   \n",
       "12     29   \n",
       "13     30   \n",
       "14     44   \n",
       "15     45   \n",
       "16     50   \n",
       "17     51   \n",
       "18     53   \n",
       "\n",
       "                                                                                                                                                                                                                                                                                                                                                                                                                                                                                                                                                                                                                                                                                                                                                                                                                                                                                                                                                                                                                                        Doc  \\\n",
       "0   jagd auf die titel-premiere wenn alexander sascha zverev heute abend uhr eurosport und bild-liveticker im finale der us open auf dominic thiem trifft dann wird einer von beiden am ende seinen ersten grand-slam-titel feiern. es ist für beide tennis-stars mehr als einfach nur ein endspiel. der österreicher ich freue mich extrem. wir haben eine langjährige freundschaft eine packende rivalität. es ist geil dass sich unsere wege in einem grand-slam-endspiel kreuzen. und zverev sagt es ist nur noch ein schritt aber es wird extrem schwer für mich. wir haben ein episches duell in australien gespielt. das halbfinale der australian open   für thiem im januar war das bisher letzte duell der beiden. es kann nur einen geben heute abend uhr eurosport und im bild-live-ticker kämpfen alexander zverev und dominic thiem zverev gegen thiem die nummer sieben der welt gegen die nummer drei der endspiel-debütant gegen den vierfachen finalisten bei einem grand slam. bild erklärt was die beiden vereint un...   \n",
       "1   es brennt und brennt. auch in diesem jahr stehen weite teile der us-westküste in flammen. menschen werden evakuiert es gibt tote. zurück bleibt mal wieder verbrannte erde. wird es dort immer brennen gibt es wirklich keinen schutz für diese gebiete doch sagt waldbrand-experte alexander held vom european forest institute in bonn zu bild. was muss denn getan werden damit solche feuer endlich aufhören aufklärung vorsorge und kontrolliertes brennen zu milden wetterbedingungen. viele kleine feuer zu für den menschen günstigen bedingungen statt vieler großer brände bei bestem feuerwetter. in einem feuerökosystem wie kalifornien müssen wir mehr brände zulassen. es muss also eigentlich noch mehr brennen aber eben zu einem anderen zeitpunkt sagt alexander held zu bild. denn historisch betrachtet genau wie in australien und afrika hat es deutlich mehr feuer gegeben es hat andauernd überall irgendwo gebrannt erklärt held. dadurch waren aber die brände immer kleiner und vor allem eher harmlos. ...   \n",
       "2   wenn man an der feuerkatastrophe im flüchtlingslager moria auf lesbos irgendetwas gutes finden kann dann dass die flammen die hoffnungslosen und verzweifelten vor die kameras und damit die augen der weltöffentlichkeit getrieben haben. wir sehen unerträglich viele familien mit kleinen kindern sitzen seit monaten unter desolaten umständen in moria fest. alle wussten dass es passieren würde die griechische regierung und alle europäischen staats- und regierungschefs. merkel und macron wollen in einer gemeinsamen aktion mit anderen eu-ländern unbegleitete kinder aus moria übernehmen. nach allem was seit schlecht gemanagt wurde zum beispiel die abschiebung von gewalttätern ist es nachvollziehbar dass wir genau darauf achten wen wir bei uns aufnehmen. aber nachdem im vergangenen sommer flüchtlingskinder in deutschen schulen ihr abitur ablegten oft mit fabelhaften noten muss auch klar sein es ist nicht nur unsere moralische pflicht kleinen kindern eine zukunft zu ermöglichen. kinder stürze...   \n",
       "3   endlich fliegt das ei wieder die vollmer und kuhn show ist der nfl-podcast bei bild. dort sprechen die deutschen ex-nfl-profis sebastian vollmer zweifacher super-bowl-champion und markus kuhn einziger deutscher mit einem touchdown jede woche über die heißesten themen der milliarden-liga. hier den podcast auf itunes hören hier den podcast auf spotify hören in der aktuellen folge der vollmer und kuhn-show sprechen die beiden nfl-insidera. über die chancen der deutschen nfl-spieler mark nzeocha san francisco ers equanimeous st. brown green bay packers und jakob johnson new england patriots die im finalenmann-kader ihrer teams stehen. ihre heißesten super-bowl-kandidaten. was sebastian im training immer genervt hat. etwas das die patriots tom brady immer versprochen haben und das nun ausgerechnet bradys neuer klub einlöst.  die vollmer und kuhn show können sie kostenlos bei itunes spotify oder ihrer lieblings-podcast-app hören. um keine folge zu verpassen können sie die show dort auch ...   \n",
       "4   stuttgart es war das vielleicht letzte sommerliche wochenende grad keine wolke am himmel. ideale bedingungen für eine spritztour mit dem oldtimer. doch gleich drei ausfahrten endeten in baden-württemberg mit schweren crashs.  freitag uhr auf der l bei bad friedrichshall. ein mann ist mit seinem jahre alten roten porsche carrera cabrio unterwegs als eine entgegenkommende fahrerin die kontrolle über ihren mercedes verliert. frontal kracht sie in den porsche. der fahrer stirbt seine beifahrerin wird schwer verletzt. uhr kreisstraße bei gerabronn. ein familienvater macht mit seinen drei söhnen  jahre einen ausflug im weißen mercedes sl. ein hyundai-fahrer gerät ins schleudern prallt gegen den oldtimer. alle kinder werden so schwer verletzt dass sie mit rettungshubschraubern in kliniken geflogen werden. auch der vater erleidet schwere verletzungen.  minuten später auf der bundesstraße bei nürtingen. eine vw-fahrerin gerät auf die gegenfahrbahn streift einen opel kadett a coupé aero bauj...   \n",
       "5   dass ferrari in der formel für gänsehaut sorgt kommt in der aktuellen saison eher selten vor. doch in mugello bot die scuderia etwas ganz besonderes. mick schumacher im ferrari f seines vaters michael der formel-pilot und ferrari-junior durfte für fünf demo-runden hinter das steuer des legendären boliden mit dem schumi seinen siebten und letzten wm-titel holte. ferrari feiert auf dem firmeneigenen kurs an diesem wochenende in der toskana sein rennen in der königsklasse. deshalb gab es am samstagabend eine veranstaltung in florenz und am sonntag dann die demo-runden des wie legendär das auto ist zeigte sich an den reaktionen der aktuellen formel-teams viele mitglieder der rennställe unterbrachen ihre arbeit und nahmen sich die zeit auf der boxenmauer stehend den f vorbeirasen zu sehen. auch die beiden aktuellen ferrari-stars schauten ehrfürchtig zu sebastian vettel sicherte sich einen platz zu beginn der start-zielgeraden ein paar meter weiter hinten auf der boxenmauer stand sein te...   \n",
       "6   die auswärtige amt warnt die bevölkerung seit monaten vor nicht notwendigen touristischen reisen in mehr als staaten außerhalb der eu wegen steigender infektionszahlen innerhalb europas zählen inzwischen auch zahlreiche regionen in urlaubsländern wie spanien frankreich und portugal zu der liste der risikogebiete. die bundesregierung hat die pauschale und flächendeckende warnung am donnerstag erneut bis zum september verlängert. ab dann soll jede region wieder individuell betrachtet werden. aber ab wann gilt ein land nicht mehr als risikogebiet mit lesen sie welche kriterien entscheidend sind damit ein urlaubsland von der liste der risikogebiete genommen werden kann. und wie das auswärtige amt die möglichkeiten ab oktober zu reisen bewertet. vor corona war urlaub ein kinderspiel ziel aussuchen buchen zahlen und reisen. jetzt ist es eine herkules-aufgabe welches land ist kein risikogebiet bild beantwortet die wichtigsten fragen für ihren herbst-urlaubb. findet mein gebuchter urlaub ü...   \n",
       "7   sondershausen gibt es das unstrut-ungetüm wirklich das soll jetzt ein ausgewiesener krokodil-experte herausfinden. auf empfehlung der zoos in erfurt und leipzig soll mit ihm noch diese woche eine uferbegehung erfolgen. so könnten vorhandene aber bisher kaum identifizierbaren spuren neu bewertet werden. unterdessen stellen feuerwehr und landratsamt die kroko-gopro vorerst nicht mehr am ufer des flusses auf nachdem keine video-aufnahme des krokos gelungen war. dessen existenz konnte somit nach wie vor nicht bewiesen werden. feuerwehrmann gero wendt und jeffrey schulz vom landratsamt haben nur eine aufgabe die existenz des reptils nachzuweisen. die futterfalle ist aufgespannt um endlich den beweis zu liefern ein hähnchen soll das vermeintliche krokodil anlocken. die reptilenjagd per futterköder hühner-kadaver am ufer sei damit vorerst vorbei so heinz-ulrich thiele vom landratsamt. dennoch werde weiter entlang des gewässers patrouilliert gelte bis auf weiteres die allgemeinverfügung di...   \n",
       "8   dortmund diese hilfs-aktion hat wahrscheinlich leben gerettet. in dortmund holten tierschützer verwahrloste hunde tauben und kaninchen aus einem haus. spaziergänger hatten die missstände bemerkt und alarm geschlagen. gabi beyer vom verein archev. fuhr sofort zu dem hof begutachtete die tiere und sprach mit den besitzern. die dackel waren am schlimmsten vernachlässigt. einer hündin konnte die klinik nicht mehr helfen sie musste eingeschläfert werden. ihr körper war von maden befallen. drei weitere rauhaardackel kaninchen und tauben händigte das ehepaar der tierschützerin schließlich freiwillig aus. als erste hilfe ging es zum dog-styling saloon von cordula luckhard sie dokumentierte eingewachsene krallen fast vollständig zahnlose gebisse und extremen flohbefall. stundenlang wurde gewaschen entfilzt und gegen die parasiten gekämpft. so einen flohbefall habe ich noch nie gesehen. außerdem sind die hunde völlig unterernährt. sie scheinen heu oder stroh gefressen zu haben um überhaupt e...   \n",
       "9   dramatische entwicklung im fall nawalny laut medienberichten ist kreml-kritiker alexej nawalny wieder bei vollem bewusstsein er erinnere sich auch an die ereignisse im flughafen schreibt der spiegel. man lasse jetzt wieder besucher zu ihm. vorher hatten ihn nur ehefrau und ärzte sehen dürfen. dass sich der gesundheitszustand nawalnys bessert hat zur folge dass das die schutzmaßnahmen verschärft werden. die anzahl der eingesetzten beamten sowie die kontrolldichte um nawalny in der berliner charité seien erhöht worden berichtete der spiegel unter berufung auf eigene recherchen mit der investigativplattform bellingcat. damit werde deutlich dass die polizei in berlin weiteren attentatsversuchen vorbeugen wolle hieß es. hintergrund die aussagen des kreml-kritikers könnten für die hintermänner des attentats gefährlich werden. demnach soll nawalny nun auch direkt in der berliner klinik bewacht werden in der er seit dem august behandelt wird. inzwischen konnte er von den ärzten aus dem kün...   \n",
       "10  corona-krise kurzarbeit steigende arbeitslosigkeit millionen haben gerade angst um ihre finanzen. ein großer kostenblock für viele sind versicherungen. welche ist wichtig welche kann man sich sparen lesen sie nur mit bild plus die große versicherungs-analyse die bundesländer nehmen kredite von unfassbaren milliarden euro auf um die wirtschaftlichen folgen der corona-krise abzufedern. die einen machen deutlich mehr schulden als die anderen und lassen sich dann auch noch viel mehr zeit das ganze geld wieder abzustottern. bild kennt die genauen zahlen. lesen sie mit wie hoch und wie lange sich ihr bundesland verschuldet und in welchem verhältnis die kreditsumme zur sonstigen wirtschaftskraft steht. die bild-leser haben immer wieder akute probleme mit geld inkasso wohnung job verträgen und internet-ärger. ist ja auch klar nicht jeder ist überall experte und weiß wo die fallen lauern. daher kommen hier die wichtigsten sparfochs-tipps aufgeteilt in zehn kategorien für ein sorgenfreieres ...   \n",
       "11  vor zwei tagen trabte fortuna-profi emmanuel iyoha noch über den trainingsplatz absolvierte leicht angeschlagen eine laufeinheit. dann war er zwei tage gar nicht mehr zu sehen. gestern folgte der hammer. pfeiffersches drüsenfieber iyoha droht lange pause. die schock-diagnose von vereinsarzt dr. ulf becker erwischt auch düsseldorf-trainer uwe rösler eiskalt das trifft uns total es war aber wichtig dass unsere medizinische abteilung das so schnell erkannt hat und entsprechende maßnahmen ergriffen hat.” der kerl konnte einem leid tun tage nachdem bei düsseldorfs dawid kownacki corona nachgewiesen worden war trainierte er wieder. kenan karaman sollte mittwoch nach seiner rückkehr von der türkischen nationalmannschaft bei fortuna wieder auf dem platz stehen. da die verläufe der fieber-krankheit äußerst unterschiedlich sind vermag niemand eine konkrete prognose wann iyoha die arbeit wieder aufnehmen kann. vier bis sechs wochen absolute schonung sind üblich. zur erinnerung erst am august ...   \n",
       "12  garmisch-partenkirchen den ganzen tag stehen in garmisch-partenkirchen menschen an einer corona-teststation. sie lassen sich abstriche abnehmen und rechnen mit schlechten ergebnissen. der grund einejährige frau die nach einem griechenland-urlaub mit noch unklarem testergebnis durch die bars der bayrischen stadt zog. und positiv war. stephan scharf sprecher des landratsamts die dame hat symptome gehabt war bei uns bei der teststation und wurde aufgrund der symptome aufgefordert in quarantäne zu bleiben. das hat sie aber nicht getan. ob sie sich auf der reise angesteckt hat oder danach in garmisch-partenkirchen sei aber unklar. wo sie sich angesteckt hat wissen wir nicht sagt scharf. die junge frau war corona-positiv litt unter symptomen und zog hochansteckend durch bars. allein freitag gab es neuinfektionen. in einer unterkunft auf dem gelände von us-streitkräften in der die frau arbeitet wurden nach angaben scharfs bislang menschen positiv getestet. insgesamt belief sich die zahl d...   \n",
       "13  in brandenburg gibt es einen amtlichen verdachtsfall der afrikanischen schweinepest. das landeslabor berlin-brandenburg habe den verdacht bei einem wildschwein-kadaver festgestellt der wenige kilometer von der deutsch-polnischen grenze im spree-neiße-kreis gefunden wurde teilte das bundesministerium für ernährung und landwirtschaft am mittwoch mit. mehr gleich bei bild. nach dem ersten deutschen fall der afrikanischen schweinepest asp sind jäger schweinehalter und auch politiker alarmiert. ein ausbrechen der seuche hätte schwerwiegende folgen für die wirtschaft. jetzt gilt es die seuche einzudämmen zu bekämpfen eine verbreitung zu verhindern. und dabei kann jeder von uns helfen  asp ist eine viruserkrankung die nur schweine betrifft. der erreger ist ein komplett anderer als bei der klassischen schweinepest. in beiden fällen ist das virus für andere tiere und auch den menschen ungefährlich sagt diplom-biologin elke reinking vom friedrich-loeffler-institut fli in greifswald mecklenbu...   \n",
       "14  liebesglück trennungsschmerz oder einfach nur zoff jetzt gehen die lichter aus. die mutter aller reality-shows keeping up with the kardashians kuwtk um den kardashian-jenner-clan geht nach jahren zu ende. die letzte staffel soll anfang ausgestrahlt werden. das gab clan-chefin kim kardashian auf instagram bekannt. ein schock für millionen fans die folge für folge anguckten. dank keeping up with the kardashians gelangte die ganze familie zu berühmtheit und sehr viel geld. ihre popularität als reality-stars schlachteten kim kardashian und andere familienmitglieder sehr gewieft aus um als models und influencer sowie mit parfüm kosmetik und anderen produkten immer reicher zu werden. so wurde allein das vermögen von kim kardashiansjähriger halbschwester kylie jenner vom us-magazin forbes im vergangenen mai auf knapp millionen dollar geschätzt. kaum eine andere familie in den usa ist so reich wie dieser clan und versteht es aus allem möglichen geld zu machen. doch wo genau kommt die ganze...   \n",
       "15  da konnte wohl jemand seine zunge nicht im zaum halten eine kuss-challenge sorgte am freitagabend auf love island rtlfür jede menge zoff. denn sex-proll henrik fuhr nicht nur bei seiner insel-freundin aurelia die zunge ganz weit aus. mit dem politiker-enkel hat die süße frankfurterin bei der kuppel-show ja schon einiges mitgemacht. obwohl beide vercoupelt sind guckt der nämlich noch nach anderen frauen. beim anblick von neu-zugang nathalia machten seine hormone purzelbäume. so eine wucht die hat mich krass geflasht ich habe gänsehaut aurelia zieht mich nicht so krass an. das hielt den selbsternannten penis-guru aber nicht davon ab wenig später mit aurelia die laken glühen zu lassen und vor den jungs mächtig anzugeben. doch damit nicht genug. an tag elf auf der liebes-insel leistete sich der kölner das nächste dicke ding. rtlhatte zur kuss-challenge aufgerufen. erst sollten die mädels jeden jungen küssen danach die jungs jedes mädchen. die lippenbekenntnisse wurden mit punkten bewer...   \n",
       "16  da gewitterts wieder im esport-himmel am donnerstag gab der spiele-hersteller ea sports die neuen spielerbewertungen für fifa bekannt. und zwar nicht wie in den letzten jahren stück für stück sondern diesmal veröffentlichte ea sports gleich die besten spieler der diesjährigen ausgabe auf einen schlag. und wie jedes jahr regen sich die zocker und esportler mächtig auf zurecht bild fragte bei den deutschen esport-stars nach ein beispiel ex-bvb-flop ciro immobile gesamtspielstärke tempo  hat eine höhere tempo-bewertung als serge gnabry gesamtspielstärke tempo und jadon sancho gesamtspielstärke tempo was zu viel unverständnis führt. zudem haben mit thiago gesamtspielstärkezum vorgänger fifa und david alaba gesamtspielstärkezum vorgänger fifa zwei bayern-schlüsselspieler beim triple ein downgrade bekommen. auch romelu lukaku wütete auf twitter über zu wenig tempo seien wir doch ehrlich fifa baut nur scheiße mit den ratings und wir spieler beschweren uns auch noch darüber und geben denen...   \n",
       "17  vorm dtm-lauf am nürburgring diesen samstag und sonntag ab uhr haben die beiden tabellenführer nico müller und robin frijns beide audi eins gemeinsam beide werden von ihren frauen für die fahrt durch flotte kurven beflügelt müller ist gerade papa geworden. die mama ein deutsches playmate. ende august brachte lebensgefährtin victoria paschold einen sohn auf die welt fynn war bei der geburt zentimeter groß passend zu müllers startnummer. ist das private glück das erfolgsgeheimnis schaden tut es nicht. ich bin glücklich und happy menschen performen einfach sagt er zu bild. aber das war ich schon vorher es ist nicht so dass ich die letzten jahre weniger happy und deswegen die performance nicht ganz so gut war. eigentlich mache ich nicht so viel anders als vorher auch. victoria paschold und nico müller lernten sich im frühjahr auf der jahrfeier von abt in kempen kennen. für abt sportsline fährt müller aktuell in der dtm. auf der feier ist ihm die hübsche blondine sofort aufgefallen. kei...   \n",
       "18  diese frauen wollen und werden nicht aufgeben vor mehr als einen monat fälschte diktator alexander lukaschenko die präsidentschaftswahlen schenkte sich die sechste amtszeit und scheut seitdem vor nichts zurück um an der macht zu bleiben seine prügeltruppen schlagen auf die friedlichen demonstranten ein gehen brutal und mit voller härte gegen unschuldige menschen vor. auffällig die brutalität mit der sie zuletzt auch frauen in ihre transporter zerrten sie zur abschreckung in gefängnisse bringen. jetzt schlagen die mutigen frauen von belarus zurück auf einem video sieht man wie einer von lukaschenkos prüggeltruppen von einer älteren frau verprügelt wird mit einem besen der mutigen frau mit gelben schlappen laufen dutzende andere frauen hinterher. sie filmen mit ihrem handy die szene klatschen und bejubeln die besen-frau. der schläger wird so verjagt rennt vor den frauen weg. heute vor genau einem monat wählten die weißrussen ihre neue präsidentin doch sie bekamen diktator alexander l...   \n",
       "\n",
       "                                                                                                                                                                                                                                                                                                                                                                                                                                                                                                                                                                                                                                                                                                                                                                                                                                                                                                                                                                                                                                    Raw_Doc  \\\n",
       "0   Jagd auf die Titel-Premiere! Wenn Alexander „Sascha“ Zverev (23) heute Abend (22 Uhr Eurosport und BILD-Liveticker) im Finale der US Open auf Dominic Thiem (27) trifft, dann wird einer von beiden am Ende seinen ersten Grand-Slam-Titel feiern. Es ist für beide Tennis-Stars mehr als einfach nur ein Endspiel. Der Österreicher: „Ich freue mich extrem. Wir haben eine langjährige Freundschaft, eine packende Rivalität. Es ist geil, dass sich unsere Wege in einem Grand-Slam-Endspiel kreuzen.“ Und Zverev sagt: „Es ist nur noch ein Schritt, aber es wird extrem schwer für mich. Wir haben ein episches Duell in Australien gespielt.“ Das Halbfinale der Australian Open (3:6, 6:4, 7:6, 7:6  für Thiem) im Januar war das bisher letzte Duell der beiden. \\n                                    Es kann nur einen geben! Heute Abend (22 Uhr, Eurosport und im BILD-Live-Ticker) kämpfen Alexander Zverev (23) und Dominic Thiem (27... Zverev gegen Thiem, die Nummer sieben der Welt gegen die Nummer drei, der End...   \n",
       "1   Es brennt und brennt. Auch in diesem Jahr stehen weite Teile der US-Westküste in Flammen. Menschen werden evakuiert, es gibt Tote. Zurück bleibt mal wieder verbrannte Erde.  Wird es dort immer brennen? Gibt es wirklich keinen Schutz für diese Gebiete?  Doch, sagt Waldbrand-Experte Alexander Held vom European Forest Institute in Bonn zu BILD. Was muss denn getan werden, damit solche Feuer endlich aufhören?  „Aufklärung, Vorsorge und kontrolliertes Brennen zu milden Wetterbedingungen. Viele kleine Feuer zu für den Menschen günstigen Bedingungen statt vieler großer Brände bei bestem Feuerwetter. In einem Feuerökosystem wie Kalifornien müssen wir mehr Brände zulassen. Es muss also eigentlich noch mehr brennen, aber eben zu einem anderen Zeitpunkt“, sagt Alexander Held zu BILD. Denn historisch betrachtet, genau wie in Australien und Afrika, hat es deutlich mehr Feuer gegeben, es hat andauernd überall irgendwo gebrannt, erklärt Held. Dadurch waren aber die Brände immer kleiner und vor al...   \n",
       "2   Wenn man an der Feuerkatastrophe im Flüchtlingslager Moria auf Lesbos irgendetwas Gutes finden kann, dann, dass die Flammen die Hoffnungslosen und Verzweifelten vor die Kameras und damit die Augen der Weltöffentlichkeit getrieben haben. Wir sehen: Unerträglich viele Familien mit kleinen Kindern sitzen seit Monaten unter desolaten Umständen in Moria fest. \\n                                    Alle wussten, dass es passieren würde – die griechische Regierung und alle europäischen Staats- und Regierungschefs. \\n                                    Merkel und Macron wollen in einer gemeinsamen Aktion mit anderen EU-Ländern 400 unbegleitete Kinder aus Moria übernehmen.  Nach allem, was seit 2015 schlecht gemanagt wurde – zum Beispiel die Abschiebung von Gewalttätern –, ist es nachvollziehbar, dass wir genau darauf achten, WEN wir bei uns aufnehmen. Aber nachdem im vergangenen Sommer Flüchtlingskinder in deutschen Schulen ihr Abitur ablegten, oft mit fabelhaften Noten, muss auch klar sein...   \n",
       "3   Endlich fliegt das Ei wieder!  Die „Vollmer und Kuhn Show“ ist der NFL-Podcast bei BILD. Dort sprechen die deutschen Ex-NFL-Profis Sebastian Vollmer (35/zweifacher Super-Bowl-Champion) und Markus Kuhn (34/einziger Deutscher mit einem Touchdown) jede Woche über die heißesten Themen der Milliarden-Liga. HIER den Podcast auf iTunes hören! HIER den Podcast auf Spotify hören! In der aktuellen Folge der „Vollmer und Kuhn“-Show sprechen die beiden NFL-Insider u.a. über ... … die Chancen der deutschen NFL-Spieler Mark Nzeocha (San Francisco 49ers), Equanimeous St. Brown (Green Bay Packers) und Jakob Johnson (New England Patriots), die im finalen 53-Mann-Kader ihrer Teams stehen. … ihre heißesten Super-Bowl-Kandidaten. ... was Sebastian im Training immer genervt hat. … etwas, das die Patriots Tom Brady (43) immer versprochen haben und das nun ausgerechnet Bradys neuer Klub einlöst.   Die „Vollmer und Kuhn Show“ können Sie kostenlos bei iTunes, Spotify oder Ihrer Lieblings-Podcast-App hören....   \n",
       "4   Stuttgart – Es war das vielleicht letzte sommerliche Wochenende: 28 Grad, keine Wolke am Himmel. Ideale Bedingungen für eine Spritztour mit dem Oldtimer. Doch gleich drei Ausfahrten endeten in Baden-Württemberg mit schweren Crashs.   ► Freitag, 15.45 Uhr auf der L 1096 bei Bad Friedrichshall. Ein Mann (59) ist mit seinem 31 Jahre alten, roten Porsche 911 Carrera Cabrio unterwegs, als eine entgegenkommende Fahrerin (57) die Kontrolle über ihren Mercedes verliert. Frontal kracht sie in den Porsche. Der Fahrer stirbt, seine Beifahrerin (47) wird schwer verletzt. ► 18.16 Uhr, Kreisstraße 2644 bei Gerabronn. Ein Familienvater (39) macht mit seinen drei Söhnen (1, 11, 13 Jahre) einen Ausflug im weißen Mercedes 190 SL. Ein Hyundai-Fahrer (27) gerät ins Schleudern, prallt gegen den Oldtimer. Alle Kinder werden so schwer verletzt, dass sie mit Rettungshubschraubern in Kliniken geflogen werden. Auch der Vater erleidet schwere Verletzungen. ► 30 Minuten später, auf der Bundesstraße 297 bei Nü...   \n",
       "5   Dass Ferrari in der Formel 1 für Gänsehaut sorgt, kommt in der aktuellen Saison eher selten vor. Doch in Mugello bot die Scuderia etwas ganz Besonderes. Mick Schumacher (21) im Ferrari F2004 seines Vaters Michael (51)! Der Formel-2-Pilot und Ferrari-Junior durfte für fünf Demo-Runden hinter das Steuer des legendären Boliden, mit dem Schumi 2004 seinen siebten und letzten WM-Titel holte. Ferrari feiert auf dem firmeneigenen Kurs an diesem Wochenende in der Toskana sein 1000. Rennen in der Königsklasse. Deshalb gab es am Samstagabend eine Veranstaltung in Florenz – und am Sonntag dann die Demo-Runden des F2004. Wie legendär das Auto ist, zeigte sich an den Reaktionen der aktuellen Formel-1-Teams: Viele Mitglieder der Rennställe unterbrachen ihre Arbeit und nahmen sich die Zeit, auf der Boxenmauer stehend den F2004 vorbeirasen zu sehen. Auch die beiden aktuellen Ferrari-Stars schauten ehrfürchtig zu: Sebastian Vettel (33) sicherte sich einen Platz zu Beginn der Start-/Zielgeraden, ein...   \n",
       "6   Die Auswärtige Amt warnt die Bevölkerung seit Monaten „vor nicht notwendigen, touristischen Reisen“ in mehr als 160 Staaten außerhalb der EU – wegen steigender Infektionszahlen innerhalb Europas zählen inzwischen auch zahlreiche Regionen in Urlaubsländern wie Spanien, Frankreich und Portugal zu der Liste der Risikogebiete.  Die Bundesregierung hat die pauschale und flächendeckende Warnung am Donnerstag erneut bis zum 30. September verlängert. Ab dann soll jede Region wieder individuell betrachtet werden. Aber ab wann gilt ein Land nicht mehr als Risikogebiet?  Mit BILDplus lesen Sie, welche Kriterien entscheidend sind, damit ein Urlaubsland von der Liste der Risikogebiete genommen werden kann. Und wie das Auswärtige Amt die Möglichkeiten ab Oktober zu reisen bewertet.  Vor Corona war Urlaub ein Kinderspiel: Ziel aussuchen, buchen, zahlen und reisen. Jetzt ist es eine Herkules-Aufgabe: Welches Land ist KEIN Risikogebiet? BILD beantwortet die wichtigsten Fragen für Ihren Herbst-Urlau...   \n",
       "7   Sondershausen – Gibt es das Unstrut-Ungetüm wirklich? Das soll jetzt ein ausgewiesener Krokodil-Experte herausfinden. Auf Empfehlung der Zoos in Erfurt und Leipzig soll mit ihm noch diese Woche eine Uferbegehung erfolgen. So könnten vorhandene, aber bisher kaum identifizierbaren Spuren, neu bewertet werden. Unterdessen stellen Feuerwehr und Landratsamt die Kroko-GoPro vorerst nicht mehr am Ufer des Flusses auf, nachdem keine Video-Aufnahme des Krokos gelungen war. Dessen Existenz konnte somit nach wie vor nicht bewiesen werden. \\n                                    Feuerwehrmann Gero Wendt und Jeffrey Schulz vom Landratsamt haben nur eine Aufgabe: Die Existenz des Reptils nachzuweisen. \\n                                    Die Futterfalle ist aufgespannt, um endlich den Beweis zu liefern: Ein Hähnchen soll das vermeintliche Krokodil anlocken. Die Reptilenjagd per Futterköder (Hühner-Kadaver) am Ufer sei damit vorerst vorbei, so Heinz-Ulrich Thiele vom Landratsamt. Dennoch werde wei...   \n",
       "8   Dortmund – Diese Hilfs-Aktion hat wahrscheinlich Leben gerettet. In Dortmund holten Tierschützer verwahrloste Hunde, Tauben und Kaninchen aus einem Haus. Spaziergänger hatten die Missstände bemerkt und Alarm geschlagen. Gabi Beyer (54) vom Verein „Arche90 e.V.“ fuhr sofort zu dem Hof, begutachtete die Tiere und sprach mit den Besitzern. „Die Dackel waren am schlimmsten vernachlässigt. Einer Hündin konnte die Klinik nicht mehr helfen, sie musste eingeschläfert werden. Ihr Körper war von Maden befallen.“  Drei weitere Rauhaardackel, 15 Kaninchen und 39 Tauben händigte das Ehepaar der Tierschützerin schließlich freiwillig aus. Als Erste Hilfe ging es zum „Dog-Styling Saloon“ von Cordula Luckhard (45). Sie dokumentierte eingewachsene Krallen, fast vollständig zahnlose Gebisse und extremen Flohbefall. Stundenlang wurde gewaschen, entfilzt und gegen die Parasiten gekämpft. „So einen Flohbefall habe ich noch nie gesehen. Außerdem sind die Hunde völlig unterernährt. Sie scheinen Heu oder S...   \n",
       "9   Dramatische Entwicklung im Fall Nawalny! Laut Medienberichten ist Kreml-Kritiker Alexej Nawalny wieder bei vollem Bewusstsein! Er erinnere sich auch an die Ereignisse im Flughafen, schreibt der „Spiegel“. Man lasse jetzt wieder Besucher zu ihm. Vorher hatten ihn nur Ehefrau und Ärzte sehen dürfen.  Dass sich der Gesundheitszustand Nawalnys bessert, hat zur Folge, dass das die Schutzmaßnahmen verschärft werden. Die Anzahl der eingesetzten Beamten sowie die Kontrolldichte um Nawalny in der Berliner Charité seien erhöht worden, berichtete der „Spiegel“ unter Berufung auf eigene Recherchen mit der Investigativplattform „Bellingcat“. Damit werde deutlich, dass die Polizei in Berlin weiteren Attentatsversuchen vorbeugen wolle, hieß es. Hintergrund: Die Aussagen des Kreml-Kritikers könnten für die Hintermänner des Attentats gefährlich werden. Demnach soll Nawalny nun auch direkt in der Berliner Klinik bewacht werden, in der er seit dem 22. August behandelt wird. Inzwischen konnte er von d...   \n",
       "10  Corona-Krise, Kurzarbeit, steigende Arbeitslosigkeit: Millionen haben gerade Angst um ihre Finanzen. Ein großer Kostenblock für viele sind Versicherungen. Welche ist wichtig, welche kann man sich sparen? Lesen Sie nur mit BILD plus die große Versicherungs-Analyse!  Die 16 Bundesländer nehmen Kredite von unfassbaren 110 Milliarden Euro auf, um die wirtschaftlichen Folgen der Corona-Krise abzufedern. Die einen machen deutlich mehr Schulden als die anderen – und lassen sich dann auch noch viel mehr Zeit, das ganze Geld wieder abzustottern. BILD kennt die genauen Zahlen. Lesen Sie mit BILDplus, wie hoch und wie lange sich Ihr Bundesland verschuldet –  und in welchem Verhältnis die Kreditsumme zur sonstigen Wirtschaftskraft steht.  Die BILD-Leser haben immer wieder akute Probleme mit Geld, Inkasso, Wohnung, Job, Verträgen und Internet-Ärger. Ist ja auch klar: Nicht jeder ist überall Experte und weiß, wo die Fallen lauern. Daher kommen hier die wichtigsten 50 Sparfochs-Tipps (aufgeteilt ...   \n",
       "11  Vor zwei Tagen trabte Fortuna-Profi Emmanuel Iyoha (22) noch über den Trainingsplatz, absolvierte leicht angeschlagen eine Laufeinheit. Dann war er zwei Tage gar nicht mehr zu sehen. Gestern folgte der Hammer... Pfeiffersches Drüsenfieber! Iyoha droht lange Pause. Die Schock-Diagnose von Vereinsarzt Dr. Ulf Becker (57) erwischt auch Düsseldorf-Trainer Uwe Rösler (51) eiskalt: „Das trifft uns total! Es war aber wichtig, dass unsere medizinische Abteilung das so schnell erkannt hat und entsprechende Maßnahmen ergriffen hat.” \\n                                    Der Kerl konnte einem leid tun! 26 Tage, nachdem bei Düsseldorfs Dawid Kownacki Corona nachgewiesen worden war, trainierte er wieder. \\n                                    Kenan Karaman (26) sollte Mittwoch nach seiner Rückkehr von der türkischen Nationalmannschaft bei Fortuna wieder auf dem Platz stehen. Da die Verläufe der Fieber-Krankheit äußerst unterschiedlich sind, vermag niemand eine konkrete Prognose, wann Iyoha die A...   \n",
       "12  Garmisch-Partenkirchen - Den ganzen Tag stehen in Garmisch-Partenkirchen Menschen an einer Corona-Teststation. Sie lassen sich Abstriche abnehmen und rechnen mit schlechten Ergebnissen.  Der Grund: eine 26-jährige Frau, die nach einem Griechenland-Urlaub mit noch unklarem Testergebnis durch die Bars der bayrischen Stadt zog. Und positiv war. Stephan Scharf, Sprecher des Landratsamts: „Die Dame hat Symptome gehabt, war bei uns bei der Teststation und wurde aufgrund der Symptome aufgefordert, in Quarantäne zu bleiben. Das hat sie aber nicht getan.“ Ob sie sich auf der Reise angesteckt hat oder danach in Garmisch-Partenkirchen, sei aber unklar. „Wo sie sich angesteckt hat, wissen wir nicht“, sagt Scharf.  \\n                                    Die junge Frau war corona-positiv, litt unter Symptomen – und zog hochansteckend durch Bars. Allein Freitag gab es 33 Neuinfektionen. In einer Unterkunft auf dem Gelände von US-Streitkräften, in der die Frau arbeitet, wurden nach Angaben Scharfs ...   \n",
       "13  In Brandenburg gibt es einen amtlichen Verdachtsfall der Afrikanischen Schweinepest. Das Landeslabor Berlin-Brandenburg habe den Verdacht bei einem Wildschwein-Kadaver festgestellt, der wenige Kilometer von der deutsch-polnischen Grenze im Spree-Neiße-Kreis gefunden wurde, teilte das Bundesministerium für Ernährung und Landwirtschaft am Mittwoch mit. Mehr gleich bei BILD. Nach dem ersten deutschen Fall der Afrikanischen Schweinepest (ASP) sind Jäger, Schweinehalter und auch Politiker alarmiert. Ein Ausbrechen der Seuche hätte schwerwiegende Folgen für die Wirtschaft.  Jetzt gilt es, die Seuche einzudämmen, zu bekämpfen, eine Verbreitung zu verhindern. Und dabei kann jeder von uns helfen!   ASP ist eine Viruserkrankung, die nur Schweine betrifft. „Der Erreger ist ein komplett anderer als bei der klassischen Schweinepest. In beiden Fällen ist das Virus für andere Tiere und auch den Menschen ungefährlich“, sagt Diplom-Biologin Elke Reinking vom Friedrich-Loeffler-Institut (FLI) in Gre...   \n",
       "14  Liebesglück, Trennungsschmerz oder einfach nur Zoff – jetzt gehen die Lichter aus. Die Mutter aller Reality-Shows, „Keeping Up With The Kardashians“ (KUWTK), um den Kardashian-Jenner-Clan geht nach 14 Jahren zu Ende.  Die letzte Staffel soll Anfang 2021 ausgestrahlt werden. Das gab Clan-Chefin Kim Kardashian (39) auf Instagram bekannt. Ein Schock für Millionen Fans, die Folge für Folge anguckten. Dank „Keeping Up with the Kardashians“ gelangte die ganze Familie zu Berühmtheit – und sehr viel Geld.  Ihre Popularität als Reality-Stars schlachteten Kim Kardashian und andere Familienmitglieder sehr gewieft aus, um als Models und Influencer sowie mit Parfüm, Kosmetik und anderen Produkten immer reicher zu werden.  So wurde allein das Vermögen von Kim Kardashians 23-jähriger Halbschwester Kylie Jenner vom US-Magazin „Forbes“ im vergangenen Mai auf knapp 900 Millionen Dollar geschätzt.  Kaum eine andere Familie in den USA ist so reich wie dieser Clan und versteht es, aus allem Möglichen G...   \n",
       "15  Da konnte wohl jemand seine Zunge nicht im Zaum halten … Eine Kuss-Challenge sorgte am Freitagabend auf „Love Island“ (RTL2) für jede Menge Zoff. Denn Sex-Proll Henrik (23) fuhr nicht nur bei seiner Insel-Freundin Aurelia (24) die Zunge ganz weit aus. Mit dem Politiker-Enkel hat die süße Frankfurterin bei der Kuppel-Show ja schon einiges mitgemacht. Obwohl beide „vercoupelt“ sind, guckt der nämlich noch nach anderen Frauen. Beim Anblick von Neu-Zugang Nathalia (27) machten seine Hormone Purzelbäume. „So eine Wucht! Die hat mich krass geflasht, ich habe Gänsehaut! Aurelia zieht mich nicht so krass an.“ Das hielt den selbsternannten Penis-Guru aber nicht davon ab, wenig später mit Aurelia die Laken glühen zu lassen und vor den Jungs mächtig anzugeben. Doch damit nicht genug. An Tag elf auf der Liebes-Insel leistete sich der Kölner das nächste dicke Ding. RTL2 hatte zur Kuss-Challenge aufgerufen. Erst sollten die Mädels jeden Jungen küssen, danach die Jungs jedes Mädchen. Die Lippenbe...   \n",
       "16  Da gewittert's wieder im eSport-Himmel! Am Donnerstag gab der Spiele-Hersteller „EA Sports“ die neuen Spielerbewertungen für FIFA 21 bekannt. Und zwar nicht wie in den letzten Jahren Stück für Stück, sondern diesmal veröffentlichte EA Sports gleich die 100 besten Spieler der diesjährigen Ausgabe auf einen Schlag. Und wie jedes Jahr regen sich die Zocker und eSportler mächtig auf! Zurecht? BILD fragte bei den deutschen eSport-Stars nach! Ein Beispiel: Ex-BVB-Flop Ciro Immobile (30, Gesamtspielstärke: 87, Tempo: 84 ) hat eine höhere Tempo-Bewertung als Serge Gnabry (25, Gesamtspielstärke: 85, Tempo: 82) und Jadon Sancho (20, Gesamtspielstärke: 86, Tempo: 83), was zu viel Unverständnis führt.  Zudem haben mit Thiago (29, Gesamtspielstärke: 85, -2 zum Vorgänger FIFA 20) und David Alaba (28, Gesamtspielstärke: 85, -1 zum Vorgänger FIFA 20) zwei Bayern-Schlüsselspieler beim Triple ein Downgrade bekommen.  Auch Romelu Lukaku (27) wütete auf Twitter über zu wenig Tempo: „Seien wir doch ehr...   \n",
       "17  Vorm DTM-Lauf am Nürburgring (diesen Samstag und Sonntag ab 13 Uhr) haben die beiden Tabellenführer Nico Müller (28) und Robin Frijns (29/beide Audi) eins gemeinsam: Beide werden von ihren Frauen für die Fahrt durch flotte Kurven beflügelt! Müller ist gerade Papa geworden. Die Mama: ein deutsches Playmate. Ende August brachte Lebensgefährtin Victoria Paschold einen Sohn auf die Welt: Fynn war bei der Geburt 51 Zentimeter groß – passend zu Müllers Startnummer. Ist das private Glück das Erfolgsgeheimnis? „Schaden tut es nicht. Ich bin glücklich und happy Menschen performen einfach“, sagt er zu BILD. „Aber das war ich schon vorher, es ist nicht so, dass ich die letzten Jahre weniger happy und deswegen die Performance nicht ganz so gut war. Eigentlich mache ich nicht so viel anders als vorher auch.“ Victoria Paschold und Nico Müller lernten sich im Frühjahr 2016 auf der 120-Jahrfeier von Abt in Kempen kennen. Für Abt Sportsline fährt Müller aktuell in der DTM. Auf der Feier ist ihm die...   \n",
       "18  Diese Frauen wollen und werden nicht aufgeben! Vor mehr als einen Monat fälschte Diktator Alexander Lukaschenko (66) die Präsidentschaftswahlen, schenkte sich die sechste Amtszeit und scheut seitdem vor nichts zurück, um an der Macht zu bleiben: Seine Prügeltruppen schlagen auf die friedlichen Demonstranten ein, gehen brutal und mit voller Härte gegen unschuldige Menschen vor. Auffällig: Die Brutalität, mit der sie zuletzt auch Frauen in ihre Transporter zerrten, sie zur Abschreckung in Gefängnisse bringen.  Jetzt schlagen die mutigen Frauen von Belarus zurück!  Auf einem Video sieht man, wie einer von Lukaschenkos Prüggeltruppen von einer älteren Frau verprügelt wird – mit einem Besen! Der mutigen Frau mit gelben Schlappen laufen dutzende andere Frauen hinterher. Sie filmen mit ihrem Handy die Szene, klatschen und bejubeln die Besen-Frau. Der Schläger wird so verjagt, rennt vor den Frauen weg.  \\n                                    Heute vor genau einem Monat wählten die Weißrusse...   \n",
       "\n",
       "                                                                                                                                                                                                                                                                                                                                                                                                                                                                                                                                                                                                                                                                                                                                                                                                                                                                                                                                                                                                                                        mix  \\\n",
       "0   US Open: Alex Zverev gegen Dominic Thiem – Freundschaft! Stärken! Bilanz!   -Sport-Mix -Bild.de Thiem gegen Zverev –das Kumpel US Open: Dominic Thiem zittert vor Anruf bei Andy Murray  -Sport-Mix -Bild.de  Serena Williams: Grand-Slam-Rekord verpasst - Halbfinal-Aus bei den US Open  -Sport-Mix -Bild.de Halbfinal US-Open-Halbfinale: Alex Zverev setzt auf seinen Kracher-Aufschlag  -Sport-Mix -Bild.de Zverev setzt auf seinen Kracher Alexander Zverev: US Open – Titeltraum zerstört im Finale gegen Dominic Thiem  -Sport-Mix -Bild.de Zverevs Titel US Open: Als Alexander Zverev seinen Eltern dankte, kamen ihm die Tränen  -Sport-Mix -Bild.de  Novak Djokovic: Ober-Schiri verrät, was ihn Djokovic fragte *** BILDplus Inhalt ***  -Sport-Mix -Bild.de  US Open: Alexander Zverev - Dominic Thiem: Final-Prognose von Boris Becker *** BILDplus Inhalt ***  -Sport-Mix -Bild.de „Der Top Kommt er als Grand-Slam-Champion? Alexander  Zverev schlägt in Köln auf!  -Sport-Mix -Bild.de  US Open: „Mentalitätsmons...   \n",
       "1                                                                                                                                                                                                                                                                                                                                                                                                                                                                                                Waldbrände in Kalifornien - Feuerexperte: „Eigentlich muss es noch mehr brennen!“  -News Ausland -Bild.de  Flammen, Smog und Zerstörung an US-Westküste: Brände fordern 15 Tote  -News Ausland -Bild.de Schon 15 Feuer Opfer an der US Feuer von Nord-Washington bis Süd-Kalifornien: Eltern verletzt, Baby tot!  -News Ausland -Bild.de  Flammen-Hölle Westküste - Angst vor Smog und Plünderungen  -News Ausland -Bild.de  Dutzende werden vermisst - 35 Tote durch Kalifornien-Brände  -News Ausland -Bild.de 35 Tote durch Kalifornien   \n",
       "2   Kommentar zur Lage in Moria - Die Kinder von Moria brauchen unsere Hilfe  -Politik -Bild.de  Moria auf Lesbos in Endzeitstimmung: In dieser Hölle leben etwa ein Drittel Kinder  -Politik Ausland -Bild.de  Lesbos-Feuer-Drama: Diese Missstände führten zur Schande von Moria  -Politik Ausland -Bild.de  Protest in Leipzig: Hunderte demonstrieren für Flüchtlinge  -Leipzig -Bild.de  Moria – Seehofer kündigt an: Deutschland nimmt 100 bis 150 Kinder auf  -Politik Inland -Bild.de  Moria: Zweites Feuer im Flüchtlingscamp ausgebrochen – Tausende fliehen!  -News Ausland -Bild.de  Seehofer zu Moria - Deutschland nimmt 100 bis 150 Minderjährige auf  -Politik -Bild.de  CDU/CSU: Unions-Aufstand gegen Merkels Flüchtlings-Plan *** BILDplus Inhalt ***  -Politik Inland -Bild.de  Obdachlose Flüchtlinge protestieren auf Lesbos: Polizei setzt Tränengas gegen Migranten ein  -Politik Ausland -Bild.de  Nach der Feuerhölle - Die Kinder von Moria lernen weiter  -Politik Ausland -Bild.de  Moria – Kanzlerin Angel...   \n",
       "3                                                                                                                                              NFL: „Vollmer und Kuhn“-Show ist der Football-Podcast von BILD  -American Football -Bild.de Buccaneers lösen Versprechenvon Bradys Ex LIVE IM TV UND IM STREAM: Das sind die Top-Partie des ersten NFL-Spieltags  -American Football -Bild.de Das sind die Top Duelledes ersten NFL Spengemann-Kolumne: Das wird die härteste NFL-Saison aller Zeiten   -American Football -Bild.de Deshalb steht uns die härteste NFL NFL: Das Playbook – BILD erklärt die Taktik-Bibel der Football-Teams  -American Football -Bild.de  NFL: Pfiffe für Protestaktion Auftakt – Patrick Mahomes überragend!  -American Football -Bild.de Pfiffe für Protestaktion bei NFL NFL: Superstar jetzt bei Tampa Bay – Tom Brady muss für den Titel alles neu lernen  -American Football -Bild.de  NFL: Brady-Nachfolger Cam Newton mit Touchdown-Show  -American Football -Bild.de Brady Nachfolger mit Touchdown   \n",
       "4   Drei schwere Unfälle am Wochenende: Todesfalle Oldtimer  -News Inland -Bild.de  Auto in Flammen! - BMW fackelt auf A57 ab  -Ruhrgebiet -Bild.de  Landkreis Diepholz - Fliege verursacht Unfall – zwei Schwerverletzte!  -Bremen -Bild.de  Auf Motorrad-Ausfahrt - Biker stirbt bei Crash mit Biker  -Sachsen-Anhalt -Bild.de  Düsseldorf: Unklarer Unfall – 20-Jähriger liegt tot unterm Roller  -Düsseldorf -Bild.de 20 Dortmund: Motorrad-Werkstatt in Flammen  -Ruhrgebiet -Bild.de Motorrad Auf dem Weg zu Einsatz in Verden: Retter kracht gegen Baum  -Bremen -Bild.de  Stendal: Mercedes rammt Rollifahrer (78) von Landstraße - tot  -Sachsen-Anhalt -Bild.de Mercedes rammt Rollifahrer (78) von Landstraße Trucker schwer verletzt: Liegender Laster legt Autobahn A73 lahm  -Thüringen -Bild.de  Drama in Hamburg: Fußgängerin kollidiert mit drei Autos - tot  -Hamburg -Bild.de Fußgängerin kollidiert mit drei Autos auf der Autobahn Acht Verletzte bei Unfall: Domino-Crash bei Oldenburg  -Bremen -Bild.de Domino R...   \n",
       "5   Formel 1: Mick Schumacher fährt Rekord-Ferrari seines Vaters Michael  -Formel 1 -Bild.de Mick fährt SchumisRekord Ernst August fährt zur Nervenklinik *** BILDplus Inhalt ***  -Royals -Bild.de  Formel 1: BILD-Kommentar - So wollte Sebastian Vettel nicht aufhören  -Formel 1 -Bild.de  Formel 1: Lawrence Stroll ist der Milliardär hinter dem Vettel-Deal *** BILDplus Inhalt ***  -Formel 1 -Bild.de Das ist der Milliardär hinter dem Vettel  Formel 1: Ferrari bekommt zum 1000. Grand Prix ein Heim-Rennen  -Formel 1 -Bild.de Formel 1 schenkt Ferrari ein Heim Formel 1: Unfall-Spektakel! Darum gibt's gerade so viele Crashs *** BILDplus Inhalt ***  -Formel 1 -Bild.de  Formel 1: Perez weg! Platz bei Racing Point für Sebastian Vettel frei  -Formel 1 -Bild.de  Sebastian Vettel: BILD enthüllt den neuen Vertrag *** BILDplus Inhalt ***  -Formel 1 -Bild.de BILD enthülltden Vettel Formel-1-Rennen im Mugello unterbrochen: Massen-Crash beim Neustart  -Formel 1 -Bild.de Massen Formel 1: Qualifikation in Mu...   \n",
       "6                                                                                                                                                                                                                                                                                                                                                          Reisewarnung des Auswärtigen Amtes: Ab wann ist ein Land kein Risikogebiet mehr? *** BILDplus Inhalt ***  -Wirtschaft -Bild.de  Reisewarnungen, Quarantäne: Hier können Sie noch Herbsturlaub machen *** BILDplus Inhalt ***  -Bild.de  Corona-Lage vor den Herbstferien - Wo kann ich jetzt noch Urlaub machen? *** BILDplus Inhalt ***  -Wirtschaft -Bild.de  Urlaub 2021 - Kann ich Reisen für nächstes Jahr schon SICHER buchen? *** BILDplus Inhalt ***  -Ratgeber -Bild.de  BILD beantwortet Ihre Ferien-Fragen!  -Bild.de BILD beantwortet Ihre Ferien Corona-Angst: Storno-Zoff mit FTI um Indien-Urlaub *** BILDplus Inhalt ***  -Bild.de Storno Zoff mit FTI um Indien   \n",
       "7                                                                                                                                                                                                                                                                                                                                                                                                                                                                                                                                                                                                                                                                                                                                                                                                                    Reptil im Fluss? Experte soll nach Unstrut-Krokodil suchen  -Thüringen -Bild.de Experte soll nach Unstrut Zwei Männer auf Reptil-Patrouille - Warten auf das Unstrut-Kroko  -Thüringen -Bild.de Warten auf das Unstrut   \n",
       "8                                                                                                                                                                           Dortmund: Tierschützer retten verwahrloste Dackel, Kaninchen und Tauben  -Ruhrgebiet -Bild.de  Leipzig: Hündin vor Supermarkt geklaut: Lotta von Entführerin befreit  -Leipzig -Bild.de  Nach Unfall auf A5 mit Löwenbaby - Entflogener Hornvogel eingefangen  -Stuttgart -Bild.de  Auf der A7 - Zöllner retten Zwergspitz-Welpen  -Hannover -Bild.de Zöllner retten Zwergspitz Tierquälerin (31) ließ Hunde zurück - Polizei rettet verwahrloste Welpen aus Wohnung  -Leipzig -Bild.de  Tierhaltung - Ist es wirklich schlecht, seinen Hund zu tragen?  -Ratgeber -Bild.de  Lichtenstein: Polizei entdeckt vernachlässigte Pferde – ein Tier tot  -Chemnitz -Bild.de  Leipzig: Hund Lotta beim Einkaufen entführt!  -Leipzig -Bild.de  Löwenbaby Lea sollte verkauft werden: Das miese Geschäft mit den Exoten *** BILDplus Inhalt ***  -News Inland -Bild.de    \n",
       "9                                                                                                                                                                                                                                                                                                                                            Wende im Fall Nawalny: Er erinnert sich an die Ereignisse am Flughafen  -Politik Ausland -Bild.de  Einbestellt oder eingeladen: Berlin und Moskau streiten über Nawalny-Treffen  -Politik Ausland -Bild.de Berlin und Moskau streiten über Nawalny FAll Nawalny - Trumps Top-Diplomat: Kreml steckt hinter Gift-Attacke  -Politik Ausland -Bild.de Trumps Top Diplomat: Kreml steckt hinter Gift Nawalny wird nicht mehr künstlich beatmet – Charité teilt mit  -Politik Ausland -Bild.de  „Tatort“: Wie viel vom Fall Nawalny steckte in diesem Krimi *** BILDplus Inhalt ***  -Politik Inland -Bild.de  Nawalny: War das Nowitschok-Gift auf seiner Unterwäsche?  -Politik Ausland -Bild.de    \n",
       "10  Die große Analyse - Welche Versicherung muss sein, welche ist Quatsch? *** BILDplus Inhalt ***  -Wirtschaft -Bild.de  Corona – Milliarden-Kredite in der Krise: So so lange verschulden sich die Bundesländer *** BILDplus Inhalt ***  -Wirtschaft -Bild.de So lange müssen wir die Corona Geld, Verträge, Internet - 50 Sparfochs-Tipps für ein sorgenfreieres Leben *** BILDplus Inhalt ***  -Bild.de 50 Sparfochs Wirtschaft warnt - Steuererhöhungen Gift in der Corona-Krise  -Wirtschaft -Bild.de Steuererhöhungen Gift in der Corona Börsen-Oma Beate Sander: So werden aus 10 000 Euro mit Geduld 99 000 Euro! *** BILDplus Inhalt ***  -Wirtschaft -Bild.de  VW Golf, Fiat 500, VW Multivan - Neue Privatleasing-Schnäppchen *** BILDplus Inhalt ***  -Auto-Service -Bild.de Neue Privatleasing Finanzminister Scholz legt Zahlen vor - Kassensturz: So groß ist das Corona-Steuerloch  -Politik Inland -Bild.de Kassensturz: So groß ist das Corona Bis zu 800 000 Zombie-Firmen: Spätestens im März gibt's ein Massenster...   \n",
       "11                                                                                                                                                                                                                                                                                                     Fortuna Düsseldorf: Drüsenfieber! Emma Iyoha droht lange Pause!  -Bundesliga -Bild.de  Fortuna Düsseldorf: Goldhändchen Uwe Rösler!  -Bundesliga -Bild.de  Müller-Rensmann wirft hin: Preußen-Doc beklagt Vertrauens-Verlust  -Fussball -Bild.de Preußen Doc beklagt Vertrauens Fortuna Düsseldorf: Uwe Rösler lobt „Krieger” Marcel Sobottka  -Bundesliga -Bild.de  Fortuna Düsseldorf: Dawid Kownacki wankt nach Corona-Infek  -Bundesliga -Bild.de  Fortuna Düsseldorf: Raphael Wolf bekommt die Nr. 1  -Bundesliga -Bild.de  Fortuna Düsseldorf: Zum Pokal-Start nur Rouwen Hennings da  -Bundesliga -Bild.de Zum Pokal DFB-Pokal: Mannheim - Freiburg vor Absage! Zwei positive Corona-Tests  -Fussball -Bild.de Nächstes Pokal   \n",
       "12                                                                                                                                                                                                                                                                                                                                                            BILD in Garmisch-Partenkirchen: Eine Stadt wartet auf Corona-Ergebnisse  -News Inland -Bild.de Eine Stadt wartet auf Corona Garmisch-Partenkirchen: Corona-Superspreaderin legt Nachtleben lahm  -News Inland -Bild.de  Garmisch verschärft Corona-Maßnahmen  -München -Bild.de Garmisch verschärft Corona „Superspreaderin“ von Garmisch: Nach dem Corona-Test ging Amerikanerin feiern  -News Inland -Bild.de Garmisch Justiz-Experte in BILD: Das droht der Superspreaderin von Garmisch *** BILDplus Inhalt ***  -News Inland -Bild.de  Corona in Garmisch-Partenkirchen | Pub-Bertreiber: „Das ist eine Katastrophe!“ *** BILDplus Inhalt ***  -News Inland -Bild.de Pub   \n",
       "13                                                                                                                                                                                                                                                                                                                                                                                                                                                                                                                                                             Brandenburg: Verdacht auf Afrikanische Schweinepest  -News -Bild.de  Was Sie jetzt wissen müssen - Kleines ABC der Schweinepest  -Ratgeber -Bild.de  Verbraucherpreise werden steigen: So hart trifft uns der Exportstopp nach China  -Wirtschaft -Bild.de  Afrikanische Schweinepest: Wie gefährlich ist die Seuche?  -Ratgeber -Bild.de  Afrikanische Schweinepest  -News -Bild.de  Schweinepest! China verbietet Import von deutschem Schweinefleisch  -Politik -Bild.de    \n",
       "14  Kardashians: So reich wurden sie durch „Keeping Up with the Kardashians“  -Leute -Bild.de So stinkreich ist derKardashian Stevie Lee Richardson: Kleinwüchsiger Wrestler stirbt plötzlich mit 54 Jahren  -Leute -Bild.de  Neue Netflix-Serie „Ratched“ kommt mit queerem Star-Aufgebot  -Bild.de Queere Mega Besetzung für neue Netflix Will Smith: Hollywood-König zeigt „Prinz von Bel-Air“-Reunion  -Leute -Bild.de Hollywood König zeigt seine Prinzen Fürst Alexander zu Schaumburg-Lippe: Hochzeit auf Schloss Bückeburg  -Royals -Bild.de  Heidi Klum, Nicole Scherzinger & Co.: Hier sprießen nicht nur die Blumen  -Leute -Bild.de  Katie Holmes‘ Neuer: Er servierte für sie seine Verlobte ab!  -Leute -Bild.de Nach den Knutsch Ingrid und Klaus – Krankenhaus, Not-Op! Drama um Raabs Kult-Rentner *** BILDplus Inhalt ***  -Leute -Bild.de Drama um Raabs Kult Schöner zu zweit? - Masturbieren Sie mal mit Ihrem Partner! *** BILDplus Inhalt ***  -Erotik -Bild.de  Shakiras Bikini-Show: Da glüht der Sand am Stran...   \n",
       "15  „Love Island“: Züngel-Zoff! Sex-Proll Henrik knutscht fremd  -TV -Bild.de Sex BILD zeigt die Aufnahmen: Politiker-Enkel hat Sex bei „Love Island“! *** BILDplus Inhalt ***  -TV -Bild.de Politiker „Love Island“ - Politiker-Enkel wird zum Sex-Proll  -TV -Bild.de Politiker Enkel wird zum Sex Mega-Zoff auf „Love ISLAND“ - Penis-Protz Hendrik geht auf Luca los  -TV -Bild.de Penis „Festspiele der Reality Stars“: Micaela Schäfer ist scharf auf Ex-Kanzler Schröder  -TV -Bild.de  „Love Island“-Star Henrik - Was ein altes Video über den Sex-Proll verrät *** BILDplus Inhalt ***  -Leute -Bild.de Was ein altes Video überden Sex „Love Island“: Sexy Poledance-Action in der Show-Villa *** BILDplus Inhalt ***  -TV -Bild.de Heiße Poledance Einlage inder „Love Island“ „Love Island“: Fummel-Premiere bei Ex-„Bachelor“-Babe Nathalia  -TV -Bild.de Fummel „Love Island“: „Sexy Granaten“ sprengen die Paare auseinander *** BILDplus Inhalt ***  -TV -Bild.de  „Love Island“: Heiße Schaumparty in der Badewanne **...   \n",
       "16                                                                                                                                                                                                                                                                                                                                                                                                                                                                                                                                                                                                                                                                                                                 eSport: So denken die Stars über die neuen Ratings bei FIFA 21  -Bild.de Das sagen die deutscheneSport FIFA 21: Die neuen Ratings – diese Spieler solltet ihr euch holen *** BILDplus Inhalt ***  -Bild.de  FIFA 21: Fußball-Stars wütend - Spieler meckern über FIFA 21-Rating  -Bild.de Fußball Stars motzen über FIFA   \n",
       "17                                                                                                                                                                                                                                                                                                                                                                                                                                                                                                                                                                                                                       DTM am Nürburgring - Flotte Frauen machen Abts DTM-Stars schnell!  -DTM -Bild.de Flotte Frauen machen Abts DTM MotoGP: Bei Fan-Rückkehr in Misano! Last-Minute-Schock für Rossi  -Bild.de MotoGP Krimi! Last Minute DTM am Nürburging - Alles Müller, oder Rast?  -DTM -Bild.de  DTM am Nürburgring - Audi ist das Mercedes der DTM  -DTM -Bild.de  DTM - Dieser Rennfahrer fährt mit Gottes Segen  -DTM -Bild.de    \n",
       "18                                                                                                                                                                                                                                                                                                                                                                                                                                                                                                                 Lukaschenkos Prügeltruppen: Jetzt schlagen die Frauen von Belarus zurück  -Politik Ausland -Bild.de Besen Diktator pumpt sich 1,2 Milliarden   - Hat Putin Lukaschenko jetzt in der Hand?  -Politik Ausland -Bild.de  Proteste in Weißrussland - Lukaschenko läßt Dutzende Frauen festnehmen  -Politik Ausland -Bild.de  Weissrussland: 150 000 Menschen gegen Lukaschenko auf der Straße  -Politik Ausland -Bild.de  Kolesnikowa stellt Anzeige gegen weißrussische Behörde: Morddrohungen!  -Politik Ausland -Bild.de    \n",
       "\n",
       "                                                                                                                                                                                                                                                                                                                                                                                                                                                                                                                                                                                                                                                                                                                                                                                                                                                                                                                                                                                                                            kicker_headline  \\\n",
       "0   [{'text': 'Freundschaft', 'type': 'OTHER'}, {'text': 'Stärken', 'type': 'OTHER'}, {'text': 'Kumpel-Duell', 'type': 'CONSUMER_GOOD'}, {'text': 'Bilanz', 'type': 'OTHER'}, {'text': 'Zverev', 'type': 'PERSON'}, {'text': 'Thiem', 'type': 'PERSON'}, {'text': 'Anrufbei', 'type': 'PERSON'}, {'text': 'Zverevs', 'type': 'PERSON'}, {'text': 'Finalgegner Thiem', 'type': 'PERSON'}, {'text': 'Andy Murray', 'type': 'PERSON'}, {'text': 'Grand-Slam-Rekord', 'type': 'OTHER'}, {'text': 'fürSerena', 'type': 'ORGANIZATION'}, {'text': 'Williams', 'type': 'PERSON'}, {'text': 'Halbfinal', 'type': 'EVENT'}, {'text': 'Kracher-Aufschlag', 'type': 'OTHER'}, {'text': 'US-Open', 'type': 'EVENT'}, {'text': 'Halbfinale', 'type': 'EVENT'}, {'text': 'Zverev', 'type': 'PERSON'}, {'text': 'Sieger', 'type': 'ORGANIZATION'}, {'text': 'Titel-Traum', 'type': 'LOCATION'}, {'text': 'Zverevs', 'type': 'ORGANIZATION'}, {'text': 'Rede', 'type': 'OTHER'}, {'text': 'Tränen', 'type': 'OTHER'}, {'text': 'Zverev', 'type': 'PERSON...   \n",
       "1   [{'text': 'Waldbrände', 'type': 'EVENT'}, {'text': 'Feuerexperte', 'type': 'PERSON'}, {'text': 'Kalifornien', 'type': 'LOCATION'}, {'text': 'Flammen', 'type': 'OTHER'}, {'text': 'Smog', 'type': 'OTHER'}, {'text': 'zerstörung', 'type': 'OTHER'}, {'text': 'Feuer-Opfer', 'type': 'PERSON'}, {'text': 'US', 'type': 'LOCATION'}, {'text': 'Westküste', 'type': 'LOCATION'}, {'text': '15', 'type': 'NUMBER'}, {'text': 'Waldbrände', 'type': 'EVENT'}, {'text': 'Baby', 'type': 'PERSON'}, {'text': 'Flucht', 'type': 'OTHER'}, {'text': 'Feuer', 'type': 'EVENT'}, {'text': 'Eltern', 'type': 'PERSON'}, {'text': 'Nord-Washington', 'type': 'ORGANIZATION'}, {'text': 'Süd-kalifornien', 'type': 'LOCATION'}, {'text': 'Hölle', 'type': 'LOCATION'}, {'text': 'Plünderungen', 'type': 'OTHER'}, {'text': 'Smog', 'type': 'OTHER'}, {'text': 'Angst', 'type': 'OTHER'}, {'text': 'Westküste', 'type': 'LOCATION'}, {'text': 'Brände', 'type': 'EVENT'}, {'text': 'Kalifornien', 'type': 'LOCATION'}, {'text': '35', 'type': 'NUM...   \n",
       "2   [{'text': 'Kommentar', 'type': 'OTHER'}, {'text': 'Lage', 'type': 'OTHER'}, {'text': 'Hilfe', 'type': 'OTHER'}, {'text': 'Kinder', 'type': 'PERSON'}, {'text': 'Moria', 'type': 'OTHER'}, {'text': 'Moria', 'type': 'PERSON'}, {'text': 'Schande', 'type': 'OTHER'}, {'text': 'Kinder', 'type': 'PERSON'}, {'text': 'Hölle', 'type': 'OTHER'}, {'text': 'Europa', 'type': 'LOCATION'}, {'text': '4000', 'type': 'NUMBER'}, {'text': 'Flüchtlingslager', 'type': 'LOCATION'}, {'text': 'Schande', 'type': 'OTHER'}, {'text': 'Missstände', 'type': 'OTHER'}, {'text': 'Moria', 'type': 'OTHER'}, {'text': 'Protest', 'type': 'OTHER'}, {'text': 'Hunderte', 'type': 'OTHER'}, {'text': 'Flüchtlingen', 'type': 'PERSON'}, {'text': 'Aufnahme', 'type': 'OTHER'}, {'text': 'Leipzig', 'type': 'LOCATION'}, {'text': 'Flüchtlingslager', 'type': 'LOCATION'}, {'text': 'Kinder', 'type': 'PERSON'}, {'text': 'Deutschland', 'type': 'LOCATION'}, {'text': 'Moria', 'type': 'OTHER'}, {'text': '100', 'type': 'NUMBER'}, {'text': '150',...   \n",
       "3   [{'text': 'Ex-Klub', 'type': 'PERSON'}, {'text': 'Vollmer', 'type': 'PERSON'}, {'text': 'Versprechenvon', 'type': 'PERSON'}, {'text': 'Podcast', 'type': 'OTHER'}, {'text': 'Kuhn Show', 'type': 'WORK_OF_ART'}, {'text': 'NFL', 'type': 'ORGANIZATION'}, {'text': 'Bradys', 'type': 'OTHER'}, {'text': 'ein', 'type': 'NUMBER'}, {'text': 'LIVE IM TV UND IM STREAM', 'type': 'WORK_OF_ART'}, {'text': 'Top-Duelledes', 'type': 'CONSUMER_GOOD'}, {'text': 'NFL', 'type': 'ORGANIZATION'}, {'text': 'Spieltags', 'type': 'OTHER'}, {'text': 'Kolumne', 'type': 'PERSON'}, {'text': 'Carsten Spengemann', 'type': 'PERSON'}, {'text': 'NFL', 'type': 'ORGANIZATION'}, {'text': 'Taktik-Bibel', 'type': 'ORGANIZATION'}, {'text': 'Playbook', 'type': 'CONSUMER_GOOD'}, {'text': 'Gold', 'type': 'OTHER'}, {'text': 'Teams', 'type': 'ORGANIZATION'}, {'text': 'NFL', 'type': 'ORGANIZATION'}, {'text': 'Sieg', 'type': 'OTHER'}, {'text': 'Champion', 'type': 'PERSON'}, {'text': 'Auftakt', 'type': 'EVENT'}, {'text': 'Protestakti...   \n",
       "4   [{'text': 'Unfälle', 'type': 'EVENT'}, {'text': 'Autos', 'type': 'CONSUMER_GOOD'}, {'text': 'Todesfalle', 'type': 'OTHER'}, {'text': 'Toter', 'type': 'OTHER'}, {'text': 'Oldtimer', 'type': 'OTHER'}, {'text': 'Sieben Verletzte', 'type': 'PERSON'}, {'text': 'Drei', 'type': 'NUMBER'}, {'text': 'Sieben', 'type': 'NUMBER'}, {'text': 'ein', 'type': 'NUMBER'}, {'text': 'Auto', 'type': 'CONSUMER_GOOD'}, {'text': 'Flammen', 'type': 'OTHER'}, {'text': 'A57', 'type': 'LOCATION'}, {'text': 'BMW', 'type': 'ORGANIZATION'}, {'text': 'Landkreis', 'type': 'LOCATION'}, {'text': 'Fliege', 'type': 'OTHER'}, {'text': 'Diepholz', 'type': 'LOCATION'}, {'text': 'Unfall', 'type': 'EVENT'}, {'text': 'zwei', 'type': 'NUMBER'}, {'text': 'Biker', 'type': 'PERSON'}, {'text': 'Motorrad-Ausfahrt', 'type': 'EVENT'}, {'text': 'Crash', 'type': 'EVENT'}, {'text': 'Biker', 'type': 'PERSON'}, {'text': 'Unfallursache', 'type': 'OTHER'}, {'text': 'Roller', 'type': 'CONSUMER_GOOD'}, {'text': '20-Jähriger', 'type': 'PERSON...   \n",
       "5   [{'text': 'Ferrari', 'type': 'ORGANIZATION'}, {'text': 'Jubiläum', 'type': 'EVENT'}, {'text': 'Mugello Mick', 'type': 'PERSON'}, {'text': 'SchumisRekord', 'type': 'CONSUMER_GOOD'}, {'text': 'Nervenklinik', 'type': 'ORGANIZATION'}, {'text': 'Ernst August', 'type': 'PERSON'}, {'text': 'Gittern', 'type': 'PERSON'}, {'text': 'zwei', 'type': 'NUMBER'}, {'text': 'Vettel', 'type': 'OTHER'}, {'text': 'Milliardär', 'type': 'PERSON'}, {'text': 'Deal', 'type': 'OTHER'}, {'text': 'Aston', 'type': 'LOCATION'}, {'text': 'Martin-Boss Stroll', 'type': 'PERSON'}, {'text': 'Vettel', 'type': 'CONSUMER_GOOD'}, {'text': 'Heim-Rennen', 'type': 'EVENT'}, {'text': 'Grand Prix', 'type': 'ORGANIZATION'}, {'text': 'Ferrari', 'type': 'ORGANIZATION'}, {'text': '1000', 'type': 'NUMBER'}, {'text': '1', 'type': 'NUMBER'}, {'text': 'ein', 'type': 'NUMBER'}, {'text': 'Unfall-Spektakel', 'type': 'OTHER'}, {'text': 'Crashs', 'type': 'CONSUMER_GOOD'}, {'text': 'Mugello', 'type': 'LOCATION'}, {'text': 'Formel 1', 'type...   \n",
       "6   [{'text': 'Reisewarnung', 'type': 'OTHER'}, {'text': 'Risikogebiet', 'type': 'OTHER'}, {'text': 'Land', 'type': 'LOCATION'}, {'text': 'Auswärtigen Amtes Ab', 'type': 'ORGANIZATION'}, {'text': 'ein', 'type': 'NUMBER'}, {'text': 'Reisewarnungen', 'type': 'OTHER'}, {'text': 'Herbsturlaub', 'type': 'EVENT'}, {'text': 'Quarantäne-Verschärfungen', 'type': 'OTHER'}, {'text': 'Lage', 'type': 'OTHER'}, {'text': 'Urlaub', 'type': 'EVENT'}, {'text': 'Herbstferien', 'type': 'OTHER'}, {'text': 'Corona', 'type': 'CONSUMER_GOOD'}, {'text': 'Urlaub', 'type': 'EVENT'}, {'text': 'Reisen', 'type': 'OTHER'}, {'text': '2021', 'type': 'DATE'}, {'text': '2021', 'type': 'NUMBER'}, {'text': 'Video', 'type': 'WORK_OF_ART'}, {'text': 'Ferien-Fragen', 'type': 'OTHER'}, {'text': 'ein', 'type': 'NUMBER'}, {'text': 'Angst', 'type': 'OTHER'}, {'text': 'Fernreise', 'type': 'OTHER'}, {'text': 'Urlaub', 'type': 'EVENT'}, {'text': 'Corona', 'type': 'CONSUMER_GOOD'}, {'text': 'Storno-Zoff', 'type': 'OTHER'}, {'text': ...   \n",
       "7                                                                                                                                                                                                                                                                                                                                                                                                                                                                                                                                                           [{'text': 'Reptil', 'type': 'OTHER'}, {'text': 'Fluss', 'type': 'LOCATION'}, {'text': 'Unstrut-Krokodil', 'type': 'OTHER'}, {'text': 'Experte', 'type': 'PERSON'}, {'text': 'ein', 'type': 'NUMBER'}, {'text': 'Männer', 'type': 'PERSON'}, {'text': 'Reptil', 'type': 'OTHER'}, {'text': 'Patrouille', 'type': 'OTHER'}, {'text': 'Warten', 'type': 'OTHER'}, {'text': 'Kroko', 'type': 'OTHER'}, {'text': 'Unstrut', 'type': 'LOCATION'}, {'text': 'Zwei', 'type': 'NUMBER'}]   \n",
       "8   [{'text': 'Paar', 'type': 'PERSON'}, {'text': 'Kaninchen', 'type': 'OTHER'}, {'text': 'Dackel', 'type': 'OTHER'}, {'text': 'Tierschützer', 'type': 'PERSON'}, {'text': 'Hunde', 'type': 'OTHER'}, {'text': 'Dortmunder', 'type': 'LOCATION'}, {'text': 'Tauben', 'type': 'OTHER'}, {'text': 'Hündin', 'type': 'PERSON'}, {'text': 'Supermarkt', 'type': 'ORGANIZATION'}, {'text': 'Entführerin', 'type': 'PERSON'}, {'text': 'Unfall', 'type': 'EVENT'}, {'text': 'Löwenbaby', 'type': 'OTHER'}, {'text': 'A5', 'type': 'CONSUMER_GOOD'}, {'text': 'Entflogener Hornvogel', 'type': 'CONSUMER_GOOD'}, {'text': 'A7 Zöllner', 'type': 'OTHER'}, {'text': 'Welpen', 'type': 'PERSON'}, {'text': 'Zwergspitz', 'type': 'ORGANIZATION'}, {'text': 'Tierquälerin', 'type': 'PERSON'}, {'text': 'Welpen', 'type': 'PERSON'}, {'text': 'Wohnung', 'type': 'LOCATION'}, {'text': 'Polizei', 'type': 'ORGANIZATION'}, {'text': 'Hunde', 'type': 'OTHER'}, {'text': '31', 'type': 'NUMBER'}, {'text': 'Tierhaltung', 'type': 'OTHER'}, {'text'...   \n",
       "9   [{'text': 'Wende', 'type': 'OTHER'}, {'text': 'Fall', 'type': 'OTHER'}, {'text': 'Nawalny', 'type': 'PERSON'}, {'text': 'Bewusstsein', 'type': 'OTHER'}, {'text': 'Ereignisse', 'type': 'OTHER'}, {'text': 'Flughafen', 'type': 'LOCATION'}, {'text': 'Einbestellt', 'type': 'OTHER'}, {'text': 'Treffen', 'type': 'EVENT'}, {'text': 'Nawalny', 'type': 'PERSON'}, {'text': 'Moskau', 'type': 'LOCATION'}, {'text': 'Berlin', 'type': 'LOCATION'}, {'text': 'FAll', 'type': 'OTHER'}, {'text': 'Gift-Attacke', 'type': 'EVENT'}, {'text': 'Top-Diplomat', 'type': 'PERSON'}, {'text': 'Nawalny Trumps', 'type': 'PERSON'}, {'text': 'Kreml', 'type': 'PERSON'}, {'text': 'Charité', 'type': 'ORGANIZATION'}, {'text': 'Nawalny', 'type': 'PERSON'}, {'text': 'Agenten', 'type': 'PERSON'}, {'text': 'Gift', 'type': 'OTHER'}, {'text': 'Russische', 'type': 'LOCATION'}, {'text': 'Tatort', 'type': 'LOCATION'}, {'text': 'Nawalnysteckte', 'type': 'OTHER'}, {'text': 'Fall', 'type': 'OTHER'}, {'text': 'Theorie', 'type': 'OTHER...   \n",
       "10  [{'text': 'Analyse', 'type': 'OTHER'}, {'text': 'Quatsch', 'type': 'OTHER'}, {'text': 'Versicherung', 'type': 'ORGANIZATION'}, {'text': 'Corona-Schulden', 'type': 'OTHER'}, {'text': 'einem', 'type': 'NUMBER'}, {'text': 'Geld', 'type': 'OTHER'}, {'text': 'Verträge', 'type': 'OTHER'}, {'text': 'Internet', 'type': 'OTHER'}, {'text': 'Leben', 'type': 'OTHER'}, {'text': 'Tipps', 'type': 'OTHER'}, {'text': '50', 'type': 'NUMBER'}, {'text': 'ein', 'type': 'NUMBER'}, {'text': 'Wirtschaft', 'type': 'OTHER'}, {'text': 'Steuererhöhungen', 'type': 'OTHER'}, {'text': 'Gift', 'type': 'OTHER'}, {'text': 'Corona-Krise', 'type': 'EVENT'}, {'text': 'OMA', 'type': 'ORGANIZATION'}, {'text': 'etwas', 'type': 'OTHER'}, {'text': 'Geduld', 'type': 'OTHER'}, {'text': 'BEATE SANDER', 'type': 'PERSON'}, {'text': '10 000 Euro', 'type': 'PRICE'}, {'text': '99 000 Euro', 'type': 'PRICE'}, {'text': '10 000', 'type': 'NUMBER'}, {'text': '99 000', 'type': 'NUMBER'}, {'text': 'Golf', 'type': 'CONSUMER_GOOD'}, {'tex...   \n",
       "11  [{'text': 'Schock-Diagnose Pfeiffersches Drüsenfieber', 'type': 'OTHER'}, {'text': 'Pause', 'type': 'OTHER'}, {'text': 'Iyoha', 'type': 'OTHER'}, {'text': 'Trainer', 'type': 'PERSON'}, {'text': 'Goldhändchen', 'type': 'OTHER'}, {'text': 'Pokal-Sieg', 'type': 'EVENT'}, {'text': 'Rösler', 'type': 'PERSON'}, {'text': 'ein', 'type': 'NUMBER'}, {'text': 'Vertrauens-Verlust', 'type': 'OTHER'}, {'text': 'Müller-Rensmann', 'type': 'PERSON'}, {'text': 'Doc', 'type': 'ORGANIZATION'}, {'text': 'Preußen', 'type': 'ORGANIZATION'}, {'text': 'Sonderlob', 'type': 'OTHER'}, {'text': 'Trainer', 'type': 'PERSON'}, {'text': 'Strippen', 'type': 'OTHER'}, {'text': 'Krieger', 'type': 'PERSON'}, {'text': 'Sobottka', 'type': 'PERSON'}, {'text': 'Comeback', 'type': 'OTHER'}, {'text': 'Platz', 'type': 'OTHER'}, {'text': 'Corona Kownacki', 'type': 'PERSON'}, {'text': 'Kastenmeier', 'type': 'PERSON'}, {'text': 'Wolf bekommtdie Nr. 1', 'type': 'WORK_OF_ART'}, {'text': '1', 'type': 'NUMBER'}, {'text': 'Sturm', '...   \n",
       "12  [{'text': 'Ergebnisse', 'type': 'OTHER'}, {'text': 'Stadt', 'type': 'LOCATION'}, {'text': 'Garmisch-Partenkirchen', 'type': 'LOCATION'}, {'text': 'Corona', 'type': 'CONSUMER_GOOD'}, {'text': 'Eine', 'type': 'NUMBER'}, {'text': 'Corona-Fälle', 'type': 'OTHER'}, {'text': 'Bars', 'type': 'OTHER'}, {'text': 'Superspreaderin', 'type': 'PERSON'}, {'text': 'Garmisch-Partenkirchen', 'type': 'LOCATION'}, {'text': '33', 'type': 'NUMBER'}, {'text': '26', 'type': 'NUMBER'}, {'text': '50-Personen-Marke', 'type': 'OTHER'}, {'text': 'Maßnahmen', 'type': 'OTHER'}, {'text': 'Garmisch', 'type': 'LOCATION'}, {'text': 'Corona', 'type': 'CONSUMER_GOOD'}, {'text': '50', 'type': 'NUMBER'}, {'text': 'Party', 'type': 'EVENT'}, {'text': 'Quarantäne', 'type': 'OTHER'}, {'text': 'Superspreaderin', 'type': 'PERSON'}, {'text': 'Halsweh', 'type': 'OTHER'}, {'text': 'Garmisch-Partenkirchen', 'type': 'LOCATION'}, {'text': 'Alarm', 'type': 'OTHER'}, {'text': 'Haftstrafe', 'type': 'OTHER'}, {'text': 'Anwalt', 'type'...   \n",
       "13                                                                                                   [{'text': 'Verdacht', 'type': 'OTHER'}, {'text': 'Brandenburg', 'type': 'LOCATION'}, {'text': 'Afrikanische Schweinepest', 'type': 'PERSON'}, {'text': 'Schweinepest', 'type': 'OTHER'}, {'text': 'ABC', 'type': 'OTHER'}, {'text': 'Verbraucherpreise', 'type': 'OTHER'}, {'text': 'Exportstopp', 'type': 'OTHER'}, {'text': 'China', 'type': 'LOCATION'}, {'text': 'Menschen', 'type': 'PERSON'}, {'text': 'Tiere', 'type': 'OTHER'}, {'text': 'Afrikanische Schweinepest', 'type': 'PERSON'}, {'text': 'Wirtschaft', 'type': 'OTHER'}, {'text': 'Wildschwein', 'type': 'OTHER'}, {'text': 'Kadaver', 'type': 'PERSON'}, {'text': 'Schweinepest', 'type': 'OTHER'}, {'text': 'Verdacht', 'type': 'OTHER'}, {'text': 'Brandenburg', 'type': 'LOCATION'}, {'text': 'Schweinepest', 'type': 'OTHER'}, {'text': 'Schweinefleisch', 'type': 'CONSUMER_GOOD'}, {'text': 'Import', 'type': 'OTHER'}, {'text': 'China', 'type': 'LOCATION'}]   \n",
       "14  [{'text': 'Reality-Show', 'type': 'WORK_OF_ART'}, {'text': 'Clan', 'type': 'OTHER'}, {'text': 'derKardashian', 'type': 'CONSUMER_GOOD'}, {'text': '14', 'type': 'NUMBER'}, {'text': 'Wrestler', 'type': 'PERSON'}, {'text': 'Psycho-Zwerg', 'type': 'WORK_OF_ART'}, {'text': 'Stevie Lee', 'type': 'PERSON'}, {'text': '54', 'type': 'NUMBER'}, {'text': 'Vorgeschichte', 'type': 'OTHER'}, {'text': 'Kultfilm', 'type': 'WORK_OF_ART'}, {'text': 'Serie', 'type': 'WORK_OF_ART'}, {'text': 'Besetzung', 'type': 'OTHER'}, {'text': 'Queere Mega', 'type': 'CONSUMER_GOOD'}, {'text': 'Netflix', 'type': 'ORGANIZATION'}, {'text': 'Will Smith Hollywood-König', 'type': 'PERSON'}, {'text': 'Familie', 'type': 'PERSON'}, {'text': 'Prinzen', 'type': 'PERSON'}, {'text': 'Fürst', 'type': 'PERSON'}, {'text': 'SCHAUMhochzeit', 'type': 'PERSON'}, {'text': 'Pianistin', 'type': 'PERSON'}, {'text': 'Schloss Bückeburg', 'type': 'LOCATION'}, {'text': 'Promis', 'type': 'PERSON'}, {'text': 'Blumen', 'type': 'OTHER'}, {'text':...   \n",
       "15  [{'text': 'Zoff', 'type': 'OTHER'}, {'text': 'Züngel', 'type': 'OTHER'}, {'text': 'Sex-Proll', 'type': 'PERSON'}, {'text': 'Henrik', 'type': 'PERSON'}, {'text': 'Love Island', 'type': 'ORGANIZATION'}, {'text': 'Aufnahmen', 'type': 'OTHER'}, {'text': 'Sex', 'type': 'OTHER'}, {'text': 'Love Island', 'type': 'WORK_OF_ART'}, {'text': 'Politiker-Enkel', 'type': 'PERSON'}, {'text': 'Sex', 'type': 'OTHER'}, {'text': 'Politiker-Enkel', 'type': 'PERSON'}, {'text': 'Love Island', 'type': 'WORK_OF_ART'}, {'text': 'Proll', 'type': 'OTHER'}, {'text': 'Mega-Zoff', 'type': 'OTHER'}, {'text': 'Penis-Protz Hendrik', 'type': 'OTHER'}, {'text': 'Love ISLAND', 'type': 'ORGANIZATION'}, {'text': 'Luca', 'type': 'LOCATION'}, {'text': 'Festspiele der Reality Stars', 'type': 'EVENT'}, {'text': 'Micaela', 'type': 'PERSON'}, {'text': 'Gerhard Schröder', 'type': 'PERSON'}, {'text': '36', 'type': 'NUMBER'}, {'text': '76', 'type': 'NUMBER'}, {'text': 'Star', 'type': 'PERSON'}, {'text': 'Love Island', 'type': 'O...   \n",
       "16                                                                                                                                                                                                                                                                                                                                                                                                                                                                                                                                                                          [{'text': 'Thiago', 'type': 'PERSON'}, {'text': 'Ratings', 'type': 'OTHER'}, {'text': 'Gnabry', 'type': 'PERSON'}, {'text': 'deutscheneSport-Stars', 'type': 'PERSON'}, {'text': 'Ratings', 'type': 'OTHER'}, {'text': 'Spieler', 'type': 'PERSON'}, {'text': 'FIFA', 'type': 'ORGANIZATION'}, {'text': '21', 'type': 'NUMBER'}, {'text': 'Wertungen', 'type': 'OTHER'}, {'text': 'Fußball-Stars', 'type': 'PERSON'}, {'text': 'FIFA', 'type': 'ORGANIZATION'}]   \n",
       "17  [{'text': 'Nürburgring', 'type': 'LOCATION'}, {'text': 'Flotte', 'type': 'OTHER'}, {'text': 'DTM', 'type': 'ORGANIZATION'}, {'text': 'Frauen', 'type': 'PERSON'}, {'text': 'Stars', 'type': 'PERSON'}, {'text': 'Abts DTM', 'type': 'ORGANIZATION'}, {'text': 'Fan-Rückkehr', 'type': 'EVENT'}, {'text': 'Krimi', 'type': 'WORK_OF_ART'}, {'text': 'Last-Minute-Schock', 'type': 'OTHER'}, {'text': 'Misano', 'type': 'LOCATION'}, {'text': 'MotoGP', 'type': 'ORGANIZATION'}, {'text': 'Rossi', 'type': 'PERSON'}, {'text': 'Nürburging', 'type': 'LOCATION'}, {'text': 'Alles', 'type': 'OTHER'}, {'text': 'Rast', 'type': 'OTHER'}, {'text': 'DTM', 'type': 'ORGANIZATION'}, {'text': 'Müller', 'type': 'PERSON'}, {'text': 'Nürburgring', 'type': 'LOCATION'}, {'text': 'DTM', 'type': 'ORGANIZATION'}, {'text': 'Mercedes', 'type': 'ORGANIZATION'}, {'text': 'Audi', 'type': 'ORGANIZATION'}, {'text': 'DTM', 'type': 'ORGANIZATION'}, {'text': 'Rennfahrer', 'type': 'PERSON'}, {'text': 'Segen', 'type': 'OTHER'}, {'text': ...   \n",
       "18                                                                                                            [{'text': 'Demonstranten', 'type': 'PERSON'}, {'text': 'Prügeltruppen', 'type': 'OTHER'}, {'text': 'Besen-Oma', 'type': 'PERSON'}, {'text': 'Lukaschenkos', 'type': 'PERSON'}, {'text': 'Diktator', 'type': 'PERSON'}, {'text': 'Hand', 'type': 'OTHER'}, {'text': 'Putin Lukaschenko', 'type': 'PERSON'}, {'text': '1,2 Milliarden', 'type': 'NUMBER'}, {'text': 'Proteste', 'type': 'OTHER'}, {'text': 'Frauen', 'type': 'PERSON'}, {'text': 'Weißrussland', 'type': 'LOCATION'}, {'text': 'Lukaschenko', 'type': 'PERSON'}, {'text': 'Proteste', 'type': 'OTHER'}, {'text': 'Straße', 'type': 'LOCATION'}, {'text': 'Menschen', 'type': 'PERSON'}, {'text': 'Weissrussland', 'type': 'LOCATION'}, {'text': 'Lukaschenko', 'type': 'PERSON'}, {'text': '150 000', 'type': 'NUMBER'}, {'text': 'Anzeige', 'type': 'OTHER'}, {'text': 'Morddrohungen', 'type': 'OTHER'}, {'text': 'KGB Kolesnikowa', 'type': 'ORGANIZATION'}]   \n",
       "\n",
       "                                                                                                                                                                                                                                                                                                                                                                                                                                                                                                                                                                                                                                                                                                                                                                                                                                                                                                                                                                                                                                    text_ne  \n",
       "0   [{'text': 'Finale', 'type': 'EVENT'}, {'text': 'Jagd', 'type': 'OTHER'}, {'text': 'Titel-Premiere', 'type': 'EVENT'}, {'text': 'Grand-Slam-Titel', 'type': 'EVENT'}, {'text': 'Dominic Thiem', 'type': 'PERSON'}, {'text': 'Tennis-Stars', 'type': 'PERSON'}, {'text': 'Endspiel', 'type': 'EVENT'}, {'text': 'US Open', 'type': 'ORGANIZATION'}, {'text': 'Zverev', 'type': 'PERSON'}, {'text': 'Rivalität', 'type': 'OTHER'}, {'text': 'Freundschaft', 'type': 'OTHER'}, {'text': 'Österreicher', 'type': 'PERSON'}, {'text': 'Eurosport', 'type': 'ORGANIZATION'}, {'text': 'Schritt', 'type': 'OTHER'}, {'text': 'Alexander ``Sascha', 'type': 'PERSON'}, {'text': 'Duell', 'type': 'EVENT'}, {'text': 'Halbfinale', 'type': 'EVENT'}, {'text': 'Wege', 'type': 'OTHER'}, {'text': 'Zverev', 'type': 'PERSON'}, {'text': 'Duell', 'type': 'EVENT'}, {'text': 'Finalisten', 'type': 'PERSON'}, {'text': 'Live-Ticker', 'type': 'OTHER'}, {'text': 'Australian Open', 'type': 'ORGANIZATION'}, {'text': 'Kumpel', 'type': 'PERSON'...  \n",
       "1   [{'text': 'Teile', 'type': 'OTHER'}, {'text': 'Westküste', 'type': 'LOCATION'}, {'text': 'Flammen', 'type': 'OTHER'}, {'text': 'Menschen', 'type': 'PERSON'}, {'text': 'Schutz', 'type': 'OTHER'}, {'text': 'Feuer', 'type': 'EVENT'}, {'text': 'US', 'type': 'LOCATION'}, {'text': 'Waldbrand', 'type': 'EVENT'}, {'text': 'Gebiete', 'type': 'LOCATION'}, {'text': 'Feuer', 'type': 'OTHER'}, {'text': 'Feuerwetter', 'type': 'OTHER'}, {'text': 'Feuerökosystem', 'type': 'CONSUMER_GOOD'}, {'text': 'Experte', 'type': 'PERSON'}, {'text': 'Brände', 'type': 'EVENT'}, {'text': 'Brände', 'type': 'OTHER'}, {'text': 'Wetterbedingungen', 'type': 'OTHER'}, {'text': 'Alexander Held', 'type': 'PERSON'}, {'text': 'Menschen', 'type': 'PERSON'}, {'text': 'Erde', 'type': 'LOCATION'}, {'text': 'Feuer', 'type': 'OTHER'}, {'text': 'Vorsorge', 'type': 'OTHER'}, {'text': 'Aufklärung', 'type': 'OTHER'}, {'text': 'Brennen', 'type': 'OTHER'}, {'text': 'Held', 'type': 'PERSON'}, {'text': 'Bedingungen', 'type': 'OTHER'}, ...  \n",
       "2   [{'text': 'Flüchtlingslager', 'type': 'LOCATION'}, {'text': 'Feuerkatastrophe', 'type': 'EVENT'}, {'text': 'Verzweifelten', 'type': 'OTHER'}, {'text': 'Augen', 'type': 'OTHER'}, {'text': 'Gutes', 'type': 'OTHER'}, {'text': 'Kameras', 'type': 'OTHER'}, {'text': 'Hoffnungslosen', 'type': 'OTHER'}, {'text': 'Weltöffentlichkeit', 'type': 'OTHER'}, {'text': 'Flammen', 'type': 'OTHER'}, {'text': 'Kindern', 'type': 'PERSON'}, {'text': 'Moria', 'type': 'OTHER'}, {'text': 'Familien', 'type': 'PERSON'}, {'text': 'Umständen', 'type': 'OTHER'}, {'text': 'Lesbos', 'type': 'LOCATION'}, {'text': 'Staats-', 'type': 'OTHER'}, {'text': 'Alle', 'type': 'PERSON'}, {'text': 'Regierung', 'type': 'ORGANIZATION'}, {'text': 'Kinder', 'type': 'PERSON'}, {'text': 'Regierungschefs', 'type': 'PERSON'}, {'text': 'Moria', 'type': 'OTHER'}, {'text': 'Kindern', 'type': 'PERSON'}, {'text': 'allem', 'type': 'OTHER'}, {'text': 'Macron', 'type': 'PERSON'}, {'text': 'Aktion', 'type': 'EVENT'}, {'text': 'Ländern', 'type...  \n",
       "3   [{'text': 'Podcast', 'type': 'OTHER'}, {'text': 'Ei', 'type': 'CONSUMER_GOOD'}, {'text': 'Vollmer', 'type': 'PERSON'}, {'text': 'Kuhn Show', 'type': 'WORK_OF_ART'}, {'text': 'NFL', 'type': 'ORGANIZATION'}, {'text': 'Super-Bowl-Champion', 'type': 'PERSON'}, {'text': 'Ex-NFL-Profis', 'type': 'PERSON'}, {'text': 'Touchdown', 'type': 'OTHER'}, {'text': 'Deutscher', 'type': 'PERSON'}, {'text': 'Podcast', 'type': 'OTHER'}, {'text': 'deutschen', 'type': 'LOCATION'}, {'text': 'Podcast', 'type': 'OTHER'}, {'text': 'Themen', 'type': 'OTHER'}, {'text': 'Milliarden-Liga', 'type': 'ORGANIZATION'}, {'text': 'Sebastian Vollmer', 'type': 'PERSON'}, {'text': 'Markus Kuhn', 'type': 'PERSON'}, {'text': 'Folge', 'type': 'OTHER'}, {'text': 'Show', 'type': 'WORK_OF_ART'}, {'text': 'Chancen', 'type': 'OTHER'}, {'text': 'Show', 'type': 'EVENT'}, {'text': '53-Mann-Kader', 'type': 'ORGANIZATION'}, {'text': 'Teams', 'type': 'ORGANIZATION'}, {'text': 'Patriots', 'type': 'OTHER'}, {'text': 'Folge', 'type': 'OT...  \n",
       "4   [{'text': 'Oldtimer', 'type': 'OTHER'}, {'text': 'Wolke', 'type': 'OTHER'}, {'text': 'Himmel', 'type': 'OTHER'}, {'text': 'Ideale', 'type': 'OTHER'}, {'text': 'Bedingungen', 'type': 'OTHER'}, {'text': 'Spritztour', 'type': 'EVENT'}, {'text': 'Ausfahrten', 'type': 'EVENT'}, {'text': 'Crashs', 'type': 'OTHER'}, {'text': 'Stuttgart', 'type': 'LOCATION'}, {'text': 'Fahrerin', 'type': 'PERSON'}, {'text': 'Mann', 'type': 'PERSON'}, {'text': 'Kontrolle', 'type': 'OTHER'}, {'text': 'Cabrio', 'type': 'CONSUMER_GOOD'}, {'text': 'Fahrer', 'type': 'PERSON'}, {'text': 'Baden-Württemberg', 'type': 'LOCATION'}, {'text': 'Ausflug', 'type': 'EVENT'}, {'text': 'Mercedes', 'type': 'ORGANIZATION'}, {'text': 'Beifahrerin', 'type': 'PERSON'}, {'text': 'Familienvater', 'type': 'PERSON'}, {'text': 'Fahrerin', 'type': 'PERSON'}, {'text': 'L 1096', 'type': 'CONSUMER_GOOD'}, {'text': 'Bad Friedrichshall', 'type': 'LOCATION'}, {'text': 'Fahrer', 'type': 'PERSON'}, {'text': 'Oldtimer', 'type': 'CONSUMER_GOOD'}...  \n",
       "5   [{'text': 'Gänsehaut', 'type': 'OTHER'}, {'text': 'Ferrari', 'type': 'ORGANIZATION'}, {'text': 'Formel 1', 'type': 'ORGANIZATION'}, {'text': 'Besonderes', 'type': 'OTHER'}, {'text': 'Scuderia', 'type': 'ORGANIZATION'}, {'text': 'etwas', 'type': 'OTHER'}, {'text': 'Vaters', 'type': 'PERSON'}, {'text': 'Demo-Runden', 'type': 'EVENT'}, {'text': 'Ferrari', 'type': 'ORGANIZATION'}, {'text': 'Boliden', 'type': 'CONSUMER_GOOD'}, {'text': 'Junior', 'type': 'PERSON'}, {'text': 'Mugello', 'type': 'LOCATION'}, {'text': 'Pilot', 'type': 'PERSON'}, {'text': 'Titel', 'type': 'OTHER'}, {'text': 'Steuer', 'type': 'OTHER'}, {'text': 'Mick Schumacher', 'type': 'PERSON'}, {'text': 'F2004', 'type': 'CONSUMER_GOOD'}, {'text': 'Kurs', 'type': 'OTHER'}, {'text': 'Michael', 'type': 'PERSON'}, {'text': 'Rennen', 'type': 'EVENT'}, {'text': 'Demo-Runden', 'type': 'EVENT'}, {'text': 'Schumi', 'type': 'OTHER'}, {'text': 'F2004', 'type': 'OTHER'}, {'text': 'Auto', 'type': 'CONSUMER_GOOD'}, {'text': 'Königsklass...  \n",
       "6   [{'text': 'Amt', 'type': 'ORGANIZATION'}, {'text': 'Bevölkerung', 'type': 'PERSON'}, {'text': 'Reisen', 'type': 'OTHER'}, {'text': 'Staaten', 'type': 'LOCATION'}, {'text': 'Infektionszahlen', 'type': 'OTHER'}, {'text': 'Regionen', 'type': 'LOCATION'}, {'text': 'Urlaubsländern', 'type': 'LOCATION'}, {'text': 'Liste', 'type': 'OTHER'}, {'text': 'Risikogebiete', 'type': 'LOCATION'}, {'text': 'EU', 'type': 'ORGANIZATION'}, {'text': 'Europas', 'type': 'LOCATION'}, {'text': 'Warnung', 'type': 'OTHER'}, {'text': 'Region', 'type': 'LOCATION'}, {'text': 'Spanien', 'type': 'LOCATION'}, {'text': 'Portugal', 'type': 'LOCATION'}, {'text': 'Frankreich', 'type': 'LOCATION'}, {'text': 'Bundesregierung', 'type': 'ORGANIZATION'}, {'text': 'Risikogebiet', 'type': 'OTHER'}, {'text': 'Risikogebiete', 'type': 'LOCATION'}, {'text': 'Kriterien', 'type': 'OTHER'}, {'text': 'Urlaubsland', 'type': 'LOCATION'}, {'text': 'Liste', 'type': 'OTHER'}, {'text': 'Amt', 'type': 'ORGANIZATION'}, {'text': 'Land', 'type...  \n",
       "7   [{'text': 'Unstrut-Ungetüm', 'type': 'OTHER'}, {'text': 'Krokodil-Experte', 'type': 'PERSON'}, {'text': 'Uferbegehung', 'type': 'EVENT'}, {'text': 'Empfehlung', 'type': 'OTHER'}, {'text': 'Sondershausen', 'type': 'LOCATION'}, {'text': 'Zoos', 'type': 'OTHER'}, {'text': 'Video-Aufnahme', 'type': 'OTHER'}, {'text': 'Ufer', 'type': 'LOCATION'}, {'text': 'Landratsamt', 'type': 'ORGANIZATION'}, {'text': 'Feuerwehr', 'type': 'ORGANIZATION'}, {'text': 'Spuren', 'type': 'OTHER'}, {'text': 'Flusses', 'type': 'OTHER'}, {'text': 'Krokos', 'type': 'CONSUMER_GOOD'}, {'text': 'Landratsamt', 'type': 'ORGANIZATION'}, {'text': 'Futterfalle', 'type': 'CONSUMER_GOOD'}, {'text': 'Ufer', 'type': 'LOCATION'}, {'text': 'Leipzig', 'type': 'LOCATION'}, {'text': 'Erfurt', 'type': 'LOCATION'}, {'text': 'Krokodil', 'type': 'OTHER'}, {'text': 'Uferbereiche', 'type': 'OTHER'}, {'text': 'Landratsamt', 'type': 'ORGANIZATION'}, {'text': 'Existenz', 'type': 'OTHER'}, {'text': 'Reptils', 'type': 'OTHER'}, {'text': '...  \n",
       "8   [{'text': 'Tierschützer', 'type': 'PERSON'}, {'text': 'Hilfs-Aktion', 'type': 'EVENT'}, {'text': 'Leben', 'type': 'OTHER'}, {'text': 'Hunde', 'type': 'OTHER'}, {'text': 'Tauben', 'type': 'OTHER'}, {'text': 'Kaninchen', 'type': 'OTHER'}, {'text': 'Haus', 'type': 'LOCATION'}, {'text': 'Missstände', 'type': 'OTHER'}, {'text': 'Dortmund', 'type': 'LOCATION'}, {'text': 'Tiere', 'type': 'OTHER'}, {'text': 'Alarm', 'type': 'OTHER'}, {'text': 'Spaziergänger', 'type': 'PERSON'}, {'text': 'Verein', 'type': 'ORGANIZATION'}, {'text': 'Besitzern', 'type': 'PERSON'}, {'text': 'Hof', 'type': 'LOCATION'}, {'text': 'Dackel', 'type': 'OTHER'}, {'text': 'Tierschützerin', 'type': 'PERSON'}, {'text': 'Körper', 'type': 'OTHER'}, {'text': 'Tauben', 'type': 'OTHER'}, {'text': 'Kaninchen', 'type': 'OTHER'}, {'text': 'Hündin', 'type': 'PERSON'}, {'text': 'Hilfe', 'type': 'OTHER'}, {'text': 'Arche90 e.V.', 'type': 'OTHER'}, {'text': 'Klinik', 'type': 'ORGANIZATION'}, {'text': 'Rauhaardackel', 'type': 'OTHER'...  \n",
       "9   [{'text': 'Entwicklung', 'type': 'OTHER'}, {'text': 'Fall', 'type': 'OTHER'}, {'text': 'Kritiker', 'type': 'PERSON'}, {'text': 'Nawalny', 'type': 'PERSON'}, {'text': 'Medienberichten', 'type': 'WORK_OF_ART'}, {'text': 'Bewusstsein', 'type': 'OTHER'}, {'text': 'Ereignisse', 'type': 'OTHER'}, {'text': 'Flughafen', 'type': 'LOCATION'}, {'text': 'Besucher', 'type': 'PERSON'}, {'text': 'Kreml', 'type': 'LOCATION'}, {'text': 'Ehefrau', 'type': 'PERSON'}, {'text': 'Ärzte', 'type': 'PERSON'}, {'text': 'Schutzmaßnahmen', 'type': 'OTHER'}, {'text': 'Spiegel', 'type': 'ORGANIZATION'}, {'text': 'Gesundheitszustand', 'type': 'OTHER'}, {'text': 'Folge', 'type': 'OTHER'}, {'text': 'Anzahl', 'type': 'OTHER'}, {'text': 'Beamten', 'type': 'PERSON'}, {'text': 'Kontrolldichte', 'type': 'OTHER'}, {'text': 'Polizei', 'type': 'ORGANIZATION'}, {'text': 'Nawalnys', 'type': 'OTHER'}, {'text': 'Objektschutz-', 'type': 'OTHER'}, {'text': 'Attentatsversuchen', 'type': 'EVENT'}, {'text': 'Recherchen', 'type': '...  \n",
       "10  [{'text': 'Kurzarbeit', 'type': 'OTHER'}, {'text': 'Arbeitslosigkeit', 'type': 'OTHER'}, {'text': 'Angst', 'type': 'OTHER'}, {'text': 'Finanzen', 'type': 'OTHER'}, {'text': 'Corona-Krise', 'type': 'EVENT'}, {'text': 'Versicherungen', 'type': 'OTHER'}, {'text': 'Kostenblock', 'type': 'OTHER'}, {'text': 'Versicherungs-Analyse', 'type': 'OTHER'}, {'text': 'Ein', 'type': 'NUMBER'}, {'text': 'Bundesländer', 'type': 'LOCATION'}, {'text': 'Kredite', 'type': 'OTHER'}, {'text': 'Folgen', 'type': 'OTHER'}, {'text': 'Corona-Krise', 'type': 'EVENT'}, {'text': 'Schulden', 'type': 'OTHER'}, {'text': 'einen', 'type': 'OTHER'}, {'text': 'Kreditsumme', 'type': 'OTHER'}, {'text': 'Geld', 'type': 'OTHER'}, {'text': 'Bundesland', 'type': 'LOCATION'}, {'text': 'viel', 'type': 'OTHER'}, {'text': 'Zahlen', 'type': 'OTHER'}, {'text': 'Verhältnis', 'type': 'OTHER'}, {'text': 'Wirtschaftskraft', 'type': 'OTHER'}, {'text': '110 Milliarden Euro', 'type': 'PRICE'}, {'text': '16', 'type': 'NUMBER'}, {'text': '1...  \n",
       "11  [{'text': 'Trainingsplatz', 'type': 'OTHER'}, {'text': 'Profi', 'type': 'PERSON'}, {'text': 'Laufeinheit', 'type': 'OTHER'}, {'text': 'Emmanuel Iyoha', 'type': 'OTHER'}, {'text': 'Fortuna', 'type': 'ORGANIZATION'}, {'text': 'Hammer', 'type': 'OTHER'}, {'text': 'Pfeiffersches Drüsenfieber', 'type': 'OTHER'}, {'text': 'Trainer', 'type': 'PERSON'}, {'text': 'Pause', 'type': 'OTHER'}, {'text': 'Schock-Diagnose', 'type': 'OTHER'}, {'text': 'Vereinsarzt', 'type': 'PERSON'}, {'text': 'Abteilung', 'type': 'ORGANIZATION'}, {'text': 'Maßnahmen', 'type': 'OTHER'}, {'text': 'Düsseldorfs', 'type': 'PERSON'}, {'text': 'Schonung', 'type': 'OTHER'}, {'text': 'Probleme', 'type': 'OTHER'}, {'text': 'Kerl', 'type': 'PERSON'}, {'text': 'Düsseldorf', 'type': 'LOCATION'}, {'text': 'Prognose', 'type': 'OTHER'}, {'text': 'Uwe Rösler', 'type': 'PERSON'}, {'text': 'Dr. Ulf Becker', 'type': 'PERSON'}, {'text': 'Arbeit', 'type': 'OTHER'}, {'text': 'niemand', 'type': 'PERSON'}, {'text': 'Verläufe', 'type': 'OT...  \n",
       "12  [{'text': 'Teststation', 'type': 'OTHER'}, {'text': 'Menschen', 'type': 'PERSON'}, {'text': 'Testergebnis', 'type': 'OTHER'}, {'text': 'Frau', 'type': 'PERSON'}, {'text': 'Abstriche', 'type': 'OTHER'}, {'text': 'Ergebnissen', 'type': 'OTHER'}, {'text': 'Bars', 'type': 'OTHER'}, {'text': 'Garmisch-Partenkirchen', 'type': 'LOCATION'}, {'text': 'Grund', 'type': 'OTHER'}, {'text': 'Urlaub', 'type': 'EVENT'}, {'text': 'Corona', 'type': 'CONSUMER_GOOD'}, {'text': 'Teststation', 'type': 'EVENT'}, {'text': 'Symptome', 'type': 'OTHER'}, {'text': 'Stadt', 'type': 'LOCATION'}, {'text': 'Landratsamts', 'type': 'ORGANIZATION'}, {'text': 'Symptome', 'type': 'OTHER'}, {'text': 'Sprecher', 'type': 'PERSON'}, {'text': 'Dame', 'type': 'PERSON'}, {'text': 'Quarantäne', 'type': 'OTHER'}, {'text': 'Griechenland', 'type': 'LOCATION'}, {'text': 'Frau', 'type': 'PERSON'}, {'text': 'Symptomen', 'type': 'OTHER'}, {'text': 'Bars', 'type': 'OTHER'}, {'text': 'Stephan Scharf', 'type': 'PERSON'}, {'text': 'Reis...  \n",
       "13  [{'text': 'Verdachtsfall', 'type': 'OTHER'}, {'text': 'Schweinepest', 'type': 'PERSON'}, {'text': 'Verdacht', 'type': 'OTHER'}, {'text': 'Landeslabor', 'type': 'ORGANIZATION'}, {'text': 'Brandenburg', 'type': 'LOCATION'}, {'text': 'Afrikanischen', 'type': 'LOCATION'}, {'text': 'Grenze', 'type': 'LOCATION'}, {'text': 'Berlin-Brandenburg', 'type': 'LOCATION'}, {'text': 'Wildschwein-Kadaver', 'type': 'PERSON'}, {'text': 'Bundesministerium für Ernährung und Landwirtschaft', 'type': 'ORGANIZATION'}, {'text': 'deutsch', 'type': 'OTHER'}, {'text': 'Spree-Neiße-Kreis', 'type': 'LOCATION'}, {'text': 'einen', 'type': 'NUMBER'}, {'text': 'einem', 'type': 'NUMBER'}, {'text': 'Schweinepest', 'type': 'PERSON'}, {'text': 'Schweinehalter', 'type': 'PERSON'}, {'text': 'Jäger', 'type': 'PERSON'}, {'text': 'Politiker', 'type': 'PERSON'}, {'text': 'Fall', 'type': 'OTHER'}, {'text': 'Seuche', 'type': 'OTHER'}, {'text': 'Viruserkrankung', 'type': 'OTHER'}, {'text': 'ASP', 'type': 'ORGANIZATION'}, {'text...  \n",
       "14  [{'text': 'Reality-Shows', 'type': 'WORK_OF_ART'}, {'text': 'Liebesglück', 'type': 'OTHER'}, {'text': 'Trennungsschmerz', 'type': 'OTHER'}, {'text': 'Zoff', 'type': 'OTHER'}, {'text': 'Lichter', 'type': 'PERSON'}, {'text': 'Mutter', 'type': 'PERSON'}, {'text': 'Staffel', 'type': 'WORK_OF_ART'}, {'text': 'Geld', 'type': 'OTHER'}, {'text': 'Folge', 'type': 'OTHER'}, {'text': 'Folge', 'type': 'OTHER'}, {'text': 'Keeping Up With The Kardashians', 'type': 'WORK_OF_ART'}, {'text': 'Produkten', 'type': 'CONSUMER_GOOD'}, {'text': 'Kardashian-Jenner-Clan', 'type': 'OTHER'}, {'text': 'Vermögen', 'type': 'OTHER'}, {'text': 'Models', 'type': 'PERSON'}, {'text': 'Kosmetik', 'type': 'OTHER'}, {'text': 'Kim Kardashian', 'type': 'PERSON'}, {'text': 'Clan-Chefin', 'type': 'PERSON'}, {'text': 'Familienmitglieder', 'type': 'PERSON'}, {'text': 'Milliardärin', 'type': 'PERSON'}, {'text': 'Familie', 'type': 'PERSON'}, {'text': 'Schock', 'type': 'OTHER'}, {'text': 'Fans', 'type': 'PERSON'}, {'text': 'Rea...  \n",
       "15  [{'text': 'Zunge', 'type': 'OTHER'}, {'text': 'jemand', 'type': 'PERSON'}, {'text': 'Zaum', 'type': 'OTHER'}, {'text': 'Kuss-Challenge', 'type': 'ORGANIZATION'}, {'text': 'Zoff', 'type': 'OTHER'}, {'text': 'Menge', 'type': 'OTHER'}, {'text': 'Zunge', 'type': 'OTHER'}, {'text': 'Insel-Freundin', 'type': 'PERSON'}, {'text': 'Sex-Proll', 'type': 'PERSON'}, {'text': 'Frankfurterin', 'type': 'PERSON'}, {'text': 'Politiker-Enkel', 'type': 'PERSON'}, {'text': 'Kuppel-Show', 'type': 'EVENT'}, {'text': 'RTL2', 'type': 'ORGANIZATION'}, {'text': 'Aurelia', 'type': 'PERSON'}, {'text': 'einiges', 'type': 'OTHER'}, {'text': 'Love Island', 'type': 'ORGANIZATION'}, {'text': 'Purzelbäume', 'type': 'OTHER'}, {'text': 'Hormone', 'type': 'CONSUMER_GOOD'}, {'text': 'Frauen', 'type': 'PERSON'}, {'text': 'Anblick', 'type': 'OTHER'}, {'text': 'Neu-Zugang', 'type': 'OTHER'}, {'text': 'Henrik', 'type': 'PERSON'}, {'text': 'Wucht', 'type': 'OTHER'}, {'text': 'Gänsehaut', 'type': 'OTHER'}, {'text': 'Penis-Gur...  \n",
       "16  [{'text': 'Spielerbewertungen', 'type': 'OTHER'}, {'text': 'Spieler', 'type': 'PERSON'}, {'text': 'eSport-Himmel', 'type': 'OTHER'}, {'text': 'FIFA 21', 'type': 'ORGANIZATION'}, {'text': 'eSportler', 'type': 'PERSON'}, {'text': 'Spiele-Hersteller', 'type': 'ORGANIZATION'}, {'text': 'Stück', 'type': 'WORK_OF_ART'}, {'text': 'Stück', 'type': 'OTHER'}, {'text': 'Schlag', 'type': 'OTHER'}, {'text': 'Ausgabe', 'type': 'WORK_OF_ART'}, {'text': 'Gesamtspielstärke', 'type': 'OTHER'}, {'text': 'Zocker', 'type': 'PERSON'}, {'text': 'Downgrade', 'type': 'OTHER'}, {'text': 'EA Sports', 'type': 'ORGANIZATION'}, {'text': 'Tempo', 'type': 'OTHER'}, {'text': 'eSport-Stars', 'type': 'PERSON'}, {'text': 'Gesamtspielstärke', 'type': 'OTHER'}, {'text': 'Tempo', 'type': 'OTHER'}, {'text': 'Tempo', 'type': 'OTHER'}, {'text': 'Gesamtspielstärke', 'type': 'OTHER'}, {'text': 'Beispiel', 'type': 'OTHER'}, {'text': 'Tempo-Bewertung', 'type': 'OTHER'}, {'text': 'Gesamtspielstärke', 'type': 'OTHER'}, {'text': ...  \n",
       "17  [{'text': 'beide', 'type': 'PERSON'}, {'text': 'Beide', 'type': 'PERSON'}, {'text': 'Nürburgring', 'type': 'LOCATION'}, {'text': 'Tabellenführer', 'type': 'PERSON'}, {'text': 'Frauen', 'type': 'PERSON'}, {'text': 'Lauf', 'type': 'EVENT'}, {'text': 'Kurven', 'type': 'OTHER'}, {'text': 'Fahrt', 'type': 'EVENT'}, {'text': 'Nico Müller', 'type': 'PERSON'}, {'text': 'Playmate', 'type': 'PERSON'}, {'text': 'DTM', 'type': 'ORGANIZATION'}, {'text': 'Papa', 'type': 'OTHER'}, {'text': 'Müller', 'type': 'PERSON'}, {'text': 'Mama', 'type': 'PERSON'}, {'text': 'Audi', 'type': 'ORGANIZATION'}, {'text': 'Robin Frijns', 'type': 'PERSON'}, {'text': 'Glück', 'type': 'OTHER'}, {'text': 'Erfolgsgeheimnis', 'type': 'OTHER'}, {'text': 'Sohn', 'type': 'PERSON'}, {'text': 'Welt', 'type': 'LOCATION'}, {'text': 'Geburt', 'type': 'EVENT'}, {'text': 'Lebensgefährtin', 'type': 'PERSON'}, {'text': 'Startnummer', 'type': 'OTHER'}, {'text': 'Schaden', 'type': 'OTHER'}, {'text': 'Müllers', 'type': 'PERSON'}, {'tex...  \n",
       "18  [{'text': 'Frauen', 'type': 'PERSON'}, {'text': 'Diktator', 'type': 'PERSON'}, {'text': 'Demonstranten', 'type': 'PERSON'}, {'text': 'Prügeltruppen', 'type': 'OTHER'}, {'text': 'Frauen', 'type': 'PERSON'}, {'text': 'Härte', 'type': 'OTHER'}, {'text': 'Macht', 'type': 'OTHER'}, {'text': 'Präsidentschaftswahlen', 'type': 'OTHER'}, {'text': 'Frauen', 'type': 'PERSON'}, {'text': 'mehr', 'type': 'OTHER'}, {'text': 'Amtszeit', 'type': 'OTHER'}, {'text': 'nichts', 'type': 'OTHER'}, {'text': 'Menschen', 'type': 'PERSON'}, {'text': 'einer', 'type': 'PERSON'}, {'text': 'Frau', 'type': 'PERSON'}, {'text': 'Alexander Lukaschenko', 'type': 'PERSON'}, {'text': 'Gefängnisse', 'type': 'OTHER'}, {'text': 'Abschreckung', 'type': 'OTHER'}, {'text': 'Transporter', 'type': 'CONSUMER_GOOD'}, {'text': 'Brutalität', 'type': 'OTHER'}, {'text': 'Frauen', 'type': 'PERSON'}, {'text': 'Frau', 'type': 'PERSON'}, {'text': 'Besen-Frau', 'type': 'PERSON'}, {'text': 'Besen', 'type': 'OTHER'}, {'text': 'Video', 'typ...  "
      ]
     },
     "execution_count": 225,
     "metadata": {},
     "output_type": "execute_result"
    }
   ],
   "source": [
    "\n",
    "docs_df = pd.DataFrame(pdf, columns=[\"Doc\"])\n",
    "docs_df['Topic'] = y.values\n",
    "docs_df['Doc_ID'] = X.index.values #df[\"article_uid\"]#range(len(docs_df))\n",
    "docs_df[\"Raw_Doc\"] =  X[\"text\"].values\n",
    "docs_df[\"mix\"] = X[\"mix\"].values\n",
    "docs_df[\"kicker_headline\"] = X.kicker_headline.values\n",
    "docs_df[\"text_ne\"] = X.text_ne.values\n",
    "\n",
    "\n",
    "# For every topic collect all the article and join their texts (preprocessed) , raw texts, \n",
    "docs_per_topic = docs_df.groupby(['Topic'], as_index = False).agg({'Doc': ' '.join,\n",
    "                                                                   'Raw_Doc': ' '.join,\n",
    "                                                                   'mix': ' '.join,\n",
    "                                                                    \"kicker_headline\":lambda x: (flatten([parse_google_named_entities(el) for el in x ])),\n",
    "                                                                      \"text_ne\":lambda x: (flatten([parse_google_named_entities(el) for el in x ]))\n",
    "                                                                  })\n",
    "\n",
    "\n",
    "docs_per_topic#.kicker_headline[0]"
   ]
  },
  {
   "cell_type": "code",
   "execution_count": 167,
   "metadata": {},
   "outputs": [
    {
     "data": {
      "text/plain": [
       "<matplotlib.axes._subplots.AxesSubplot at 0x7fae450e9d30>"
      ]
     },
     "execution_count": 167,
     "metadata": {},
     "output_type": "execute_result"
    },
    {
     "data": {
      "image/png": "[encoded data removed]",
      "text/plain": [
       "<Figure size 576x288 with 1 Axes>"
      ]
     },
     "metadata": {
      "needs_background": "light"
     },
     "output_type": "display_data"
    }
   ],
   "source": [
    "topic_sizes = utils.extract_topic_sizes(docs_df)\n",
    "topic_sizes.set_index(\"Topic\").plot(kind=\"bar\",figsize=(8,4))"
   ]
  },
  {
   "cell_type": "markdown",
   "metadata": {},
   "source": [
    "### Let's see how cluster-based TF-IDF selects words describing clusters\n",
    "\n",
    "# TFIDF on Text\n",
    "\n"
   ]
  },
  {
   "cell_type": "code",
   "execution_count": 187,
   "metadata": {},
   "outputs": [
    {
     "data": {
      "text/html": [
       "<div>\n",
       "<style scoped>\n",
       "    .dataframe tbody tr th:only-of-type {\n",
       "        vertical-align: middle;\n",
       "    }\n",
       "\n",
       "    .dataframe tbody tr th {\n",
       "        vertical-align: top;\n",
       "    }\n",
       "\n",
       "    .dataframe thead th {\n",
       "        text-align: right;\n",
       "    }\n",
       "</style>\n",
       "<table border=\"1\" class=\"dataframe\">\n",
       "  <thead>\n",
       "    <tr style=\"text-align: right;\">\n",
       "      <th></th>\n",
       "      <th>top_n_words</th>\n",
       "    </tr>\n",
       "    <tr>\n",
       "      <th>Topic</th>\n",
       "      <th></th>\n",
       "    </tr>\n",
       "  </thead>\n",
       "  <tbody>\n",
       "    <tr>\n",
       "      <th>0</th>\n",
       "      <td>brady | runde | prince | bel | smith | air</td>\n",
       "    </tr>\n",
       "    <tr>\n",
       "      <th>1</th>\n",
       "      <td>hamburg | fahrer | fliege | glamping | lawrence | derjährige</td>\n",
       "    </tr>\n",
       "    <tr>\n",
       "      <th>2</th>\n",
       "      <td>henssler | zverev | kurz | meyer | witcher | ihm</td>\n",
       "    </tr>\n",
       "    <tr>\n",
       "      <th>4</th>\n",
       "      <td>sam | kate | bayern | elena | georgina | asarenka</td>\n",
       "    </tr>\n",
       "    <tr>\n",
       "      <th>9</th>\n",
       "      <td>virus | asp | reinking | elke | raab | amos</td>\n",
       "    </tr>\n",
       "    <tr>\n",
       "      <th>10</th>\n",
       "      <td>dollar | kardashian | millionen | kubi | thiem | müller</td>\n",
       "    </tr>\n",
       "    <tr>\n",
       "      <th>14</th>\n",
       "      <td>eu | china | amar | rigg | camp | europäische</td>\n",
       "    </tr>\n",
       "    <tr>\n",
       "      <th>16</th>\n",
       "      <td>hymne | kansas | texans | rassismus | chiefs | themen</td>\n",
       "    </tr>\n",
       "    <tr>\n",
       "      <th>17</th>\n",
       "      <td>angelina | netflix | ba | film | brad | cuties</td>\n",
       "    </tr>\n",
       "    <tr>\n",
       "      <th>18</th>\n",
       "      <td>stevie | yashimi | luca | lee | puppet | psycho</td>\n",
       "    </tr>\n",
       "    <tr>\n",
       "      <th>22</th>\n",
       "      <td>vater | serie | murphy | mein | taylor | ratched</td>\n",
       "    </tr>\n",
       "    <tr>\n",
       "      <th>23</th>\n",
       "      <td>bruder | zählt | zverev | andré | becker | bewertung</td>\n",
       "    </tr>\n",
       "    <tr>\n",
       "      <th>29</th>\n",
       "      <td>bams | misano | lesbos | weniger | micaela | melanie</td>\n",
       "    </tr>\n",
       "    <tr>\n",
       "      <th>30</th>\n",
       "      <td>demo | heidi | ferrari | leni | mansfeld | szafnauer</td>\n",
       "    </tr>\n",
       "    <tr>\n",
       "      <th>44</th>\n",
       "      <td>playbook | nfl | aufnahme | frauen | azarenka | henrik</td>\n",
       "    </tr>\n",
       "    <tr>\n",
       "      <th>45</th>\n",
       "      <td>brandenburg | pietro | schweinefleisch | schweinepest | export | lombardi</td>\n",
       "    </tr>\n",
       "    <tr>\n",
       "      <th>50</th>\n",
       "      <td>vitolo | katie | rachel | promi | entscheidenden | football</td>\n",
       "    </tr>\n",
       "    <tr>\n",
       "      <th>51</th>\n",
       "      <td>fifa | tempo | superspreader | esport | tim | gesamtspielstärke</td>\n",
       "    </tr>\n",
       "    <tr>\n",
       "      <th>53</th>\n",
       "      <td>kalifornien | klimawandel | waldbrände | flammen | brände | jubiläumsrennen</td>\n",
       "    </tr>\n",
       "  </tbody>\n",
       "</table>\n",
       "</div>"
      ],
      "text/plain": [
       "                                                                       top_n_words\n",
       "Topic                                                                             \n",
       "0                                       brady | runde | prince | bel | smith | air\n",
       "1                     hamburg | fahrer | fliege | glamping | lawrence | derjährige\n",
       "2                                 henssler | zverev | kurz | meyer | witcher | ihm\n",
       "4                                sam | kate | bayern | elena | georgina | asarenka\n",
       "9                                      virus | asp | reinking | elke | raab | amos\n",
       "10                         dollar | kardashian | millionen | kubi | thiem | müller\n",
       "14                                   eu | china | amar | rigg | camp | europäische\n",
       "16                           hymne | kansas | texans | rassismus | chiefs | themen\n",
       "17                                  angelina | netflix | ba | film | brad | cuties\n",
       "18                                 stevie | yashimi | luca | lee | puppet | psycho\n",
       "22                                vater | serie | murphy | mein | taylor | ratched\n",
       "23                            bruder | zählt | zverev | andré | becker | bewertung\n",
       "29                            bams | misano | lesbos | weniger | micaela | melanie\n",
       "30                            demo | heidi | ferrari | leni | mansfeld | szafnauer\n",
       "44                          playbook | nfl | aufnahme | frauen | azarenka | henrik\n",
       "45       brandenburg | pietro | schweinefleisch | schweinepest | export | lombardi\n",
       "50                     vitolo | katie | rachel | promi | entscheidenden | football\n",
       "51                 fifa | tempo | superspreader | esport | tim | gesamtspielstärke\n",
       "53     kalifornien | klimawandel | waldbrände | flammen | brände | jubiläumsrennen"
      ]
     },
     "execution_count": 187,
     "metadata": {},
     "output_type": "execute_result"
    }
   ],
   "source": [
    "tf_idf, count = utils.c_tf_idf(docs_per_topic.Doc.values, m=len(pdf),ngram_range=(1,1),remove_stop_words=True)\n",
    "top_n_words = utils.extract_top_n_words_per_topic(tf_idf, count, docs_per_topic, n=20)\n",
    "top_6_words_per_topic = pd.DataFrame([(k,\" | \".join([e[0] for e in v][:6]))  for (k,v) in top_n_words.items()],columns=[\"Topic\",\"top_n_words\"])\n",
    "top_6_words_per_topic[\"Topic\"]=top_6_words_per_topic[\"Topic\"].apply(int)\n",
    "topic_sizes = utils.extract_topic_sizes(docs_df)\n",
    "top_6_words_per_topic=top_6_words_per_topic.set_index(\"Topic\")\n",
    "pd.set_option('display.max_colwidth', 1000)\n",
    "\n",
    "top_6_words_per_topic\n"
   ]
  },
  {
   "cell_type": "code",
   "execution_count": null,
   "metadata": {},
   "outputs": [],
   "source": []
  },
  {
   "cell_type": "markdown",
   "metadata": {},
   "source": [
    "## Let's apply FLAIR-based NER on:\n",
    "- Raw documents joined together\n",
    "- Headline + SEO title joined together "
   ]
  },
  {
   "cell_type": "code",
   "execution_count": 169,
   "metadata": {},
   "outputs": [
    {
     "name": "stdout",
     "output_type": "stream",
     "text": [
      "[('Zverev', 66), ('US Open', 51), ('Alexander Zverev', 36), ('Thiem', 24), ('New York', 22), ('Boris Becker', 16)]\n"
     ]
    }
   ],
   "source": [
    "ner_labels = ner_article(docs_per_topic[\"Raw_Doc\"].loc[0])\n",
    "print(collections.Counter([x[\"text\"] for x in ner_labels if \"bild\" not in x[\"text\"].lower()]).most_common()[:6])\n",
    "\n"
   ]
  },
  {
   "cell_type": "code",
   "execution_count": 172,
   "metadata": {},
   "outputs": [
    {
     "name": "stdout",
     "output_type": "stream",
     "text": [
      "[('US Open', 12), ('Alexander Zverev', 7), ('Dominic Thiem', 5), ('Zverev', 3), ('Alex Zverev', 2), ('Mischa', 2)]\n"
     ]
    }
   ],
   "source": [
    "ner_labels = ner_article(docs_per_topic[\"mix\"].loc[0])\n",
    "print(collections.Counter([x[\"text\"] for x in ner_labels if \"bild\" not in x[\"text\"].lower()]).most_common()[:6])"
   ]
  },
  {
   "cell_type": "code",
   "execution_count": 256,
   "metadata": {},
   "outputs": [],
   "source": [
    "ctrs=[]\n",
    "start_time = time.time()\n",
    "\n",
    "for topic in topic_sizes[\"Topic\"].values:\n",
    "    ner_labels = ner_article(docs_per_topic.set_index(\"Topic\")[\"Raw_Doc\"].loc[topic])\n",
    "    ctrs.append(collections.Counter([x[\"text\"] for x in ner_labels if \"bild\" not in x[\"text\"].lower() ]).most_common()[:10])\n",
    "print(\"--- Documnets NER encoded %s seconds ---\" % (time.time() - start_time))\n",
    "    "
   ]
  },
  {
   "cell_type": "code",
   "execution_count": 206,
   "metadata": {},
   "outputs": [
    {
     "data": {
      "text/plain": [
       "[('Kalifornien', 2),\n",
       " ('US-Westküste', 1),\n",
       " ('US', 1),\n",
       " ('Nord-Washington', 1),\n",
       " ('Süd-Kalifornien', 1)]"
      ]
     },
     "execution_count": 206,
     "metadata": {},
     "output_type": "execute_result"
    }
   ],
   "source": [
    "dict_with_top_words = {k:v  for k,v in  zip(topic_sizes[\"Topic\"].values,ctrs)}    \n",
    "dict_with_top_words[1]"
   ]
  },
  {
   "cell_type": "code",
   "execution_count": 173,
   "metadata": {},
   "outputs": [
    {
     "name": "stdout",
     "output_type": "stream",
     "text": [
      "--- Titles NER encoded in 179.24954795837402 seconds ---\n"
     ]
    }
   ],
   "source": [
    "ctrs=[]\n",
    "\n",
    "start_time = time.time()\n",
    "\n",
    "for topic in topic_sizes[\"Topic\"].values: # Go over topic labels \n",
    "    ner_labels = ner_article(docs_per_topic.set_index(\"Topic\")[\"mix\"].loc[topic])\n",
    "    counted_word_occurances = collections.Counter([x[\"text\"] for x in ner_labels if \"bild\" not in x[\"text\"].lower() ]).most_common()[:10]\n",
    "    ctrs.append(counted_word_occurances)\n",
    "print(\"--- Titles NER encoded in %s seconds ---\" % (time.time() - start_time))\n",
    "    "
   ]
  },
  {
   "cell_type": "code",
   "execution_count": 204,
   "metadata": {},
   "outputs": [
    {
     "data": {
      "text/html": [
       "<div>\n",
       "<style scoped>\n",
       "    .dataframe tbody tr th:only-of-type {\n",
       "        vertical-align: middle;\n",
       "    }\n",
       "\n",
       "    .dataframe tbody tr th {\n",
       "        vertical-align: top;\n",
       "    }\n",
       "\n",
       "    .dataframe thead th {\n",
       "        text-align: right;\n",
       "    }\n",
       "</style>\n",
       "<table border=\"1\" class=\"dataframe\">\n",
       "  <thead>\n",
       "    <tr style=\"text-align: right;\">\n",
       "      <th></th>\n",
       "      <th>TopWords</th>\n",
       "    </tr>\n",
       "    <tr>\n",
       "      <th>Topic</th>\n",
       "      <th></th>\n",
       "    </tr>\n",
       "  </thead>\n",
       "  <tbody>\n",
       "    <tr>\n",
       "      <th>0</th>\n",
       "      <td>US Open | Alexander Zverev | Dominic Thiem | Zverev | Alex Zverev | Mischa | US | Andy Murray | Serena Williams | US-Open-Halbfinale</td>\n",
       "    </tr>\n",
       "    <tr>\n",
       "      <th>1</th>\n",
       "      <td>Kalifornien | US-Westküste | US | Nord-Washington | Süd-Kalifornien</td>\n",
       "    </tr>\n",
       "    <tr>\n",
       "      <th>2</th>\n",
       "      <td>Moria | Lesbos | Leipzig | EU | Deutschland | Merkel | deutsche | Chinas | Seehofer | CDU</td>\n",
       "    </tr>\n",
       "    <tr>\n",
       "      <th>4</th>\n",
       "      <td>NFL | Bradys | Ex LIVE | NFL-Spieltags | NFL-Saison | NFL NFL | American Football | Patrick Mahomes | Tampa Bay | Tom Brady</td>\n",
       "    </tr>\n",
       "    <tr>\n",
       "      <th>9</th>\n",
       "      <td>Ruhrgebiet | Bremen | Düsseldorf | Sachsen-Anhalt | Mercedes | Hamburg | Frankfurt | Hannover | BMW | A57</td>\n",
       "    </tr>\n",
       "    <tr>\n",
       "      <th>10</th>\n",
       "      <td>Formel 1 | Sebastian Vettel | Mugello | Ferrari | Aston Martin | Mick Schumacher | Vettel | Lewis Hamilton | Michael | Rossi</td>\n",
       "    </tr>\n",
       "    <tr>\n",
       "      <th>14</th>\n",
       "      <td>Indien-Urlaub | Indien</td>\n",
       "    </tr>\n",
       "    <tr>\n",
       "      <th>16</th>\n",
       "      <td>Thüringen | Unstrut</td>\n",
       "    </tr>\n",
       "    <tr>\n",
       "      <th>17</th>\n",
       "      <td>Leipzig | Lotta | Dortmund | Ruhrgebiet | A5 | Stuttgart | A7 | Hannover | Chemnitz</td>\n",
       "    </tr>\n",
       "    <tr>\n",
       "      <th>18</th>\n",
       "      <td>Nawalny | Berlin | Moskau | Kreml | Trumps | Charité</td>\n",
       "    </tr>\n",
       "    <tr>\n",
       "      <th>22</th>\n",
       "      <td>Euro | Corona | VW | Beate Sander | Fiat 500 | Scholz | Corona-Steuerloch | Bayern</td>\n",
       "    </tr>\n",
       "    <tr>\n",
       "      <th>23</th>\n",
       "      <td>Fortuna Düsseldorf | Bundesliga | Uwe Rösler | Emma Iyoha | Marcel Sobottka | Dawid Kownacki | Corona-Infek | Raphael Wolf | Rouwen Hennings | DFB-Pokal</td>\n",
       "    </tr>\n",
       "    <tr>\n",
       "      <th>29</th>\n",
       "      <td>Garmisch-Partenkirchen | Garmisch | Corona-Ergebnisse | Corona-Superspreaderin | München | Corona | Corona-Test | Amerikanerin</td>\n",
       "    </tr>\n",
       "    <tr>\n",
       "      <th>30</th>\n",
       "      <td>Afrikanische | China | Brandenburg | deutschem</td>\n",
       "    </tr>\n",
       "    <tr>\n",
       "      <th>44</th>\n",
       "      <td>Netflix | Heidi Klums | Raabs | Pietro Lombardi | Christine Neubauer | München | Frankfurt | Fargo | Brad Pitt | Laura Müller</td>\n",
       "    </tr>\n",
       "    <tr>\n",
       "      <th>45</th>\n",
       "      <td>Love Island | Love ISLAND | Penis-Protz Hendrik | Luca | Micaela Schäfer | Schröder | Star Henrik | Ex | Sexy Granaten</td>\n",
       "    </tr>\n",
       "    <tr>\n",
       "      <th>50</th>\n",
       "      <td>FIFA 21 | FIFA</td>\n",
       "    </tr>\n",
       "    <tr>\n",
       "      <th>51</th>\n",
       "      <td>DTM | Nürburgring | Misano | Rossi | Müller | Audi | Mercedes</td>\n",
       "    </tr>\n",
       "    <tr>\n",
       "      <th>53</th>\n",
       "      <td>Lukaschenko | Lukaschenkos | Belarus | Putin Lukaschenko | Weißrussland | Weissrussland | weißrussische</td>\n",
       "    </tr>\n",
       "  </tbody>\n",
       "</table>\n",
       "</div>"
      ],
      "text/plain": [
       "                                                                                                                                                       TopWords\n",
       "Topic                                                                                                                                                          \n",
       "0                          US Open | Alexander Zverev | Dominic Thiem | Zverev | Alex Zverev | Mischa | US | Andy Murray | Serena Williams | US-Open-Halbfinale\n",
       "1                                                                                           Kalifornien | US-Westküste | US | Nord-Washington | Süd-Kalifornien\n",
       "2                                                                     Moria | Lesbos | Leipzig | EU | Deutschland | Merkel | deutsche | Chinas | Seehofer | CDU\n",
       "4                                   NFL | Bradys | Ex LIVE | NFL-Spieltags | NFL-Saison | NFL NFL | American Football | Patrick Mahomes | Tampa Bay | Tom Brady\n",
       "9                                                     Ruhrgebiet | Bremen | Düsseldorf | Sachsen-Anhalt | Mercedes | Hamburg | Frankfurt | Hannover | BMW | A57\n",
       "10                                 Formel 1 | Sebastian Vettel | Mugello | Ferrari | Aston Martin | Mick Schumacher | Vettel | Lewis Hamilton | Michael | Rossi\n",
       "14                                                                                                                                       Indien-Urlaub | Indien\n",
       "16                                                                                                                                          Thüringen | Unstrut\n",
       "17                                                                          Leipzig | Lotta | Dortmund | Ruhrgebiet | A5 | Stuttgart | A7 | Hannover | Chemnitz\n",
       "18                                                                                                         Nawalny | Berlin | Moskau | Kreml | Trumps | Charité\n",
       "22                                                                           Euro | Corona | VW | Beate Sander | Fiat 500 | Scholz | Corona-Steuerloch | Bayern\n",
       "23     Fortuna Düsseldorf | Bundesliga | Uwe Rösler | Emma Iyoha | Marcel Sobottka | Dawid Kownacki | Corona-Infek | Raphael Wolf | Rouwen Hennings | DFB-Pokal\n",
       "29                               Garmisch-Partenkirchen | Garmisch | Corona-Ergebnisse | Corona-Superspreaderin | München | Corona | Corona-Test | Amerikanerin\n",
       "30                                                                                                               Afrikanische | China | Brandenburg | deutschem\n",
       "44                                Netflix | Heidi Klums | Raabs | Pietro Lombardi | Christine Neubauer | München | Frankfurt | Fargo | Brad Pitt | Laura Müller\n",
       "45                                       Love Island | Love ISLAND | Penis-Protz Hendrik | Luca | Micaela Schäfer | Schröder | Star Henrik | Ex | Sexy Granaten\n",
       "50                                                                                                                                               FIFA 21 | FIFA\n",
       "51                                                                                                DTM | Nürburgring | Misano | Rossi | Müller | Audi | Mercedes\n",
       "53                                                      Lukaschenko | Lukaschenkos | Belarus | Putin Lukaschenko | Weißrussland | Weissrussland | weißrussische"
      ]
     },
     "execution_count": 204,
     "metadata": {},
     "output_type": "execute_result"
    }
   ],
   "source": [
    "dict_with_top_words = {k:v  for k,v in  zip(topic_sizes[\"Topic\"].values,ctrs)}    \n",
    "\n",
    "\n",
    "pd.DataFrame(zip(topic_sizes[\"Topic\"].values,[\" | \".join([word[0] for word in word_score]) for word_score in ctrs]),columns=[\"Topic\",\"TopWords\"]).sort_values(by=\"Topic\").set_index(\"Topic\")"
   ]
  },
  {
   "cell_type": "markdown",
   "metadata": {},
   "source": [
    "# Using NER from Google API \n",
    "\n",
    "Now for every article let's load list of entities from Google NLP"
   ]
  },
  {
   "cell_type": "code",
   "execution_count": 180,
   "metadata": {},
   "outputs": [],
   "source": [
    "\n",
    "def parse_google_named_entities(json_obj,deduplicate=False):\n",
    "    #Parse objets and deduplicate list of them \n",
    "    parse_named_entity = lambda ne: {\"text\":ne[\"name\"],\"type\":ne[\"type\"]}\n",
    "    list_of_objects = [parse_named_entity(ne) for ne in json.loads(json_obj)[0][\"entities\"] if \"bild\" not in ne[\"name\"].lower() ]\n",
    "    if not deduplicate:\n",
    "        return dedupe(list_of_objects)\n",
    "    else:\n",
    "        return list_of_objects\n",
    "    "
   ]
  },
  {
   "cell_type": "code",
   "execution_count": 226,
   "metadata": {},
   "outputs": [
    {
     "data": {
      "text/plain": [
       "([{'text': 'Fahrer', 'type': 'PERSON'},\n",
       "  {'text': 'Führerschein', 'type': 'OTHER'},\n",
       "  {'text': '510-PS-Flitzerkracht', 'type': 'EVENT'},\n",
       "  {'text': 'Baum', 'type': 'OTHER'},\n",
       "  {'text': '510', 'type': 'NUMBER'}],\n",
       " [{'text': 'Unfall', 'type': 'EVENT'},\n",
       "  {'text': 'Hilden', 'type': 'LOCATION'},\n",
       "  {'text': '510-PS-Flitzer', 'type': 'CONSUMER_GOOD'},\n",
       "  {'text': '510', 'type': 'NUMBER'}])"
      ]
     },
     "execution_count": 226,
     "metadata": {},
     "output_type": "execute_result"
    }
   ],
   "source": [
    "article_id = 2\n",
    "parse_google_named_entities(labeled.kicker_headline[article_id]),parse_google_named_entities(labeled.seo_title_ne[article_id])\n"
   ]
  },
  {
   "cell_type": "code",
   "execution_count": 254,
   "metadata": {},
   "outputs": [],
   "source": [
    "ctrs=[]\n",
    "for topic in topic_sizes[\"Topic\"].values: # Go over topic labels \n",
    "    counted_word_occurances = collections.Counter([elem[\"text\"] for elem in docs_per_topic.set_index(\"Topic\").loc[topic][\"text_ne\"] if not elem['type'] ==\"NUMBER\"]).most_common()[:10]\n",
    "    ctrs.append(counted_word_occurances)\n",
    "dict_with_top_words = {k:v  for k,v in  zip(topic_sizes[\"Topic\"].values,ctrs)}    \n",
    "\n",
    "\n",
    "cluster_labels_google = pd.DataFrame(zip(topic_sizes[\"Topic\"].values,[\" | \".join([word[0] for word in word_score]) for word_score in ctrs]),columns=[\"Topic\",\"TopWords\"]).sort_values(by=\"Topic\").set_index(\"Topic\")"
   ]
  },
  {
   "cell_type": "code",
   "execution_count": 246,
   "metadata": {},
   "outputs": [
    {
     "data": {
      "application/vnd.jupyter.widget-view+json": {
       "model_id": "01be989e1aa749e1b50cf4dc27642d8e",
       "version_major": 2,
       "version_minor": 0
      },
      "text/plain": [
       "HBox(children=(FloatProgress(value=0.0, description='Batches', max=8.0, style=ProgressStyle(description_width=…"
      ]
     },
     "metadata": {},
     "output_type": "display_data"
    },
    {
     "name": "stdout",
     "output_type": "stream",
     "text": [
      "\n",
      "--- Embedding dimension 1536\n",
      "--- 239 Documnets encoded 22.36236596107483 seconds ---\n",
      ">> Reducing dimensionality from 1536 to 128 ...\n",
      ">> Clustering...\n",
      ">> --- Done in 7.9 seconds ---\n"
     ]
    }
   ],
   "source": [
    "from code import modeling\n",
    "\n",
    "word_embedding_model = models.Transformer(\n",
    "    'T-Systems-onsite/bert-german-dbmdz-uncased-sentence-stsb')\n",
    "\n",
    "\n",
    "max_pooling = True\n",
    "\n",
    "embeddings = modeling.get_sentence_embeddings(X.text.values,word_embedding_model,max_pooling)\n",
    "\n",
    "N_COMPONENTS=128\n",
    "alpha=0.825\n",
    "min_cluster_size=3\n",
    "min_samples=3\n",
    "n_neighbors=64\n",
    "\n",
    "results,cluster_labels = modeling.cluster_and_reduce(embeddings,n_components_clustering=N_COMPONENTS,\n",
    "                                                                             min_cluster_size=min_cluster_size,n_neighbors=n_neighbors, \n",
    "                                                                             min_samples= min_samples,alpha=alpha)"
   ]
  },
  {
   "cell_type": "code",
   "execution_count": 265,
   "metadata": {},
   "outputs": [
    {
     "name": "stdout",
     "output_type": "stream",
     "text": [
      "Outliers: 0 | Clustered: 239 | 1.0 \n",
      " Cluster count: 19 \n"
     ]
    },
    {
     "data": {
      "application/vnd.plotly.v1+json": {
       "config": {
        "plotlyServerURL": "https://plot.ly"
       },
       "data": [
        {
         "customdata": [
          [
           "2020-09-12",
           "Steuereinnahmen | Bund | Corona-Krise | Wirtschaft | Schulden | Pandemie | Länder | Zahlen | Steuerschätzung | Steuererhöhungen"
          ],
          [
           "2020-09-11",
           "Steuereinnahmen | Bund | Corona-Krise | Wirtschaft | Schulden | Pandemie | Länder | Zahlen | Steuerschätzung | Steuererhöhungen"
          ],
          [
           "2020-09-11",
           "Steuereinnahmen | Bund | Corona-Krise | Wirtschaft | Schulden | Pandemie | Länder | Zahlen | Steuerschätzung | Steuererhöhungen"
          ],
          [
           "2020-09-10",
           "Steuereinnahmen | Bund | Corona-Krise | Wirtschaft | Schulden | Pandemie | Länder | Zahlen | Steuerschätzung | Steuererhöhungen"
          ],
          [
           "2020-09-10",
           "Steuereinnahmen | Bund | Corona-Krise | Wirtschaft | Schulden | Pandemie | Länder | Zahlen | Steuerschätzung | Steuererhöhungen"
          ],
          [
           "2020-09-11",
           "Steuereinnahmen | Bund | Corona-Krise | Wirtschaft | Schulden | Pandemie | Länder | Zahlen | Steuerschätzung | Steuererhöhungen"
          ],
          [
           "2020-09-10",
           "Steuereinnahmen | Bund | Corona-Krise | Wirtschaft | Schulden | Pandemie | Länder | Zahlen | Steuerschätzung | Steuererhöhungen"
          ],
          [
           "2020-09-10",
           "Steuereinnahmen | Bund | Corona-Krise | Wirtschaft | Schulden | Pandemie | Länder | Zahlen | Steuerschätzung | Steuererhöhungen"
          ],
          [
           "2020-09-10",
           "Steuereinnahmen | Bund | Corona-Krise | Wirtschaft | Schulden | Pandemie | Länder | Zahlen | Steuerschätzung | Steuererhöhungen"
          ],
          [
           "2020-09-13",
           "Steuereinnahmen | Bund | Corona-Krise | Wirtschaft | Schulden | Pandemie | Länder | Zahlen | Steuerschätzung | Steuererhöhungen"
          ],
          [
           "2020-09-14",
           "Steuereinnahmen | Bund | Corona-Krise | Wirtschaft | Schulden | Pandemie | Länder | Zahlen | Steuerschätzung | Steuererhöhungen"
          ],
          [
           "2020-09-13",
           "Steuereinnahmen | Bund | Corona-Krise | Wirtschaft | Schulden | Pandemie | Länder | Zahlen | Steuerschätzung | Steuererhöhungen"
          ],
          [
           "2020-09-13",
           "Hunde | Hündin | Lotta | Tiere | Polizei | Supermarkt | Wohnung | Tier | Arm | Hund"
          ],
          [
           "2020-09-10",
           "Hunde | Hündin | Lotta | Tiere | Polizei | Supermarkt | Wohnung | Tier | Arm | Hund"
          ],
          [
           "2020-09-10",
           "Hunde | Hündin | Lotta | Tiere | Polizei | Supermarkt | Wohnung | Tier | Arm | Hund"
          ],
          [
           "2020-09-11",
           "Hunde | Hündin | Lotta | Tiere | Polizei | Supermarkt | Wohnung | Tier | Arm | Hund"
          ],
          [
           "2020-09-12",
           "Hunde | Hündin | Lotta | Tiere | Polizei | Supermarkt | Wohnung | Tier | Arm | Hund"
          ],
          [
           "2020-09-14",
           "Hunde | Hündin | Lotta | Tiere | Polizei | Supermarkt | Wohnung | Tier | Arm | Hund"
          ],
          [
           "2020-09-13",
           "Hunde | Hündin | Lotta | Tiere | Polizei | Supermarkt | Wohnung | Tier | Arm | Hund"
          ],
          [
           "2020-09-09",
           "Hunde | Hündin | Lotta | Tiere | Polizei | Supermarkt | Wohnung | Tier | Arm | Hund"
          ],
          [
           "2020-09-09",
           "Hunde | Hündin | Lotta | Tiere | Polizei | Supermarkt | Wohnung | Tier | Arm | Hund"
          ],
          [
           "2020-09-10",
           "Menschen | Moria | Flüchtlinge | Aufnahme | Lager | Kinder | Flüchtlingslager | Migranten | Lesbos | Camp"
          ],
          [
           "2020-09-12",
           "Menschen | Moria | Flüchtlinge | Aufnahme | Lager | Kinder | Flüchtlingslager | Migranten | Lesbos | Camp"
          ],
          [
           "2020-09-11",
           "Menschen | Moria | Flüchtlinge | Aufnahme | Lager | Kinder | Flüchtlingslager | Migranten | Lesbos | Camp"
          ],
          [
           "2020-09-09",
           "Menschen | Moria | Flüchtlinge | Aufnahme | Lager | Kinder | Flüchtlingslager | Migranten | Lesbos | Camp"
          ],
          [
           "2020-09-11",
           "Menschen | Moria | Flüchtlinge | Aufnahme | Lager | Kinder | Flüchtlingslager | Migranten | Lesbos | Camp"
          ],
          [
           "2020-09-09",
           "Menschen | Moria | Flüchtlinge | Aufnahme | Lager | Kinder | Flüchtlingslager | Migranten | Lesbos | Camp"
          ],
          [
           "2020-09-11",
           "Menschen | Moria | Flüchtlinge | Aufnahme | Lager | Kinder | Flüchtlingslager | Migranten | Lesbos | Camp"
          ],
          [
           "2020-09-14",
           "Menschen | Moria | Flüchtlinge | Aufnahme | Lager | Kinder | Flüchtlingslager | Migranten | Lesbos | Camp"
          ],
          [
           "2020-09-12",
           "Menschen | Moria | Flüchtlinge | Aufnahme | Lager | Kinder | Flüchtlingslager | Migranten | Lesbos | Camp"
          ],
          [
           "2020-09-11",
           "Menschen | Moria | Flüchtlinge | Aufnahme | Lager | Kinder | Flüchtlingslager | Migranten | Lesbos | Camp"
          ],
          [
           "2020-09-14",
           "Menschen | Moria | Flüchtlinge | Aufnahme | Lager | Kinder | Flüchtlingslager | Migranten | Lesbos | Camp"
          ],
          [
           "2020-09-10",
           "Menschen | Moria | Flüchtlinge | Aufnahme | Lager | Kinder | Flüchtlingslager | Migranten | Lesbos | Camp"
          ],
          [
           "2020-09-13",
           "Menschen | Moria | Flüchtlinge | Aufnahme | Lager | Kinder | Flüchtlingslager | Migranten | Lesbos | Camp"
          ],
          [
           "2020-09-12",
           "Menschen | Moria | Flüchtlinge | Aufnahme | Lager | Kinder | Flüchtlingslager | Migranten | Lesbos | Camp"
          ],
          [
           "2020-09-10",
           "Menschen | Moria | Flüchtlinge | Aufnahme | Lager | Kinder | Flüchtlingslager | Migranten | Lesbos | Camp"
          ],
          [
           "2020-09-14",
           "Menschen | Moria | Flüchtlinge | Aufnahme | Lager | Kinder | Flüchtlingslager | Migranten | Lesbos | Camp"
          ],
          [
           "2020-09-10",
           "Menschen | Moria | Flüchtlinge | Aufnahme | Lager | Kinder | Flüchtlingslager | Migranten | Lesbos | Camp"
          ],
          [
           "2020-09-14",
           "Menschen | Moria | Flüchtlinge | Aufnahme | Lager | Kinder | Flüchtlingslager | Migranten | Lesbos | Camp"
          ],
          [
           "2020-09-13",
           "Menschen | Moria | Flüchtlinge | Aufnahme | Lager | Kinder | Flüchtlingslager | Migranten | Lesbos | Camp"
          ],
          [
           "2020-09-11",
           "Menschen | Moria | Flüchtlinge | Aufnahme | Lager | Kinder | Flüchtlingslager | Migranten | Lesbos | Camp"
          ],
          [
           "2020-09-12",
           "Menschen | Moria | Flüchtlinge | Aufnahme | Lager | Kinder | Flüchtlingslager | Migranten | Lesbos | Camp"
          ],
          [
           "2020-09-10",
           "Menschen | Moria | Flüchtlinge | Aufnahme | Lager | Kinder | Flüchtlingslager | Migranten | Lesbos | Camp"
          ],
          [
           "2020-09-14",
           "Menschen | Moria | Flüchtlinge | Aufnahme | Lager | Kinder | Flüchtlingslager | Migranten | Lesbos | Camp"
          ],
          [
           "2020-09-10",
           "Menschen | Moria | Flüchtlinge | Aufnahme | Lager | Kinder | Flüchtlingslager | Migranten | Lesbos | Camp"
          ],
          [
           "2020-09-10",
           "Fortuna | Ingolstadt | Trainer | Uwe Rösler | Quarantäne | Trainingsplatz | Platz | Sturm | Liga | Profi"
          ],
          [
           "2020-09-13",
           "Fortuna | Ingolstadt | Trainer | Uwe Rösler | Quarantäne | Trainingsplatz | Platz | Sturm | Liga | Profi"
          ],
          [
           "2020-09-13",
           "Fortuna | Ingolstadt | Trainer | Uwe Rösler | Quarantäne | Trainingsplatz | Platz | Sturm | Liga | Profi"
          ],
          [
           "2020-09-14",
           "Fortuna | Ingolstadt | Trainer | Uwe Rösler | Quarantäne | Trainingsplatz | Platz | Sturm | Liga | Profi"
          ],
          [
           "2020-09-09",
           "Fortuna | Ingolstadt | Trainer | Uwe Rösler | Quarantäne | Trainingsplatz | Platz | Sturm | Liga | Profi"
          ],
          [
           "2020-09-11",
           "Fortuna | Ingolstadt | Trainer | Uwe Rösler | Quarantäne | Trainingsplatz | Platz | Sturm | Liga | Profi"
          ],
          [
           "2020-09-11",
           "Fortuna | Ingolstadt | Trainer | Uwe Rösler | Quarantäne | Trainingsplatz | Platz | Sturm | Liga | Profi"
          ],
          [
           "2020-09-12",
           "Fortuna | Ingolstadt | Trainer | Uwe Rösler | Quarantäne | Trainingsplatz | Platz | Sturm | Liga | Profi"
          ],
          [
           "2020-09-13",
           "Rennen | Strecke | Formel 1 | Team | Ferrari | Fahrer | Mugello | Sebastian Vettel | Aston Martin | Hamilton"
          ],
          [
           "2020-09-11",
           "Rennen | Strecke | Formel 1 | Team | Ferrari | Fahrer | Mugello | Sebastian Vettel | Aston Martin | Hamilton"
          ],
          [
           "2020-09-10",
           "Rennen | Strecke | Formel 1 | Team | Ferrari | Fahrer | Mugello | Sebastian Vettel | Aston Martin | Hamilton"
          ],
          [
           "2020-09-11",
           "Rennen | Strecke | Formel 1 | Team | Ferrari | Fahrer | Mugello | Sebastian Vettel | Aston Martin | Hamilton"
          ],
          [
           "2020-09-11",
           "Rennen | Strecke | Formel 1 | Team | Ferrari | Fahrer | Mugello | Sebastian Vettel | Aston Martin | Hamilton"
          ],
          [
           "2020-09-14",
           "Rennen | Strecke | Formel 1 | Team | Ferrari | Fahrer | Mugello | Sebastian Vettel | Aston Martin | Hamilton"
          ],
          [
           "2020-09-09",
           "Rennen | Strecke | Formel 1 | Team | Ferrari | Fahrer | Mugello | Sebastian Vettel | Aston Martin | Hamilton"
          ],
          [
           "2020-09-10",
           "Rennen | Strecke | Formel 1 | Team | Ferrari | Fahrer | Mugello | Sebastian Vettel | Aston Martin | Hamilton"
          ],
          [
           "2020-09-13",
           "Rennen | Strecke | Formel 1 | Team | Ferrari | Fahrer | Mugello | Sebastian Vettel | Aston Martin | Hamilton"
          ],
          [
           "2020-09-12",
           "Rennen | Strecke | Formel 1 | Team | Ferrari | Fahrer | Mugello | Sebastian Vettel | Aston Martin | Hamilton"
          ],
          [
           "2020-09-10",
           "Rennen | Strecke | Formel 1 | Team | Ferrari | Fahrer | Mugello | Sebastian Vettel | Aston Martin | Hamilton"
          ],
          [
           "2020-09-13",
           "Rennen | Strecke | Formel 1 | Team | Ferrari | Fahrer | Mugello | Sebastian Vettel | Aston Martin | Hamilton"
          ],
          [
           "2020-09-12",
           "Rennen | Strecke | Formel 1 | Team | Ferrari | Fahrer | Mugello | Sebastian Vettel | Aston Martin | Hamilton"
          ],
          [
           "2020-09-12",
           "Rennen | Strecke | Formel 1 | Team | Ferrari | Fahrer | Mugello | Sebastian Vettel | Aston Martin | Hamilton"
          ],
          [
           "2020-09-14",
           "Rennen | Strecke | Formel 1 | Team | Ferrari | Fahrer | Mugello | Sebastian Vettel | Aston Martin | Hamilton"
          ],
          [
           "2020-09-14",
           "Rennen | Strecke | Formel 1 | Team | Ferrari | Fahrer | Mugello | Sebastian Vettel | Aston Martin | Hamilton"
          ],
          [
           "2020-09-10",
           "Rennen | Strecke | Formel 1 | Team | Ferrari | Fahrer | Mugello | Sebastian Vettel | Aston Martin | Hamilton"
          ],
          [
           "2020-09-13",
           "Rennen | Strecke | Formel 1 | Team | Ferrari | Fahrer | Mugello | Sebastian Vettel | Aston Martin | Hamilton"
          ],
          [
           "2020-09-13",
           "Rennen | Strecke | Formel 1 | Team | Ferrari | Fahrer | Mugello | Sebastian Vettel | Aston Martin | Hamilton"
          ],
          [
           "2020-09-12",
           "Rennen | Strecke | Formel 1 | Team | Ferrari | Fahrer | Mugello | Sebastian Vettel | Aston Martin | Hamilton"
          ],
          [
           "2020-09-13",
           "Rennen | Strecke | Formel 1 | Team | Ferrari | Fahrer | Mugello | Sebastian Vettel | Aston Martin | Hamilton"
          ],
          [
           "2020-09-09",
           "Rennen | Strecke | Formel 1 | Team | Ferrari | Fahrer | Mugello | Sebastian Vettel | Aston Martin | Hamilton"
          ],
          [
           "2020-09-10",
           "Rennen | Strecke | Formel 1 | Team | Ferrari | Fahrer | Mugello | Sebastian Vettel | Aston Martin | Hamilton"
          ],
          [
           "2020-09-11",
           "Rennen | Strecke | Formel 1 | Team | Ferrari | Fahrer | Mugello | Sebastian Vettel | Aston Martin | Hamilton"
          ],
          [
           "2020-09-10",
           "Rennen | Strecke | Formel 1 | Team | Ferrari | Fahrer | Mugello | Sebastian Vettel | Aston Martin | Hamilton"
          ],
          [
           "2020-09-10",
           "Film | Fans | Schauspieler | Familie | Serie | Show | Instagram | alles | etwas | Corona"
          ],
          [
           "2020-09-11",
           "Film | Fans | Schauspieler | Familie | Serie | Show | Instagram | alles | etwas | Corona"
          ],
          [
           "2020-09-09",
           "Film | Fans | Schauspieler | Familie | Serie | Show | Instagram | alles | etwas | Corona"
          ],
          [
           "2020-09-13",
           "Film | Fans | Schauspieler | Familie | Serie | Show | Instagram | alles | etwas | Corona"
          ],
          [
           "2020-09-14",
           "Film | Fans | Schauspieler | Familie | Serie | Show | Instagram | alles | etwas | Corona"
          ],
          [
           "2020-09-12",
           "Film | Fans | Schauspieler | Familie | Serie | Show | Instagram | alles | etwas | Corona"
          ],
          [
           "2020-09-11",
           "Film | Fans | Schauspieler | Familie | Serie | Show | Instagram | alles | etwas | Corona"
          ],
          [
           "2020-09-10",
           "Film | Fans | Schauspieler | Familie | Serie | Show | Instagram | alles | etwas | Corona"
          ],
          [
           "2020-09-12",
           "Film | Fans | Schauspieler | Familie | Serie | Show | Instagram | alles | etwas | Corona"
          ],
          [
           "2020-09-11",
           "Film | Fans | Schauspieler | Familie | Serie | Show | Instagram | alles | etwas | Corona"
          ],
          [
           "2020-09-14",
           "Film | Fans | Schauspieler | Familie | Serie | Show | Instagram | alles | etwas | Corona"
          ],
          [
           "2020-09-12",
           "Film | Fans | Schauspieler | Familie | Serie | Show | Instagram | alles | etwas | Corona"
          ],
          [
           "2020-09-10",
           "Film | Fans | Schauspieler | Familie | Serie | Show | Instagram | alles | etwas | Corona"
          ],
          [
           "2020-09-10",
           "Film | Fans | Schauspieler | Familie | Serie | Show | Instagram | alles | etwas | Corona"
          ],
          [
           "2020-09-09",
           "Film | Fans | Schauspieler | Familie | Serie | Show | Instagram | alles | etwas | Corona"
          ],
          [
           "2020-09-10",
           "Film | Fans | Schauspieler | Familie | Serie | Show | Instagram | alles | etwas | Corona"
          ],
          [
           "2020-09-12",
           "Film | Fans | Schauspieler | Familie | Serie | Show | Instagram | alles | etwas | Corona"
          ],
          [
           "2020-09-11",
           "Film | Fans | Schauspieler | Familie | Serie | Show | Instagram | alles | etwas | Corona"
          ],
          [
           "2020-09-13",
           "Film | Fans | Schauspieler | Familie | Serie | Show | Instagram | alles | etwas | Corona"
          ],
          [
           "2020-09-14",
           "Film | Fans | Schauspieler | Familie | Serie | Show | Instagram | alles | etwas | Corona"
          ],
          [
           "2020-09-11",
           "Film | Fans | Schauspieler | Familie | Serie | Show | Instagram | alles | etwas | Corona"
          ],
          [
           "2020-09-09",
           "Film | Fans | Schauspieler | Familie | Serie | Show | Instagram | alles | etwas | Corona"
          ],
          [
           "2020-09-09",
           "Film | Fans | Schauspieler | Familie | Serie | Show | Instagram | alles | etwas | Corona"
          ],
          [
           "2020-09-13",
           "Film | Fans | Schauspieler | Familie | Serie | Show | Instagram | alles | etwas | Corona"
          ],
          [
           "2020-09-09",
           "Film | Fans | Schauspieler | Familie | Serie | Show | Instagram | alles | etwas | Corona"
          ],
          [
           "2020-09-11",
           "Film | Fans | Schauspieler | Familie | Serie | Show | Instagram | alles | etwas | Corona"
          ],
          [
           "2020-09-10",
           "Film | Fans | Schauspieler | Familie | Serie | Show | Instagram | alles | etwas | Corona"
          ],
          [
           "2020-09-10",
           "Film | Fans | Schauspieler | Familie | Serie | Show | Instagram | alles | etwas | Corona"
          ],
          [
           "2020-09-11",
           "Film | Fans | Schauspieler | Familie | Serie | Show | Instagram | alles | etwas | Corona"
          ],
          [
           "2020-09-12",
           "Film | Fans | Schauspieler | Familie | Serie | Show | Instagram | alles | etwas | Corona"
          ],
          [
           "2020-09-12",
           "Film | Fans | Schauspieler | Familie | Serie | Show | Instagram | alles | etwas | Corona"
          ],
          [
           "2020-09-11",
           "Film | Fans | Schauspieler | Familie | Serie | Show | Instagram | alles | etwas | Corona"
          ],
          [
           "2020-09-14",
           "Film | Fans | Schauspieler | Familie | Serie | Show | Instagram | alles | etwas | Corona"
          ],
          [
           "2020-09-10",
           "Film | Fans | Schauspieler | Familie | Serie | Show | Instagram | alles | etwas | Corona"
          ],
          [
           "2020-09-12",
           "Film | Fans | Schauspieler | Familie | Serie | Show | Instagram | alles | etwas | Corona"
          ],
          [
           "2020-09-13",
           "Film | Fans | Schauspieler | Familie | Serie | Show | Instagram | alles | etwas | Corona"
          ],
          [
           "2020-09-10",
           "Film | Fans | Schauspieler | Familie | Serie | Show | Instagram | alles | etwas | Corona"
          ],
          [
           "2020-09-11",
           "Film | Fans | Schauspieler | Familie | Serie | Show | Instagram | alles | etwas | Corona"
          ],
          [
           "2020-09-12",
           "Film | Fans | Schauspieler | Familie | Serie | Show | Instagram | alles | etwas | Corona"
          ],
          [
           "2020-09-12",
           "Film | Fans | Schauspieler | Familie | Serie | Show | Instagram | alles | etwas | Corona"
          ],
          [
           "2020-09-09",
           "Film | Fans | Schauspieler | Familie | Serie | Show | Instagram | alles | etwas | Corona"
          ],
          [
           "2020-09-13",
           "Film | Fans | Schauspieler | Familie | Serie | Show | Instagram | alles | etwas | Corona"
          ],
          [
           "2020-09-11",
           "Film | Fans | Schauspieler | Familie | Serie | Show | Instagram | alles | etwas | Corona"
          ],
          [
           "2020-09-11",
           "Film | Fans | Schauspieler | Familie | Serie | Show | Instagram | alles | etwas | Corona"
          ],
          [
           "2020-09-13",
           "Film | Fans | Schauspieler | Familie | Serie | Show | Instagram | alles | etwas | Corona"
          ],
          [
           "2020-09-10",
           "Film | Fans | Schauspieler | Familie | Serie | Show | Instagram | alles | etwas | Corona"
          ],
          [
           "2020-09-10",
           "Film | Fans | Schauspieler | Familie | Serie | Show | Instagram | alles | etwas | Corona"
          ],
          [
           "2020-09-13",
           "Film | Fans | Schauspieler | Familie | Serie | Show | Instagram | alles | etwas | Corona"
          ],
          [
           "2020-09-14",
           "Film | Fans | Schauspieler | Familie | Serie | Show | Instagram | alles | etwas | Corona"
          ],
          [
           "2020-09-13",
           "Film | Fans | Schauspieler | Familie | Serie | Show | Instagram | alles | etwas | Corona"
          ],
          [
           "2020-09-10",
           "Film | Fans | Schauspieler | Familie | Serie | Show | Instagram | alles | etwas | Corona"
          ],
          [
           "2020-09-14",
           "Film | Fans | Schauspieler | Familie | Serie | Show | Instagram | alles | etwas | Corona"
          ],
          [
           "2020-09-13",
           "Film | Fans | Schauspieler | Familie | Serie | Show | Instagram | alles | etwas | Corona"
          ],
          [
           "2020-09-09",
           "Film | Fans | Schauspieler | Familie | Serie | Show | Instagram | alles | etwas | Corona"
          ],
          [
           "2020-09-10",
           "Film | Fans | Schauspieler | Familie | Serie | Show | Instagram | alles | etwas | Corona"
          ],
          [
           "2020-09-09",
           "Film | Fans | Schauspieler | Familie | Serie | Show | Instagram | alles | etwas | Corona"
          ],
          [
           "2020-09-13",
           "Film | Fans | Schauspieler | Familie | Serie | Show | Instagram | alles | etwas | Corona"
          ],
          [
           "2020-09-12",
           "Film | Fans | Schauspieler | Familie | Serie | Show | Instagram | alles | etwas | Corona"
          ],
          [
           "2020-09-10",
           "Film | Fans | Schauspieler | Familie | Serie | Show | Instagram | alles | etwas | Corona"
          ],
          [
           "2020-09-10",
           "Film | Fans | Schauspieler | Familie | Serie | Show | Instagram | alles | etwas | Corona"
          ],
          [
           "2020-09-14",
           "Film | Fans | Schauspieler | Familie | Serie | Show | Instagram | alles | etwas | Corona"
          ],
          [
           "2020-09-12",
           "Brände | Feuer | Menschen | Flammen | Westküste | Waldbrände | Kalifornien | Rauch | Behörden | Klimawandel"
          ],
          [
           "2020-09-11",
           "Brände | Feuer | Menschen | Flammen | Westküste | Waldbrände | Kalifornien | Rauch | Behörden | Klimawandel"
          ],
          [
           "2020-09-10",
           "Brände | Feuer | Menschen | Flammen | Westküste | Waldbrände | Kalifornien | Rauch | Behörden | Klimawandel"
          ],
          [
           "2020-09-13",
           "Brände | Feuer | Menschen | Flammen | Westküste | Waldbrände | Kalifornien | Rauch | Behörden | Klimawandel"
          ],
          [
           "2020-09-14",
           "Brände | Feuer | Menschen | Flammen | Westküste | Waldbrände | Kalifornien | Rauch | Behörden | Klimawandel"
          ],
          [
           "2020-09-12",
           "Henrik | Aurelia | Luca | Love Island | Jungs | Nathalia | Politiker-Enkel | Tim | Couple | nichts"
          ],
          [
           "2020-09-09",
           "Henrik | Aurelia | Luca | Love Island | Jungs | Nathalia | Politiker-Enkel | Tim | Couple | nichts"
          ],
          [
           "2020-09-10",
           "Henrik | Aurelia | Luca | Love Island | Jungs | Nathalia | Politiker-Enkel | Tim | Couple | nichts"
          ],
          [
           "2020-09-14",
           "Henrik | Aurelia | Luca | Love Island | Jungs | Nathalia | Politiker-Enkel | Tim | Couple | nichts"
          ],
          [
           "2020-09-12",
           "Henrik | Aurelia | Luca | Love Island | Jungs | Nathalia | Politiker-Enkel | Tim | Couple | nichts"
          ],
          [
           "2020-09-11",
           "Henrik | Aurelia | Luca | Love Island | Jungs | Nathalia | Politiker-Enkel | Tim | Couple | nichts"
          ],
          [
           "2020-09-11",
           "Henrik | Aurelia | Luca | Love Island | Jungs | Nathalia | Politiker-Enkel | Tim | Couple | nichts"
          ],
          [
           "2020-09-11",
           "Henrik | Aurelia | Luca | Love Island | Jungs | Nathalia | Politiker-Enkel | Tim | Couple | nichts"
          ],
          [
           "2020-09-13",
           "Henrik | Aurelia | Luca | Love Island | Jungs | Nathalia | Politiker-Enkel | Tim | Couple | nichts"
          ],
          [
           "2020-09-10",
           "Henrik | Aurelia | Luca | Love Island | Jungs | Nathalia | Politiker-Enkel | Tim | Couple | nichts"
          ],
          [
           "2020-09-09",
           "Playbook | Teams | Team | Quarterback | Spieler | Corona | Rassismus | NFL | New England Patriots | Tom Brady"
          ],
          [
           "2020-09-10",
           "Playbook | Teams | Team | Quarterback | Spieler | Corona | Rassismus | NFL | New England Patriots | Tom Brady"
          ],
          [
           "2020-09-10",
           "Playbook | Teams | Team | Quarterback | Spieler | Corona | Rassismus | NFL | New England Patriots | Tom Brady"
          ],
          [
           "2020-09-09",
           "Playbook | Teams | Team | Quarterback | Spieler | Corona | Rassismus | NFL | New England Patriots | Tom Brady"
          ],
          [
           "2020-09-11",
           "Playbook | Teams | Team | Quarterback | Spieler | Corona | Rassismus | NFL | New England Patriots | Tom Brady"
          ],
          [
           "2020-09-09",
           "Playbook | Teams | Team | Quarterback | Spieler | Corona | Rassismus | NFL | New England Patriots | Tom Brady"
          ],
          [
           "2020-09-13",
           "Playbook | Teams | Team | Quarterback | Spieler | Corona | Rassismus | NFL | New England Patriots | Tom Brady"
          ],
          [
           "2020-09-13",
           "Polizei | Fahrer | Auto | Unfall | Verletzungen | Mann | Krankenhaus | Männer | Autos | Brand"
          ],
          [
           "2020-09-12",
           "Polizei | Fahrer | Auto | Unfall | Verletzungen | Mann | Krankenhaus | Männer | Autos | Brand"
          ],
          [
           "2020-09-10",
           "Polizei | Fahrer | Auto | Unfall | Verletzungen | Mann | Krankenhaus | Männer | Autos | Brand"
          ],
          [
           "2020-09-12",
           "Polizei | Fahrer | Auto | Unfall | Verletzungen | Mann | Krankenhaus | Männer | Autos | Brand"
          ],
          [
           "2020-09-12",
           "Polizei | Fahrer | Auto | Unfall | Verletzungen | Mann | Krankenhaus | Männer | Autos | Brand"
          ],
          [
           "2020-09-12",
           "Polizei | Fahrer | Auto | Unfall | Verletzungen | Mann | Krankenhaus | Männer | Autos | Brand"
          ],
          [
           "2020-09-10",
           "Polizei | Fahrer | Auto | Unfall | Verletzungen | Mann | Krankenhaus | Männer | Autos | Brand"
          ],
          [
           "2020-09-11",
           "Polizei | Fahrer | Auto | Unfall | Verletzungen | Mann | Krankenhaus | Männer | Autos | Brand"
          ],
          [
           "2020-09-11",
           "Polizei | Fahrer | Auto | Unfall | Verletzungen | Mann | Krankenhaus | Männer | Autos | Brand"
          ],
          [
           "2020-09-10",
           "Polizei | Fahrer | Auto | Unfall | Verletzungen | Mann | Krankenhaus | Männer | Autos | Brand"
          ],
          [
           "2020-09-13",
           "Polizei | Fahrer | Auto | Unfall | Verletzungen | Mann | Krankenhaus | Männer | Autos | Brand"
          ],
          [
           "2020-09-09",
           "Polizei | Fahrer | Auto | Unfall | Verletzungen | Mann | Krankenhaus | Männer | Autos | Brand"
          ],
          [
           "2020-09-10",
           "Polizei | Fahrer | Auto | Unfall | Verletzungen | Mann | Krankenhaus | Männer | Autos | Brand"
          ],
          [
           "2020-09-10",
           "Polizei | Fahrer | Auto | Unfall | Verletzungen | Mann | Krankenhaus | Männer | Autos | Brand"
          ],
          [
           "2020-09-13",
           "Polizei | Fahrer | Auto | Unfall | Verletzungen | Mann | Krankenhaus | Männer | Autos | Brand"
          ],
          [
           "2020-09-11",
           "Polizei | Fahrer | Auto | Unfall | Verletzungen | Mann | Krankenhaus | Männer | Autos | Brand"
          ],
          [
           "2020-09-12",
           "Polizei | Fahrer | Auto | Unfall | Verletzungen | Mann | Krankenhaus | Männer | Autos | Brand"
          ],
          [
           "2020-09-13",
           "Polizei | Fahrer | Auto | Unfall | Verletzungen | Mann | Krankenhaus | Männer | Autos | Brand"
          ],
          [
           "2020-09-14",
           "Polizei | Fahrer | Auto | Unfall | Verletzungen | Mann | Krankenhaus | Männer | Autos | Brand"
          ],
          [
           "2020-09-09",
           "Polizei | Fahrer | Auto | Unfall | Verletzungen | Mann | Krankenhaus | Männer | Autos | Brand"
          ],
          [
           "2020-09-11",
           "Rennen | Nürburgring | Müller | Rast | Sieg | Tabellenführer | Pilot | Platz | beide | Lauf"
          ],
          [
           "2020-09-13",
           "Rennen | Nürburgring | Müller | Rast | Sieg | Tabellenführer | Pilot | Platz | beide | Lauf"
          ],
          [
           "2020-09-12",
           "Rennen | Nürburgring | Müller | Rast | Sieg | Tabellenführer | Pilot | Platz | beide | Lauf"
          ],
          [
           "2020-09-13",
           "Rennen | Nürburgring | Müller | Rast | Sieg | Tabellenführer | Pilot | Platz | beide | Lauf"
          ],
          [
           "2020-09-13",
           "Rennen | Nürburgring | Müller | Rast | Sieg | Tabellenführer | Pilot | Platz | beide | Lauf"
          ],
          [
           "2020-09-14",
           "Menschen | Frauen | Diktator | Sicherheitskräfte | Demonstranten | Macht | Polizeigewalt | Land | Gesicht | Proteste"
          ],
          [
           "2020-09-14",
           "Menschen | Frauen | Diktator | Sicherheitskräfte | Demonstranten | Macht | Polizeigewalt | Land | Gesicht | Proteste"
          ],
          [
           "2020-09-13",
           "Menschen | Frauen | Diktator | Sicherheitskräfte | Demonstranten | Macht | Polizeigewalt | Land | Gesicht | Proteste"
          ],
          [
           "2020-09-13",
           "Menschen | Frauen | Diktator | Sicherheitskräfte | Demonstranten | Macht | Polizeigewalt | Land | Gesicht | Proteste"
          ],
          [
           "2020-09-10",
           "Menschen | Frauen | Diktator | Sicherheitskräfte | Demonstranten | Macht | Polizeigewalt | Land | Gesicht | Proteste"
          ],
          [
           "2020-09-13",
           "Finale | Halbfinale | US Open | Alexander Zverev | Bruder | Satz | Grand-Slam-Titel | Match | New York | Boris Becker"
          ],
          [
           "2020-09-13",
           "Finale | Halbfinale | US Open | Alexander Zverev | Bruder | Satz | Grand-Slam-Titel | Match | New York | Boris Becker"
          ],
          [
           "2020-09-11",
           "Finale | Halbfinale | US Open | Alexander Zverev | Bruder | Satz | Grand-Slam-Titel | Match | New York | Boris Becker"
          ],
          [
           "2020-09-10",
           "Finale | Halbfinale | US Open | Alexander Zverev | Bruder | Satz | Grand-Slam-Titel | Match | New York | Boris Becker"
          ],
          [
           "2020-09-14",
           "Finale | Halbfinale | US Open | Alexander Zverev | Bruder | Satz | Grand-Slam-Titel | Match | New York | Boris Becker"
          ],
          [
           "2020-09-14",
           "Finale | Halbfinale | US Open | Alexander Zverev | Bruder | Satz | Grand-Slam-Titel | Match | New York | Boris Becker"
          ],
          [
           "2020-09-09",
           "Finale | Halbfinale | US Open | Alexander Zverev | Bruder | Satz | Grand-Slam-Titel | Match | New York | Boris Becker"
          ],
          [
           "2020-09-12",
           "Finale | Halbfinale | US Open | Alexander Zverev | Bruder | Satz | Grand-Slam-Titel | Match | New York | Boris Becker"
          ],
          [
           "2020-09-10",
           "Finale | Halbfinale | US Open | Alexander Zverev | Bruder | Satz | Grand-Slam-Titel | Match | New York | Boris Becker"
          ],
          [
           "2020-09-12",
           "Finale | Halbfinale | US Open | Alexander Zverev | Bruder | Satz | Grand-Slam-Titel | Match | New York | Boris Becker"
          ],
          [
           "2020-09-13",
           "Finale | Halbfinale | US Open | Alexander Zverev | Bruder | Satz | Grand-Slam-Titel | Match | New York | Boris Becker"
          ],
          [
           "2020-09-10",
           "Finale | Halbfinale | US Open | Alexander Zverev | Bruder | Satz | Grand-Slam-Titel | Match | New York | Boris Becker"
          ],
          [
           "2020-09-12",
           "Finale | Halbfinale | US Open | Alexander Zverev | Bruder | Satz | Grand-Slam-Titel | Match | New York | Boris Becker"
          ],
          [
           "2020-09-10",
           "Finale | Halbfinale | US Open | Alexander Zverev | Bruder | Satz | Grand-Slam-Titel | Match | New York | Boris Becker"
          ],
          [
           "2020-09-11",
           "Finale | Halbfinale | US Open | Alexander Zverev | Bruder | Satz | Grand-Slam-Titel | Match | New York | Boris Becker"
          ],
          [
           "2020-09-10",
           "Finale | Halbfinale | US Open | Alexander Zverev | Bruder | Satz | Grand-Slam-Titel | Match | New York | Boris Becker"
          ],
          [
           "2020-09-11",
           "Finale | Halbfinale | US Open | Alexander Zverev | Bruder | Satz | Grand-Slam-Titel | Match | New York | Boris Becker"
          ],
          [
           "2020-09-12",
           "Finale | Halbfinale | US Open | Alexander Zverev | Bruder | Satz | Grand-Slam-Titel | Match | New York | Boris Becker"
          ],
          [
           "2020-09-14",
           "Finale | Halbfinale | US Open | Alexander Zverev | Bruder | Satz | Grand-Slam-Titel | Match | New York | Boris Becker"
          ],
          [
           "2020-09-14",
           "Ratings | Tempo | etwas | Spieler | Gesamtspielstärke | FIFA | Spiel | Rating | Werte | Downgrade"
          ],
          [
           "2020-09-14",
           "Ratings | Tempo | etwas | Spieler | Gesamtspielstärke | FIFA | Spiel | Rating | Werte | Downgrade"
          ],
          [
           "2020-09-11",
           "Ratings | Tempo | etwas | Spieler | Gesamtspielstärke | FIFA | Spiel | Rating | Werte | Downgrade"
          ],
          [
           "2020-09-09",
           "Virus | Schweinepest | Menschen | Schweinefleisch | Afrikanischen | Grenze | Fall | Schweine | Tierseuche | Elke Reinking"
          ],
          [
           "2020-09-11",
           "Virus | Schweinepest | Menschen | Schweinefleisch | Afrikanischen | Grenze | Fall | Schweine | Tierseuche | Elke Reinking"
          ],
          [
           "2020-09-12",
           "Virus | Schweinepest | Menschen | Schweinefleisch | Afrikanischen | Grenze | Fall | Schweine | Tierseuche | Elke Reinking"
          ],
          [
           "2020-09-10",
           "Virus | Schweinepest | Menschen | Schweinefleisch | Afrikanischen | Grenze | Fall | Schweine | Tierseuche | Elke Reinking"
          ],
          [
           "2020-09-10",
           "Virus | Schweinepest | Menschen | Schweinefleisch | Afrikanischen | Grenze | Fall | Schweine | Tierseuche | Elke Reinking"
          ],
          [
           "2020-09-12",
           "Virus | Schweinepest | Menschen | Schweinefleisch | Afrikanischen | Grenze | Fall | Schweine | Tierseuche | Elke Reinking"
          ],
          [
           "2020-09-12",
           "Menschen | Frau | Bars | Garmisch-Partenkirchen | Personen | Neuinfektionen | Landkreis | Corona | Quarantäne | Superspreader"
          ],
          [
           "2020-09-11",
           "Menschen | Frau | Bars | Garmisch-Partenkirchen | Personen | Neuinfektionen | Landkreis | Corona | Quarantäne | Superspreader"
          ],
          [
           "2020-09-11",
           "Menschen | Frau | Bars | Garmisch-Partenkirchen | Personen | Neuinfektionen | Landkreis | Corona | Quarantäne | Superspreader"
          ],
          [
           "2020-09-13",
           "Menschen | Frau | Bars | Garmisch-Partenkirchen | Personen | Neuinfektionen | Landkreis | Corona | Quarantäne | Superspreader"
          ],
          [
           "2020-09-13",
           "Menschen | Frau | Bars | Garmisch-Partenkirchen | Personen | Neuinfektionen | Landkreis | Corona | Quarantäne | Superspreader"
          ],
          [
           "2020-09-13",
           "Menschen | Frau | Bars | Garmisch-Partenkirchen | Personen | Neuinfektionen | Landkreis | Corona | Quarantäne | Superspreader"
          ],
          [
           "2020-09-11",
           "Urlaub | Corona | Amt | Risikogebiet | Reisewarnungen | Reisen | Infektionszahlen | Regionen | Liste | Risikogebiete"
          ],
          [
           "2020-09-10",
           "Urlaub | Corona | Amt | Risikogebiet | Reisewarnungen | Reisen | Infektionszahlen | Regionen | Liste | Risikogebiete"
          ],
          [
           "2020-09-14",
           "Urlaub | Corona | Amt | Risikogebiet | Reisewarnungen | Reisen | Infektionszahlen | Regionen | Liste | Risikogebiete"
          ],
          [
           "2020-09-10",
           "Urlaub | Corona | Amt | Risikogebiet | Reisewarnungen | Reisen | Infektionszahlen | Regionen | Liste | Risikogebiete"
          ],
          [
           "2020-09-10",
           "Urlaub | Corona | Amt | Risikogebiet | Reisewarnungen | Reisen | Infektionszahlen | Regionen | Liste | Risikogebiete"
          ],
          [
           "2020-09-14",
           "Urlaub | Corona | Amt | Risikogebiet | Reisewarnungen | Reisen | Infektionszahlen | Regionen | Liste | Risikogebiete"
          ],
          [
           "2020-09-10",
           "russische | Fall | Kreml | Vergiftung | russischen | Bundesregierung | Kritiker | Koma | Russen | Alexej Nawalny"
          ],
          [
           "2020-09-10",
           "russische | Fall | Kreml | Vergiftung | russischen | Bundesregierung | Kritiker | Koma | Russen | Alexej Nawalny"
          ],
          [
           "2020-09-10",
           "russische | Fall | Kreml | Vergiftung | russischen | Bundesregierung | Kritiker | Koma | Russen | Alexej Nawalny"
          ],
          [
           "2020-09-14",
           "russische | Fall | Kreml | Vergiftung | russischen | Bundesregierung | Kritiker | Koma | Russen | Alexej Nawalny"
          ],
          [
           "2020-09-14",
           "russische | Fall | Kreml | Vergiftung | russischen | Bundesregierung | Kritiker | Koma | Russen | Alexej Nawalny"
          ],
          [
           "2020-09-11",
           "russische | Fall | Kreml | Vergiftung | russischen | Bundesregierung | Kritiker | Koma | Russen | Alexej Nawalny"
          ],
          [
           "2020-09-14",
           "Landratsamt | Krokodil | Ufer | Existenz | Gero Wendt | Wendt | Unstrut-Ungetüm | Sondershausen | Futterfalle | Reptils"
          ],
          [
           "2020-09-11",
           "Landratsamt | Krokodil | Ufer | Existenz | Gero Wendt | Wendt | Unstrut-Ungetüm | Sondershausen | Futterfalle | Reptils"
          ]
         ],
         "hovertemplate": "<b>%{hovertext}</b><br><br>x=%{x}<br>y=%{y}<br>created_at=%{customdata[0]}<br>TopWords=%{customdata[1]}<br>labels=%{marker.color}<extra></extra>",
         "hovertext": [
          "Welche Versicherung muss sein, welche ist Quatsch?",
          "So lange müssen wir die Corona-Schulden abstottern",
          "50 Sparfochs-Tipps für ein sorgenfreieres Leben",
          "Steuererhöhungen Gift in der Corona-Krise",
          "So werden aus 10 000 Euro mit etwas Geduld 99 000 Euro!",
          "Neue Privatleasing-Schnäppchen",
          "Kassensturz: So groß ist das Corona-Steuerloch",
          "Spätestens im März wird es ein Massensterben geben",
          "Historischer Steuer-Einbruch in Bayern",
          "So weit geht die Renten-Schere auseinander",
          "Corona reißt Milliarden-Loch",
          "Wie stark belastet Corona unseren Geldbeutel?",
          "Tierschützer retten völlig verwahrloste Dackel",
          "Lotta von Entführerin befreit",
          "Entflogener Hornvogel eingefangen",
          "Zöllner retten Zwergspitz-Welpen",
          "Polizei rettet verwahrloste Welpen aus Wohnung",
          "Ist es wirklich schlecht, seinen Hund zu tragen?",
          "Polizei entdeckt vernachlässigte Pferde in Sachsen",
          "Lotta beim Einkaufen entführt!",
          "So läuft das miese Geschäft mit exotischen Tieren",
          "Die Kinder von Moria brauchen unsere Hilfe",
          "In dieser Hölle lebenrund 4000 Kinder",
          "Diese Missstände führten zur Schande von Moria",
          "Hunderte demonstrieren für Aufnahme von Flüchtlingen",
          "Deutschland nimmt 100 bis 150 Kinder aus Moria auf",
          "Zweites Feuer im Flüchtlingscamp Moria!",
          "Deutschland nimmt 100 bis 150 Minderjährige auf",
          "„Vorausgehen taugt nichts, wenn niemand mehr folgen will“",
          "Polizei setzt Tränengasgegen Migranten ein",
          "Die Kinder von Moria lernen weiter",
          "Merkel will mehr Moria-Flüchtlinge aufnehmen!",
          "Alle wussten, dass es passieren würde",
          "Niemand will ein zweites Moria",
          "Claudia Roth attackiert Seehofer",
          "10 deutsche Städte wollen Moria-Flüchtlinge aufnehmen",
          "Darum wollen sie nicht ins neue Camp",
          "Großbrand am Hafen von Beirut",
          "EU muss Chinas Firmen-„Einkaufstour“ stoppen!",
          "Werden Sie nicht zum Herzlos-Kanzler, Herr Kurz!",
          "Viele wollen nach „Germany“",
          "Kinder weinen, Politiker streiten",
          "Übernahme von 400 Kinder aus Moria in EU",
          "DRK-Hilfsflüge nach Lesbos",
          "Nach zweitem Feuer: Menschen schliefen auf der Straße",
          "Iyoha drohtlange Pause!",
          "Goldhändchen Rösler!",
          "Preußen-Doc beklagt Vertrauens-Verlust",
          "„Krieger” Sobottka zieht wieder die Strippen",
          "Kownacki wankt über den Platz",
          "Wolf bekommtdie Nr. 1",
          "Zum Pokal-Start nur Hennings da",
          "Nächstes Pokal-Spielvor Absage",
          "Mick fährt SchumisRekord-Ferrari",
          "Ernst August fährtzur Nervenklinik",
          "So wollte Vettel nicht aufhören",
          "Das ist der Milliardär hinter dem Vettel-Deal",
          "Formel 1 schenkt Ferrari ein Heim-Rennen",
          "Darum gibt's gerade soviele Crashs in der Formel 1",
          "Jetzt ist der Platz für Vettel frei",
          "BILD enthülltden Vettel-Vertrag",
          "Massen-Crash beim Neustart",
          "Vettel-Frust beim Ferrari-Fest",
          "FORMEL BOND",
          "„Wollen die uns töten, oder was!?“",
          "„Mein Vater hat eine Legende geschaffen“",
          "Moto-GP-Legende Rossi fährt mit Viagra-Helm",
          "So kam es zum Massen-Crash in der Formel 1",
          "Hamilton braucht noch 309,7 Kilometer bis zum Schumi-Rekord",
          "Offiziell! Vettelwechselt zu Aston Martin",
          "Hamilton fährt dem Chaos davon",
          "„Es gibt viel, dass ichvon Mick lernen kann“",
          "Ferraris Aufwärmrunde",
          "Hamilton mit Protest-Shirtauf dem Podium",
          "Mick fährtSchumis rote Göttin",
          "VETTEL Darum gehe ichzu Aston Martin",
          "Das erwartet Vettelbei Aston Martin",
          "Vettel hat schon einen neuen Dienstwagen",
          "So stinkreich ist derKardashian-Clan",
          "Kleinwüchsiger Wrestler Stevie Lee stirbt mit 54 Jahren",
          "Queere Mega-Besetzung für neue Netflix-Serie",
          "Hollywood-König zeigt seine Prinzen-Familie",
          "SCHAUMhochzeit auf Schloss Bückeburg",
          "Hier sprießen nicht nur die Blumen",
          "Nach den Knutsch-Fotos servierte er seine Verlobte ab!",
          "Drama um Raabs Kult-Rentner Ingrid und Klaus",
          "Masturbieren Sie mal mit Ihrem Partner!",
          "Da glüht der Sand am Strand",
          "Liebt Pietro Lombardi diese Influencerin?",
          "„Er war einer der liebevollsten Menschen der Welt“",
          "„So etwas Asoziales habe ich noch nicht erlebt“",
          "Christine Neubauer spielt gegen Corona-Krise",
          "„Wir sind im Krankenhaus für Geisteskranke“",
          "Ruiniert das Virusunsere Kultur?",
          "Schlagabtausch der Dschungelnattern!",
          "Steffen Hensslerbricht TV-Dreh ab",
          "Sieht so der neue Feminismus aus?",
          "Ex-Porno-Star (24)stirbt im Schlaf",
          "Zac Efrons Neue ist Kellnerin",
          "Badesalz macht Radio",
          "Mein Freund macht mich verrückt",
          "8 Gründe, wieso Corona der Liebe gut tut!",
          "„Twin Peaks“- und „Fargo“- Fans bitte einschalten!",
          "Spahn-Auftritt bei BILD-Talk ist jetzt sogar Kunst",
          "Dieser Influencer-Kussheizte Venedig ein!",
          "„Wir sind kulturell unterzuckert“",
          "So heftig war dieTorten-Attacke wirklich",
          "Die Obert und ihr Liebesnest",
          "„Ich denke nicht an das Alter“",
          "Heidis Next Topmodel",
          "Urlaub in der Villa von „Der Prinz von Bel-Air“ gefällig?",
          "Der „Tatort“-Star musste Soforthilfe beantragen",
          "Darum ist böse besser als nett",
          "Wir sind das neue Traumpaar im TV",
          "Dschungelcamp-Star Elena Miras ist wieder solo",
          "Fan-Liebling André Dietzsteigt nach 14 Jahren aus!",
          "Jetzt beenden sie sogar die Familientherapie",
          "Kleider machen LEADER",
          "Falsche Tierliebe tut weh",
          "„Zwei, drei Maß schaffe ich schon“",
          "Pädophilie-Skandal um Netflix-Film „Cuties“!",
          "Auch in Beziehungen braucht es klare Worte",
          "DIESEN Job macht Laura Müller neben Bohlen und Co.",
          "Nachwuchs bei „Kampf der Realitystars“?",
          "Heidi Klums Prügel-Model: Drogen-Entzug im Kloster!",
          "„Meine tote Mutter hilft mir beim Songschreiben“",
          "Elena Carrière (23) zeigt ihre Cellulite",
          "Warum Hollywood vor China kuscht",
          "Rosige Rache an Brad Pitt",
          "Pietro Lombardi ist nicht mehr single!",
          "Raten Sie mal, wer hier auf Prince macht",
          "Diese Stars waren ihre großen Kinorollen ganz schnell los",
          "Natascha ist das Wiesn-Playmate 2020",
          "Wendlers Laura riskiert ’ne dicke Lippe",
          "Bei diesem Test hofft er auf ein positives Ergebnis",
          "Dann mit noch mehr Hexer-Sex?",
          "Bitte keine politischen Regeln für die Kunst!",
          "„Game of Thrones“-Star Diana Rigg gestorben",
          "Wie Raab hinter der Kamera die Fäden zieht",
          "Feuerexperte: „Eigentlich muss es noch mehr brennen!“",
          "Schon 15 Feuer-Opfer an der US-Westküste",
          "Eltern auf Flucht vor dem Feuer verletzt, Baby tot!",
          "Angst vor Smog und Plünderungen",
          "35 Tote durch Kalifornien-Brände",
          "Sex-Proll Henrik knutscht fremd",
          "Politiker-Enkel hat Sex bei „Love Island“!",
          "Politiker-Enkel wird zum Sex-Proll",
          "Penis-Protz Hendrik geht auf Luca los",
          "Micaela (36) ist scharf auf Gerhard Schröder (76)",
          "Was ein altes Video überden Sex-Proll verrät",
          "Heiße Poledance-Einlage inder „Love Island“-Villa",
          "Fummel-Premiere auf „Love Island“",
          "„Sexy Granaten“ sprengen die Paare auseinander",
          "Heiße Schaumparty in der „Love Island“-Villa",
          "Buccaneers lösen Versprechenvon Bradys Ex-Klub ein",
          "Das sind die Top-Duelledes ersten NFL-Spieltags",
          "Deshalb steht uns die härteste NFL-Saison aller Zeiten bevor",
          "Playbook ist„so wertvoll wie Gold“",
          "Pfiffe für Protestaktion bei NFL-Auftakt",
          "Brady muss für denTitel alles neu lernen",
          "Brady-Nachfolger mit Touchdown-Show",
          "Todesfalle Oldtimer",
          "BMW fackelt auf A57 ab",
          "Fliege verursacht Unfall – zwei Schwerverletzte!",
          "Biker stirbt bei Crash mit Biker",
          "20-Jähriger liegt tot unter seinem Roller",
          "Motorrad-Werkstatt in Flammen",
          "Retter kracht gegen Baum",
          "Mercedes rammt Rollifahrer (78) von Landstraße - tot",
          "Liegender Laster legt Autobahn lahm",
          "Fußgängerin kollidiert mit drei Autos auf der Autobahn - tot",
          "Domino-Crash bei Oldenburg",
          "Motorradfahrer tödlich verunglückt",
          "Laster fackelt auf der A5 ab",
          "E-Bike-Fahrer stirbt nach Sturz",
          "Baum-Crash!Zwei Tote auf B 442",
          "Junger Biker (18) nach Motorrad-Crash schwer verletzt",
          "Feuerteufel treibt im Kölner Westen sein Unwesen",
          "Tödlicher Frontalzusammenstoß",
          "Lkw kollidieren auf der Autobahn 2",
          "510-PS-Flitzerkracht gegen Baum",
          "Flotte Frauen machen Abts DTM-Stars schnell!",
          "MotoGP-Krimi! Last-Minute-Schock für Rossi",
          "Alles Müller, oder Rast?",
          "Audi ist das Mercedes der DTM",
          "Dieser Rennfahrer fährt mit Gottes Segen",
          "Besen-Oma vermöbelt Lukaschenkos Prügeltruppen",
          "Hat Putin Lukaschenko jetzt in der Hand?",
          "Lukaschenko läßt Dutzende Frauen festnehmen",
          "150 000 Menschen gegen Lukaschenko auf der Straße",
          "Kolesnikowa stellt Anzeige wegen Morddrohungen!",
          "Thiem gegen Zverev –das Kumpel-Duell!",
          "Thiem zittert vor Anrufbei Andy Murray",
          "Halbfinal-Aus fürSerena Williams",
          "Zverev setzt auf seinen Kracher-Aufschlag",
          "Zverevs Titel-Traum zerstört",
          "Als er seinen Eltern dankte, kamen ihm die Tränen",
          "„Djokovic fragte mich, wie er aus der Nummer rauskommen kann“",
          "„Der Top-Favorit für den Sieg ist für mich …“",
          "Zverev schlägt in Köln auf!",
          "Becker-Lob für Zverev nach Giganten-Comeback!",
          "Im TV! Zverevs Bruderkommen die Tränen",
          "6 Gründe, warum Zverev die US Open gewinnt",
          "FINALE statt BLAMAGE!",
          "Mischa leiht Sascha seinen Trainer",
          "Sorgerecht-Krieg! Ihren größten Sieg holte sie für ihn",
          "Dominic Thiem im Halbfinale",
          "Tennis-Sensation! Siegemund siegt im Doppel",
          "Als er mich nach dem Spiel anrief, sagte er…",
          "„Kopf hoch, mein Junge - du kommst zurück!“",
          "Das sagen die deutscheneSport-Stars zu den Ratings!",
          "Diese Spieler solltetihr euch holen!",
          "Fußball-Stars motzen über FIFA-Wertungen",
          "Verdacht auf Afrikanische Schweinepest",
          "Kleines ABC der Schweinepest",
          "So hart trifft uns der Exportstopp nach China",
          "Wie gefährlich ist die Afrikanische Schweinepest?",
          "Verdacht auf Schweinepest bestätigt!",
          "China verbietet Import von deutschem Schweinefleisch",
          "Eine Stadt wartet auf Corona-Ergebnisse",
          "Superspreaderin (26) zieht hochinfektiös durch Bars",
          "Garmisch verschärft Corona-Maßnahmen",
          "Garmisch-Partenkirchen sauer auf die Superspreaderin",
          "Anwalt: Superspreaderin droht lange Haftstrafe",
          "Pub-Betreiber total fertig: „Das ist eine Katastrophe!“",
          "Ab wann ist ein Land NICHT mehr Risikogebiet?",
          "Hier können Sie jetzt noch Herbsturlaub machen",
          "Wo kann ich jetzt noch Urlaub machen?",
          "Kann ich Reisen für nächstes Jahr schon SICHER buchen?",
          "BILD beantwortet Ihre Ferien-Fragen!",
          "Storno-Zoff mit FTI um Indien-Urlaub",
          "Er ist bei Bewusstsein! Er erinnert sich an die Ereignisse am Flughafen!",
          "Berlin und Moskau streiten über Nawalny-Treffen",
          "Trumps Top-Diplomat: Kreml steckt hinter Gift-Attacke",
          "Nawalny wird nicht mehr künstlich beatmet",
          "Wie viel vom Fall Nawalnysteckte in diesem „Tatort“?",
          "War das Gift auf der Unterwäsche Nawalnys?",
          "Experte soll nach Unstrut-Krokodil suchen",
          "Warten auf das Unstrut-Kroko"
         ],
         "legendgroup": "",
         "marker": {
          "color": [
           22,
           22,
           22,
           22,
           22,
           22,
           22,
           22,
           22,
           22,
           22,
           22,
           17,
           17,
           17,
           17,
           17,
           17,
           17,
           17,
           17,
           2,
           2,
           2,
           2,
           2,
           2,
           2,
           2,
           2,
           2,
           2,
           2,
           2,
           2,
           2,
           2,
           2,
           2,
           2,
           2,
           2,
           2,
           2,
           2,
           23,
           23,
           23,
           23,
           23,
           23,
           23,
           23,
           10,
           10,
           10,
           10,
           10,
           10,
           10,
           10,
           10,
           10,
           10,
           10,
           10,
           10,
           10,
           10,
           10,
           10,
           10,
           10,
           10,
           10,
           10,
           10,
           10,
           44,
           44,
           44,
           44,
           44,
           44,
           44,
           44,
           44,
           44,
           44,
           44,
           44,
           44,
           44,
           44,
           44,
           44,
           44,
           44,
           44,
           44,
           44,
           44,
           44,
           44,
           44,
           44,
           44,
           44,
           44,
           44,
           44,
           44,
           44,
           44,
           44,
           44,
           44,
           44,
           44,
           44,
           44,
           44,
           44,
           44,
           44,
           44,
           44,
           44,
           44,
           44,
           44,
           44,
           44,
           44,
           44,
           44,
           44,
           44,
           44,
           1,
           1,
           1,
           1,
           1,
           45,
           45,
           45,
           45,
           45,
           45,
           45,
           45,
           45,
           45,
           4,
           4,
           4,
           4,
           4,
           4,
           4,
           9,
           9,
           9,
           9,
           9,
           9,
           9,
           9,
           9,
           9,
           9,
           9,
           9,
           9,
           9,
           9,
           9,
           9,
           9,
           9,
           51,
           51,
           51,
           51,
           51,
           53,
           53,
           53,
           53,
           53,
           0,
           0,
           0,
           0,
           0,
           0,
           0,
           0,
           0,
           0,
           0,
           0,
           0,
           0,
           0,
           0,
           0,
           0,
           0,
           50,
           50,
           50,
           30,
           30,
           30,
           30,
           30,
           30,
           29,
           29,
           29,
           29,
           29,
           29,
           14,
           14,
           14,
           14,
           14,
           14,
           18,
           18,
           18,
           18,
           18,
           18,
           16,
           16
          ],
          "coloraxis": "coloraxis",
          "line": {
           "color": "DarkSlateGrey",
           "width": 0.15
          },
          "opacity": 0.8,
          "size": 9,
          "symbol": "circle"
         },
         "mode": "markers",
         "name": "",
         "orientation": "v",
         "showlegend": false,
         "type": "scatter",
         "x": [
          6.770177841186523,
          6.947566509246826,
          7.061005592346191,
          6.79413366317749,
          7.048375129699707,
          7.292754650115967,
          6.862074375152588,
          6.718723773956299,
          6.9088029861450195,
          6.8705339431762695,
          6.7715253829956055,
          6.751692295074463,
          5.702359676361084,
          5.326379776000977,
          6.367417812347412,
          5.664880275726318,
          5.611547470092773,
          5.653224468231201,
          5.783055305480957,
          5.486214637756348,
          5.693016052246094,
          5.351313591003418,
          5.8447699546813965,
          5.828857421875,
          5.173845291137695,
          5.762026309967041,
          5.627033710479736,
          5.736919403076172,
          5.620425224304199,
          5.437956809997559,
          5.331984043121338,
          5.476736068725586,
          5.295834541320801,
          5.552939414978027,
          5.462255001068115,
          5.585903644561768,
          5.587510585784912,
          5.802901744842529,
          5.652591705322266,
          5.613613605499268,
          5.573533058166504,
          5.481678485870361,
          5.652538776397705,
          5.299129486083984,
          5.50014066696167,
          7.0950164794921875,
          7.29837703704834,
          7.185596466064453,
          7.6777544021606445,
          7.028796195983887,
          7.111027240753174,
          7.4226908683776855,
          6.73869514465332,
          9.019469261169434,
          9.295857429504395,
          9.552040100097656,
          9.314626693725586,
          8.527214050292969,
          8.052651405334473,
          9.36673355102539,
          9.347809791564941,
          8.951817512512207,
          9.297348976135254,
          9.334548950195312,
          9.058547973632812,
          9.077088356018066,
          8.841812133789062,
          8.8041410446167,
          9.199701309204102,
          9.230936050415039,
          9.188008308410645,
          8.713809967041016,
          8.68925666809082,
          8.815606117248535,
          8.873612403869629,
          9.109862327575684,
          9.402168273925781,
          9.280684471130371,
          5.274503707885742,
          6.540674209594727,
          6.443670272827148,
          6.7254228591918945,
          5.907162189483643,
          5.01145076751709,
          5.631339073181152,
          6.04655647277832,
          5.323112487792969,
          4.971767902374268,
          5.303309440612793,
          6.140912055969238,
          6.38498592376709,
          5.932274341583252,
          6.194266319274902,
          6.328512668609619,
          5.43279504776001,
          6.293216705322266,
          5.110416412353516,
          5.600401878356934,
          5.680758953094482,
          6.31419563293457,
          6.214375972747803,
          6.183499813079834,
          5.857423782348633,
          5.9531707763671875,
          5.330949306488037,
          6.337022304534912,
          5.801947116851807,
          5.722012519836426,
          5.971070766448975,
          5.0070672035217285,
          6.266276836395264,
          6.165006160736084,
          6.389950275421143,
          5.48964262008667,
          5.432636737823486,
          6.615919589996338,
          5.558934688568115,
          5.685678482055664,
          6.328974723815918,
          6.34052038192749,
          5.680748462677002,
          6.523408889770508,
          5.634143352508545,
          5.475787162780762,
          5.444873332977295,
          5.869332790374756,
          5.028844833374023,
          5.779108047485352,
          5.612522125244141,
          5.265795707702637,
          5.571487903594971,
          6.3528618812561035,
          5.891467571258545,
          5.226353168487549,
          6.03451681137085,
          6.2542805671691895,
          6.518548011779785,
          5.909384727478027,
          6.147411346435547,
          6.590137958526611,
          6.518751621246338,
          6.528256893157959,
          6.345736503601074,
          6.588001728057861,
          5.206876754760742,
          4.98491907119751,
          4.9951910972595215,
          5.276051044464111,
          5.412603378295898,
          5.452974796295166,
          5.006557941436768,
          5.27784538269043,
          5.2227606773376465,
          5.185726165771484,
          6.760578155517578,
          7.042363166809082,
          7.189119338989258,
          7.085218906402588,
          7.007828235626221,
          7.003355026245117,
          7.273741245269775,
          7.946563243865967,
          7.4456963539123535,
          7.701103210449219,
          7.87569522857666,
          7.553003311157227,
          7.326505184173584,
          7.6963348388671875,
          7.808913707733154,
          7.791337490081787,
          7.889794826507568,
          7.614248752593994,
          7.549177646636963,
          7.543582439422607,
          7.5974931716918945,
          7.7661848068237305,
          7.83873176574707,
          7.521782398223877,
          7.742677211761475,
          7.565825939178467,
          7.64084529876709,
          8.375082969665527,
          8.910601615905762,
          8.731853485107422,
          9.008862495422363,
          9.10404109954834,
          5.212644100189209,
          6.086430072784424,
          5.171961784362793,
          5.2435383796691895,
          5.298047065734863,
          7.866982936859131,
          7.920156955718994,
          7.299246311187744,
          7.865833759307861,
          7.744858741760254,
          7.4902448654174805,
          6.875456809997559,
          7.836727142333984,
          7.75330924987793,
          8.000243186950684,
          7.48038387298584,
          7.946708679199219,
          7.686914920806885,
          7.896789073944092,
          7.2649970054626465,
          7.656063079833984,
          6.712698459625244,
          7.47294807434082,
          7.723115921020508,
          7.680676460266113,
          7.629453659057617,
          7.632307529449463,
          6.202089786529541,
          6.088316440582275,
          6.15444278717041,
          6.370821475982666,
          6.055186748504639,
          6.042011260986328,
          5.723039627075195,
          5.706018924713135,
          5.807153224945068,
          5.597955226898193,
          5.559494495391846,
          5.558615207672119,
          6.265157222747803,
          6.407970905303955,
          6.378500461578369,
          6.450071334838867,
          6.363442420959473,
          6.546379566192627,
          6.030722141265869,
          5.789449691772461,
          5.923626899719238,
          6.163743019104004,
          5.828280448913574,
          5.790994644165039,
          6.170929908752441,
          6.242451190948486
         ],
         "xaxis": "x",
         "y": [
          7.447083950042725,
          7.1179518699646,
          6.9177961349487305,
          7.459660053253174,
          6.852214813232422,
          7.041569232940674,
          7.057759761810303,
          7.538812160491943,
          7.108224391937256,
          6.810904502868652,
          7.2903242111206055,
          7.291733741760254,
          7.603133678436279,
          7.146560192108154,
          7.640565395355225,
          7.174623489379883,
          7.606802940368652,
          7.589540004730225,
          7.6235270500183105,
          7.121609687805176,
          7.189330577850342,
          8.036543846130371,
          8.104338645935059,
          7.8764424324035645,
          8.116026878356934,
          8.03978157043457,
          8.487737655639648,
          7.697891712188721,
          7.584874153137207,
          8.269047737121582,
          7.776467323303223,
          7.510553359985352,
          8.313138961791992,
          8.209465980529785,
          7.611640930175781,
          7.8660101890563965,
          8.184828758239746,
          8.389993667602539,
          7.115274906158447,
          7.573710918426514,
          8.412657737731934,
          8.180319786071777,
          7.7494330406188965,
          7.826967716217041,
          8.230876922607422,
          7.063675403594971,
          6.660040378570557,
          6.934665203094482,
          6.608515739440918,
          6.781864643096924,
          6.95137357711792,
          6.7237725257873535,
          6.757650375366211,
          6.104172706604004,
          5.966497421264648,
          6.2797369956970215,
          6.182640075683594,
          6.376376152038574,
          6.769641876220703,
          6.421818733215332,
          6.513169288635254,
          6.504749298095703,
          6.5329437255859375,
          6.2026896476745605,
          6.569465637207031,
          6.198637008666992,
          6.263566970825195,
          6.547725200653076,
          6.6490936279296875,
          6.327694416046143,
          6.665106296539307,
          6.479350566864014,
          6.158754348754883,
          6.36309814453125,
          6.29245138168335,
          6.4484052658081055,
          6.341504096984863,
          6.335524559020996,
          5.573049545288086,
          5.606537342071533,
          5.590593338012695,
          5.460433006286621,
          5.949270725250244,
          5.73160457611084,
          5.551270961761475,
          5.5676188468933105,
          5.912729263305664,
          5.710641384124756,
          5.507842063903809,
          5.306395053863525,
          6.389427661895752,
          5.516748428344727,
          6.1490631103515625,
          5.688492774963379,
          5.679007530212402,
          5.6440205574035645,
          5.726140975952148,
          6.021053314208984,
          5.450623989105225,
          5.858509063720703,
          6.213112831115723,
          6.742416858673096,
          6.3861403465271,
          5.476378440856934,
          5.3392791748046875,
          6.300302505493164,
          6.022529602050781,
          5.096623420715332,
          5.408355712890625,
          5.891595840454102,
          5.308463096618652,
          5.8489251136779785,
          6.052377223968506,
          5.107994079589844,
          5.410646438598633,
          5.946219444274902,
          5.746126174926758,
          5.6206183433532715,
          5.822676181793213,
          5.569766998291016,
          6.264442443847656,
          6.358809947967529,
          5.085686206817627,
          5.609215259552002,
          5.9001078605651855,
          5.930359363555908,
          5.90056848526001,
          6.259676456451416,
          5.36466646194458,
          5.477704048156738,
          5.756712436676025,
          5.927398681640625,
          5.388194561004639,
          5.95060396194458,
          6.1240034103393555,
          6.460476398468018,
          6.2234578132629395,
          5.515692234039307,
          5.62464714050293,
          8.198506355285645,
          8.232104301452637,
          8.194380760192871,
          8.187224388122559,
          8.202089309692383,
          5.397781848907471,
          5.272928714752197,
          5.383510112762451,
          5.880372047424316,
          5.4776082038879395,
          5.0985541343688965,
          5.352020263671875,
          5.260735034942627,
          5.195554256439209,
          5.27741003036499,
          5.400394916534424,
          5.71042537689209,
          5.8070292472839355,
          6.121109962463379,
          6.190343379974365,
          5.950882434844971,
          5.948878765106201,
          8.623613357543945,
          8.940971374511719,
          9.277586936950684,
          9.209115982055664,
          9.120482444763184,
          8.808964729309082,
          9.169960975646973,
          9.0183687210083,
          8.932701110839844,
          9.141814231872559,
          9.158483505249023,
          8.86960506439209,
          9.0601224899292,
          8.940733909606934,
          9.247858047485352,
          9.109463691711426,
          8.874176025390625,
          8.972013473510742,
          8.881901741027832,
          8.67137336730957,
          6.140213966369629,
          6.306832313537598,
          6.3867902755737305,
          6.557013988494873,
          6.053728103637695,
          7.006594181060791,
          6.921555519104004,
          7.2003936767578125,
          7.257245063781738,
          7.00157356262207,
          5.043663501739502,
          5.068000316619873,
          5.241929054260254,
          5.331079483032227,
          5.237168312072754,
          5.143856525421143,
          6.183077335357666,
          5.147066116333008,
          5.28129768371582,
          5.394865036010742,
          5.3076491355896,
          5.409533977508545,
          5.532411098480225,
          5.407587051391602,
          5.296502113342285,
          5.072359561920166,
          5.354191780090332,
          5.262091159820557,
          5.267882823944092,
          6.214003086090088,
          6.231286525726318,
          6.276195526123047,
          7.564901351928711,
          7.578606605529785,
          7.491924285888672,
          7.645841121673584,
          7.596512794494629,
          7.479048252105713,
          6.62094259262085,
          6.672573566436768,
          6.697917938232422,
          6.499225616455078,
          6.590551853179932,
          6.502094745635986,
          7.122093677520752,
          6.726622581481934,
          7.076339244842529,
          6.68190860748291,
          6.883543491363525,
          6.577610492706299,
          6.922217845916748,
          7.124875545501709,
          6.910704612731934,
          6.96331262588501,
          6.687613010406494,
          6.783987522125244,
          7.3466315269470215,
          7.352293014526367
         ],
         "yaxis": "y"
        }
       ],
       "layout": {
        "autosize": true,
        "coloraxis": {
         "colorbar": {
          "title": {
           "text": "labels"
          }
         },
         "colorscale": [
          [
           0,
           "#0d0887"
          ],
          [
           0.1111111111111111,
           "#46039f"
          ],
          [
           0.2222222222222222,
           "#7201a8"
          ],
          [
           0.3333333333333333,
           "#9c179e"
          ],
          [
           0.4444444444444444,
           "#bd3786"
          ],
          [
           0.5555555555555556,
           "#d8576b"
          ],
          [
           0.6666666666666666,
           "#ed7953"
          ],
          [
           0.7777777777777778,
           "#fb9f3a"
          ],
          [
           0.8888888888888888,
           "#fdca26"
          ],
          [
           1,
           "#f0f921"
          ]
         ]
        },
        "legend": {
         "tracegroupgap": 0
        },
        "margin": {
         "t": 60
        },
        "template": {
         "data": {
          "bar": [
           {
            "error_x": {
             "color": "#2a3f5f"
            },
            "error_y": {
             "color": "#2a3f5f"
            },
            "marker": {
             "line": {
              "color": "#E5ECF6",
              "width": 0.5
             }
            },
            "type": "bar"
           }
          ],
          "barpolar": [
           {
            "marker": {
             "line": {
              "color": "#E5ECF6",
              "width": 0.5
             }
            },
            "type": "barpolar"
           }
          ],
          "carpet": [
           {
            "aaxis": {
             "endlinecolor": "#2a3f5f",
             "gridcolor": "white",
             "linecolor": "white",
             "minorgridcolor": "white",
             "startlinecolor": "#2a3f5f"
            },
            "baxis": {
             "endlinecolor": "#2a3f5f",
             "gridcolor": "white",
             "linecolor": "white",
             "minorgridcolor": "white",
             "startlinecolor": "#2a3f5f"
            },
            "type": "carpet"
           }
          ],
          "choropleth": [
           {
            "colorbar": {
             "outlinewidth": 0,
             "ticks": ""
            },
            "type": "choropleth"
           }
          ],
          "contour": [
           {
            "colorbar": {
             "outlinewidth": 0,
             "ticks": ""
            },
            "colorscale": [
             [
              0,
              "#0d0887"
             ],
             [
              0.1111111111111111,
              "#46039f"
             ],
             [
              0.2222222222222222,
              "#7201a8"
             ],
             [
              0.3333333333333333,
              "#9c179e"
             ],
             [
              0.4444444444444444,
              "#bd3786"
             ],
             [
              0.5555555555555556,
              "#d8576b"
             ],
             [
              0.6666666666666666,
              "#ed7953"
             ],
             [
              0.7777777777777778,
              "#fb9f3a"
             ],
             [
              0.8888888888888888,
              "#fdca26"
             ],
             [
              1,
              "#f0f921"
             ]
            ],
            "type": "contour"
           }
          ],
          "contourcarpet": [
           {
            "colorbar": {
             "outlinewidth": 0,
             "ticks": ""
            },
            "type": "contourcarpet"
           }
          ],
          "heatmap": [
           {
            "colorbar": {
             "outlinewidth": 0,
             "ticks": ""
            },
            "colorscale": [
             [
              0,
              "#0d0887"
             ],
             [
              0.1111111111111111,
              "#46039f"
             ],
             [
              0.2222222222222222,
              "#7201a8"
             ],
             [
              0.3333333333333333,
              "#9c179e"
             ],
             [
              0.4444444444444444,
              "#bd3786"
             ],
             [
              0.5555555555555556,
              "#d8576b"
             ],
             [
              0.6666666666666666,
              "#ed7953"
             ],
             [
              0.7777777777777778,
              "#fb9f3a"
             ],
             [
              0.8888888888888888,
              "#fdca26"
             ],
             [
              1,
              "#f0f921"
             ]
            ],
            "type": "heatmap"
           }
          ],
          "heatmapgl": [
           {
            "colorbar": {
             "outlinewidth": 0,
             "ticks": ""
            },
            "colorscale": [
             [
              0,
              "#0d0887"
             ],
             [
              0.1111111111111111,
              "#46039f"
             ],
             [
              0.2222222222222222,
              "#7201a8"
             ],
             [
              0.3333333333333333,
              "#9c179e"
             ],
             [
              0.4444444444444444,
              "#bd3786"
             ],
             [
              0.5555555555555556,
              "#d8576b"
             ],
             [
              0.6666666666666666,
              "#ed7953"
             ],
             [
              0.7777777777777778,
              "#fb9f3a"
             ],
             [
              0.8888888888888888,
              "#fdca26"
             ],
             [
              1,
              "#f0f921"
             ]
            ],
            "type": "heatmapgl"
           }
          ],
          "histogram": [
           {
            "marker": {
             "colorbar": {
              "outlinewidth": 0,
              "ticks": ""
             }
            },
            "type": "histogram"
           }
          ],
          "histogram2d": [
           {
            "colorbar": {
             "outlinewidth": 0,
             "ticks": ""
            },
            "colorscale": [
             [
              0,
              "#0d0887"
             ],
             [
              0.1111111111111111,
              "#46039f"
             ],
             [
              0.2222222222222222,
              "#7201a8"
             ],
             [
              0.3333333333333333,
              "#9c179e"
             ],
             [
              0.4444444444444444,
              "#bd3786"
             ],
             [
              0.5555555555555556,
              "#d8576b"
             ],
             [
              0.6666666666666666,
              "#ed7953"
             ],
             [
              0.7777777777777778,
              "#fb9f3a"
             ],
             [
              0.8888888888888888,
              "#fdca26"
             ],
             [
              1,
              "#f0f921"
             ]
            ],
            "type": "histogram2d"
           }
          ],
          "histogram2dcontour": [
           {
            "colorbar": {
             "outlinewidth": 0,
             "ticks": ""
            },
            "colorscale": [
             [
              0,
              "#0d0887"
             ],
             [
              0.1111111111111111,
              "#46039f"
             ],
             [
              0.2222222222222222,
              "#7201a8"
             ],
             [
              0.3333333333333333,
              "#9c179e"
             ],
             [
              0.4444444444444444,
              "#bd3786"
             ],
             [
              0.5555555555555556,
              "#d8576b"
             ],
             [
              0.6666666666666666,
              "#ed7953"
             ],
             [
              0.7777777777777778,
              "#fb9f3a"
             ],
             [
              0.8888888888888888,
              "#fdca26"
             ],
             [
              1,
              "#f0f921"
             ]
            ],
            "type": "histogram2dcontour"
           }
          ],
          "mesh3d": [
           {
            "colorbar": {
             "outlinewidth": 0,
             "ticks": ""
            },
            "type": "mesh3d"
           }
          ],
          "parcoords": [
           {
            "line": {
             "colorbar": {
              "outlinewidth": 0,
              "ticks": ""
             }
            },
            "type": "parcoords"
           }
          ],
          "pie": [
           {
            "automargin": true,
            "type": "pie"
           }
          ],
          "scatter": [
           {
            "marker": {
             "colorbar": {
              "outlinewidth": 0,
              "ticks": ""
             }
            },
            "type": "scatter"
           }
          ],
          "scatter3d": [
           {
            "line": {
             "colorbar": {
              "outlinewidth": 0,
              "ticks": ""
             }
            },
            "marker": {
             "colorbar": {
              "outlinewidth": 0,
              "ticks": ""
             }
            },
            "type": "scatter3d"
           }
          ],
          "scattercarpet": [
           {
            "marker": {
             "colorbar": {
              "outlinewidth": 0,
              "ticks": ""
             }
            },
            "type": "scattercarpet"
           }
          ],
          "scattergeo": [
           {
            "marker": {
             "colorbar": {
              "outlinewidth": 0,
              "ticks": ""
             }
            },
            "type": "scattergeo"
           }
          ],
          "scattergl": [
           {
            "marker": {
             "colorbar": {
              "outlinewidth": 0,
              "ticks": ""
             }
            },
            "type": "scattergl"
           }
          ],
          "scattermapbox": [
           {
            "marker": {
             "colorbar": {
              "outlinewidth": 0,
              "ticks": ""
             }
            },
            "type": "scattermapbox"
           }
          ],
          "scatterpolar": [
           {
            "marker": {
             "colorbar": {
              "outlinewidth": 0,
              "ticks": ""
             }
            },
            "type": "scatterpolar"
           }
          ],
          "scatterpolargl": [
           {
            "marker": {
             "colorbar": {
              "outlinewidth": 0,
              "ticks": ""
             }
            },
            "type": "scatterpolargl"
           }
          ],
          "scatterternary": [
           {
            "marker": {
             "colorbar": {
              "outlinewidth": 0,
              "ticks": ""
             }
            },
            "type": "scatterternary"
           }
          ],
          "surface": [
           {
            "colorbar": {
             "outlinewidth": 0,
             "ticks": ""
            },
            "colorscale": [
             [
              0,
              "#0d0887"
             ],
             [
              0.1111111111111111,
              "#46039f"
             ],
             [
              0.2222222222222222,
              "#7201a8"
             ],
             [
              0.3333333333333333,
              "#9c179e"
             ],
             [
              0.4444444444444444,
              "#bd3786"
             ],
             [
              0.5555555555555556,
              "#d8576b"
             ],
             [
              0.6666666666666666,
              "#ed7953"
             ],
             [
              0.7777777777777778,
              "#fb9f3a"
             ],
             [
              0.8888888888888888,
              "#fdca26"
             ],
             [
              1,
              "#f0f921"
             ]
            ],
            "type": "surface"
           }
          ],
          "table": [
           {
            "cells": {
             "fill": {
              "color": "#EBF0F8"
             },
             "line": {
              "color": "white"
             }
            },
            "header": {
             "fill": {
              "color": "#C8D4E3"
             },
             "line": {
              "color": "white"
             }
            },
            "type": "table"
           }
          ]
         },
         "layout": {
          "annotationdefaults": {
           "arrowcolor": "#2a3f5f",
           "arrowhead": 0,
           "arrowwidth": 1
          },
          "coloraxis": {
           "colorbar": {
            "outlinewidth": 0,
            "ticks": ""
           }
          },
          "colorscale": {
           "diverging": [
            [
             0,
             "#8e0152"
            ],
            [
             0.1,
             "#c51b7d"
            ],
            [
             0.2,
             "#de77ae"
            ],
            [
             0.3,
             "#f1b6da"
            ],
            [
             0.4,
             "#fde0ef"
            ],
            [
             0.5,
             "#f7f7f7"
            ],
            [
             0.6,
             "#e6f5d0"
            ],
            [
             0.7,
             "#b8e186"
            ],
            [
             0.8,
             "#7fbc41"
            ],
            [
             0.9,
             "#4d9221"
            ],
            [
             1,
             "#276419"
            ]
           ],
           "sequential": [
            [
             0,
             "#0d0887"
            ],
            [
             0.1111111111111111,
             "#46039f"
            ],
            [
             0.2222222222222222,
             "#7201a8"
            ],
            [
             0.3333333333333333,
             "#9c179e"
            ],
            [
             0.4444444444444444,
             "#bd3786"
            ],
            [
             0.5555555555555556,
             "#d8576b"
            ],
            [
             0.6666666666666666,
             "#ed7953"
            ],
            [
             0.7777777777777778,
             "#fb9f3a"
            ],
            [
             0.8888888888888888,
             "#fdca26"
            ],
            [
             1,
             "#f0f921"
            ]
           ],
           "sequentialminus": [
            [
             0,
             "#0d0887"
            ],
            [
             0.1111111111111111,
             "#46039f"
            ],
            [
             0.2222222222222222,
             "#7201a8"
            ],
            [
             0.3333333333333333,
             "#9c179e"
            ],
            [
             0.4444444444444444,
             "#bd3786"
            ],
            [
             0.5555555555555556,
             "#d8576b"
            ],
            [
             0.6666666666666666,
             "#ed7953"
            ],
            [
             0.7777777777777778,
             "#fb9f3a"
            ],
            [
             0.8888888888888888,
             "#fdca26"
            ],
            [
             1,
             "#f0f921"
            ]
           ]
          },
          "colorway": [
           "#636efa",
           "#EF553B",
           "#00cc96",
           "#ab63fa",
           "#FFA15A",
           "#19d3f3",
           "#FF6692",
           "#B6E880",
           "#FF97FF",
           "#FECB52"
          ],
          "font": {
           "color": "#2a3f5f"
          },
          "geo": {
           "bgcolor": "white",
           "lakecolor": "white",
           "landcolor": "#E5ECF6",
           "showlakes": true,
           "showland": true,
           "subunitcolor": "white"
          },
          "hoverlabel": {
           "align": "left"
          },
          "hovermode": "closest",
          "mapbox": {
           "style": "light"
          },
          "paper_bgcolor": "white",
          "plot_bgcolor": "#E5ECF6",
          "polar": {
           "angularaxis": {
            "gridcolor": "white",
            "linecolor": "white",
            "ticks": ""
           },
           "bgcolor": "#E5ECF6",
           "radialaxis": {
            "gridcolor": "white",
            "linecolor": "white",
            "ticks": ""
           }
          },
          "scene": {
           "xaxis": {
            "backgroundcolor": "#E5ECF6",
            "gridcolor": "white",
            "gridwidth": 2,
            "linecolor": "white",
            "showbackground": true,
            "ticks": "",
            "zerolinecolor": "white"
           },
           "yaxis": {
            "backgroundcolor": "#E5ECF6",
            "gridcolor": "white",
            "gridwidth": 2,
            "linecolor": "white",
            "showbackground": true,
            "ticks": "",
            "zerolinecolor": "white"
           },
           "zaxis": {
            "backgroundcolor": "#E5ECF6",
            "gridcolor": "white",
            "gridwidth": 2,
            "linecolor": "white",
            "showbackground": true,
            "ticks": "",
            "zerolinecolor": "white"
           }
          },
          "shapedefaults": {
           "line": {
            "color": "#2a3f5f"
           }
          },
          "ternary": {
           "aaxis": {
            "gridcolor": "white",
            "linecolor": "white",
            "ticks": ""
           },
           "baxis": {
            "gridcolor": "white",
            "linecolor": "white",
            "ticks": ""
           },
           "bgcolor": "#E5ECF6",
           "caxis": {
            "gridcolor": "white",
            "linecolor": "white",
            "ticks": ""
           }
          },
          "title": {
           "x": 0.05
          },
          "xaxis": {
           "automargin": true,
           "gridcolor": "white",
           "linecolor": "white",
           "ticks": "",
           "title": {
            "standoff": 15
           },
           "zerolinecolor": "white",
           "zerolinewidth": 2
          },
          "yaxis": {
           "automargin": true,
           "gridcolor": "white",
           "linecolor": "white",
           "ticks": "",
           "title": {
            "standoff": 15
           },
           "zerolinecolor": "white",
           "zerolinewidth": 2
          }
         }
        },
        "xaxis": {
         "anchor": "y",
         "autorange": true,
         "domain": [
          0,
          1
         ],
         "range": [
          4.702667394145921,
          9.821140608326003
         ],
         "title": {
          "text": "x"
         },
         "type": "linear"
        },
        "yaxis": {
         "anchor": "x",
         "autorange": true,
         "domain": [
          0,
          1
         ],
         "range": [
          4.773752617390575,
          9.54749782129961
         ],
         "title": {
          "text": "y"
         },
         "type": "linear"
        }
       }
      },
      "image/png": "[encoded data removed]",
      "text/html": [
       "<div>                            <div id=\"8b236217-6a5a-41d8-93d2-4ba3bd4a7dbd\" class=\"plotly-graph-div\" style=\"height:1000px; width:100%;\"></div>            <script type=\"text/javascript\">                require([\"plotly\"], function(Plotly) {                    window.PLOTLYENV=window.PLOTLYENV || {};                                    if (document.getElementById(\"8b236217-6a5a-41d8-93d2-4ba3bd4a7dbd\")) {                    Plotly.newPlot(                        \"8b236217-6a5a-41d8-93d2-4ba3bd4a7dbd\",                        [{\"customdata\": [[\"2020-09-12\", \"Steuereinnahmen | Bund | Corona-Krise | Wirtschaft | Schulden | Pandemie | L\\u00e4nder | Zahlen | Steuersch\\u00e4tzung | Steuererh\\u00f6hungen\"], [\"2020-09-11\", \"Steuereinnahmen | Bund | Corona-Krise | Wirtschaft | Schulden | Pandemie | L\\u00e4nder | Zahlen | Steuersch\\u00e4tzung | Steuererh\\u00f6hungen\"], [\"2020-09-11\", \"Steuereinnahmen | Bund | Corona-Krise | Wirtschaft | Schulden | Pandemie | L\\u00e4nder | Zahlen | Steuersch\\u00e4tzung | Steuererh\\u00f6hungen\"], [\"2020-09-10\", \"Steuereinnahmen | Bund | Corona-Krise | Wirtschaft | Schulden | Pandemie | L\\u00e4nder | Zahlen | Steuersch\\u00e4tzung | Steuererh\\u00f6hungen\"], [\"2020-09-10\", \"Steuereinnahmen | Bund | Corona-Krise | Wirtschaft | Schulden | Pandemie | L\\u00e4nder | Zahlen | Steuersch\\u00e4tzung | Steuererh\\u00f6hungen\"], [\"2020-09-11\", \"Steuereinnahmen | Bund | Corona-Krise | Wirtschaft | Schulden | Pandemie | L\\u00e4nder | Zahlen | Steuersch\\u00e4tzung | Steuererh\\u00f6hungen\"], [\"2020-09-10\", \"Steuereinnahmen | Bund | Corona-Krise | Wirtschaft | Schulden | Pandemie | L\\u00e4nder | Zahlen | Steuersch\\u00e4tzung | Steuererh\\u00f6hungen\"], [\"2020-09-10\", \"Steuereinnahmen | Bund | Corona-Krise | Wirtschaft | Schulden | Pandemie | L\\u00e4nder | Zahlen | Steuersch\\u00e4tzung | Steuererh\\u00f6hungen\"], [\"2020-09-10\", \"Steuereinnahmen | Bund | Corona-Krise | Wirtschaft | Schulden | Pandemie | L\\u00e4nder | Zahlen | Steuersch\\u00e4tzung | Steuererh\\u00f6hungen\"], [\"2020-09-13\", \"Steuereinnahmen | Bund | Corona-Krise | Wirtschaft | Schulden | Pandemie | L\\u00e4nder | Zahlen | Steuersch\\u00e4tzung | Steuererh\\u00f6hungen\"], [\"2020-09-14\", \"Steuereinnahmen | Bund | Corona-Krise | Wirtschaft | Schulden | Pandemie | L\\u00e4nder | Zahlen | Steuersch\\u00e4tzung | Steuererh\\u00f6hungen\"], [\"2020-09-13\", \"Steuereinnahmen | Bund | Corona-Krise | Wirtschaft | Schulden | Pandemie | L\\u00e4nder | Zahlen | Steuersch\\u00e4tzung | Steuererh\\u00f6hungen\"], [\"2020-09-13\", \"Hunde | H\\u00fcndin | Lotta | Tiere | Polizei | Supermarkt | Wohnung | Tier | Arm | Hund\"], [\"2020-09-10\", \"Hunde | H\\u00fcndin | Lotta | Tiere | Polizei | Supermarkt | Wohnung | Tier | Arm | Hund\"], [\"2020-09-10\", \"Hunde | H\\u00fcndin | Lotta | Tiere | Polizei | Supermarkt | Wohnung | Tier | Arm | Hund\"], [\"2020-09-11\", \"Hunde | H\\u00fcndin | Lotta | Tiere | Polizei | Supermarkt | Wohnung | Tier | Arm | Hund\"], [\"2020-09-12\", \"Hunde | H\\u00fcndin | Lotta | Tiere | Polizei | Supermarkt | Wohnung | Tier | Arm | Hund\"], [\"2020-09-14\", \"Hunde | H\\u00fcndin | Lotta | Tiere | Polizei | Supermarkt | Wohnung | Tier | Arm | Hund\"], [\"2020-09-13\", \"Hunde | H\\u00fcndin | Lotta | Tiere | Polizei | Supermarkt | Wohnung | Tier | Arm | Hund\"], [\"2020-09-09\", \"Hunde | H\\u00fcndin | Lotta | Tiere | Polizei | Supermarkt | Wohnung | Tier | Arm | Hund\"], [\"2020-09-09\", \"Hunde | H\\u00fcndin | Lotta | Tiere | Polizei | Supermarkt | Wohnung | Tier | Arm | Hund\"], [\"2020-09-10\", \"Menschen | Moria | Fl\\u00fcchtlinge | Aufnahme | Lager | Kinder | Fl\\u00fcchtlingslager | Migranten | Lesbos | Camp\"], [\"2020-09-12\", \"Menschen | Moria | Fl\\u00fcchtlinge | Aufnahme | Lager | Kinder | Fl\\u00fcchtlingslager | Migranten | Lesbos | Camp\"], [\"2020-09-11\", \"Menschen | Moria | Fl\\u00fcchtlinge | Aufnahme | Lager | Kinder | Fl\\u00fcchtlingslager | Migranten | Lesbos | Camp\"], [\"2020-09-09\", \"Menschen | Moria | Fl\\u00fcchtlinge | Aufnahme | Lager | Kinder | Fl\\u00fcchtlingslager | Migranten | Lesbos | Camp\"], [\"2020-09-11\", \"Menschen | Moria | Fl\\u00fcchtlinge | Aufnahme | Lager | Kinder | Fl\\u00fcchtlingslager | Migranten | Lesbos | Camp\"], [\"2020-09-09\", \"Menschen | Moria | Fl\\u00fcchtlinge | Aufnahme | Lager | Kinder | Fl\\u00fcchtlingslager | Migranten | Lesbos | Camp\"], [\"2020-09-11\", \"Menschen | Moria | Fl\\u00fcchtlinge | Aufnahme | Lager | Kinder | Fl\\u00fcchtlingslager | Migranten | Lesbos | Camp\"], [\"2020-09-14\", \"Menschen | Moria | Fl\\u00fcchtlinge | Aufnahme | Lager | Kinder | Fl\\u00fcchtlingslager | Migranten | Lesbos | Camp\"], [\"2020-09-12\", \"Menschen | Moria | Fl\\u00fcchtlinge | Aufnahme | Lager | Kinder | Fl\\u00fcchtlingslager | Migranten | Lesbos | Camp\"], [\"2020-09-11\", \"Menschen | Moria | Fl\\u00fcchtlinge | Aufnahme | Lager | Kinder | Fl\\u00fcchtlingslager | Migranten | Lesbos | Camp\"], [\"2020-09-14\", \"Menschen | Moria | Fl\\u00fcchtlinge | Aufnahme | Lager | Kinder | Fl\\u00fcchtlingslager | Migranten | Lesbos | Camp\"], [\"2020-09-10\", \"Menschen | Moria | Fl\\u00fcchtlinge | Aufnahme | Lager | Kinder | Fl\\u00fcchtlingslager | Migranten | Lesbos | Camp\"], [\"2020-09-13\", \"Menschen | Moria | Fl\\u00fcchtlinge | Aufnahme | Lager | Kinder | Fl\\u00fcchtlingslager | Migranten | Lesbos | Camp\"], [\"2020-09-12\", \"Menschen | Moria | Fl\\u00fcchtlinge | Aufnahme | Lager | Kinder | Fl\\u00fcchtlingslager | Migranten | Lesbos | Camp\"], [\"2020-09-10\", \"Menschen | Moria | Fl\\u00fcchtlinge | Aufnahme | Lager | Kinder | Fl\\u00fcchtlingslager | Migranten | Lesbos | Camp\"], [\"2020-09-14\", \"Menschen | Moria | Fl\\u00fcchtlinge | Aufnahme | Lager | Kinder | Fl\\u00fcchtlingslager | Migranten | Lesbos | Camp\"], [\"2020-09-10\", \"Menschen | Moria | Fl\\u00fcchtlinge | Aufnahme | Lager | Kinder | Fl\\u00fcchtlingslager | Migranten | Lesbos | Camp\"], [\"2020-09-14\", \"Menschen | Moria | Fl\\u00fcchtlinge | Aufnahme | Lager | Kinder | Fl\\u00fcchtlingslager | Migranten | Lesbos | Camp\"], [\"2020-09-13\", \"Menschen | Moria | Fl\\u00fcchtlinge | Aufnahme | Lager | Kinder | Fl\\u00fcchtlingslager | Migranten | Lesbos | Camp\"], [\"2020-09-11\", \"Menschen | Moria | Fl\\u00fcchtlinge | Aufnahme | Lager | Kinder | Fl\\u00fcchtlingslager | Migranten | Lesbos | Camp\"], [\"2020-09-12\", \"Menschen | Moria | Fl\\u00fcchtlinge | Aufnahme | Lager | Kinder | Fl\\u00fcchtlingslager | Migranten | Lesbos | Camp\"], [\"2020-09-10\", \"Menschen | Moria | Fl\\u00fcchtlinge | Aufnahme | Lager | Kinder | Fl\\u00fcchtlingslager | Migranten | Lesbos | Camp\"], [\"2020-09-14\", \"Menschen | Moria | Fl\\u00fcchtlinge | Aufnahme | Lager | Kinder | Fl\\u00fcchtlingslager | Migranten | Lesbos | Camp\"], [\"2020-09-10\", \"Menschen | Moria | Fl\\u00fcchtlinge | Aufnahme | Lager | Kinder | Fl\\u00fcchtlingslager | Migranten | Lesbos | Camp\"], [\"2020-09-10\", \"Fortuna | Ingolstadt | Trainer | Uwe R\\u00f6sler | Quarant\\u00e4ne | Trainingsplatz | Platz | Sturm | Liga | Profi\"], [\"2020-09-13\", \"Fortuna | Ingolstadt | Trainer | Uwe R\\u00f6sler | Quarant\\u00e4ne | Trainingsplatz | Platz | Sturm | Liga | Profi\"], [\"2020-09-13\", \"Fortuna | Ingolstadt | Trainer | Uwe R\\u00f6sler | Quarant\\u00e4ne | Trainingsplatz | Platz | Sturm | Liga | Profi\"], [\"2020-09-14\", \"Fortuna | Ingolstadt | Trainer | Uwe R\\u00f6sler | Quarant\\u00e4ne | Trainingsplatz | Platz | Sturm | Liga | Profi\"], [\"2020-09-09\", \"Fortuna | Ingolstadt | Trainer | Uwe R\\u00f6sler | Quarant\\u00e4ne | Trainingsplatz | Platz | Sturm | Liga | Profi\"], [\"2020-09-11\", \"Fortuna | Ingolstadt | Trainer | Uwe R\\u00f6sler | Quarant\\u00e4ne | Trainingsplatz | Platz | Sturm | Liga | Profi\"], [\"2020-09-11\", \"Fortuna | Ingolstadt | Trainer | Uwe R\\u00f6sler | Quarant\\u00e4ne | Trainingsplatz | Platz | Sturm | Liga | Profi\"], [\"2020-09-12\", \"Fortuna | Ingolstadt | Trainer | Uwe R\\u00f6sler | Quarant\\u00e4ne | Trainingsplatz | Platz | Sturm | Liga | Profi\"], [\"2020-09-13\", \"Rennen | Strecke | Formel 1 | Team | Ferrari | Fahrer | Mugello | Sebastian Vettel | Aston Martin | Hamilton\"], [\"2020-09-11\", \"Rennen | Strecke | Formel 1 | Team | Ferrari | Fahrer | Mugello | Sebastian Vettel | Aston Martin | Hamilton\"], [\"2020-09-10\", \"Rennen | Strecke | Formel 1 | Team | Ferrari | Fahrer | Mugello | Sebastian Vettel | Aston Martin | Hamilton\"], [\"2020-09-11\", \"Rennen | Strecke | Formel 1 | Team | Ferrari | Fahrer | Mugello | Sebastian Vettel | Aston Martin | Hamilton\"], [\"2020-09-11\", \"Rennen | Strecke | Formel 1 | Team | Ferrari | Fahrer | Mugello | Sebastian Vettel | Aston Martin | Hamilton\"], [\"2020-09-14\", \"Rennen | Strecke | Formel 1 | Team | Ferrari | Fahrer | Mugello | Sebastian Vettel | Aston Martin | Hamilton\"], [\"2020-09-09\", \"Rennen | Strecke | Formel 1 | Team | Ferrari | Fahrer | Mugello | Sebastian Vettel | Aston Martin | Hamilton\"], [\"2020-09-10\", \"Rennen | Strecke | Formel 1 | Team | Ferrari | Fahrer | Mugello | Sebastian Vettel | Aston Martin | Hamilton\"], [\"2020-09-13\", \"Rennen | Strecke | Formel 1 | Team | Ferrari | Fahrer | Mugello | Sebastian Vettel | Aston Martin | Hamilton\"], [\"2020-09-12\", \"Rennen | Strecke | Formel 1 | Team | Ferrari | Fahrer | Mugello | Sebastian Vettel | Aston Martin | Hamilton\"], [\"2020-09-10\", \"Rennen | Strecke | Formel 1 | Team | Ferrari | Fahrer | Mugello | Sebastian Vettel | Aston Martin | Hamilton\"], [\"2020-09-13\", \"Rennen | Strecke | Formel 1 | Team | Ferrari | Fahrer | Mugello | Sebastian Vettel | Aston Martin | Hamilton\"], [\"2020-09-12\", \"Rennen | Strecke | Formel 1 | Team | Ferrari | Fahrer | Mugello | Sebastian Vettel | Aston Martin | Hamilton\"], [\"2020-09-12\", \"Rennen | Strecke | Formel 1 | Team | Ferrari | Fahrer | Mugello | Sebastian Vettel | Aston Martin | Hamilton\"], [\"2020-09-14\", \"Rennen | Strecke | Formel 1 | Team | Ferrari | Fahrer | Mugello | Sebastian Vettel | Aston Martin | Hamilton\"], [\"2020-09-14\", \"Rennen | Strecke | Formel 1 | Team | Ferrari | Fahrer | Mugello | Sebastian Vettel | Aston Martin | Hamilton\"], [\"2020-09-10\", \"Rennen | Strecke | Formel 1 | Team | Ferrari | Fahrer | Mugello | Sebastian Vettel | Aston Martin | Hamilton\"], [\"2020-09-13\", \"Rennen | Strecke | Formel 1 | Team | Ferrari | Fahrer | Mugello | Sebastian Vettel | Aston Martin | Hamilton\"], [\"2020-09-13\", \"Rennen | Strecke | Formel 1 | Team | Ferrari | Fahrer | Mugello | Sebastian Vettel | Aston Martin | Hamilton\"], [\"2020-09-12\", \"Rennen | Strecke | Formel 1 | Team | Ferrari | Fahrer | Mugello | Sebastian Vettel | Aston Martin | Hamilton\"], [\"2020-09-13\", \"Rennen | Strecke | Formel 1 | Team | Ferrari | Fahrer | Mugello | Sebastian Vettel | Aston Martin | Hamilton\"], [\"2020-09-09\", \"Rennen | Strecke | Formel 1 | Team | Ferrari | Fahrer | Mugello | Sebastian Vettel | Aston Martin | Hamilton\"], [\"2020-09-10\", \"Rennen | Strecke | Formel 1 | Team | Ferrari | Fahrer | Mugello | Sebastian Vettel | Aston Martin | Hamilton\"], [\"2020-09-11\", \"Rennen | Strecke | Formel 1 | Team | Ferrari | Fahrer | Mugello | Sebastian Vettel | Aston Martin | Hamilton\"], [\"2020-09-10\", \"Rennen | Strecke | Formel 1 | Team | Ferrari | Fahrer | Mugello | Sebastian Vettel | Aston Martin | Hamilton\"], [\"2020-09-10\", \"Film | Fans | Schauspieler | Familie | Serie | Show | Instagram | alles | etwas | Corona\"], [\"2020-09-11\", \"Film | Fans | Schauspieler | Familie | Serie | Show | Instagram | alles | etwas | Corona\"], [\"2020-09-09\", \"Film | Fans | Schauspieler | Familie | Serie | Show | Instagram | alles | etwas | Corona\"], [\"2020-09-13\", \"Film | Fans | Schauspieler | Familie | Serie | Show | Instagram | alles | etwas | Corona\"], [\"2020-09-14\", \"Film | Fans | Schauspieler | Familie | Serie | Show | Instagram | alles | etwas | Corona\"], [\"2020-09-12\", \"Film | Fans | Schauspieler | Familie | Serie | Show | Instagram | alles | etwas | Corona\"], [\"2020-09-11\", \"Film | Fans | Schauspieler | Familie | Serie | Show | Instagram | alles | etwas | Corona\"], [\"2020-09-10\", \"Film | Fans | Schauspieler | Familie | Serie | Show | Instagram | alles | etwas | Corona\"], [\"2020-09-12\", \"Film | Fans | Schauspieler | Familie | Serie | Show | Instagram | alles | etwas | Corona\"], [\"2020-09-11\", \"Film | Fans | Schauspieler | Familie | Serie | Show | Instagram | alles | etwas | Corona\"], [\"2020-09-14\", \"Film | Fans | Schauspieler | Familie | Serie | Show | Instagram | alles | etwas | Corona\"], [\"2020-09-12\", \"Film | Fans | Schauspieler | Familie | Serie | Show | Instagram | alles | etwas | Corona\"], [\"2020-09-10\", \"Film | Fans | Schauspieler | Familie | Serie | Show | Instagram | alles | etwas | Corona\"], [\"2020-09-10\", \"Film | Fans | Schauspieler | Familie | Serie | Show | Instagram | alles | etwas | Corona\"], [\"2020-09-09\", \"Film | Fans | Schauspieler | Familie | Serie | Show | Instagram | alles | etwas | Corona\"], [\"2020-09-10\", \"Film | Fans | Schauspieler | Familie | Serie | Show | Instagram | alles | etwas | Corona\"], [\"2020-09-12\", \"Film | Fans | Schauspieler | Familie | Serie | Show | Instagram | alles | etwas | Corona\"], [\"2020-09-11\", \"Film | Fans | Schauspieler | Familie | Serie | Show | Instagram | alles | etwas | Corona\"], [\"2020-09-13\", \"Film | Fans | Schauspieler | Familie | Serie | Show | Instagram | alles | etwas | Corona\"], [\"2020-09-14\", \"Film | Fans | Schauspieler | Familie | Serie | Show | Instagram | alles | etwas | Corona\"], [\"2020-09-11\", \"Film | Fans | Schauspieler | Familie | Serie | Show | Instagram | alles | etwas | Corona\"], [\"2020-09-09\", \"Film | Fans | Schauspieler | Familie | Serie | Show | Instagram | alles | etwas | Corona\"], [\"2020-09-09\", \"Film | Fans | Schauspieler | Familie | Serie | Show | Instagram | alles | etwas | Corona\"], [\"2020-09-13\", \"Film | Fans | Schauspieler | Familie | Serie | Show | Instagram | alles | etwas | Corona\"], [\"2020-09-09\", \"Film | Fans | Schauspieler | Familie | Serie | Show | Instagram | alles | etwas | Corona\"], [\"2020-09-11\", \"Film | Fans | Schauspieler | Familie | Serie | Show | Instagram | alles | etwas | Corona\"], [\"2020-09-10\", \"Film | Fans | Schauspieler | Familie | Serie | Show | Instagram | alles | etwas | Corona\"], [\"2020-09-10\", \"Film | Fans | Schauspieler | Familie | Serie | Show | Instagram | alles | etwas | Corona\"], [\"2020-09-11\", \"Film | Fans | Schauspieler | Familie | Serie | Show | Instagram | alles | etwas | Corona\"], [\"2020-09-12\", \"Film | Fans | Schauspieler | Familie | Serie | Show | Instagram | alles | etwas | Corona\"], [\"2020-09-12\", \"Film | Fans | Schauspieler | Familie | Serie | Show | Instagram | alles | etwas | Corona\"], [\"2020-09-11\", \"Film | Fans | Schauspieler | Familie | Serie | Show | Instagram | alles | etwas | Corona\"], [\"2020-09-14\", \"Film | Fans | Schauspieler | Familie | Serie | Show | Instagram | alles | etwas | Corona\"], [\"2020-09-10\", \"Film | Fans | Schauspieler | Familie | Serie | Show | Instagram | alles | etwas | Corona\"], [\"2020-09-12\", \"Film | Fans | Schauspieler | Familie | Serie | Show | Instagram | alles | etwas | Corona\"], [\"2020-09-13\", \"Film | Fans | Schauspieler | Familie | Serie | Show | Instagram | alles | etwas | Corona\"], [\"2020-09-10\", \"Film | Fans | Schauspieler | Familie | Serie | Show | Instagram | alles | etwas | Corona\"], [\"2020-09-11\", \"Film | Fans | Schauspieler | Familie | Serie | Show | Instagram | alles | etwas | Corona\"], [\"2020-09-12\", \"Film | Fans | Schauspieler | Familie | Serie | Show | Instagram | alles | etwas | Corona\"], [\"2020-09-12\", \"Film | Fans | Schauspieler | Familie | Serie | Show | Instagram | alles | etwas | Corona\"], [\"2020-09-09\", \"Film | Fans | Schauspieler | Familie | Serie | Show | Instagram | alles | etwas | Corona\"], [\"2020-09-13\", \"Film | Fans | Schauspieler | Familie | Serie | Show | Instagram | alles | etwas | Corona\"], [\"2020-09-11\", \"Film | Fans | Schauspieler | Familie | Serie | Show | Instagram | alles | etwas | Corona\"], [\"2020-09-11\", \"Film | Fans | Schauspieler | Familie | Serie | Show | Instagram | alles | etwas | Corona\"], [\"2020-09-13\", \"Film | Fans | Schauspieler | Familie | Serie | Show | Instagram | alles | etwas | Corona\"], [\"2020-09-10\", \"Film | Fans | Schauspieler | Familie | Serie | Show | Instagram | alles | etwas | Corona\"], [\"2020-09-10\", \"Film | Fans | Schauspieler | Familie | Serie | Show | Instagram | alles | etwas | Corona\"], [\"2020-09-13\", \"Film | Fans | Schauspieler | Familie | Serie | Show | Instagram | alles | etwas | Corona\"], [\"2020-09-14\", \"Film | Fans | Schauspieler | Familie | Serie | Show | Instagram | alles | etwas | Corona\"], [\"2020-09-13\", \"Film | Fans | Schauspieler | Familie | Serie | Show | Instagram | alles | etwas | Corona\"], [\"2020-09-10\", \"Film | Fans | Schauspieler | Familie | Serie | Show | Instagram | alles | etwas | Corona\"], [\"2020-09-14\", \"Film | Fans | Schauspieler | Familie | Serie | Show | Instagram | alles | etwas | Corona\"], [\"2020-09-13\", \"Film | Fans | Schauspieler | Familie | Serie | Show | Instagram | alles | etwas | Corona\"], [\"2020-09-09\", \"Film | Fans | Schauspieler | Familie | Serie | Show | Instagram | alles | etwas | Corona\"], [\"2020-09-10\", \"Film | Fans | Schauspieler | Familie | Serie | Show | Instagram | alles | etwas | Corona\"], [\"2020-09-09\", \"Film | Fans | Schauspieler | Familie | Serie | Show | Instagram | alles | etwas | Corona\"], [\"2020-09-13\", \"Film | Fans | Schauspieler | Familie | Serie | Show | Instagram | alles | etwas | Corona\"], [\"2020-09-12\", \"Film | Fans | Schauspieler | Familie | Serie | Show | Instagram | alles | etwas | Corona\"], [\"2020-09-10\", \"Film | Fans | Schauspieler | Familie | Serie | Show | Instagram | alles | etwas | Corona\"], [\"2020-09-10\", \"Film | Fans | Schauspieler | Familie | Serie | Show | Instagram | alles | etwas | Corona\"], [\"2020-09-14\", \"Film | Fans | Schauspieler | Familie | Serie | Show | Instagram | alles | etwas | Corona\"], [\"2020-09-12\", \"Br\\u00e4nde | Feuer | Menschen | Flammen | Westk\\u00fcste | Waldbr\\u00e4nde | Kalifornien | Rauch | Beh\\u00f6rden | Klimawandel\"], [\"2020-09-11\", \"Br\\u00e4nde | Feuer | Menschen | Flammen | Westk\\u00fcste | Waldbr\\u00e4nde | Kalifornien | Rauch | Beh\\u00f6rden | Klimawandel\"], [\"2020-09-10\", \"Br\\u00e4nde | Feuer | Menschen | Flammen | Westk\\u00fcste | Waldbr\\u00e4nde | Kalifornien | Rauch | Beh\\u00f6rden | Klimawandel\"], [\"2020-09-13\", \"Br\\u00e4nde | Feuer | Menschen | Flammen | Westk\\u00fcste | Waldbr\\u00e4nde | Kalifornien | Rauch | Beh\\u00f6rden | Klimawandel\"], [\"2020-09-14\", \"Br\\u00e4nde | Feuer | Menschen | Flammen | Westk\\u00fcste | Waldbr\\u00e4nde | Kalifornien | Rauch | Beh\\u00f6rden | Klimawandel\"], [\"2020-09-12\", \"Henrik | Aurelia | Luca | Love Island | Jungs | Nathalia | Politiker-Enkel | Tim | Couple | nichts\"], [\"2020-09-09\", \"Henrik | Aurelia | Luca | Love Island | Jungs | Nathalia | Politiker-Enkel | Tim | Couple | nichts\"], [\"2020-09-10\", \"Henrik | Aurelia | Luca | Love Island | Jungs | Nathalia | Politiker-Enkel | Tim | Couple | nichts\"], [\"2020-09-14\", \"Henrik | Aurelia | Luca | Love Island | Jungs | Nathalia | Politiker-Enkel | Tim | Couple | nichts\"], [\"2020-09-12\", \"Henrik | Aurelia | Luca | Love Island | Jungs | Nathalia | Politiker-Enkel | Tim | Couple | nichts\"], [\"2020-09-11\", \"Henrik | Aurelia | Luca | Love Island | Jungs | Nathalia | Politiker-Enkel | Tim | Couple | nichts\"], [\"2020-09-11\", \"Henrik | Aurelia | Luca | Love Island | Jungs | Nathalia | Politiker-Enkel | Tim | Couple | nichts\"], [\"2020-09-11\", \"Henrik | Aurelia | Luca | Love Island | Jungs | Nathalia | Politiker-Enkel | Tim | Couple | nichts\"], [\"2020-09-13\", \"Henrik | Aurelia | Luca | Love Island | Jungs | Nathalia | Politiker-Enkel | Tim | Couple | nichts\"], [\"2020-09-10\", \"Henrik | Aurelia | Luca | Love Island | Jungs | Nathalia | Politiker-Enkel | Tim | Couple | nichts\"], [\"2020-09-09\", \"Playbook | Teams | Team | Quarterback | Spieler | Corona | Rassismus | NFL | New England Patriots | Tom Brady\"], [\"2020-09-10\", \"Playbook | Teams | Team | Quarterback | Spieler | Corona | Rassismus | NFL | New England Patriots | Tom Brady\"], [\"2020-09-10\", \"Playbook | Teams | Team | Quarterback | Spieler | Corona | Rassismus | NFL | New England Patriots | Tom Brady\"], [\"2020-09-09\", \"Playbook | Teams | Team | Quarterback | Spieler | Corona | Rassismus | NFL | New England Patriots | Tom Brady\"], [\"2020-09-11\", \"Playbook | Teams | Team | Quarterback | Spieler | Corona | Rassismus | NFL | New England Patriots | Tom Brady\"], [\"2020-09-09\", \"Playbook | Teams | Team | Quarterback | Spieler | Corona | Rassismus | NFL | New England Patriots | Tom Brady\"], [\"2020-09-13\", \"Playbook | Teams | Team | Quarterback | Spieler | Corona | Rassismus | NFL | New England Patriots | Tom Brady\"], [\"2020-09-13\", \"Polizei | Fahrer | Auto | Unfall | Verletzungen | Mann | Krankenhaus | M\\u00e4nner | Autos | Brand\"], [\"2020-09-12\", \"Polizei | Fahrer | Auto | Unfall | Verletzungen | Mann | Krankenhaus | M\\u00e4nner | Autos | Brand\"], [\"2020-09-10\", \"Polizei | Fahrer | Auto | Unfall | Verletzungen | Mann | Krankenhaus | M\\u00e4nner | Autos | Brand\"], [\"2020-09-12\", \"Polizei | Fahrer | Auto | Unfall | Verletzungen | Mann | Krankenhaus | M\\u00e4nner | Autos | Brand\"], [\"2020-09-12\", \"Polizei | Fahrer | Auto | Unfall | Verletzungen | Mann | Krankenhaus | M\\u00e4nner | Autos | Brand\"], [\"2020-09-12\", \"Polizei | Fahrer | Auto | Unfall | Verletzungen | Mann | Krankenhaus | M\\u00e4nner | Autos | Brand\"], [\"2020-09-10\", \"Polizei | Fahrer | Auto | Unfall | Verletzungen | Mann | Krankenhaus | M\\u00e4nner | Autos | Brand\"], [\"2020-09-11\", \"Polizei | Fahrer | Auto | Unfall | Verletzungen | Mann | Krankenhaus | M\\u00e4nner | Autos | Brand\"], [\"2020-09-11\", \"Polizei | Fahrer | Auto | Unfall | Verletzungen | Mann | Krankenhaus | M\\u00e4nner | Autos | Brand\"], [\"2020-09-10\", \"Polizei | Fahrer | Auto | Unfall | Verletzungen | Mann | Krankenhaus | M\\u00e4nner | Autos | Brand\"], [\"2020-09-13\", \"Polizei | Fahrer | Auto | Unfall | Verletzungen | Mann | Krankenhaus | M\\u00e4nner | Autos | Brand\"], [\"2020-09-09\", \"Polizei | Fahrer | Auto | Unfall | Verletzungen | Mann | Krankenhaus | M\\u00e4nner | Autos | Brand\"], [\"2020-09-10\", \"Polizei | Fahrer | Auto | Unfall | Verletzungen | Mann | Krankenhaus | M\\u00e4nner | Autos | Brand\"], [\"2020-09-10\", \"Polizei | Fahrer | Auto | Unfall | Verletzungen | Mann | Krankenhaus | M\\u00e4nner | Autos | Brand\"], [\"2020-09-13\", \"Polizei | Fahrer | Auto | Unfall | Verletzungen | Mann | Krankenhaus | M\\u00e4nner | Autos | Brand\"], [\"2020-09-11\", \"Polizei | Fahrer | Auto | Unfall | Verletzungen | Mann | Krankenhaus | M\\u00e4nner | Autos | Brand\"], [\"2020-09-12\", \"Polizei | Fahrer | Auto | Unfall | Verletzungen | Mann | Krankenhaus | M\\u00e4nner | Autos | Brand\"], [\"2020-09-13\", \"Polizei | Fahrer | Auto | Unfall | Verletzungen | Mann | Krankenhaus | M\\u00e4nner | Autos | Brand\"], [\"2020-09-14\", \"Polizei | Fahrer | Auto | Unfall | Verletzungen | Mann | Krankenhaus | M\\u00e4nner | Autos | Brand\"], [\"2020-09-09\", \"Polizei | Fahrer | Auto | Unfall | Verletzungen | Mann | Krankenhaus | M\\u00e4nner | Autos | Brand\"], [\"2020-09-11\", \"Rennen | N\\u00fcrburgring | M\\u00fcller | Rast | Sieg | Tabellenf\\u00fchrer | Pilot | Platz | beide | Lauf\"], [\"2020-09-13\", \"Rennen | N\\u00fcrburgring | M\\u00fcller | Rast | Sieg | Tabellenf\\u00fchrer | Pilot | Platz | beide | Lauf\"], [\"2020-09-12\", \"Rennen | N\\u00fcrburgring | M\\u00fcller | Rast | Sieg | Tabellenf\\u00fchrer | Pilot | Platz | beide | Lauf\"], [\"2020-09-13\", \"Rennen | N\\u00fcrburgring | M\\u00fcller | Rast | Sieg | Tabellenf\\u00fchrer | Pilot | Platz | beide | Lauf\"], [\"2020-09-13\", \"Rennen | N\\u00fcrburgring | M\\u00fcller | Rast | Sieg | Tabellenf\\u00fchrer | Pilot | Platz | beide | Lauf\"], [\"2020-09-14\", \"Menschen | Frauen | Diktator | Sicherheitskr\\u00e4fte | Demonstranten | Macht | Polizeigewalt | Land | Gesicht | Proteste\"], [\"2020-09-14\", \"Menschen | Frauen | Diktator | Sicherheitskr\\u00e4fte | Demonstranten | Macht | Polizeigewalt | Land | Gesicht | Proteste\"], [\"2020-09-13\", \"Menschen | Frauen | Diktator | Sicherheitskr\\u00e4fte | Demonstranten | Macht | Polizeigewalt | Land | Gesicht | Proteste\"], [\"2020-09-13\", \"Menschen | Frauen | Diktator | Sicherheitskr\\u00e4fte | Demonstranten | Macht | Polizeigewalt | Land | Gesicht | Proteste\"], [\"2020-09-10\", \"Menschen | Frauen | Diktator | Sicherheitskr\\u00e4fte | Demonstranten | Macht | Polizeigewalt | Land | Gesicht | Proteste\"], [\"2020-09-13\", \"Finale | Halbfinale | US Open | Alexander Zverev | Bruder | Satz | Grand-Slam-Titel | Match | New York | Boris Becker\"], [\"2020-09-13\", \"Finale | Halbfinale | US Open | Alexander Zverev | Bruder | Satz | Grand-Slam-Titel | Match | New York | Boris Becker\"], [\"2020-09-11\", \"Finale | Halbfinale | US Open | Alexander Zverev | Bruder | Satz | Grand-Slam-Titel | Match | New York | Boris Becker\"], [\"2020-09-10\", \"Finale | Halbfinale | US Open | Alexander Zverev | Bruder | Satz | Grand-Slam-Titel | Match | New York | Boris Becker\"], [\"2020-09-14\", \"Finale | Halbfinale | US Open | Alexander Zverev | Bruder | Satz | Grand-Slam-Titel | Match | New York | Boris Becker\"], [\"2020-09-14\", \"Finale | Halbfinale | US Open | Alexander Zverev | Bruder | Satz | Grand-Slam-Titel | Match | New York | Boris Becker\"], [\"2020-09-09\", \"Finale | Halbfinale | US Open | Alexander Zverev | Bruder | Satz | Grand-Slam-Titel | Match | New York | Boris Becker\"], [\"2020-09-12\", \"Finale | Halbfinale | US Open | Alexander Zverev | Bruder | Satz | Grand-Slam-Titel | Match | New York | Boris Becker\"], [\"2020-09-10\", \"Finale | Halbfinale | US Open | Alexander Zverev | Bruder | Satz | Grand-Slam-Titel | Match | New York | Boris Becker\"], [\"2020-09-12\", \"Finale | Halbfinale | US Open | Alexander Zverev | Bruder | Satz | Grand-Slam-Titel | Match | New York | Boris Becker\"], [\"2020-09-13\", \"Finale | Halbfinale | US Open | Alexander Zverev | Bruder | Satz | Grand-Slam-Titel | Match | New York | Boris Becker\"], [\"2020-09-10\", \"Finale | Halbfinale | US Open | Alexander Zverev | Bruder | Satz | Grand-Slam-Titel | Match | New York | Boris Becker\"], [\"2020-09-12\", \"Finale | Halbfinale | US Open | Alexander Zverev | Bruder | Satz | Grand-Slam-Titel | Match | New York | Boris Becker\"], [\"2020-09-10\", \"Finale | Halbfinale | US Open | Alexander Zverev | Bruder | Satz | Grand-Slam-Titel | Match | New York | Boris Becker\"], [\"2020-09-11\", \"Finale | Halbfinale | US Open | Alexander Zverev | Bruder | Satz | Grand-Slam-Titel | Match | New York | Boris Becker\"], [\"2020-09-10\", \"Finale | Halbfinale | US Open | Alexander Zverev | Bruder | Satz | Grand-Slam-Titel | Match | New York | Boris Becker\"], [\"2020-09-11\", \"Finale | Halbfinale | US Open | Alexander Zverev | Bruder | Satz | Grand-Slam-Titel | Match | New York | Boris Becker\"], [\"2020-09-12\", \"Finale | Halbfinale | US Open | Alexander Zverev | Bruder | Satz | Grand-Slam-Titel | Match | New York | Boris Becker\"], [\"2020-09-14\", \"Finale | Halbfinale | US Open | Alexander Zverev | Bruder | Satz | Grand-Slam-Titel | Match | New York | Boris Becker\"], [\"2020-09-14\", \"Ratings | Tempo | etwas | Spieler | Gesamtspielst\\u00e4rke | FIFA | Spiel | Rating | Werte | Downgrade\"], [\"2020-09-14\", \"Ratings | Tempo | etwas | Spieler | Gesamtspielst\\u00e4rke | FIFA | Spiel | Rating | Werte | Downgrade\"], [\"2020-09-11\", \"Ratings | Tempo | etwas | Spieler | Gesamtspielst\\u00e4rke | FIFA | Spiel | Rating | Werte | Downgrade\"], [\"2020-09-09\", \"Virus | Schweinepest | Menschen | Schweinefleisch | Afrikanischen | Grenze | Fall | Schweine | Tierseuche | Elke Reinking\"], [\"2020-09-11\", \"Virus | Schweinepest | Menschen | Schweinefleisch | Afrikanischen | Grenze | Fall | Schweine | Tierseuche | Elke Reinking\"], [\"2020-09-12\", \"Virus | Schweinepest | Menschen | Schweinefleisch | Afrikanischen | Grenze | Fall | Schweine | Tierseuche | Elke Reinking\"], [\"2020-09-10\", \"Virus | Schweinepest | Menschen | Schweinefleisch | Afrikanischen | Grenze | Fall | Schweine | Tierseuche | Elke Reinking\"], [\"2020-09-10\", \"Virus | Schweinepest | Menschen | Schweinefleisch | Afrikanischen | Grenze | Fall | Schweine | Tierseuche | Elke Reinking\"], [\"2020-09-12\", \"Virus | Schweinepest | Menschen | Schweinefleisch | Afrikanischen | Grenze | Fall | Schweine | Tierseuche | Elke Reinking\"], [\"2020-09-12\", \"Menschen | Frau | Bars | Garmisch-Partenkirchen | Personen | Neuinfektionen | Landkreis | Corona | Quarant\\u00e4ne | Superspreader\"], [\"2020-09-11\", \"Menschen | Frau | Bars | Garmisch-Partenkirchen | Personen | Neuinfektionen | Landkreis | Corona | Quarant\\u00e4ne | Superspreader\"], [\"2020-09-11\", \"Menschen | Frau | Bars | Garmisch-Partenkirchen | Personen | Neuinfektionen | Landkreis | Corona | Quarant\\u00e4ne | Superspreader\"], [\"2020-09-13\", \"Menschen | Frau | Bars | Garmisch-Partenkirchen | Personen | Neuinfektionen | Landkreis | Corona | Quarant\\u00e4ne | Superspreader\"], [\"2020-09-13\", \"Menschen | Frau | Bars | Garmisch-Partenkirchen | Personen | Neuinfektionen | Landkreis | Corona | Quarant\\u00e4ne | Superspreader\"], [\"2020-09-13\", \"Menschen | Frau | Bars | Garmisch-Partenkirchen | Personen | Neuinfektionen | Landkreis | Corona | Quarant\\u00e4ne | Superspreader\"], [\"2020-09-11\", \"Urlaub | Corona | Amt | Risikogebiet | Reisewarnungen | Reisen | Infektionszahlen | Regionen | Liste | Risikogebiete\"], [\"2020-09-10\", \"Urlaub | Corona | Amt | Risikogebiet | Reisewarnungen | Reisen | Infektionszahlen | Regionen | Liste | Risikogebiete\"], [\"2020-09-14\", \"Urlaub | Corona | Amt | Risikogebiet | Reisewarnungen | Reisen | Infektionszahlen | Regionen | Liste | Risikogebiete\"], [\"2020-09-10\", \"Urlaub | Corona | Amt | Risikogebiet | Reisewarnungen | Reisen | Infektionszahlen | Regionen | Liste | Risikogebiete\"], [\"2020-09-10\", \"Urlaub | Corona | Amt | Risikogebiet | Reisewarnungen | Reisen | Infektionszahlen | Regionen | Liste | Risikogebiete\"], [\"2020-09-14\", \"Urlaub | Corona | Amt | Risikogebiet | Reisewarnungen | Reisen | Infektionszahlen | Regionen | Liste | Risikogebiete\"], [\"2020-09-10\", \"russische | Fall | Kreml | Vergiftung | russischen | Bundesregierung | Kritiker | Koma | Russen | Alexej Nawalny\"], [\"2020-09-10\", \"russische | Fall | Kreml | Vergiftung | russischen | Bundesregierung | Kritiker | Koma | Russen | Alexej Nawalny\"], [\"2020-09-10\", \"russische | Fall | Kreml | Vergiftung | russischen | Bundesregierung | Kritiker | Koma | Russen | Alexej Nawalny\"], [\"2020-09-14\", \"russische | Fall | Kreml | Vergiftung | russischen | Bundesregierung | Kritiker | Koma | Russen | Alexej Nawalny\"], [\"2020-09-14\", \"russische | Fall | Kreml | Vergiftung | russischen | Bundesregierung | Kritiker | Koma | Russen | Alexej Nawalny\"], [\"2020-09-11\", \"russische | Fall | Kreml | Vergiftung | russischen | Bundesregierung | Kritiker | Koma | Russen | Alexej Nawalny\"], [\"2020-09-14\", \"Landratsamt | Krokodil | Ufer | Existenz | Gero Wendt | Wendt | Unstrut-Unget\\u00fcm | Sondershausen | Futterfalle | Reptils\"], [\"2020-09-11\", \"Landratsamt | Krokodil | Ufer | Existenz | Gero Wendt | Wendt | Unstrut-Unget\\u00fcm | Sondershausen | Futterfalle | Reptils\"]], \"hovertemplate\": \"<b>%{hovertext}</b><br><br>x=%{x}<br>y=%{y}<br>created_at=%{customdata[0]}<br>TopWords=%{customdata[1]}<br>labels=%{marker.color}<extra></extra>\", \"hovertext\": [\"Welche Versicherung muss sein, welche ist Quatsch?\", \"So lange m\\u00fcssen wir die Corona-Schulden abstottern\", \"50 Sparfochs-Tipps f\\u00fcr ein sorgenfreieres Leben\", \"Steuererh\\u00f6hungen Gift in der Corona-Krise\", \"So werden aus 10\\u00a0000 Euro mit etwas Geduld 99\\u00a0000 Euro!\", \"Neue Privatleasing-Schn\\u00e4ppchen\", \"Kassensturz: So gro\\u00df ist das Corona-Steuerloch\", \"Sp\\u00e4testens im M\\u00e4rz wird es ein Massensterben geben\", \"Historischer Steuer-Einbruch in Bayern\", \"So weit geht die Renten-Schere auseinander\", \"Corona rei\\u00dft Milliarden-Loch\", \"Wie stark belastet Corona unseren Geldbeutel?\", \"Tiersch\\u00fctzer retten v\\u00f6llig verwahrloste Dackel\", \"Lotta von Entf\\u00fchrerin befreit\", \"Entflogener Hornvogel eingefangen\", \"Z\\u00f6llner retten Zwergspitz-Welpen\", \"Polizei rettet verwahrloste Welpen aus Wohnung\", \"Ist es wirklich schlecht, seinen Hund zu tragen?\", \"Polizei entdeckt vernachl\\u00e4ssigte Pferde in Sachsen\", \"Lotta beim Einkaufen entf\\u00fchrt!\", \"So l\\u00e4uft das miese Gesch\\u00e4ft mit exotischen Tieren\", \"Die Kinder von Moria brauchen unsere Hilfe\", \"In dieser H\\u00f6lle lebenrund 4000 Kinder\", \"Diese Missst\\u00e4nde f\\u00fchrten zur Schande von Moria\", \"Hunderte demonstrieren f\\u00fcr Aufnahme von Fl\\u00fcchtlingen\", \"Deutschland nimmt 100 bis 150 Kinder aus Moria auf\", \"Zweites Feuer im Fl\\u00fcchtlingscamp Moria!\", \"Deutschland nimmt 100 bis 150 Minderj\\u00e4hrige auf\", \"\\u201eVorausgehen taugt nichts, wenn niemand mehr folgen will\\u201c\", \"Polizei setzt Tr\\u00e4nengasgegen Migranten ein\", \"Die Kinder von Moria lernen weiter\", \"Merkel will mehr Moria-Fl\\u00fcchtlinge aufnehmen!\", \"Alle wussten, dass es passieren w\\u00fcrde\", \"Niemand will ein zweites Moria\", \"Claudia Roth attackiert Seehofer\", \"10 deutsche St\\u00e4dte wollen Moria-Fl\\u00fcchtlinge aufnehmen\", \"Darum wollen sie nicht ins neue Camp\", \"Gro\\u00dfbrand am Hafen von Beirut\", \"EU muss Chinas Firmen-\\u201eEinkaufstour\\u201c stoppen!\", \"Werden Sie nicht zum Herzlos-Kanzler, Herr Kurz!\", \"Viele wollen nach \\u201eGermany\\u201c\", \"Kinder weinen, Politiker streiten\", \"\\u00dcbernahme von 400 Kinder aus Moria in EU\", \"DRK-Hilfsfl\\u00fcge nach Lesbos\", \"Nach zweitem Feuer: Menschen schliefen auf der Stra\\u00dfe\", \"Iyoha drohtlange Pause!\", \"Goldh\\u00e4ndchen R\\u00f6sler!\", \"Preu\\u00dfen-Doc beklagt Vertrauens-Verlust\", \"\\u201eKrieger\\u201d Sobottka zieht wieder die Strippen\", \"Kownacki wankt \\u00fcber den Platz\", \"Wolf bekommtdie Nr. 1\", \"Zum Pokal-Start nur Hennings da\", \"N\\u00e4chstes Pokal-Spielvor Absage\", \"Mick f\\u00e4hrt SchumisRekord-Ferrari\", \"Ernst August f\\u00e4hrtzur Nervenklinik\", \"So wollte Vettel nicht aufh\\u00f6ren\", \"Das ist der Milliard\\u00e4r hinter dem Vettel-Deal\", \"Formel 1 schenkt Ferrari ein Heim-Rennen\", \"Darum gibt's gerade soviele Crashs in der Formel 1\", \"Jetzt ist der Platz f\\u00fcr Vettel frei\", \"BILD enth\\u00fclltden Vettel-Vertrag\", \"Massen-Crash beim Neustart\", \"Vettel-Frust beim Ferrari-Fest\", \"FORMEL BOND\", \"\\u201eWollen die uns t\\u00f6ten, oder was!?\\u201c\", \"\\u201eMein Vater hat eine Legende geschaffen\\u201c\", \"Moto-GP-Legende Rossi f\\u00e4hrt mit Viagra-Helm\", \"So kam es zum Massen-Crash in der Formel 1\", \"Hamilton braucht noch 309,7 Kilometer bis zum Schumi-Rekord\", \"Offiziell! Vettelwechselt zu Aston Martin\", \"Hamilton f\\u00e4hrt dem Chaos davon\", \"\\u201eEs gibt viel, dass ichvon Mick lernen kann\\u201c\", \"Ferraris Aufw\\u00e4rmrunde\", \"Hamilton mit Protest-Shirtauf dem Podium\", \"Mick f\\u00e4hrtSchumis rote G\\u00f6ttin\", \"VETTEL Darum gehe ichzu Aston Martin\", \"Das erwartet Vettelbei Aston Martin\", \"Vettel hat schon einen neuen Dienstwagen\", \"So stinkreich ist derKardashian-Clan\", \"Kleinw\\u00fcchsiger Wrestler Stevie Lee stirbt mit 54 Jahren\", \"Queere Mega-Besetzung f\\u00fcr neue Netflix-Serie\", \"Hollywood-K\\u00f6nig zeigt seine Prinzen-Familie\", \"SCHAUMhochzeit auf Schloss B\\u00fcckeburg\", \"Hier sprie\\u00dfen nicht nur die Blumen\", \"Nach den Knutsch-Fotos servierte er seine Verlobte ab!\", \"Drama um Raabs Kult-Rentner Ingrid und Klaus\", \"Masturbieren Sie mal mit Ihrem Partner!\", \"Da gl\\u00fcht der Sand am Strand\", \"Liebt Pietro Lombardi diese Influencerin?\", \"\\u201eEr war einer der liebevollsten Menschen der Welt\\u201c\", \"\\u201eSo etwas Asoziales habe ich noch nicht erlebt\\u201c\", \"Christine Neubauer spielt gegen Corona-Krise\", \"\\u201eWir sind im Krankenhaus f\\u00fcr Geisteskranke\\u201c\", \"Ruiniert das Virusunsere Kultur?\", \"Schlagabtausch der Dschungelnattern!\", \"Steffen Hensslerbricht TV-Dreh ab\", \"Sieht so der neue Feminismus aus?\", \"Ex-Porno-Star (24)stirbt im Schlaf\", \"Zac Efrons Neue ist Kellnerin\", \"Badesalz macht Radio\", \"Mein Freund macht mich verr\\u00fcckt\", \"8 Gr\\u00fcnde, wieso Corona der Liebe gut tut!\", \"\\u201eTwin Peaks\\u201c- und \\u201eFargo\\u201c- Fans bitte einschalten!\", \"Spahn-Auftritt bei BILD-Talk ist jetzt sogar Kunst\", \"Dieser Influencer-Kussheizte Venedig ein!\", \"\\u201eWir sind kulturell unterzuckert\\u201c\", \"So heftig war dieTorten-Attacke wirklich\", \"Die Obert und ihr Liebesnest\", \"\\u201eIch denke nicht an das Alter\\u201c\", \"Heidis Next Topmodel\", \"Urlaub in der Villa von \\u201eDer Prinz von Bel-Air\\u201c gef\\u00e4llig?\", \"Der \\u201eTatort\\u201c-Star musste Soforthilfe beantragen\", \"Darum ist b\\u00f6se besser als nett\", \"Wir sind das neue Traumpaar im TV\", \"Dschungelcamp-Star Elena Miras ist wieder solo\", \"Fan-Liebling Andr\\u00e9 Dietzsteigt nach 14 Jahren aus!\", \"Jetzt beenden sie sogar die Familientherapie\", \"Kleider machen LEADER\", \"Falsche Tierliebe tut weh\", \"\\u201eZwei, drei Ma\\u00df schaffe ich schon\\u201c\", \"P\\u00e4dophilie-Skandal um Netflix-Film \\u201eCuties\\u201c!\", \"Auch in Beziehungen braucht es klare Worte\", \"DIESEN Job macht Laura M\\u00fcller neben Bohlen und Co.\", \"Nachwuchs bei \\u201eKampf der Realitystars\\u201c?\", \"Heidi Klums Pr\\u00fcgel-Model: Drogen-Entzug im Kloster!\", \"\\u201eMeine tote Mutter hilft mir beim Songschreiben\\u201c\", \"Elena Carri\\u00e8re (23) zeigt ihre Cellulite\", \"Warum Hollywood vor China kuscht\", \"Rosige Rache an Brad Pitt\", \"Pietro Lombardi ist nicht mehr single!\", \"Raten Sie mal, wer hier auf Prince macht\", \"Diese Stars waren ihre gro\\u00dfen Kinorollen ganz schnell los\", \"Natascha ist das Wiesn-Playmate 2020\", \"Wendlers Laura riskiert \\u2019ne dicke Lippe\", \"Bei diesem Test hofft er auf ein positives Ergebnis\", \"Dann mit noch mehr Hexer-Sex?\", \"Bitte keine politischen Regeln f\\u00fcr die Kunst!\", \"\\u201eGame of Thrones\\u201c-Star Diana Rigg gestorben\", \"Wie Raab hinter der Kamera die F\\u00e4den zieht\", \"Feuerexperte: \\u201eEigentlich muss es noch mehr brennen!\\u201c\", \"Schon 15 Feuer-Opfer an der US-Westk\\u00fcste\", \"Eltern auf Flucht vor dem Feuer verletzt, Baby tot!\", \"Angst vor Smog und Pl\\u00fcnderungen\", \"35 Tote durch Kalifornien-Br\\u00e4nde\", \"Sex-Proll Henrik knutscht fremd\", \"Politiker-Enkel hat Sex bei \\u201eLove Island\\u201c!\", \"Politiker-Enkel wird zum Sex-Proll\", \"Penis-Protz Hendrik geht auf Luca los\", \"Micaela (36) ist scharf auf Gerhard Schr\\u00f6der (76)\", \"Was ein altes Video \\u00fcberden Sex-Proll verr\\u00e4t\", \"Hei\\u00dfe Poledance-Einlage inder \\u201eLove Island\\u201c-Villa\", \"Fummel-Premiere auf \\u201eLove Island\\u201c\", \"\\u201eSexy Granaten\\u201c sprengen die Paare auseinander\", \"Hei\\u00dfe Schaumparty in der \\u201eLove Island\\u201c-Villa\", \"Buccaneers l\\u00f6sen Versprechenvon Bradys Ex-Klub ein\", \"Das sind die Top-Duelledes ersten NFL-Spieltags\", \"Deshalb steht uns die h\\u00e4rteste NFL-Saison aller Zeiten bevor\", \"Playbook ist\\u201eso wertvoll wie Gold\\u201c\", \"Pfiffe f\\u00fcr Protestaktion bei NFL-Auftakt\", \"Brady muss f\\u00fcr denTitel alles neu lernen\", \"Brady-Nachfolger mit Touchdown-Show\", \"Todesfalle Oldtimer\", \"BMW fackelt auf A57 ab\", \"Fliege verursacht Unfall \\u2013 zwei Schwerverletzte!\", \"Biker stirbt bei Crash mit Biker\", \"20-J\\u00e4hriger liegt tot unter seinem Roller\", \"Motorrad-Werkstatt in Flammen\", \"Retter kracht gegen Baum\", \"Mercedes rammt Rollifahrer (78) von Landstra\\u00dfe - tot\", \"Liegender Laster legt Autobahn lahm\", \"Fu\\u00dfg\\u00e4ngerin kollidiert mit drei Autos auf der Autobahn - tot\", \"Domino-Crash bei Oldenburg\", \"Motorradfahrer t\\u00f6dlich verungl\\u00fcckt\", \"Laster fackelt auf der A5 ab\", \"E-Bike-Fahrer stirbt nach Sturz\", \"Baum-Crash!Zwei Tote auf B 442\", \"Junger Biker (18) nach Motorrad-Crash schwer verletzt\", \"Feuerteufel treibt im K\\u00f6lner Westen sein Unwesen\", \"T\\u00f6dlicher Frontalzusammensto\\u00df\", \"Lkw kollidieren auf der Autobahn\\u00a02\", \"510-PS-Flitzerkracht gegen Baum\", \"Flotte Frauen machen Abts DTM-Stars schnell!\", \"MotoGP-Krimi! Last-Minute-Schock f\\u00fcr Rossi\", \"Alles M\\u00fcller, oder Rast?\", \"Audi ist das Mercedes der DTM\", \"Dieser Rennfahrer f\\u00e4hrt mit Gottes Segen\", \"Besen-Oma verm\\u00f6belt Lukaschenkos Pr\\u00fcgeltruppen\", \"Hat Putin Lukaschenko jetzt in der Hand?\", \"Lukaschenko l\\u00e4\\u00dft Dutzende Frauen festnehmen\", \"150 000 Menschen gegen Lukaschenko auf der Stra\\u00dfe\", \"Kolesnikowa stellt Anzeige wegen Morddrohungen!\", \"Thiem gegen Zverev \\u2013das Kumpel-Duell!\", \"Thiem zittert vor Anrufbei Andy Murray\", \"Halbfinal-Aus f\\u00fcrSerena Williams\", \"Zverev setzt auf seinen Kracher-Aufschlag\", \"Zverevs Titel-Traum zerst\\u00f6rt\", \"Als er seinen Eltern dankte, kamen ihm die Tr\\u00e4nen\", \"\\u201eDjokovic fragte mich, wie er aus der Nummer rauskommen kann\\u201c\", \"\\u201eDer Top-Favorit f\\u00fcr den Sieg ist f\\u00fcr mich \\u2026\\u201c\", \"Zverev schl\\u00e4gt in K\\u00f6ln auf!\", \"Becker-Lob f\\u00fcr Zverev nach Giganten-Comeback!\", \"Im TV! Zverevs Bruderkommen die Tr\\u00e4nen\", \"6 Gr\\u00fcnde, warum Zverev die US Open gewinnt\", \"FINALE statt BLAMAGE!\", \"Mischa leiht Sascha seinen Trainer\", \"Sorgerecht-Krieg! Ihren gr\\u00f6\\u00dften Sieg holte sie f\\u00fcr ihn\", \"Dominic Thiem im Halbfinale\", \"Tennis-Sensation! Siegemund siegt im Doppel\", \"Als er mich nach dem Spiel anrief, sagte er\\u2026\", \"\\u201eKopf hoch, mein Junge - du kommst zur\\u00fcck!\\u201c\", \"Das sagen die deutscheneSport-Stars zu den Ratings!\", \"Diese Spieler solltetihr euch holen!\", \"Fu\\u00dfball-Stars motzen \\u00fcber FIFA-Wertungen\", \"Verdacht auf Afrikanische Schweinepest\", \"Kleines ABC der Schweinepest\", \"So hart trifft uns der Exportstopp nach China\", \"Wie gef\\u00e4hrlich ist die Afrikanische Schweinepest?\", \"Verdacht auf Schweinepest best\\u00e4tigt!\", \"China verbietet Import von deutschem Schweinefleisch\", \"Eine Stadt wartet auf Corona-Ergebnisse\", \"Superspreaderin (26) zieht hochinfekti\\u00f6s durch Bars\", \"Garmisch versch\\u00e4rft Corona-Ma\\u00dfnahmen\", \"Garmisch-Partenkirchen sauer auf die Superspreaderin\", \"Anwalt: Superspreaderin droht lange Haftstrafe\", \"Pub-Betreiber total fertig: \\u201eDas ist eine Katastrophe!\\u201c\", \"Ab wann ist ein Land NICHT mehr Risikogebiet?\", \"Hier k\\u00f6nnen Sie jetzt noch Herbsturlaub machen\", \"Wo kann ich jetzt noch Urlaub machen?\", \"Kann ich Reisen f\\u00fcr n\\u00e4chstes Jahr schon SICHER buchen?\", \"BILD beantwortet Ihre Ferien-Fragen!\", \"Storno-Zoff mit FTI um Indien-Urlaub\", \"Er ist bei Bewusstsein! Er erinnert sich an die Ereignisse am Flughafen!\", \"Berlin und Moskau streiten \\u00fcber Nawalny-Treffen\", \"Trumps Top-Diplomat: Kreml steckt hinter Gift-Attacke\", \"Nawalny wird nicht mehr k\\u00fcnstlich beatmet\", \"Wie viel vom Fall Nawalnysteckte in diesem \\u201eTatort\\u201c?\", \"War das Gift auf der Unterw\\u00e4sche Nawalnys?\", \"Experte soll nach Unstrut-Krokodil suchen\", \"Warten auf das Unstrut-Kroko\"], \"legendgroup\": \"\", \"marker\": {\"color\": [22, 22, 22, 22, 22, 22, 22, 22, 22, 22, 22, 22, 17, 17, 17, 17, 17, 17, 17, 17, 17, 2, 2, 2, 2, 2, 2, 2, 2, 2, 2, 2, 2, 2, 2, 2, 2, 2, 2, 2, 2, 2, 2, 2, 2, 23, 23, 23, 23, 23, 23, 23, 23, 10, 10, 10, 10, 10, 10, 10, 10, 10, 10, 10, 10, 10, 10, 10, 10, 10, 10, 10, 10, 10, 10, 10, 10, 10, 44, 44, 44, 44, 44, 44, 44, 44, 44, 44, 44, 44, 44, 44, 44, 44, 44, 44, 44, 44, 44, 44, 44, 44, 44, 44, 44, 44, 44, 44, 44, 44, 44, 44, 44, 44, 44, 44, 44, 44, 44, 44, 44, 44, 44, 44, 44, 44, 44, 44, 44, 44, 44, 44, 44, 44, 44, 44, 44, 44, 44, 1, 1, 1, 1, 1, 45, 45, 45, 45, 45, 45, 45, 45, 45, 45, 4, 4, 4, 4, 4, 4, 4, 9, 9, 9, 9, 9, 9, 9, 9, 9, 9, 9, 9, 9, 9, 9, 9, 9, 9, 9, 9, 51, 51, 51, 51, 51, 53, 53, 53, 53, 53, 0, 0, 0, 0, 0, 0, 0, 0, 0, 0, 0, 0, 0, 0, 0, 0, 0, 0, 0, 50, 50, 50, 30, 30, 30, 30, 30, 30, 29, 29, 29, 29, 29, 29, 14, 14, 14, 14, 14, 14, 18, 18, 18, 18, 18, 18, 16, 16], \"coloraxis\": \"coloraxis\", \"line\": {\"color\": \"DarkSlateGrey\", \"width\": 0.15}, \"opacity\": 0.8, \"size\": 9, \"symbol\": \"circle\"}, \"mode\": \"markers\", \"name\": \"\", \"orientation\": \"v\", \"showlegend\": false, \"type\": \"scatter\", \"x\": [6.770177841186523, 6.947566509246826, 7.061005592346191, 6.79413366317749, 7.048375129699707, 7.292754650115967, 6.862074375152588, 6.718723773956299, 6.9088029861450195, 6.8705339431762695, 6.7715253829956055, 6.751692295074463, 5.702359676361084, 5.326379776000977, 6.367417812347412, 5.664880275726318, 5.611547470092773, 5.653224468231201, 5.783055305480957, 5.486214637756348, 5.693016052246094, 5.351313591003418, 5.8447699546813965, 5.828857421875, 5.173845291137695, 5.762026309967041, 5.627033710479736, 5.736919403076172, 5.620425224304199, 5.437956809997559, 5.331984043121338, 5.476736068725586, 5.295834541320801, 5.552939414978027, 5.462255001068115, 5.585903644561768, 5.587510585784912, 5.802901744842529, 5.652591705322266, 5.613613605499268, 5.573533058166504, 5.481678485870361, 5.652538776397705, 5.299129486083984, 5.50014066696167, 7.0950164794921875, 7.29837703704834, 7.185596466064453, 7.6777544021606445, 7.028796195983887, 7.111027240753174, 7.4226908683776855, 6.73869514465332, 9.019469261169434, 9.295857429504395, 9.552040100097656, 9.314626693725586, 8.527214050292969, 8.052651405334473, 9.36673355102539, 9.347809791564941, 8.951817512512207, 9.297348976135254, 9.334548950195312, 9.058547973632812, 9.077088356018066, 8.841812133789062, 8.8041410446167, 9.199701309204102, 9.230936050415039, 9.188008308410645, 8.713809967041016, 8.68925666809082, 8.815606117248535, 8.873612403869629, 9.109862327575684, 9.402168273925781, 9.280684471130371, 5.274503707885742, 6.540674209594727, 6.443670272827148, 6.7254228591918945, 5.907162189483643, 5.01145076751709, 5.631339073181152, 6.04655647277832, 5.323112487792969, 4.971767902374268, 5.303309440612793, 6.140912055969238, 6.38498592376709, 5.932274341583252, 6.194266319274902, 6.328512668609619, 5.43279504776001, 6.293216705322266, 5.110416412353516, 5.600401878356934, 5.680758953094482, 6.31419563293457, 6.214375972747803, 6.183499813079834, 5.857423782348633, 5.9531707763671875, 5.330949306488037, 6.337022304534912, 5.801947116851807, 5.722012519836426, 5.971070766448975, 5.0070672035217285, 6.266276836395264, 6.165006160736084, 6.389950275421143, 5.48964262008667, 5.432636737823486, 6.615919589996338, 5.558934688568115, 5.685678482055664, 6.328974723815918, 6.34052038192749, 5.680748462677002, 6.523408889770508, 5.634143352508545, 5.475787162780762, 5.444873332977295, 5.869332790374756, 5.028844833374023, 5.779108047485352, 5.612522125244141, 5.265795707702637, 5.571487903594971, 6.3528618812561035, 5.891467571258545, 5.226353168487549, 6.03451681137085, 6.2542805671691895, 6.518548011779785, 5.909384727478027, 6.147411346435547, 6.590137958526611, 6.518751621246338, 6.528256893157959, 6.345736503601074, 6.588001728057861, 5.206876754760742, 4.98491907119751, 4.9951910972595215, 5.276051044464111, 5.412603378295898, 5.452974796295166, 5.006557941436768, 5.27784538269043, 5.2227606773376465, 5.185726165771484, 6.760578155517578, 7.042363166809082, 7.189119338989258, 7.085218906402588, 7.007828235626221, 7.003355026245117, 7.273741245269775, 7.946563243865967, 7.4456963539123535, 7.701103210449219, 7.87569522857666, 7.553003311157227, 7.326505184173584, 7.6963348388671875, 7.808913707733154, 7.791337490081787, 7.889794826507568, 7.614248752593994, 7.549177646636963, 7.543582439422607, 7.5974931716918945, 7.7661848068237305, 7.83873176574707, 7.521782398223877, 7.742677211761475, 7.565825939178467, 7.64084529876709, 8.375082969665527, 8.910601615905762, 8.731853485107422, 9.008862495422363, 9.10404109954834, 5.212644100189209, 6.086430072784424, 5.171961784362793, 5.2435383796691895, 5.298047065734863, 7.866982936859131, 7.920156955718994, 7.299246311187744, 7.865833759307861, 7.744858741760254, 7.4902448654174805, 6.875456809997559, 7.836727142333984, 7.75330924987793, 8.000243186950684, 7.48038387298584, 7.946708679199219, 7.686914920806885, 7.896789073944092, 7.2649970054626465, 7.656063079833984, 6.712698459625244, 7.47294807434082, 7.723115921020508, 7.680676460266113, 7.629453659057617, 7.632307529449463, 6.202089786529541, 6.088316440582275, 6.15444278717041, 6.370821475982666, 6.055186748504639, 6.042011260986328, 5.723039627075195, 5.706018924713135, 5.807153224945068, 5.597955226898193, 5.559494495391846, 5.558615207672119, 6.265157222747803, 6.407970905303955, 6.378500461578369, 6.450071334838867, 6.363442420959473, 6.546379566192627, 6.030722141265869, 5.789449691772461, 5.923626899719238, 6.163743019104004, 5.828280448913574, 5.790994644165039, 6.170929908752441, 6.242451190948486], \"xaxis\": \"x\", \"y\": [7.447083950042725, 7.1179518699646, 6.9177961349487305, 7.459660053253174, 6.852214813232422, 7.041569232940674, 7.057759761810303, 7.538812160491943, 7.108224391937256, 6.810904502868652, 7.2903242111206055, 7.291733741760254, 7.603133678436279, 7.146560192108154, 7.640565395355225, 7.174623489379883, 7.606802940368652, 7.589540004730225, 7.6235270500183105, 7.121609687805176, 7.189330577850342, 8.036543846130371, 8.104338645935059, 7.8764424324035645, 8.116026878356934, 8.03978157043457, 8.487737655639648, 7.697891712188721, 7.584874153137207, 8.269047737121582, 7.776467323303223, 7.510553359985352, 8.313138961791992, 8.209465980529785, 7.611640930175781, 7.8660101890563965, 8.184828758239746, 8.389993667602539, 7.115274906158447, 7.573710918426514, 8.412657737731934, 8.180319786071777, 7.7494330406188965, 7.826967716217041, 8.230876922607422, 7.063675403594971, 6.660040378570557, 6.934665203094482, 6.608515739440918, 6.781864643096924, 6.95137357711792, 6.7237725257873535, 6.757650375366211, 6.104172706604004, 5.966497421264648, 6.2797369956970215, 6.182640075683594, 6.376376152038574, 6.769641876220703, 6.421818733215332, 6.513169288635254, 6.504749298095703, 6.5329437255859375, 6.2026896476745605, 6.569465637207031, 6.198637008666992, 6.263566970825195, 6.547725200653076, 6.6490936279296875, 6.327694416046143, 6.665106296539307, 6.479350566864014, 6.158754348754883, 6.36309814453125, 6.29245138168335, 6.4484052658081055, 6.341504096984863, 6.335524559020996, 5.573049545288086, 5.606537342071533, 5.590593338012695, 5.460433006286621, 5.949270725250244, 5.73160457611084, 5.551270961761475, 5.5676188468933105, 5.912729263305664, 5.710641384124756, 5.507842063903809, 5.306395053863525, 6.389427661895752, 5.516748428344727, 6.1490631103515625, 5.688492774963379, 5.679007530212402, 5.6440205574035645, 5.726140975952148, 6.021053314208984, 5.450623989105225, 5.858509063720703, 6.213112831115723, 6.742416858673096, 6.3861403465271, 5.476378440856934, 5.3392791748046875, 6.300302505493164, 6.022529602050781, 5.096623420715332, 5.408355712890625, 5.891595840454102, 5.308463096618652, 5.8489251136779785, 6.052377223968506, 5.107994079589844, 5.410646438598633, 5.946219444274902, 5.746126174926758, 5.6206183433532715, 5.822676181793213, 5.569766998291016, 6.264442443847656, 6.358809947967529, 5.085686206817627, 5.609215259552002, 5.9001078605651855, 5.930359363555908, 5.90056848526001, 6.259676456451416, 5.36466646194458, 5.477704048156738, 5.756712436676025, 5.927398681640625, 5.388194561004639, 5.95060396194458, 6.1240034103393555, 6.460476398468018, 6.2234578132629395, 5.515692234039307, 5.62464714050293, 8.198506355285645, 8.232104301452637, 8.194380760192871, 8.187224388122559, 8.202089309692383, 5.397781848907471, 5.272928714752197, 5.383510112762451, 5.880372047424316, 5.4776082038879395, 5.0985541343688965, 5.352020263671875, 5.260735034942627, 5.195554256439209, 5.27741003036499, 5.400394916534424, 5.71042537689209, 5.8070292472839355, 6.121109962463379, 6.190343379974365, 5.950882434844971, 5.948878765106201, 8.623613357543945, 8.940971374511719, 9.277586936950684, 9.209115982055664, 9.120482444763184, 8.808964729309082, 9.169960975646973, 9.0183687210083, 8.932701110839844, 9.141814231872559, 9.158483505249023, 8.86960506439209, 9.0601224899292, 8.940733909606934, 9.247858047485352, 9.109463691711426, 8.874176025390625, 8.972013473510742, 8.881901741027832, 8.67137336730957, 6.140213966369629, 6.306832313537598, 6.3867902755737305, 6.557013988494873, 6.053728103637695, 7.006594181060791, 6.921555519104004, 7.2003936767578125, 7.257245063781738, 7.00157356262207, 5.043663501739502, 5.068000316619873, 5.241929054260254, 5.331079483032227, 5.237168312072754, 5.143856525421143, 6.183077335357666, 5.147066116333008, 5.28129768371582, 5.394865036010742, 5.3076491355896, 5.409533977508545, 5.532411098480225, 5.407587051391602, 5.296502113342285, 5.072359561920166, 5.354191780090332, 5.262091159820557, 5.267882823944092, 6.214003086090088, 6.231286525726318, 6.276195526123047, 7.564901351928711, 7.578606605529785, 7.491924285888672, 7.645841121673584, 7.596512794494629, 7.479048252105713, 6.62094259262085, 6.672573566436768, 6.697917938232422, 6.499225616455078, 6.590551853179932, 6.502094745635986, 7.122093677520752, 6.726622581481934, 7.076339244842529, 6.68190860748291, 6.883543491363525, 6.577610492706299, 6.922217845916748, 7.124875545501709, 6.910704612731934, 6.96331262588501, 6.687613010406494, 6.783987522125244, 7.3466315269470215, 7.352293014526367], \"yaxis\": \"y\"}],                        {\"coloraxis\": {\"colorbar\": {\"title\": {\"text\": \"labels\"}}, \"colorscale\": [[0.0, \"#0d0887\"], [0.1111111111111111, \"#46039f\"], [0.2222222222222222, \"#7201a8\"], [0.3333333333333333, \"#9c179e\"], [0.4444444444444444, \"#bd3786\"], [0.5555555555555556, \"#d8576b\"], [0.6666666666666666, \"#ed7953\"], [0.7777777777777778, \"#fb9f3a\"], [0.8888888888888888, \"#fdca26\"], [1.0, \"#f0f921\"]]}, \"height\": 1000, \"legend\": {\"tracegroupgap\": 0}, \"margin\": {\"t\": 60}, \"template\": {\"data\": {\"bar\": [{\"error_x\": {\"color\": \"#2a3f5f\"}, \"error_y\": {\"color\": \"#2a3f5f\"}, \"marker\": {\"line\": {\"color\": \"#E5ECF6\", \"width\": 0.5}}, \"type\": \"bar\"}], \"barpolar\": [{\"marker\": {\"line\": {\"color\": \"#E5ECF6\", \"width\": 0.5}}, \"type\": \"barpolar\"}], \"carpet\": [{\"aaxis\": {\"endlinecolor\": \"#2a3f5f\", \"gridcolor\": \"white\", \"linecolor\": \"white\", \"minorgridcolor\": \"white\", \"startlinecolor\": \"#2a3f5f\"}, \"baxis\": {\"endlinecolor\": \"#2a3f5f\", \"gridcolor\": \"white\", \"linecolor\": \"white\", \"minorgridcolor\": \"white\", \"startlinecolor\": \"#2a3f5f\"}, \"type\": \"carpet\"}], \"choropleth\": [{\"colorbar\": {\"outlinewidth\": 0, \"ticks\": \"\"}, \"type\": \"choropleth\"}], \"contour\": [{\"colorbar\": {\"outlinewidth\": 0, \"ticks\": \"\"}, \"colorscale\": [[0.0, \"#0d0887\"], [0.1111111111111111, \"#46039f\"], [0.2222222222222222, \"#7201a8\"], [0.3333333333333333, \"#9c179e\"], [0.4444444444444444, \"#bd3786\"], [0.5555555555555556, \"#d8576b\"], [0.6666666666666666, \"#ed7953\"], [0.7777777777777778, \"#fb9f3a\"], [0.8888888888888888, \"#fdca26\"], [1.0, \"#f0f921\"]], \"type\": \"contour\"}], \"contourcarpet\": [{\"colorbar\": {\"outlinewidth\": 0, \"ticks\": \"\"}, \"type\": \"contourcarpet\"}], \"heatmap\": [{\"colorbar\": {\"outlinewidth\": 0, \"ticks\": \"\"}, \"colorscale\": [[0.0, \"#0d0887\"], [0.1111111111111111, \"#46039f\"], [0.2222222222222222, \"#7201a8\"], [0.3333333333333333, \"#9c179e\"], [0.4444444444444444, \"#bd3786\"], [0.5555555555555556, \"#d8576b\"], [0.6666666666666666, \"#ed7953\"], [0.7777777777777778, \"#fb9f3a\"], [0.8888888888888888, \"#fdca26\"], [1.0, \"#f0f921\"]], \"type\": \"heatmap\"}], \"heatmapgl\": [{\"colorbar\": {\"outlinewidth\": 0, \"ticks\": \"\"}, \"colorscale\": [[0.0, \"#0d0887\"], [0.1111111111111111, \"#46039f\"], [0.2222222222222222, \"#7201a8\"], [0.3333333333333333, \"#9c179e\"], [0.4444444444444444, \"#bd3786\"], [0.5555555555555556, \"#d8576b\"], [0.6666666666666666, \"#ed7953\"], [0.7777777777777778, \"#fb9f3a\"], [0.8888888888888888, \"#fdca26\"], [1.0, \"#f0f921\"]], \"type\": \"heatmapgl\"}], \"histogram\": [{\"marker\": {\"colorbar\": {\"outlinewidth\": 0, \"ticks\": \"\"}}, \"type\": \"histogram\"}], \"histogram2d\": [{\"colorbar\": {\"outlinewidth\": 0, \"ticks\": \"\"}, \"colorscale\": [[0.0, \"#0d0887\"], [0.1111111111111111, \"#46039f\"], [0.2222222222222222, \"#7201a8\"], [0.3333333333333333, \"#9c179e\"], [0.4444444444444444, \"#bd3786\"], [0.5555555555555556, \"#d8576b\"], [0.6666666666666666, \"#ed7953\"], [0.7777777777777778, \"#fb9f3a\"], [0.8888888888888888, \"#fdca26\"], [1.0, \"#f0f921\"]], \"type\": \"histogram2d\"}], \"histogram2dcontour\": [{\"colorbar\": {\"outlinewidth\": 0, \"ticks\": \"\"}, \"colorscale\": [[0.0, \"#0d0887\"], [0.1111111111111111, \"#46039f\"], [0.2222222222222222, \"#7201a8\"], [0.3333333333333333, \"#9c179e\"], [0.4444444444444444, \"#bd3786\"], [0.5555555555555556, \"#d8576b\"], [0.6666666666666666, \"#ed7953\"], [0.7777777777777778, \"#fb9f3a\"], [0.8888888888888888, \"#fdca26\"], [1.0, \"#f0f921\"]], \"type\": \"histogram2dcontour\"}], \"mesh3d\": [{\"colorbar\": {\"outlinewidth\": 0, \"ticks\": \"\"}, \"type\": \"mesh3d\"}], \"parcoords\": [{\"line\": {\"colorbar\": {\"outlinewidth\": 0, \"ticks\": \"\"}}, \"type\": \"parcoords\"}], \"pie\": [{\"automargin\": true, \"type\": \"pie\"}], \"scatter\": [{\"marker\": {\"colorbar\": {\"outlinewidth\": 0, \"ticks\": \"\"}}, \"type\": \"scatter\"}], \"scatter3d\": [{\"line\": {\"colorbar\": {\"outlinewidth\": 0, \"ticks\": \"\"}}, \"marker\": {\"colorbar\": {\"outlinewidth\": 0, \"ticks\": \"\"}}, \"type\": \"scatter3d\"}], \"scattercarpet\": [{\"marker\": {\"colorbar\": {\"outlinewidth\": 0, \"ticks\": \"\"}}, \"type\": \"scattercarpet\"}], \"scattergeo\": [{\"marker\": {\"colorbar\": {\"outlinewidth\": 0, \"ticks\": \"\"}}, \"type\": \"scattergeo\"}], \"scattergl\": [{\"marker\": {\"colorbar\": {\"outlinewidth\": 0, \"ticks\": \"\"}}, \"type\": \"scattergl\"}], \"scattermapbox\": [{\"marker\": {\"colorbar\": {\"outlinewidth\": 0, \"ticks\": \"\"}}, \"type\": \"scattermapbox\"}], \"scatterpolar\": [{\"marker\": {\"colorbar\": {\"outlinewidth\": 0, \"ticks\": \"\"}}, \"type\": \"scatterpolar\"}], \"scatterpolargl\": [{\"marker\": {\"colorbar\": {\"outlinewidth\": 0, \"ticks\": \"\"}}, \"type\": \"scatterpolargl\"}], \"scatterternary\": [{\"marker\": {\"colorbar\": {\"outlinewidth\": 0, \"ticks\": \"\"}}, \"type\": \"scatterternary\"}], \"surface\": [{\"colorbar\": {\"outlinewidth\": 0, \"ticks\": \"\"}, \"colorscale\": [[0.0, \"#0d0887\"], [0.1111111111111111, \"#46039f\"], [0.2222222222222222, \"#7201a8\"], [0.3333333333333333, \"#9c179e\"], [0.4444444444444444, \"#bd3786\"], [0.5555555555555556, \"#d8576b\"], [0.6666666666666666, \"#ed7953\"], [0.7777777777777778, \"#fb9f3a\"], [0.8888888888888888, \"#fdca26\"], [1.0, \"#f0f921\"]], \"type\": \"surface\"}], \"table\": [{\"cells\": {\"fill\": {\"color\": \"#EBF0F8\"}, \"line\": {\"color\": \"white\"}}, \"header\": {\"fill\": {\"color\": \"#C8D4E3\"}, \"line\": {\"color\": \"white\"}}, \"type\": \"table\"}]}, \"layout\": {\"annotationdefaults\": {\"arrowcolor\": \"#2a3f5f\", \"arrowhead\": 0, \"arrowwidth\": 1}, \"coloraxis\": {\"colorbar\": {\"outlinewidth\": 0, \"ticks\": \"\"}}, \"colorscale\": {\"diverging\": [[0, \"#8e0152\"], [0.1, \"#c51b7d\"], [0.2, \"#de77ae\"], [0.3, \"#f1b6da\"], [0.4, \"#fde0ef\"], [0.5, \"#f7f7f7\"], [0.6, \"#e6f5d0\"], [0.7, \"#b8e186\"], [0.8, \"#7fbc41\"], [0.9, \"#4d9221\"], [1, \"#276419\"]], \"sequential\": [[0.0, \"#0d0887\"], [0.1111111111111111, \"#46039f\"], [0.2222222222222222, \"#7201a8\"], [0.3333333333333333, \"#9c179e\"], [0.4444444444444444, \"#bd3786\"], [0.5555555555555556, \"#d8576b\"], [0.6666666666666666, \"#ed7953\"], [0.7777777777777778, \"#fb9f3a\"], [0.8888888888888888, \"#fdca26\"], [1.0, \"#f0f921\"]], \"sequentialminus\": [[0.0, \"#0d0887\"], [0.1111111111111111, \"#46039f\"], [0.2222222222222222, \"#7201a8\"], [0.3333333333333333, \"#9c179e\"], [0.4444444444444444, \"#bd3786\"], [0.5555555555555556, \"#d8576b\"], [0.6666666666666666, \"#ed7953\"], [0.7777777777777778, \"#fb9f3a\"], [0.8888888888888888, \"#fdca26\"], [1.0, \"#f0f921\"]]}, \"colorway\": [\"#636efa\", \"#EF553B\", \"#00cc96\", \"#ab63fa\", \"#FFA15A\", \"#19d3f3\", \"#FF6692\", \"#B6E880\", \"#FF97FF\", \"#FECB52\"], \"font\": {\"color\": \"#2a3f5f\"}, \"geo\": {\"bgcolor\": \"white\", \"lakecolor\": \"white\", \"landcolor\": \"#E5ECF6\", \"showlakes\": true, \"showland\": true, \"subunitcolor\": \"white\"}, \"hoverlabel\": {\"align\": \"left\"}, \"hovermode\": \"closest\", \"mapbox\": {\"style\": \"light\"}, \"paper_bgcolor\": \"white\", \"plot_bgcolor\": \"#E5ECF6\", \"polar\": {\"angularaxis\": {\"gridcolor\": \"white\", \"linecolor\": \"white\", \"ticks\": \"\"}, \"bgcolor\": \"#E5ECF6\", \"radialaxis\": {\"gridcolor\": \"white\", \"linecolor\": \"white\", \"ticks\": \"\"}}, \"scene\": {\"xaxis\": {\"backgroundcolor\": \"#E5ECF6\", \"gridcolor\": \"white\", \"gridwidth\": 2, \"linecolor\": \"white\", \"showbackground\": true, \"ticks\": \"\", \"zerolinecolor\": \"white\"}, \"yaxis\": {\"backgroundcolor\": \"#E5ECF6\", \"gridcolor\": \"white\", \"gridwidth\": 2, \"linecolor\": \"white\", \"showbackground\": true, \"ticks\": \"\", \"zerolinecolor\": \"white\"}, \"zaxis\": {\"backgroundcolor\": \"#E5ECF6\", \"gridcolor\": \"white\", \"gridwidth\": 2, \"linecolor\": \"white\", \"showbackground\": true, \"ticks\": \"\", \"zerolinecolor\": \"white\"}}, \"shapedefaults\": {\"line\": {\"color\": \"#2a3f5f\"}}, \"ternary\": {\"aaxis\": {\"gridcolor\": \"white\", \"linecolor\": \"white\", \"ticks\": \"\"}, \"baxis\": {\"gridcolor\": \"white\", \"linecolor\": \"white\", \"ticks\": \"\"}, \"bgcolor\": \"#E5ECF6\", \"caxis\": {\"gridcolor\": \"white\", \"linecolor\": \"white\", \"ticks\": \"\"}}, \"title\": {\"x\": 0.05}, \"xaxis\": {\"automargin\": true, \"gridcolor\": \"white\", \"linecolor\": \"white\", \"ticks\": \"\", \"title\": {\"standoff\": 15}, \"zerolinecolor\": \"white\", \"zerolinewidth\": 2}, \"yaxis\": {\"automargin\": true, \"gridcolor\": \"white\", \"linecolor\": \"white\", \"ticks\": \"\", \"title\": {\"standoff\": 15}, \"zerolinecolor\": \"white\", \"zerolinewidth\": 2}}}, \"xaxis\": {\"anchor\": \"y\", \"domain\": [0.0, 1.0], \"title\": {\"text\": \"x\"}}, \"yaxis\": {\"anchor\": \"x\", \"domain\": [0.0, 1.0], \"title\": {\"text\": \"y\"}}},                        {\"responsive\": true}                    ).then(function(){\n",
       "                            \n",
       "var gd = document.getElementById('8b236217-6a5a-41d8-93d2-4ba3bd4a7dbd');\n",
       "var x = new MutationObserver(function (mutations, observer) {{\n",
       "        var display = window.getComputedStyle(gd).display;\n",
       "        if (!display || display === 'none') {{\n",
       "            console.log([gd, 'removed!']);\n",
       "            Plotly.purge(gd);\n",
       "            observer.disconnect();\n",
       "        }}\n",
       "}});\n",
       "\n",
       "// Listen for the removal of the full notebook cells\n",
       "var notebookContainer = gd.closest('#notebook-container');\n",
       "if (notebookContainer) {{\n",
       "    x.observe(notebookContainer, {childList: true});\n",
       "}}\n",
       "\n",
       "// Listen for the clearing of the current output cell\n",
       "var outputEl = gd.closest('.output');\n",
       "if (outputEl) {{\n",
       "    x.observe(outputEl, {childList: true});\n",
       "}}\n",
       "\n",
       "                        })                };                });            </script>        </div>"
      ]
     },
     "metadata": {},
     "output_type": "display_data"
    }
   ],
   "source": [
    "results = utils.link_to_raw_data(results,X,y.values)\n",
    "                        \n",
    "results[\"labels\"] = results.labels.apply(int)\n",
    "results=pd.merge(results,cluster_labels_google.reset_index(),left_on=\"labels\",right_on = \"Topic\")\n",
    "fig = px.scatter(results, x=\"x\", y=\"y\", hover_name=\"headline\", hover_data=[\"created_at\",\"TopWords\"], color=\"labels\",\n",
    "                 opacity=0.8)\n",
    "fig.update_traces(marker=dict(size=9,\n",
    "                              line=dict(width=0.15,\n",
    "                                        color='DarkSlateGrey')),\n",
    "                  selector=dict(mode='markers'))\n",
    "fig[\"layout\"].pop(\"updatemenus\")\n",
    "\n",
    "fig.update_layout(height=1000)\n",
    "fig.show()"
   ]
  },
  {
   "cell_type": "code",
   "execution_count": null,
   "metadata": {},
   "outputs": [],
   "source": []
  },
  {
   "cell_type": "code",
   "execution_count": null,
   "metadata": {},
   "outputs": [],
   "source": []
  },
  {
   "cell_type": "code",
   "execution_count": null,
   "metadata": {},
   "outputs": [],
   "source": []
  }
 ],
 "metadata": {
  "kernelspec": {
   "display_name": "py38",
   "language": "python",
   "name": "py38"
  },
  "language_info": {
   "codemirror_mode": {
    "name": "ipython",
    "version": 3
   },
   "file_extension": ".py",
   "mimetype": "text/x-python",
   "name": "python",
   "nbconvert_exporter": "python",
   "pygments_lexer": "ipython3",
   "version": "3.8.3"
  }
 },
 "nbformat": 4,
 "nbformat_minor": 4
}
