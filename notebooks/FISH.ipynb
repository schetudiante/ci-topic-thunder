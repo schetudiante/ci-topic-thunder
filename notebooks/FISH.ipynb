{
 "cells": [
  {
   "cell_type": "code",
   "execution_count": 3,
   "metadata": {
    "collapsed": false,
    "jupyter": {
     "outputs_hidden": false
    },
    "pycharm": {
     "name": "#%%\n"
    }
   },
   "outputs": [
    {
     "name": "stdout",
     "output_type": "stream",
     "text": [
      "Number of stopwords 607\n",
      "The autoreload extension is already loaded. To reload it, use:\n",
      "  %reload_ext autoreload\n"
     ]
    }
   ],
   "source": [
    "\n",
    "import nltk,re,time,umap,collections,os,string,sys,mlflow\n",
    "sys.path.append(os.path.abspath(\"..\"))\n",
    "from modules import utils,modeling\n",
    "\n",
    "from sentence_transformers import SentenceTransformer,util\n",
    "import plotly.express as px\n",
    "import pandas as pd\n",
    "import glob\n",
    "\n",
    "from sklearn.metrics import completeness_score,homogeneity_score, v_measure_score,normalized_mutual_info_score,adjusted_mutual_info_score,silhouette_score\n",
    "from sklearn.feature_extraction.text import CountVectorizer\n",
    "import numpy as np\n",
    "from summa.summarizer import summarize\n",
    "from summa.keywords import keywords\n",
    "from hdbscan import HDBSCAN\n",
    "from sentence_transformers import models\n",
    "from sklearn.preprocessing import normalize\n",
    "from torch import nn\n",
    "import mlflow.sklearn\n",
    "from  mlflow.tracking import MlflowClient\n",
    "from sklearn.preprocessing import StandardScaler\n",
    "from sklearn.metrics.pairwise import cosine_distances\n",
    "\n",
    "import seaborn as sns\n",
    "import matplotlib.pyplot as plt\n",
    "import ipywidgets as widgets\n",
    "from ipywidgets import interact\n",
    "from textwrap import wrap\n",
    "stopwords = utils.load_stopwords()\n",
    "from flexible_clustering import FISHDBC\n",
    "import flexible_clustering\n",
    "\n",
    "remote_server=\"http://ec2-18-193-70-141.eu-central-1.compute.amazonaws.com\"\n",
    "client = MlflowClient(remote_server)\n",
    "mlflow.set_tracking_uri(remote_server)\n",
    "\n",
    "\n",
    "%matplotlib inline\n",
    "%load_ext autoreload\n",
    "%autoreload 2\n",
    "\n",
    "%reload_ext utils\n",
    "%reload_ext modeling\n",
    "os.environ[\"MLFLOW_S3_ENDPOINT_URL\"]=\"http://s3.eu-central-1.amazonaws.com\"\n",
    "os.environ[\"MLFLOW_TRACKING_USERNAME\"]=\"mlflow\"\n",
    "os.environ[\"MLFLOW_TRACKING_PASSWORD\"]=\"mlflow\"\n",
    "\n",
    "FISH = FISHDBC(cosine_distances)"
   ]
  },
  {
   "cell_type": "code",
   "execution_count": 4,
   "metadata": {
    "collapsed": false,
    "jupyter": {
     "outputs_hidden": false
    },
    "pycharm": {
     "name": "#%%\n"
    }
   },
   "outputs": [
    {
     "data": {
      "text/html": [
       "<div>\n",
       "<style scoped>\n",
       "    .dataframe tbody tr th:only-of-type {\n",
       "        vertical-align: middle;\n",
       "    }\n",
       "\n",
       "    .dataframe tbody tr th {\n",
       "        vertical-align: top;\n",
       "    }\n",
       "\n",
       "    .dataframe thead th {\n",
       "        text-align: right;\n",
       "    }\n",
       "</style>\n",
       "<table border=\"1\" class=\"dataframe\">\n",
       "  <thead>\n",
       "    <tr style=\"text-align: right;\">\n",
       "      <th></th>\n",
       "      <th>headline</th>\n",
       "      <th>seo_title</th>\n",
       "      <th>text</th>\n",
       "      <th>created_at_date</th>\n",
       "      <th>created_at</th>\n",
       "      <th>mix</th>\n",
       "      <th>kicker_headline_NER</th>\n",
       "      <th>text_NER</th>\n",
       "      <th>seo_title_NER</th>\n",
       "      <th>created_at_ne</th>\n",
       "    </tr>\n",
       "  </thead>\n",
       "  <tbody>\n",
       "    <tr>\n",
       "      <th>fde4b3c95901643bf957060e97458af3c3a5cb77979d6b1cab666bd11a343918</th>\n",
       "      <td>„FameMaker“: Wie Stefan Raab die Fäden weiter ...</td>\n",
       "      <td>Wie Raab hinter der Kamera die Fäden zieht</td>\n",
       "      <td>Bühne frei für ein neues bisschen Raab ... Am ...</td>\n",
       "      <td>9/14/20</td>\n",
       "      <td>2020-09-14 18:27:15</td>\n",
       "      <td>„FameMaker“: Wie Stefan Raab die Fäden weiter ...</td>\n",
       "      <td>[{\"entities\":[{\"mentions\":[{\"text\":{\"content\":...</td>\n",
       "      <td>[{\"entities\":[{\"mentions\":[{\"text\":{\"content\":...</td>\n",
       "      <td>[{\"entities\":[{\"mentions\":[{\"text\":{\"content\":...</td>\n",
       "      <td>2020-09-14 18:28:06</td>\n",
       "    </tr>\n",
       "  </tbody>\n",
       "</table>\n",
       "</div>"
      ],
      "text/plain": [
       "                                                                                             headline  \\\n",
       "fde4b3c95901643bf957060e97458af3c3a5cb77979d6b1...  „FameMaker“: Wie Stefan Raab die Fäden weiter ...   \n",
       "\n",
       "                                                                                     seo_title  \\\n",
       "fde4b3c95901643bf957060e97458af3c3a5cb77979d6b1...  Wie Raab hinter der Kamera die Fäden zieht   \n",
       "\n",
       "                                                                                                 text  \\\n",
       "fde4b3c95901643bf957060e97458af3c3a5cb77979d6b1...  Bühne frei für ein neues bisschen Raab ... Am ...   \n",
       "\n",
       "                                                   created_at_date  \\\n",
       "fde4b3c95901643bf957060e97458af3c3a5cb77979d6b1...         9/14/20   \n",
       "\n",
       "                                                            created_at  \\\n",
       "fde4b3c95901643bf957060e97458af3c3a5cb77979d6b1... 2020-09-14 18:27:15   \n",
       "\n",
       "                                                                                                  mix  \\\n",
       "fde4b3c95901643bf957060e97458af3c3a5cb77979d6b1...  „FameMaker“: Wie Stefan Raab die Fäden weiter ...   \n",
       "\n",
       "                                                                                  kicker_headline_NER  \\\n",
       "fde4b3c95901643bf957060e97458af3c3a5cb77979d6b1...  [{\"entities\":[{\"mentions\":[{\"text\":{\"content\":...   \n",
       "\n",
       "                                                                                             text_NER  \\\n",
       "fde4b3c95901643bf957060e97458af3c3a5cb77979d6b1...  [{\"entities\":[{\"mentions\":[{\"text\":{\"content\":...   \n",
       "\n",
       "                                                                                        seo_title_NER  \\\n",
       "fde4b3c95901643bf957060e97458af3c3a5cb77979d6b1...  [{\"entities\":[{\"mentions\":[{\"text\":{\"content\":...   \n",
       "\n",
       "                                                          created_at_ne  \n",
       "fde4b3c95901643bf957060e97458af3c3a5cb77979d6b1...  2020-09-14 18:28:06  "
      ]
     },
     "execution_count": 4,
     "metadata": {},
     "output_type": "execute_result"
    }
   ],
   "source": [
    "X = utils.load_labeled_data()\n",
    "X.drop([\"site\",\"entities_analyzed\",\"updated_at\"],inplace=True,axis=\"columns\")\n",
    "\n",
    "labeled = pd.read_csv(\"../data/raw_article_entities.csv\",header=None,names=[\"_id\",\"article_id\",\n",
    "                                                                            \"kicker_headline_NER\",\"text_NER\",\n",
    "                                                                            \"seo_title_NER\",\"created_at_ne\",\n",
    "                                                                            \"updated_at\",\"parset\"])\n",
    "\n",
    "labeled.drop([\"parset\",\"updated_at\",\"_id\"],axis=1,inplace=True)\n",
    "labeled = labeled.set_index(\"article_id\")\n",
    "\n",
    "\n",
    "X['mix'] =  X['headline'] +\" \"+ X[\"text\"]\n",
    "#pdf_mix = utils.preprocess_text(X,col=\"mix\")\n",
    "pdf_mix = X[\"mix\"].values\n",
    "X = X.join(labeled,how='right')\n",
    "X.drop_duplicates(subset='headline',inplace=True)\n",
    "pdf= utils.preprocess_articles_for_bert(X,\"mix\")\n",
    "y = X.labels\n",
    "X.drop(\"labels\",axis=\"columns\",inplace=True)\n",
    "X.tail(1)"
   ]
  },
  {
   "cell_type": "code",
   "execution_count": 5,
   "metadata": {
    "collapsed": false,
    "jupyter": {
     "outputs_hidden": false
    },
    "pycharm": {
     "name": "#%%\n"
    }
   },
   "outputs": [
    {
     "data": {
      "application/vnd.jupyter.widget-view+json": {
       "model_id": "e43d54583113464db473a1438b5d35b7",
       "version_major": 2,
       "version_minor": 0
      },
      "text/plain": [
       "HBox(children=(FloatProgress(value=0.0, description='Batches', max=8.0, style=ProgressStyle(description_width=…"
      ]
     },
     "metadata": {},
     "output_type": "display_data"
    },
    {
     "name": "stdout",
     "output_type": "stream",
     "text": [
      "\n",
      "--- Embedding dimension 768\n",
      "--- 239 Documnets encoded 43.29958915710449 seconds ---\n"
     ]
    }
   ],
   "source": [
    "model = models.Transformer( 'T-Systems-onsite/bert-german-dbmdz-uncased-sentence-stsb',max_seq_length=225)\n",
    "embeddings = modeling.get_sentence_embeddings(pdf,model,False)\n",
    "#embeddings[0]"
   ]
  },
  {
   "cell_type": "code",
   "execution_count": 6,
   "metadata": {
    "collapsed": false,
    "jupyter": {
     "outputs_hidden": false
    },
    "pycharm": {
     "name": "#%%\n"
    }
   },
   "outputs": [],
   "source": [
    "mlflow.set_experiment(\"basic-eval-FISH\")\n"
   ]
  },
  {
   "cell_type": "code",
   "execution_count": null,
   "metadata": {
    "collapsed": false,
    "jupyter": {
     "outputs_hidden": false
    },
    "pycharm": {
     "name": "#%%\n"
    }
   },
   "outputs": [],
   "source": []
  },
  {
   "cell_type": "code",
   "execution_count": null,
   "metadata": {
    "collapsed": false,
    "jupyter": {
     "outputs_hidden": false
    },
    "pycharm": {
     "is_executing": false,
     "name": "#%%\n"
    }
   },
   "outputs": [],
   "source": [
    "y_summarized_clusters = dict(collections.Counter(y.values))\n",
    "\n",
    "params={\"min_samples\":2,\"ef\":200}\n",
    "\n",
    "efs= [100,200,300,350,400,500,600,700]\n",
    "selection_methods= ['leaf','eom']\n",
    "for ef in efs:\n",
    "    for selection_method in selection_methods:\n",
    "        params['ef']=ef\n",
    "        with mlflow.start_run():\n",
    "            mlflow.log_params(params)\n",
    "        \n",
    "            clusterer = flexible_clustering.FISHDBC(cosine_distances,**params)\n",
    "            for elem in embeddings:\n",
    "                clusterer.add([elem])\n",
    "            labels, probs, stabilities, condensed_tree, slt, mst = clusterer.cluster(cluster_selection_method=selection_method,min_cluster_size=3)\n",
    "            mlflow.log_param(\"cluster_selection_method\",selection_method)\n",
    "            mlflow.log_metric(key=\"completeness_score\", value=completeness_score(labels,y.values))\n",
    "            mlflow.log_metric(key=\"v_measure_score\", value=v_measure_score(labels,y.values))\n",
    "            mlflow.log_metric(key=\"homogeneity_score\", value=homogeneity_score(labels,y.values))\n",
    "            mlflow.log_metric(key=\"normalized_mutual_info_score\", value=v_measure_score(labels,y.values))\n",
    "            \n",
    "            summarized_clusters = dict(collections.Counter(labels))\n",
    "            try:\n",
    "                mlflow.log_metric(key=\"outliers_ratio\", value=(summarized_clusters[-1]/len(labels)))\n",
    "            except Exception as err:\n",
    "                mlflow.log_metric(key=\"outliers_ratio\", value=0)\n",
    "        \n",
    "            mlflow.log_metric(key=\"unique_cluters\", value=len(summarized_clusters.items()))\n",
    "            mlflow.log_metric(key=\"clusters_ratio_to_GT\", value=(len(summarized_clusters.items())-1)/len(y_summarized_clusters.items()))\n",
    "            mlflow.log_metric(key=\"silhuette_score\", value=silhouette_score(embeddings,labels))\n",
    "            mlflow.log_metric(key=\"silhuette_score_true\", value=silhouette_score(embeddings,y.values))\n",
    "            results = utils.link_to_raw_data(results,X,labels)\n",
    "    \n",
    "            try:\n",
    "                modeling.scatter_plot(results,save_fig=True)\n",
    "                mlflow.log_artifact(\"./tmp_scatter_plot.html\")\n",
    "            except Exception as err:\n",
    "                print(err)\n",
    "            print(\"Done!\")"
   ]
  },
  {
   "cell_type": "code",
   "execution_count": null,
   "metadata": {
    "collapsed": false,
    "jupyter": {
     "outputs_hidden": false
    },
    "pycharm": {
     "name": "#%%\n"
    }
   },
   "outputs": [],
   "source": [
    " \n"
   ]
  }
 ],
 "metadata": {
  "kernelspec": {
   "display_name": "py38",
   "language": "python",
   "name": "py38"
  },
  "language_info": {
   "codemirror_mode": {
    "name": "ipython",
    "version": 3
   },
   "file_extension": ".py",
   "mimetype": "text/x-python",
   "name": "python",
   "nbconvert_exporter": "python",
   "pygments_lexer": "ipython3",
   "version": "3.8.3"
  },
  "pycharm": {
   "stem_cell": {
    "cell_type": "raw",
    "metadata": {
     "collapsed": false
    },
    "source": []
   }
  }
 },
 "nbformat": 4,
 "nbformat_minor": 4
}
