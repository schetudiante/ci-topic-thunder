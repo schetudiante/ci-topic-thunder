{
 "cells": [
  {
   "cell_type": "code",
   "execution_count": 1,
   "metadata": {},
   "outputs": [
    {
     "name": "stdout",
     "output_type": "stream",
     "text": [
      "Number of stopwords 607\n"
     ]
    }
   ],
   "source": [
    "import gensim,os,sys\n",
    "sys.path.append(os.path.abspath(\"..\"))\n",
    "\n",
    "\n",
    "import pandas as pd\n",
    "\n",
    "import matplotlib.pyplot as plt\n",
    "from nltk.corpus import stopwords\n",
    "from sklearn.feature_extraction.text import CountVectorizer\n",
    "from germalemma import GermaLemma\n",
    "from nltk.util import ngrams\n",
    "\n",
    "import pyLDAvis.gensim\n",
    "import seaborn as sns\n",
    "from collections import  Counter\n",
    "\n",
    "from modules import utils\n",
    "\n",
    "text_features = [\"kicker\",\"headline\",\"text\",\"seo_title\"]\n",
    "\n",
    "TOP_N = 100"
   ]
  },
  {
   "cell_type": "code",
   "execution_count": 31,
   "metadata": {},
   "outputs": [
    {
     "data": {
      "text/html": [
       "<div>\n",
       "<style scoped>\n",
       "    .dataframe tbody tr th:only-of-type {\n",
       "        vertical-align: middle;\n",
       "    }\n",
       "\n",
       "    .dataframe tbody tr th {\n",
       "        vertical-align: top;\n",
       "    }\n",
       "\n",
       "    .dataframe thead th {\n",
       "        text-align: right;\n",
       "    }\n",
       "</style>\n",
       "<table border=\"1\" class=\"dataframe\">\n",
       "  <thead>\n",
       "    <tr style=\"text-align: right;\">\n",
       "      <th></th>\n",
       "      <th>kicker</th>\n",
       "      <th>headline</th>\n",
       "      <th>text</th>\n",
       "      <th>seo_title</th>\n",
       "    </tr>\n",
       "    <tr>\n",
       "      <th>article_uid</th>\n",
       "      <th></th>\n",
       "      <th></th>\n",
       "      <th></th>\n",
       "      <th></th>\n",
       "    </tr>\n",
       "  </thead>\n",
       "  <tbody>\n",
       "    <tr>\n",
       "      <th>8c7b60bbbbab27058f93ba3114462b0b9b82f79c3cf3e95e52cf8013742b1f89</th>\n",
       "      <td>Tor nach 3 Sekunden!</td>\n",
       "      <td>Blitz-Comeback von Reus</td>\n",
       "      <td>Wenn du bei deinem Comeback nach 223 Tagen nur...</td>\n",
       "      <td>DFB-Pokal: Duisburg - BVB 0:5! 3 Sekunden nach...</td>\n",
       "    </tr>\n",
       "    <tr>\n",
       "      <th>66ef992ac10f512ce621314bcffcbc542549ba1f52c8b11696e33d8730998aba</th>\n",
       "      <td>Sie stoppten das Schalke-Spiel</td>\n",
       "      <td>Türkgücü-Bosse erklärenihre Pokal-Klage</td>\n",
       "      <td>Es war DER Aufreger der 1. DFB-Pokal-Runde.  T...</td>\n",
       "      <td>DFB-Pokal: Sie stoppten das Schalke-Spiel – Tü...</td>\n",
       "    </tr>\n",
       "    <tr>\n",
       "      <th>bafa8f876a14f50c6010a8ea2ff4de2265e508af13c5007ddb363a4c4b155f4e</th>\n",
       "      <td>Messer-Angriff von Stolberg</td>\n",
       "      <td>Islamist stachschon einmal zu!</td>\n",
       "      <td>Stolberg/Aachen – Der Messerangriff von Stolbe...</td>\n",
       "      <td>Messer-Angriff von Stolberg   - Islamist stach...</td>\n",
       "    </tr>\n",
       "    <tr>\n",
       "      <th>e353f0b8121a6f0addf3ea3ca5eead419c904d283284fcffcf913ff6f2f39b1c</th>\n",
       "      <td>Hertha verschenkt Machtzentrale</td>\n",
       "      <td>Die neuen Hierarchien der 18 Klubs</td>\n",
       "      <td>Die neue Serie „Die neuen Hierarchien der 18 K...</td>\n",
       "      <td>1. Bundesliga: Die neuen Hierarchien der 18 Kl...</td>\n",
       "    </tr>\n",
       "    <tr>\n",
       "      <th>f168dc072b52b38187937175639830ef066209100ffaeea780cb03cd943706d3</th>\n",
       "      <td>Verletzte und neue Offensive</td>\n",
       "      <td>Gisdol schon vorm Start unter Druck!</td>\n",
       "      <td>Das hatte sich Markus Gisdol (50) bei seiner V...</td>\n",
       "      <td>1. FC Köln: Markus Gisdol schon vor Liga-Start...</td>\n",
       "    </tr>\n",
       "    <tr>\n",
       "      <th>...</th>\n",
       "      <td>...</td>\n",
       "      <td>...</td>\n",
       "      <td>...</td>\n",
       "      <td>...</td>\n",
       "    </tr>\n",
       "    <tr>\n",
       "      <th>590295e18778ddda2fbea0ac849dc1b6037fe9f3a6e08a029b52f3e68e9bbbfa</th>\n",
       "      <td>Prozess wegen gefährlicher Körperverletzung</td>\n",
       "      <td>„Dr. Lips“ soll illegal operiert haben</td>\n",
       "      <td>Mönchengladbach – In den USA war er bekannt al...</td>\n",
       "      <td>Prozess wegen gefährlicher Körperverletzung - ...</td>\n",
       "    </tr>\n",
       "    <tr>\n",
       "      <th>d43622ddfa01160e431a96cd165b7039c43ed2c894f972e7923c4ec24be6ee39</th>\n",
       "      <td>Vergeblich gekämpft</td>\n",
       "      <td>Wolfsburgs Camacho: Karriere-Ende mit 30</td>\n",
       "      <td>Fast zwei Jahre hat er in der Reha geackert, u...</td>\n",
       "      <td>VfL Wolfsburg: Igancio Camacho muss Karriere b...</td>\n",
       "    </tr>\n",
       "    <tr>\n",
       "      <th>8fc445a9e2425ac9c1174558405212debf670b1e5d7d76c442e12748d8f8c508</th>\n",
       "      <td>Angebot bei Airbnb</td>\n",
       "      <td>Urlaub in der Villa von „Der Prinz von Bel-Air...</td>\n",
       "      <td>Fans aufgepasst! 30 Jahre ist es her, dass Wil...</td>\n",
       "      <td>„Der Prinz von Bel-Air“: Will Smith und AirBnb...</td>\n",
       "    </tr>\n",
       "    <tr>\n",
       "      <th>3e1267ada1183c294b63b44962c8a6df1f5e36bb166b231debdb39b11afc865d</th>\n",
       "      <td>Aue-Boss sauer nach Pokal-Aus</td>\n",
       "      <td>Leonhardt droht Mannschaftund Trainerteam</td>\n",
       "      <td>Krisenstimmung bei Erzgebirge Aue nach dem pei...</td>\n",
       "      <td>2. Liga! Nach Pokal-Aus: Aue-Boss droht Mannsc...</td>\n",
       "    </tr>\n",
       "    <tr>\n",
       "      <th>4da5c2a7f90fc4d65ab111b41b5f949e5730d48517a0c083277d22bab5c2c32a</th>\n",
       "      <td>Neuer Abwehrchef</td>\n",
       "      <td>96 holt Russen-Bulle Zhirov</td>\n",
       "      <td>Der zehnte Neue ist im Anflug! Hannover 96 suc...</td>\n",
       "      <td>Hannover 96: Russen-Bulle Aleksandr Zhirov wir...</td>\n",
       "    </tr>\n",
       "  </tbody>\n",
       "</table>\n",
       "<p>100 rows × 4 columns</p>\n",
       "</div>"
      ],
      "text/plain": [
       "                                                                                         kicker  \\\n",
       "article_uid                                                                                       \n",
       "8c7b60bbbbab27058f93ba3114462b0b9b82f79c3cf3e95...                         Tor nach 3 Sekunden!   \n",
       "66ef992ac10f512ce621314bcffcbc542549ba1f52c8b11...               Sie stoppten das Schalke-Spiel   \n",
       "bafa8f876a14f50c6010a8ea2ff4de2265e508af13c5007...                Messer-Angriff von Stolberg     \n",
       "e353f0b8121a6f0addf3ea3ca5eead419c904d283284fcf...              Hertha verschenkt Machtzentrale   \n",
       "f168dc072b52b38187937175639830ef066209100ffaeea...                 Verletzte und neue Offensive   \n",
       "...                                                                                         ...   \n",
       "590295e18778ddda2fbea0ac849dc1b6037fe9f3a6e08a0...  Prozess wegen gefährlicher Körperverletzung   \n",
       "d43622ddfa01160e431a96cd165b7039c43ed2c894f972e...                          Vergeblich gekämpft   \n",
       "8fc445a9e2425ac9c1174558405212debf670b1e5d7d76c...                           Angebot bei Airbnb   \n",
       "3e1267ada1183c294b63b44962c8a6df1f5e36bb166b231...                Aue-Boss sauer nach Pokal-Aus   \n",
       "4da5c2a7f90fc4d65ab111b41b5f949e5730d48517a0c08...                             Neuer Abwehrchef   \n",
       "\n",
       "                                                                                             headline  \\\n",
       "article_uid                                                                                             \n",
       "8c7b60bbbbab27058f93ba3114462b0b9b82f79c3cf3e95...                            Blitz-Comeback von Reus   \n",
       "66ef992ac10f512ce621314bcffcbc542549ba1f52c8b11...            Türkgücü-Bosse erklärenihre Pokal-Klage   \n",
       "bafa8f876a14f50c6010a8ea2ff4de2265e508af13c5007...                     Islamist stachschon einmal zu!   \n",
       "e353f0b8121a6f0addf3ea3ca5eead419c904d283284fcf...                 Die neuen Hierarchien der 18 Klubs   \n",
       "f168dc072b52b38187937175639830ef066209100ffaeea...               Gisdol schon vorm Start unter Druck!   \n",
       "...                                                                                               ...   \n",
       "590295e18778ddda2fbea0ac849dc1b6037fe9f3a6e08a0...             „Dr. Lips“ soll illegal operiert haben   \n",
       "d43622ddfa01160e431a96cd165b7039c43ed2c894f972e...           Wolfsburgs Camacho: Karriere-Ende mit 30   \n",
       "8fc445a9e2425ac9c1174558405212debf670b1e5d7d76c...  Urlaub in der Villa von „Der Prinz von Bel-Air...   \n",
       "3e1267ada1183c294b63b44962c8a6df1f5e36bb166b231...          Leonhardt droht Mannschaftund Trainerteam   \n",
       "4da5c2a7f90fc4d65ab111b41b5f949e5730d48517a0c08...                        96 holt Russen-Bulle Zhirov   \n",
       "\n",
       "                                                                                                 text  \\\n",
       "article_uid                                                                                             \n",
       "8c7b60bbbbab27058f93ba3114462b0b9b82f79c3cf3e95...  Wenn du bei deinem Comeback nach 223 Tagen nur...   \n",
       "66ef992ac10f512ce621314bcffcbc542549ba1f52c8b11...  Es war DER Aufreger der 1. DFB-Pokal-Runde.  T...   \n",
       "bafa8f876a14f50c6010a8ea2ff4de2265e508af13c5007...  Stolberg/Aachen – Der Messerangriff von Stolbe...   \n",
       "e353f0b8121a6f0addf3ea3ca5eead419c904d283284fcf...  Die neue Serie „Die neuen Hierarchien der 18 K...   \n",
       "f168dc072b52b38187937175639830ef066209100ffaeea...  Das hatte sich Markus Gisdol (50) bei seiner V...   \n",
       "...                                                                                               ...   \n",
       "590295e18778ddda2fbea0ac849dc1b6037fe9f3a6e08a0...  Mönchengladbach – In den USA war er bekannt al...   \n",
       "d43622ddfa01160e431a96cd165b7039c43ed2c894f972e...  Fast zwei Jahre hat er in der Reha geackert, u...   \n",
       "8fc445a9e2425ac9c1174558405212debf670b1e5d7d76c...  Fans aufgepasst! 30 Jahre ist es her, dass Wil...   \n",
       "3e1267ada1183c294b63b44962c8a6df1f5e36bb166b231...  Krisenstimmung bei Erzgebirge Aue nach dem pei...   \n",
       "4da5c2a7f90fc4d65ab111b41b5f949e5730d48517a0c08...  Der zehnte Neue ist im Anflug! Hannover 96 suc...   \n",
       "\n",
       "                                                                                            seo_title  \n",
       "article_uid                                                                                            \n",
       "8c7b60bbbbab27058f93ba3114462b0b9b82f79c3cf3e95...  DFB-Pokal: Duisburg - BVB 0:5! 3 Sekunden nach...  \n",
       "66ef992ac10f512ce621314bcffcbc542549ba1f52c8b11...  DFB-Pokal: Sie stoppten das Schalke-Spiel – Tü...  \n",
       "bafa8f876a14f50c6010a8ea2ff4de2265e508af13c5007...  Messer-Angriff von Stolberg   - Islamist stach...  \n",
       "e353f0b8121a6f0addf3ea3ca5eead419c904d283284fcf...  1. Bundesliga: Die neuen Hierarchien der 18 Kl...  \n",
       "f168dc072b52b38187937175639830ef066209100ffaeea...  1. FC Köln: Markus Gisdol schon vor Liga-Start...  \n",
       "...                                                                                               ...  \n",
       "590295e18778ddda2fbea0ac849dc1b6037fe9f3a6e08a0...  Prozess wegen gefährlicher Körperverletzung - ...  \n",
       "d43622ddfa01160e431a96cd165b7039c43ed2c894f972e...  VfL Wolfsburg: Igancio Camacho muss Karriere b...  \n",
       "8fc445a9e2425ac9c1174558405212debf670b1e5d7d76c...  „Der Prinz von Bel-Air“: Will Smith und AirBnb...  \n",
       "3e1267ada1183c294b63b44962c8a6df1f5e36bb166b231...  2. Liga! Nach Pokal-Aus: Aue-Boss droht Mannsc...  \n",
       "4da5c2a7f90fc4d65ab111b41b5f949e5730d48517a0c08...  Hannover 96: Russen-Bulle Aleksandr Zhirov wir...  \n",
       "\n",
       "[100 rows x 4 columns]"
      ]
     },
     "execution_count": 31,
     "metadata": {},
     "output_type": "execute_result"
    }
   ],
   "source": [
    "df= pd.read_csv('../data/bild_articles.csv',index_col=0,parse_dates=[\"created_at\"])\n",
    "df.dropna(inplace=True)\n",
    "df[text_features].head(TOP_N)"
   ]
  },
  {
   "cell_type": "code",
   "execution_count": 40,
   "metadata": {},
   "outputs": [
    {
     "name": "stdout",
     "output_type": "stream",
     "text": [
      "Index(['kicker', 'headline', 'text', 'seo_title', 'created_at', 'updated_at',\n",
      "       'site', 'entities_analyzed'],\n",
      "      dtype='object')\n"
     ]
    },
    {
     "data": {
      "text/plain": [
       "<matplotlib.axes._subplots.AxesSubplot at 0x7fb9fba82a90>"
      ]
     },
     "execution_count": 40,
     "metadata": {},
     "output_type": "execute_result"
    },
    {
     "data": {
      "image/png": "[encoded data removed]",
      "text/plain": [
       "<Figure size 1800x360 with 1 Axes>"
      ]
     },
     "metadata": {
      "needs_background": "light"
     },
     "output_type": "display_data"
    }
   ],
   "source": [
    "print(df.columns)\n",
    "df[[\"created_at\", \"headline\",\"text\"]].groupby((df['created_at'].dt.date)).count().plot(figsize=(25,5))\n"
   ]
  },
  {
   "cell_type": "code",
   "execution_count": 12,
   "metadata": {},
   "outputs": [],
   "source": [
    " \n",
    "def plot_top_ngrams_barchart(text, n=3):\n",
    "    stop=set(stopwords.words('german'))\n",
    "\n",
    "    new= text.str.split()\n",
    "    new=new.values.tolist()\n",
    "    corpus=[word for i in new for word in i ] \n",
    "    corpus = [word for word in corpus if word not in stop]\n",
    "    \n",
    "    def _get_top_ngram(corpus, n=None):\n",
    "        vec = CountVectorizer(ngram_range=(n, n)).fit(corpus)\n",
    "        bag_of_words = vec.transform(corpus)\n",
    "        sum_words = bag_of_words.sum(axis=0) \n",
    "        words_freq = [(word, sum_words[0, idx]) \n",
    "                      for word, idx in vec.vocabulary_.items()]\n",
    "        words_freq =sorted(words_freq, key = lambda x: x[1], reverse=True)\n",
    "        return words_freq[:20]\n",
    "\n",
    "    top_n_bigrams=_get_top_ngram(text,n)[:35]\n",
    "    x,y=map(list,zip(*top_n_bigrams))\n",
    "    sns.barplot(x=y,y=x)\n",
    "    tmp = pd.DataFrame(top_n_bigrams,columns=[\"ngram\",'zahlen'])\n",
    "    tmp[\"n\"] = n\n",
    "    return tmp\n",
    "\n",
    "x=plot_top_ngrams_barchart(df['headline'],2)\n",
    "x=plot_top_ngrams_barchart(df['headline'],3)\n",
    "x=plot_top_ngrams_barchart(df['headline'],4)\n",
    "\n",
    "#df_list =[]\n",
    "#for x in range(2,7):\n",
    "#    df_list.append(plot_top_ngrams_barchart(df['headline'],x))\n",
    "#\n",
    "#pd.concat(df_list).to_csv(\"ngram-freq.csv\",index=False)"
   ]
  },
  {
   "cell_type": "code",
   "execution_count": null,
   "metadata": {},
   "outputs": [],
   "source": []
  },
  {
   "cell_type": "code",
   "execution_count": null,
   "metadata": {},
   "outputs": [],
   "source": []
  },
  {
   "cell_type": "code",
   "execution_count": null,
   "metadata": {},
   "outputs": [],
   "source": []
  },
  {
   "cell_type": "code",
   "execution_count": null,
   "metadata": {},
   "outputs": [],
   "source": []
  },
  {
   "cell_type": "code",
   "execution_count": null,
   "metadata": {},
   "outputs": [],
   "source": []
  },
  {
   "cell_type": "code",
   "execution_count": null,
   "metadata": {},
   "outputs": [],
   "source": []
  },
  {
   "cell_type": "code",
   "execution_count": null,
   "metadata": {},
   "outputs": [],
   "source": []
  },
  {
   "cell_type": "code",
   "execution_count": null,
   "metadata": {},
   "outputs": [],
   "source": []
  },
  {
   "cell_type": "code",
   "execution_count": null,
   "metadata": {},
   "outputs": [],
   "source": []
  },
  {
   "cell_type": "code",
   "execution_count": null,
   "metadata": {},
   "outputs": [],
   "source": []
  },
  {
   "cell_type": "code",
   "execution_count": 56,
   "metadata": {},
   "outputs": [],
   "source": [
    "\n",
    "\n",
    "\n",
    "df= utils.load_text_data()\n",
    "df.dropna(inplace=True)\n"
   ]
  },
  {
   "cell_type": "code",
   "execution_count": null,
   "metadata": {},
   "outputs": [],
   "source": []
  },
  {
   "cell_type": "code",
   "execution_count": 57,
   "metadata": {},
   "outputs": [
    {
     "ename": "TypeError",
     "evalue": "doc2bow() missing 1 required positional argument: 'document'",
     "output_type": "error",
     "traceback": [
      "\u001b[0;31m---------------------------------------------------------------------------\u001b[0m",
      "\u001b[0;31mTypeError\u001b[0m                                 Traceback (most recent call last)",
      "\u001b[0;32m<ipython-input-57-084f63069b22>\u001b[0m in \u001b[0;36m<module>\u001b[0;34m\u001b[0m\n\u001b[1;32m      2\u001b[0m \u001b[0;34m\u001b[0m\u001b[0m\n\u001b[1;32m      3\u001b[0m \u001b[0mcorpus\u001b[0m\u001b[0;34m=\u001b[0m\u001b[0mgensim\u001b[0m\u001b[0;34m.\u001b[0m\u001b[0mcorpora\u001b[0m\u001b[0;34m.\u001b[0m\u001b[0mDictionary\u001b[0m\u001b[0;34m(\u001b[0m\u001b[0mcorpus\u001b[0m\u001b[0;34m)\u001b[0m\u001b[0;34m\u001b[0m\u001b[0;34m\u001b[0m\u001b[0m\n\u001b[0;32m----> 4\u001b[0;31m \u001b[0mbow_corpus\u001b[0m \u001b[0;34m=\u001b[0m \u001b[0;34m[\u001b[0m\u001b[0mgensim\u001b[0m\u001b[0;34m.\u001b[0m\u001b[0mcorpora\u001b[0m\u001b[0;34m.\u001b[0m\u001b[0mDictionary\u001b[0m\u001b[0;34m.\u001b[0m\u001b[0mdoc2bow\u001b[0m\u001b[0;34m(\u001b[0m\u001b[0mdoc\u001b[0m\u001b[0;34m)\u001b[0m \u001b[0;32mfor\u001b[0m \u001b[0mdoc\u001b[0m \u001b[0;32min\u001b[0m \u001b[0mcorpus\u001b[0m\u001b[0;34m]\u001b[0m\u001b[0;34m\u001b[0m\u001b[0;34m\u001b[0m\u001b[0m\n\u001b[0m\u001b[1;32m      5\u001b[0m lda_model = gensim.models.LdaMulticore(bow_corpus, \n\u001b[1;32m      6\u001b[0m                                    \u001b[0mnum_topics\u001b[0m \u001b[0;34m=\u001b[0m \u001b[0;36m250\u001b[0m\u001b[0;34m,\u001b[0m\u001b[0;34m\u001b[0m\u001b[0;34m\u001b[0m\u001b[0m\n",
      "\u001b[0;32m<ipython-input-57-084f63069b22>\u001b[0m in \u001b[0;36m<listcomp>\u001b[0;34m(.0)\u001b[0m\n\u001b[1;32m      2\u001b[0m \u001b[0;34m\u001b[0m\u001b[0m\n\u001b[1;32m      3\u001b[0m \u001b[0mcorpus\u001b[0m\u001b[0;34m=\u001b[0m\u001b[0mgensim\u001b[0m\u001b[0;34m.\u001b[0m\u001b[0mcorpora\u001b[0m\u001b[0;34m.\u001b[0m\u001b[0mDictionary\u001b[0m\u001b[0;34m(\u001b[0m\u001b[0mcorpus\u001b[0m\u001b[0;34m)\u001b[0m\u001b[0;34m\u001b[0m\u001b[0;34m\u001b[0m\u001b[0m\n\u001b[0;32m----> 4\u001b[0;31m \u001b[0mbow_corpus\u001b[0m \u001b[0;34m=\u001b[0m \u001b[0;34m[\u001b[0m\u001b[0mgensim\u001b[0m\u001b[0;34m.\u001b[0m\u001b[0mcorpora\u001b[0m\u001b[0;34m.\u001b[0m\u001b[0mDictionary\u001b[0m\u001b[0;34m.\u001b[0m\u001b[0mdoc2bow\u001b[0m\u001b[0;34m(\u001b[0m\u001b[0mdoc\u001b[0m\u001b[0;34m)\u001b[0m \u001b[0;32mfor\u001b[0m \u001b[0mdoc\u001b[0m \u001b[0;32min\u001b[0m \u001b[0mcorpus\u001b[0m\u001b[0;34m]\u001b[0m\u001b[0;34m\u001b[0m\u001b[0;34m\u001b[0m\u001b[0m\n\u001b[0m\u001b[1;32m      5\u001b[0m lda_model = gensim.models.LdaMulticore(bow_corpus, \n\u001b[1;32m      6\u001b[0m                                    \u001b[0mnum_topics\u001b[0m \u001b[0;34m=\u001b[0m \u001b[0;36m250\u001b[0m\u001b[0;34m,\u001b[0m\u001b[0;34m\u001b[0m\u001b[0;34m\u001b[0m\u001b[0m\n",
      "\u001b[0;31mTypeError\u001b[0m: doc2bow() missing 1 required positional argument: 'document'"
     ]
    }
   ],
   "source": [
    "corpus=utils.preprocess_and_tokenize_text(df.head(10000))\n",
    "\n",
    "corpus=gensim.corpora.Dictionary(corpus)\n",
    "bow_corpus = [gensim.corpora.Dictionary.doc2bow(doc) for doc in corpus]\n",
    "lda_model = gensim.models.LdaMulticore(bow_corpus, \n",
    "                                   num_topics = 250, \n",
    "                                   id2word = dic,                                    \n",
    "                                   passes = 10,\n",
    "                                   workers = 4)\n",
    "print(lda_model.show_topics())\n",
    "\n",
    "\n",
    "pyLDAvis.enable_notebook()\n",
    "vis = pyLDAvis.gensim.prepare(lda_model, bow_corpus, dic)\n",
    "vis"
   ]
  },
  {
   "cell_type": "code",
   "execution_count": 18,
   "metadata": {},
   "outputs": [
    {
     "data": {
      "text/plain": [
       "'/Users/tomasztkaczyk/Desktop/axel/ci-topic-thunder'"
      ]
     },
     "execution_count": 18,
     "metadata": {},
     "output_type": "execute_result"
    }
   ],
   "source": [
    "import os\n"
   ]
  },
  {
   "cell_type": "code",
   "execution_count": null,
   "metadata": {},
   "outputs": [],
   "source": [
    "lll"
   ]
  },
  {
   "cell_type": "code",
   "execution_count": 5,
   "metadata": {},
   "outputs": [
    {
     "name": "stdout",
     "output_type": "stream",
     "text": [
      "Collecting fasttext\n",
      "  Using cached fasttext-0.9.2.tar.gz (68 kB)\n",
      "Requirement already satisfied: pybind11>=2.2 in /Users/tomasztkaczyk/opt/anaconda3/envs/py38/lib/python3.8/site-packages (from fasttext) (2.5.0)\n",
      "Requirement already satisfied: setuptools>=0.7.0 in /Users/tomasztkaczyk/opt/anaconda3/envs/py38/lib/python3.8/site-packages (from fasttext) (47.1.1.post20200604)\n",
      "Requirement already satisfied: numpy in /Users/tomasztkaczyk/opt/anaconda3/envs/py38/lib/python3.8/site-packages (from fasttext) (1.18.5)\n",
      "Building wheels for collected packages: fasttext\n",
      "  Building wheel for fasttext (setup.py) ... \u001b[?25ldone\n",
      "\u001b[?25h  Created wheel for fasttext: filename=fasttext-0.9.2-cp38-cp38-macosx_10_15_x86_64.whl size=330704 sha256=ba3b611b23bf0bef62799ff222843131e10847569015dc11a46df9ffdb2166ac\n",
      "  Stored in directory: /Users/tomasztkaczyk/Library/Caches/pip/wheels/93/61/2a/c54711a91c418ba06ba195b1d78ff24fcaad8592f2a694ac94\n",
      "Successfully built fasttext\n",
      "Installing collected packages: fasttext\n",
      "Successfully installed fasttext-0.9.2\n",
      "Note: you may need to restart the kernel to use updated packages.\n"
     ]
    }
   ],
   "source": [
    "pip install fasttext"
   ]
  },
  {
   "cell_type": "code",
   "execution_count": null,
   "metadata": {},
   "outputs": [],
   "source": []
  }
 ],
 "metadata": {
  "kernelspec": {
   "display_name": "py38",
   "language": "python",
   "name": "py38"
  },
  "language_info": {
   "codemirror_mode": {
    "name": "ipython",
    "version": 3
   },
   "file_extension": ".py",
   "mimetype": "text/x-python",
   "name": "python",
   "nbconvert_exporter": "python",
   "pygments_lexer": "ipython3",
   "version": "3.8.3"
  }
 },
 "nbformat": 4,
 "nbformat_minor": 4
}
