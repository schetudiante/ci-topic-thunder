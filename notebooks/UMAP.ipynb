{
 "cells": [
  {
   "cell_type": "code",
   "execution_count": 2,
   "metadata": {
    "pycharm": {
     "is_executing": false
    }
   },
   "outputs": [
    {
     "name": "stdout",
     "output_type": "stream",
     "text": [
      "Number of stopwords 607\n"
     ]
    }
   ],
   "source": [
    "import nltk,re,time,umap,collections,os,string,sys,mlflow\n",
    "sys.path.append(os.path.abspath(\"..\"))\n",
    "from modules import utils,modeling\n",
    "\n",
    "from sentence_transformers import SentenceTransformer\n",
    "import plotly.express as px\n",
    "import pandas as pd\n",
    "import pickle\n",
    "\n",
    "from sklearn.metrics import completeness_score,homogeneity_score, v_measure_score,normalized_mutual_info_score,adjusted_mutual_info_score,silhouette_score\n",
    "from sklearn.feature_extraction.text import CountVectorizer\n",
    "import numpy as np\n",
    "\n",
    "from sentence_transformers import models\n",
    "\n",
    "from hdbscan import HDBSCAN\n",
    "from sentence_transformers import models\n",
    "from sklearn.preprocessing import normalize\n",
    "from transformers import AutoModel, AutoTokenizer\n",
    "from torch import nn\n",
    "import mlflow.sklearn\n",
    "from  mlflow.tracking import MlflowClient\n",
    "from sklearn.preprocessing import StandardScaler\n",
    "\n",
    "remote_server=\"http://ec2-18-193-70-141.eu-central-1.compute.amazonaws.com\"\n",
    "client = MlflowClient(remote_server)\n",
    "mlflow.set_tracking_uri(remote_server)\n",
    "\n",
    "\n",
    "%matplotlib inline\n",
    "%load_ext autoreload\n",
    "%autoreload 2"
   ]
  },
  {
   "cell_type": "markdown",
   "metadata": {},
   "source": [
    "# UMAP Training \n",
    "\n",
    "UMAP as a mainfolf aproximation method performs best on a previously un-seen data when it \"pre trained\". This notebook fits the UMAP model with the generated emebddings. \n",
    "\n",
    "\n",
    "### Load data and the model "
   ]
  },
  {
   "cell_type": "code",
   "execution_count": 18,
   "metadata": {
    "pycharm": {
     "is_executing": false
    }
   },
   "outputs": [
    {
     "name": "stdout",
     "output_type": "stream",
     "text": [
      "--- Data Loaded: (100000, 8) ---\n",
      "--- Model & data loaded in 8.736830949783325 seconds ---\n"
     ]
    },
    {
     "data": {
      "text/html": [
       "<div>\n",
       "<style scoped>\n",
       "    .dataframe tbody tr th:only-of-type {\n",
       "        vertical-align: middle;\n",
       "    }\n",
       "\n",
       "    .dataframe tbody tr th {\n",
       "        vertical-align: top;\n",
       "    }\n",
       "\n",
       "    .dataframe thead th {\n",
       "        text-align: right;\n",
       "    }\n",
       "</style>\n",
       "<table border=\"1\" class=\"dataframe\">\n",
       "  <thead>\n",
       "    <tr style=\"text-align: right;\">\n",
       "      <th></th>\n",
       "      <th>kicker</th>\n",
       "      <th>headline</th>\n",
       "      <th>text</th>\n",
       "      <th>seo_title</th>\n",
       "      <th>created_at</th>\n",
       "      <th>updated_at</th>\n",
       "      <th>site</th>\n",
       "      <th>entities_analyzed</th>\n",
       "    </tr>\n",
       "    <tr>\n",
       "      <th>article_uid</th>\n",
       "      <th></th>\n",
       "      <th></th>\n",
       "      <th></th>\n",
       "      <th></th>\n",
       "      <th></th>\n",
       "      <th></th>\n",
       "      <th></th>\n",
       "      <th></th>\n",
       "    </tr>\n",
       "  </thead>\n",
       "  <tbody>\n",
       "    <tr>\n",
       "      <th>8c7b60bbbbab27058f93ba3114462b0b9b82f79c3cf3e95e52cf8013742b1f89</th>\n",
       "      <td>Tor nach 3 Sekunden!</td>\n",
       "      <td>Blitz-Comeback von Reus</td>\n",
       "      <td>Wenn du bei deinem Comeback nach 223 Tagen nur...</td>\n",
       "      <td>DFB-Pokal: Duisburg - BVB 0:5! 3 Sekunden nach...</td>\n",
       "      <td>2020-09-14 22:39:16</td>\n",
       "      <td>2020-09-14 22:39:16</td>\n",
       "      <td>www.bild.de</td>\n",
       "      <td>0</td>\n",
       "    </tr>\n",
       "    <tr>\n",
       "      <th>66ef992ac10f512ce621314bcffcbc542549ba1f52c8b11696e33d8730998aba</th>\n",
       "      <td>Sie stoppten das Schalke-Spiel</td>\n",
       "      <td>Türkgücü-Bosse erklärenihre Pokal-Klage</td>\n",
       "      <td>Es war DER Aufreger der 1. DFB-Pokal-Runde.  T...</td>\n",
       "      <td>DFB-Pokal: Sie stoppten das Schalke-Spiel – Tü...</td>\n",
       "      <td>2020-09-14 22:34:15</td>\n",
       "      <td>2020-09-14 22:35:05</td>\n",
       "      <td>www.bild.de</td>\n",
       "      <td>1</td>\n",
       "    </tr>\n",
       "    <tr>\n",
       "      <th>bafa8f876a14f50c6010a8ea2ff4de2265e508af13c5007ddb363a4c4b155f4e</th>\n",
       "      <td>Messer-Angriff von Stolberg</td>\n",
       "      <td>Islamist stachschon einmal zu!</td>\n",
       "      <td>Stolberg/Aachen – Der Messerangriff von Stolbe...</td>\n",
       "      <td>Messer-Angriff von Stolberg   - Islamist stach...</td>\n",
       "      <td>2020-09-14 22:34:15</td>\n",
       "      <td>2020-09-14 22:35:05</td>\n",
       "      <td>www.bild.de</td>\n",
       "      <td>1</td>\n",
       "    </tr>\n",
       "    <tr>\n",
       "      <th>e353f0b8121a6f0addf3ea3ca5eead419c904d283284fcffcf913ff6f2f39b1c</th>\n",
       "      <td>Hertha verschenkt Machtzentrale</td>\n",
       "      <td>Die neuen Hierarchien der 18 Klubs</td>\n",
       "      <td>Die neue Serie „Die neuen Hierarchien der 18 K...</td>\n",
       "      <td>1. Bundesliga: Die neuen Hierarchien der 18 Kl...</td>\n",
       "      <td>2020-09-14 22:34:15</td>\n",
       "      <td>2020-09-14 22:35:05</td>\n",
       "      <td>www.bild.de</td>\n",
       "      <td>1</td>\n",
       "    </tr>\n",
       "    <tr>\n",
       "      <th>f168dc072b52b38187937175639830ef066209100ffaeea780cb03cd943706d3</th>\n",
       "      <td>Verletzte und neue Offensive</td>\n",
       "      <td>Gisdol schon vorm Start unter Druck!</td>\n",
       "      <td>Das hatte sich Markus Gisdol (50) bei seiner V...</td>\n",
       "      <td>1. FC Köln: Markus Gisdol schon vor Liga-Start...</td>\n",
       "      <td>2020-09-14 22:33:16</td>\n",
       "      <td>2020-09-14 22:34:07</td>\n",
       "      <td>www.bild.de</td>\n",
       "      <td>1</td>\n",
       "    </tr>\n",
       "  </tbody>\n",
       "</table>\n",
       "</div>"
      ],
      "text/plain": [
       "                                                                             kicker  \\\n",
       "article_uid                                                                           \n",
       "8c7b60bbbbab27058f93ba3114462b0b9b82f79c3cf3e95...             Tor nach 3 Sekunden!   \n",
       "66ef992ac10f512ce621314bcffcbc542549ba1f52c8b11...   Sie stoppten das Schalke-Spiel   \n",
       "bafa8f876a14f50c6010a8ea2ff4de2265e508af13c5007...    Messer-Angriff von Stolberg     \n",
       "e353f0b8121a6f0addf3ea3ca5eead419c904d283284fcf...  Hertha verschenkt Machtzentrale   \n",
       "f168dc072b52b38187937175639830ef066209100ffaeea...     Verletzte und neue Offensive   \n",
       "\n",
       "                                                                                   headline  \\\n",
       "article_uid                                                                                   \n",
       "8c7b60bbbbab27058f93ba3114462b0b9b82f79c3cf3e95...                  Blitz-Comeback von Reus   \n",
       "66ef992ac10f512ce621314bcffcbc542549ba1f52c8b11...  Türkgücü-Bosse erklärenihre Pokal-Klage   \n",
       "bafa8f876a14f50c6010a8ea2ff4de2265e508af13c5007...           Islamist stachschon einmal zu!   \n",
       "e353f0b8121a6f0addf3ea3ca5eead419c904d283284fcf...       Die neuen Hierarchien der 18 Klubs   \n",
       "f168dc072b52b38187937175639830ef066209100ffaeea...     Gisdol schon vorm Start unter Druck!   \n",
       "\n",
       "                                                                                                 text  \\\n",
       "article_uid                                                                                             \n",
       "8c7b60bbbbab27058f93ba3114462b0b9b82f79c3cf3e95...  Wenn du bei deinem Comeback nach 223 Tagen nur...   \n",
       "66ef992ac10f512ce621314bcffcbc542549ba1f52c8b11...  Es war DER Aufreger der 1. DFB-Pokal-Runde.  T...   \n",
       "bafa8f876a14f50c6010a8ea2ff4de2265e508af13c5007...  Stolberg/Aachen – Der Messerangriff von Stolbe...   \n",
       "e353f0b8121a6f0addf3ea3ca5eead419c904d283284fcf...  Die neue Serie „Die neuen Hierarchien der 18 K...   \n",
       "f168dc072b52b38187937175639830ef066209100ffaeea...  Das hatte sich Markus Gisdol (50) bei seiner V...   \n",
       "\n",
       "                                                                                            seo_title  \\\n",
       "article_uid                                                                                             \n",
       "8c7b60bbbbab27058f93ba3114462b0b9b82f79c3cf3e95...  DFB-Pokal: Duisburg - BVB 0:5! 3 Sekunden nach...   \n",
       "66ef992ac10f512ce621314bcffcbc542549ba1f52c8b11...  DFB-Pokal: Sie stoppten das Schalke-Spiel – Tü...   \n",
       "bafa8f876a14f50c6010a8ea2ff4de2265e508af13c5007...  Messer-Angriff von Stolberg   - Islamist stach...   \n",
       "e353f0b8121a6f0addf3ea3ca5eead419c904d283284fcf...  1. Bundesliga: Die neuen Hierarchien der 18 Kl...   \n",
       "f168dc072b52b38187937175639830ef066209100ffaeea...  1. FC Köln: Markus Gisdol schon vor Liga-Start...   \n",
       "\n",
       "                                                            created_at  \\\n",
       "article_uid                                                              \n",
       "8c7b60bbbbab27058f93ba3114462b0b9b82f79c3cf3e95... 2020-09-14 22:39:16   \n",
       "66ef992ac10f512ce621314bcffcbc542549ba1f52c8b11... 2020-09-14 22:34:15   \n",
       "bafa8f876a14f50c6010a8ea2ff4de2265e508af13c5007... 2020-09-14 22:34:15   \n",
       "e353f0b8121a6f0addf3ea3ca5eead419c904d283284fcf... 2020-09-14 22:34:15   \n",
       "f168dc072b52b38187937175639830ef066209100ffaeea... 2020-09-14 22:33:16   \n",
       "\n",
       "                                                             updated_at  \\\n",
       "article_uid                                                               \n",
       "8c7b60bbbbab27058f93ba3114462b0b9b82f79c3cf3e95...  2020-09-14 22:39:16   \n",
       "66ef992ac10f512ce621314bcffcbc542549ba1f52c8b11...  2020-09-14 22:35:05   \n",
       "bafa8f876a14f50c6010a8ea2ff4de2265e508af13c5007...  2020-09-14 22:35:05   \n",
       "e353f0b8121a6f0addf3ea3ca5eead419c904d283284fcf...  2020-09-14 22:35:05   \n",
       "f168dc072b52b38187937175639830ef066209100ffaeea...  2020-09-14 22:34:07   \n",
       "\n",
       "                                                           site  \\\n",
       "article_uid                                                       \n",
       "8c7b60bbbbab27058f93ba3114462b0b9b82f79c3cf3e95...  www.bild.de   \n",
       "66ef992ac10f512ce621314bcffcbc542549ba1f52c8b11...  www.bild.de   \n",
       "bafa8f876a14f50c6010a8ea2ff4de2265e508af13c5007...  www.bild.de   \n",
       "e353f0b8121a6f0addf3ea3ca5eead419c904d283284fcf...  www.bild.de   \n",
       "f168dc072b52b38187937175639830ef066209100ffaeea...  www.bild.de   \n",
       "\n",
       "                                                    entities_analyzed  \n",
       "article_uid                                                            \n",
       "8c7b60bbbbab27058f93ba3114462b0b9b82f79c3cf3e95...                  0  \n",
       "66ef992ac10f512ce621314bcffcbc542549ba1f52c8b11...                  1  \n",
       "bafa8f876a14f50c6010a8ea2ff4de2265e508af13c5007...                  1  \n",
       "e353f0b8121a6f0addf3ea3ca5eead419c904d283284fcf...                  1  \n",
       "f168dc072b52b38187937175639830ef066209100ffaeea...                  1  "
      ]
     },
     "execution_count": 18,
     "metadata": {},
     "output_type": "execute_result"
    }
   ],
   "source": [
    "#model = SentenceTransformer('bert-base-wikipedia-sections-mean-tokens')\n",
    "TOP_N = 1000\n",
    "TRAIN_N = 100000\n",
    "MODEL_NAME=\"bert-german-dbmdz-uncased-sentence-stsb\"\n",
    "start_time = time.time()\n",
    "\n",
    "\n",
    "df = utils.load_text_data().head(TRAIN_N).dropna(subset=['text'])\n",
    "df = df[df.text.apply(lambda x: isinstance(x, str))]\n",
    "\n",
    "print(\"--- Data Loaded: \"+str(df.shape)+\" ---\")\n",
    "# load BERT model from Hugging Face\n",
    "word_embedding_model = models.Transformer(\n",
    "    'T-Systems-onsite/{}'.format(MODEL_NAME))\n",
    "\n",
    "print(\"--- Model & data loaded in %s seconds ---\" % (time.time() - start_time))\n",
    "df.head()"
   ]
  },
  {
   "cell_type": "code",
   "execution_count": 19,
   "metadata": {},
   "outputs": [
    {
     "name": "stdout",
     "output_type": "stream",
     "text": [
      "Die neue Serie „Die neuen Hierarchien der 18 Klubs“ – heute mit Gladbach, Union Berlin, Wolfsburg un \n",
      " Die neue Serie Die neuen Hierarchien der 18 Klubs“\n",
      "\n",
      "Das ging fix! Während seine Kollegen am Montag in Dresden im DFB-Pokal spielten, packte Julian Polle \n",
      " Das ging fix! Während seine Kollegen am Montag in \n",
      "\n",
      "Stolberg/Aachen – Der Verdächtige (21), der am Wochenende in Stolberg (NRW) auf einen Mann eingestoc \n",
      " Stolberg Aachen Der Verdächtige, der am Wochenende\n",
      "\n",
      "Niedersachsen – Es ist einer der wenigen positiven Corona-Effekte: Die Zahl der Straftaten sinkt! Be \n",
      " Niedersachsen Es ist einer der wenigen positiven C\n",
      "\n",
      "Celle – Großeinsatz der Polizei und von Rettungskräften in der Innenstadt von Celle! Ein Juwelier ha \n",
      " Celle Großeinsatz der Polizei und von Rettungskräf\n",
      "\n"
     ]
    }
   ],
   "source": [
    "pdf = utils.preprocess_articles_for_bert(df)\n",
    "df['mix'] = df['headline']+\". \"+df['kicker'] + \". \"+\" \" + df[\"seo_title\"].apply(utils.remove_seo_title_marker)\n",
    "df['mix'] = df['mix'].astype(str)\n",
    "#pdf_mix = utils.preprocess_text(df,col=\"mix\")\n",
    "#pdf_mix[0][:250]\n",
    "for nr in  range(50,55):\n",
    "    print(df.text.values[nr][:100],\"\\n\",pdf[nr][:50])\n",
    "    print()\n"
   ]
  },
  {
   "cell_type": "code",
   "execution_count": 30,
   "metadata": {},
   "outputs": [
    {
     "name": "stdout",
     "output_type": "stream",
     "text": [
      "--- 0.3611130714416504 seconds ---\n"
     ]
    }
   ],
   "source": [
    "start_time = time.time()\n",
    "\n",
    "path_to_embeddings ='../models/{}/Top-{}k_articles_embeddings.npy'.format(MODEL_NAME,str(TRAIN_N)[:3])\n",
    "path_to_embeddings_with_ids = '../models/{}/Top-{}k_articles_embddings_ids.npy'.format(MODEL_NAME,str(TRAIN_N)[:2])\n",
    "\n",
    "if not os.path.exists(path_to_embeddings):\n",
    "    \n",
    "    embeddings = modeling.get_sentence_embeddings(pdf,word_embedding_model)\n",
    "    \n",
    "    with open(path_to_embeddings, 'wb') as f:\n",
    "        np.save(f, embeddings)\n",
    "\n",
    "    with open(path_to_embeddings_with_ids, 'wb') as f:    \n",
    "        np.save(f, list(zip( df.index.to_numpy(),embeddings)))\n",
    "else:\n",
    "    embeddings= np.load(path_to_embeddings)\n",
    "\n",
    "print(\"--- %s seconds ---\" % (time.time() - start_time))"
   ]
  },
  {
   "cell_type": "code",
   "execution_count": null,
   "metadata": {},
   "outputs": [],
   "source": [
    "viz_n_neighbors= 15\n",
    "start_time = time.time()\n",
    "\n",
    "fitted_umap_viz = umap.UMAP(n_neighbors=viz_n_neighbors, n_components=2, random_state=0, metric='cosine').fit(embeddings)\n",
    "\n",
    "pkl_filename = \"umap_viz_{}_{}-neighbors.pkl\".format(str(TRAIN_N)[:2],viz_n_neighbors)\n",
    "with open(\"../models/{}/{}\".format(MODEL_NAME,pkl_filename), 'wb') as file:\n",
    "    pickle.dump(fitted_umap_viz, file)\n",
    "print(\"--- %s seconds ---\" % (time.time() - start_time))"
   ]
  },
  {
   "cell_type": "code",
   "execution_count": 36,
   "metadata": {},
   "outputs": [
    {
     "name": "stdout",
     "output_type": "stream",
     "text": [
      "--- 417.8817672729492 seconds ---\n"
     ]
    }
   ],
   "source": [
    "n_neighbors = 12\n",
    "n_components = 128\n",
    "start_time = time.time()\n",
    "\n",
    "fitted_umap_clustering = umap.UMAP(n_neighbors=n_neighbors, min_dist=0.05, random_state=0, metric='cosine',\n",
    "                                       n_components=n_components).fit(embeddings)\n",
    "\n",
    "pkl_filename = \"umap_{}k_{}-neighbors_{}-comps.pkl\".format(str(TRAIN_N)[:3],n_neighbors,n_components)\n",
    "with open(\"../models/{}/{}\".format(MODEL_NAME,pkl_filename), 'wb') as file:\n",
    "    pickle.dump(fitted_umap_clustering, file)\n",
    "    \n",
    "print(\"--- %s seconds ---\" % (time.time() - start_time))"
   ]
  },
  {
   "cell_type": "code",
   "execution_count": null,
   "metadata": {},
   "outputs": [],
   "source": []
  },
  {
   "cell_type": "code",
   "execution_count": null,
   "metadata": {},
   "outputs": [],
   "source": []
  },
  {
   "cell_type": "code",
   "execution_count": null,
   "metadata": {},
   "outputs": [],
   "source": []
  },
  {
   "cell_type": "code",
   "execution_count": null,
   "metadata": {},
   "outputs": [],
   "source": []
  },
  {
   "cell_type": "code",
   "execution_count": null,
   "metadata": {},
   "outputs": [],
   "source": []
  },
  {
   "cell_type": "code",
   "execution_count": null,
   "metadata": {},
   "outputs": [],
   "source": []
  },
  {
   "cell_type": "code",
   "execution_count": null,
   "metadata": {},
   "outputs": [],
   "source": []
  },
  {
   "cell_type": "code",
   "execution_count": null,
   "metadata": {},
   "outputs": [],
   "source": []
  },
  {
   "cell_type": "code",
   "execution_count": null,
   "metadata": {},
   "outputs": [],
   "source": []
  },
  {
   "cell_type": "code",
   "execution_count": null,
   "metadata": {},
   "outputs": [],
   "source": []
  },
  {
   "cell_type": "code",
   "execution_count": 27,
   "metadata": {},
   "outputs": [],
   "source": [
    "#with open(path_to_embeddings_with_ids, 'r') as f:        \n"
   ]
  },
  {
   "cell_type": "code",
   "execution_count": 28,
   "metadata": {},
   "outputs": [
    {
     "data": {
      "text/plain": [
       "100000"
      ]
     },
     "execution_count": 28,
     "metadata": {},
     "output_type": "execute_result"
    }
   ],
   "source": [
    "len(embeddings)"
   ]
  },
  {
   "cell_type": "code",
   "execution_count": null,
   "metadata": {},
   "outputs": [],
   "source": [
    "    "
   ]
  },
  {
   "cell_type": "code",
   "execution_count": 92,
   "metadata": {},
   "outputs": [],
   "source": []
  },
  {
   "cell_type": "code",
   "execution_count": null,
   "metadata": {},
   "outputs": [],
   "source": []
  },
  {
   "cell_type": "code",
   "execution_count": 7,
   "metadata": {},
   "outputs": [],
   "source": []
  },
  {
   "cell_type": "code",
   "execution_count": 8,
   "metadata": {},
   "outputs": [
    {
     "data": {
      "text/plain": [
       "True"
      ]
     },
     "execution_count": 8,
     "metadata": {},
     "output_type": "execute_result"
    }
   ],
   "source": []
  },
  {
   "cell_type": "code",
   "execution_count": null,
   "metadata": {},
   "outputs": [],
   "source": []
  }
 ],
 "metadata": {
  "kernelspec": {
   "display_name": "py38",
   "language": "python",
   "name": "py38"
  },
  "language_info": {
   "codemirror_mode": {
    "name": "ipython",
    "version": 3
   },
   "file_extension": ".py",
   "mimetype": "text/x-python",
   "name": "python",
   "nbconvert_exporter": "python",
   "pygments_lexer": "ipython3",
   "version": "3.8.3"
  },
  "pycharm": {
   "stem_cell": {
    "cell_type": "raw",
    "metadata": {
     "collapsed": false
    },
    "source": []
   }
  }
 },
 "nbformat": 4,
 "nbformat_minor": 4
}
