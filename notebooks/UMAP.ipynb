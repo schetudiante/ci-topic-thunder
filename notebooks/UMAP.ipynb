{
 "cells": [
  {
   "cell_type": "code",
   "execution_count": 1,
   "metadata": {
    "pycharm": {
     "is_executing": false
    }
   },
   "outputs": [],
   "source": [
    "import nltk,re,time,umap,collections,os,string,sys,mlflow\n",
    "sys.path.append(os.path.abspath(\"..\"))\n",
    "from modules import utils,modeling\n",
    "\n",
    "from sentence_transformers import SentenceTransformer\n",
    "import plotly.express as px\n",
    "import pandas as pd\n",
    "import pickle\n",
    "\n",
    "from sklearn.metrics import completeness_score,homogeneity_score, v_measure_score,normalized_mutual_info_score,adjusted_mutual_info_score,silhouette_score,make_scorer\n",
    "\n",
    "from sklearn.feature_extraction.text import CountVectorizer\n",
    "import numpy as np\n",
    "\n",
    "from sentence_transformers import models\n",
    "\n",
    "from hdbscan import HDBSCAN\n",
    "from sentence_transformers import models\n",
    "from sklearn.preprocessing import normalize\n",
    "from transformers import AutoModel, AutoTokenizer\n",
    "from torch import nn\n",
    "import mlflow.sklearn\n",
    "from  mlflow.tracking import MlflowClient\n",
    "from sklearn.preprocessing import StandardScaler\n",
    "\n",
    "import seaborn as sns\n",
    "import matplotlib.pyplot as plt\n",
    "import ipywidgets as widgets\n",
    "from ipywidgets import interact\n",
    "\n",
    "remote_server=\"http://ec2-18-193-70-141.eu-central-1.compute.amazonaws.com\"\n",
    "client = MlflowClient(remote_server)\n",
    "mlflow.set_tracking_uri(remote_server)\n",
    "\n",
    "\n",
    "%matplotlib inline\n",
    "%load_ext autoreload\n",
    "%autoreload 2"
   ]
  },
  {
   "cell_type": "markdown",
   "metadata": {},
   "source": [
    "# UMAP Training \n",
    "\n",
    "UMAP as a mainfolf aproximation method performs best on a previously un-seen data when it \"pre trained\". This notebook fits the UMAP model with the generated emebddings. \n",
    "\n",
    "\n",
    "### Load data and the model "
   ]
  },
  {
   "cell_type": "code",
   "execution_count": 2,
   "metadata": {
    "pycharm": {
     "is_executing": false
    }
   },
   "outputs": [
    {
     "name": "stdout",
     "output_type": "stream",
     "text": [
      "--- Data Loaded: (49379, 8) ---\n"
     ]
    },
    {
     "data": {
      "text/html": [
       "<div>\n",
       "<style scoped>\n",
       "    .dataframe tbody tr th:only-of-type {\n",
       "        vertical-align: middle;\n",
       "    }\n",
       "\n",
       "    .dataframe tbody tr th {\n",
       "        vertical-align: top;\n",
       "    }\n",
       "\n",
       "    .dataframe thead th {\n",
       "        text-align: right;\n",
       "    }\n",
       "</style>\n",
       "<table border=\"1\" class=\"dataframe\">\n",
       "  <thead>\n",
       "    <tr style=\"text-align: right;\">\n",
       "      <th></th>\n",
       "      <th>kicker</th>\n",
       "      <th>text</th>\n",
       "      <th>headline</th>\n",
       "      <th>seo_title</th>\n",
       "      <th>created_at</th>\n",
       "      <th>kicker_headline_NER</th>\n",
       "      <th>seo_title_NER</th>\n",
       "      <th>text_NER</th>\n",
       "    </tr>\n",
       "    <tr>\n",
       "      <th>article_uid</th>\n",
       "      <th></th>\n",
       "      <th></th>\n",
       "      <th></th>\n",
       "      <th></th>\n",
       "      <th></th>\n",
       "      <th></th>\n",
       "      <th></th>\n",
       "      <th></th>\n",
       "    </tr>\n",
       "  </thead>\n",
       "  <tbody>\n",
       "    <tr>\n",
       "      <th>3198b3c40190601a35a43f854494c309bd23f2c68d34a331a8544b5701254956</th>\n",
       "      <td>Polizei prüft Verbindung ins Rockermilieu</td>\n",
       "      <td>Alsdorf - Ein 32 Jahre alter Mann ist in Alsdo...</td>\n",
       "      <td>32-Jähriger in Alsdorf erschossen – Täter flüc...</td>\n",
       "      <td>32-Jähriger in Alsdorf (Nordrhein- erschossen ...</td>\n",
       "      <td>2020-11-01 00:11:15</td>\n",
       "      <td>[{\"entities\":[{\"mentions\":[{\"text\":{\"content\":...</td>\n",
       "      <td>[{\"entities\":[{\"mentions\":[{\"text\":{\"content\":...</td>\n",
       "      <td>[{\"entities\":[{\"mentions\":[{\"text\":{\"content\":...</td>\n",
       "    </tr>\n",
       "    <tr>\n",
       "      <th>806d166cce198ff3eca5026446f2dfdfa91c0549493a08fecfa33392da86f220</th>\n",
       "      <td>Auf der Reeperbahn</td>\n",
       "      <td>Es ist 6.10 Uhr am Freitagmorgen, als einer St...</td>\n",
       "      <td>Polizei erwischt Diebe mit Gitarren von Jan Fe...</td>\n",
       "      <td>Jan Fedder: Polizei erwischt Diebe mit seinen ...</td>\n",
       "      <td>2020-10-31 23:23:15</td>\n",
       "      <td>[{\"entities\":[{\"mentions\":[{\"text\":{\"content\":...</td>\n",
       "      <td>[{\"entities\":[{\"mentions\":[{\"text\":{\"content\":...</td>\n",
       "      <td>[{\"entities\":[{\"mentions\":[{\"text\":{\"content\":...</td>\n",
       "    </tr>\n",
       "    <tr>\n",
       "      <th>e5c2371084fa38a91f37ebdf10afb5a3e3731a834669250a8282810695b02939</th>\n",
       "      <td>Deutschlands beliebtester Pornostar</td>\n",
       "      <td>Schluss mit Lucy Cat!  Sie ist Deutschlands be...</td>\n",
       "      <td>Warum ich nie wieder Lucy Cat sein werde</td>\n",
       "      <td>Porno-Star macht Schluss: Warum ich nie wieder...</td>\n",
       "      <td>2020-10-31 23:23:15</td>\n",
       "      <td>[{\"entities\":[{\"mentions\":[{\"text\":{\"content\":...</td>\n",
       "      <td>[{\"entities\":[{\"mentions\":[{\"text\":{\"content\":...</td>\n",
       "      <td>[{\"entities\":[{\"mentions\":[{\"text\":{\"content\":...</td>\n",
       "    </tr>\n",
       "    <tr>\n",
       "      <th>e02939be708f60b963b9792988ed27d93fddc2a5bb5b2758fc02986478c64343</th>\n",
       "      <td>TV-Premiere</td>\n",
       "      <td>Für seine neue Late-Night-Show holt sich Stefa...</td>\n",
       "      <td>Ralf Moeller moderiertRaab-Show</td>\n",
       "      <td>TV-Premiere - Ralf Moeller moderiert Raab-Show...</td>\n",
       "      <td>2020-10-31 23:21:16</td>\n",
       "      <td>[{\"entities\":[{\"mentions\":[{\"text\":{\"content\":...</td>\n",
       "      <td>[{\"entities\":[{\"mentions\":[{\"text\":{\"content\":...</td>\n",
       "      <td>[{\"entities\":[{\"mentions\":[{\"text\":{\"content\":...</td>\n",
       "    </tr>\n",
       "    <tr>\n",
       "      <th>d86ca23c79f112025c002503646a91ab58ae6b50d79a81b4cae7de329789c5aa</th>\n",
       "      <td>„Hendrik ist bis heute der Mann meines Lebens“</td>\n",
       "      <td>Es sind drei Minuten und 16 Sekunden Gänsehaut...</td>\n",
       "      <td>Inka Bause singt Lied für ihren toten Ex-Mann</td>\n",
       "      <td>Inka Bause singt Lied für toten Ex: „Er ist de...</td>\n",
       "      <td>2020-10-31 23:21:16</td>\n",
       "      <td>[{\"entities\":[{\"mentions\":[{\"text\":{\"content\":...</td>\n",
       "      <td>[{\"entities\":[{\"mentions\":[{\"text\":{\"content\":...</td>\n",
       "      <td>[{\"entities\":[{\"mentions\":[{\"text\":{\"content\":...</td>\n",
       "    </tr>\n",
       "  </tbody>\n",
       "</table>\n",
       "</div>"
      ],
      "text/plain": [
       "                                                                                            kicker  \\\n",
       "article_uid                                                                                          \n",
       "3198b3c40190601a35a43f854494c309bd23f2c68d34a33...       Polizei prüft Verbindung ins Rockermilieu   \n",
       "806d166cce198ff3eca5026446f2dfdfa91c0549493a08f...                              Auf der Reeperbahn   \n",
       "e5c2371084fa38a91f37ebdf10afb5a3e3731a834669250...             Deutschlands beliebtester Pornostar   \n",
       "e02939be708f60b963b9792988ed27d93fddc2a5bb5b275...                                     TV-Premiere   \n",
       "d86ca23c79f112025c002503646a91ab58ae6b50d79a81b...  „Hendrik ist bis heute der Mann meines Lebens“   \n",
       "\n",
       "                                                                                                 text  \\\n",
       "article_uid                                                                                             \n",
       "3198b3c40190601a35a43f854494c309bd23f2c68d34a33...  Alsdorf - Ein 32 Jahre alter Mann ist in Alsdo...   \n",
       "806d166cce198ff3eca5026446f2dfdfa91c0549493a08f...  Es ist 6.10 Uhr am Freitagmorgen, als einer St...   \n",
       "e5c2371084fa38a91f37ebdf10afb5a3e3731a834669250...  Schluss mit Lucy Cat!  Sie ist Deutschlands be...   \n",
       "e02939be708f60b963b9792988ed27d93fddc2a5bb5b275...  Für seine neue Late-Night-Show holt sich Stefa...   \n",
       "d86ca23c79f112025c002503646a91ab58ae6b50d79a81b...  Es sind drei Minuten und 16 Sekunden Gänsehaut...   \n",
       "\n",
       "                                                                                             headline  \\\n",
       "article_uid                                                                                             \n",
       "3198b3c40190601a35a43f854494c309bd23f2c68d34a33...  32-Jähriger in Alsdorf erschossen – Täter flüc...   \n",
       "806d166cce198ff3eca5026446f2dfdfa91c0549493a08f...  Polizei erwischt Diebe mit Gitarren von Jan Fe...   \n",
       "e5c2371084fa38a91f37ebdf10afb5a3e3731a834669250...           Warum ich nie wieder Lucy Cat sein werde   \n",
       "e02939be708f60b963b9792988ed27d93fddc2a5bb5b275...                    Ralf Moeller moderiertRaab-Show   \n",
       "d86ca23c79f112025c002503646a91ab58ae6b50d79a81b...      Inka Bause singt Lied für ihren toten Ex-Mann   \n",
       "\n",
       "                                                                                            seo_title  \\\n",
       "article_uid                                                                                             \n",
       "3198b3c40190601a35a43f854494c309bd23f2c68d34a33...  32-Jähriger in Alsdorf (Nordrhein- erschossen ...   \n",
       "806d166cce198ff3eca5026446f2dfdfa91c0549493a08f...  Jan Fedder: Polizei erwischt Diebe mit seinen ...   \n",
       "e5c2371084fa38a91f37ebdf10afb5a3e3731a834669250...  Porno-Star macht Schluss: Warum ich nie wieder...   \n",
       "e02939be708f60b963b9792988ed27d93fddc2a5bb5b275...  TV-Premiere - Ralf Moeller moderiert Raab-Show...   \n",
       "d86ca23c79f112025c002503646a91ab58ae6b50d79a81b...  Inka Bause singt Lied für toten Ex: „Er ist de...   \n",
       "\n",
       "                                                            created_at  \\\n",
       "article_uid                                                              \n",
       "3198b3c40190601a35a43f854494c309bd23f2c68d34a33... 2020-11-01 00:11:15   \n",
       "806d166cce198ff3eca5026446f2dfdfa91c0549493a08f... 2020-10-31 23:23:15   \n",
       "e5c2371084fa38a91f37ebdf10afb5a3e3731a834669250... 2020-10-31 23:23:15   \n",
       "e02939be708f60b963b9792988ed27d93fddc2a5bb5b275... 2020-10-31 23:21:16   \n",
       "d86ca23c79f112025c002503646a91ab58ae6b50d79a81b... 2020-10-31 23:21:16   \n",
       "\n",
       "                                                                                  kicker_headline_NER  \\\n",
       "article_uid                                                                                             \n",
       "3198b3c40190601a35a43f854494c309bd23f2c68d34a33...  [{\"entities\":[{\"mentions\":[{\"text\":{\"content\":...   \n",
       "806d166cce198ff3eca5026446f2dfdfa91c0549493a08f...  [{\"entities\":[{\"mentions\":[{\"text\":{\"content\":...   \n",
       "e5c2371084fa38a91f37ebdf10afb5a3e3731a834669250...  [{\"entities\":[{\"mentions\":[{\"text\":{\"content\":...   \n",
       "e02939be708f60b963b9792988ed27d93fddc2a5bb5b275...  [{\"entities\":[{\"mentions\":[{\"text\":{\"content\":...   \n",
       "d86ca23c79f112025c002503646a91ab58ae6b50d79a81b...  [{\"entities\":[{\"mentions\":[{\"text\":{\"content\":...   \n",
       "\n",
       "                                                                                        seo_title_NER  \\\n",
       "article_uid                                                                                             \n",
       "3198b3c40190601a35a43f854494c309bd23f2c68d34a33...  [{\"entities\":[{\"mentions\":[{\"text\":{\"content\":...   \n",
       "806d166cce198ff3eca5026446f2dfdfa91c0549493a08f...  [{\"entities\":[{\"mentions\":[{\"text\":{\"content\":...   \n",
       "e5c2371084fa38a91f37ebdf10afb5a3e3731a834669250...  [{\"entities\":[{\"mentions\":[{\"text\":{\"content\":...   \n",
       "e02939be708f60b963b9792988ed27d93fddc2a5bb5b275...  [{\"entities\":[{\"mentions\":[{\"text\":{\"content\":...   \n",
       "d86ca23c79f112025c002503646a91ab58ae6b50d79a81b...  [{\"entities\":[{\"mentions\":[{\"text\":{\"content\":...   \n",
       "\n",
       "                                                                                             text_NER  \n",
       "article_uid                                                                                            \n",
       "3198b3c40190601a35a43f854494c309bd23f2c68d34a33...  [{\"entities\":[{\"mentions\":[{\"text\":{\"content\":...  \n",
       "806d166cce198ff3eca5026446f2dfdfa91c0549493a08f...  [{\"entities\":[{\"mentions\":[{\"text\":{\"content\":...  \n",
       "e5c2371084fa38a91f37ebdf10afb5a3e3731a834669250...  [{\"entities\":[{\"mentions\":[{\"text\":{\"content\":...  \n",
       "e02939be708f60b963b9792988ed27d93fddc2a5bb5b275...  [{\"entities\":[{\"mentions\":[{\"text\":{\"content\":...  \n",
       "d86ca23c79f112025c002503646a91ab58ae6b50d79a81b...  [{\"entities\":[{\"mentions\":[{\"text\":{\"content\":...  "
      ]
     },
     "execution_count": 2,
     "metadata": {},
     "output_type": "execute_result"
    }
   ],
   "source": [
    "#model = SentenceTransformer('bert-base-wikipedia-sections-mean-tokens')\n",
    "TOP_N = 1000\n",
    "TRAIN_N = 50000\n",
    "MODEL_NAME=\"cross-en-de-roberta-sentence-transformer\"\n",
    "start_time = time.time()\n",
    "\n",
    "\n",
    "df = utils.load_text_data(\"../data/Result_31.csv\").head(TRAIN_N).dropna(subset=['text']).sort_values(\"created_at\",ascending=False).drop_duplicates(\"headline\")\n",
    "df = df[df.text.apply(lambda x: isinstance(x, str))]\n",
    "#df.drop([\"updated_at\",\"site\",\"entities_analyzed\"],axis=\"columns\",inplace=True)\n",
    "print(\"--- Data Loaded: \"+str(df.shape)+\" ---\")\n",
    "df.head()"
   ]
  },
  {
   "cell_type": "code",
   "execution_count": 4,
   "metadata": {},
   "outputs": [
    {
     "name": "stdout",
     "output_type": "stream",
     "text": [
      "--- Model & data loaded in 7.582247972488403 seconds ---\n"
     ]
    }
   ],
   "source": [
    "# load BERT model from Hugging Face\n",
    "start_time = time.time()\n",
    "\n",
    "word_embedding_model = models.Transformer(\n",
    "    'T-Systems-onsite/{}'.format(MODEL_NAME),max_seq_length=250)\n",
    "\n",
    "print(\"--- Model & data loaded in %s seconds ---\" % (time.time() - start_time))\n"
   ]
  },
  {
   "cell_type": "code",
   "execution_count": 5,
   "metadata": {},
   "outputs": [
    {
     "name": "stdout",
     "output_type": "stream",
     "text": [
      "Wieder kein Sieg für Aue! Gegen Kiel reicht es für den FC Erzgebirge trotz 75-minütiger Überzahl nur \n",
      " wieder kein sieg für aue. gegen kiel reicht es für\n",
      "\n",
      "Paris – Nach dem Messerangriff in Nizza mit drei Toten laufen die Ermittlungen auf Hochtouren.  Seit \n",
      " paris nach dem messerangriff in nizza mit drei tot\n",
      "\n",
      "Geht doch! Dynamo Dresden hat den SV Meppen bei dessen erstem Gastspiel im Harbig-Stadion mit 3:0 ab \n",
      " geht doch. dynamo dresden hat den sv meppen bei de\n",
      "\n",
      "Real ist wieder in der Spur. Nach dem Last-Minute-2:2 in Gladbach unter der Woche siegen die Königli \n",
      " real ist wieder in der spur. nach dem last-minute-\n",
      "\n",
      "Arbeitssieg für Fußball-Ästhet Pep Guardiola (49). Mit Manchester City erkämpfte sich der Ex-Bayern- \n",
      " arbeitssieg für fußball-ästhet pep guardiola. mit \n",
      "\n"
     ]
    }
   ],
   "source": [
    "\n",
    "df['_text'] = df['headline']+\" \"+df['kicker'] + \". \" + df[\"text\"]#.apply(utils.remove_seo_title_marker)\n",
    "df['_text'] = df['_text'].astype(str)\n",
    "\n",
    "pdf = utils.preprocess_articles_for_bert(df,\"text\",lower=True)\n",
    "#pdf_mix = utils.preprocess_text(df,col=\"mix\")\n",
    "#pdf_mix[0][:250]\n",
    "for nr in  range(50,55):\n",
    "    print(df.text.values[nr][:100],\"\\n\",pdf[nr][:50])\n",
    "    print()\n"
   ]
  },
  {
   "cell_type": "markdown",
   "metadata": {},
   "source": [
    "# Load pre calculated 100k Embeddings "
   ]
  },
  {
   "cell_type": "code",
   "execution_count": 6,
   "metadata": {},
   "outputs": [
    {
     "data": {
      "application/vnd.jupyter.widget-view+json": {
       "model_id": "da40bd91f770434aa4af2c3239d5b2c8",
       "version_major": 2,
       "version_minor": 0
      },
      "text/plain": [
       "HBox(children=(FloatProgress(value=0.0, description='Batches', max=1544.0, style=ProgressStyle(description_wid…"
      ]
     },
     "metadata": {},
     "output_type": "display_data"
    },
    {
     "name": "stdout",
     "output_type": "stream",
     "text": [
      "\n",
      "--- Embedding dimension 768\n",
      "--- 49379 Documnets encoded 11883.302502155304 seconds ---\n"
     ]
    },
    {
     "ename": "FileNotFoundError",
     "evalue": "[Errno 2] No such file or directory: '../models/cross-en-de-roberta-sentence-transformer/Top-50k_articles_embeddings.npy'",
     "output_type": "error",
     "traceback": [
      "\u001b[0;31m---------------------------------------------------------------------------\u001b[0m",
      "\u001b[0;31mFileNotFoundError\u001b[0m                         Traceback (most recent call last)",
      "\u001b[0;32m<ipython-input-6-d2a21c79554d>\u001b[0m in \u001b[0;36m<module>\u001b[0;34m\u001b[0m\n\u001b[1;32m      8\u001b[0m     \u001b[0membeddings\u001b[0m \u001b[0;34m=\u001b[0m \u001b[0mmodeling\u001b[0m\u001b[0;34m.\u001b[0m\u001b[0mget_sentence_embeddings\u001b[0m\u001b[0;34m(\u001b[0m\u001b[0mpdf\u001b[0m\u001b[0;34m,\u001b[0m\u001b[0mword_embedding_model\u001b[0m\u001b[0;34m)\u001b[0m\u001b[0;34m\u001b[0m\u001b[0;34m\u001b[0m\u001b[0m\n\u001b[1;32m      9\u001b[0m \u001b[0;34m\u001b[0m\u001b[0m\n\u001b[0;32m---> 10\u001b[0;31m     \u001b[0;32mwith\u001b[0m \u001b[0mopen\u001b[0m\u001b[0;34m(\u001b[0m\u001b[0mpath_to_embeddings\u001b[0m\u001b[0;34m,\u001b[0m \u001b[0;34m'wb'\u001b[0m\u001b[0;34m)\u001b[0m \u001b[0;32mas\u001b[0m \u001b[0mf\u001b[0m\u001b[0;34m:\u001b[0m\u001b[0;34m\u001b[0m\u001b[0;34m\u001b[0m\u001b[0m\n\u001b[0m\u001b[1;32m     11\u001b[0m         \u001b[0mnp\u001b[0m\u001b[0;34m.\u001b[0m\u001b[0msave\u001b[0m\u001b[0;34m(\u001b[0m\u001b[0mf\u001b[0m\u001b[0;34m,\u001b[0m \u001b[0membeddings\u001b[0m\u001b[0;34m)\u001b[0m\u001b[0;34m\u001b[0m\u001b[0;34m\u001b[0m\u001b[0m\n\u001b[1;32m     12\u001b[0m \u001b[0;34m\u001b[0m\u001b[0m\n",
      "\u001b[0;31mFileNotFoundError\u001b[0m: [Errno 2] No such file or directory: '../models/cross-en-de-roberta-sentence-transformer/Top-50k_articles_embeddings.npy'"
     ]
    }
   ],
   "source": [
    "\n",
    "start_time = time.time()\n",
    "\n",
    "path_to_embeddings ='../models/{}/Top-{}k_articles_embeddings.npy'.format(MODEL_NAME,str(TRAIN_N)[:-3])\n",
    "path_to_embeddings_with_ids = '../models/{}/Top-{}k_articles_embddings_ids.npy'.format(MODEL_NAME,str(TRAIN_N)[:-3])\n",
    "\n",
    "if not os.path.exists(path_to_embeddings):\n",
    "    \n",
    "    embeddings = modeling.get_sentence_embeddings(pdf,word_embedding_model)\n",
    "    \n",
    "    with open(path_to_embeddings, 'wb') as f:\n",
    "        np.save(f, embeddings)\n",
    "\n",
    "    with open(path_to_embeddings_with_ids, 'wb') as f:    \n",
    "        np.save(f, list(zip( df.index.to_numpy(),embeddings)))\n",
    "else:\n",
    "    embeddings= np.load(path_to_embeddings)\n",
    "\n",
    "print(\"--- %s seconds ---\" % (time.time() - start_time))"
   ]
  },
  {
   "cell_type": "code",
   "execution_count": 7,
   "metadata": {},
   "outputs": [
    {
     "name": "stderr",
     "output_type": "stream",
     "text": [
      "/Users/tomasztkaczyk/opt/anaconda3/envs/py38/lib/python3.8/site-packages/numpy/core/_asarray.py:136: VisibleDeprecationWarning: Creating an ndarray from ragged nested sequences (which is a list-or-tuple of lists-or-tuples-or ndarrays with different lengths or shapes) is deprecated. If you meant to do this, you must specify 'dtype=object' when creating the ndarray\n",
      "  return array(a, dtype, copy=False, order=order, subok=True)\n"
     ]
    }
   ],
   "source": [
    "with open(path_to_embeddings, 'wb') as f:\n",
    "    np.save(f, embeddings)\n",
    "\n",
    "with open(path_to_embeddings_with_ids, 'wb') as f:    \n",
    "    np.save(f, list(zip( df.index.to_numpy(),embeddings)))"
   ]
  },
  {
   "cell_type": "code",
   "execution_count": null,
   "metadata": {},
   "outputs": [],
   "source": [
    "viz_n_neighbors= 19\n",
    "min_dist=0.01\n",
    "start_time = time.time()\n",
    "\n",
    "fitted_umap_viz = umap.UMAP(n_neighbors=viz_n_neighbors,min_dist=min_dist ,n_components=2, random_state=0, metric='cosine').fit(embeddings)\n",
    "\n",
    "pkl_filename = \"umap_viz_{}_{}-neighbors_{}-min-dist.pkl\".format(str(TRAIN_N)[:3],viz_n_neighbors,min_dist)\n",
    "with open(\"../models/{}/{}\".format(MODEL_NAME,pkl_filename), 'wb') as file:\n",
    "    pickle.dump(fitted_umap_viz, file)\n",
    "print(\"--- %s seconds ---\" % (time.time() - start_time))"
   ]
  },
  {
   "cell_type": "code",
   "execution_count": null,
   "metadata": {},
   "outputs": [],
   "source": [
    "n_neighbors = 19\n",
    "n_components = 32\n",
    "start_time = time.time()\n",
    "\n",
    "fitted_umap_clustering = umap.UMAP(n_neighbors=n_neighbors, min_dist=0.01, random_state=0, metric='cosine',\n",
    "                                       n_components=n_components).fit(embeddings)\n",
    "\n",
    "pkl_filename = \"umap_{}k_{}-neighbors_{}-comps.pkl\".format(str(TRAIN_N)[:3],n_neighbors,n_components)\n",
    "with open(\"../models/{}/{}\".format(MODEL_NAME,pkl_filename), 'wb') as file:\n",
    "    pickle.dump(fitted_umap_clustering, file)\n",
    "    \n",
    "print(\"--- Model stored.  %s seconds ---\" % (time.time() - start_time))"
   ]
  },
  {
   "cell_type": "markdown",
   "metadata": {},
   "source": [
    "### Interactive tool to find best paramaters for visualization "
   ]
  },
  {
   "cell_type": "code",
   "execution_count": null,
   "metadata": {},
   "outputs": [],
   "source": [
    "\n",
    "\n",
    "@interact(x=(2,100,1), y=(0.0,1.0,0.010))\n",
    "def g(x, y,seaborn= True):\n",
    "    print(x,y)\n",
    "    result = modeling.umap_for_viz(embeddings,df,n_neighbors=x,min_dist=y)\n",
    "    if not seaborn:\n",
    "\n",
    "        fig = px.scatter(result, x=\"x\", y=\"y\",hover_name=\"headline\",hover_data=[\"created_at\"],animation_group=\"created_at\")\n",
    "        fig[\"layout\"].pop(\"updatemenus\")\n",
    "        fig.update_traces(marker=dict(size=12,line=dict(width=.35, color='DarkSlateGrey')),\n",
    "                          selector=dict(mode='markers'))\n",
    "        fig.update_layout(height=1200)\n",
    "        return fig.show()\n",
    "    else:\n",
    "        plt.figure(figsize=(40, 15))\n",
    "        return sns.scatterplot(data=result, x=\"x\", y=\"y\")\n"
   ]
  },
  {
   "cell_type": "markdown",
   "metadata": {},
   "source": [
    "### Grid Search to find the best UMAP parametrs for vizualisation "
   ]
  },
  {
   "cell_type": "code",
   "execution_count": null,
   "metadata": {},
   "outputs": [],
   "source": []
  },
  {
   "cell_type": "code",
   "execution_count": 91,
   "metadata": {},
   "outputs": [
    {
     "data": {
      "text/plain": [
       "{'umap__metric': 'cosine',\n",
       " 'umap__min_dist': 0.0001,\n",
       " 'umap__n_components': 2,\n",
       " 'umap__n_neighbors': 58,\n",
       " 'umap__random_state': 0}"
      ]
     },
     "execution_count": 91,
     "metadata": {},
     "output_type": "execute_result"
    }
   ],
   "source": [
    "from sklearn.cluster import DBSCAN, KMeans\n",
    "from sklearn import pipeline\n",
    "\n",
    "\n",
    "parameters = {\"n_neighbors\":range(2,64,2),\n",
    "              \"min_dist\":(0.0001,0.02, 0.04, 0.16, 0.32, 0.64,0.69, 0.71, 0.73, 0.75, 0.77, 0.79, 0.81, 0.83, 0.85, 1),\n",
    "              \"n_components\":[2], \n",
    "              \"random_state\":[0], \n",
    "              \"metric\":['cosine']\n",
    "          }\n",
    "\n",
    "#mlflow.log_metric(key=\"silhuette_score\", value=silhouette_score(emb,cluster_labels))\n",
    "_umap = umap.UMAP()\n",
    "X = utils.load_labeled_data()\n",
    "X.drop([\"site\",\"entities_analyzed\",\"updated_at\"],inplace=True,axis=\"columns\")\n",
    "\n",
    "emb_ids=np.load(\"../models/bert-german-dbmdz-uncased-sentence-stsb/Top-100k_articles_embddings_ids.npy\",allow_pickle=True)\n",
    "emb_df = pd.DataFrame(emb_ids,columns=['article_id',\"embedding\"]).set_index(\"article_id\")\n",
    "emb = X.join(emb_df,how='left').embedding.to_numpy()\n",
    "emb = np.stack(emb, axis=0)\n",
    "\n",
    "parameters = {\"umap__n_neighbors\":range(2,64,2),\n",
    "              \"umap__min_dist\":(0.0001,0.02, 0.04, 0.16, 0.32, 0.64,0.69, 0.71, 0.73, 0.75, 0.77, 0.79, 0.81, 0.83, 0.85, 1),\n",
    "              \"umap__n_components\":[2], \n",
    "              \"umap__random_state\":[0], \n",
    "              \"umap__metric\":['cosine']\n",
    "              \n",
    "          }\n",
    "\n",
    "\n",
    "clusterer = KMeans(n_clusters=20,n_init=25)\n",
    "pipeline = pipeline.Pipeline([\n",
    "    ('umap', _umap),\n",
    "    ('model',clusterer)])\n",
    "\n",
    "grid = GridSearchCV(pipeline, cv=2, n_jobs=-1, param_grid=parameters ,scoring=make_scorer(silhouette_score)\n",
    ")\n",
    "\n",
    "\n",
    "grid.fit(emb,[[x] for x in X.labels.values])\n",
    "grid.best_params_"
   ]
  },
  {
   "cell_type": "code",
   "execution_count": null,
   "metadata": {},
   "outputs": [],
   "source": []
  },
  {
   "cell_type": "code",
   "execution_count": null,
   "metadata": {},
   "outputs": [],
   "source": []
  },
  {
   "cell_type": "code",
   "execution_count": null,
   "metadata": {},
   "outputs": [],
   "source": []
  },
  {
   "cell_type": "code",
   "execution_count": null,
   "metadata": {},
   "outputs": [],
   "source": []
  },
  {
   "cell_type": "code",
   "execution_count": null,
   "metadata": {},
   "outputs": [],
   "source": []
  },
  {
   "cell_type": "code",
   "execution_count": null,
   "metadata": {},
   "outputs": [],
   "source": []
  },
  {
   "cell_type": "code",
   "execution_count": 30,
   "metadata": {},
   "outputs": [],
   "source": []
  },
  {
   "cell_type": "code",
   "execution_count": null,
   "metadata": {},
   "outputs": [],
   "source": [
    "    "
   ]
  },
  {
   "cell_type": "code",
   "execution_count": null,
   "metadata": {},
   "outputs": [],
   "source": []
  },
  {
   "cell_type": "code",
   "execution_count": null,
   "metadata": {},
   "outputs": [],
   "source": []
  },
  {
   "cell_type": "code",
   "execution_count": 7,
   "metadata": {},
   "outputs": [],
   "source": []
  },
  {
   "cell_type": "code",
   "execution_count": 104,
   "metadata": {},
   "outputs": [
    {
     "ename": "TypeError",
     "evalue": "list indices must be integers or slices, not str",
     "output_type": "error",
     "traceback": [
      "\u001b[0;31m---------------------------------------------------------------------------\u001b[0m",
      "\u001b[0;31mTypeError\u001b[0m                                 Traceback (most recent call last)",
      "\u001b[0;32m<ipython-input-104-4e14b75525a4>\u001b[0m in \u001b[0;36m<module>\u001b[0;34m\u001b[0m\n\u001b[0;32m----> 1\u001b[0;31m \u001b[0mpdf\u001b[0m\u001b[0;34m[\u001b[0m\u001b[0mpdf\u001b[0m\u001b[0;34m[\u001b[0m\u001b[0;34m'_text'\u001b[0m\u001b[0;34m]\u001b[0m\u001b[0;34m.\u001b[0m\u001b[0misna\u001b[0m\u001b[0;34m(\u001b[0m\u001b[0;34m)\u001b[0m \u001b[0;34m==\u001b[0m \u001b[0;32mTrue\u001b[0m\u001b[0;34m]\u001b[0m\u001b[0;34m\u001b[0m\u001b[0;34m\u001b[0m\u001b[0m\n\u001b[0m",
      "\u001b[0;31mTypeError\u001b[0m: list indices must be integers or slices, not str"
     ]
    }
   ],
   "source": [
    "pdf[pdf['_text'].isna() == True]"
   ]
  },
  {
   "cell_type": "code",
   "execution_count": null,
   "metadata": {},
   "outputs": [],
   "source": []
  }
 ],
 "metadata": {
  "kernelspec": {
   "display_name": "py38",
   "language": "python",
   "name": "py38"
  },
  "language_info": {
   "codemirror_mode": {
    "name": "ipython",
    "version": 3
   },
   "file_extension": ".py",
   "mimetype": "text/x-python",
   "name": "python",
   "nbconvert_exporter": "python",
   "pygments_lexer": "ipython3",
   "version": "3.8.3"
  },
  "pycharm": {
   "stem_cell": {
    "cell_type": "raw",
    "metadata": {
     "collapsed": false
    },
    "source": []
   }
  }
 },
 "nbformat": 4,
 "nbformat_minor": 4
}
