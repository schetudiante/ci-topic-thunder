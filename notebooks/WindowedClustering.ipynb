{
 "cells": [
  {
   "cell_type": "code",
   "execution_count": 354,
   "metadata": {},
   "outputs": [
    {
     "name": "stdout",
     "output_type": "stream",
     "text": [
      "The autoreload extension is already loaded. To reload it, use:\n",
      "  %reload_ext autoreload\n"
     ]
    }
   ],
   "source": [
    "import nltk,re,time,umap,collections,os,string,sys,mlflow\n",
    "sys.path.append(os.path.abspath(\"..\"))\n",
    "from modules import utils,modeling\n",
    "\n",
    "from sentence_transformers import SentenceTransformer\n",
    "import plotly.express as px\n",
    "import pandas as pd\n",
    "from sklearn.decomposition import PCA\n",
    "\n",
    "from sklearn.metrics import completeness_score,homogeneity_score, v_measure_score,normalized_mutual_info_score,adjusted_mutual_info_score,silhouette_score\n",
    "from sklearn.feature_extraction.text import CountVectorizer\n",
    "import numpy as np\n",
    "from matplotlib_venn import venn2, venn2_circles\n",
    "from matplotlib import pyplot as plt\n",
    "\n",
    "from hdbscan import HDBSCAN\n",
    "from sentence_transformers import models\n",
    "from sklearn.preprocessing import normalize\n",
    "from transformers import AutoModel, AutoTokenizer\n",
    "from torch import nn\n",
    "import mlflow.sklearn\n",
    "from  mlflow.tracking import MlflowClient\n",
    "from sklearn.preprocessing import StandardScaler\n",
    "\n",
    "\n",
    "\n",
    "#tokenizer = AutoTokenizer.from_pretrained(\"dbmdz/bert-base-german-cased\")\n",
    "%reload_ext utils\n",
    "%reload_ext modeling\n",
    "\n",
    "%matplotlib inline\n",
    "%load_ext autoreload\n",
    "%autoreload 2\n",
    "\n",
    "try:\n",
    "    remote_server=\"http://ec2-18-192-179-113.eu-central-1.compute.amazonaws.com\"\n",
    "    client = MlflowClient(remote_server)\n",
    "    mlflow.set_tracking_uri(remote_server)\n",
    "except ConnectionError as ConnErr:\n",
    "    print(\"Could not reach remote MLflow service\")\n",
    "    client = MlflowClient()\n",
    "    mlflow.set_experiment(\"Windowed Clustering\")\n"
   ]
  },
  {
   "cell_type": "code",
   "execution_count": 64,
   "metadata": {},
   "outputs": [],
   "source": [
    "df= utils.load_text_data(\"../data/2k_22-10.csv\").head(2000)"
   ]
  },
  {
   "cell_type": "code",
   "execution_count": 358,
   "metadata": {},
   "outputs": [
    {
     "name": "stdout",
     "output_type": "stream",
     "text": [
      "\n"
     ]
    },
    {
     "data": {
      "image/png": "[encoded data removed]",
      "text/plain": [
       "<Figure size 432x288 with 1 Axes>"
      ]
     },
     "metadata": {},
     "output_type": "display_data"
    }
   ],
   "source": [
    "total = 110\n",
    "overlap_ratio = 0.9\n",
    "df_a,df_b = df.head(total).sample(round(total*overlap_ratio)),df.head(total).sample(round(total*overlap_ratio))\n",
    "sets = [set(df_a.index.values), set(df_b.index.values)]\n",
    "venn2(sets)\n",
    "print()"
   ]
  },
  {
   "cell_type": "code",
   "execution_count": null,
   "metadata": {},
   "outputs": [],
   "source": []
  },
  {
   "cell_type": "code",
   "execution_count": 359,
   "metadata": {},
   "outputs": [],
   "source": [
    "pdf_a = utils.preprocess_articles_for_bert(df_a)\n",
    "pdf_b = utils.preprocess_articles_for_bert(df_b)\n",
    "\n",
    "# Instead of spliting the data into two versions of the data just cluster twice the same data and then match them ...\n",
    "unique_for_a= len(((sets[0] ^ sets[1]) & sets[0]) )\n",
    "unique_for_b= len(((sets[0] ^ sets[1]) & sets[1]) )\n",
    "common_for_both = len(sets[0] & sets[1])"
   ]
  },
  {
   "cell_type": "code",
   "execution_count": 360,
   "metadata": {},
   "outputs": [],
   "source": [
    "#load BERT model from Hugging Face\n",
    "model_name= \"T-Systems-onsite/cross-en-de-roberta-sentence-transformer\"\n",
    "\n",
    "word_embedding_model = models.Transformer(model_name)\n",
    "try:\n",
    "    pass\n",
    "    #mlflow.set_tag(\"model_name\",model_name)\n",
    "    #mlflow.set_tag(\"max_pooling\",max_pooling)\n",
    "    #mlflow.set_tag(\"Cluster Description Column\",\"text_ne\")\n",
    "except ConnectionError as ConnErr:\n",
    "    print(\"Could not reach service\")\n",
    "    "
   ]
  },
  {
   "cell_type": "code",
   "execution_count": 361,
   "metadata": {},
   "outputs": [
    {
     "data": {
      "application/vnd.jupyter.widget-view+json": {
       "model_id": "3a54b18d071f41e4a6bece885c209a26",
       "version_major": 2,
       "version_minor": 0
      },
      "text/plain": [
       "HBox(children=(FloatProgress(value=0.0, description='Batches', max=4.0, style=ProgressStyle(description_width=…"
      ]
     },
     "metadata": {},
     "output_type": "display_data"
    },
    {
     "name": "stdout",
     "output_type": "stream",
     "text": [
      "\n",
      "--- Embedding dimension 768\n",
      "--- 99 Documnets encoded 9.07549786567688 seconds ---\n"
     ]
    },
    {
     "data": {
      "application/vnd.jupyter.widget-view+json": {
       "model_id": "d536cb1c7ddd4a578beef621f318bbdb",
       "version_major": 2,
       "version_minor": 0
      },
      "text/plain": [
       "HBox(children=(FloatProgress(value=0.0, description='Batches', max=4.0, style=ProgressStyle(description_width=…"
      ]
     },
     "metadata": {},
     "output_type": "display_data"
    },
    {
     "name": "stdout",
     "output_type": "stream",
     "text": [
      "\n",
      "--- Embedding dimension 768\n",
      "--- 99 Documnets encoded 9.207638025283813 seconds ---\n"
     ]
    }
   ],
   "source": [
    "embeddings_a = modeling.get_sentence_embeddings(pdf_a,word_embedding_model)\n",
    "embeddings_b = modeling.get_sentence_embeddings(pdf_b,word_embedding_model)"
   ]
  },
  {
   "cell_type": "code",
   "execution_count": 362,
   "metadata": {},
   "outputs": [
    {
     "name": "stdout",
     "output_type": "stream",
     "text": [
      ">> Reducing dimensionality from 768 to 128 ...\n",
      ">> Clustering...\n",
      ">> --- Done in 1.8 seconds ---\n",
      ">> Reducing dimensionality from 768 to 128 ...\n",
      ">> Clustering...\n",
      ">> --- Done in 1.6 seconds ---\n"
     ]
    }
   ],
   "source": [
    "N_COMPONENTS=128\n",
    "alpha=0.825\n",
    "min_cluster_size=3\n",
    "min_samples=3\n",
    "n_neighbors=42\n",
    "\n",
    "uamp_a, clusters_a = modeling.cluster_and_reduce(embeddings_a,n_components_clustering=N_COMPONENTS, min_cluster_size=min_cluster_size,n_neighbors=n_neighbors, \n",
    "                                                                             min_samples= min_samples,alpha=alpha)\n",
    "\n",
    "uamp_b, clusters_b = modeling.cluster_and_reduce(embeddings_b,n_components_clustering=N_COMPONENTS,min_cluster_size=min_cluster_size,n_neighbors=n_neighbors, \n",
    "                                                                             min_samples= min_samples,alpha=alpha)"
   ]
  },
  {
   "cell_type": "code",
   "execution_count": null,
   "metadata": {},
   "outputs": [],
   "source": []
  },
  {
   "cell_type": "code",
   "execution_count": 364,
   "metadata": {},
   "outputs": [
    {
     "name": "stdout",
     "output_type": "stream",
     "text": [
      "Outliers: 8 | Clustered: 91 | 0.9191919191919192 \n",
      " Cluster count: 16 \n",
      "Outliers: 11 | Clustered: 88 | 0.8888888888888888 \n",
      " Cluster count: 13 \n"
     ]
    }
   ],
   "source": [
    "docs_df_a = utils.relink_data_after_clustering(uamp_a,df_a,clusters_a)\n",
    "docs_df_b = utils.relink_data_after_clustering(uamp_b,df_b,clusters_b)\n",
    "\n",
    "\n",
    "# For every topic collect all the article and join their texts (preprocessed) , raw texts, \n",
    "docs_a_per_topic = docs_df_a.groupby(['topic_number'], as_index = False).agg({'raw_text': ' '.join,\n",
    "                                                                   'headline': '. '.join,\n",
    "                                                                    \"kicker_headline_ne\":lambda x: (utils.flatten([utils.parse_google_named_entities(el) for el in x ])),\n",
    "                                                                      \"text_ne\":lambda x: (utils.flatten([utils.parse_google_named_entities(el) for el in x ])),\n",
    "                                                                        \"seo_title_ne\":lambda x: (utils.flatten([utils.parse_google_named_entities(el) for el in x ]))\n",
    "\n",
    "                                                                  }).set_index(\"topic_number\")\n",
    "\n",
    "\n",
    "# For every topic collect all the article and join their texts (preprocessed) , raw texts, \n",
    "docs_b_per_topic = docs_df_b.groupby(['topic_number'], as_index = False).agg({'raw_text': ' '.join,\n",
    "                                                                   'headline': '. '.join,\n",
    "                                                                    \n",
    "                                                                    \"kicker_headline_ne\":lambda x: (utils.flatten([utils.parse_google_named_entities(el) for el in x ])),\n",
    "                                                                      \"text_ne\":lambda x: (utils.flatten([utils.parse_google_named_entities(el) for el in x ])),\n",
    "                                                                     \"seo_title_ne\":lambda x: (utils.flatten([utils.parse_google_named_entities(el) for el in x ]))\n",
    "                                                                  }).set_index(\"topic_number\")\n",
    "\n"
   ]
  },
  {
   "cell_type": "code",
   "execution_count": 365,
   "metadata": {},
   "outputs": [
    {
     "data": {
      "text/html": [
       "<div>\n",
       "<style scoped>\n",
       "    .dataframe tbody tr th:only-of-type {\n",
       "        vertical-align: middle;\n",
       "    }\n",
       "\n",
       "    .dataframe tbody tr th {\n",
       "        vertical-align: top;\n",
       "    }\n",
       "\n",
       "    .dataframe thead th {\n",
       "        text-align: right;\n",
       "    }\n",
       "</style>\n",
       "<table border=\"1\" class=\"dataframe\">\n",
       "  <thead>\n",
       "    <tr style=\"text-align: right;\">\n",
       "      <th></th>\n",
       "      <th>raw_text</th>\n",
       "      <th>headline</th>\n",
       "      <th>kicker_headline_ne</th>\n",
       "      <th>text_ne</th>\n",
       "      <th>seo_title_ne</th>\n",
       "    </tr>\n",
       "    <tr>\n",
       "      <th>topic_number</th>\n",
       "      <th></th>\n",
       "      <th></th>\n",
       "      <th></th>\n",
       "      <th></th>\n",
       "      <th></th>\n",
       "    </tr>\n",
       "  </thead>\n",
       "  <tbody>\n",
       "    <tr>\n",
       "      <th>-1</th>\n",
       "      <td>Innerhalb von nur wenigen Minuten rauben zwei ...</td>\n",
       "      <td>Überwachungskamera zeigt Blitz-Raub!. Hoffenhe...</td>\n",
       "      <td>[{'text': 'Überfall', 'type': 'EVENT'}, {'text...</td>\n",
       "      <td>[{'text': 'Juweliergeschäft', 'type': 'OTHER'}...</td>\n",
       "      <td>[{'text': 'Überwachungskamera', 'type': 'CONSU...</td>\n",
       "    </tr>\n",
       "    <tr>\n",
       "      <th>0</th>\n",
       "      <td>In den USA zeichnet sich eine rekordverdächtig...</td>\n",
       "      <td>USA steuern auf höchste Wahlbeteiligung seit ü...</td>\n",
       "      <td>[{'text': 'Kampf', 'type': 'EVENT'}, {'text': ...</td>\n",
       "      <td>[{'text': 'Wahl-Projektes', 'type': 'OTHER'}, ...</td>\n",
       "      <td>[{'text': 'Trump', 'type': 'OTHER'}, {'text': ...</td>\n",
       "    </tr>\n",
       "    <tr>\n",
       "      <th>1</th>\n",
       "      <td>Insgesamt 16 Jahre spielte Benedikt Höwedes (3...</td>\n",
       "      <td>Wichtig, im  Derby „mit der richtigen Härte zu...</td>\n",
       "      <td>[{'text': 'Ex-Schalker Höwedes', 'type': 'PERS...</td>\n",
       "      <td>[{'text': 'Derbys', 'type': 'OTHER'}, {'text':...</td>\n",
       "      <td>[{'text': 'Interview', 'type': 'EVENT'}, {'tex...</td>\n",
       "    </tr>\n",
       "    <tr>\n",
       "      <th>2</th>\n",
       "      <td>Kann Köln diesmal gewinnen? Der FC ist aktuell...</td>\n",
       "      <td>So sehen Sie Stuttgart gegen Köln live im TV. ...</td>\n",
       "      <td>[{'text': 'TV', 'type': 'OTHER'}, {'text': 'Bu...</td>\n",
       "      <td>[{'text': 'FC', 'type': 'ORGANIZATION'}, {'tex...</td>\n",
       "      <td>[{'text': 'Bundesliga', 'type': 'ORGANIZATION'...</td>\n",
       "    </tr>\n",
       "    <tr>\n",
       "      <th>3</th>\n",
       "      <td>Jetzt steht Boris Becker das Wasser bis zum Ha...</td>\n",
       "      <td>„Er hat einen schlechten Charakter!“. Schulles...</td>\n",
       "      <td>[{'text': 'Staatsanwältin', 'type': 'PERSON'},...</td>\n",
       "      <td>[{'text': 'Wasser', 'type': 'OTHER'}, {'text':...</td>\n",
       "      <td>[{'text': 'Staatsanwältin', 'type': 'PERSON'},...</td>\n",
       "    </tr>\n",
       "  </tbody>\n",
       "</table>\n",
       "</div>"
      ],
      "text/plain": [
       "                                                       raw_text  \\\n",
       "topic_number                                                      \n",
       "-1            Innerhalb von nur wenigen Minuten rauben zwei ...   \n",
       " 0            In den USA zeichnet sich eine rekordverdächtig...   \n",
       " 1            Insgesamt 16 Jahre spielte Benedikt Höwedes (3...   \n",
       " 2            Kann Köln diesmal gewinnen? Der FC ist aktuell...   \n",
       " 3            Jetzt steht Boris Becker das Wasser bis zum Ha...   \n",
       "\n",
       "                                                       headline  \\\n",
       "topic_number                                                      \n",
       "-1            Überwachungskamera zeigt Blitz-Raub!. Hoffenhe...   \n",
       " 0            USA steuern auf höchste Wahlbeteiligung seit ü...   \n",
       " 1            Wichtig, im  Derby „mit der richtigen Härte zu...   \n",
       " 2            So sehen Sie Stuttgart gegen Köln live im TV. ...   \n",
       " 3            „Er hat einen schlechten Charakter!“. Schulles...   \n",
       "\n",
       "                                             kicker_headline_ne  \\\n",
       "topic_number                                                      \n",
       "-1            [{'text': 'Überfall', 'type': 'EVENT'}, {'text...   \n",
       " 0            [{'text': 'Kampf', 'type': 'EVENT'}, {'text': ...   \n",
       " 1            [{'text': 'Ex-Schalker Höwedes', 'type': 'PERS...   \n",
       " 2            [{'text': 'TV', 'type': 'OTHER'}, {'text': 'Bu...   \n",
       " 3            [{'text': 'Staatsanwältin', 'type': 'PERSON'},...   \n",
       "\n",
       "                                                        text_ne  \\\n",
       "topic_number                                                      \n",
       "-1            [{'text': 'Juweliergeschäft', 'type': 'OTHER'}...   \n",
       " 0            [{'text': 'Wahl-Projektes', 'type': 'OTHER'}, ...   \n",
       " 1            [{'text': 'Derbys', 'type': 'OTHER'}, {'text':...   \n",
       " 2            [{'text': 'FC', 'type': 'ORGANIZATION'}, {'tex...   \n",
       " 3            [{'text': 'Wasser', 'type': 'OTHER'}, {'text':...   \n",
       "\n",
       "                                                   seo_title_ne  \n",
       "topic_number                                                     \n",
       "-1            [{'text': 'Überwachungskamera', 'type': 'CONSU...  \n",
       " 0            [{'text': 'Trump', 'type': 'OTHER'}, {'text': ...  \n",
       " 1            [{'text': 'Interview', 'type': 'EVENT'}, {'tex...  \n",
       " 2            [{'text': 'Bundesliga', 'type': 'ORGANIZATION'...  \n",
       " 3            [{'text': 'Staatsanwältin', 'type': 'PERSON'},...  "
      ]
     },
     "execution_count": 365,
     "metadata": {},
     "output_type": "execute_result"
    }
   ],
   "source": [
    "\n",
    "docs_a_per_topic.head()"
   ]
  },
  {
   "cell_type": "code",
   "execution_count": 366,
   "metadata": {},
   "outputs": [
    {
     "data": {
      "text/html": [
       "<div>\n",
       "<style scoped>\n",
       "    .dataframe tbody tr th:only-of-type {\n",
       "        vertical-align: middle;\n",
       "    }\n",
       "\n",
       "    .dataframe tbody tr th {\n",
       "        vertical-align: top;\n",
       "    }\n",
       "\n",
       "    .dataframe thead th {\n",
       "        text-align: right;\n",
       "    }\n",
       "</style>\n",
       "<table border=\"1\" class=\"dataframe\">\n",
       "  <thead>\n",
       "    <tr style=\"text-align: right;\">\n",
       "      <th></th>\n",
       "      <th>raw_text</th>\n",
       "      <th>headline</th>\n",
       "      <th>kicker_headline_ne</th>\n",
       "      <th>text_ne</th>\n",
       "      <th>seo_title_ne</th>\n",
       "    </tr>\n",
       "    <tr>\n",
       "      <th>topic_number</th>\n",
       "      <th></th>\n",
       "      <th></th>\n",
       "      <th></th>\n",
       "      <th></th>\n",
       "      <th></th>\n",
       "    </tr>\n",
       "  </thead>\n",
       "  <tbody>\n",
       "    <tr>\n",
       "      <th>-1</th>\n",
       "      <td>Derby-Debüt für den Torwart-Dänen! Frankfurt-L...</td>\n",
       "      <td>„Wir haben die Ultra-Botschaft verstanden!“. F...</td>\n",
       "      <td>[{'text': 'Torwart', 'type': 'PERSON'}, {'text...</td>\n",
       "      <td>[{'text': 'Derby-Debüt', 'type': 'OTHER'}, {'t...</td>\n",
       "      <td>[{'text': 'Ultra-Botschaft', 'type': 'OTHER'},...</td>\n",
       "    </tr>\n",
       "    <tr>\n",
       "      <th>0</th>\n",
       "      <td>Dritte und letzte TV-Schlacht im Kampf um das ...</td>\n",
       "      <td>Trump und Biden fetzen sich ums Weiße Haus. Di...</td>\n",
       "      <td>[{'text': 'TV-Schlacht', 'type': 'EVENT'}, {'t...</td>\n",
       "      <td>[{'text': 'Dritte', 'type': 'OTHER'}, {'text':...</td>\n",
       "      <td>[{'text': 'TV-Duell', 'type': 'CONSUMER_GOOD'}...</td>\n",
       "    </tr>\n",
       "    <tr>\n",
       "      <th>1</th>\n",
       "      <td>Jeden Donnerstag gibt es bei BILD eine neue Di...</td>\n",
       "      <td>Stehen wir kurz vor dem „Corona-Burn-out“?. Un...</td>\n",
       "      <td>[{'text': 'Psychologin', 'type': 'PERSON'}, {'...</td>\n",
       "      <td>[{'text': 'Diskussionsrunde', 'type': 'OTHER'}...</td>\n",
       "      <td>[{'text': 'Leute', 'type': 'PERSON'}, {'text':...</td>\n",
       "    </tr>\n",
       "    <tr>\n",
       "      <th>2</th>\n",
       "      <td>Der 1. FC Magdeburg schon wieder unter Druck! ...</td>\n",
       "      <td>Ernst ist HoßmangsHoffnungsträger. Wichtig, im...</td>\n",
       "      <td>[{'text': 'FCM', 'type': 'ORGANIZATION'}, {'te...</td>\n",
       "      <td>[{'text': 'Druck', 'type': 'OTHER'}, {'text': ...</td>\n",
       "      <td>[{'text': 'FCM', 'type': 'ORGANIZATION'}, {'te...</td>\n",
       "    </tr>\n",
       "    <tr>\n",
       "      <th>3</th>\n",
       "      <td>Unfassbar! Oldenburg – Ein Staatsanwalt hat si...</td>\n",
       "      <td>Staatsanwalt rechtfertigt das Schlagen von Kin...</td>\n",
       "      <td>[{'text': 'Staatsanwalt', 'type': 'PERSON'}, {...</td>\n",
       "      <td>[{'text': 'Täter', 'type': 'PERSON'}, {'text':...</td>\n",
       "      <td>[{'text': 'Staatsanwalt', 'type': 'PERSON'}, {...</td>\n",
       "    </tr>\n",
       "  </tbody>\n",
       "</table>\n",
       "</div>"
      ],
      "text/plain": [
       "                                                       raw_text  \\\n",
       "topic_number                                                      \n",
       "-1            Derby-Debüt für den Torwart-Dänen! Frankfurt-L...   \n",
       " 0            Dritte und letzte TV-Schlacht im Kampf um das ...   \n",
       " 1            Jeden Donnerstag gibt es bei BILD eine neue Di...   \n",
       " 2            Der 1. FC Magdeburg schon wieder unter Druck! ...   \n",
       " 3            Unfassbar! Oldenburg – Ein Staatsanwalt hat si...   \n",
       "\n",
       "                                                       headline  \\\n",
       "topic_number                                                      \n",
       "-1            „Wir haben die Ultra-Botschaft verstanden!“. F...   \n",
       " 0            Trump und Biden fetzen sich ums Weiße Haus. Di...   \n",
       " 1            Stehen wir kurz vor dem „Corona-Burn-out“?. Un...   \n",
       " 2            Ernst ist HoßmangsHoffnungsträger. Wichtig, im...   \n",
       " 3            Staatsanwalt rechtfertigt das Schlagen von Kin...   \n",
       "\n",
       "                                             kicker_headline_ne  \\\n",
       "topic_number                                                      \n",
       "-1            [{'text': 'Torwart', 'type': 'PERSON'}, {'text...   \n",
       " 0            [{'text': 'TV-Schlacht', 'type': 'EVENT'}, {'t...   \n",
       " 1            [{'text': 'Psychologin', 'type': 'PERSON'}, {'...   \n",
       " 2            [{'text': 'FCM', 'type': 'ORGANIZATION'}, {'te...   \n",
       " 3            [{'text': 'Staatsanwalt', 'type': 'PERSON'}, {...   \n",
       "\n",
       "                                                        text_ne  \\\n",
       "topic_number                                                      \n",
       "-1            [{'text': 'Derby-Debüt', 'type': 'OTHER'}, {'t...   \n",
       " 0            [{'text': 'Dritte', 'type': 'OTHER'}, {'text':...   \n",
       " 1            [{'text': 'Diskussionsrunde', 'type': 'OTHER'}...   \n",
       " 2            [{'text': 'Druck', 'type': 'OTHER'}, {'text': ...   \n",
       " 3            [{'text': 'Täter', 'type': 'PERSON'}, {'text':...   \n",
       "\n",
       "                                                   seo_title_ne  \n",
       "topic_number                                                     \n",
       "-1            [{'text': 'Ultra-Botschaft', 'type': 'OTHER'},...  \n",
       " 0            [{'text': 'TV-Duell', 'type': 'CONSUMER_GOOD'}...  \n",
       " 1            [{'text': 'Leute', 'type': 'PERSON'}, {'text':...  \n",
       " 2            [{'text': 'FCM', 'type': 'ORGANIZATION'}, {'te...  \n",
       " 3            [{'text': 'Staatsanwalt', 'type': 'PERSON'}, {...  "
      ]
     },
     "execution_count": 366,
     "metadata": {},
     "output_type": "execute_result"
    }
   ],
   "source": [
    "\n",
    "docs_b_per_topic.head()"
   ]
  },
  {
   "cell_type": "code",
   "execution_count": 410,
   "metadata": {},
   "outputs": [
    {
     "data": {
      "application/vnd.jupyter.widget-view+json": {
       "model_id": "e3259f211fff483c833c8edd0760f8ff",
       "version_major": 2,
       "version_minor": 0
      },
      "text/plain": [
       "HBox(children=(FloatProgress(value=0.0, description='Batches', max=1.0, style=ProgressStyle(description_width=…"
      ]
     },
     "metadata": {},
     "output_type": "display_data"
    },
    {
     "name": "stdout",
     "output_type": "stream",
     "text": [
      "\n",
      "--- Embedding dimension 768\n",
      "--- 17 Documnets encoded 1.1336669921875 seconds ---\n"
     ]
    },
    {
     "data": {
      "text/html": [
       "<div>\n",
       "<style scoped>\n",
       "    .dataframe tbody tr th:only-of-type {\n",
       "        vertical-align: middle;\n",
       "    }\n",
       "\n",
       "    .dataframe tbody tr th {\n",
       "        vertical-align: top;\n",
       "    }\n",
       "\n",
       "    .dataframe thead th {\n",
       "        text-align: right;\n",
       "    }\n",
       "</style>\n",
       "<table border=\"1\" class=\"dataframe\">\n",
       "  <thead>\n",
       "    <tr style=\"text-align: right;\">\n",
       "      <th></th>\n",
       "      <th>TopWords</th>\n",
       "      <th>merged_headline_embedding</th>\n",
       "    </tr>\n",
       "    <tr>\n",
       "      <th>Topic</th>\n",
       "      <th></th>\n",
       "      <th></th>\n",
       "    </tr>\n",
       "  </thead>\n",
       "  <tbody>\n",
       "    <tr>\n",
       "      <th>-1</th>\n",
       "      <td>Überwachungskamera| Love Island| Modell| Gedäc...</td>\n",
       "      <td>[0.10836969, 0.19750257, 0.1819586, -0.4376888...</td>\n",
       "    </tr>\n",
       "    <tr>\n",
       "      <th>0</th>\n",
       "      <td>Trump| Biden| Wahl| US| TV-Duell</td>\n",
       "      <td>[0.04714764, -0.054574538, -0.083157435, -0.08...</td>\n",
       "    </tr>\n",
       "    <tr>\n",
       "      <th>1</th>\n",
       "      <td>Derby| Interview| Härte| Führungsgremien| DFB</td>\n",
       "      <td>[0.012758665, 0.13067657, -0.03269364, 0.29150...</td>\n",
       "    </tr>\n",
       "    <tr>\n",
       "      <th>2</th>\n",
       "      <td>Köln| Spiel| Bundesliga| Mainz| Verlierer</td>\n",
       "      <td>[0.033184182, -0.0019663537, 0.17483355, -0.22...</td>\n",
       "    </tr>\n",
       "    <tr>\n",
       "      <th>3</th>\n",
       "      <td>Boris Becker| Staatsanwältin| Spiel| Darmstadt...</td>\n",
       "      <td>[0.08226981, 0.14543241, -0.021904884, 0.52238...</td>\n",
       "    </tr>\n",
       "    <tr>\n",
       "      <th>4</th>\n",
       "      <td>HSV| Liga| Trainer| Spiel| Hoffnung</td>\n",
       "      <td>[0.030704863, 0.099489436, -0.081577934, -0.36...</td>\n",
       "    </tr>\n",
       "    <tr>\n",
       "      <th>5</th>\n",
       "      <td>Wohnung| Berlin| Laura| Wendler| Florida</td>\n",
       "      <td>[-0.16132988, 0.19298685, 0.008522944, -0.2345...</td>\n",
       "    </tr>\n",
       "    <tr>\n",
       "      <th>6</th>\n",
       "      <td>Maske| Corona| Sport| Experten| Fragen</td>\n",
       "      <td>[-0.11082637, 0.10200681, 0.059834134, -0.3503...</td>\n",
       "    </tr>\n",
       "    <tr>\n",
       "      <th>7</th>\n",
       "      <td>Trainer| Europa| Clásico| MOTZivator| Müller</td>\n",
       "      <td>[0.17447342, 0.19376609, 0.21719265, 0.4868829...</td>\n",
       "    </tr>\n",
       "    <tr>\n",
       "      <th>8</th>\n",
       "      <td>HSV| Biografie| Nizza| Cary Grant| Bank</td>\n",
       "      <td>[-0.17594638, 0.15836123, 0.09057134, -0.20088...</td>\n",
       "    </tr>\n",
       "    <tr>\n",
       "      <th>9</th>\n",
       "      <td>Glücksfall| Personalnot| NFL| Halles| Kolumne</td>\n",
       "      <td>[0.21865882, -0.40378132, -0.21853915, -0.0509...</td>\n",
       "    </tr>\n",
       "    <tr>\n",
       "      <th>10</th>\n",
       "      <td>Hertha| Fehltritt| Union| Skispringer| Startelf</td>\n",
       "      <td>[-0.15544, 0.33626473, -0.059119474, -0.363484...</td>\n",
       "    </tr>\n",
       "    <tr>\n",
       "      <th>11</th>\n",
       "      <td>Corona| Quarantäne| Test| Fall| Werder</td>\n",
       "      <td>[0.022187332, 0.55060434, -0.008666369, -0.015...</td>\n",
       "    </tr>\n",
       "    <tr>\n",
       "      <th>12</th>\n",
       "      <td>Corona| Test| Gnabry| Krankenhaus| Intensivsta...</td>\n",
       "      <td>[0.08327597, 0.25220078, 0.024266845, 0.151673...</td>\n",
       "    </tr>\n",
       "    <tr>\n",
       "      <th>13</th>\n",
       "      <td>Kunstwerk| US| Russland| Ausstellung| Barkasse</td>\n",
       "      <td>[0.097760424, -0.16579495, 0.18186076, -0.7157...</td>\n",
       "    </tr>\n",
       "    <tr>\n",
       "      <th>14</th>\n",
       "      <td>Dresden| Terroristen| Terrorist| CDU| Innenmin...</td>\n",
       "      <td>[0.04390346, -0.088520795, 0.19599856, -0.1831...</td>\n",
       "    </tr>\n",
       "    <tr>\n",
       "      <th>15</th>\n",
       "      <td>Corona| US| Pandemie| Remdesivir| Hartes Deuts...</td>\n",
       "      <td>[-0.2130008, 0.25522566, 0.07194645, 0.0939432...</td>\n",
       "    </tr>\n",
       "  </tbody>\n",
       "</table>\n",
       "</div>"
      ],
      "text/plain": [
       "                                                TopWords  \\\n",
       "Topic                                                      \n",
       "-1     Überwachungskamera| Love Island| Modell| Gedäc...   \n",
       " 0                      Trump| Biden| Wahl| US| TV-Duell   \n",
       " 1         Derby| Interview| Härte| Führungsgremien| DFB   \n",
       " 2             Köln| Spiel| Bundesliga| Mainz| Verlierer   \n",
       " 3     Boris Becker| Staatsanwältin| Spiel| Darmstadt...   \n",
       " 4                   HSV| Liga| Trainer| Spiel| Hoffnung   \n",
       " 5              Wohnung| Berlin| Laura| Wendler| Florida   \n",
       " 6                Maske| Corona| Sport| Experten| Fragen   \n",
       " 7          Trainer| Europa| Clásico| MOTZivator| Müller   \n",
       " 8               HSV| Biografie| Nizza| Cary Grant| Bank   \n",
       " 9         Glücksfall| Personalnot| NFL| Halles| Kolumne   \n",
       " 10      Hertha| Fehltritt| Union| Skispringer| Startelf   \n",
       " 11               Corona| Quarantäne| Test| Fall| Werder   \n",
       " 12    Corona| Test| Gnabry| Krankenhaus| Intensivsta...   \n",
       " 13       Kunstwerk| US| Russland| Ausstellung| Barkasse   \n",
       " 14    Dresden| Terroristen| Terrorist| CDU| Innenmin...   \n",
       " 15    Corona| US| Pandemie| Remdesivir| Hartes Deuts...   \n",
       "\n",
       "                               merged_headline_embedding  \n",
       "Topic                                                     \n",
       "-1     [0.10836969, 0.19750257, 0.1819586, -0.4376888...  \n",
       " 0     [0.04714764, -0.054574538, -0.083157435, -0.08...  \n",
       " 1     [0.012758665, 0.13067657, -0.03269364, 0.29150...  \n",
       " 2     [0.033184182, -0.0019663537, 0.17483355, -0.22...  \n",
       " 3     [0.08226981, 0.14543241, -0.021904884, 0.52238...  \n",
       " 4     [0.030704863, 0.099489436, -0.081577934, -0.36...  \n",
       " 5     [-0.16132988, 0.19298685, 0.008522944, -0.2345...  \n",
       " 6     [-0.11082637, 0.10200681, 0.059834134, -0.3503...  \n",
       " 7     [0.17447342, 0.19376609, 0.21719265, 0.4868829...  \n",
       " 8     [-0.17594638, 0.15836123, 0.09057134, -0.20088...  \n",
       " 9     [0.21865882, -0.40378132, -0.21853915, -0.0509...  \n",
       " 10    [-0.15544, 0.33626473, -0.059119474, -0.363484...  \n",
       " 11    [0.022187332, 0.55060434, -0.008666369, -0.015...  \n",
       " 12    [0.08327597, 0.25220078, 0.024266845, 0.151673...  \n",
       " 13    [0.097760424, -0.16579495, 0.18186076, -0.7157...  \n",
       " 14    [0.04390346, -0.088520795, 0.19599856, -0.1831...  \n",
       " 15    [-0.2130008, 0.25522566, 0.07194645, 0.0939432...  "
      ]
     },
     "execution_count": 410,
     "metadata": {},
     "output_type": "execute_result"
    }
   ],
   "source": [
    "ctrs=[]\n",
    "for topic in docs_a_per_topic.index.values: # Go over topic labels \n",
    "    text_entities = [elem[\"text\"] for elem in docs_a_per_topic.loc[topic][\"text_ne\"] if not elem['type'] ==\"NUMBER\" and not elem['type'] ==\"COMMON\"]\n",
    "    seo_title_entities = [elem[\"text\"] for elem in docs_a_per_topic.loc[topic][\"seo_title_ne\"] if not elem['type'] ==\"NUMBER\"]*2\n",
    "    kicker_headline_entities = [elem[\"text\"] for elem in docs_a_per_topic.loc[topic][\"kicker_headline_ne\"] if not elem['type'] ==\"NUMBER\"] *3\n",
    "    \n",
    "    counted_word_occurances = collections.Counter(text_entities+seo_title_entities+kicker_headline_entities).most_common()[:5]\n",
    "    ctrs.append(counted_word_occurances)\n",
    "dict_with_top_words = {k:v  for k,v in  zip(docs_a_per_topic.index.values,ctrs)}   \n",
    "merged_embeddings = modeling.get_sentence_embeddings(docs_a_per_topic[\"headline\"].values,word_embedding_model,False)\n",
    "\n",
    "cluster_labels_google_a = pd.DataFrame(\n",
    "    zip(docs_a_per_topic.index.values,[\"| \".join([word[0] for word in word_score]) for word_score in ctrs],merged_embeddings),columns=[\"Topic\",\"TopWords\",\"merged_headline_embedding\"])\\\n",
    "    .sort_values(by=\"Topic\").set_index(\"Topic\")\n",
    "cluster_labels_google_a"
   ]
  },
  {
   "cell_type": "code",
   "execution_count": 411,
   "metadata": {},
   "outputs": [
    {
     "data": {
      "application/vnd.jupyter.widget-view+json": {
       "model_id": "9b9d31289ead4f4b9c56e1d7addab076",
       "version_major": 2,
       "version_minor": 0
      },
      "text/plain": [
       "HBox(children=(FloatProgress(value=0.0, description='Batches', max=1.0, style=ProgressStyle(description_width=…"
      ]
     },
     "metadata": {},
     "output_type": "display_data"
    },
    {
     "name": "stdout",
     "output_type": "stream",
     "text": [
      "\n",
      "--- Embedding dimension 768\n",
      "--- 14 Documnets encoded 1.1740999221801758 seconds ---\n"
     ]
    },
    {
     "data": {
      "text/html": [
       "<div>\n",
       "<style scoped>\n",
       "    .dataframe tbody tr th:only-of-type {\n",
       "        vertical-align: middle;\n",
       "    }\n",
       "\n",
       "    .dataframe tbody tr th {\n",
       "        vertical-align: top;\n",
       "    }\n",
       "\n",
       "    .dataframe thead th {\n",
       "        text-align: right;\n",
       "    }\n",
       "</style>\n",
       "<table border=\"1\" class=\"dataframe\">\n",
       "  <thead>\n",
       "    <tr style=\"text-align: right;\">\n",
       "      <th></th>\n",
       "      <th>TopWords</th>\n",
       "      <th>merged_headline_embedding</th>\n",
       "    </tr>\n",
       "    <tr>\n",
       "      <th>Topic</th>\n",
       "      <th></th>\n",
       "      <th></th>\n",
       "    </tr>\n",
       "  </thead>\n",
       "  <tbody>\n",
       "    <tr>\n",
       "      <th>-1</th>\n",
       "      <td>Hoffnung| Corona| Fan-Entscheidung| Anpfiff| S...</td>\n",
       "      <td>[0.08396707, 0.23185411, 0.12502433, -0.215837...</td>\n",
       "    </tr>\n",
       "    <tr>\n",
       "      <th>0</th>\n",
       "      <td>Trump| Biden| Wahl| Kampf| Weiße Haus</td>\n",
       "      <td>[0.102730684, 0.10987485, -0.11761336, -0.0081...</td>\n",
       "    </tr>\n",
       "    <tr>\n",
       "      <th>1</th>\n",
       "      <td>Corona-Burn-out| Laura| Wendler| Florida| E-Au...</td>\n",
       "      <td>[-0.10827793, 0.107472144, -0.08827114, 0.0485...</td>\n",
       "    </tr>\n",
       "    <tr>\n",
       "      <th>2</th>\n",
       "      <td>Derby| Wiesbaden| Ernst| Interview| BVB</td>\n",
       "      <td>[0.047130138, 0.11656971, -0.023503425, 0.0001...</td>\n",
       "    </tr>\n",
       "    <tr>\n",
       "      <th>3</th>\n",
       "      <td>Corona| Test| US| Spiel| Appell</td>\n",
       "      <td>[-0.15274173, 0.48853865, 0.012360713, -0.0892...</td>\n",
       "    </tr>\n",
       "    <tr>\n",
       "      <th>4</th>\n",
       "      <td>Trainer| Bundesliga| Europa| Peter Kadiru| Gol...</td>\n",
       "      <td>[0.20464472, 0.20712599, 0.21072268, 0.6167453...</td>\n",
       "    </tr>\n",
       "    <tr>\n",
       "      <th>5</th>\n",
       "      <td>Dresden| Terrorist| Terroristen| Frau| Existenz</td>\n",
       "      <td>[-0.043853942, 0.06791661, 0.03711653, -0.4597...</td>\n",
       "    </tr>\n",
       "    <tr>\n",
       "      <th>6</th>\n",
       "      <td>Russland| Einbrecher| Kunstwerk| Sanktionen| EU</td>\n",
       "      <td>[0.20283867, -0.037712242, 0.23060928, -0.5374...</td>\n",
       "    </tr>\n",
       "    <tr>\n",
       "      <th>7</th>\n",
       "      <td>Biografie| Gedächtnisschwund| Boris Becker| An...</td>\n",
       "      <td>[-0.06079126, 0.10737395, -0.036305595, 0.0991...</td>\n",
       "    </tr>\n",
       "    <tr>\n",
       "      <th>8</th>\n",
       "      <td>Demagoge| HSV| Kampf-Kandidatur| Ex-Sprecher| ...</td>\n",
       "      <td>[-0.10418385, 0.15898448, -0.18782657, -0.0112...</td>\n",
       "    </tr>\n",
       "    <tr>\n",
       "      <th>9</th>\n",
       "      <td>Fehltritt| Union| Skispringer| Ausfall| Leipzig</td>\n",
       "      <td>[-0.25966373, 0.28478214, 0.033191565, -0.4522...</td>\n",
       "    </tr>\n",
       "    <tr>\n",
       "      <th>10</th>\n",
       "      <td>HSV| Liga| Trainer| Spieler| Daniel Thioune</td>\n",
       "      <td>[-0.05593594, -0.037967056, 0.16993812, -0.460...</td>\n",
       "    </tr>\n",
       "    <tr>\n",
       "      <th>11</th>\n",
       "      <td>Neuzugang| NFL| Glücksfall| Personalnot| Hansa</td>\n",
       "      <td>[0.18140602, 0.17298795, -0.029400818, -0.2564...</td>\n",
       "    </tr>\n",
       "    <tr>\n",
       "      <th>12</th>\n",
       "      <td>Geburt| Hoffenheim| Hertha| Kindes| Belgrad</td>\n",
       "      <td>[0.09458567, 0.43062806, 0.086574964, -0.80847...</td>\n",
       "    </tr>\n",
       "  </tbody>\n",
       "</table>\n",
       "</div>"
      ],
      "text/plain": [
       "                                                TopWords  \\\n",
       "Topic                                                      \n",
       "-1     Hoffnung| Corona| Fan-Entscheidung| Anpfiff| S...   \n",
       " 0                 Trump| Biden| Wahl| Kampf| Weiße Haus   \n",
       " 1     Corona-Burn-out| Laura| Wendler| Florida| E-Au...   \n",
       " 2               Derby| Wiesbaden| Ernst| Interview| BVB   \n",
       " 3                       Corona| Test| US| Spiel| Appell   \n",
       " 4     Trainer| Bundesliga| Europa| Peter Kadiru| Gol...   \n",
       " 5       Dresden| Terrorist| Terroristen| Frau| Existenz   \n",
       " 6       Russland| Einbrecher| Kunstwerk| Sanktionen| EU   \n",
       " 7     Biografie| Gedächtnisschwund| Boris Becker| An...   \n",
       " 8     Demagoge| HSV| Kampf-Kandidatur| Ex-Sprecher| ...   \n",
       " 9       Fehltritt| Union| Skispringer| Ausfall| Leipzig   \n",
       " 10          HSV| Liga| Trainer| Spieler| Daniel Thioune   \n",
       " 11       Neuzugang| NFL| Glücksfall| Personalnot| Hansa   \n",
       " 12          Geburt| Hoffenheim| Hertha| Kindes| Belgrad   \n",
       "\n",
       "                               merged_headline_embedding  \n",
       "Topic                                                     \n",
       "-1     [0.08396707, 0.23185411, 0.12502433, -0.215837...  \n",
       " 0     [0.102730684, 0.10987485, -0.11761336, -0.0081...  \n",
       " 1     [-0.10827793, 0.107472144, -0.08827114, 0.0485...  \n",
       " 2     [0.047130138, 0.11656971, -0.023503425, 0.0001...  \n",
       " 3     [-0.15274173, 0.48853865, 0.012360713, -0.0892...  \n",
       " 4     [0.20464472, 0.20712599, 0.21072268, 0.6167453...  \n",
       " 5     [-0.043853942, 0.06791661, 0.03711653, -0.4597...  \n",
       " 6     [0.20283867, -0.037712242, 0.23060928, -0.5374...  \n",
       " 7     [-0.06079126, 0.10737395, -0.036305595, 0.0991...  \n",
       " 8     [-0.10418385, 0.15898448, -0.18782657, -0.0112...  \n",
       " 9     [-0.25966373, 0.28478214, 0.033191565, -0.4522...  \n",
       " 10    [-0.05593594, -0.037967056, 0.16993812, -0.460...  \n",
       " 11    [0.18140602, 0.17298795, -0.029400818, -0.2564...  \n",
       " 12    [0.09458567, 0.43062806, 0.086574964, -0.80847...  "
      ]
     },
     "execution_count": 411,
     "metadata": {},
     "output_type": "execute_result"
    }
   ],
   "source": [
    "ctrs=[]\n",
    "for topic in docs_b_per_topic.index.values: # Go over topic labels \n",
    "    text_entities = [elem[\"text\"] for elem in docs_b_per_topic.loc[topic][\"text_ne\"] if not elem['type'] ==\"NUMBER\" and not elem['type'] ==\"COMMON\" ]\n",
    "    seo_title_entities = [elem[\"text\"] for elem in docs_b_per_topic.loc[topic][\"seo_title_ne\"] if not elem['type'] ==\"NUMBER\"]*2\n",
    "    kicker_headline_entities = [elem[\"text\"] for elem in docs_b_per_topic.loc[topic][\"kicker_headline_ne\"] if not elem['type'] ==\"NUMBER\"]*2\n",
    "    \n",
    "    counted_word_occurances = collections.Counter(text_entities+seo_title_entities+kicker_headline_entities).most_common()[:5]\n",
    "    ctrs.append(counted_word_occurances)\n",
    "    \n",
    "merged_embeddings = modeling.get_sentence_embeddings(docs_b_per_topic[\"headline\"].values,word_embedding_model,False)\n",
    "    \n",
    "dict_with_top_words = {k:v  for k,v in  zip(docs_b_per_topic.index.values,ctrs)}   \n",
    "cluster_labels_google_b = pd.DataFrame(\n",
    "    zip(docs_b_per_topic.index.values,[\"| \".join([word[0] for word in word_score]) for word_score in ctrs],merged_embeddings),columns=[\"Topic\",\"TopWords\",\"merged_headline_embedding\"])\\\n",
    "    .sort_values(by=\"Topic\").set_index(\"Topic\")\n",
    "cluster_labels_google_b"
   ]
  },
  {
   "cell_type": "code",
   "execution_count": 377,
   "metadata": {},
   "outputs": [
    {
     "data": {
      "application/vnd.plotly.v1+json": {
       "config": {
        "plotlyServerURL": "https://plot.ly"
       },
       "data": [
        {
         "customdata": [
          [
           "2020-10-22",
           "Wahl| Trump| Biden| TV-Duell| US",
           0
          ],
          [
           "2020-10-23",
           "Wahl| Trump| Biden| TV-Duell| US",
           0
          ],
          [
           "2020-10-23",
           "Wahl| Trump| Biden| TV-Duell| US",
           0
          ],
          [
           "2020-10-22",
           "Wahl| Trump| Biden| TV-Duell| US",
           0
          ]
         ],
         "hovertemplate": "<b>%{hovertext}</b><br><br>TopWords=%{customdata[1]}<br>x=%{x}<br>y=%{y}<br>created_at=%{customdata[0]}<br>topic_number=%{customdata[2]}<extra></extra>",
         "hovertext": [
          "USA steuern auf höchste Wahlbeteiligung seit über Hundert Jahren zu",
          "Trump und Biden fetzen sich ums Weiße Haus",
          "„Ich schaue DICH an, Joe!“",
          "Die letzte Rede-Schlacht vor der wichtigsten Wahl der Welt"
         ],
         "legendgroup": "Wahl| Trump| Biden| TV-Duell| US",
         "marker": {
          "color": "#636efa",
          "line": {
           "color": "DarkSlateGrey",
           "width": 0.15
          },
          "opacity": 0.8,
          "size": 9,
          "symbol": "circle"
         },
         "mode": "markers",
         "name": "Wahl| Trump| Biden| TV-Duell| US",
         "orientation": "v",
         "showlegend": true,
         "type": "scatter",
         "x": [
          4.202300548553467,
          3.9693660736083984,
          3.9749510288238525,
          3.7771410942077637
         ],
         "xaxis": "x",
         "y": [
          1.1575499773025513,
          0.7604808211326599,
          1.1421781778335571,
          1.0375102758407593
         ],
         "yaxis": "y"
        },
        {
         "customdata": [
          [
           "2020-10-22",
           "HSV| Trainer| Spieler| Fans| Biografie",
           8
          ],
          [
           "2020-10-22",
           "HSV| Trainer| Spieler| Fans| Biografie",
           8
          ],
          [
           "2020-10-22",
           "HSV| Trainer| Spieler| Fans| Biografie",
           8
          ],
          [
           "2020-10-22",
           "HSV| Trainer| Spieler| Fans| Biografie",
           8
          ],
          [
           "2020-10-22",
           "HSV| Trainer| Spieler| Fans| Biografie",
           8
          ],
          [
           "2020-10-22",
           "HSV| Trainer| Spieler| Fans| Biografie",
           8
          ],
          [
           "2020-10-22",
           "HSV| Trainer| Spieler| Fans| Biografie",
           8
          ],
          [
           "2020-10-22",
           "HSV| Trainer| Spieler| Fans| Biografie",
           8
          ],
          [
           "2020-10-22",
           "HSV| Trainer| Spieler| Fans| Biografie",
           8
          ],
          [
           "2020-10-22",
           "HSV| Trainer| Spieler| Fans| Biografie",
           8
          ]
         ],
         "hovertemplate": "<b>%{hovertext}</b><br><br>TopWords=%{customdata[1]}<br>x=%{x}<br>y=%{y}<br>created_at=%{customdata[0]}<br>topic_number=%{customdata[2]}<extra></extra>",
         "hovertext": [
          "Kann Thioune es besser als Hecking?",
          "Bayers Baller-Show",
          "Cary Grant war bisexuell und auf LSD",
          "Weinkauf hat Aufstiegs-Trauma abgehakt",
          "Hofmann spielt sich bei Jogi fest",
          "Dieser Nackedei isteine Botschaft",
          "Hier wird jetztHollywood verramscht",
          "Lange ist Jenas Kompaniechef",
          "Über die Wölfe zu Löw",
          "Darum passt Litkaso gut zu Hansa"
         ],
         "legendgroup": "HSV| Trainer| Spieler| Fans| Biografie",
         "marker": {
          "color": "#EF553B",
          "line": {
           "color": "DarkSlateGrey",
           "width": 0.15
          },
          "opacity": 0.8,
          "size": 9,
          "symbol": "circle"
         },
         "mode": "markers",
         "name": "HSV| Trainer| Spieler| Fans| Biografie",
         "orientation": "v",
         "showlegend": true,
         "type": "scatter",
         "x": [
          1.7169103622436523,
          2.064136505126953,
          3.729323148727417,
          2.0015053749084473,
          2.461214303970337,
          3.4403202533721924,
          3.4023354053497314,
          2.593190908432007,
          2.585984945297241,
          2.2821638584136963
         ],
         "xaxis": "x",
         "y": [
          2.809673547744751,
          2.7726199626922607,
          2.896010398864746,
          3.066469430923462,
          3.422394275665283,
          3.274848461151123,
          3.100466012954712,
          2.705192804336548,
          3.4707224369049072,
          3.158215284347534
         ],
         "yaxis": "y"
        },
        {
         "customdata": [
          [
           "2020-10-22",
           "Kunstwerk| US| Russland| Ausstellung| Barkasse",
           13
          ],
          [
           "2020-10-22",
           "Kunstwerk| US| Russland| Ausstellung| Barkasse",
           13
          ],
          [
           "2020-10-22",
           "Kunstwerk| US| Russland| Ausstellung| Barkasse",
           13
          ],
          [
           "2020-10-22",
           "Kunstwerk| US| Russland| Ausstellung| Barkasse",
           13
          ]
         ],
         "hovertemplate": "<b>%{hovertext}</b><br><br>TopWords=%{customdata[1]}<br>x=%{x}<br>y=%{y}<br>created_at=%{customdata[0]}<br>topic_number=%{customdata[2]}<extra></extra>",
         "hovertext": [
          "Snowden erhält unbefristeten Aufenthalt in Russland",
          "Beuys-Kunstwerk aus Ausstellung verschwunden",
          "Todes-Drama um Zirkus-Elefanten",
          "Bruch in der Barkasse"
         ],
         "legendgroup": "Kunstwerk| US| Russland| Ausstellung| Barkasse",
         "marker": {
          "color": "#00cc96",
          "line": {
           "color": "DarkSlateGrey",
           "width": 0.15
          },
          "opacity": 0.8,
          "size": 9,
          "symbol": "circle"
         },
         "mode": "markers",
         "name": "Kunstwerk| US| Russland| Ausstellung| Barkasse",
         "orientation": "v",
         "showlegend": true,
         "type": "scatter",
         "x": [
          4.682143688201904,
          3.973602056503296,
          4.2187604904174805,
          4.483811378479004
         ],
         "xaxis": "x",
         "y": [
          2.2797834873199463,
          2.851685047149658,
          2.7384796142578125,
          2.407140016555786
         ],
         "yaxis": "y"
        },
        {
         "customdata": [
          [
           "2020-10-22",
           "Trainer| Spiel| Europa| Platz| Flügel-Fight",
           7
          ],
          [
           "2020-10-22",
           "Trainer| Spiel| Europa| Platz| Flügel-Fight",
           7
          ],
          [
           "2020-10-22",
           "Trainer| Spiel| Europa| Platz| Flügel-Fight",
           7
          ],
          [
           "2020-10-22",
           "Trainer| Spiel| Europa| Platz| Flügel-Fight",
           7
          ],
          [
           "2020-10-22",
           "Trainer| Spiel| Europa| Platz| Flügel-Fight",
           7
          ],
          [
           "2020-10-22",
           "Trainer| Spiel| Europa| Platz| Flügel-Fight",
           7
          ],
          [
           "2020-10-22",
           "Trainer| Spiel| Europa| Platz| Flügel-Fight",
           7
          ],
          [
           "2020-10-22",
           "Trainer| Spiel| Europa| Platz| Flügel-Fight",
           7
          ]
         ],
         "hovertemplate": "<b>%{hovertext}</b><br><br>TopWords=%{customdata[1]}<br>x=%{x}<br>y=%{y}<br>created_at=%{customdata[0]}<br>topic_number=%{customdata[2]}<extra></extra>",
         "hovertext": [
          "Boateng muss mitHand-Schiene trainieren",
          "Der MOTZivator!",
          "Ernst ist HoßmangsHoffnungsträger",
          "Peter Kadiru wird zum Schläger-Typ",
          "Götze trifft auch in Europa",
          "Coman erste Sahne! Aber jetzt kommt Sané",
          "So sehen Sie den Clásico live im TV",
          "Jones zieht zurücknach Frankfurt"
         ],
         "legendgroup": "Trainer| Spiel| Europa| Platz| Flügel-Fight",
         "marker": {
          "color": "#ab63fa",
          "line": {
           "color": "DarkSlateGrey",
           "width": 0.15
          },
          "opacity": 0.8,
          "size": 9,
          "symbol": "circle"
         },
         "mode": "markers",
         "name": "Trainer| Spiel| Europa| Platz| Flügel-Fight",
         "orientation": "v",
         "showlegend": true,
         "type": "scatter",
         "x": [
          3.1689398288726807,
          3.181771755218506,
          2.8600449562072754,
          3.5611917972564697,
          3.0628137588500977,
          3.3365695476531982,
          3.0111677646636963,
          2.8636932373046875
         ],
         "xaxis": "x",
         "y": [
          1.8815351724624634,
          2.6246771812438965,
          1.7402708530426025,
          2.446629047393799,
          3.0037312507629395,
          2.180077075958252,
          2.488693952560425,
          2.513408899307251
         ],
         "yaxis": "y"
        },
        {
         "customdata": [
          [
           "2020-10-22",
           "Spiel| Köln| Corona| Bundesliga| Zuschauer",
           2
          ],
          [
           "2020-10-22",
           "Spiel| Köln| Corona| Bundesliga| Zuschauer",
           2
          ],
          [
           "2020-10-22",
           "Spiel| Köln| Corona| Bundesliga| Zuschauer",
           2
          ],
          [
           "2020-10-22",
           "Spiel| Köln| Corona| Bundesliga| Zuschauer",
           2
          ],
          [
           "2020-10-22",
           "Spiel| Köln| Corona| Bundesliga| Zuschauer",
           2
          ],
          [
           "2020-10-22",
           "Spiel| Köln| Corona| Bundesliga| Zuschauer",
           2
          ],
          [
           "2020-10-22",
           "Spiel| Köln| Corona| Bundesliga| Zuschauer",
           2
          ]
         ],
         "hovertemplate": "<b>%{hovertext}</b><br><br>TopWords=%{customdata[1]}<br>x=%{x}<br>y=%{y}<br>created_at=%{customdata[0]}<br>topic_number=%{customdata[2]}<extra></extra>",
         "hovertext": [
          "So sehen Sie Stuttgart gegen Köln live im TV",
          "Anfang hilft 1. Spiel ohne Zuschauer",
          "Der Uefa fehlen 470 Mio Euro",
          "SCHRÖDER spricht wiedervon GEHALTSVERZICHT",
          "Kampf-Kandidatur umVize-Posten sorgt für Krach",
          "Werder ohne Augustinssongegen Hoffenheim",
          "Haie brauchen1 Million Euro"
         ],
         "legendgroup": "Spiel| Köln| Corona| Bundesliga| Zuschauer",
         "marker": {
          "color": "#FFA15A",
          "line": {
           "color": "DarkSlateGrey",
           "width": 0.15
          },
          "opacity": 0.8,
          "size": 9,
          "symbol": "circle"
         },
         "mode": "markers",
         "name": "Spiel| Köln| Corona| Bundesliga| Zuschauer",
         "orientation": "v",
         "showlegend": true,
         "type": "scatter",
         "x": [
          2.2357804775238037,
          2.0038578510284424,
          2.151902198791504,
          2.1845786571502686,
          2.777346611022949,
          2.4259560108184814,
          2.470635175704956
         ],
         "xaxis": "x",
         "y": [
          1.0428670644760132,
          1.666547179222107,
          1.326835036277771,
          1.6437464952468872,
          1.7796412706375122,
          1.260792851448059,
          1.310516119003296
         ],
         "yaxis": "y"
        },
        {
         "customdata": [
          [
           "2020-10-22",
           "Corona| Test| Krankenhaus| Gnabry| Intensivstation",
           12
          ],
          [
           "2020-10-22",
           "Corona| Test| Krankenhaus| Gnabry| Intensivstation",
           12
          ],
          [
           "2020-10-22",
           "Corona| Test| Krankenhaus| Gnabry| Intensivstation",
           12
          ],
          [
           "2020-10-22",
           "Corona| Test| Krankenhaus| Gnabry| Intensivstation",
           12
          ],
          [
           "2020-10-22",
           "Corona| Test| Krankenhaus| Gnabry| Intensivstation",
           12
          ]
         ],
         "hovertemplate": "<b>%{hovertext}</b><br><br>TopWords=%{customdata[1]}<br>x=%{x}<br>y=%{y}<br>created_at=%{customdata[0]}<br>topic_number=%{customdata[2]}<extra></extra>",
         "hovertext": [
          "Belgiens Außenministerin auf Intensivstation!",
          "Corona-Alarm beim Thai-König!",
          "Zweiter Corona-Fall beim FC Bayern",
          "Wie gut warnte die Warn-App Spahns Kontakte?",
          "2. Gnabry-Test negativ!"
         ],
         "legendgroup": "Corona| Test| Krankenhaus| Gnabry| Intensivstation",
         "marker": {
          "color": "#19d3f3",
          "line": {
           "color": "DarkSlateGrey",
           "width": 0.15
          },
          "opacity": 0.8,
          "size": 9,
          "symbol": "circle"
         },
         "mode": "markers",
         "name": "Corona| Test| Krankenhaus| Gnabry| Intensivstation",
         "orientation": "v",
         "showlegend": true,
         "type": "scatter",
         "x": [
          3.163804531097412,
          3.24816632270813,
          2.8408260345458984,
          3.3474271297454834,
          2.9039924144744873
         ],
         "xaxis": "x",
         "y": [
          0.18859829008579254,
          0.3331458866596222,
          0.5546004176139832,
          0.5895959138870239,
          0.47059062123298645
         ],
         "yaxis": "y"
        },
        {
         "customdata": [
          [
           "2020-10-22",
           "Corona| Test| Quarantäne| Werder| Fall",
           11
          ],
          [
           "2020-10-22",
           "Corona| Test| Quarantäne| Werder| Fall",
           11
          ],
          [
           "2020-10-22",
           "Corona| Test| Quarantäne| Werder| Fall",
           11
          ],
          [
           "2020-10-22",
           "Corona| Test| Quarantäne| Werder| Fall",
           11
          ],
          [
           "2020-10-22",
           "Corona| Test| Quarantäne| Werder| Fall",
           11
          ],
          [
           "2020-10-22",
           "Corona| Test| Quarantäne| Werder| Fall",
           11
          ],
          [
           "2020-10-22",
           "Corona| Test| Quarantäne| Werder| Fall",
           11
          ],
          [
           "2020-10-22",
           "Corona| Test| Quarantäne| Werder| Fall",
           11
          ]
         ],
         "hovertemplate": "<b>%{hovertext}</b><br><br>TopWords=%{customdata[1]}<br>x=%{x}<br>y=%{y}<br>created_at=%{customdata[0]}<br>topic_number=%{customdata[2]}<extra></extra>",
         "hovertext": [
          "Erneut positiver Corona-Test bei Ronaldo",
          "So geht es bei Corona-Werder jetzt weiter",
          "Behrens vor Trainings-Comeback",
          "Angeklagte legen Geständnis ab",
          "So erklärt der Formel-1-Pilot sein Corona-Problem",
          "Staatsanwalt rechtfertigt das Schlagen von Kindern",
          "Darf man das Umgangsrecht des Kindes verweigern?",
          "Warum geht Werder freiwillig in Quarantäne?"
         ],
         "legendgroup": "Corona| Test| Quarantäne| Werder| Fall",
         "marker": {
          "color": "#FF6692",
          "line": {
           "color": "DarkSlateGrey",
           "width": 0.15
          },
          "opacity": 0.8,
          "size": 9,
          "symbol": "circle"
         },
         "mode": "markers",
         "name": "Corona| Test| Quarantäne| Werder| Fall",
         "orientation": "v",
         "showlegend": true,
         "type": "scatter",
         "x": [
          2.708416223526001,
          3.0365562438964844,
          2.8438403606414795,
          3.1546988487243652,
          2.566788673400879,
          2.956693410873413,
          3.5310800075531006,
          2.941533327102661
         ],
         "xaxis": "x",
         "y": [
          0.23692604899406433,
          0.5594395995140076,
          0.7146367430686951,
          1.1542174816131592,
          0.5483289957046509,
          1.234676480293274,
          0.4861556589603424,
          0.9104994535446167
         ],
         "yaxis": "y"
        },
        {
         "customdata": [
          [
           "2020-10-22",
           "Überwachungskamera| Brustsponsor| Liebe| Love Island| Modell",
           -1
          ],
          [
           "2020-10-22",
           "Überwachungskamera| Brustsponsor| Liebe| Love Island| Modell",
           -1
          ],
          [
           "2020-10-22",
           "Überwachungskamera| Brustsponsor| Liebe| Love Island| Modell",
           -1
          ],
          [
           "2020-10-22",
           "Überwachungskamera| Brustsponsor| Liebe| Love Island| Modell",
           -1
          ],
          [
           "2020-10-22",
           "Überwachungskamera| Brustsponsor| Liebe| Love Island| Modell",
           -1
          ],
          [
           "2020-10-22",
           "Überwachungskamera| Brustsponsor| Liebe| Love Island| Modell",
           -1
          ],
          [
           "2020-10-22",
           "Überwachungskamera| Brustsponsor| Liebe| Love Island| Modell",
           -1
          ],
          [
           "2020-10-22",
           "Überwachungskamera| Brustsponsor| Liebe| Love Island| Modell",
           -1
          ]
         ],
         "hovertemplate": "<b>%{hovertext}</b><br><br>TopWords=%{customdata[1]}<br>x=%{x}<br>y=%{y}<br>created_at=%{customdata[0]}<br>topic_number=%{customdata[2]}<extra></extra>",
         "hovertext": [
          "Überwachungskamera zeigt Blitz-Raub!",
          "Hoffenheim feiert irren Baby-Sieg",
          "Waldhof krallt sich  neuen Brustsponsor",
          "PELÉ 80!",
          "Eine Liebe ist schon verpufft!",
          "Modell sagt 26 000 Neuinfektionen am Tag voraus",
          "Lieber Chaos-Flughafern Berlin,",
          "Ex-Neonazi mit Gedächtnisschwund"
         ],
         "legendgroup": "Überwachungskamera| Brustsponsor| Liebe| Love Island| Modell",
         "marker": {
          "color": "#B6E880",
          "line": {
           "color": "DarkSlateGrey",
           "width": 0.15
          },
          "opacity": 0.8,
          "size": 9,
          "symbol": "circle"
         },
         "mode": "markers",
         "name": "Überwachungskamera| Brustsponsor| Liebe| Love Island| Modell",
         "orientation": "v",
         "showlegend": true,
         "type": "scatter",
         "x": [
          4.310112953186035,
          1.8164730072021484,
          2.710236072540283,
          3.678260326385498,
          2.438502311706543,
          4.4208760261535645,
          2.0011513233184814,
          4.020732879638672
         ],
         "xaxis": "x",
         "y": [
          2.138575792312622,
          2.559781074523926,
          1.610260248184204,
          3.100365400314331,
          2.5328783988952637,
          0.41649776697158813,
          2.0885279178619385,
          2.049837589263916
         ],
         "yaxis": "y"
        },
        {
         "customdata": [
          [
           "2020-10-22",
           "Wohnung| Berlin| Laura| Wendler| Florida",
           5
          ],
          [
           "2020-10-22",
           "Wohnung| Berlin| Laura| Wendler| Florida",
           5
          ],
          [
           "2020-10-22",
           "Wohnung| Berlin| Laura| Wendler| Florida",
           5
          ],
          [
           "2020-10-22",
           "Wohnung| Berlin| Laura| Wendler| Florida",
           5
          ],
          [
           "2020-10-22",
           "Wohnung| Berlin| Laura| Wendler| Florida",
           5
          ]
         ],
         "hovertemplate": "<b>%{hovertext}</b><br><br>TopWords=%{customdata[1]}<br>x=%{x}<br>y=%{y}<br>created_at=%{customdata[0]}<br>topic_number=%{customdata[2]}<extra></extra>",
         "hovertext": [
          "Heidi bald HeiDA!",
          "Warum Wendler und Laura schon wieder Ärger droht",
          "Uns hat der Blitz getroffen!",
          "Note 2 für fünf Hoffenheimer!",
          "Stehen wir kurz vor dem „Corona-Burn-out“?"
         ],
         "legendgroup": "Wohnung| Berlin| Laura| Wendler| Florida",
         "marker": {
          "color": "#FF97FF",
          "line": {
           "color": "DarkSlateGrey",
           "width": 0.15
          },
          "opacity": 0.8,
          "size": 9,
          "symbol": "circle"
         },
         "mode": "markers",
         "name": "Wohnung| Berlin| Laura| Wendler| Florida",
         "orientation": "v",
         "showlegend": true,
         "type": "scatter",
         "x": [
          3.127519130706787,
          3.3257620334625244,
          3.0647640228271484,
          2.8550198078155518,
          3.4468743801116943
         ],
         "xaxis": "x",
         "y": [
          1.7848116159439087,
          2.229856252670288,
          2.8129165172576904,
          1.9099735021591187,
          1.5078439712524414
         ],
         "yaxis": "y"
        },
        {
         "customdata": [
          [
           "2020-10-22",
           "HSV| Liga| Trainer| Spiel| Spieler",
           4
          ],
          [
           "2020-10-22",
           "HSV| Liga| Trainer| Spiel| Spieler",
           4
          ],
          [
           "2020-10-22",
           "HSV| Liga| Trainer| Spiel| Spieler",
           4
          ],
          [
           "2020-10-22",
           "HSV| Liga| Trainer| Spiel| Spieler",
           4
          ],
          [
           "2020-10-22",
           "HSV| Liga| Trainer| Spiel| Spieler",
           4
          ],
          [
           "2020-10-22",
           "HSV| Liga| Trainer| Spiel| Spieler",
           4
          ],
          [
           "2020-10-22",
           "HSV| Liga| Trainer| Spiel| Spieler",
           4
          ],
          [
           "2020-10-22",
           "HSV| Liga| Trainer| Spiel| Spieler",
           4
          ],
          [
           "2020-10-23",
           "HSV| Liga| Trainer| Spiel| Spieler",
           4
          ],
          [
           "2020-10-22",
           "HSV| Liga| Trainer| Spiel| Spieler",
           4
          ]
         ],
         "hovertemplate": "<b>%{hovertext}</b><br><br>TopWords=%{customdata[1]}<br>x=%{x}<br>y=%{y}<br>created_at=%{customdata[0]}<br>topic_number=%{customdata[2]}<extra></extra>",
         "hovertext": [
          "So heiß sieht das neue Rebstockbad aus",
          "Erwischt! Kobel und Endo wieder voll dabei",
          "Maina ist zurück auf dem Platz",
          "Leibold und Vagnoman sind zurück",
          "Hollerbach wünscht sich ein schönes 3:3",
          "Rösler wehrt sich gegen Kritik an Talenten!",
          "Trainer-Lob für Vollgas-Wood",
          "Kocak droht mitBlitz-Strafe",
          "Keiner wollte zu Mark Forster",
          "Jacob: „Wir sind süchtig nach Erfolg!“"
         ],
         "legendgroup": "HSV| Liga| Trainer| Spiel| Spieler",
         "marker": {
          "color": "#FECB52",
          "line": {
           "color": "DarkSlateGrey",
           "width": 0.15
          },
          "opacity": 0.8,
          "size": 9,
          "symbol": "circle"
         },
         "mode": "markers",
         "name": "HSV| Liga| Trainer| Spiel| Spieler",
         "orientation": "v",
         "showlegend": true,
         "type": "scatter",
         "x": [
          2.5532455444335938,
          3.0361311435699463,
          2.618497610092163,
          2.7078166007995605,
          2.390199899673462,
          2.7916667461395264,
          2.205174446105957,
          2.9001150131225586,
          2.441678047180176,
          2.6915271282196045
         ],
         "xaxis": "x",
         "y": [
          2.0479090213775635,
          2.7372946739196777,
          3.164466142654419,
          2.4407079219818115,
          2.4975008964538574,
          2.795872688293457,
          2.594437837600708,
          2.146575927734375,
          2.883169174194336,
          2.8419814109802246
         ],
         "yaxis": "y"
        },
        {
         "customdata": [
          [
           "2020-10-22",
           "Spiel| Trainer| Hertha| Fehltritt| Union",
           10
          ],
          [
           "2020-10-22",
           "Spiel| Trainer| Hertha| Fehltritt| Union",
           10
          ],
          [
           "2020-10-22",
           "Spiel| Trainer| Hertha| Fehltritt| Union",
           10
          ],
          [
           "2020-10-22",
           "Spiel| Trainer| Hertha| Fehltritt| Union",
           10
          ]
         ],
         "hovertemplate": "<b>%{hovertext}</b><br><br>TopWords=%{customdata[1]}<br>x=%{x}<br>y=%{y}<br>created_at=%{customdata[0]}<br>topic_number=%{customdata[2]}<extra></extra>",
         "hovertext": [
          "Nach Mega-Zoff jetzt Startelf gegen Hertha?",
          "Au Backe! Union ohne Karius",
          "Leyhe fällt komplette Saison aus",
          "Breitkreuz glücklich trotz 0:3-Packung"
         ],
         "legendgroup": "Spiel| Trainer| Hertha| Fehltritt| Union",
         "marker": {
          "color": "#636efa",
          "line": {
           "color": "DarkSlateGrey",
           "width": 0.15
          },
          "opacity": 0.8,
          "size": 9,
          "symbol": "circle"
         },
         "mode": "markers",
         "name": "Spiel| Trainer| Hertha| Fehltritt| Union",
         "orientation": "v",
         "showlegend": true,
         "type": "scatter",
         "x": [
          2.0607645511627197,
          2.143975257873535,
          2.4269814491271973,
          2.3564844131469727
         ],
         "xaxis": "x",
         "y": [
          2.549391269683838,
          1.879026174545288,
          2.213881492614746,
          2.246649742126465
         ],
         "yaxis": "y"
        },
        {
         "customdata": [
          [
           "2020-10-22",
           "Boris Becker| Staatsanwältin| Spiel| Darmstadt| Sparkassen",
           3
          ],
          [
           "2020-10-22",
           "Boris Becker| Staatsanwältin| Spiel| Darmstadt| Sparkassen",
           3
          ],
          [
           "2020-10-22",
           "Boris Becker| Staatsanwältin| Spiel| Darmstadt| Sparkassen",
           3
          ],
          [
           "2020-10-22",
           "Boris Becker| Staatsanwältin| Spiel| Darmstadt| Sparkassen",
           3
          ]
         ],
         "hovertemplate": "<b>%{hovertext}</b><br><br>TopWords=%{customdata[1]}<br>x=%{x}<br>y=%{y}<br>created_at=%{customdata[0]}<br>topic_number=%{customdata[2]}<extra></extra>",
         "hovertext": [
          "„Er hat einen schlechten Charakter!“",
          "SchullesSorgen-Puzzle",
          "Negativzins-Wahnsinnbreitet sich weiter aus",
          "Neun neue Anklagepunkte gegen Boris Becker!"
         ],
         "legendgroup": "Boris Becker| Staatsanwältin| Spiel| Darmstadt| Sparkassen",
         "marker": {
          "color": "#EF553B",
          "line": {
           "color": "DarkSlateGrey",
           "width": 0.15
          },
          "opacity": 0.8,
          "size": 9,
          "symbol": "circle"
         },
         "mode": "markers",
         "name": "Boris Becker| Staatsanwältin| Spiel| Darmstadt| Sparkassen",
         "orientation": "v",
         "showlegend": true,
         "type": "scatter",
         "x": [
          3.94368577003479,
          3.427621841430664,
          3.405595064163208,
          3.713916540145874
         ],
         "xaxis": "x",
         "y": [
          1.9189363718032837,
          2.462441921234131,
          2.106416940689087,
          1.8113982677459717
         ],
         "yaxis": "y"
        },
        {
         "customdata": [
          [
           "2020-10-22",
           "Dresden| Terrorist| Terroristen| CDU| Gefährder",
           14
          ],
          [
           "2020-10-22",
           "Dresden| Terrorist| Terroristen| CDU| Gefährder",
           14
          ],
          [
           "2020-10-23",
           "Dresden| Terrorist| Terroristen| CDU| Gefährder",
           14
          ],
          [
           "2020-10-22",
           "Dresden| Terrorist| Terroristen| CDU| Gefährder",
           14
          ],
          [
           "2020-10-22",
           "Dresden| Terrorist| Terroristen| CDU| Gefährder",
           14
          ]
         ],
         "hovertemplate": "<b>%{hovertext}</b><br><br>TopWords=%{customdata[1]}<br>x=%{x}<br>y=%{y}<br>created_at=%{customdata[0]}<br>topic_number=%{customdata[2]}<extra></extra>",
         "hovertext": [
          "ISIS-Terrorist wollte Christen „schlachten“ und „Zunge abschneiden“",
          "Schluss mit Schutzvon Terroristen!",
          "CDU-Spitze will mehrere kleine Parteitage gleichzeitig",
          "Terroristen endlichsofort abschieben!",
          "Pressekonferenz der Schande!"
         ],
         "legendgroup": "Dresden| Terrorist| Terroristen| CDU| Gefährder",
         "marker": {
          "color": "#00cc96",
          "line": {
           "color": "DarkSlateGrey",
           "width": 0.15
          },
          "opacity": 0.8,
          "size": 9,
          "symbol": "circle"
         },
         "mode": "markers",
         "name": "Dresden| Terrorist| Terroristen| CDU| Gefährder",
         "orientation": "v",
         "showlegend": true,
         "type": "scatter",
         "x": [
          4.251635551452637,
          4.580747127532959,
          4.263205528259277,
          4.406239032745361,
          4.441523551940918
         ],
         "xaxis": "x",
         "y": [
          1.7830193042755127,
          1.6786099672317505,
          0.6576451063156128,
          1.2199124097824097,
          1.80380380153656
         ],
         "yaxis": "y"
        },
        {
         "customdata": [
          [
           "2020-10-22",
           "Maske| Corona| Sport| Experten| Fragen",
           6
          ],
          [
           "2020-10-22",
           "Maske| Corona| Sport| Experten| Fragen",
           6
          ],
          [
           "2020-10-22",
           "Maske| Corona| Sport| Experten| Fragen",
           6
          ]
         ],
         "hovertemplate": "<b>%{hovertext}</b><br><br>TopWords=%{customdata[1]}<br>x=%{x}<br>y=%{y}<br>created_at=%{customdata[0]}<br>topic_number=%{customdata[2]}<extra></extra>",
         "hovertext": [
          "Muss ich beim Sport im Freienjetzt eine Maske tragen?",
          "Arm durch Pflege!",
          "„Masken anzuzweifeln ist gefährlicher Unsinn“"
         ],
         "legendgroup": "Maske| Corona| Sport| Experten| Fragen",
         "marker": {
          "color": "#ab63fa",
          "line": {
           "color": "DarkSlateGrey",
           "width": 0.15
          },
          "opacity": 0.8,
          "size": 9,
          "symbol": "circle"
         },
         "mode": "markers",
         "name": "Maske| Corona| Sport| Experten| Fragen",
         "orientation": "v",
         "showlegend": true,
         "type": "scatter",
         "x": [
          3.6431517601013184,
          4.128520965576172,
          4.080691814422607
         ],
         "xaxis": "x",
         "y": [
          1.3250107765197754,
          1.7497305870056152,
          1.303678035736084
         ],
         "yaxis": "y"
        },
        {
         "customdata": [
          [
           "2020-10-22",
           "Corona| US| Deutschland| Pandemie| Remdesivir",
           15
          ],
          [
           "2020-10-22",
           "Corona| US| Deutschland| Pandemie| Remdesivir",
           15
          ],
          [
           "2020-10-22",
           "Corona| US| Deutschland| Pandemie| Remdesivir",
           15
          ],
          [
           "2020-10-23",
           "Corona| US| Deutschland| Pandemie| Remdesivir",
           15
          ],
          [
           "2020-10-22",
           "Corona| US| Deutschland| Pandemie| Remdesivir",
           15
          ],
          [
           "2020-10-22",
           "Corona| US| Deutschland| Pandemie| Remdesivir",
           15
          ],
          [
           "2020-10-22",
           "Corona| US| Deutschland| Pandemie| Remdesivir",
           15
          ],
          [
           "2020-10-22",
           "Corona| US| Deutschland| Pandemie| Remdesivir",
           15
          ]
         ],
         "hovertemplate": "<b>%{hovertext}</b><br><br>TopWords=%{customdata[1]}<br>x=%{x}<br>y=%{y}<br>created_at=%{customdata[0]}<br>topic_number=%{customdata[2]}<extra></extra>",
         "hovertext": [
          "Lauterbach unterstützt Drostens Ü50-Plan",
          "So viele Intensivbettensind noch frei",
          "Das traurige Schicksal deutscher Drogensüchtiger",
          "Pharma-Chef kündigt wirksame Impfstoffe an",
          "Corona heute weniger tödlich als im März?",
          "Kommt der Corona-Impfstoff noch dieses Jahr?",
          "US-Arzneimittelbehörde lässt Remdesivir gegen Covid-19 zu",
          "Wo stecken wir uns hauptsächlich mit Corona an?"
         ],
         "legendgroup": "Corona| US| Deutschland| Pandemie| Remdesivir",
         "marker": {
          "color": "#FFA15A",
          "line": {
           "color": "DarkSlateGrey",
           "width": 0.15
          },
          "opacity": 0.8,
          "size": 9,
          "symbol": "circle"
         },
         "mode": "markers",
         "name": "Corona| US| Deutschland| Pandemie| Remdesivir",
         "orientation": "v",
         "showlegend": true,
         "type": "scatter",
         "x": [
          4.154802322387695,
          3.925374746322632,
          3.9109556674957275,
          3.655146598815918,
          3.923190116882324,
          4.013525009155273,
          3.728910207748413,
          4.048007488250732
         ],
         "xaxis": "x",
         "y": [
          0.19759072363376617,
          0.23448112607002258,
          0.8237479329109192,
          0.6346204280853271,
          0.1786404401063919,
          0.12630167603492737,
          0.19739112257957458,
          0.5709400773048401
         ],
         "yaxis": "y"
        },
        {
         "customdata": [
          [
           "2020-10-22",
           "Derby| Schalke| BVB| Interview| Härte",
           1
          ],
          [
           "2020-10-22",
           "Derby| Schalke| BVB| Interview| Härte",
           1
          ],
          [
           "2020-10-22",
           "Derby| Schalke| BVB| Interview| Härte",
           1
          ]
         ],
         "hovertemplate": "<b>%{hovertext}</b><br><br>TopWords=%{customdata[1]}<br>x=%{x}<br>y=%{y}<br>created_at=%{customdata[0]}<br>topic_number=%{customdata[2]}<extra></extra>",
         "hovertext": [
          "Wichtig, im  Derby „mit der richtigen Härte zu agieren“",
          "Favre eiert vorm Derby rum",
          "Keller verzichtet, Koch und Peters kandidieren"
         ],
         "legendgroup": "Derby| Schalke| BVB| Interview| Härte",
         "marker": {
          "color": "#19d3f3",
          "line": {
           "color": "DarkSlateGrey",
           "width": 0.15
          },
          "opacity": 0.8,
          "size": 9,
          "symbol": "circle"
         },
         "mode": "markers",
         "name": "Derby| Schalke| BVB| Interview| Härte",
         "orientation": "v",
         "showlegend": true,
         "type": "scatter",
         "x": [
          2.7807891368865967,
          2.5211381912231445,
          3.1684069633483887
         ],
         "xaxis": "x",
         "y": [
          1.6250532865524292,
          1.52420175075531,
          1.5445042848587036
         ],
         "yaxis": "y"
        },
        {
         "customdata": [
          [
           "2020-10-22",
           "Glücksfall| Stürmer| Personalnot| NFL| Rasen",
           9
          ],
          [
           "2020-10-22",
           "Glücksfall| Stürmer| Personalnot| NFL| Rasen",
           9
          ],
          [
           "2020-10-22",
           "Glücksfall| Stürmer| Personalnot| NFL| Rasen",
           9
          ]
         ],
         "hovertemplate": "<b>%{hovertext}</b><br><br>TopWords=%{customdata[1]}<br>x=%{x}<br>y=%{y}<br>created_at=%{customdata[0]}<br>topic_number=%{customdata[2]}<extra></extra>",
         "hovertext": [
          "Halles linkes Ding",
          "Lohkemper dreht voll auf!",
          "Miamis Play-off-Chance heißtTua Tagovailoa"
         ],
         "legendgroup": "Glücksfall| Stürmer| Personalnot| NFL| Rasen",
         "marker": {
          "color": "#FF6692",
          "line": {
           "color": "DarkSlateGrey",
           "width": 0.15
          },
          "opacity": 0.8,
          "size": 9,
          "symbol": "circle"
         },
         "mode": "markers",
         "name": "Glücksfall| Stürmer| Personalnot| NFL| Rasen",
         "orientation": "v",
         "showlegend": true,
         "type": "scatter",
         "x": [
          2.7979187965393066,
          2.4119255542755127,
          2.345797300338745
         ],
         "xaxis": "x",
         "y": [
          2.9901881217956543,
          2.813148260116577,
          2.9267234802246094
         ],
         "yaxis": "y"
        }
       ],
       "layout": {
        "autosize": true,
        "legend": {
         "title": {
          "text": "TopWords"
         },
         "tracegroupgap": 0
        },
        "margin": {
         "t": 60
        },
        "template": {
         "data": {
          "bar": [
           {
            "error_x": {
             "color": "#2a3f5f"
            },
            "error_y": {
             "color": "#2a3f5f"
            },
            "marker": {
             "line": {
              "color": "#E5ECF6",
              "width": 0.5
             }
            },
            "type": "bar"
           }
          ],
          "barpolar": [
           {
            "marker": {
             "line": {
              "color": "#E5ECF6",
              "width": 0.5
             }
            },
            "type": "barpolar"
           }
          ],
          "carpet": [
           {
            "aaxis": {
             "endlinecolor": "#2a3f5f",
             "gridcolor": "white",
             "linecolor": "white",
             "minorgridcolor": "white",
             "startlinecolor": "#2a3f5f"
            },
            "baxis": {
             "endlinecolor": "#2a3f5f",
             "gridcolor": "white",
             "linecolor": "white",
             "minorgridcolor": "white",
             "startlinecolor": "#2a3f5f"
            },
            "type": "carpet"
           }
          ],
          "choropleth": [
           {
            "colorbar": {
             "outlinewidth": 0,
             "ticks": ""
            },
            "type": "choropleth"
           }
          ],
          "contour": [
           {
            "colorbar": {
             "outlinewidth": 0,
             "ticks": ""
            },
            "colorscale": [
             [
              0,
              "#0d0887"
             ],
             [
              0.1111111111111111,
              "#46039f"
             ],
             [
              0.2222222222222222,
              "#7201a8"
             ],
             [
              0.3333333333333333,
              "#9c179e"
             ],
             [
              0.4444444444444444,
              "#bd3786"
             ],
             [
              0.5555555555555556,
              "#d8576b"
             ],
             [
              0.6666666666666666,
              "#ed7953"
             ],
             [
              0.7777777777777778,
              "#fb9f3a"
             ],
             [
              0.8888888888888888,
              "#fdca26"
             ],
             [
              1,
              "#f0f921"
             ]
            ],
            "type": "contour"
           }
          ],
          "contourcarpet": [
           {
            "colorbar": {
             "outlinewidth": 0,
             "ticks": ""
            },
            "type": "contourcarpet"
           }
          ],
          "heatmap": [
           {
            "colorbar": {
             "outlinewidth": 0,
             "ticks": ""
            },
            "colorscale": [
             [
              0,
              "#0d0887"
             ],
             [
              0.1111111111111111,
              "#46039f"
             ],
             [
              0.2222222222222222,
              "#7201a8"
             ],
             [
              0.3333333333333333,
              "#9c179e"
             ],
             [
              0.4444444444444444,
              "#bd3786"
             ],
             [
              0.5555555555555556,
              "#d8576b"
             ],
             [
              0.6666666666666666,
              "#ed7953"
             ],
             [
              0.7777777777777778,
              "#fb9f3a"
             ],
             [
              0.8888888888888888,
              "#fdca26"
             ],
             [
              1,
              "#f0f921"
             ]
            ],
            "type": "heatmap"
           }
          ],
          "heatmapgl": [
           {
            "colorbar": {
             "outlinewidth": 0,
             "ticks": ""
            },
            "colorscale": [
             [
              0,
              "#0d0887"
             ],
             [
              0.1111111111111111,
              "#46039f"
             ],
             [
              0.2222222222222222,
              "#7201a8"
             ],
             [
              0.3333333333333333,
              "#9c179e"
             ],
             [
              0.4444444444444444,
              "#bd3786"
             ],
             [
              0.5555555555555556,
              "#d8576b"
             ],
             [
              0.6666666666666666,
              "#ed7953"
             ],
             [
              0.7777777777777778,
              "#fb9f3a"
             ],
             [
              0.8888888888888888,
              "#fdca26"
             ],
             [
              1,
              "#f0f921"
             ]
            ],
            "type": "heatmapgl"
           }
          ],
          "histogram": [
           {
            "marker": {
             "colorbar": {
              "outlinewidth": 0,
              "ticks": ""
             }
            },
            "type": "histogram"
           }
          ],
          "histogram2d": [
           {
            "colorbar": {
             "outlinewidth": 0,
             "ticks": ""
            },
            "colorscale": [
             [
              0,
              "#0d0887"
             ],
             [
              0.1111111111111111,
              "#46039f"
             ],
             [
              0.2222222222222222,
              "#7201a8"
             ],
             [
              0.3333333333333333,
              "#9c179e"
             ],
             [
              0.4444444444444444,
              "#bd3786"
             ],
             [
              0.5555555555555556,
              "#d8576b"
             ],
             [
              0.6666666666666666,
              "#ed7953"
             ],
             [
              0.7777777777777778,
              "#fb9f3a"
             ],
             [
              0.8888888888888888,
              "#fdca26"
             ],
             [
              1,
              "#f0f921"
             ]
            ],
            "type": "histogram2d"
           }
          ],
          "histogram2dcontour": [
           {
            "colorbar": {
             "outlinewidth": 0,
             "ticks": ""
            },
            "colorscale": [
             [
              0,
              "#0d0887"
             ],
             [
              0.1111111111111111,
              "#46039f"
             ],
             [
              0.2222222222222222,
              "#7201a8"
             ],
             [
              0.3333333333333333,
              "#9c179e"
             ],
             [
              0.4444444444444444,
              "#bd3786"
             ],
             [
              0.5555555555555556,
              "#d8576b"
             ],
             [
              0.6666666666666666,
              "#ed7953"
             ],
             [
              0.7777777777777778,
              "#fb9f3a"
             ],
             [
              0.8888888888888888,
              "#fdca26"
             ],
             [
              1,
              "#f0f921"
             ]
            ],
            "type": "histogram2dcontour"
           }
          ],
          "mesh3d": [
           {
            "colorbar": {
             "outlinewidth": 0,
             "ticks": ""
            },
            "type": "mesh3d"
           }
          ],
          "parcoords": [
           {
            "line": {
             "colorbar": {
              "outlinewidth": 0,
              "ticks": ""
             }
            },
            "type": "parcoords"
           }
          ],
          "pie": [
           {
            "automargin": true,
            "type": "pie"
           }
          ],
          "scatter": [
           {
            "marker": {
             "colorbar": {
              "outlinewidth": 0,
              "ticks": ""
             }
            },
            "type": "scatter"
           }
          ],
          "scatter3d": [
           {
            "line": {
             "colorbar": {
              "outlinewidth": 0,
              "ticks": ""
             }
            },
            "marker": {
             "colorbar": {
              "outlinewidth": 0,
              "ticks": ""
             }
            },
            "type": "scatter3d"
           }
          ],
          "scattercarpet": [
           {
            "marker": {
             "colorbar": {
              "outlinewidth": 0,
              "ticks": ""
             }
            },
            "type": "scattercarpet"
           }
          ],
          "scattergeo": [
           {
            "marker": {
             "colorbar": {
              "outlinewidth": 0,
              "ticks": ""
             }
            },
            "type": "scattergeo"
           }
          ],
          "scattergl": [
           {
            "marker": {
             "colorbar": {
              "outlinewidth": 0,
              "ticks": ""
             }
            },
            "type": "scattergl"
           }
          ],
          "scattermapbox": [
           {
            "marker": {
             "colorbar": {
              "outlinewidth": 0,
              "ticks": ""
             }
            },
            "type": "scattermapbox"
           }
          ],
          "scatterpolar": [
           {
            "marker": {
             "colorbar": {
              "outlinewidth": 0,
              "ticks": ""
             }
            },
            "type": "scatterpolar"
           }
          ],
          "scatterpolargl": [
           {
            "marker": {
             "colorbar": {
              "outlinewidth": 0,
              "ticks": ""
             }
            },
            "type": "scatterpolargl"
           }
          ],
          "scatterternary": [
           {
            "marker": {
             "colorbar": {
              "outlinewidth": 0,
              "ticks": ""
             }
            },
            "type": "scatterternary"
           }
          ],
          "surface": [
           {
            "colorbar": {
             "outlinewidth": 0,
             "ticks": ""
            },
            "colorscale": [
             [
              0,
              "#0d0887"
             ],
             [
              0.1111111111111111,
              "#46039f"
             ],
             [
              0.2222222222222222,
              "#7201a8"
             ],
             [
              0.3333333333333333,
              "#9c179e"
             ],
             [
              0.4444444444444444,
              "#bd3786"
             ],
             [
              0.5555555555555556,
              "#d8576b"
             ],
             [
              0.6666666666666666,
              "#ed7953"
             ],
             [
              0.7777777777777778,
              "#fb9f3a"
             ],
             [
              0.8888888888888888,
              "#fdca26"
             ],
             [
              1,
              "#f0f921"
             ]
            ],
            "type": "surface"
           }
          ],
          "table": [
           {
            "cells": {
             "fill": {
              "color": "#EBF0F8"
             },
             "line": {
              "color": "white"
             }
            },
            "header": {
             "fill": {
              "color": "#C8D4E3"
             },
             "line": {
              "color": "white"
             }
            },
            "type": "table"
           }
          ]
         },
         "layout": {
          "annotationdefaults": {
           "arrowcolor": "#2a3f5f",
           "arrowhead": 0,
           "arrowwidth": 1
          },
          "coloraxis": {
           "colorbar": {
            "outlinewidth": 0,
            "ticks": ""
           }
          },
          "colorscale": {
           "diverging": [
            [
             0,
             "#8e0152"
            ],
            [
             0.1,
             "#c51b7d"
            ],
            [
             0.2,
             "#de77ae"
            ],
            [
             0.3,
             "#f1b6da"
            ],
            [
             0.4,
             "#fde0ef"
            ],
            [
             0.5,
             "#f7f7f7"
            ],
            [
             0.6,
             "#e6f5d0"
            ],
            [
             0.7,
             "#b8e186"
            ],
            [
             0.8,
             "#7fbc41"
            ],
            [
             0.9,
             "#4d9221"
            ],
            [
             1,
             "#276419"
            ]
           ],
           "sequential": [
            [
             0,
             "#0d0887"
            ],
            [
             0.1111111111111111,
             "#46039f"
            ],
            [
             0.2222222222222222,
             "#7201a8"
            ],
            [
             0.3333333333333333,
             "#9c179e"
            ],
            [
             0.4444444444444444,
             "#bd3786"
            ],
            [
             0.5555555555555556,
             "#d8576b"
            ],
            [
             0.6666666666666666,
             "#ed7953"
            ],
            [
             0.7777777777777778,
             "#fb9f3a"
            ],
            [
             0.8888888888888888,
             "#fdca26"
            ],
            [
             1,
             "#f0f921"
            ]
           ],
           "sequentialminus": [
            [
             0,
             "#0d0887"
            ],
            [
             0.1111111111111111,
             "#46039f"
            ],
            [
             0.2222222222222222,
             "#7201a8"
            ],
            [
             0.3333333333333333,
             "#9c179e"
            ],
            [
             0.4444444444444444,
             "#bd3786"
            ],
            [
             0.5555555555555556,
             "#d8576b"
            ],
            [
             0.6666666666666666,
             "#ed7953"
            ],
            [
             0.7777777777777778,
             "#fb9f3a"
            ],
            [
             0.8888888888888888,
             "#fdca26"
            ],
            [
             1,
             "#f0f921"
            ]
           ]
          },
          "colorway": [
           "#636efa",
           "#EF553B",
           "#00cc96",
           "#ab63fa",
           "#FFA15A",
           "#19d3f3",
           "#FF6692",
           "#B6E880",
           "#FF97FF",
           "#FECB52"
          ],
          "font": {
           "color": "#2a3f5f"
          },
          "geo": {
           "bgcolor": "white",
           "lakecolor": "white",
           "landcolor": "#E5ECF6",
           "showlakes": true,
           "showland": true,
           "subunitcolor": "white"
          },
          "hoverlabel": {
           "align": "left"
          },
          "hovermode": "closest",
          "mapbox": {
           "style": "light"
          },
          "paper_bgcolor": "white",
          "plot_bgcolor": "#E5ECF6",
          "polar": {
           "angularaxis": {
            "gridcolor": "white",
            "linecolor": "white",
            "ticks": ""
           },
           "bgcolor": "#E5ECF6",
           "radialaxis": {
            "gridcolor": "white",
            "linecolor": "white",
            "ticks": ""
           }
          },
          "scene": {
           "xaxis": {
            "backgroundcolor": "#E5ECF6",
            "gridcolor": "white",
            "gridwidth": 2,
            "linecolor": "white",
            "showbackground": true,
            "ticks": "",
            "zerolinecolor": "white"
           },
           "yaxis": {
            "backgroundcolor": "#E5ECF6",
            "gridcolor": "white",
            "gridwidth": 2,
            "linecolor": "white",
            "showbackground": true,
            "ticks": "",
            "zerolinecolor": "white"
           },
           "zaxis": {
            "backgroundcolor": "#E5ECF6",
            "gridcolor": "white",
            "gridwidth": 2,
            "linecolor": "white",
            "showbackground": true,
            "ticks": "",
            "zerolinecolor": "white"
           }
          },
          "shapedefaults": {
           "line": {
            "color": "#2a3f5f"
           }
          },
          "ternary": {
           "aaxis": {
            "gridcolor": "white",
            "linecolor": "white",
            "ticks": ""
           },
           "baxis": {
            "gridcolor": "white",
            "linecolor": "white",
            "ticks": ""
           },
           "bgcolor": "#E5ECF6",
           "caxis": {
            "gridcolor": "white",
            "linecolor": "white",
            "ticks": ""
           }
          },
          "title": {
           "x": 0.05
          },
          "xaxis": {
           "automargin": true,
           "gridcolor": "white",
           "linecolor": "white",
           "ticks": "",
           "title": {
            "standoff": 15
           },
           "zerolinecolor": "white",
           "zerolinewidth": 2
          },
          "yaxis": {
           "automargin": true,
           "gridcolor": "white",
           "linecolor": "white",
           "ticks": "",
           "title": {
            "standoff": 15
           },
           "zerolinecolor": "white",
           "zerolinewidth": 2
          }
         }
        },
        "xaxis": {
         "anchor": "y",
         "autorange": true,
         "domain": [
          0,
          1
         ],
         "range": [
          1.5395149265632249,
          4.859539123882332
         ],
         "title": {
          "text": "x"
         },
         "type": "linear"
        },
        "yaxis": {
         "anchor": "x",
         "autorange": true,
         "domain": [
          0,
          1
         ],
         "range": [
          -0.08690377725553841,
          3.683927890195373
         ],
         "title": {
          "text": "y"
         },
         "type": "linear"
        }
       }
      },
      "image/png": "[encoded data removed]",
      "text/html": [
       "<div>                            <div id=\"15fdf165-1751-439d-bb8e-6c96e9c27331\" class=\"plotly-graph-div\" style=\"height:1000px; width:100%;\"></div>            <script type=\"text/javascript\">                require([\"plotly\"], function(Plotly) {                    window.PLOTLYENV=window.PLOTLYENV || {};                                    if (document.getElementById(\"15fdf165-1751-439d-bb8e-6c96e9c27331\")) {                    Plotly.newPlot(                        \"15fdf165-1751-439d-bb8e-6c96e9c27331\",                        [{\"customdata\": [[\"2020-10-22\", \"Wahl| Trump| Biden| TV-Duell| US\", 0], [\"2020-10-23\", \"Wahl| Trump| Biden| TV-Duell| US\", 0], [\"2020-10-23\", \"Wahl| Trump| Biden| TV-Duell| US\", 0], [\"2020-10-22\", \"Wahl| Trump| Biden| TV-Duell| US\", 0]], \"hovertemplate\": \"<b>%{hovertext}</b><br><br>TopWords=%{customdata[1]}<br>x=%{x}<br>y=%{y}<br>created_at=%{customdata[0]}<br>topic_number=%{customdata[2]}<extra></extra>\", \"hovertext\": [\"USA steuern auf h\\u00f6chste Wahlbeteiligung seit \\u00fcber Hundert Jahren zu\", \"Trump und Biden fetzen sich ums Wei\\u00dfe Haus\", \"\\u201eIch schaue DICH an, Joe!\\u201c\", \"Die letzte Rede-Schlacht vor der wichtigsten Wahl der Welt\"], \"legendgroup\": \"Wahl| Trump| Biden| TV-Duell| US\", \"marker\": {\"color\": \"#636efa\", \"line\": {\"color\": \"DarkSlateGrey\", \"width\": 0.15}, \"opacity\": 0.8, \"size\": 9, \"symbol\": \"circle\"}, \"mode\": \"markers\", \"name\": \"Wahl| Trump| Biden| TV-Duell| US\", \"orientation\": \"v\", \"showlegend\": true, \"type\": \"scatter\", \"x\": [4.202300548553467, 3.9693660736083984, 3.9749510288238525, 3.7771410942077637], \"xaxis\": \"x\", \"y\": [1.1575499773025513, 0.7604808211326599, 1.1421781778335571, 1.0375102758407593], \"yaxis\": \"y\"}, {\"customdata\": [[\"2020-10-22\", \"HSV| Trainer| Spieler| Fans| Biografie\", 8], [\"2020-10-22\", \"HSV| Trainer| Spieler| Fans| Biografie\", 8], [\"2020-10-22\", \"HSV| Trainer| Spieler| Fans| Biografie\", 8], [\"2020-10-22\", \"HSV| Trainer| Spieler| Fans| Biografie\", 8], [\"2020-10-22\", \"HSV| Trainer| Spieler| Fans| Biografie\", 8], [\"2020-10-22\", \"HSV| Trainer| Spieler| Fans| Biografie\", 8], [\"2020-10-22\", \"HSV| Trainer| Spieler| Fans| Biografie\", 8], [\"2020-10-22\", \"HSV| Trainer| Spieler| Fans| Biografie\", 8], [\"2020-10-22\", \"HSV| Trainer| Spieler| Fans| Biografie\", 8], [\"2020-10-22\", \"HSV| Trainer| Spieler| Fans| Biografie\", 8]], \"hovertemplate\": \"<b>%{hovertext}</b><br><br>TopWords=%{customdata[1]}<br>x=%{x}<br>y=%{y}<br>created_at=%{customdata[0]}<br>topic_number=%{customdata[2]}<extra></extra>\", \"hovertext\": [\"Kann Thioune es besser als Hecking?\", \"Bayers Baller-Show\", \"Cary Grant war bisexuell und auf LSD\", \"Weinkauf hat Aufstiegs-Trauma abgehakt\", \"Hofmann spielt sich bei Jogi fest\", \"Dieser Nackedei isteine Botschaft\", \"Hier wird jetztHollywood verramscht\", \"Lange ist Jenas Kompaniechef\", \"\\u00dcber die W\\u00f6lfe zu L\\u00f6w\", \"Darum passt Litkaso gut zu Hansa\"], \"legendgroup\": \"HSV| Trainer| Spieler| Fans| Biografie\", \"marker\": {\"color\": \"#EF553B\", \"line\": {\"color\": \"DarkSlateGrey\", \"width\": 0.15}, \"opacity\": 0.8, \"size\": 9, \"symbol\": \"circle\"}, \"mode\": \"markers\", \"name\": \"HSV| Trainer| Spieler| Fans| Biografie\", \"orientation\": \"v\", \"showlegend\": true, \"type\": \"scatter\", \"x\": [1.7169103622436523, 2.064136505126953, 3.729323148727417, 2.0015053749084473, 2.461214303970337, 3.4403202533721924, 3.4023354053497314, 2.593190908432007, 2.585984945297241, 2.2821638584136963], \"xaxis\": \"x\", \"y\": [2.809673547744751, 2.7726199626922607, 2.896010398864746, 3.066469430923462, 3.422394275665283, 3.274848461151123, 3.100466012954712, 2.705192804336548, 3.4707224369049072, 3.158215284347534], \"yaxis\": \"y\"}, {\"customdata\": [[\"2020-10-22\", \"Kunstwerk| US| Russland| Ausstellung| Barkasse\", 13], [\"2020-10-22\", \"Kunstwerk| US| Russland| Ausstellung| Barkasse\", 13], [\"2020-10-22\", \"Kunstwerk| US| Russland| Ausstellung| Barkasse\", 13], [\"2020-10-22\", \"Kunstwerk| US| Russland| Ausstellung| Barkasse\", 13]], \"hovertemplate\": \"<b>%{hovertext}</b><br><br>TopWords=%{customdata[1]}<br>x=%{x}<br>y=%{y}<br>created_at=%{customdata[0]}<br>topic_number=%{customdata[2]}<extra></extra>\", \"hovertext\": [\"Snowden erh\\u00e4lt unbefristeten Aufenthalt in Russland\", \"Beuys-Kunstwerk aus Ausstellung verschwunden\", \"Todes-Drama um Zirkus-Elefanten\", \"Bruch in der Barkasse\"], \"legendgroup\": \"Kunstwerk| US| Russland| Ausstellung| Barkasse\", \"marker\": {\"color\": \"#00cc96\", \"line\": {\"color\": \"DarkSlateGrey\", \"width\": 0.15}, \"opacity\": 0.8, \"size\": 9, \"symbol\": \"circle\"}, \"mode\": \"markers\", \"name\": \"Kunstwerk| US| Russland| Ausstellung| Barkasse\", \"orientation\": \"v\", \"showlegend\": true, \"type\": \"scatter\", \"x\": [4.682143688201904, 3.973602056503296, 4.2187604904174805, 4.483811378479004], \"xaxis\": \"x\", \"y\": [2.2797834873199463, 2.851685047149658, 2.7384796142578125, 2.407140016555786], \"yaxis\": \"y\"}, {\"customdata\": [[\"2020-10-22\", \"Trainer| Spiel| Europa| Platz| Fl\\u00fcgel-Fight\", 7], [\"2020-10-22\", \"Trainer| Spiel| Europa| Platz| Fl\\u00fcgel-Fight\", 7], [\"2020-10-22\", \"Trainer| Spiel| Europa| Platz| Fl\\u00fcgel-Fight\", 7], [\"2020-10-22\", \"Trainer| Spiel| Europa| Platz| Fl\\u00fcgel-Fight\", 7], [\"2020-10-22\", \"Trainer| Spiel| Europa| Platz| Fl\\u00fcgel-Fight\", 7], [\"2020-10-22\", \"Trainer| Spiel| Europa| Platz| Fl\\u00fcgel-Fight\", 7], [\"2020-10-22\", \"Trainer| Spiel| Europa| Platz| Fl\\u00fcgel-Fight\", 7], [\"2020-10-22\", \"Trainer| Spiel| Europa| Platz| Fl\\u00fcgel-Fight\", 7]], \"hovertemplate\": \"<b>%{hovertext}</b><br><br>TopWords=%{customdata[1]}<br>x=%{x}<br>y=%{y}<br>created_at=%{customdata[0]}<br>topic_number=%{customdata[2]}<extra></extra>\", \"hovertext\": [\"Boateng muss mitHand-Schiene trainieren\", \"Der MOTZivator!\", \"Ernst ist Ho\\u00dfmangsHoffnungstr\\u00e4ger\", \"Peter Kadiru wird zum Schl\\u00e4ger-Typ\", \"G\\u00f6tze trifft auch in Europa\", \"Coman erste Sahne! Aber jetzt kommt San\\u00e9\", \"So sehen Sie den Cl\\u00e1sico live im TV\", \"Jones zieht zur\\u00fccknach Frankfurt\"], \"legendgroup\": \"Trainer| Spiel| Europa| Platz| Fl\\u00fcgel-Fight\", \"marker\": {\"color\": \"#ab63fa\", \"line\": {\"color\": \"DarkSlateGrey\", \"width\": 0.15}, \"opacity\": 0.8, \"size\": 9, \"symbol\": \"circle\"}, \"mode\": \"markers\", \"name\": \"Trainer| Spiel| Europa| Platz| Fl\\u00fcgel-Fight\", \"orientation\": \"v\", \"showlegend\": true, \"type\": \"scatter\", \"x\": [3.1689398288726807, 3.181771755218506, 2.8600449562072754, 3.5611917972564697, 3.0628137588500977, 3.3365695476531982, 3.0111677646636963, 2.8636932373046875], \"xaxis\": \"x\", \"y\": [1.8815351724624634, 2.6246771812438965, 1.7402708530426025, 2.446629047393799, 3.0037312507629395, 2.180077075958252, 2.488693952560425, 2.513408899307251], \"yaxis\": \"y\"}, {\"customdata\": [[\"2020-10-22\", \"Spiel| K\\u00f6ln| Corona| Bundesliga| Zuschauer\", 2], [\"2020-10-22\", \"Spiel| K\\u00f6ln| Corona| Bundesliga| Zuschauer\", 2], [\"2020-10-22\", \"Spiel| K\\u00f6ln| Corona| Bundesliga| Zuschauer\", 2], [\"2020-10-22\", \"Spiel| K\\u00f6ln| Corona| Bundesliga| Zuschauer\", 2], [\"2020-10-22\", \"Spiel| K\\u00f6ln| Corona| Bundesliga| Zuschauer\", 2], [\"2020-10-22\", \"Spiel| K\\u00f6ln| Corona| Bundesliga| Zuschauer\", 2], [\"2020-10-22\", \"Spiel| K\\u00f6ln| Corona| Bundesliga| Zuschauer\", 2]], \"hovertemplate\": \"<b>%{hovertext}</b><br><br>TopWords=%{customdata[1]}<br>x=%{x}<br>y=%{y}<br>created_at=%{customdata[0]}<br>topic_number=%{customdata[2]}<extra></extra>\", \"hovertext\": [\"So sehen Sie Stuttgart gegen K\\u00f6ln live im TV\", \"Anfang hilft 1. Spiel ohne Zuschauer\", \"Der Uefa fehlen 470 Mio Euro\", \"SCHR\\u00d6DER spricht wiedervon GEHALTSVERZICHT\", \"Kampf-Kandidatur umVize-Posten sorgt f\\u00fcr Krach\", \"Werder ohne Augustinssongegen Hoffenheim\", \"Haie brauchen1 Million Euro\"], \"legendgroup\": \"Spiel| K\\u00f6ln| Corona| Bundesliga| Zuschauer\", \"marker\": {\"color\": \"#FFA15A\", \"line\": {\"color\": \"DarkSlateGrey\", \"width\": 0.15}, \"opacity\": 0.8, \"size\": 9, \"symbol\": \"circle\"}, \"mode\": \"markers\", \"name\": \"Spiel| K\\u00f6ln| Corona| Bundesliga| Zuschauer\", \"orientation\": \"v\", \"showlegend\": true, \"type\": \"scatter\", \"x\": [2.2357804775238037, 2.0038578510284424, 2.151902198791504, 2.1845786571502686, 2.777346611022949, 2.4259560108184814, 2.470635175704956], \"xaxis\": \"x\", \"y\": [1.0428670644760132, 1.666547179222107, 1.326835036277771, 1.6437464952468872, 1.7796412706375122, 1.260792851448059, 1.310516119003296], \"yaxis\": \"y\"}, {\"customdata\": [[\"2020-10-22\", \"Corona| Test| Krankenhaus| Gnabry| Intensivstation\", 12], [\"2020-10-22\", \"Corona| Test| Krankenhaus| Gnabry| Intensivstation\", 12], [\"2020-10-22\", \"Corona| Test| Krankenhaus| Gnabry| Intensivstation\", 12], [\"2020-10-22\", \"Corona| Test| Krankenhaus| Gnabry| Intensivstation\", 12], [\"2020-10-22\", \"Corona| Test| Krankenhaus| Gnabry| Intensivstation\", 12]], \"hovertemplate\": \"<b>%{hovertext}</b><br><br>TopWords=%{customdata[1]}<br>x=%{x}<br>y=%{y}<br>created_at=%{customdata[0]}<br>topic_number=%{customdata[2]}<extra></extra>\", \"hovertext\": [\"Belgiens Au\\u00dfenministerin auf Intensivstation!\", \"Corona-Alarm beim Thai-K\\u00f6nig!\", \"Zweiter Corona-Fall beim FC Bayern\", \"Wie gut warnte die Warn-App Spahns Kontakte?\", \"2. Gnabry-Test negativ!\"], \"legendgroup\": \"Corona| Test| Krankenhaus| Gnabry| Intensivstation\", \"marker\": {\"color\": \"#19d3f3\", \"line\": {\"color\": \"DarkSlateGrey\", \"width\": 0.15}, \"opacity\": 0.8, \"size\": 9, \"symbol\": \"circle\"}, \"mode\": \"markers\", \"name\": \"Corona| Test| Krankenhaus| Gnabry| Intensivstation\", \"orientation\": \"v\", \"showlegend\": true, \"type\": \"scatter\", \"x\": [3.163804531097412, 3.24816632270813, 2.8408260345458984, 3.3474271297454834, 2.9039924144744873], \"xaxis\": \"x\", \"y\": [0.18859829008579254, 0.3331458866596222, 0.5546004176139832, 0.5895959138870239, 0.47059062123298645], \"yaxis\": \"y\"}, {\"customdata\": [[\"2020-10-22\", \"Corona| Test| Quarant\\u00e4ne| Werder| Fall\", 11], [\"2020-10-22\", \"Corona| Test| Quarant\\u00e4ne| Werder| Fall\", 11], [\"2020-10-22\", \"Corona| Test| Quarant\\u00e4ne| Werder| Fall\", 11], [\"2020-10-22\", \"Corona| Test| Quarant\\u00e4ne| Werder| Fall\", 11], [\"2020-10-22\", \"Corona| Test| Quarant\\u00e4ne| Werder| Fall\", 11], [\"2020-10-22\", \"Corona| Test| Quarant\\u00e4ne| Werder| Fall\", 11], [\"2020-10-22\", \"Corona| Test| Quarant\\u00e4ne| Werder| Fall\", 11], [\"2020-10-22\", \"Corona| Test| Quarant\\u00e4ne| Werder| Fall\", 11]], \"hovertemplate\": \"<b>%{hovertext}</b><br><br>TopWords=%{customdata[1]}<br>x=%{x}<br>y=%{y}<br>created_at=%{customdata[0]}<br>topic_number=%{customdata[2]}<extra></extra>\", \"hovertext\": [\"Erneut positiver Corona-Test bei Ronaldo\", \"So geht es bei Corona-Werder jetzt weiter\", \"Behrens vor Trainings-Comeback\", \"Angeklagte legen Gest\\u00e4ndnis ab\", \"So erkl\\u00e4rt der Formel-1-Pilot sein Corona-Problem\", \"Staatsanwalt rechtfertigt das Schlagen von Kindern\", \"Darf man das Umgangsrecht des Kindes verweigern?\", \"Warum geht Werder freiwillig in Quarant\\u00e4ne?\"], \"legendgroup\": \"Corona| Test| Quarant\\u00e4ne| Werder| Fall\", \"marker\": {\"color\": \"#FF6692\", \"line\": {\"color\": \"DarkSlateGrey\", \"width\": 0.15}, \"opacity\": 0.8, \"size\": 9, \"symbol\": \"circle\"}, \"mode\": \"markers\", \"name\": \"Corona| Test| Quarant\\u00e4ne| Werder| Fall\", \"orientation\": \"v\", \"showlegend\": true, \"type\": \"scatter\", \"x\": [2.708416223526001, 3.0365562438964844, 2.8438403606414795, 3.1546988487243652, 2.566788673400879, 2.956693410873413, 3.5310800075531006, 2.941533327102661], \"xaxis\": \"x\", \"y\": [0.23692604899406433, 0.5594395995140076, 0.7146367430686951, 1.1542174816131592, 0.5483289957046509, 1.234676480293274, 0.4861556589603424, 0.9104994535446167], \"yaxis\": \"y\"}, {\"customdata\": [[\"2020-10-22\", \"\\u00dcberwachungskamera| Brustsponsor| Liebe| Love Island| Modell\", -1], [\"2020-10-22\", \"\\u00dcberwachungskamera| Brustsponsor| Liebe| Love Island| Modell\", -1], [\"2020-10-22\", \"\\u00dcberwachungskamera| Brustsponsor| Liebe| Love Island| Modell\", -1], [\"2020-10-22\", \"\\u00dcberwachungskamera| Brustsponsor| Liebe| Love Island| Modell\", -1], [\"2020-10-22\", \"\\u00dcberwachungskamera| Brustsponsor| Liebe| Love Island| Modell\", -1], [\"2020-10-22\", \"\\u00dcberwachungskamera| Brustsponsor| Liebe| Love Island| Modell\", -1], [\"2020-10-22\", \"\\u00dcberwachungskamera| Brustsponsor| Liebe| Love Island| Modell\", -1], [\"2020-10-22\", \"\\u00dcberwachungskamera| Brustsponsor| Liebe| Love Island| Modell\", -1]], \"hovertemplate\": \"<b>%{hovertext}</b><br><br>TopWords=%{customdata[1]}<br>x=%{x}<br>y=%{y}<br>created_at=%{customdata[0]}<br>topic_number=%{customdata[2]}<extra></extra>\", \"hovertext\": [\"\\u00dcberwachungskamera zeigt Blitz-Raub!\", \"Hoffenheim feiert irren Baby-Sieg\", \"Waldhof krallt sich  neuen Brustsponsor\", \"PEL\\u00c9 80!\", \"Eine Liebe ist schon verpufft!\", \"Modell sagt 26 000 Neuinfektionen am Tag voraus\", \"Lieber Chaos-Flughafern Berlin,\", \"Ex-Neonazi mit Ged\\u00e4chtnisschwund\"], \"legendgroup\": \"\\u00dcberwachungskamera| Brustsponsor| Liebe| Love Island| Modell\", \"marker\": {\"color\": \"#B6E880\", \"line\": {\"color\": \"DarkSlateGrey\", \"width\": 0.15}, \"opacity\": 0.8, \"size\": 9, \"symbol\": \"circle\"}, \"mode\": \"markers\", \"name\": \"\\u00dcberwachungskamera| Brustsponsor| Liebe| Love Island| Modell\", \"orientation\": \"v\", \"showlegend\": true, \"type\": \"scatter\", \"x\": [4.310112953186035, 1.8164730072021484, 2.710236072540283, 3.678260326385498, 2.438502311706543, 4.4208760261535645, 2.0011513233184814, 4.020732879638672], \"xaxis\": \"x\", \"y\": [2.138575792312622, 2.559781074523926, 1.610260248184204, 3.100365400314331, 2.5328783988952637, 0.41649776697158813, 2.0885279178619385, 2.049837589263916], \"yaxis\": \"y\"}, {\"customdata\": [[\"2020-10-22\", \"Wohnung| Berlin| Laura| Wendler| Florida\", 5], [\"2020-10-22\", \"Wohnung| Berlin| Laura| Wendler| Florida\", 5], [\"2020-10-22\", \"Wohnung| Berlin| Laura| Wendler| Florida\", 5], [\"2020-10-22\", \"Wohnung| Berlin| Laura| Wendler| Florida\", 5], [\"2020-10-22\", \"Wohnung| Berlin| Laura| Wendler| Florida\", 5]], \"hovertemplate\": \"<b>%{hovertext}</b><br><br>TopWords=%{customdata[1]}<br>x=%{x}<br>y=%{y}<br>created_at=%{customdata[0]}<br>topic_number=%{customdata[2]}<extra></extra>\", \"hovertext\": [\"Heidi bald HeiDA!\", \"Warum Wendler und Laura schon wieder \\u00c4rger droht\", \"Uns hat der Blitz getroffen!\", \"Note 2 f\\u00fcr f\\u00fcnf Hoffenheimer!\", \"Stehen wir kurz vor dem \\u201eCorona-Burn-out\\u201c?\"], \"legendgroup\": \"Wohnung| Berlin| Laura| Wendler| Florida\", \"marker\": {\"color\": \"#FF97FF\", \"line\": {\"color\": \"DarkSlateGrey\", \"width\": 0.15}, \"opacity\": 0.8, \"size\": 9, \"symbol\": \"circle\"}, \"mode\": \"markers\", \"name\": \"Wohnung| Berlin| Laura| Wendler| Florida\", \"orientation\": \"v\", \"showlegend\": true, \"type\": \"scatter\", \"x\": [3.127519130706787, 3.3257620334625244, 3.0647640228271484, 2.8550198078155518, 3.4468743801116943], \"xaxis\": \"x\", \"y\": [1.7848116159439087, 2.229856252670288, 2.8129165172576904, 1.9099735021591187, 1.5078439712524414], \"yaxis\": \"y\"}, {\"customdata\": [[\"2020-10-22\", \"HSV| Liga| Trainer| Spiel| Spieler\", 4], [\"2020-10-22\", \"HSV| Liga| Trainer| Spiel| Spieler\", 4], [\"2020-10-22\", \"HSV| Liga| Trainer| Spiel| Spieler\", 4], [\"2020-10-22\", \"HSV| Liga| Trainer| Spiel| Spieler\", 4], [\"2020-10-22\", \"HSV| Liga| Trainer| Spiel| Spieler\", 4], [\"2020-10-22\", \"HSV| Liga| Trainer| Spiel| Spieler\", 4], [\"2020-10-22\", \"HSV| Liga| Trainer| Spiel| Spieler\", 4], [\"2020-10-22\", \"HSV| Liga| Trainer| Spiel| Spieler\", 4], [\"2020-10-23\", \"HSV| Liga| Trainer| Spiel| Spieler\", 4], [\"2020-10-22\", \"HSV| Liga| Trainer| Spiel| Spieler\", 4]], \"hovertemplate\": \"<b>%{hovertext}</b><br><br>TopWords=%{customdata[1]}<br>x=%{x}<br>y=%{y}<br>created_at=%{customdata[0]}<br>topic_number=%{customdata[2]}<extra></extra>\", \"hovertext\": [\"So hei\\u00df sieht das neue Rebstockbad aus\", \"Erwischt! Kobel und Endo wieder voll dabei\", \"Maina ist zur\\u00fcck auf dem Platz\", \"Leibold und Vagnoman sind zur\\u00fcck\", \"Hollerbach w\\u00fcnscht sich ein sch\\u00f6nes 3:3\", \"R\\u00f6sler wehrt sich gegen Kritik an Talenten!\", \"Trainer-Lob f\\u00fcr Vollgas-Wood\", \"Kocak droht mitBlitz-Strafe\", \"Keiner wollte zu Mark Forster\", \"Jacob: \\u201eWir sind s\\u00fcchtig nach Erfolg!\\u201c\"], \"legendgroup\": \"HSV| Liga| Trainer| Spiel| Spieler\", \"marker\": {\"color\": \"#FECB52\", \"line\": {\"color\": \"DarkSlateGrey\", \"width\": 0.15}, \"opacity\": 0.8, \"size\": 9, \"symbol\": \"circle\"}, \"mode\": \"markers\", \"name\": \"HSV| Liga| Trainer| Spiel| Spieler\", \"orientation\": \"v\", \"showlegend\": true, \"type\": \"scatter\", \"x\": [2.5532455444335938, 3.0361311435699463, 2.618497610092163, 2.7078166007995605, 2.390199899673462, 2.7916667461395264, 2.205174446105957, 2.9001150131225586, 2.441678047180176, 2.6915271282196045], \"xaxis\": \"x\", \"y\": [2.0479090213775635, 2.7372946739196777, 3.164466142654419, 2.4407079219818115, 2.4975008964538574, 2.795872688293457, 2.594437837600708, 2.146575927734375, 2.883169174194336, 2.8419814109802246], \"yaxis\": \"y\"}, {\"customdata\": [[\"2020-10-22\", \"Spiel| Trainer| Hertha| Fehltritt| Union\", 10], [\"2020-10-22\", \"Spiel| Trainer| Hertha| Fehltritt| Union\", 10], [\"2020-10-22\", \"Spiel| Trainer| Hertha| Fehltritt| Union\", 10], [\"2020-10-22\", \"Spiel| Trainer| Hertha| Fehltritt| Union\", 10]], \"hovertemplate\": \"<b>%{hovertext}</b><br><br>TopWords=%{customdata[1]}<br>x=%{x}<br>y=%{y}<br>created_at=%{customdata[0]}<br>topic_number=%{customdata[2]}<extra></extra>\", \"hovertext\": [\"Nach Mega-Zoff jetzt Startelf gegen Hertha?\", \"Au Backe! Union ohne Karius\", \"Leyhe f\\u00e4llt komplette Saison aus\", \"Breitkreuz gl\\u00fccklich trotz 0:3-Packung\"], \"legendgroup\": \"Spiel| Trainer| Hertha| Fehltritt| Union\", \"marker\": {\"color\": \"#636efa\", \"line\": {\"color\": \"DarkSlateGrey\", \"width\": 0.15}, \"opacity\": 0.8, \"size\": 9, \"symbol\": \"circle\"}, \"mode\": \"markers\", \"name\": \"Spiel| Trainer| Hertha| Fehltritt| Union\", \"orientation\": \"v\", \"showlegend\": true, \"type\": \"scatter\", \"x\": [2.0607645511627197, 2.143975257873535, 2.4269814491271973, 2.3564844131469727], \"xaxis\": \"x\", \"y\": [2.549391269683838, 1.879026174545288, 2.213881492614746, 2.246649742126465], \"yaxis\": \"y\"}, {\"customdata\": [[\"2020-10-22\", \"Boris Becker| Staatsanw\\u00e4ltin| Spiel| Darmstadt| Sparkassen\", 3], [\"2020-10-22\", \"Boris Becker| Staatsanw\\u00e4ltin| Spiel| Darmstadt| Sparkassen\", 3], [\"2020-10-22\", \"Boris Becker| Staatsanw\\u00e4ltin| Spiel| Darmstadt| Sparkassen\", 3], [\"2020-10-22\", \"Boris Becker| Staatsanw\\u00e4ltin| Spiel| Darmstadt| Sparkassen\", 3]], \"hovertemplate\": \"<b>%{hovertext}</b><br><br>TopWords=%{customdata[1]}<br>x=%{x}<br>y=%{y}<br>created_at=%{customdata[0]}<br>topic_number=%{customdata[2]}<extra></extra>\", \"hovertext\": [\"\\u201eEr hat einen schlechten Charakter!\\u201c\", \"SchullesSorgen-Puzzle\", \"Negativzins-Wahnsinnbreitet sich weiter aus\", \"Neun neue Anklagepunkte gegen Boris Becker!\"], \"legendgroup\": \"Boris Becker| Staatsanw\\u00e4ltin| Spiel| Darmstadt| Sparkassen\", \"marker\": {\"color\": \"#EF553B\", \"line\": {\"color\": \"DarkSlateGrey\", \"width\": 0.15}, \"opacity\": 0.8, \"size\": 9, \"symbol\": \"circle\"}, \"mode\": \"markers\", \"name\": \"Boris Becker| Staatsanw\\u00e4ltin| Spiel| Darmstadt| Sparkassen\", \"orientation\": \"v\", \"showlegend\": true, \"type\": \"scatter\", \"x\": [3.94368577003479, 3.427621841430664, 3.405595064163208, 3.713916540145874], \"xaxis\": \"x\", \"y\": [1.9189363718032837, 2.462441921234131, 2.106416940689087, 1.8113982677459717], \"yaxis\": \"y\"}, {\"customdata\": [[\"2020-10-22\", \"Dresden| Terrorist| Terroristen| CDU| Gef\\u00e4hrder\", 14], [\"2020-10-22\", \"Dresden| Terrorist| Terroristen| CDU| Gef\\u00e4hrder\", 14], [\"2020-10-23\", \"Dresden| Terrorist| Terroristen| CDU| Gef\\u00e4hrder\", 14], [\"2020-10-22\", \"Dresden| Terrorist| Terroristen| CDU| Gef\\u00e4hrder\", 14], [\"2020-10-22\", \"Dresden| Terrorist| Terroristen| CDU| Gef\\u00e4hrder\", 14]], \"hovertemplate\": \"<b>%{hovertext}</b><br><br>TopWords=%{customdata[1]}<br>x=%{x}<br>y=%{y}<br>created_at=%{customdata[0]}<br>topic_number=%{customdata[2]}<extra></extra>\", \"hovertext\": [\"ISIS-Terrorist wollte Christen \\u201eschlachten\\u201c und \\u201eZunge abschneiden\\u201c\", \"Schluss mit Schutzvon Terroristen!\", \"CDU-Spitze will mehrere kleine Parteitage gleichzeitig\", \"Terroristen endlichsofort abschieben!\", \"Pressekonferenz der Schande!\"], \"legendgroup\": \"Dresden| Terrorist| Terroristen| CDU| Gef\\u00e4hrder\", \"marker\": {\"color\": \"#00cc96\", \"line\": {\"color\": \"DarkSlateGrey\", \"width\": 0.15}, \"opacity\": 0.8, \"size\": 9, \"symbol\": \"circle\"}, \"mode\": \"markers\", \"name\": \"Dresden| Terrorist| Terroristen| CDU| Gef\\u00e4hrder\", \"orientation\": \"v\", \"showlegend\": true, \"type\": \"scatter\", \"x\": [4.251635551452637, 4.580747127532959, 4.263205528259277, 4.406239032745361, 4.441523551940918], \"xaxis\": \"x\", \"y\": [1.7830193042755127, 1.6786099672317505, 0.6576451063156128, 1.2199124097824097, 1.80380380153656], \"yaxis\": \"y\"}, {\"customdata\": [[\"2020-10-22\", \"Maske| Corona| Sport| Experten| Fragen\", 6], [\"2020-10-22\", \"Maske| Corona| Sport| Experten| Fragen\", 6], [\"2020-10-22\", \"Maske| Corona| Sport| Experten| Fragen\", 6]], \"hovertemplate\": \"<b>%{hovertext}</b><br><br>TopWords=%{customdata[1]}<br>x=%{x}<br>y=%{y}<br>created_at=%{customdata[0]}<br>topic_number=%{customdata[2]}<extra></extra>\", \"hovertext\": [\"Muss ich beim Sport im Freienjetzt eine Maske tragen?\", \"Arm durch Pflege!\", \"\\u201eMasken anzuzweifeln ist gef\\u00e4hrlicher Unsinn\\u201c\"], \"legendgroup\": \"Maske| Corona| Sport| Experten| Fragen\", \"marker\": {\"color\": \"#ab63fa\", \"line\": {\"color\": \"DarkSlateGrey\", \"width\": 0.15}, \"opacity\": 0.8, \"size\": 9, \"symbol\": \"circle\"}, \"mode\": \"markers\", \"name\": \"Maske| Corona| Sport| Experten| Fragen\", \"orientation\": \"v\", \"showlegend\": true, \"type\": \"scatter\", \"x\": [3.6431517601013184, 4.128520965576172, 4.080691814422607], \"xaxis\": \"x\", \"y\": [1.3250107765197754, 1.7497305870056152, 1.303678035736084], \"yaxis\": \"y\"}, {\"customdata\": [[\"2020-10-22\", \"Corona| US| Deutschland| Pandemie| Remdesivir\", 15], [\"2020-10-22\", \"Corona| US| Deutschland| Pandemie| Remdesivir\", 15], [\"2020-10-22\", \"Corona| US| Deutschland| Pandemie| Remdesivir\", 15], [\"2020-10-23\", \"Corona| US| Deutschland| Pandemie| Remdesivir\", 15], [\"2020-10-22\", \"Corona| US| Deutschland| Pandemie| Remdesivir\", 15], [\"2020-10-22\", \"Corona| US| Deutschland| Pandemie| Remdesivir\", 15], [\"2020-10-22\", \"Corona| US| Deutschland| Pandemie| Remdesivir\", 15], [\"2020-10-22\", \"Corona| US| Deutschland| Pandemie| Remdesivir\", 15]], \"hovertemplate\": \"<b>%{hovertext}</b><br><br>TopWords=%{customdata[1]}<br>x=%{x}<br>y=%{y}<br>created_at=%{customdata[0]}<br>topic_number=%{customdata[2]}<extra></extra>\", \"hovertext\": [\"Lauterbach unterst\\u00fctzt Drostens \\u00dc50-Plan\", \"So viele Intensivbettensind noch frei\", \"Das traurige Schicksal deutscher Drogens\\u00fcchtiger\", \"Pharma-Chef k\\u00fcndigt wirksame Impfstoffe an\", \"Corona heute weniger t\\u00f6dlich als im M\\u00e4rz?\", \"Kommt der Corona-Impfstoff noch dieses Jahr?\", \"US-Arzneimittelbeh\\u00f6rde l\\u00e4sst Remdesivir gegen Covid-19 zu\", \"Wo stecken wir uns haupts\\u00e4chlich mit Corona an?\"], \"legendgroup\": \"Corona| US| Deutschland| Pandemie| Remdesivir\", \"marker\": {\"color\": \"#FFA15A\", \"line\": {\"color\": \"DarkSlateGrey\", \"width\": 0.15}, \"opacity\": 0.8, \"size\": 9, \"symbol\": \"circle\"}, \"mode\": \"markers\", \"name\": \"Corona| US| Deutschland| Pandemie| Remdesivir\", \"orientation\": \"v\", \"showlegend\": true, \"type\": \"scatter\", \"x\": [4.154802322387695, 3.925374746322632, 3.9109556674957275, 3.655146598815918, 3.923190116882324, 4.013525009155273, 3.728910207748413, 4.048007488250732], \"xaxis\": \"x\", \"y\": [0.19759072363376617, 0.23448112607002258, 0.8237479329109192, 0.6346204280853271, 0.1786404401063919, 0.12630167603492737, 0.19739112257957458, 0.5709400773048401], \"yaxis\": \"y\"}, {\"customdata\": [[\"2020-10-22\", \"Derby| Schalke| BVB| Interview| H\\u00e4rte\", 1], [\"2020-10-22\", \"Derby| Schalke| BVB| Interview| H\\u00e4rte\", 1], [\"2020-10-22\", \"Derby| Schalke| BVB| Interview| H\\u00e4rte\", 1]], \"hovertemplate\": \"<b>%{hovertext}</b><br><br>TopWords=%{customdata[1]}<br>x=%{x}<br>y=%{y}<br>created_at=%{customdata[0]}<br>topic_number=%{customdata[2]}<extra></extra>\", \"hovertext\": [\"Wichtig, im  Derby \\u201emit der richtigen H\\u00e4rte zu agieren\\u201c\", \"Favre eiert vorm Derby rum\", \"Keller verzichtet, Koch und Peters kandidieren\"], \"legendgroup\": \"Derby| Schalke| BVB| Interview| H\\u00e4rte\", \"marker\": {\"color\": \"#19d3f3\", \"line\": {\"color\": \"DarkSlateGrey\", \"width\": 0.15}, \"opacity\": 0.8, \"size\": 9, \"symbol\": \"circle\"}, \"mode\": \"markers\", \"name\": \"Derby| Schalke| BVB| Interview| H\\u00e4rte\", \"orientation\": \"v\", \"showlegend\": true, \"type\": \"scatter\", \"x\": [2.7807891368865967, 2.5211381912231445, 3.1684069633483887], \"xaxis\": \"x\", \"y\": [1.6250532865524292, 1.52420175075531, 1.5445042848587036], \"yaxis\": \"y\"}, {\"customdata\": [[\"2020-10-22\", \"Gl\\u00fccksfall| St\\u00fcrmer| Personalnot| NFL| Rasen\", 9], [\"2020-10-22\", \"Gl\\u00fccksfall| St\\u00fcrmer| Personalnot| NFL| Rasen\", 9], [\"2020-10-22\", \"Gl\\u00fccksfall| St\\u00fcrmer| Personalnot| NFL| Rasen\", 9]], \"hovertemplate\": \"<b>%{hovertext}</b><br><br>TopWords=%{customdata[1]}<br>x=%{x}<br>y=%{y}<br>created_at=%{customdata[0]}<br>topic_number=%{customdata[2]}<extra></extra>\", \"hovertext\": [\"Halles linkes Ding\", \"Lohkemper dreht voll auf!\", \"Miamis Play-off-Chance hei\\u00dftTua Tagovailoa\"], \"legendgroup\": \"Gl\\u00fccksfall| St\\u00fcrmer| Personalnot| NFL| Rasen\", \"marker\": {\"color\": \"#FF6692\", \"line\": {\"color\": \"DarkSlateGrey\", \"width\": 0.15}, \"opacity\": 0.8, \"size\": 9, \"symbol\": \"circle\"}, \"mode\": \"markers\", \"name\": \"Gl\\u00fccksfall| St\\u00fcrmer| Personalnot| NFL| Rasen\", \"orientation\": \"v\", \"showlegend\": true, \"type\": \"scatter\", \"x\": [2.7979187965393066, 2.4119255542755127, 2.345797300338745], \"xaxis\": \"x\", \"y\": [2.9901881217956543, 2.813148260116577, 2.9267234802246094], \"yaxis\": \"y\"}],                        {\"height\": 1000, \"legend\": {\"title\": {\"text\": \"TopWords\"}, \"tracegroupgap\": 0}, \"margin\": {\"t\": 60}, \"template\": {\"data\": {\"bar\": [{\"error_x\": {\"color\": \"#2a3f5f\"}, \"error_y\": {\"color\": \"#2a3f5f\"}, \"marker\": {\"line\": {\"color\": \"#E5ECF6\", \"width\": 0.5}}, \"type\": \"bar\"}], \"barpolar\": [{\"marker\": {\"line\": {\"color\": \"#E5ECF6\", \"width\": 0.5}}, \"type\": \"barpolar\"}], \"carpet\": [{\"aaxis\": {\"endlinecolor\": \"#2a3f5f\", \"gridcolor\": \"white\", \"linecolor\": \"white\", \"minorgridcolor\": \"white\", \"startlinecolor\": \"#2a3f5f\"}, \"baxis\": {\"endlinecolor\": \"#2a3f5f\", \"gridcolor\": \"white\", \"linecolor\": \"white\", \"minorgridcolor\": \"white\", \"startlinecolor\": \"#2a3f5f\"}, \"type\": \"carpet\"}], \"choropleth\": [{\"colorbar\": {\"outlinewidth\": 0, \"ticks\": \"\"}, \"type\": \"choropleth\"}], \"contour\": [{\"colorbar\": {\"outlinewidth\": 0, \"ticks\": \"\"}, \"colorscale\": [[0.0, \"#0d0887\"], [0.1111111111111111, \"#46039f\"], [0.2222222222222222, \"#7201a8\"], [0.3333333333333333, \"#9c179e\"], [0.4444444444444444, \"#bd3786\"], [0.5555555555555556, \"#d8576b\"], [0.6666666666666666, \"#ed7953\"], [0.7777777777777778, \"#fb9f3a\"], [0.8888888888888888, \"#fdca26\"], [1.0, \"#f0f921\"]], \"type\": \"contour\"}], \"contourcarpet\": [{\"colorbar\": {\"outlinewidth\": 0, \"ticks\": \"\"}, \"type\": \"contourcarpet\"}], \"heatmap\": [{\"colorbar\": {\"outlinewidth\": 0, \"ticks\": \"\"}, \"colorscale\": [[0.0, \"#0d0887\"], [0.1111111111111111, \"#46039f\"], [0.2222222222222222, \"#7201a8\"], [0.3333333333333333, \"#9c179e\"], [0.4444444444444444, \"#bd3786\"], [0.5555555555555556, \"#d8576b\"], [0.6666666666666666, \"#ed7953\"], [0.7777777777777778, \"#fb9f3a\"], [0.8888888888888888, \"#fdca26\"], [1.0, \"#f0f921\"]], \"type\": \"heatmap\"}], \"heatmapgl\": [{\"colorbar\": {\"outlinewidth\": 0, \"ticks\": \"\"}, \"colorscale\": [[0.0, \"#0d0887\"], [0.1111111111111111, \"#46039f\"], [0.2222222222222222, \"#7201a8\"], [0.3333333333333333, \"#9c179e\"], [0.4444444444444444, \"#bd3786\"], [0.5555555555555556, \"#d8576b\"], [0.6666666666666666, \"#ed7953\"], [0.7777777777777778, \"#fb9f3a\"], [0.8888888888888888, \"#fdca26\"], [1.0, \"#f0f921\"]], \"type\": \"heatmapgl\"}], \"histogram\": [{\"marker\": {\"colorbar\": {\"outlinewidth\": 0, \"ticks\": \"\"}}, \"type\": \"histogram\"}], \"histogram2d\": [{\"colorbar\": {\"outlinewidth\": 0, \"ticks\": \"\"}, \"colorscale\": [[0.0, \"#0d0887\"], [0.1111111111111111, \"#46039f\"], [0.2222222222222222, \"#7201a8\"], [0.3333333333333333, \"#9c179e\"], [0.4444444444444444, \"#bd3786\"], [0.5555555555555556, \"#d8576b\"], [0.6666666666666666, \"#ed7953\"], [0.7777777777777778, \"#fb9f3a\"], [0.8888888888888888, \"#fdca26\"], [1.0, \"#f0f921\"]], \"type\": \"histogram2d\"}], \"histogram2dcontour\": [{\"colorbar\": {\"outlinewidth\": 0, \"ticks\": \"\"}, \"colorscale\": [[0.0, \"#0d0887\"], [0.1111111111111111, \"#46039f\"], [0.2222222222222222, \"#7201a8\"], [0.3333333333333333, \"#9c179e\"], [0.4444444444444444, \"#bd3786\"], [0.5555555555555556, \"#d8576b\"], [0.6666666666666666, \"#ed7953\"], [0.7777777777777778, \"#fb9f3a\"], [0.8888888888888888, \"#fdca26\"], [1.0, \"#f0f921\"]], \"type\": \"histogram2dcontour\"}], \"mesh3d\": [{\"colorbar\": {\"outlinewidth\": 0, \"ticks\": \"\"}, \"type\": \"mesh3d\"}], \"parcoords\": [{\"line\": {\"colorbar\": {\"outlinewidth\": 0, \"ticks\": \"\"}}, \"type\": \"parcoords\"}], \"pie\": [{\"automargin\": true, \"type\": \"pie\"}], \"scatter\": [{\"marker\": {\"colorbar\": {\"outlinewidth\": 0, \"ticks\": \"\"}}, \"type\": \"scatter\"}], \"scatter3d\": [{\"line\": {\"colorbar\": {\"outlinewidth\": 0, \"ticks\": \"\"}}, \"marker\": {\"colorbar\": {\"outlinewidth\": 0, \"ticks\": \"\"}}, \"type\": \"scatter3d\"}], \"scattercarpet\": [{\"marker\": {\"colorbar\": {\"outlinewidth\": 0, \"ticks\": \"\"}}, \"type\": \"scattercarpet\"}], \"scattergeo\": [{\"marker\": {\"colorbar\": {\"outlinewidth\": 0, \"ticks\": \"\"}}, \"type\": \"scattergeo\"}], \"scattergl\": [{\"marker\": {\"colorbar\": {\"outlinewidth\": 0, \"ticks\": \"\"}}, \"type\": \"scattergl\"}], \"scattermapbox\": [{\"marker\": {\"colorbar\": {\"outlinewidth\": 0, \"ticks\": \"\"}}, \"type\": \"scattermapbox\"}], \"scatterpolar\": [{\"marker\": {\"colorbar\": {\"outlinewidth\": 0, \"ticks\": \"\"}}, \"type\": \"scatterpolar\"}], \"scatterpolargl\": [{\"marker\": {\"colorbar\": {\"outlinewidth\": 0, \"ticks\": \"\"}}, \"type\": \"scatterpolargl\"}], \"scatterternary\": [{\"marker\": {\"colorbar\": {\"outlinewidth\": 0, \"ticks\": \"\"}}, \"type\": \"scatterternary\"}], \"surface\": [{\"colorbar\": {\"outlinewidth\": 0, \"ticks\": \"\"}, \"colorscale\": [[0.0, \"#0d0887\"], [0.1111111111111111, \"#46039f\"], [0.2222222222222222, \"#7201a8\"], [0.3333333333333333, \"#9c179e\"], [0.4444444444444444, \"#bd3786\"], [0.5555555555555556, \"#d8576b\"], [0.6666666666666666, \"#ed7953\"], [0.7777777777777778, \"#fb9f3a\"], [0.8888888888888888, \"#fdca26\"], [1.0, \"#f0f921\"]], \"type\": \"surface\"}], \"table\": [{\"cells\": {\"fill\": {\"color\": \"#EBF0F8\"}, \"line\": {\"color\": \"white\"}}, \"header\": {\"fill\": {\"color\": \"#C8D4E3\"}, \"line\": {\"color\": \"white\"}}, \"type\": \"table\"}]}, \"layout\": {\"annotationdefaults\": {\"arrowcolor\": \"#2a3f5f\", \"arrowhead\": 0, \"arrowwidth\": 1}, \"coloraxis\": {\"colorbar\": {\"outlinewidth\": 0, \"ticks\": \"\"}}, \"colorscale\": {\"diverging\": [[0, \"#8e0152\"], [0.1, \"#c51b7d\"], [0.2, \"#de77ae\"], [0.3, \"#f1b6da\"], [0.4, \"#fde0ef\"], [0.5, \"#f7f7f7\"], [0.6, \"#e6f5d0\"], [0.7, \"#b8e186\"], [0.8, \"#7fbc41\"], [0.9, \"#4d9221\"], [1, \"#276419\"]], \"sequential\": [[0.0, \"#0d0887\"], [0.1111111111111111, \"#46039f\"], [0.2222222222222222, \"#7201a8\"], [0.3333333333333333, \"#9c179e\"], [0.4444444444444444, \"#bd3786\"], [0.5555555555555556, \"#d8576b\"], [0.6666666666666666, \"#ed7953\"], [0.7777777777777778, \"#fb9f3a\"], [0.8888888888888888, \"#fdca26\"], [1.0, \"#f0f921\"]], \"sequentialminus\": [[0.0, \"#0d0887\"], [0.1111111111111111, \"#46039f\"], [0.2222222222222222, \"#7201a8\"], [0.3333333333333333, \"#9c179e\"], [0.4444444444444444, \"#bd3786\"], [0.5555555555555556, \"#d8576b\"], [0.6666666666666666, \"#ed7953\"], [0.7777777777777778, \"#fb9f3a\"], [0.8888888888888888, \"#fdca26\"], [1.0, \"#f0f921\"]]}, \"colorway\": [\"#636efa\", \"#EF553B\", \"#00cc96\", \"#ab63fa\", \"#FFA15A\", \"#19d3f3\", \"#FF6692\", \"#B6E880\", \"#FF97FF\", \"#FECB52\"], \"font\": {\"color\": \"#2a3f5f\"}, \"geo\": {\"bgcolor\": \"white\", \"lakecolor\": \"white\", \"landcolor\": \"#E5ECF6\", \"showlakes\": true, \"showland\": true, \"subunitcolor\": \"white\"}, \"hoverlabel\": {\"align\": \"left\"}, \"hovermode\": \"closest\", \"mapbox\": {\"style\": \"light\"}, \"paper_bgcolor\": \"white\", \"plot_bgcolor\": \"#E5ECF6\", \"polar\": {\"angularaxis\": {\"gridcolor\": \"white\", \"linecolor\": \"white\", \"ticks\": \"\"}, \"bgcolor\": \"#E5ECF6\", \"radialaxis\": {\"gridcolor\": \"white\", \"linecolor\": \"white\", \"ticks\": \"\"}}, \"scene\": {\"xaxis\": {\"backgroundcolor\": \"#E5ECF6\", \"gridcolor\": \"white\", \"gridwidth\": 2, \"linecolor\": \"white\", \"showbackground\": true, \"ticks\": \"\", \"zerolinecolor\": \"white\"}, \"yaxis\": {\"backgroundcolor\": \"#E5ECF6\", \"gridcolor\": \"white\", \"gridwidth\": 2, \"linecolor\": \"white\", \"showbackground\": true, \"ticks\": \"\", \"zerolinecolor\": \"white\"}, \"zaxis\": {\"backgroundcolor\": \"#E5ECF6\", \"gridcolor\": \"white\", \"gridwidth\": 2, \"linecolor\": \"white\", \"showbackground\": true, \"ticks\": \"\", \"zerolinecolor\": \"white\"}}, \"shapedefaults\": {\"line\": {\"color\": \"#2a3f5f\"}}, \"ternary\": {\"aaxis\": {\"gridcolor\": \"white\", \"linecolor\": \"white\", \"ticks\": \"\"}, \"baxis\": {\"gridcolor\": \"white\", \"linecolor\": \"white\", \"ticks\": \"\"}, \"bgcolor\": \"#E5ECF6\", \"caxis\": {\"gridcolor\": \"white\", \"linecolor\": \"white\", \"ticks\": \"\"}}, \"title\": {\"x\": 0.05}, \"xaxis\": {\"automargin\": true, \"gridcolor\": \"white\", \"linecolor\": \"white\", \"ticks\": \"\", \"title\": {\"standoff\": 15}, \"zerolinecolor\": \"white\", \"zerolinewidth\": 2}, \"yaxis\": {\"automargin\": true, \"gridcolor\": \"white\", \"linecolor\": \"white\", \"ticks\": \"\", \"title\": {\"standoff\": 15}, \"zerolinecolor\": \"white\", \"zerolinewidth\": 2}}}, \"xaxis\": {\"anchor\": \"y\", \"domain\": [0.0, 1.0], \"title\": {\"text\": \"x\"}}, \"yaxis\": {\"anchor\": \"x\", \"domain\": [0.0, 1.0], \"title\": {\"text\": \"y\"}}},                        {\"responsive\": true}                    ).then(function(){\n",
       "                            \n",
       "var gd = document.getElementById('15fdf165-1751-439d-bb8e-6c96e9c27331');\n",
       "var x = new MutationObserver(function (mutations, observer) {{\n",
       "        var display = window.getComputedStyle(gd).display;\n",
       "        if (!display || display === 'none') {{\n",
       "            console.log([gd, 'removed!']);\n",
       "            Plotly.purge(gd);\n",
       "            observer.disconnect();\n",
       "        }}\n",
       "}});\n",
       "\n",
       "// Listen for the removal of the full notebook cells\n",
       "var notebookContainer = gd.closest('#notebook-container');\n",
       "if (notebookContainer) {{\n",
       "    x.observe(notebookContainer, {childList: true});\n",
       "}}\n",
       "\n",
       "// Listen for the clearing of the current output cell\n",
       "var outputEl = gd.closest('.output');\n",
       "if (outputEl) {{\n",
       "    x.observe(outputEl, {childList: true});\n",
       "}}\n",
       "\n",
       "                        })                };                });            </script>        </div>"
      ]
     },
     "metadata": {},
     "output_type": "display_data"
    }
   ],
   "source": [
    "results=pd.merge(docs_df_a,cluster_labels_google_a.reset_index(),left_on=\"topic_number\",right_on = \"Topic\")\n",
    "fig = px.scatter(results, x=\"x\", y=\"y\", hover_name=\"headline\", hover_data=[\"created_at\",\"TopWords\",\"topic_number\"], color=\"TopWords\",opacity=0.8)\n",
    "\n",
    "fig.update_traces(marker=dict(size=9,\n",
    "                              line=dict(width=0.15,\n",
    "                                        color='DarkSlateGrey')),\n",
    "                  selector=dict(mode='markers'))\n",
    "fig[\"layout\"].pop(\"updatemenus\")\n",
    "\n",
    "fig.update_layout(height=1000)\n",
    "fig.show()"
   ]
  },
  {
   "cell_type": "code",
   "execution_count": 378,
   "metadata": {},
   "outputs": [
    {
     "data": {
      "application/vnd.plotly.v1+json": {
       "config": {
        "plotlyServerURL": "https://plot.ly"
       },
       "data": [
        {
         "customdata": [
          [
           "2020-10-22",
           "Dresden| Terrorist| Terroristen| Frau| Existenz",
           5
          ],
          [
           "2020-10-22",
           "Dresden| Terrorist| Terroristen| Frau| Existenz",
           5
          ],
          [
           "2020-10-22",
           "Dresden| Terrorist| Terroristen| Frau| Existenz",
           5
          ]
         ],
         "hovertemplate": "<b>%{hovertext}</b><br><br>TopWords=%{customdata[1]}<br>x=%{x}<br>y=%{y}<br>created_at=%{customdata[0]}<br>topic_number=%{customdata[2]}<extra></extra>",
         "hovertext": [
          "Schluss mit Schutzvon Terroristen!",
          "ISIS-Terrorist wollte Christen „schlachten“ und „Zunge abschneiden“",
          "Arm durch Pflege!"
         ],
         "legendgroup": "Dresden| Terrorist| Terroristen| Frau| Existenz",
         "marker": {
          "color": "#636efa",
          "line": {
           "color": "DarkSlateGrey",
           "width": 0.15
          },
          "opacity": 0.8,
          "size": 9,
          "symbol": "circle"
         },
         "mode": "markers",
         "name": "Dresden| Terrorist| Terroristen| Frau| Existenz",
         "orientation": "v",
         "showlegend": true,
         "type": "scatter",
         "x": [
          -3.3982880115509033,
          -3.8601675033569336,
          -3.3500194549560547
         ],
         "xaxis": "x",
         "y": [
          1.959372878074646,
          1.7501007318496704,
          1.6240544319152832
         ],
         "yaxis": "y"
        },
        {
         "customdata": [
          [
           "2020-10-22",
           "Hoffnung| Corona| Frankfurt| Schalke| Platz",
           -1
          ],
          [
           "2020-10-22",
           "Hoffnung| Corona| Frankfurt| Schalke| Platz",
           -1
          ],
          [
           "2020-10-22",
           "Hoffnung| Corona| Frankfurt| Schalke| Platz",
           -1
          ],
          [
           "2020-10-22",
           "Hoffnung| Corona| Frankfurt| Schalke| Platz",
           -1
          ],
          [
           "2020-10-22",
           "Hoffnung| Corona| Frankfurt| Schalke| Platz",
           -1
          ],
          [
           "2020-10-22",
           "Hoffnung| Corona| Frankfurt| Schalke| Platz",
           -1
          ],
          [
           "2020-10-22",
           "Hoffnung| Corona| Frankfurt| Schalke| Platz",
           -1
          ],
          [
           "2020-10-22",
           "Hoffnung| Corona| Frankfurt| Schalke| Platz",
           -1
          ],
          [
           "2020-10-22",
           "Hoffnung| Corona| Frankfurt| Schalke| Platz",
           -1
          ],
          [
           "2020-10-22",
           "Hoffnung| Corona| Frankfurt| Schalke| Platz",
           -1
          ],
          [
           "2020-10-22",
           "Hoffnung| Corona| Frankfurt| Schalke| Platz",
           -1
          ]
         ],
         "hovertemplate": "<b>%{hovertext}</b><br><br>TopWords=%{customdata[1]}<br>x=%{x}<br>y=%{y}<br>created_at=%{customdata[0]}<br>topic_number=%{customdata[2]}<extra></extra>",
         "hovertext": [
          "„Wir haben die Ultra-Botschaft verstanden!“",
          "Fan-Entscheidung kurz vorm Anpfiff?",
          "Waldhof krallt sich  neuen Brustsponsor",
          "Sportwetten abDezember bei BildBet",
          "So heiß sieht das neue Rebstockbad aus",
          "Eine Liebe ist schon verpufft!",
          "Negativzins-Wahnsinnbreitet sich weiter aus",
          "Maina ist zurück auf dem Platz",
          "Lieber Chaos-Flughafern Berlin,",
          "Angeklagte legen Geständnis ab",
          "PELÉ 80!"
         ],
         "legendgroup": "Hoffnung| Corona| Frankfurt| Schalke| Platz",
         "marker": {
          "color": "#EF553B",
          "line": {
           "color": "DarkSlateGrey",
           "width": 0.15
          },
          "opacity": 0.8,
          "size": 9,
          "symbol": "circle"
         },
         "mode": "markers",
         "name": "Hoffnung| Corona| Frankfurt| Schalke| Platz",
         "orientation": "v",
         "showlegend": true,
         "type": "scatter",
         "visible": true,
         "x": [
          -5.49248743057251,
          -4.6181159019470215,
          -4.470982074737549,
          -4.532841682434082,
          -5.034834861755371,
          -4.672047138214111,
          -4.8182854652404785,
          -4.7998151779174805,
          -4.3313164710998535,
          -4.056046485900879,
          -5.200754165649414
         ],
         "xaxis": "x",
         "y": [
          1.0814248323440552,
          -0.654052734375,
          0.7598130106925964,
          1.0117216110229492,
          0.7505171298980713,
          0.6312293410301208,
          1.1735961437225342,
          -0.09480588883161545,
          -0.11101894825696945,
          0.925277054309845,
          1.7068825960159302
         ],
         "yaxis": "y"
        },
        {
         "customdata": [
          [
           "2020-10-22",
           "Corona| Spiel| Test| US| Quarantäne",
           3
          ],
          [
           "2020-10-22",
           "Corona| Spiel| Test| US| Quarantäne",
           3
          ],
          [
           "2020-10-22",
           "Corona| Spiel| Test| US| Quarantäne",
           3
          ],
          [
           "2020-10-22",
           "Corona| Spiel| Test| US| Quarantäne",
           3
          ],
          [
           "2020-10-22",
           "Corona| Spiel| Test| US| Quarantäne",
           3
          ],
          [
           "2020-10-22",
           "Corona| Spiel| Test| US| Quarantäne",
           3
          ],
          [
           "2020-10-23",
           "Corona| Spiel| Test| US| Quarantäne",
           3
          ],
          [
           "2020-10-22",
           "Corona| Spiel| Test| US| Quarantäne",
           3
          ],
          [
           "2020-10-22",
           "Corona| Spiel| Test| US| Quarantäne",
           3
          ],
          [
           "2020-10-22",
           "Corona| Spiel| Test| US| Quarantäne",
           3
          ],
          [
           "2020-10-22",
           "Corona| Spiel| Test| US| Quarantäne",
           3
          ],
          [
           "2020-10-23",
           "Corona| Spiel| Test| US| Quarantäne",
           3
          ],
          [
           "2020-10-22",
           "Corona| Spiel| Test| US| Quarantäne",
           3
          ],
          [
           "2020-10-22",
           "Corona| Spiel| Test| US| Quarantäne",
           3
          ],
          [
           "2020-10-22",
           "Corona| Spiel| Test| US| Quarantäne",
           3
          ],
          [
           "2020-10-22",
           "Corona| Spiel| Test| US| Quarantäne",
           3
          ],
          [
           "2020-10-22",
           "Corona| Spiel| Test| US| Quarantäne",
           3
          ],
          [
           "2020-10-22",
           "Corona| Spiel| Test| US| Quarantäne",
           3
          ],
          [
           "2020-10-22",
           "Corona| Spiel| Test| US| Quarantäne",
           3
          ],
          [
           "2020-10-22",
           "Corona| Spiel| Test| US| Quarantäne",
           3
          ],
          [
           "2020-10-22",
           "Corona| Spiel| Test| US| Quarantäne",
           3
          ],
          [
           "2020-10-22",
           "Corona| Spiel| Test| US| Quarantäne",
           3
          ],
          [
           "2020-10-22",
           "Corona| Spiel| Test| US| Quarantäne",
           3
          ],
          [
           "2020-10-22",
           "Corona| Spiel| Test| US| Quarantäne",
           3
          ],
          [
           "2020-10-22",
           "Corona| Spiel| Test| US| Quarantäne",
           3
          ],
          [
           "2020-10-22",
           "Corona| Spiel| Test| US| Quarantäne",
           3
          ],
          [
           "2020-10-22",
           "Corona| Spiel| Test| US| Quarantäne",
           3
          ],
          [
           "2020-10-22",
           "Corona| Spiel| Test| US| Quarantäne",
           3
          ],
          [
           "2020-10-22",
           "Corona| Spiel| Test| US| Quarantäne",
           3
          ],
          [
           "2020-10-22",
           "Corona| Spiel| Test| US| Quarantäne",
           3
          ]
         ],
         "hovertemplate": "<b>%{hovertext}</b><br><br>TopWords=%{customdata[1]}<br>x=%{x}<br>y=%{y}<br>created_at=%{customdata[0]}<br>topic_number=%{customdata[2]}<extra></extra>",
         "hovertext": [
          "Staatsanwalt rechtfertigt das Schlagen von Kindern",
          "Modell sagt 26 000 Neuinfektionen am Tag voraus",
          "SCHRÖDER spricht wiedervon GEHALTSVERZICHT",
          "Belgiens Außenministerin auf Intensivstation!",
          "Behrens vor Trainings-Comeback",
          "Erneut positiver Corona-Test bei Ronaldo",
          "Pharma-Chef kündigt wirksame Impfstoffe an",
          "Corona heute weniger tödlich als im März?",
          "Werder ohne Augustinssongegen Hoffenheim",
          "Haie brauchen1 Million Euro",
          "Das Chaos-Protokoll der Absage",
          "CDU-Spitze will mehrere kleine Parteitage gleichzeitig",
          "Terroristen endlichsofort abschieben!",
          "Der Uefa fehlen 470 Mio Euro",
          "Kommt der Corona-Impfstoff noch dieses Jahr?",
          "Lauterbach unterstützt Drostens Ü50-Plan",
          "Zweiter Corona-Fall beim FC Bayern",
          "Anfang hilft 1. Spiel ohne Zuschauer",
          "So sehen Sie Stuttgart gegen Köln live im TV",
          "So geht es bei Corona-Werder jetzt weiter",
          "Corona-Alarm beim Thai-König!",
          "„Masken anzuzweifeln ist gefährlicher Unsinn“",
          "2. Gnabry-Test negativ!",
          "Wo stecken wir uns hauptsächlich mit Corona an?",
          "Dramatischer Appell von Ministerpräsident Hans",
          "US-Arzneimittelbehörde lässt Remdesivir gegen Covid-19 zu",
          "Darf man das Umgangsrecht des Kindes verweigern?",
          "Das traurige Schicksal deutscher Drogensüchtiger",
          "Wie gut warnte die Warn-App Spahns Kontakte?",
          "Maskenpflicht im Unterricht ab Montag!"
         ],
         "legendgroup": "Corona| Spiel| Test| US| Quarantäne",
         "marker": {
          "color": "#00cc96",
          "line": {
           "color": "DarkSlateGrey",
           "width": 0.15
          },
          "opacity": 0.8,
          "size": 9,
          "symbol": "circle"
         },
         "mode": "markers",
         "name": "Corona| Spiel| Test| US| Quarantäne",
         "orientation": "v",
         "showlegend": true,
         "type": "scatter",
         "x": [
          -3.968775987625122,
          -2.283569812774658,
          -3.974165678024292,
          -2.7775332927703857,
          -3.8082048892974854,
          -3.2758965492248535,
          -3.0078818798065186,
          -2.6858162879943848,
          -4.32776403427124,
          -3.5483310222625732,
          -3.178154468536377,
          -2.7785634994506836,
          -3.127269983291626,
          -3.5694360733032227,
          -2.5020809173583984,
          -2.354583263397217,
          -3.1862239837646484,
          -4.632434844970703,
          -4.0781683921813965,
          -3.625756025314331,
          -2.93074107170105,
          -2.941704511642456,
          -3.3962554931640625,
          -2.5465118885040283,
          -2.874871015548706,
          -2.5462820529937744,
          -3.2557430267333984,
          -3.2514383792877197,
          -2.8195502758026123,
          -2.8478400707244873
         ],
         "xaxis": "x",
         "y": [
          -0.384568989276886,
          0.47794878482818604,
          -0.4498610496520996,
          0.7475845217704773,
          -0.05179331824183464,
          0.4901432991027832,
          0.34630799293518066,
          0.11731065809726715,
          0.5719770193099976,
          -0.19072216749191284,
          -0.025726068764925003,
          0.5112888813018799,
          1.2107229232788086,
          -0.17407405376434326,
          0.24252930283546448,
          0.49313420057296753,
          0.47416791319847107,
          0.2009156346321106,
          0.27416369318962097,
          0.43509653210639954,
          0.9794319868087769,
          1.2999823093414307,
          0.6695294380187988,
          0.8682268857955933,
          0.7253177762031555,
          0.49860650300979614,
          0.004333568271249533,
          0.43596354126930237,
          0.45635920763015747,
          0.7541472911834717
         ],
         "yaxis": "y"
        },
        {
         "customdata": [
          [
           "2020-10-22",
           "HSV| Trainer| Spieler| Liga| Mannschaft",
           10
          ],
          [
           "2020-10-22",
           "HSV| Trainer| Spieler| Liga| Mannschaft",
           10
          ],
          [
           "2020-10-22",
           "HSV| Trainer| Spieler| Liga| Mannschaft",
           10
          ],
          [
           "2020-10-22",
           "HSV| Trainer| Spieler| Liga| Mannschaft",
           10
          ],
          [
           "2020-10-22",
           "HSV| Trainer| Spieler| Liga| Mannschaft",
           10
          ],
          [
           "2020-10-22",
           "HSV| Trainer| Spieler| Liga| Mannschaft",
           10
          ],
          [
           "2020-10-22",
           "HSV| Trainer| Spieler| Liga| Mannschaft",
           10
          ],
          [
           "2020-10-22",
           "HSV| Trainer| Spieler| Liga| Mannschaft",
           10
          ],
          [
           "2020-10-22",
           "HSV| Trainer| Spieler| Liga| Mannschaft",
           10
          ],
          [
           "2020-10-22",
           "HSV| Trainer| Spieler| Liga| Mannschaft",
           10
          ],
          [
           "2020-10-23",
           "HSV| Trainer| Spieler| Liga| Mannschaft",
           10
          ]
         ],
         "hovertemplate": "<b>%{hovertext}</b><br><br>TopWords=%{customdata[1]}<br>x=%{x}<br>y=%{y}<br>created_at=%{customdata[0]}<br>topic_number=%{customdata[2]}<extra></extra>",
         "hovertext": [
          "Erwischt! Kobel und Endo wieder voll dabei",
          "Trainer-Lob für Vollgas-Wood",
          "Kann Thioune es besser als Hecking?",
          "Weinkauf hat Aufstiegs-Trauma abgehakt",
          "Hollerbach wünscht sich ein schönes 3:3",
          "Über die Wölfe zu Löw",
          "Hofmann spielt sich bei Jogi fest",
          "Note 2 für fünf Hoffenheimer!",
          "Rösler wehrt sich gegen Kritik an Talenten!",
          "Heidi bald HeiDA!",
          "Keiner wollte zu Mark Forster"
         ],
         "legendgroup": "HSV| Trainer| Spieler| Liga| Mannschaft",
         "marker": {
          "color": "#ab63fa",
          "line": {
           "color": "DarkSlateGrey",
           "width": 0.15
          },
          "opacity": 0.8,
          "size": 9,
          "symbol": "circle"
         },
         "mode": "markers",
         "name": "HSV| Trainer| Spieler| Liga| Mannschaft",
         "orientation": "v",
         "showlegend": true,
         "type": "scatter",
         "x": [
          -5.789413928985596,
          -5.386986255645752,
          -5.505909442901611,
          -5.205016613006592,
          -5.427886962890625,
          -5.4333109855651855,
          -5.255069732666016,
          -5.124269008636475,
          -5.061389923095703,
          -4.858143329620361,
          -4.911469459533691
         ],
         "xaxis": "x",
         "y": [
          0.3496612310409546,
          -0.36506006121635437,
          -0.11635985225439072,
          -0.3646398186683655,
          0.19959726929664612,
          0.7485538125038147,
          0.6124307513237,
          0.5220595598220825,
          -0.057573895901441574,
          0.20140182971954346,
          0.13415952026844025
         ],
         "yaxis": "y"
        },
        {
         "customdata": [
          [
           "2020-10-22",
           "Derby| Schalke| BVB| Wiesbaden| Liga",
           2
          ],
          [
           "2020-10-22",
           "Derby| Schalke| BVB| Wiesbaden| Liga",
           2
          ],
          [
           "2020-10-22",
           "Derby| Schalke| BVB| Wiesbaden| Liga",
           2
          ],
          [
           "2020-10-22",
           "Derby| Schalke| BVB| Wiesbaden| Liga",
           2
          ]
         ],
         "hovertemplate": "<b>%{hovertext}</b><br><br>TopWords=%{customdata[1]}<br>x=%{x}<br>y=%{y}<br>created_at=%{customdata[0]}<br>topic_number=%{customdata[2]}<extra></extra>",
         "hovertext": [
          "Ernst ist HoßmangsHoffnungsträger",
          "Wichtig, im  Derby „mit der richtigen Härte zu agieren“",
          "Keller verzichtet, Koch und Peters kandidieren",
          "Favre eiert vorm Derby rum"
         ],
         "legendgroup": "Derby| Schalke| BVB| Wiesbaden| Liga",
         "marker": {
          "color": "#FFA15A",
          "line": {
           "color": "DarkSlateGrey",
           "width": 0.15
          },
          "opacity": 0.8,
          "size": 9,
          "symbol": "circle"
         },
         "mode": "markers",
         "name": "Derby| Schalke| BVB| Wiesbaden| Liga",
         "orientation": "v",
         "showlegend": true,
         "type": "scatter",
         "x": [
          -4.651778221130371,
          -4.4792962074279785,
          -4.258613586425781,
          -4.896981716156006
         ],
         "xaxis": "x",
         "y": [
          0.6727054715156555,
          -0.07952600717544556,
          0.9392179250717163,
          0.2945968508720398
         ],
         "yaxis": "y"
        },
        {
         "customdata": [
          [
           "2020-10-23",
           "Wahl| Trump| Biden| Kampf| Weiße Haus",
           0
          ],
          [
           "2020-10-22",
           "Wahl| Trump| Biden| Kampf| Weiße Haus",
           0
          ],
          [
           "2020-10-22",
           "Wahl| Trump| Biden| Kampf| Weiße Haus",
           0
          ]
         ],
         "hovertemplate": "<b>%{hovertext}</b><br><br>TopWords=%{customdata[1]}<br>x=%{x}<br>y=%{y}<br>created_at=%{customdata[0]}<br>topic_number=%{customdata[2]}<extra></extra>",
         "hovertext": [
          "Trump und Biden fetzen sich ums Weiße Haus",
          "Die letzte Rede-Schlacht vor der wichtigsten Wahl der Welt",
          "USA steuern auf höchste Wahlbeteiligung seit über Hundert Jahren zu"
         ],
         "legendgroup": "Wahl| Trump| Biden| Kampf| Weiße Haus",
         "marker": {
          "color": "#19d3f3",
          "line": {
           "color": "DarkSlateGrey",
           "width": 0.15
          },
          "opacity": 0.8,
          "size": 9,
          "symbol": "circle"
         },
         "mode": "markers",
         "name": "Wahl| Trump| Biden| Kampf| Weiße Haus",
         "orientation": "v",
         "showlegend": true,
         "type": "scatter",
         "x": [
          -3.392195224761963,
          -3.8126657009124756,
          -3.7670836448669434
         ],
         "xaxis": "x",
         "y": [
          0.7856358289718628,
          0.9810616374015808,
          0.9399018883705139
         ],
         "yaxis": "y"
        },
        {
         "customdata": [
          [
           "2020-10-22",
           "Spieler| Neuzugang| Hansa| Mannschaft| Trainer",
           11
          ],
          [
           "2020-10-22",
           "Spieler| Neuzugang| Hansa| Mannschaft| Trainer",
           11
          ],
          [
           "2020-10-22",
           "Spieler| Neuzugang| Hansa| Mannschaft| Trainer",
           11
          ],
          [
           "2020-10-22",
           "Spieler| Neuzugang| Hansa| Mannschaft| Trainer",
           11
          ],
          [
           "2020-10-22",
           "Spieler| Neuzugang| Hansa| Mannschaft| Trainer",
           11
          ]
         ],
         "hovertemplate": "<b>%{hovertext}</b><br><br>TopWords=%{customdata[1]}<br>x=%{x}<br>y=%{y}<br>created_at=%{customdata[0]}<br>topic_number=%{customdata[2]}<extra></extra>",
         "hovertext": [
          "Darum passt Litkaso gut zu Hansa",
          "Miamis Play-off-Chance heißtTua Tagovailoa",
          "Halles linkes Ding",
          "Lohkemper dreht voll auf!",
          "Lange ist Jenas Kompaniechef"
         ],
         "legendgroup": "Spieler| Neuzugang| Hansa| Mannschaft| Trainer",
         "marker": {
          "color": "#FF6692",
          "line": {
           "color": "DarkSlateGrey",
           "width": 0.15
          },
          "opacity": 0.8,
          "size": 9,
          "symbol": "circle"
         },
         "mode": "markers",
         "name": "Spieler| Neuzugang| Hansa| Mannschaft| Trainer",
         "orientation": "v",
         "showlegend": true,
         "type": "scatter",
         "x": [
          -5.755405426025391,
          -5.117618560791016,
          -5.771073818206787,
          -5.586653709411621,
          -5.684096336364746
         ],
         "xaxis": "x",
         "y": [
          0.03888966143131256,
          0.345947265625,
          0.30938857793807983,
          0.28011199831962585,
          0.2550465762615204
         ],
         "yaxis": "y"
        },
        {
         "customdata": [
          [
           "2020-10-22",
           "Biografie| Gedächtnisschwund| Boris Becker| Anklagepunkte| Spiel",
           7
          ],
          [
           "2020-10-22",
           "Biografie| Gedächtnisschwund| Boris Becker| Anklagepunkte| Spiel",
           7
          ],
          [
           "2020-10-22",
           "Biografie| Gedächtnisschwund| Boris Becker| Anklagepunkte| Spiel",
           7
          ],
          [
           "2020-10-22",
           "Biografie| Gedächtnisschwund| Boris Becker| Anklagepunkte| Spiel",
           7
          ],
          [
           "2020-10-22",
           "Biografie| Gedächtnisschwund| Boris Becker| Anklagepunkte| Spiel",
           7
          ],
          [
           "2020-10-22",
           "Biografie| Gedächtnisschwund| Boris Becker| Anklagepunkte| Spiel",
           7
          ]
         ],
         "hovertemplate": "<b>%{hovertext}</b><br><br>TopWords=%{customdata[1]}<br>x=%{x}<br>y=%{y}<br>created_at=%{customdata[0]}<br>topic_number=%{customdata[2]}<extra></extra>",
         "hovertext": [
          "Hier wird jetztHollywood verramscht",
          "Ex-Neonazi mit Gedächtnisschwund",
          "Neun neue Anklagepunkte gegen Boris Becker!",
          "SchullesSorgen-Puzzle",
          "Cary Grant war bisexuell und auf LSD",
          "Dieser Nackedei isteine Botschaft"
         ],
         "legendgroup": "Biografie| Gedächtnisschwund| Boris Becker| Anklagepunkte| Spiel",
         "marker": {
          "color": "#B6E880",
          "line": {
           "color": "DarkSlateGrey",
           "width": 0.15
          },
          "opacity": 0.8,
          "size": 9,
          "symbol": "circle"
         },
         "mode": "markers",
         "name": "Biografie| Gedächtnisschwund| Boris Becker| Anklagepunkte| Spiel",
         "orientation": "v",
         "showlegend": true,
         "type": "scatter",
         "x": [
          -4.901216506958008,
          -4.297142028808594,
          -4.589104652404785,
          -4.671840190887451,
          -4.79280948638916,
          -5.036073684692383
         ],
         "xaxis": "x",
         "y": [
          1.4130219221115112,
          1.463185429573059,
          1.426562786102295,
          1.1393404006958008,
          1.3751699924468994,
          1.3405498266220093
         ],
         "yaxis": "y"
        },
        {
         "customdata": [
          [
           "2020-10-22",
           "Trainer| Bundesliga| Flügel-Fight| Europa| Peter Kadiru",
           4
          ],
          [
           "2020-10-22",
           "Trainer| Bundesliga| Flügel-Fight| Europa| Peter Kadiru",
           4
          ],
          [
           "2020-10-22",
           "Trainer| Bundesliga| Flügel-Fight| Europa| Peter Kadiru",
           4
          ],
          [
           "2020-10-22",
           "Trainer| Bundesliga| Flügel-Fight| Europa| Peter Kadiru",
           4
          ],
          [
           "2020-10-22",
           "Trainer| Bundesliga| Flügel-Fight| Europa| Peter Kadiru",
           4
          ],
          [
           "2020-10-22",
           "Trainer| Bundesliga| Flügel-Fight| Europa| Peter Kadiru",
           4
          ],
          [
           "2020-10-22",
           "Trainer| Bundesliga| Flügel-Fight| Europa| Peter Kadiru",
           4
          ],
          [
           "2020-10-22",
           "Trainer| Bundesliga| Flügel-Fight| Europa| Peter Kadiru",
           4
          ]
         ],
         "hovertemplate": "<b>%{hovertext}</b><br><br>TopWords=%{customdata[1]}<br>x=%{x}<br>y=%{y}<br>created_at=%{customdata[0]}<br>topic_number=%{customdata[2]}<extra></extra>",
         "hovertext": [
          "Peter Kadiru wird zum Schläger-Typ",
          "Boateng muss mitHand-Schiene trainieren",
          "Coman erste Sahne! Aber jetzt kommt Sané",
          "Götze trifft auch in Europa",
          "Jones zieht zurücknach Frankfurt",
          "Kocak droht mitBlitz-Strafe",
          "„REIF IST LIVE“ amFreitag um 11 Uhr!",
          "Der MOTZivator!"
         ],
         "legendgroup": "Trainer| Bundesliga| Flügel-Fight| Europa| Peter Kadiru",
         "marker": {
          "color": "#FF97FF",
          "line": {
           "color": "DarkSlateGrey",
           "width": 0.15
          },
          "opacity": 0.8,
          "size": 9,
          "symbol": "circle"
         },
         "mode": "markers",
         "name": "Trainer| Bundesliga| Flügel-Fight| Europa| Peter Kadiru",
         "orientation": "v",
         "showlegend": true,
         "type": "scatter",
         "x": [
          -5.1434454917907715,
          -4.9629902839660645,
          -5.439787864685059,
          -5.8741655349731445,
          -5.840532302856445,
          -5.520348072052002,
          -5.014071464538574,
          -5.599035739898682
         ],
         "xaxis": "x",
         "y": [
          1.167718529701233,
          0.47105979919433594,
          0.8985084891319275,
          1.2202370166778564,
          0.8484082221984863,
          0.5451008677482605,
          1.1519999504089355,
          1.1043263673782349
         ],
         "yaxis": "y"
        },
        {
         "customdata": [
          [
           "2020-10-22",
           "Russland| Einbrecher| Kunstwerk| Sanktionen| EU",
           6
          ],
          [
           "2020-10-22",
           "Russland| Einbrecher| Kunstwerk| Sanktionen| EU",
           6
          ],
          [
           "2020-10-22",
           "Russland| Einbrecher| Kunstwerk| Sanktionen| EU",
           6
          ],
          [
           "2020-10-22",
           "Russland| Einbrecher| Kunstwerk| Sanktionen| EU",
           6
          ],
          [
           "2020-10-22",
           "Russland| Einbrecher| Kunstwerk| Sanktionen| EU",
           6
          ],
          [
           "2020-10-22",
           "Russland| Einbrecher| Kunstwerk| Sanktionen| EU",
           6
          ]
         ],
         "hovertemplate": "<b>%{hovertext}</b><br><br>TopWords=%{customdata[1]}<br>x=%{x}<br>y=%{y}<br>created_at=%{customdata[0]}<br>topic_number=%{customdata[2]}<extra></extra>",
         "hovertext": [
          "Neue EU-Sanktionen gegen Russland",
          "Überwachungskamera zeigt Blitz-Raub!",
          "Beuys-Kunstwerk aus Ausstellung verschwunden",
          "Snowden erhält unbefristeten Aufenthalt in Russland",
          "Bruch in der Barkasse",
          "Todes-Drama um Zirkus-Elefanten"
         ],
         "legendgroup": "Russland| Einbrecher| Kunstwerk| Sanktionen| EU",
         "marker": {
          "color": "#FECB52",
          "line": {
           "color": "DarkSlateGrey",
           "width": 0.15
          },
          "opacity": 0.8,
          "size": 9,
          "symbol": "circle"
         },
         "mode": "markers",
         "name": "Russland| Einbrecher| Kunstwerk| Sanktionen| EU",
         "orientation": "v",
         "showlegend": true,
         "type": "scatter",
         "x": [
          -3.841876745223999,
          -3.7480971813201904,
          -4.573822498321533,
          -3.9351723194122314,
          -4.020904541015625,
          -4.540546417236328
         ],
         "xaxis": "x",
         "y": [
          1.831912875175476,
          2.099268674850464,
          1.69051992893219,
          1.7385692596435547,
          2.0661520957946777,
          1.9692859649658203
         ],
         "yaxis": "y"
        },
        {
         "customdata": [
          [
           "2020-10-22",
           "Corona-Burn-out| Laura| Wendler| Florida| Psychologin",
           1
          ],
          [
           "2020-10-22",
           "Corona-Burn-out| Laura| Wendler| Florida| Psychologin",
           1
          ],
          [
           "2020-10-22",
           "Corona-Burn-out| Laura| Wendler| Florida| Psychologin",
           1
          ]
         ],
         "hovertemplate": "<b>%{hovertext}</b><br><br>TopWords=%{customdata[1]}<br>x=%{x}<br>y=%{y}<br>created_at=%{customdata[0]}<br>topic_number=%{customdata[2]}<extra></extra>",
         "hovertext": [
          "Stehen wir kurz vor dem „Corona-Burn-out“?",
          "Uns hat der Blitz getroffen!",
          "Warum Wendler und Laura schon wieder Ärger droht"
         ],
         "legendgroup": "Corona-Burn-out| Laura| Wendler| Florida| Psychologin",
         "marker": {
          "color": "#636efa",
          "line": {
           "color": "DarkSlateGrey",
           "width": 0.15
          },
          "opacity": 0.8,
          "size": 9,
          "symbol": "circle"
         },
         "mode": "markers",
         "name": "Corona-Burn-out| Laura| Wendler| Florida| Psychologin",
         "orientation": "v",
         "showlegend": true,
         "type": "scatter",
         "x": [
          -3.940329074859619,
          -4.462879180908203,
          -4.211283206939697
         ],
         "xaxis": "x",
         "y": [
          0.13895605504512787,
          -0.16839778423309326,
          -0.1462644636631012
         ],
         "yaxis": "y"
        },
        {
         "customdata": [
          [
           "2020-10-22",
           "Fehltritt| Union| Skispringer| Trainer| Training",
           9
          ],
          [
           "2020-10-22",
           "Fehltritt| Union| Skispringer| Trainer| Training",
           9
          ],
          [
           "2020-10-22",
           "Fehltritt| Union| Skispringer| Trainer| Training",
           9
          ]
         ],
         "hovertemplate": "<b>%{hovertext}</b><br><br>TopWords=%{customdata[1]}<br>x=%{x}<br>y=%{y}<br>created_at=%{customdata[0]}<br>topic_number=%{customdata[2]}<extra></extra>",
         "hovertext": [
          "Au Backe! Union ohne Karius",
          "Ohne Halstenberggegen Hertha",
          "Leyhe fällt komplette Saison aus"
         ],
         "legendgroup": "Fehltritt| Union| Skispringer| Trainer| Training",
         "marker": {
          "color": "#EF553B",
          "line": {
           "color": "DarkSlateGrey",
           "width": 0.15
          },
          "opacity": 0.8,
          "size": 9,
          "symbol": "circle"
         },
         "mode": "markers",
         "name": "Fehltritt| Union| Skispringer| Trainer| Training",
         "orientation": "v",
         "showlegend": true,
         "type": "scatter",
         "x": [
          -5.086392879486084,
          -4.971367359161377,
          -5.157985210418701
         ],
         "xaxis": "x",
         "y": [
          0.08803343772888184,
          -0.0732964500784874,
          -0.11758565157651901
         ],
         "yaxis": "y"
        },
        {
         "customdata": [
          [
           "2020-10-22",
           "Kampf-Kandidatur| Demagoge| HSV| Posten| Präsident",
           8
          ],
          [
           "2020-10-22",
           "Kampf-Kandidatur| Demagoge| HSV| Posten| Präsident",
           8
          ],
          [
           "2020-10-22",
           "Kampf-Kandidatur| Demagoge| HSV| Posten| Präsident",
           8
          ]
         ],
         "hovertemplate": "<b>%{hovertext}</b><br><br>TopWords=%{customdata[1]}<br>x=%{x}<br>y=%{y}<br>created_at=%{customdata[0]}<br>topic_number=%{customdata[2]}<extra></extra>",
         "hovertext": [
          "Kampf-Kandidatur umVize-Posten sorgt für Krach",
          "„Trump ist ein Demagoge“",
          "Leibold und Vagnoman sind zurück"
         ],
         "legendgroup": "Kampf-Kandidatur| Demagoge| HSV| Posten| Präsident",
         "marker": {
          "color": "#00cc96",
          "line": {
           "color": "DarkSlateGrey",
           "width": 0.15
          },
          "opacity": 0.8,
          "size": 9,
          "symbol": "circle"
         },
         "mode": "markers",
         "name": "Kampf-Kandidatur| Demagoge| HSV| Posten| Präsident",
         "orientation": "v",
         "showlegend": true,
         "type": "scatter",
         "x": [
          -4.1653876304626465,
          -4.0562615394592285,
          -4.5746965408325195
         ],
         "xaxis": "x",
         "y": [
          -0.07618788629770279,
          0.4584662914276123,
          0.3941352963447571
         ],
         "yaxis": "y"
        },
        {
         "customdata": [
          [
           "2020-10-22",
           "Geburt| Hoffenheim| Trainer| Hertha| Kindes",
           12
          ],
          [
           "2020-10-22",
           "Geburt| Hoffenheim| Trainer| Hertha| Kindes",
           12
          ],
          [
           "2020-10-22",
           "Geburt| Hoffenheim| Trainer| Hertha| Kindes",
           12
          ]
         ],
         "hovertemplate": "<b>%{hovertext}</b><br><br>TopWords=%{customdata[1]}<br>x=%{x}<br>y=%{y}<br>created_at=%{customdata[0]}<br>topic_number=%{customdata[2]}<extra></extra>",
         "hovertext": [
          "Nach Mega-Zoff jetzt Startelf gegen Hertha?",
          "Hoffenheim feiert irren Baby-Sieg",
          "Baby-Wechsel bei Hoffenheim-Sieg"
         ],
         "legendgroup": "Geburt| Hoffenheim| Trainer| Hertha| Kindes",
         "marker": {
          "color": "#ab63fa",
          "line": {
           "color": "DarkSlateGrey",
           "width": 0.15
          },
          "opacity": 0.8,
          "size": 9,
          "symbol": "circle"
         },
         "mode": "markers",
         "name": "Geburt| Hoffenheim| Trainer| Hertha| Kindes",
         "orientation": "v",
         "showlegend": true,
         "type": "scatter",
         "x": [
          -5.439579963684082,
          -5.244678020477295,
          -5.397340297698975
         ],
         "xaxis": "x",
         "y": [
          -0.07365214079618454,
          0.7204514741897583,
          0.8607550263404846
         ],
         "yaxis": "y"
        }
       ],
       "layout": {
        "autosize": true,
        "legend": {
         "title": {
          "text": "TopWords"
         },
         "tracegroupgap": 0
        },
        "margin": {
         "t": 60
        },
        "template": {
         "data": {
          "bar": [
           {
            "error_x": {
             "color": "#2a3f5f"
            },
            "error_y": {
             "color": "#2a3f5f"
            },
            "marker": {
             "line": {
              "color": "#E5ECF6",
              "width": 0.5
             }
            },
            "type": "bar"
           }
          ],
          "barpolar": [
           {
            "marker": {
             "line": {
              "color": "#E5ECF6",
              "width": 0.5
             }
            },
            "type": "barpolar"
           }
          ],
          "carpet": [
           {
            "aaxis": {
             "endlinecolor": "#2a3f5f",
             "gridcolor": "white",
             "linecolor": "white",
             "minorgridcolor": "white",
             "startlinecolor": "#2a3f5f"
            },
            "baxis": {
             "endlinecolor": "#2a3f5f",
             "gridcolor": "white",
             "linecolor": "white",
             "minorgridcolor": "white",
             "startlinecolor": "#2a3f5f"
            },
            "type": "carpet"
           }
          ],
          "choropleth": [
           {
            "colorbar": {
             "outlinewidth": 0,
             "ticks": ""
            },
            "type": "choropleth"
           }
          ],
          "contour": [
           {
            "colorbar": {
             "outlinewidth": 0,
             "ticks": ""
            },
            "colorscale": [
             [
              0,
              "#0d0887"
             ],
             [
              0.1111111111111111,
              "#46039f"
             ],
             [
              0.2222222222222222,
              "#7201a8"
             ],
             [
              0.3333333333333333,
              "#9c179e"
             ],
             [
              0.4444444444444444,
              "#bd3786"
             ],
             [
              0.5555555555555556,
              "#d8576b"
             ],
             [
              0.6666666666666666,
              "#ed7953"
             ],
             [
              0.7777777777777778,
              "#fb9f3a"
             ],
             [
              0.8888888888888888,
              "#fdca26"
             ],
             [
              1,
              "#f0f921"
             ]
            ],
            "type": "contour"
           }
          ],
          "contourcarpet": [
           {
            "colorbar": {
             "outlinewidth": 0,
             "ticks": ""
            },
            "type": "contourcarpet"
           }
          ],
          "heatmap": [
           {
            "colorbar": {
             "outlinewidth": 0,
             "ticks": ""
            },
            "colorscale": [
             [
              0,
              "#0d0887"
             ],
             [
              0.1111111111111111,
              "#46039f"
             ],
             [
              0.2222222222222222,
              "#7201a8"
             ],
             [
              0.3333333333333333,
              "#9c179e"
             ],
             [
              0.4444444444444444,
              "#bd3786"
             ],
             [
              0.5555555555555556,
              "#d8576b"
             ],
             [
              0.6666666666666666,
              "#ed7953"
             ],
             [
              0.7777777777777778,
              "#fb9f3a"
             ],
             [
              0.8888888888888888,
              "#fdca26"
             ],
             [
              1,
              "#f0f921"
             ]
            ],
            "type": "heatmap"
           }
          ],
          "heatmapgl": [
           {
            "colorbar": {
             "outlinewidth": 0,
             "ticks": ""
            },
            "colorscale": [
             [
              0,
              "#0d0887"
             ],
             [
              0.1111111111111111,
              "#46039f"
             ],
             [
              0.2222222222222222,
              "#7201a8"
             ],
             [
              0.3333333333333333,
              "#9c179e"
             ],
             [
              0.4444444444444444,
              "#bd3786"
             ],
             [
              0.5555555555555556,
              "#d8576b"
             ],
             [
              0.6666666666666666,
              "#ed7953"
             ],
             [
              0.7777777777777778,
              "#fb9f3a"
             ],
             [
              0.8888888888888888,
              "#fdca26"
             ],
             [
              1,
              "#f0f921"
             ]
            ],
            "type": "heatmapgl"
           }
          ],
          "histogram": [
           {
            "marker": {
             "colorbar": {
              "outlinewidth": 0,
              "ticks": ""
             }
            },
            "type": "histogram"
           }
          ],
          "histogram2d": [
           {
            "colorbar": {
             "outlinewidth": 0,
             "ticks": ""
            },
            "colorscale": [
             [
              0,
              "#0d0887"
             ],
             [
              0.1111111111111111,
              "#46039f"
             ],
             [
              0.2222222222222222,
              "#7201a8"
             ],
             [
              0.3333333333333333,
              "#9c179e"
             ],
             [
              0.4444444444444444,
              "#bd3786"
             ],
             [
              0.5555555555555556,
              "#d8576b"
             ],
             [
              0.6666666666666666,
              "#ed7953"
             ],
             [
              0.7777777777777778,
              "#fb9f3a"
             ],
             [
              0.8888888888888888,
              "#fdca26"
             ],
             [
              1,
              "#f0f921"
             ]
            ],
            "type": "histogram2d"
           }
          ],
          "histogram2dcontour": [
           {
            "colorbar": {
             "outlinewidth": 0,
             "ticks": ""
            },
            "colorscale": [
             [
              0,
              "#0d0887"
             ],
             [
              0.1111111111111111,
              "#46039f"
             ],
             [
              0.2222222222222222,
              "#7201a8"
             ],
             [
              0.3333333333333333,
              "#9c179e"
             ],
             [
              0.4444444444444444,
              "#bd3786"
             ],
             [
              0.5555555555555556,
              "#d8576b"
             ],
             [
              0.6666666666666666,
              "#ed7953"
             ],
             [
              0.7777777777777778,
              "#fb9f3a"
             ],
             [
              0.8888888888888888,
              "#fdca26"
             ],
             [
              1,
              "#f0f921"
             ]
            ],
            "type": "histogram2dcontour"
           }
          ],
          "mesh3d": [
           {
            "colorbar": {
             "outlinewidth": 0,
             "ticks": ""
            },
            "type": "mesh3d"
           }
          ],
          "parcoords": [
           {
            "line": {
             "colorbar": {
              "outlinewidth": 0,
              "ticks": ""
             }
            },
            "type": "parcoords"
           }
          ],
          "pie": [
           {
            "automargin": true,
            "type": "pie"
           }
          ],
          "scatter": [
           {
            "marker": {
             "colorbar": {
              "outlinewidth": 0,
              "ticks": ""
             }
            },
            "type": "scatter"
           }
          ],
          "scatter3d": [
           {
            "line": {
             "colorbar": {
              "outlinewidth": 0,
              "ticks": ""
             }
            },
            "marker": {
             "colorbar": {
              "outlinewidth": 0,
              "ticks": ""
             }
            },
            "type": "scatter3d"
           }
          ],
          "scattercarpet": [
           {
            "marker": {
             "colorbar": {
              "outlinewidth": 0,
              "ticks": ""
             }
            },
            "type": "scattercarpet"
           }
          ],
          "scattergeo": [
           {
            "marker": {
             "colorbar": {
              "outlinewidth": 0,
              "ticks": ""
             }
            },
            "type": "scattergeo"
           }
          ],
          "scattergl": [
           {
            "marker": {
             "colorbar": {
              "outlinewidth": 0,
              "ticks": ""
             }
            },
            "type": "scattergl"
           }
          ],
          "scattermapbox": [
           {
            "marker": {
             "colorbar": {
              "outlinewidth": 0,
              "ticks": ""
             }
            },
            "type": "scattermapbox"
           }
          ],
          "scatterpolar": [
           {
            "marker": {
             "colorbar": {
              "outlinewidth": 0,
              "ticks": ""
             }
            },
            "type": "scatterpolar"
           }
          ],
          "scatterpolargl": [
           {
            "marker": {
             "colorbar": {
              "outlinewidth": 0,
              "ticks": ""
             }
            },
            "type": "scatterpolargl"
           }
          ],
          "scatterternary": [
           {
            "marker": {
             "colorbar": {
              "outlinewidth": 0,
              "ticks": ""
             }
            },
            "type": "scatterternary"
           }
          ],
          "surface": [
           {
            "colorbar": {
             "outlinewidth": 0,
             "ticks": ""
            },
            "colorscale": [
             [
              0,
              "#0d0887"
             ],
             [
              0.1111111111111111,
              "#46039f"
             ],
             [
              0.2222222222222222,
              "#7201a8"
             ],
             [
              0.3333333333333333,
              "#9c179e"
             ],
             [
              0.4444444444444444,
              "#bd3786"
             ],
             [
              0.5555555555555556,
              "#d8576b"
             ],
             [
              0.6666666666666666,
              "#ed7953"
             ],
             [
              0.7777777777777778,
              "#fb9f3a"
             ],
             [
              0.8888888888888888,
              "#fdca26"
             ],
             [
              1,
              "#f0f921"
             ]
            ],
            "type": "surface"
           }
          ],
          "table": [
           {
            "cells": {
             "fill": {
              "color": "#EBF0F8"
             },
             "line": {
              "color": "white"
             }
            },
            "header": {
             "fill": {
              "color": "#C8D4E3"
             },
             "line": {
              "color": "white"
             }
            },
            "type": "table"
           }
          ]
         },
         "layout": {
          "annotationdefaults": {
           "arrowcolor": "#2a3f5f",
           "arrowhead": 0,
           "arrowwidth": 1
          },
          "coloraxis": {
           "colorbar": {
            "outlinewidth": 0,
            "ticks": ""
           }
          },
          "colorscale": {
           "diverging": [
            [
             0,
             "#8e0152"
            ],
            [
             0.1,
             "#c51b7d"
            ],
            [
             0.2,
             "#de77ae"
            ],
            [
             0.3,
             "#f1b6da"
            ],
            [
             0.4,
             "#fde0ef"
            ],
            [
             0.5,
             "#f7f7f7"
            ],
            [
             0.6,
             "#e6f5d0"
            ],
            [
             0.7,
             "#b8e186"
            ],
            [
             0.8,
             "#7fbc41"
            ],
            [
             0.9,
             "#4d9221"
            ],
            [
             1,
             "#276419"
            ]
           ],
           "sequential": [
            [
             0,
             "#0d0887"
            ],
            [
             0.1111111111111111,
             "#46039f"
            ],
            [
             0.2222222222222222,
             "#7201a8"
            ],
            [
             0.3333333333333333,
             "#9c179e"
            ],
            [
             0.4444444444444444,
             "#bd3786"
            ],
            [
             0.5555555555555556,
             "#d8576b"
            ],
            [
             0.6666666666666666,
             "#ed7953"
            ],
            [
             0.7777777777777778,
             "#fb9f3a"
            ],
            [
             0.8888888888888888,
             "#fdca26"
            ],
            [
             1,
             "#f0f921"
            ]
           ],
           "sequentialminus": [
            [
             0,
             "#0d0887"
            ],
            [
             0.1111111111111111,
             "#46039f"
            ],
            [
             0.2222222222222222,
             "#7201a8"
            ],
            [
             0.3333333333333333,
             "#9c179e"
            ],
            [
             0.4444444444444444,
             "#bd3786"
            ],
            [
             0.5555555555555556,
             "#d8576b"
            ],
            [
             0.6666666666666666,
             "#ed7953"
            ],
            [
             0.7777777777777778,
             "#fb9f3a"
            ],
            [
             0.8888888888888888,
             "#fdca26"
            ],
            [
             1,
             "#f0f921"
            ]
           ]
          },
          "colorway": [
           "#636efa",
           "#EF553B",
           "#00cc96",
           "#ab63fa",
           "#FFA15A",
           "#19d3f3",
           "#FF6692",
           "#B6E880",
           "#FF97FF",
           "#FECB52"
          ],
          "font": {
           "color": "#2a3f5f"
          },
          "geo": {
           "bgcolor": "white",
           "lakecolor": "white",
           "landcolor": "#E5ECF6",
           "showlakes": true,
           "showland": true,
           "subunitcolor": "white"
          },
          "hoverlabel": {
           "align": "left"
          },
          "hovermode": "closest",
          "mapbox": {
           "style": "light"
          },
          "paper_bgcolor": "white",
          "plot_bgcolor": "#E5ECF6",
          "polar": {
           "angularaxis": {
            "gridcolor": "white",
            "linecolor": "white",
            "ticks": ""
           },
           "bgcolor": "#E5ECF6",
           "radialaxis": {
            "gridcolor": "white",
            "linecolor": "white",
            "ticks": ""
           }
          },
          "scene": {
           "xaxis": {
            "backgroundcolor": "#E5ECF6",
            "gridcolor": "white",
            "gridwidth": 2,
            "linecolor": "white",
            "showbackground": true,
            "ticks": "",
            "zerolinecolor": "white"
           },
           "yaxis": {
            "backgroundcolor": "#E5ECF6",
            "gridcolor": "white",
            "gridwidth": 2,
            "linecolor": "white",
            "showbackground": true,
            "ticks": "",
            "zerolinecolor": "white"
           },
           "zaxis": {
            "backgroundcolor": "#E5ECF6",
            "gridcolor": "white",
            "gridwidth": 2,
            "linecolor": "white",
            "showbackground": true,
            "ticks": "",
            "zerolinecolor": "white"
           }
          },
          "shapedefaults": {
           "line": {
            "color": "#2a3f5f"
           }
          },
          "ternary": {
           "aaxis": {
            "gridcolor": "white",
            "linecolor": "white",
            "ticks": ""
           },
           "baxis": {
            "gridcolor": "white",
            "linecolor": "white",
            "ticks": ""
           },
           "bgcolor": "#E5ECF6",
           "caxis": {
            "gridcolor": "white",
            "linecolor": "white",
            "ticks": ""
           }
          },
          "title": {
           "x": 0.05
          },
          "xaxis": {
           "automargin": true,
           "gridcolor": "white",
           "linecolor": "white",
           "ticks": "",
           "title": {
            "standoff": 15
           },
           "zerolinecolor": "white",
           "zerolinewidth": 2
          },
          "yaxis": {
           "automargin": true,
           "gridcolor": "white",
           "linecolor": "white",
           "ticks": "",
           "title": {
            "standoff": 15
           },
           "zerolinecolor": "white",
           "zerolinewidth": 2
          }
         }
        },
        "xaxis": {
         "anchor": "y",
         "autorange": true,
         "domain": [
          0,
          1
         ],
         "range": [
          -6.089077734652861,
          -2.068657613094942
         ],
         "title": {
          "text": "x"
         },
         "type": "linear"
        },
        "yaxis": {
         "anchor": "x",
         "autorange": true,
         "domain": [
          0,
          1
         ],
         "range": [
          -0.8295758461725591,
          2.2747917866480227
         ],
         "title": {
          "text": "y"
         },
         "type": "linear"
        }
       }
      },
      "image/png": "[encoded data removed]",
      "text/html": [
       "<div>                            <div id=\"9e78ab73-479d-4489-b44c-5dca4d534445\" class=\"plotly-graph-div\" style=\"height:1000px; width:100%;\"></div>            <script type=\"text/javascript\">                require([\"plotly\"], function(Plotly) {                    window.PLOTLYENV=window.PLOTLYENV || {};                                    if (document.getElementById(\"9e78ab73-479d-4489-b44c-5dca4d534445\")) {                    Plotly.newPlot(                        \"9e78ab73-479d-4489-b44c-5dca4d534445\",                        [{\"customdata\": [[\"2020-10-22\", \"Dresden| Terrorist| Terroristen| Frau| Existenz\", 5], [\"2020-10-22\", \"Dresden| Terrorist| Terroristen| Frau| Existenz\", 5], [\"2020-10-22\", \"Dresden| Terrorist| Terroristen| Frau| Existenz\", 5]], \"hovertemplate\": \"<b>%{hovertext}</b><br><br>TopWords=%{customdata[1]}<br>x=%{x}<br>y=%{y}<br>created_at=%{customdata[0]}<br>topic_number=%{customdata[2]}<extra></extra>\", \"hovertext\": [\"Schluss mit Schutzvon Terroristen!\", \"ISIS-Terrorist wollte Christen \\u201eschlachten\\u201c und \\u201eZunge abschneiden\\u201c\", \"Arm durch Pflege!\"], \"legendgroup\": \"Dresden| Terrorist| Terroristen| Frau| Existenz\", \"marker\": {\"color\": \"#636efa\", \"line\": {\"color\": \"DarkSlateGrey\", \"width\": 0.15}, \"opacity\": 0.8, \"size\": 9, \"symbol\": \"circle\"}, \"mode\": \"markers\", \"name\": \"Dresden| Terrorist| Terroristen| Frau| Existenz\", \"orientation\": \"v\", \"showlegend\": true, \"type\": \"scatter\", \"x\": [-3.3982880115509033, -3.8601675033569336, -3.3500194549560547], \"xaxis\": \"x\", \"y\": [1.959372878074646, 1.7501007318496704, 1.6240544319152832], \"yaxis\": \"y\"}, {\"customdata\": [[\"2020-10-22\", \"Hoffnung| Corona| Frankfurt| Schalke| Platz\", -1], [\"2020-10-22\", \"Hoffnung| Corona| Frankfurt| Schalke| Platz\", -1], [\"2020-10-22\", \"Hoffnung| Corona| Frankfurt| Schalke| Platz\", -1], [\"2020-10-22\", \"Hoffnung| Corona| Frankfurt| Schalke| Platz\", -1], [\"2020-10-22\", \"Hoffnung| Corona| Frankfurt| Schalke| Platz\", -1], [\"2020-10-22\", \"Hoffnung| Corona| Frankfurt| Schalke| Platz\", -1], [\"2020-10-22\", \"Hoffnung| Corona| Frankfurt| Schalke| Platz\", -1], [\"2020-10-22\", \"Hoffnung| Corona| Frankfurt| Schalke| Platz\", -1], [\"2020-10-22\", \"Hoffnung| Corona| Frankfurt| Schalke| Platz\", -1], [\"2020-10-22\", \"Hoffnung| Corona| Frankfurt| Schalke| Platz\", -1], [\"2020-10-22\", \"Hoffnung| Corona| Frankfurt| Schalke| Platz\", -1]], \"hovertemplate\": \"<b>%{hovertext}</b><br><br>TopWords=%{customdata[1]}<br>x=%{x}<br>y=%{y}<br>created_at=%{customdata[0]}<br>topic_number=%{customdata[2]}<extra></extra>\", \"hovertext\": [\"\\u201eWir haben die Ultra-Botschaft verstanden!\\u201c\", \"Fan-Entscheidung kurz vorm Anpfiff?\", \"Waldhof krallt sich  neuen Brustsponsor\", \"Sportwetten abDezember bei BildBet\", \"So hei\\u00df sieht das neue Rebstockbad aus\", \"Eine Liebe ist schon verpufft!\", \"Negativzins-Wahnsinnbreitet sich weiter aus\", \"Maina ist zur\\u00fcck auf dem Platz\", \"Lieber Chaos-Flughafern Berlin,\", \"Angeklagte legen Gest\\u00e4ndnis ab\", \"PEL\\u00c9 80!\"], \"legendgroup\": \"Hoffnung| Corona| Frankfurt| Schalke| Platz\", \"marker\": {\"color\": \"#EF553B\", \"line\": {\"color\": \"DarkSlateGrey\", \"width\": 0.15}, \"opacity\": 0.8, \"size\": 9, \"symbol\": \"circle\"}, \"mode\": \"markers\", \"name\": \"Hoffnung| Corona| Frankfurt| Schalke| Platz\", \"orientation\": \"v\", \"showlegend\": true, \"type\": \"scatter\", \"x\": [-5.49248743057251, -4.6181159019470215, -4.470982074737549, -4.532841682434082, -5.034834861755371, -4.672047138214111, -4.8182854652404785, -4.7998151779174805, -4.3313164710998535, -4.056046485900879, -5.200754165649414], \"xaxis\": \"x\", \"y\": [1.0814248323440552, -0.654052734375, 0.7598130106925964, 1.0117216110229492, 0.7505171298980713, 0.6312293410301208, 1.1735961437225342, -0.09480588883161545, -0.11101894825696945, 0.925277054309845, 1.7068825960159302], \"yaxis\": \"y\"}, {\"customdata\": [[\"2020-10-22\", \"Corona| Spiel| Test| US| Quarant\\u00e4ne\", 3], [\"2020-10-22\", \"Corona| Spiel| Test| US| Quarant\\u00e4ne\", 3], [\"2020-10-22\", \"Corona| Spiel| Test| US| Quarant\\u00e4ne\", 3], [\"2020-10-22\", \"Corona| Spiel| Test| US| Quarant\\u00e4ne\", 3], [\"2020-10-22\", \"Corona| Spiel| Test| US| Quarant\\u00e4ne\", 3], [\"2020-10-22\", \"Corona| Spiel| Test| US| Quarant\\u00e4ne\", 3], [\"2020-10-23\", \"Corona| Spiel| Test| US| Quarant\\u00e4ne\", 3], [\"2020-10-22\", \"Corona| Spiel| Test| US| Quarant\\u00e4ne\", 3], [\"2020-10-22\", \"Corona| Spiel| Test| US| Quarant\\u00e4ne\", 3], [\"2020-10-22\", \"Corona| Spiel| Test| US| Quarant\\u00e4ne\", 3], [\"2020-10-22\", \"Corona| Spiel| Test| US| Quarant\\u00e4ne\", 3], [\"2020-10-23\", \"Corona| Spiel| Test| US| Quarant\\u00e4ne\", 3], [\"2020-10-22\", \"Corona| Spiel| Test| US| Quarant\\u00e4ne\", 3], [\"2020-10-22\", \"Corona| Spiel| Test| US| Quarant\\u00e4ne\", 3], [\"2020-10-22\", \"Corona| Spiel| Test| US| Quarant\\u00e4ne\", 3], [\"2020-10-22\", \"Corona| Spiel| Test| US| Quarant\\u00e4ne\", 3], [\"2020-10-22\", \"Corona| Spiel| Test| US| Quarant\\u00e4ne\", 3], [\"2020-10-22\", \"Corona| Spiel| Test| US| Quarant\\u00e4ne\", 3], [\"2020-10-22\", \"Corona| Spiel| Test| US| Quarant\\u00e4ne\", 3], [\"2020-10-22\", \"Corona| Spiel| Test| US| Quarant\\u00e4ne\", 3], [\"2020-10-22\", \"Corona| Spiel| Test| US| Quarant\\u00e4ne\", 3], [\"2020-10-22\", \"Corona| Spiel| Test| US| Quarant\\u00e4ne\", 3], [\"2020-10-22\", \"Corona| Spiel| Test| US| Quarant\\u00e4ne\", 3], [\"2020-10-22\", \"Corona| Spiel| Test| US| Quarant\\u00e4ne\", 3], [\"2020-10-22\", \"Corona| Spiel| Test| US| Quarant\\u00e4ne\", 3], [\"2020-10-22\", \"Corona| Spiel| Test| US| Quarant\\u00e4ne\", 3], [\"2020-10-22\", \"Corona| Spiel| Test| US| Quarant\\u00e4ne\", 3], [\"2020-10-22\", \"Corona| Spiel| Test| US| Quarant\\u00e4ne\", 3], [\"2020-10-22\", \"Corona| Spiel| Test| US| Quarant\\u00e4ne\", 3], [\"2020-10-22\", \"Corona| Spiel| Test| US| Quarant\\u00e4ne\", 3]], \"hovertemplate\": \"<b>%{hovertext}</b><br><br>TopWords=%{customdata[1]}<br>x=%{x}<br>y=%{y}<br>created_at=%{customdata[0]}<br>topic_number=%{customdata[2]}<extra></extra>\", \"hovertext\": [\"Staatsanwalt rechtfertigt das Schlagen von Kindern\", \"Modell sagt 26 000 Neuinfektionen am Tag voraus\", \"SCHR\\u00d6DER spricht wiedervon GEHALTSVERZICHT\", \"Belgiens Au\\u00dfenministerin auf Intensivstation!\", \"Behrens vor Trainings-Comeback\", \"Erneut positiver Corona-Test bei Ronaldo\", \"Pharma-Chef k\\u00fcndigt wirksame Impfstoffe an\", \"Corona heute weniger t\\u00f6dlich als im M\\u00e4rz?\", \"Werder ohne Augustinssongegen Hoffenheim\", \"Haie brauchen1 Million Euro\", \"Das Chaos-Protokoll der Absage\", \"CDU-Spitze will mehrere kleine Parteitage gleichzeitig\", \"Terroristen endlichsofort abschieben!\", \"Der Uefa fehlen 470 Mio Euro\", \"Kommt der Corona-Impfstoff noch dieses Jahr?\", \"Lauterbach unterst\\u00fctzt Drostens \\u00dc50-Plan\", \"Zweiter Corona-Fall beim FC Bayern\", \"Anfang hilft 1. Spiel ohne Zuschauer\", \"So sehen Sie Stuttgart gegen K\\u00f6ln live im TV\", \"So geht es bei Corona-Werder jetzt weiter\", \"Corona-Alarm beim Thai-K\\u00f6nig!\", \"\\u201eMasken anzuzweifeln ist gef\\u00e4hrlicher Unsinn\\u201c\", \"2. Gnabry-Test negativ!\", \"Wo stecken wir uns haupts\\u00e4chlich mit Corona an?\", \"Dramatischer Appell von Ministerpr\\u00e4sident Hans\", \"US-Arzneimittelbeh\\u00f6rde l\\u00e4sst Remdesivir gegen Covid-19 zu\", \"Darf man das Umgangsrecht des Kindes verweigern?\", \"Das traurige Schicksal deutscher Drogens\\u00fcchtiger\", \"Wie gut warnte die Warn-App Spahns Kontakte?\", \"Maskenpflicht im Unterricht ab Montag!\"], \"legendgroup\": \"Corona| Spiel| Test| US| Quarant\\u00e4ne\", \"marker\": {\"color\": \"#00cc96\", \"line\": {\"color\": \"DarkSlateGrey\", \"width\": 0.15}, \"opacity\": 0.8, \"size\": 9, \"symbol\": \"circle\"}, \"mode\": \"markers\", \"name\": \"Corona| Spiel| Test| US| Quarant\\u00e4ne\", \"orientation\": \"v\", \"showlegend\": true, \"type\": \"scatter\", \"x\": [-3.968775987625122, -2.283569812774658, -3.974165678024292, -2.7775332927703857, -3.8082048892974854, -3.2758965492248535, -3.0078818798065186, -2.6858162879943848, -4.32776403427124, -3.5483310222625732, -3.178154468536377, -2.7785634994506836, -3.127269983291626, -3.5694360733032227, -2.5020809173583984, -2.354583263397217, -3.1862239837646484, -4.632434844970703, -4.0781683921813965, -3.625756025314331, -2.93074107170105, -2.941704511642456, -3.3962554931640625, -2.5465118885040283, -2.874871015548706, -2.5462820529937744, -3.2557430267333984, -3.2514383792877197, -2.8195502758026123, -2.8478400707244873], \"xaxis\": \"x\", \"y\": [-0.384568989276886, 0.47794878482818604, -0.4498610496520996, 0.7475845217704773, -0.05179331824183464, 0.4901432991027832, 0.34630799293518066, 0.11731065809726715, 0.5719770193099976, -0.19072216749191284, -0.025726068764925003, 0.5112888813018799, 1.2107229232788086, -0.17407405376434326, 0.24252930283546448, 0.49313420057296753, 0.47416791319847107, 0.2009156346321106, 0.27416369318962097, 0.43509653210639954, 0.9794319868087769, 1.2999823093414307, 0.6695294380187988, 0.8682268857955933, 0.7253177762031555, 0.49860650300979614, 0.004333568271249533, 0.43596354126930237, 0.45635920763015747, 0.7541472911834717], \"yaxis\": \"y\"}, {\"customdata\": [[\"2020-10-22\", \"HSV| Trainer| Spieler| Liga| Mannschaft\", 10], [\"2020-10-22\", \"HSV| Trainer| Spieler| Liga| Mannschaft\", 10], [\"2020-10-22\", \"HSV| Trainer| Spieler| Liga| Mannschaft\", 10], [\"2020-10-22\", \"HSV| Trainer| Spieler| Liga| Mannschaft\", 10], [\"2020-10-22\", \"HSV| Trainer| Spieler| Liga| Mannschaft\", 10], [\"2020-10-22\", \"HSV| Trainer| Spieler| Liga| Mannschaft\", 10], [\"2020-10-22\", \"HSV| Trainer| Spieler| Liga| Mannschaft\", 10], [\"2020-10-22\", \"HSV| Trainer| Spieler| Liga| Mannschaft\", 10], [\"2020-10-22\", \"HSV| Trainer| Spieler| Liga| Mannschaft\", 10], [\"2020-10-22\", \"HSV| Trainer| Spieler| Liga| Mannschaft\", 10], [\"2020-10-23\", \"HSV| Trainer| Spieler| Liga| Mannschaft\", 10]], \"hovertemplate\": \"<b>%{hovertext}</b><br><br>TopWords=%{customdata[1]}<br>x=%{x}<br>y=%{y}<br>created_at=%{customdata[0]}<br>topic_number=%{customdata[2]}<extra></extra>\", \"hovertext\": [\"Erwischt! Kobel und Endo wieder voll dabei\", \"Trainer-Lob f\\u00fcr Vollgas-Wood\", \"Kann Thioune es besser als Hecking?\", \"Weinkauf hat Aufstiegs-Trauma abgehakt\", \"Hollerbach w\\u00fcnscht sich ein sch\\u00f6nes 3:3\", \"\\u00dcber die W\\u00f6lfe zu L\\u00f6w\", \"Hofmann spielt sich bei Jogi fest\", \"Note 2 f\\u00fcr f\\u00fcnf Hoffenheimer!\", \"R\\u00f6sler wehrt sich gegen Kritik an Talenten!\", \"Heidi bald HeiDA!\", \"Keiner wollte zu Mark Forster\"], \"legendgroup\": \"HSV| Trainer| Spieler| Liga| Mannschaft\", \"marker\": {\"color\": \"#ab63fa\", \"line\": {\"color\": \"DarkSlateGrey\", \"width\": 0.15}, \"opacity\": 0.8, \"size\": 9, \"symbol\": \"circle\"}, \"mode\": \"markers\", \"name\": \"HSV| Trainer| Spieler| Liga| Mannschaft\", \"orientation\": \"v\", \"showlegend\": true, \"type\": \"scatter\", \"x\": [-5.789413928985596, -5.386986255645752, -5.505909442901611, -5.205016613006592, -5.427886962890625, -5.4333109855651855, -5.255069732666016, -5.124269008636475, -5.061389923095703, -4.858143329620361, -4.911469459533691], \"xaxis\": \"x\", \"y\": [0.3496612310409546, -0.36506006121635437, -0.11635985225439072, -0.3646398186683655, 0.19959726929664612, 0.7485538125038147, 0.6124307513237, 0.5220595598220825, -0.057573895901441574, 0.20140182971954346, 0.13415952026844025], \"yaxis\": \"y\"}, {\"customdata\": [[\"2020-10-22\", \"Derby| Schalke| BVB| Wiesbaden| Liga\", 2], [\"2020-10-22\", \"Derby| Schalke| BVB| Wiesbaden| Liga\", 2], [\"2020-10-22\", \"Derby| Schalke| BVB| Wiesbaden| Liga\", 2], [\"2020-10-22\", \"Derby| Schalke| BVB| Wiesbaden| Liga\", 2]], \"hovertemplate\": \"<b>%{hovertext}</b><br><br>TopWords=%{customdata[1]}<br>x=%{x}<br>y=%{y}<br>created_at=%{customdata[0]}<br>topic_number=%{customdata[2]}<extra></extra>\", \"hovertext\": [\"Ernst ist Ho\\u00dfmangsHoffnungstr\\u00e4ger\", \"Wichtig, im  Derby \\u201emit der richtigen H\\u00e4rte zu agieren\\u201c\", \"Keller verzichtet, Koch und Peters kandidieren\", \"Favre eiert vorm Derby rum\"], \"legendgroup\": \"Derby| Schalke| BVB| Wiesbaden| Liga\", \"marker\": {\"color\": \"#FFA15A\", \"line\": {\"color\": \"DarkSlateGrey\", \"width\": 0.15}, \"opacity\": 0.8, \"size\": 9, \"symbol\": \"circle\"}, \"mode\": \"markers\", \"name\": \"Derby| Schalke| BVB| Wiesbaden| Liga\", \"orientation\": \"v\", \"showlegend\": true, \"type\": \"scatter\", \"x\": [-4.651778221130371, -4.4792962074279785, -4.258613586425781, -4.896981716156006], \"xaxis\": \"x\", \"y\": [0.6727054715156555, -0.07952600717544556, 0.9392179250717163, 0.2945968508720398], \"yaxis\": \"y\"}, {\"customdata\": [[\"2020-10-23\", \"Wahl| Trump| Biden| Kampf| Wei\\u00dfe Haus\", 0], [\"2020-10-22\", \"Wahl| Trump| Biden| Kampf| Wei\\u00dfe Haus\", 0], [\"2020-10-22\", \"Wahl| Trump| Biden| Kampf| Wei\\u00dfe Haus\", 0]], \"hovertemplate\": \"<b>%{hovertext}</b><br><br>TopWords=%{customdata[1]}<br>x=%{x}<br>y=%{y}<br>created_at=%{customdata[0]}<br>topic_number=%{customdata[2]}<extra></extra>\", \"hovertext\": [\"Trump und Biden fetzen sich ums Wei\\u00dfe Haus\", \"Die letzte Rede-Schlacht vor der wichtigsten Wahl der Welt\", \"USA steuern auf h\\u00f6chste Wahlbeteiligung seit \\u00fcber Hundert Jahren zu\"], \"legendgroup\": \"Wahl| Trump| Biden| Kampf| Wei\\u00dfe Haus\", \"marker\": {\"color\": \"#19d3f3\", \"line\": {\"color\": \"DarkSlateGrey\", \"width\": 0.15}, \"opacity\": 0.8, \"size\": 9, \"symbol\": \"circle\"}, \"mode\": \"markers\", \"name\": \"Wahl| Trump| Biden| Kampf| Wei\\u00dfe Haus\", \"orientation\": \"v\", \"showlegend\": true, \"type\": \"scatter\", \"x\": [-3.392195224761963, -3.8126657009124756, -3.7670836448669434], \"xaxis\": \"x\", \"y\": [0.7856358289718628, 0.9810616374015808, 0.9399018883705139], \"yaxis\": \"y\"}, {\"customdata\": [[\"2020-10-22\", \"Spieler| Neuzugang| Hansa| Mannschaft| Trainer\", 11], [\"2020-10-22\", \"Spieler| Neuzugang| Hansa| Mannschaft| Trainer\", 11], [\"2020-10-22\", \"Spieler| Neuzugang| Hansa| Mannschaft| Trainer\", 11], [\"2020-10-22\", \"Spieler| Neuzugang| Hansa| Mannschaft| Trainer\", 11], [\"2020-10-22\", \"Spieler| Neuzugang| Hansa| Mannschaft| Trainer\", 11]], \"hovertemplate\": \"<b>%{hovertext}</b><br><br>TopWords=%{customdata[1]}<br>x=%{x}<br>y=%{y}<br>created_at=%{customdata[0]}<br>topic_number=%{customdata[2]}<extra></extra>\", \"hovertext\": [\"Darum passt Litkaso gut zu Hansa\", \"Miamis Play-off-Chance hei\\u00dftTua Tagovailoa\", \"Halles linkes Ding\", \"Lohkemper dreht voll auf!\", \"Lange ist Jenas Kompaniechef\"], \"legendgroup\": \"Spieler| Neuzugang| Hansa| Mannschaft| Trainer\", \"marker\": {\"color\": \"#FF6692\", \"line\": {\"color\": \"DarkSlateGrey\", \"width\": 0.15}, \"opacity\": 0.8, \"size\": 9, \"symbol\": \"circle\"}, \"mode\": \"markers\", \"name\": \"Spieler| Neuzugang| Hansa| Mannschaft| Trainer\", \"orientation\": \"v\", \"showlegend\": true, \"type\": \"scatter\", \"x\": [-5.755405426025391, -5.117618560791016, -5.771073818206787, -5.586653709411621, -5.684096336364746], \"xaxis\": \"x\", \"y\": [0.03888966143131256, 0.345947265625, 0.30938857793807983, 0.28011199831962585, 0.2550465762615204], \"yaxis\": \"y\"}, {\"customdata\": [[\"2020-10-22\", \"Biografie| Ged\\u00e4chtnisschwund| Boris Becker| Anklagepunkte| Spiel\", 7], [\"2020-10-22\", \"Biografie| Ged\\u00e4chtnisschwund| Boris Becker| Anklagepunkte| Spiel\", 7], [\"2020-10-22\", \"Biografie| Ged\\u00e4chtnisschwund| Boris Becker| Anklagepunkte| Spiel\", 7], [\"2020-10-22\", \"Biografie| Ged\\u00e4chtnisschwund| Boris Becker| Anklagepunkte| Spiel\", 7], [\"2020-10-22\", \"Biografie| Ged\\u00e4chtnisschwund| Boris Becker| Anklagepunkte| Spiel\", 7], [\"2020-10-22\", \"Biografie| Ged\\u00e4chtnisschwund| Boris Becker| Anklagepunkte| Spiel\", 7]], \"hovertemplate\": \"<b>%{hovertext}</b><br><br>TopWords=%{customdata[1]}<br>x=%{x}<br>y=%{y}<br>created_at=%{customdata[0]}<br>topic_number=%{customdata[2]}<extra></extra>\", \"hovertext\": [\"Hier wird jetztHollywood verramscht\", \"Ex-Neonazi mit Ged\\u00e4chtnisschwund\", \"Neun neue Anklagepunkte gegen Boris Becker!\", \"SchullesSorgen-Puzzle\", \"Cary Grant war bisexuell und auf LSD\", \"Dieser Nackedei isteine Botschaft\"], \"legendgroup\": \"Biografie| Ged\\u00e4chtnisschwund| Boris Becker| Anklagepunkte| Spiel\", \"marker\": {\"color\": \"#B6E880\", \"line\": {\"color\": \"DarkSlateGrey\", \"width\": 0.15}, \"opacity\": 0.8, \"size\": 9, \"symbol\": \"circle\"}, \"mode\": \"markers\", \"name\": \"Biografie| Ged\\u00e4chtnisschwund| Boris Becker| Anklagepunkte| Spiel\", \"orientation\": \"v\", \"showlegend\": true, \"type\": \"scatter\", \"x\": [-4.901216506958008, -4.297142028808594, -4.589104652404785, -4.671840190887451, -4.79280948638916, -5.036073684692383], \"xaxis\": \"x\", \"y\": [1.4130219221115112, 1.463185429573059, 1.426562786102295, 1.1393404006958008, 1.3751699924468994, 1.3405498266220093], \"yaxis\": \"y\"}, {\"customdata\": [[\"2020-10-22\", \"Trainer| Bundesliga| Fl\\u00fcgel-Fight| Europa| Peter Kadiru\", 4], [\"2020-10-22\", \"Trainer| Bundesliga| Fl\\u00fcgel-Fight| Europa| Peter Kadiru\", 4], [\"2020-10-22\", \"Trainer| Bundesliga| Fl\\u00fcgel-Fight| Europa| Peter Kadiru\", 4], [\"2020-10-22\", \"Trainer| Bundesliga| Fl\\u00fcgel-Fight| Europa| Peter Kadiru\", 4], [\"2020-10-22\", \"Trainer| Bundesliga| Fl\\u00fcgel-Fight| Europa| Peter Kadiru\", 4], [\"2020-10-22\", \"Trainer| Bundesliga| Fl\\u00fcgel-Fight| Europa| Peter Kadiru\", 4], [\"2020-10-22\", \"Trainer| Bundesliga| Fl\\u00fcgel-Fight| Europa| Peter Kadiru\", 4], [\"2020-10-22\", \"Trainer| Bundesliga| Fl\\u00fcgel-Fight| Europa| Peter Kadiru\", 4]], \"hovertemplate\": \"<b>%{hovertext}</b><br><br>TopWords=%{customdata[1]}<br>x=%{x}<br>y=%{y}<br>created_at=%{customdata[0]}<br>topic_number=%{customdata[2]}<extra></extra>\", \"hovertext\": [\"Peter Kadiru wird zum Schl\\u00e4ger-Typ\", \"Boateng muss mitHand-Schiene trainieren\", \"Coman erste Sahne! Aber jetzt kommt San\\u00e9\", \"G\\u00f6tze trifft auch in Europa\", \"Jones zieht zur\\u00fccknach Frankfurt\", \"Kocak droht mitBlitz-Strafe\", \"\\u201eREIF IST LIVE\\u201c amFreitag um 11 Uhr!\", \"Der MOTZivator!\"], \"legendgroup\": \"Trainer| Bundesliga| Fl\\u00fcgel-Fight| Europa| Peter Kadiru\", \"marker\": {\"color\": \"#FF97FF\", \"line\": {\"color\": \"DarkSlateGrey\", \"width\": 0.15}, \"opacity\": 0.8, \"size\": 9, \"symbol\": \"circle\"}, \"mode\": \"markers\", \"name\": \"Trainer| Bundesliga| Fl\\u00fcgel-Fight| Europa| Peter Kadiru\", \"orientation\": \"v\", \"showlegend\": true, \"type\": \"scatter\", \"x\": [-5.1434454917907715, -4.9629902839660645, -5.439787864685059, -5.8741655349731445, -5.840532302856445, -5.520348072052002, -5.014071464538574, -5.599035739898682], \"xaxis\": \"x\", \"y\": [1.167718529701233, 0.47105979919433594, 0.8985084891319275, 1.2202370166778564, 0.8484082221984863, 0.5451008677482605, 1.1519999504089355, 1.1043263673782349], \"yaxis\": \"y\"}, {\"customdata\": [[\"2020-10-22\", \"Russland| Einbrecher| Kunstwerk| Sanktionen| EU\", 6], [\"2020-10-22\", \"Russland| Einbrecher| Kunstwerk| Sanktionen| EU\", 6], [\"2020-10-22\", \"Russland| Einbrecher| Kunstwerk| Sanktionen| EU\", 6], [\"2020-10-22\", \"Russland| Einbrecher| Kunstwerk| Sanktionen| EU\", 6], [\"2020-10-22\", \"Russland| Einbrecher| Kunstwerk| Sanktionen| EU\", 6], [\"2020-10-22\", \"Russland| Einbrecher| Kunstwerk| Sanktionen| EU\", 6]], \"hovertemplate\": \"<b>%{hovertext}</b><br><br>TopWords=%{customdata[1]}<br>x=%{x}<br>y=%{y}<br>created_at=%{customdata[0]}<br>topic_number=%{customdata[2]}<extra></extra>\", \"hovertext\": [\"Neue EU-Sanktionen gegen Russland\", \"\\u00dcberwachungskamera zeigt Blitz-Raub!\", \"Beuys-Kunstwerk aus Ausstellung verschwunden\", \"Snowden erh\\u00e4lt unbefristeten Aufenthalt in Russland\", \"Bruch in der Barkasse\", \"Todes-Drama um Zirkus-Elefanten\"], \"legendgroup\": \"Russland| Einbrecher| Kunstwerk| Sanktionen| EU\", \"marker\": {\"color\": \"#FECB52\", \"line\": {\"color\": \"DarkSlateGrey\", \"width\": 0.15}, \"opacity\": 0.8, \"size\": 9, \"symbol\": \"circle\"}, \"mode\": \"markers\", \"name\": \"Russland| Einbrecher| Kunstwerk| Sanktionen| EU\", \"orientation\": \"v\", \"showlegend\": true, \"type\": \"scatter\", \"x\": [-3.841876745223999, -3.7480971813201904, -4.573822498321533, -3.9351723194122314, -4.020904541015625, -4.540546417236328], \"xaxis\": \"x\", \"y\": [1.831912875175476, 2.099268674850464, 1.69051992893219, 1.7385692596435547, 2.0661520957946777, 1.9692859649658203], \"yaxis\": \"y\"}, {\"customdata\": [[\"2020-10-22\", \"Corona-Burn-out| Laura| Wendler| Florida| Psychologin\", 1], [\"2020-10-22\", \"Corona-Burn-out| Laura| Wendler| Florida| Psychologin\", 1], [\"2020-10-22\", \"Corona-Burn-out| Laura| Wendler| Florida| Psychologin\", 1]], \"hovertemplate\": \"<b>%{hovertext}</b><br><br>TopWords=%{customdata[1]}<br>x=%{x}<br>y=%{y}<br>created_at=%{customdata[0]}<br>topic_number=%{customdata[2]}<extra></extra>\", \"hovertext\": [\"Stehen wir kurz vor dem \\u201eCorona-Burn-out\\u201c?\", \"Uns hat der Blitz getroffen!\", \"Warum Wendler und Laura schon wieder \\u00c4rger droht\"], \"legendgroup\": \"Corona-Burn-out| Laura| Wendler| Florida| Psychologin\", \"marker\": {\"color\": \"#636efa\", \"line\": {\"color\": \"DarkSlateGrey\", \"width\": 0.15}, \"opacity\": 0.8, \"size\": 9, \"symbol\": \"circle\"}, \"mode\": \"markers\", \"name\": \"Corona-Burn-out| Laura| Wendler| Florida| Psychologin\", \"orientation\": \"v\", \"showlegend\": true, \"type\": \"scatter\", \"x\": [-3.940329074859619, -4.462879180908203, -4.211283206939697], \"xaxis\": \"x\", \"y\": [0.13895605504512787, -0.16839778423309326, -0.1462644636631012], \"yaxis\": \"y\"}, {\"customdata\": [[\"2020-10-22\", \"Fehltritt| Union| Skispringer| Trainer| Training\", 9], [\"2020-10-22\", \"Fehltritt| Union| Skispringer| Trainer| Training\", 9], [\"2020-10-22\", \"Fehltritt| Union| Skispringer| Trainer| Training\", 9]], \"hovertemplate\": \"<b>%{hovertext}</b><br><br>TopWords=%{customdata[1]}<br>x=%{x}<br>y=%{y}<br>created_at=%{customdata[0]}<br>topic_number=%{customdata[2]}<extra></extra>\", \"hovertext\": [\"Au Backe! Union ohne Karius\", \"Ohne Halstenberggegen Hertha\", \"Leyhe f\\u00e4llt komplette Saison aus\"], \"legendgroup\": \"Fehltritt| Union| Skispringer| Trainer| Training\", \"marker\": {\"color\": \"#EF553B\", \"line\": {\"color\": \"DarkSlateGrey\", \"width\": 0.15}, \"opacity\": 0.8, \"size\": 9, \"symbol\": \"circle\"}, \"mode\": \"markers\", \"name\": \"Fehltritt| Union| Skispringer| Trainer| Training\", \"orientation\": \"v\", \"showlegend\": true, \"type\": \"scatter\", \"x\": [-5.086392879486084, -4.971367359161377, -5.157985210418701], \"xaxis\": \"x\", \"y\": [0.08803343772888184, -0.0732964500784874, -0.11758565157651901], \"yaxis\": \"y\"}, {\"customdata\": [[\"2020-10-22\", \"Kampf-Kandidatur| Demagoge| HSV| Posten| Pr\\u00e4sident\", 8], [\"2020-10-22\", \"Kampf-Kandidatur| Demagoge| HSV| Posten| Pr\\u00e4sident\", 8], [\"2020-10-22\", \"Kampf-Kandidatur| Demagoge| HSV| Posten| Pr\\u00e4sident\", 8]], \"hovertemplate\": \"<b>%{hovertext}</b><br><br>TopWords=%{customdata[1]}<br>x=%{x}<br>y=%{y}<br>created_at=%{customdata[0]}<br>topic_number=%{customdata[2]}<extra></extra>\", \"hovertext\": [\"Kampf-Kandidatur umVize-Posten sorgt f\\u00fcr Krach\", \"\\u201eTrump ist ein Demagoge\\u201c\", \"Leibold und Vagnoman sind zur\\u00fcck\"], \"legendgroup\": \"Kampf-Kandidatur| Demagoge| HSV| Posten| Pr\\u00e4sident\", \"marker\": {\"color\": \"#00cc96\", \"line\": {\"color\": \"DarkSlateGrey\", \"width\": 0.15}, \"opacity\": 0.8, \"size\": 9, \"symbol\": \"circle\"}, \"mode\": \"markers\", \"name\": \"Kampf-Kandidatur| Demagoge| HSV| Posten| Pr\\u00e4sident\", \"orientation\": \"v\", \"showlegend\": true, \"type\": \"scatter\", \"x\": [-4.1653876304626465, -4.0562615394592285, -4.5746965408325195], \"xaxis\": \"x\", \"y\": [-0.07618788629770279, 0.4584662914276123, 0.3941352963447571], \"yaxis\": \"y\"}, {\"customdata\": [[\"2020-10-22\", \"Geburt| Hoffenheim| Trainer| Hertha| Kindes\", 12], [\"2020-10-22\", \"Geburt| Hoffenheim| Trainer| Hertha| Kindes\", 12], [\"2020-10-22\", \"Geburt| Hoffenheim| Trainer| Hertha| Kindes\", 12]], \"hovertemplate\": \"<b>%{hovertext}</b><br><br>TopWords=%{customdata[1]}<br>x=%{x}<br>y=%{y}<br>created_at=%{customdata[0]}<br>topic_number=%{customdata[2]}<extra></extra>\", \"hovertext\": [\"Nach Mega-Zoff jetzt Startelf gegen Hertha?\", \"Hoffenheim feiert irren Baby-Sieg\", \"Baby-Wechsel bei Hoffenheim-Sieg\"], \"legendgroup\": \"Geburt| Hoffenheim| Trainer| Hertha| Kindes\", \"marker\": {\"color\": \"#ab63fa\", \"line\": {\"color\": \"DarkSlateGrey\", \"width\": 0.15}, \"opacity\": 0.8, \"size\": 9, \"symbol\": \"circle\"}, \"mode\": \"markers\", \"name\": \"Geburt| Hoffenheim| Trainer| Hertha| Kindes\", \"orientation\": \"v\", \"showlegend\": true, \"type\": \"scatter\", \"x\": [-5.439579963684082, -5.244678020477295, -5.397340297698975], \"xaxis\": \"x\", \"y\": [-0.07365214079618454, 0.7204514741897583, 0.8607550263404846], \"yaxis\": \"y\"}],                        {\"height\": 1000, \"legend\": {\"title\": {\"text\": \"TopWords\"}, \"tracegroupgap\": 0}, \"margin\": {\"t\": 60}, \"template\": {\"data\": {\"bar\": [{\"error_x\": {\"color\": \"#2a3f5f\"}, \"error_y\": {\"color\": \"#2a3f5f\"}, \"marker\": {\"line\": {\"color\": \"#E5ECF6\", \"width\": 0.5}}, \"type\": \"bar\"}], \"barpolar\": [{\"marker\": {\"line\": {\"color\": \"#E5ECF6\", \"width\": 0.5}}, \"type\": \"barpolar\"}], \"carpet\": [{\"aaxis\": {\"endlinecolor\": \"#2a3f5f\", \"gridcolor\": \"white\", \"linecolor\": \"white\", \"minorgridcolor\": \"white\", \"startlinecolor\": \"#2a3f5f\"}, \"baxis\": {\"endlinecolor\": \"#2a3f5f\", \"gridcolor\": \"white\", \"linecolor\": \"white\", \"minorgridcolor\": \"white\", \"startlinecolor\": \"#2a3f5f\"}, \"type\": \"carpet\"}], \"choropleth\": [{\"colorbar\": {\"outlinewidth\": 0, \"ticks\": \"\"}, \"type\": \"choropleth\"}], \"contour\": [{\"colorbar\": {\"outlinewidth\": 0, \"ticks\": \"\"}, \"colorscale\": [[0.0, \"#0d0887\"], [0.1111111111111111, \"#46039f\"], [0.2222222222222222, \"#7201a8\"], [0.3333333333333333, \"#9c179e\"], [0.4444444444444444, \"#bd3786\"], [0.5555555555555556, \"#d8576b\"], [0.6666666666666666, \"#ed7953\"], [0.7777777777777778, \"#fb9f3a\"], [0.8888888888888888, \"#fdca26\"], [1.0, \"#f0f921\"]], \"type\": \"contour\"}], \"contourcarpet\": [{\"colorbar\": {\"outlinewidth\": 0, \"ticks\": \"\"}, \"type\": \"contourcarpet\"}], \"heatmap\": [{\"colorbar\": {\"outlinewidth\": 0, \"ticks\": \"\"}, \"colorscale\": [[0.0, \"#0d0887\"], [0.1111111111111111, \"#46039f\"], [0.2222222222222222, \"#7201a8\"], [0.3333333333333333, \"#9c179e\"], [0.4444444444444444, \"#bd3786\"], [0.5555555555555556, \"#d8576b\"], [0.6666666666666666, \"#ed7953\"], [0.7777777777777778, \"#fb9f3a\"], [0.8888888888888888, \"#fdca26\"], [1.0, \"#f0f921\"]], \"type\": \"heatmap\"}], \"heatmapgl\": [{\"colorbar\": {\"outlinewidth\": 0, \"ticks\": \"\"}, \"colorscale\": [[0.0, \"#0d0887\"], [0.1111111111111111, \"#46039f\"], [0.2222222222222222, \"#7201a8\"], [0.3333333333333333, \"#9c179e\"], [0.4444444444444444, \"#bd3786\"], [0.5555555555555556, \"#d8576b\"], [0.6666666666666666, \"#ed7953\"], [0.7777777777777778, \"#fb9f3a\"], [0.8888888888888888, \"#fdca26\"], [1.0, \"#f0f921\"]], \"type\": \"heatmapgl\"}], \"histogram\": [{\"marker\": {\"colorbar\": {\"outlinewidth\": 0, \"ticks\": \"\"}}, \"type\": \"histogram\"}], \"histogram2d\": [{\"colorbar\": {\"outlinewidth\": 0, \"ticks\": \"\"}, \"colorscale\": [[0.0, \"#0d0887\"], [0.1111111111111111, \"#46039f\"], [0.2222222222222222, \"#7201a8\"], [0.3333333333333333, \"#9c179e\"], [0.4444444444444444, \"#bd3786\"], [0.5555555555555556, \"#d8576b\"], [0.6666666666666666, \"#ed7953\"], [0.7777777777777778, \"#fb9f3a\"], [0.8888888888888888, \"#fdca26\"], [1.0, \"#f0f921\"]], \"type\": \"histogram2d\"}], \"histogram2dcontour\": [{\"colorbar\": {\"outlinewidth\": 0, \"ticks\": \"\"}, \"colorscale\": [[0.0, \"#0d0887\"], [0.1111111111111111, \"#46039f\"], [0.2222222222222222, \"#7201a8\"], [0.3333333333333333, \"#9c179e\"], [0.4444444444444444, \"#bd3786\"], [0.5555555555555556, \"#d8576b\"], [0.6666666666666666, \"#ed7953\"], [0.7777777777777778, \"#fb9f3a\"], [0.8888888888888888, \"#fdca26\"], [1.0, \"#f0f921\"]], \"type\": \"histogram2dcontour\"}], \"mesh3d\": [{\"colorbar\": {\"outlinewidth\": 0, \"ticks\": \"\"}, \"type\": \"mesh3d\"}], \"parcoords\": [{\"line\": {\"colorbar\": {\"outlinewidth\": 0, \"ticks\": \"\"}}, \"type\": \"parcoords\"}], \"pie\": [{\"automargin\": true, \"type\": \"pie\"}], \"scatter\": [{\"marker\": {\"colorbar\": {\"outlinewidth\": 0, \"ticks\": \"\"}}, \"type\": \"scatter\"}], \"scatter3d\": [{\"line\": {\"colorbar\": {\"outlinewidth\": 0, \"ticks\": \"\"}}, \"marker\": {\"colorbar\": {\"outlinewidth\": 0, \"ticks\": \"\"}}, \"type\": \"scatter3d\"}], \"scattercarpet\": [{\"marker\": {\"colorbar\": {\"outlinewidth\": 0, \"ticks\": \"\"}}, \"type\": \"scattercarpet\"}], \"scattergeo\": [{\"marker\": {\"colorbar\": {\"outlinewidth\": 0, \"ticks\": \"\"}}, \"type\": \"scattergeo\"}], \"scattergl\": [{\"marker\": {\"colorbar\": {\"outlinewidth\": 0, \"ticks\": \"\"}}, \"type\": \"scattergl\"}], \"scattermapbox\": [{\"marker\": {\"colorbar\": {\"outlinewidth\": 0, \"ticks\": \"\"}}, \"type\": \"scattermapbox\"}], \"scatterpolar\": [{\"marker\": {\"colorbar\": {\"outlinewidth\": 0, \"ticks\": \"\"}}, \"type\": \"scatterpolar\"}], \"scatterpolargl\": [{\"marker\": {\"colorbar\": {\"outlinewidth\": 0, \"ticks\": \"\"}}, \"type\": \"scatterpolargl\"}], \"scatterternary\": [{\"marker\": {\"colorbar\": {\"outlinewidth\": 0, \"ticks\": \"\"}}, \"type\": \"scatterternary\"}], \"surface\": [{\"colorbar\": {\"outlinewidth\": 0, \"ticks\": \"\"}, \"colorscale\": [[0.0, \"#0d0887\"], [0.1111111111111111, \"#46039f\"], [0.2222222222222222, \"#7201a8\"], [0.3333333333333333, \"#9c179e\"], [0.4444444444444444, \"#bd3786\"], [0.5555555555555556, \"#d8576b\"], [0.6666666666666666, \"#ed7953\"], [0.7777777777777778, \"#fb9f3a\"], [0.8888888888888888, \"#fdca26\"], [1.0, \"#f0f921\"]], \"type\": \"surface\"}], \"table\": [{\"cells\": {\"fill\": {\"color\": \"#EBF0F8\"}, \"line\": {\"color\": \"white\"}}, \"header\": {\"fill\": {\"color\": \"#C8D4E3\"}, \"line\": {\"color\": \"white\"}}, \"type\": \"table\"}]}, \"layout\": {\"annotationdefaults\": {\"arrowcolor\": \"#2a3f5f\", \"arrowhead\": 0, \"arrowwidth\": 1}, \"coloraxis\": {\"colorbar\": {\"outlinewidth\": 0, \"ticks\": \"\"}}, \"colorscale\": {\"diverging\": [[0, \"#8e0152\"], [0.1, \"#c51b7d\"], [0.2, \"#de77ae\"], [0.3, \"#f1b6da\"], [0.4, \"#fde0ef\"], [0.5, \"#f7f7f7\"], [0.6, \"#e6f5d0\"], [0.7, \"#b8e186\"], [0.8, \"#7fbc41\"], [0.9, \"#4d9221\"], [1, \"#276419\"]], \"sequential\": [[0.0, \"#0d0887\"], [0.1111111111111111, \"#46039f\"], [0.2222222222222222, \"#7201a8\"], [0.3333333333333333, \"#9c179e\"], [0.4444444444444444, \"#bd3786\"], [0.5555555555555556, \"#d8576b\"], [0.6666666666666666, \"#ed7953\"], [0.7777777777777778, \"#fb9f3a\"], [0.8888888888888888, \"#fdca26\"], [1.0, \"#f0f921\"]], \"sequentialminus\": [[0.0, \"#0d0887\"], [0.1111111111111111, \"#46039f\"], [0.2222222222222222, \"#7201a8\"], [0.3333333333333333, \"#9c179e\"], [0.4444444444444444, \"#bd3786\"], [0.5555555555555556, \"#d8576b\"], [0.6666666666666666, \"#ed7953\"], [0.7777777777777778, \"#fb9f3a\"], [0.8888888888888888, \"#fdca26\"], [1.0, \"#f0f921\"]]}, \"colorway\": [\"#636efa\", \"#EF553B\", \"#00cc96\", \"#ab63fa\", \"#FFA15A\", \"#19d3f3\", \"#FF6692\", \"#B6E880\", \"#FF97FF\", \"#FECB52\"], \"font\": {\"color\": \"#2a3f5f\"}, \"geo\": {\"bgcolor\": \"white\", \"lakecolor\": \"white\", \"landcolor\": \"#E5ECF6\", \"showlakes\": true, \"showland\": true, \"subunitcolor\": \"white\"}, \"hoverlabel\": {\"align\": \"left\"}, \"hovermode\": \"closest\", \"mapbox\": {\"style\": \"light\"}, \"paper_bgcolor\": \"white\", \"plot_bgcolor\": \"#E5ECF6\", \"polar\": {\"angularaxis\": {\"gridcolor\": \"white\", \"linecolor\": \"white\", \"ticks\": \"\"}, \"bgcolor\": \"#E5ECF6\", \"radialaxis\": {\"gridcolor\": \"white\", \"linecolor\": \"white\", \"ticks\": \"\"}}, \"scene\": {\"xaxis\": {\"backgroundcolor\": \"#E5ECF6\", \"gridcolor\": \"white\", \"gridwidth\": 2, \"linecolor\": \"white\", \"showbackground\": true, \"ticks\": \"\", \"zerolinecolor\": \"white\"}, \"yaxis\": {\"backgroundcolor\": \"#E5ECF6\", \"gridcolor\": \"white\", \"gridwidth\": 2, \"linecolor\": \"white\", \"showbackground\": true, \"ticks\": \"\", \"zerolinecolor\": \"white\"}, \"zaxis\": {\"backgroundcolor\": \"#E5ECF6\", \"gridcolor\": \"white\", \"gridwidth\": 2, \"linecolor\": \"white\", \"showbackground\": true, \"ticks\": \"\", \"zerolinecolor\": \"white\"}}, \"shapedefaults\": {\"line\": {\"color\": \"#2a3f5f\"}}, \"ternary\": {\"aaxis\": {\"gridcolor\": \"white\", \"linecolor\": \"white\", \"ticks\": \"\"}, \"baxis\": {\"gridcolor\": \"white\", \"linecolor\": \"white\", \"ticks\": \"\"}, \"bgcolor\": \"#E5ECF6\", \"caxis\": {\"gridcolor\": \"white\", \"linecolor\": \"white\", \"ticks\": \"\"}}, \"title\": {\"x\": 0.05}, \"xaxis\": {\"automargin\": true, \"gridcolor\": \"white\", \"linecolor\": \"white\", \"ticks\": \"\", \"title\": {\"standoff\": 15}, \"zerolinecolor\": \"white\", \"zerolinewidth\": 2}, \"yaxis\": {\"automargin\": true, \"gridcolor\": \"white\", \"linecolor\": \"white\", \"ticks\": \"\", \"title\": {\"standoff\": 15}, \"zerolinecolor\": \"white\", \"zerolinewidth\": 2}}}, \"xaxis\": {\"anchor\": \"y\", \"domain\": [0.0, 1.0], \"title\": {\"text\": \"x\"}}, \"yaxis\": {\"anchor\": \"x\", \"domain\": [0.0, 1.0], \"title\": {\"text\": \"y\"}}},                        {\"responsive\": true}                    ).then(function(){\n",
       "                            \n",
       "var gd = document.getElementById('9e78ab73-479d-4489-b44c-5dca4d534445');\n",
       "var x = new MutationObserver(function (mutations, observer) {{\n",
       "        var display = window.getComputedStyle(gd).display;\n",
       "        if (!display || display === 'none') {{\n",
       "            console.log([gd, 'removed!']);\n",
       "            Plotly.purge(gd);\n",
       "            observer.disconnect();\n",
       "        }}\n",
       "}});\n",
       "\n",
       "// Listen for the removal of the full notebook cells\n",
       "var notebookContainer = gd.closest('#notebook-container');\n",
       "if (notebookContainer) {{\n",
       "    x.observe(notebookContainer, {childList: true});\n",
       "}}\n",
       "\n",
       "// Listen for the clearing of the current output cell\n",
       "var outputEl = gd.closest('.output');\n",
       "if (outputEl) {{\n",
       "    x.observe(outputEl, {childList: true});\n",
       "}}\n",
       "\n",
       "                        })                };                });            </script>        </div>"
      ]
     },
     "metadata": {},
     "output_type": "display_data"
    }
   ],
   "source": [
    "results=pd.merge(docs_df_b,cluster_labels_google_b.reset_index(),left_on=\"topic_number\",right_on = \"Topic\")\n",
    "fig = px.scatter(results, x=\"x\", y=\"y\", hover_name=\"headline\", hover_data=[\"created_at\",\"TopWords\",\"topic_number\"], color=\"TopWords\", opacity=0.8)\n",
    "\n",
    "fig.update_traces(marker=dict(size=9,\n",
    "                              line=dict(width=0.15,\n",
    "                                        color='DarkSlateGrey')),\n",
    "                  selector=dict(mode='markers'))\n",
    "fig[\"layout\"].pop(\"updatemenus\")\n",
    "\n",
    "fig.update_layout(height=1000)\n",
    "fig.show()"
   ]
  },
  {
   "cell_type": "code",
   "execution_count": 435,
   "metadata": {},
   "outputs": [
    {
     "data": {
      "text/plain": [
       "(8, 3)"
      ]
     },
     "execution_count": 435,
     "metadata": {},
     "output_type": "execute_result"
    }
   ],
   "source": [
    "from scipy.spatial.distance import cosine\n",
    "from scipy.spatial.distance import cdist\n"
   ]
  },
  {
   "cell_type": "code",
   "execution_count": 470,
   "metadata": {},
   "outputs": [
    {
     "data": {
      "text/plain": [
       "[-1, 0, 1, 2, 3, 4, 5, 6, 7, 8, 9, 10, 11, 12, 13, 14, 15]"
      ]
     },
     "execution_count": 470,
     "metadata": {},
     "output_type": "execute_result"
    }
   ],
   "source": [
    "cluster_labels_google_a.index.to_list()"
   ]
  },
  {
   "cell_type": "code",
   "execution_count": 473,
   "metadata": {},
   "outputs": [
    {
     "data": {
      "application/vnd.plotly.v1+json": {
       "config": {
        "plotlyServerURL": "https://plot.ly"
       },
       "data": [
        {
         "coloraxis": "coloraxis",
         "hovertemplate": "cluster_labels_google_b: %{x}<br>cluster_labels_google_a: %{y}<br>Productivity: %{z}<extra></extra>",
         "type": "heatmap",
         "x": [
          "Hoffnung| Corona| Fan-Entscheidung| Anpfiff| Siegerentwurf",
          "Trump| Biden| Wahl| Kampf| Weiße Haus",
          "Corona-Burn-out| Laura| Wendler| Florida| E-Auto-Umsteiger",
          "Derby| Wiesbaden| Ernst| Interview| BVB",
          "Corona| Test| US| Spiel| Appell",
          "Trainer| Bundesliga| Europa| Peter Kadiru| Golf-Meister",
          "Dresden| Terrorist| Terroristen| Frau| Existenz",
          "Russland| Einbrecher| Kunstwerk| Sanktionen| EU",
          "Biografie| Gedächtnisschwund| Boris Becker| Anklagepunkte| Spiel",
          "Demagoge| HSV| Kampf-Kandidatur| Ex-Sprecher| Trump",
          "Fehltritt| Union| Skispringer| Ausfall| Leipzig",
          "HSV| Liga| Trainer| Spieler| Daniel Thioune",
          "Neuzugang| NFL| Glücksfall| Personalnot| Hansa",
          "Geburt| Hoffenheim| Hertha| Kindes| Belgrad"
         ],
         "y": [
          "Überwachungskamera| Love Island| Modell| Gedächtnisschwund| Brustsponsor",
          "Trump| Biden| Wahl| US| TV-Duell",
          "Derby| Interview| Härte| Führungsgremien| DFB",
          "Köln| Spiel| Bundesliga| Mainz| Verlierer",
          "Boris Becker| Staatsanwältin| Spiel| Darmstadt| Sparkassen",
          "HSV| Liga| Trainer| Spiel| Hoffnung",
          "Wohnung| Berlin| Laura| Wendler| Florida",
          "Maske| Corona| Sport| Experten| Fragen",
          "Trainer| Europa| Clásico| MOTZivator| Müller",
          "HSV| Biografie| Nizza| Cary Grant| Bank",
          "Glücksfall| Personalnot| NFL| Halles| Kolumne",
          "Hertha| Fehltritt| Union| Skispringer| Startelf",
          "Corona| Quarantäne| Test| Fall| Werder",
          "Corona| Test| Gnabry| Krankenhaus| Intensivstation",
          "Kunstwerk| US| Russland| Ausstellung| Barkasse",
          "Dresden| Terroristen| Terrorist| CDU| Innenminister",
          "Corona| US| Pandemie| Remdesivir| Hartes Deutschland"
         ],
         "z": [
          [
           0.35584913238816596,
           0.8908677834863715,
           0.8060982583220251,
           0.790443840616086,
           0.5082625261616216,
           0.620636828796226,
           0.8029717558030842,
           0.5834069625806397,
           0.5686994987758427,
           0.7655684918411584,
           0.7556788166538522,
           0.5960909361195772,
           0.7050699205404634,
           0.592406625181422
          ],
          [
           0.8390757590087361,
           0.18681544031638475,
           1.0174140121770552,
           0.9263004971762199,
           0.957569804861726,
           0.9310973124143691,
           0.9820530178687845,
           0.9165281305808141,
           0.8937068047798858,
           0.6980640197047459,
           1.0146147486022836,
           0.8885428021549321,
           0.9732797189105243,
           0.8962675934181861
          ],
          [
           0.7688623527835824,
           0.9512531758817944,
           0.8738704576890626,
           0.09520882811289988,
           0.7500867462916978,
           0.6658805912311994,
           0.9211708330820493,
           0.9180326508506765,
           0.8911267761688386,
           0.7694245580140009,
           0.8128614626728314,
           0.6640913820719949,
           0.7984279809705719,
           0.8778219443739246
          ],
          [
           0.5525794837199899,
           0.7751631414244827,
           0.8154908861900891,
           0.6467465732256257,
           0.6033986172584263,
           0.5175796467766884,
           0.9050180314853025,
           0.6867596896936465,
           0.7754040923968506,
           0.6635090306483429,
           0.6405206296018959,
           0.5842160814357876,
           0.7055238019233044,
           0.7472970119324163
          ],
          [
           0.7151130932418488,
           0.8488322591844938,
           0.8090538405419546,
           0.8022030701770255,
           0.8031145004925269,
           0.7131749235319285,
           1.0009089393493193,
           0.8007100480266615,
           0.5340774019209468,
           0.7675635586408656,
           0.8447076997458612,
           0.7649679720023018,
           0.8591770557462145,
           0.9040615589112998
          ],
          [
           0.4378029488263252,
           0.7854127975550247,
           0.6890523489964269,
           0.5792643032757201,
           0.7118928141379599,
           0.5341963936536018,
           0.9173041850871892,
           0.6742515641114877,
           0.7029453179052436,
           0.5428494365909688,
           0.5591770923961197,
           0.3336825026779452,
           0.6181793943380315,
           0.6358376072331364
          ],
          [
           0.6037919054706791,
           0.8932781781514937,
           0.17904811177352875,
           0.7206274901436944,
           0.6401890772170624,
           0.6531560120280204,
           0.8306099388924502,
           0.8168749611450665,
           0.7734446342633451,
           0.7044972640340573,
           0.612894732514514,
           0.5371596415078237,
           0.7374872219195014,
           0.6680479837454152
          ],
          [
           0.9831129089294236,
           1.0659380928996371,
           0.865224970255758,
           0.8444983016593854,
           0.8860212775561038,
           0.9398539047783928,
           0.7817506879641238,
           0.8261811951025377,
           0.9244237489448186,
           0.9796822702096116,
           0.8154625386484256,
           0.9045943138000738,
           0.9612556310499877,
           0.9159679092486929
          ],
          [
           0.5344228510355631,
           0.8306260590224251,
           0.875958863882921,
           0.614052426011319,
           0.7136555554388837,
           0.17588375607909046,
           0.9544133377413355,
           0.7184044036563729,
           0.7041910915326962,
           0.6316275022816564,
           0.805837660395472,
           0.6012343479465803,
           0.6767862877412751,
           0.7643274584574768
          ],
          [
           0.6581318656952918,
           0.9787020275818126,
           0.912958823011039,
           0.6808101256326629,
           0.6888853933445369,
           0.6920950096353842,
           0.8871210812348865,
           0.8181236329718293,
           0.35847660826240557,
           0.7157227055938551,
           0.6534054756620032,
           0.4653080024141266,
           0.5315677832938177,
           0.7177825678559944
          ],
          [
           0.6908042098677523,
           0.9136580356096555,
           0.8912826118797779,
           0.774742598418307,
           0.8584961883734046,
           0.7243818522737451,
           1.0205164145215102,
           0.8517603890270817,
           0.7215772290517131,
           0.6950263999565605,
           0.7545083492388819,
           0.7620284750030157,
           0.24507180642116433,
           0.8139633038879338
          ],
          [
           0.5759397029648439,
           0.9009371299772149,
           0.7314854259896473,
           0.6960778065031606,
           0.7104399178030856,
           0.6792371884904953,
           0.7970914995297166,
           0.6344995620101078,
           0.8584532537080578,
           0.7555334957095359,
           0.20429634996818624,
           0.6173347793360228,
           0.6254091757737381,
           0.5470232550855865
          ],
          [
           0.8459320225583984,
           1.00359474259812,
           0.697902870026486,
           0.6846542211374596,
           0.41647436393915704,
           0.8970041207296995,
           0.9929597226046012,
           0.965327449308668,
           0.9755764644739979,
           0.9479074002373045,
           0.9982104528878758,
           0.9109499320102775,
           0.9943591257906127,
           0.9895748610292778
          ],
          [
           0.7342418117040331,
           1.00271720494979,
           0.7733703062436453,
           0.7466331848891312,
           0.5095386688077643,
           0.7206363693748188,
           0.9175659955235325,
           0.8158163248236724,
           0.8384401538481671,
           0.8641356035847572,
           0.9070184727213149,
           0.7977647497456736,
           0.9324208864545881,
           0.9321757567244113
          ],
          [
           0.7606051155199816,
           0.9668514495185965,
           0.8598430511734967,
           0.8130904306812492,
           0.831942015752039,
           0.7736456496365884,
           0.8237469110398161,
           0.12082776644791415,
           0.8515139449489071,
           0.7383204770098519,
           0.6227201050779521,
           0.7092550433823983,
           0.9075916339258365,
           0.8487663517894952
          ],
          [
           0.696329106492627,
           0.8757068151366396,
           0.7671461507316274,
           0.8486510739468072,
           0.7910477617745053,
           0.6750042245709437,
           0.3007542900370267,
           0.7092522949839067,
           0.871885780496066,
           0.7884164425570621,
           0.7380553157854719,
           0.8041232426915045,
           0.8475715331616169,
           0.8519382840769321
          ],
          [
           0.875796090185838,
           0.9828204593595763,
           0.7719332780952899,
           0.8091421689529192,
           0.3436286454842403,
           0.8958139975404203,
           0.950210653237545,
           0.8985638026598509,
           0.878013298486289,
           0.98567292316136,
           0.8337602916065215,
           0.8733124711169423,
           0.9503475215248287,
           0.899527754617315
          ]
         ]
        }
       ],
       "layout": {
        "autosize": true,
        "coloraxis": {
         "colorbar": {
          "title": {
           "text": "Productivity"
          }
         },
         "colorscale": [
          [
           0,
           "#0d0887"
          ],
          [
           0.1111111111111111,
           "#46039f"
          ],
          [
           0.2222222222222222,
           "#7201a8"
          ],
          [
           0.3333333333333333,
           "#9c179e"
          ],
          [
           0.4444444444444444,
           "#bd3786"
          ],
          [
           0.5555555555555556,
           "#d8576b"
          ],
          [
           0.6666666666666666,
           "#ed7953"
          ],
          [
           0.7777777777777778,
           "#fb9f3a"
          ],
          [
           0.8888888888888888,
           "#fdca26"
          ],
          [
           1,
           "#f0f921"
          ]
         ]
        },
        "margin": {
         "t": 60
        },
        "template": {
         "data": {
          "bar": [
           {
            "error_x": {
             "color": "#2a3f5f"
            },
            "error_y": {
             "color": "#2a3f5f"
            },
            "marker": {
             "line": {
              "color": "#E5ECF6",
              "width": 0.5
             }
            },
            "type": "bar"
           }
          ],
          "barpolar": [
           {
            "marker": {
             "line": {
              "color": "#E5ECF6",
              "width": 0.5
             }
            },
            "type": "barpolar"
           }
          ],
          "carpet": [
           {
            "aaxis": {
             "endlinecolor": "#2a3f5f",
             "gridcolor": "white",
             "linecolor": "white",
             "minorgridcolor": "white",
             "startlinecolor": "#2a3f5f"
            },
            "baxis": {
             "endlinecolor": "#2a3f5f",
             "gridcolor": "white",
             "linecolor": "white",
             "minorgridcolor": "white",
             "startlinecolor": "#2a3f5f"
            },
            "type": "carpet"
           }
          ],
          "choropleth": [
           {
            "colorbar": {
             "outlinewidth": 0,
             "ticks": ""
            },
            "type": "choropleth"
           }
          ],
          "contour": [
           {
            "colorbar": {
             "outlinewidth": 0,
             "ticks": ""
            },
            "colorscale": [
             [
              0,
              "#0d0887"
             ],
             [
              0.1111111111111111,
              "#46039f"
             ],
             [
              0.2222222222222222,
              "#7201a8"
             ],
             [
              0.3333333333333333,
              "#9c179e"
             ],
             [
              0.4444444444444444,
              "#bd3786"
             ],
             [
              0.5555555555555556,
              "#d8576b"
             ],
             [
              0.6666666666666666,
              "#ed7953"
             ],
             [
              0.7777777777777778,
              "#fb9f3a"
             ],
             [
              0.8888888888888888,
              "#fdca26"
             ],
             [
              1,
              "#f0f921"
             ]
            ],
            "type": "contour"
           }
          ],
          "contourcarpet": [
           {
            "colorbar": {
             "outlinewidth": 0,
             "ticks": ""
            },
            "type": "contourcarpet"
           }
          ],
          "heatmap": [
           {
            "colorbar": {
             "outlinewidth": 0,
             "ticks": ""
            },
            "colorscale": [
             [
              0,
              "#0d0887"
             ],
             [
              0.1111111111111111,
              "#46039f"
             ],
             [
              0.2222222222222222,
              "#7201a8"
             ],
             [
              0.3333333333333333,
              "#9c179e"
             ],
             [
              0.4444444444444444,
              "#bd3786"
             ],
             [
              0.5555555555555556,
              "#d8576b"
             ],
             [
              0.6666666666666666,
              "#ed7953"
             ],
             [
              0.7777777777777778,
              "#fb9f3a"
             ],
             [
              0.8888888888888888,
              "#fdca26"
             ],
             [
              1,
              "#f0f921"
             ]
            ],
            "type": "heatmap"
           }
          ],
          "heatmapgl": [
           {
            "colorbar": {
             "outlinewidth": 0,
             "ticks": ""
            },
            "colorscale": [
             [
              0,
              "#0d0887"
             ],
             [
              0.1111111111111111,
              "#46039f"
             ],
             [
              0.2222222222222222,
              "#7201a8"
             ],
             [
              0.3333333333333333,
              "#9c179e"
             ],
             [
              0.4444444444444444,
              "#bd3786"
             ],
             [
              0.5555555555555556,
              "#d8576b"
             ],
             [
              0.6666666666666666,
              "#ed7953"
             ],
             [
              0.7777777777777778,
              "#fb9f3a"
             ],
             [
              0.8888888888888888,
              "#fdca26"
             ],
             [
              1,
              "#f0f921"
             ]
            ],
            "type": "heatmapgl"
           }
          ],
          "histogram": [
           {
            "marker": {
             "colorbar": {
              "outlinewidth": 0,
              "ticks": ""
             }
            },
            "type": "histogram"
           }
          ],
          "histogram2d": [
           {
            "colorbar": {
             "outlinewidth": 0,
             "ticks": ""
            },
            "colorscale": [
             [
              0,
              "#0d0887"
             ],
             [
              0.1111111111111111,
              "#46039f"
             ],
             [
              0.2222222222222222,
              "#7201a8"
             ],
             [
              0.3333333333333333,
              "#9c179e"
             ],
             [
              0.4444444444444444,
              "#bd3786"
             ],
             [
              0.5555555555555556,
              "#d8576b"
             ],
             [
              0.6666666666666666,
              "#ed7953"
             ],
             [
              0.7777777777777778,
              "#fb9f3a"
             ],
             [
              0.8888888888888888,
              "#fdca26"
             ],
             [
              1,
              "#f0f921"
             ]
            ],
            "type": "histogram2d"
           }
          ],
          "histogram2dcontour": [
           {
            "colorbar": {
             "outlinewidth": 0,
             "ticks": ""
            },
            "colorscale": [
             [
              0,
              "#0d0887"
             ],
             [
              0.1111111111111111,
              "#46039f"
             ],
             [
              0.2222222222222222,
              "#7201a8"
             ],
             [
              0.3333333333333333,
              "#9c179e"
             ],
             [
              0.4444444444444444,
              "#bd3786"
             ],
             [
              0.5555555555555556,
              "#d8576b"
             ],
             [
              0.6666666666666666,
              "#ed7953"
             ],
             [
              0.7777777777777778,
              "#fb9f3a"
             ],
             [
              0.8888888888888888,
              "#fdca26"
             ],
             [
              1,
              "#f0f921"
             ]
            ],
            "type": "histogram2dcontour"
           }
          ],
          "mesh3d": [
           {
            "colorbar": {
             "outlinewidth": 0,
             "ticks": ""
            },
            "type": "mesh3d"
           }
          ],
          "parcoords": [
           {
            "line": {
             "colorbar": {
              "outlinewidth": 0,
              "ticks": ""
             }
            },
            "type": "parcoords"
           }
          ],
          "pie": [
           {
            "automargin": true,
            "type": "pie"
           }
          ],
          "scatter": [
           {
            "marker": {
             "colorbar": {
              "outlinewidth": 0,
              "ticks": ""
             }
            },
            "type": "scatter"
           }
          ],
          "scatter3d": [
           {
            "line": {
             "colorbar": {
              "outlinewidth": 0,
              "ticks": ""
             }
            },
            "marker": {
             "colorbar": {
              "outlinewidth": 0,
              "ticks": ""
             }
            },
            "type": "scatter3d"
           }
          ],
          "scattercarpet": [
           {
            "marker": {
             "colorbar": {
              "outlinewidth": 0,
              "ticks": ""
             }
            },
            "type": "scattercarpet"
           }
          ],
          "scattergeo": [
           {
            "marker": {
             "colorbar": {
              "outlinewidth": 0,
              "ticks": ""
             }
            },
            "type": "scattergeo"
           }
          ],
          "scattergl": [
           {
            "marker": {
             "colorbar": {
              "outlinewidth": 0,
              "ticks": ""
             }
            },
            "type": "scattergl"
           }
          ],
          "scattermapbox": [
           {
            "marker": {
             "colorbar": {
              "outlinewidth": 0,
              "ticks": ""
             }
            },
            "type": "scattermapbox"
           }
          ],
          "scatterpolar": [
           {
            "marker": {
             "colorbar": {
              "outlinewidth": 0,
              "ticks": ""
             }
            },
            "type": "scatterpolar"
           }
          ],
          "scatterpolargl": [
           {
            "marker": {
             "colorbar": {
              "outlinewidth": 0,
              "ticks": ""
             }
            },
            "type": "scatterpolargl"
           }
          ],
          "scatterternary": [
           {
            "marker": {
             "colorbar": {
              "outlinewidth": 0,
              "ticks": ""
             }
            },
            "type": "scatterternary"
           }
          ],
          "surface": [
           {
            "colorbar": {
             "outlinewidth": 0,
             "ticks": ""
            },
            "colorscale": [
             [
              0,
              "#0d0887"
             ],
             [
              0.1111111111111111,
              "#46039f"
             ],
             [
              0.2222222222222222,
              "#7201a8"
             ],
             [
              0.3333333333333333,
              "#9c179e"
             ],
             [
              0.4444444444444444,
              "#bd3786"
             ],
             [
              0.5555555555555556,
              "#d8576b"
             ],
             [
              0.6666666666666666,
              "#ed7953"
             ],
             [
              0.7777777777777778,
              "#fb9f3a"
             ],
             [
              0.8888888888888888,
              "#fdca26"
             ],
             [
              1,
              "#f0f921"
             ]
            ],
            "type": "surface"
           }
          ],
          "table": [
           {
            "cells": {
             "fill": {
              "color": "#EBF0F8"
             },
             "line": {
              "color": "white"
             }
            },
            "header": {
             "fill": {
              "color": "#C8D4E3"
             },
             "line": {
              "color": "white"
             }
            },
            "type": "table"
           }
          ]
         },
         "layout": {
          "annotationdefaults": {
           "arrowcolor": "#2a3f5f",
           "arrowhead": 0,
           "arrowwidth": 1
          },
          "coloraxis": {
           "colorbar": {
            "outlinewidth": 0,
            "ticks": ""
           }
          },
          "colorscale": {
           "diverging": [
            [
             0,
             "#8e0152"
            ],
            [
             0.1,
             "#c51b7d"
            ],
            [
             0.2,
             "#de77ae"
            ],
            [
             0.3,
             "#f1b6da"
            ],
            [
             0.4,
             "#fde0ef"
            ],
            [
             0.5,
             "#f7f7f7"
            ],
            [
             0.6,
             "#e6f5d0"
            ],
            [
             0.7,
             "#b8e186"
            ],
            [
             0.8,
             "#7fbc41"
            ],
            [
             0.9,
             "#4d9221"
            ],
            [
             1,
             "#276419"
            ]
           ],
           "sequential": [
            [
             0,
             "#0d0887"
            ],
            [
             0.1111111111111111,
             "#46039f"
            ],
            [
             0.2222222222222222,
             "#7201a8"
            ],
            [
             0.3333333333333333,
             "#9c179e"
            ],
            [
             0.4444444444444444,
             "#bd3786"
            ],
            [
             0.5555555555555556,
             "#d8576b"
            ],
            [
             0.6666666666666666,
             "#ed7953"
            ],
            [
             0.7777777777777778,
             "#fb9f3a"
            ],
            [
             0.8888888888888888,
             "#fdca26"
            ],
            [
             1,
             "#f0f921"
            ]
           ],
           "sequentialminus": [
            [
             0,
             "#0d0887"
            ],
            [
             0.1111111111111111,
             "#46039f"
            ],
            [
             0.2222222222222222,
             "#7201a8"
            ],
            [
             0.3333333333333333,
             "#9c179e"
            ],
            [
             0.4444444444444444,
             "#bd3786"
            ],
            [
             0.5555555555555556,
             "#d8576b"
            ],
            [
             0.6666666666666666,
             "#ed7953"
            ],
            [
             0.7777777777777778,
             "#fb9f3a"
            ],
            [
             0.8888888888888888,
             "#fdca26"
            ],
            [
             1,
             "#f0f921"
            ]
           ]
          },
          "colorway": [
           "#636efa",
           "#EF553B",
           "#00cc96",
           "#ab63fa",
           "#FFA15A",
           "#19d3f3",
           "#FF6692",
           "#B6E880",
           "#FF97FF",
           "#FECB52"
          ],
          "font": {
           "color": "#2a3f5f"
          },
          "geo": {
           "bgcolor": "white",
           "lakecolor": "white",
           "landcolor": "#E5ECF6",
           "showlakes": true,
           "showland": true,
           "subunitcolor": "white"
          },
          "hoverlabel": {
           "align": "left"
          },
          "hovermode": "closest",
          "mapbox": {
           "style": "light"
          },
          "paper_bgcolor": "white",
          "plot_bgcolor": "#E5ECF6",
          "polar": {
           "angularaxis": {
            "gridcolor": "white",
            "linecolor": "white",
            "ticks": ""
           },
           "bgcolor": "#E5ECF6",
           "radialaxis": {
            "gridcolor": "white",
            "linecolor": "white",
            "ticks": ""
           }
          },
          "scene": {
           "xaxis": {
            "backgroundcolor": "#E5ECF6",
            "gridcolor": "white",
            "gridwidth": 2,
            "linecolor": "white",
            "showbackground": true,
            "ticks": "",
            "zerolinecolor": "white"
           },
           "yaxis": {
            "backgroundcolor": "#E5ECF6",
            "gridcolor": "white",
            "gridwidth": 2,
            "linecolor": "white",
            "showbackground": true,
            "ticks": "",
            "zerolinecolor": "white"
           },
           "zaxis": {
            "backgroundcolor": "#E5ECF6",
            "gridcolor": "white",
            "gridwidth": 2,
            "linecolor": "white",
            "showbackground": true,
            "ticks": "",
            "zerolinecolor": "white"
           }
          },
          "shapedefaults": {
           "line": {
            "color": "#2a3f5f"
           }
          },
          "ternary": {
           "aaxis": {
            "gridcolor": "white",
            "linecolor": "white",
            "ticks": ""
           },
           "baxis": {
            "gridcolor": "white",
            "linecolor": "white",
            "ticks": ""
           },
           "bgcolor": "#E5ECF6",
           "caxis": {
            "gridcolor": "white",
            "linecolor": "white",
            "ticks": ""
           }
          },
          "title": {
           "x": 0.05
          },
          "xaxis": {
           "automargin": true,
           "gridcolor": "white",
           "linecolor": "white",
           "ticks": "",
           "title": {
            "standoff": 15
           },
           "zerolinecolor": "white",
           "zerolinewidth": 2
          },
          "yaxis": {
           "automargin": true,
           "gridcolor": "white",
           "linecolor": "white",
           "ticks": "",
           "title": {
            "standoff": 15
           },
           "zerolinecolor": "white",
           "zerolinewidth": 2
          }
         }
        },
        "xaxis": {
         "autorange": true,
         "constrain": "domain",
         "domain": [
          0.43494033699106555,
          0.5650596630089345
         ],
         "range": [
          -0.5,
          13.5
         ],
         "scaleanchor": "y",
         "side": "top",
         "title": {
          "text": "cluster_labels_google_b"
         },
         "type": "category"
        },
        "yaxis": {
         "autorange": true,
         "constrain": "domain",
         "domain": [
          0,
          1
         ],
         "range": [
          16.5,
          -0.5
         ],
         "title": {
          "text": "cluster_labels_google_a"
         },
         "type": "category"
        }
       }
      },
      "image/png": "[encoded data removed]",
      "text/html": [
       "<div>                            <div id=\"4bb6c1cf-5164-41ca-a220-a03416f69ab4\" class=\"plotly-graph-div\" style=\"height:525px; width:100%;\"></div>            <script type=\"text/javascript\">                require([\"plotly\"], function(Plotly) {                    window.PLOTLYENV=window.PLOTLYENV || {};                                    if (document.getElementById(\"4bb6c1cf-5164-41ca-a220-a03416f69ab4\")) {                    Plotly.newPlot(                        \"4bb6c1cf-5164-41ca-a220-a03416f69ab4\",                        [{\"coloraxis\": \"coloraxis\", \"hovertemplate\": \"cluster_labels_google_b: %{x}<br>cluster_labels_google_a: %{y}<br>Productivity: %{z}<extra></extra>\", \"type\": \"heatmap\", \"x\": [\"Hoffnung| Corona| Fan-Entscheidung| Anpfiff| Siegerentwurf\", \"Trump| Biden| Wahl| Kampf| Wei\\u00dfe Haus\", \"Corona-Burn-out| Laura| Wendler| Florida| E-Auto-Umsteiger\", \"Derby| Wiesbaden| Ernst| Interview| BVB\", \"Corona| Test| US| Spiel| Appell\", \"Trainer| Bundesliga| Europa| Peter Kadiru| Golf-Meister\", \"Dresden| Terrorist| Terroristen| Frau| Existenz\", \"Russland| Einbrecher| Kunstwerk| Sanktionen| EU\", \"Biografie| Ged\\u00e4chtnisschwund| Boris Becker| Anklagepunkte| Spiel\", \"Demagoge| HSV| Kampf-Kandidatur| Ex-Sprecher| Trump\", \"Fehltritt| Union| Skispringer| Ausfall| Leipzig\", \"HSV| Liga| Trainer| Spieler| Daniel Thioune\", \"Neuzugang| NFL| Gl\\u00fccksfall| Personalnot| Hansa\", \"Geburt| Hoffenheim| Hertha| Kindes| Belgrad\"], \"y\": [\"\\u00dcberwachungskamera| Love Island| Modell| Ged\\u00e4chtnisschwund| Brustsponsor\", \"Trump| Biden| Wahl| US| TV-Duell\", \"Derby| Interview| H\\u00e4rte| F\\u00fchrungsgremien| DFB\", \"K\\u00f6ln| Spiel| Bundesliga| Mainz| Verlierer\", \"Boris Becker| Staatsanw\\u00e4ltin| Spiel| Darmstadt| Sparkassen\", \"HSV| Liga| Trainer| Spiel| Hoffnung\", \"Wohnung| Berlin| Laura| Wendler| Florida\", \"Maske| Corona| Sport| Experten| Fragen\", \"Trainer| Europa| Cl\\u00e1sico| MOTZivator| M\\u00fcller\", \"HSV| Biografie| Nizza| Cary Grant| Bank\", \"Gl\\u00fccksfall| Personalnot| NFL| Halles| Kolumne\", \"Hertha| Fehltritt| Union| Skispringer| Startelf\", \"Corona| Quarant\\u00e4ne| Test| Fall| Werder\", \"Corona| Test| Gnabry| Krankenhaus| Intensivstation\", \"Kunstwerk| US| Russland| Ausstellung| Barkasse\", \"Dresden| Terroristen| Terrorist| CDU| Innenminister\", \"Corona| US| Pandemie| Remdesivir| Hartes Deutschland\"], \"z\": [[0.35584913238816596, 0.8908677834863715, 0.8060982583220251, 0.790443840616086, 0.5082625261616216, 0.620636828796226, 0.8029717558030842, 0.5834069625806397, 0.5686994987758427, 0.7655684918411584, 0.7556788166538522, 0.5960909361195772, 0.7050699205404634, 0.592406625181422], [0.8390757590087361, 0.18681544031638475, 1.0174140121770552, 0.9263004971762199, 0.957569804861726, 0.9310973124143691, 0.9820530178687845, 0.9165281305808141, 0.8937068047798858, 0.6980640197047459, 1.0146147486022836, 0.8885428021549321, 0.9732797189105243, 0.8962675934181861], [0.7688623527835824, 0.9512531758817944, 0.8738704576890626, 0.09520882811289988, 0.7500867462916978, 0.6658805912311994, 0.9211708330820493, 0.9180326508506765, 0.8911267761688386, 0.7694245580140009, 0.8128614626728314, 0.6640913820719949, 0.7984279809705719, 0.8778219443739246], [0.5525794837199899, 0.7751631414244827, 0.8154908861900891, 0.6467465732256257, 0.6033986172584263, 0.5175796467766884, 0.9050180314853025, 0.6867596896936465, 0.7754040923968506, 0.6635090306483429, 0.6405206296018959, 0.5842160814357876, 0.7055238019233044, 0.7472970119324163], [0.7151130932418488, 0.8488322591844938, 0.8090538405419546, 0.8022030701770255, 0.8031145004925269, 0.7131749235319285, 1.0009089393493193, 0.8007100480266615, 0.5340774019209468, 0.7675635586408656, 0.8447076997458612, 0.7649679720023018, 0.8591770557462145, 0.9040615589112998], [0.4378029488263252, 0.7854127975550247, 0.6890523489964269, 0.5792643032757201, 0.7118928141379599, 0.5341963936536018, 0.9173041850871892, 0.6742515641114877, 0.7029453179052436, 0.5428494365909688, 0.5591770923961197, 0.3336825026779452, 0.6181793943380315, 0.6358376072331364], [0.6037919054706791, 0.8932781781514937, 0.17904811177352875, 0.7206274901436944, 0.6401890772170624, 0.6531560120280204, 0.8306099388924502, 0.8168749611450665, 0.7734446342633451, 0.7044972640340573, 0.612894732514514, 0.5371596415078237, 0.7374872219195014, 0.6680479837454152], [0.9831129089294236, 1.0659380928996371, 0.865224970255758, 0.8444983016593854, 0.8860212775561038, 0.9398539047783928, 0.7817506879641238, 0.8261811951025377, 0.9244237489448186, 0.9796822702096116, 0.8154625386484256, 0.9045943138000738, 0.9612556310499877, 0.9159679092486929], [0.5344228510355631, 0.8306260590224251, 0.875958863882921, 0.614052426011319, 0.7136555554388837, 0.17588375607909046, 0.9544133377413355, 0.7184044036563729, 0.7041910915326962, 0.6316275022816564, 0.805837660395472, 0.6012343479465803, 0.6767862877412751, 0.7643274584574768], [0.6581318656952918, 0.9787020275818126, 0.912958823011039, 0.6808101256326629, 0.6888853933445369, 0.6920950096353842, 0.8871210812348865, 0.8181236329718293, 0.35847660826240557, 0.7157227055938551, 0.6534054756620032, 0.4653080024141266, 0.5315677832938177, 0.7177825678559944], [0.6908042098677523, 0.9136580356096555, 0.8912826118797779, 0.774742598418307, 0.8584961883734046, 0.7243818522737451, 1.0205164145215102, 0.8517603890270817, 0.7215772290517131, 0.6950263999565605, 0.7545083492388819, 0.7620284750030157, 0.24507180642116433, 0.8139633038879338], [0.5759397029648439, 0.9009371299772149, 0.7314854259896473, 0.6960778065031606, 0.7104399178030856, 0.6792371884904953, 0.7970914995297166, 0.6344995620101078, 0.8584532537080578, 0.7555334957095359, 0.20429634996818624, 0.6173347793360228, 0.6254091757737381, 0.5470232550855865], [0.8459320225583984, 1.00359474259812, 0.697902870026486, 0.6846542211374596, 0.41647436393915704, 0.8970041207296995, 0.9929597226046012, 0.965327449308668, 0.9755764644739979, 0.9479074002373045, 0.9982104528878758, 0.9109499320102775, 0.9943591257906127, 0.9895748610292778], [0.7342418117040331, 1.00271720494979, 0.7733703062436453, 0.7466331848891312, 0.5095386688077643, 0.7206363693748188, 0.9175659955235325, 0.8158163248236724, 0.8384401538481671, 0.8641356035847572, 0.9070184727213149, 0.7977647497456736, 0.9324208864545881, 0.9321757567244113], [0.7606051155199816, 0.9668514495185965, 0.8598430511734967, 0.8130904306812492, 0.831942015752039, 0.7736456496365884, 0.8237469110398161, 0.12082776644791415, 0.8515139449489071, 0.7383204770098519, 0.6227201050779521, 0.7092550433823983, 0.9075916339258365, 0.8487663517894952], [0.696329106492627, 0.8757068151366396, 0.7671461507316274, 0.8486510739468072, 0.7910477617745053, 0.6750042245709437, 0.3007542900370267, 0.7092522949839067, 0.871885780496066, 0.7884164425570621, 0.7380553157854719, 0.8041232426915045, 0.8475715331616169, 0.8519382840769321], [0.875796090185838, 0.9828204593595763, 0.7719332780952899, 0.8091421689529192, 0.3436286454842403, 0.8958139975404203, 0.950210653237545, 0.8985638026598509, 0.878013298486289, 0.98567292316136, 0.8337602916065215, 0.8733124711169423, 0.9503475215248287, 0.899527754617315]]}],                        {\"coloraxis\": {\"colorbar\": {\"title\": {\"text\": \"Productivity\"}}, \"colorscale\": [[0.0, \"#0d0887\"], [0.1111111111111111, \"#46039f\"], [0.2222222222222222, \"#7201a8\"], [0.3333333333333333, \"#9c179e\"], [0.4444444444444444, \"#bd3786\"], [0.5555555555555556, \"#d8576b\"], [0.6666666666666666, \"#ed7953\"], [0.7777777777777778, \"#fb9f3a\"], [0.8888888888888888, \"#fdca26\"], [1.0, \"#f0f921\"]]}, \"margin\": {\"t\": 60}, \"template\": {\"data\": {\"bar\": [{\"error_x\": {\"color\": \"#2a3f5f\"}, \"error_y\": {\"color\": \"#2a3f5f\"}, \"marker\": {\"line\": {\"color\": \"#E5ECF6\", \"width\": 0.5}}, \"type\": \"bar\"}], \"barpolar\": [{\"marker\": {\"line\": {\"color\": \"#E5ECF6\", \"width\": 0.5}}, \"type\": \"barpolar\"}], \"carpet\": [{\"aaxis\": {\"endlinecolor\": \"#2a3f5f\", \"gridcolor\": \"white\", \"linecolor\": \"white\", \"minorgridcolor\": \"white\", \"startlinecolor\": \"#2a3f5f\"}, \"baxis\": {\"endlinecolor\": \"#2a3f5f\", \"gridcolor\": \"white\", \"linecolor\": \"white\", \"minorgridcolor\": \"white\", \"startlinecolor\": \"#2a3f5f\"}, \"type\": \"carpet\"}], \"choropleth\": [{\"colorbar\": {\"outlinewidth\": 0, \"ticks\": \"\"}, \"type\": \"choropleth\"}], \"contour\": [{\"colorbar\": {\"outlinewidth\": 0, \"ticks\": \"\"}, \"colorscale\": [[0.0, \"#0d0887\"], [0.1111111111111111, \"#46039f\"], [0.2222222222222222, \"#7201a8\"], [0.3333333333333333, \"#9c179e\"], [0.4444444444444444, \"#bd3786\"], [0.5555555555555556, \"#d8576b\"], [0.6666666666666666, \"#ed7953\"], [0.7777777777777778, \"#fb9f3a\"], [0.8888888888888888, \"#fdca26\"], [1.0, \"#f0f921\"]], \"type\": \"contour\"}], \"contourcarpet\": [{\"colorbar\": {\"outlinewidth\": 0, \"ticks\": \"\"}, \"type\": \"contourcarpet\"}], \"heatmap\": [{\"colorbar\": {\"outlinewidth\": 0, \"ticks\": \"\"}, \"colorscale\": [[0.0, \"#0d0887\"], [0.1111111111111111, \"#46039f\"], [0.2222222222222222, \"#7201a8\"], [0.3333333333333333, \"#9c179e\"], [0.4444444444444444, \"#bd3786\"], [0.5555555555555556, \"#d8576b\"], [0.6666666666666666, \"#ed7953\"], [0.7777777777777778, \"#fb9f3a\"], [0.8888888888888888, \"#fdca26\"], [1.0, \"#f0f921\"]], \"type\": \"heatmap\"}], \"heatmapgl\": [{\"colorbar\": {\"outlinewidth\": 0, \"ticks\": \"\"}, \"colorscale\": [[0.0, \"#0d0887\"], [0.1111111111111111, \"#46039f\"], [0.2222222222222222, \"#7201a8\"], [0.3333333333333333, \"#9c179e\"], [0.4444444444444444, \"#bd3786\"], [0.5555555555555556, \"#d8576b\"], [0.6666666666666666, \"#ed7953\"], [0.7777777777777778, \"#fb9f3a\"], [0.8888888888888888, \"#fdca26\"], [1.0, \"#f0f921\"]], \"type\": \"heatmapgl\"}], \"histogram\": [{\"marker\": {\"colorbar\": {\"outlinewidth\": 0, \"ticks\": \"\"}}, \"type\": \"histogram\"}], \"histogram2d\": [{\"colorbar\": {\"outlinewidth\": 0, \"ticks\": \"\"}, \"colorscale\": [[0.0, \"#0d0887\"], [0.1111111111111111, \"#46039f\"], [0.2222222222222222, \"#7201a8\"], [0.3333333333333333, \"#9c179e\"], [0.4444444444444444, \"#bd3786\"], [0.5555555555555556, \"#d8576b\"], [0.6666666666666666, \"#ed7953\"], [0.7777777777777778, \"#fb9f3a\"], [0.8888888888888888, \"#fdca26\"], [1.0, \"#f0f921\"]], \"type\": \"histogram2d\"}], \"histogram2dcontour\": [{\"colorbar\": {\"outlinewidth\": 0, \"ticks\": \"\"}, \"colorscale\": [[0.0, \"#0d0887\"], [0.1111111111111111, \"#46039f\"], [0.2222222222222222, \"#7201a8\"], [0.3333333333333333, \"#9c179e\"], [0.4444444444444444, \"#bd3786\"], [0.5555555555555556, \"#d8576b\"], [0.6666666666666666, \"#ed7953\"], [0.7777777777777778, \"#fb9f3a\"], [0.8888888888888888, \"#fdca26\"], [1.0, \"#f0f921\"]], \"type\": \"histogram2dcontour\"}], \"mesh3d\": [{\"colorbar\": {\"outlinewidth\": 0, \"ticks\": \"\"}, \"type\": \"mesh3d\"}], \"parcoords\": [{\"line\": {\"colorbar\": {\"outlinewidth\": 0, \"ticks\": \"\"}}, \"type\": \"parcoords\"}], \"pie\": [{\"automargin\": true, \"type\": \"pie\"}], \"scatter\": [{\"marker\": {\"colorbar\": {\"outlinewidth\": 0, \"ticks\": \"\"}}, \"type\": \"scatter\"}], \"scatter3d\": [{\"line\": {\"colorbar\": {\"outlinewidth\": 0, \"ticks\": \"\"}}, \"marker\": {\"colorbar\": {\"outlinewidth\": 0, \"ticks\": \"\"}}, \"type\": \"scatter3d\"}], \"scattercarpet\": [{\"marker\": {\"colorbar\": {\"outlinewidth\": 0, \"ticks\": \"\"}}, \"type\": \"scattercarpet\"}], \"scattergeo\": [{\"marker\": {\"colorbar\": {\"outlinewidth\": 0, \"ticks\": \"\"}}, \"type\": \"scattergeo\"}], \"scattergl\": [{\"marker\": {\"colorbar\": {\"outlinewidth\": 0, \"ticks\": \"\"}}, \"type\": \"scattergl\"}], \"scattermapbox\": [{\"marker\": {\"colorbar\": {\"outlinewidth\": 0, \"ticks\": \"\"}}, \"type\": \"scattermapbox\"}], \"scatterpolar\": [{\"marker\": {\"colorbar\": {\"outlinewidth\": 0, \"ticks\": \"\"}}, \"type\": \"scatterpolar\"}], \"scatterpolargl\": [{\"marker\": {\"colorbar\": {\"outlinewidth\": 0, \"ticks\": \"\"}}, \"type\": \"scatterpolargl\"}], \"scatterternary\": [{\"marker\": {\"colorbar\": {\"outlinewidth\": 0, \"ticks\": \"\"}}, \"type\": \"scatterternary\"}], \"surface\": [{\"colorbar\": {\"outlinewidth\": 0, \"ticks\": \"\"}, \"colorscale\": [[0.0, \"#0d0887\"], [0.1111111111111111, \"#46039f\"], [0.2222222222222222, \"#7201a8\"], [0.3333333333333333, \"#9c179e\"], [0.4444444444444444, \"#bd3786\"], [0.5555555555555556, \"#d8576b\"], [0.6666666666666666, \"#ed7953\"], [0.7777777777777778, \"#fb9f3a\"], [0.8888888888888888, \"#fdca26\"], [1.0, \"#f0f921\"]], \"type\": \"surface\"}], \"table\": [{\"cells\": {\"fill\": {\"color\": \"#EBF0F8\"}, \"line\": {\"color\": \"white\"}}, \"header\": {\"fill\": {\"color\": \"#C8D4E3\"}, \"line\": {\"color\": \"white\"}}, \"type\": \"table\"}]}, \"layout\": {\"annotationdefaults\": {\"arrowcolor\": \"#2a3f5f\", \"arrowhead\": 0, \"arrowwidth\": 1}, \"coloraxis\": {\"colorbar\": {\"outlinewidth\": 0, \"ticks\": \"\"}}, \"colorscale\": {\"diverging\": [[0, \"#8e0152\"], [0.1, \"#c51b7d\"], [0.2, \"#de77ae\"], [0.3, \"#f1b6da\"], [0.4, \"#fde0ef\"], [0.5, \"#f7f7f7\"], [0.6, \"#e6f5d0\"], [0.7, \"#b8e186\"], [0.8, \"#7fbc41\"], [0.9, \"#4d9221\"], [1, \"#276419\"]], \"sequential\": [[0.0, \"#0d0887\"], [0.1111111111111111, \"#46039f\"], [0.2222222222222222, \"#7201a8\"], [0.3333333333333333, \"#9c179e\"], [0.4444444444444444, \"#bd3786\"], [0.5555555555555556, \"#d8576b\"], [0.6666666666666666, \"#ed7953\"], [0.7777777777777778, \"#fb9f3a\"], [0.8888888888888888, \"#fdca26\"], [1.0, \"#f0f921\"]], \"sequentialminus\": [[0.0, \"#0d0887\"], [0.1111111111111111, \"#46039f\"], [0.2222222222222222, \"#7201a8\"], [0.3333333333333333, \"#9c179e\"], [0.4444444444444444, \"#bd3786\"], [0.5555555555555556, \"#d8576b\"], [0.6666666666666666, \"#ed7953\"], [0.7777777777777778, \"#fb9f3a\"], [0.8888888888888888, \"#fdca26\"], [1.0, \"#f0f921\"]]}, \"colorway\": [\"#636efa\", \"#EF553B\", \"#00cc96\", \"#ab63fa\", \"#FFA15A\", \"#19d3f3\", \"#FF6692\", \"#B6E880\", \"#FF97FF\", \"#FECB52\"], \"font\": {\"color\": \"#2a3f5f\"}, \"geo\": {\"bgcolor\": \"white\", \"lakecolor\": \"white\", \"landcolor\": \"#E5ECF6\", \"showlakes\": true, \"showland\": true, \"subunitcolor\": \"white\"}, \"hoverlabel\": {\"align\": \"left\"}, \"hovermode\": \"closest\", \"mapbox\": {\"style\": \"light\"}, \"paper_bgcolor\": \"white\", \"plot_bgcolor\": \"#E5ECF6\", \"polar\": {\"angularaxis\": {\"gridcolor\": \"white\", \"linecolor\": \"white\", \"ticks\": \"\"}, \"bgcolor\": \"#E5ECF6\", \"radialaxis\": {\"gridcolor\": \"white\", \"linecolor\": \"white\", \"ticks\": \"\"}}, \"scene\": {\"xaxis\": {\"backgroundcolor\": \"#E5ECF6\", \"gridcolor\": \"white\", \"gridwidth\": 2, \"linecolor\": \"white\", \"showbackground\": true, \"ticks\": \"\", \"zerolinecolor\": \"white\"}, \"yaxis\": {\"backgroundcolor\": \"#E5ECF6\", \"gridcolor\": \"white\", \"gridwidth\": 2, \"linecolor\": \"white\", \"showbackground\": true, \"ticks\": \"\", \"zerolinecolor\": \"white\"}, \"zaxis\": {\"backgroundcolor\": \"#E5ECF6\", \"gridcolor\": \"white\", \"gridwidth\": 2, \"linecolor\": \"white\", \"showbackground\": true, \"ticks\": \"\", \"zerolinecolor\": \"white\"}}, \"shapedefaults\": {\"line\": {\"color\": \"#2a3f5f\"}}, \"ternary\": {\"aaxis\": {\"gridcolor\": \"white\", \"linecolor\": \"white\", \"ticks\": \"\"}, \"baxis\": {\"gridcolor\": \"white\", \"linecolor\": \"white\", \"ticks\": \"\"}, \"bgcolor\": \"#E5ECF6\", \"caxis\": {\"gridcolor\": \"white\", \"linecolor\": \"white\", \"ticks\": \"\"}}, \"title\": {\"x\": 0.05}, \"xaxis\": {\"automargin\": true, \"gridcolor\": \"white\", \"linecolor\": \"white\", \"ticks\": \"\", \"title\": {\"standoff\": 15}, \"zerolinecolor\": \"white\", \"zerolinewidth\": 2}, \"yaxis\": {\"automargin\": true, \"gridcolor\": \"white\", \"linecolor\": \"white\", \"ticks\": \"\", \"title\": {\"standoff\": 15}, \"zerolinecolor\": \"white\", \"zerolinewidth\": 2}}}, \"xaxis\": {\"constrain\": \"domain\", \"scaleanchor\": \"y\", \"side\": \"top\", \"title\": {\"text\": \"cluster_labels_google_b\"}}, \"yaxis\": {\"autorange\": \"reversed\", \"constrain\": \"domain\", \"title\": {\"text\": \"cluster_labels_google_a\"}}},                        {\"responsive\": true}                    ).then(function(){\n",
       "                            \n",
       "var gd = document.getElementById('4bb6c1cf-5164-41ca-a220-a03416f69ab4');\n",
       "var x = new MutationObserver(function (mutations, observer) {{\n",
       "        var display = window.getComputedStyle(gd).display;\n",
       "        if (!display || display === 'none') {{\n",
       "            console.log([gd, 'removed!']);\n",
       "            Plotly.purge(gd);\n",
       "            observer.disconnect();\n",
       "        }}\n",
       "}});\n",
       "\n",
       "// Listen for the removal of the full notebook cells\n",
       "var notebookContainer = gd.closest('#notebook-container');\n",
       "if (notebookContainer) {{\n",
       "    x.observe(notebookContainer, {childList: true});\n",
       "}}\n",
       "\n",
       "// Listen for the clearing of the current output cell\n",
       "var outputEl = gd.closest('.output');\n",
       "if (outputEl) {{\n",
       "    x.observe(outputEl, {childList: true});\n",
       "}}\n",
       "\n",
       "                        })                };                });            </script>        </div>"
      ]
     },
     "metadata": {},
     "output_type": "display_data"
    }
   ],
   "source": [
    "import plotly.express as px\n",
    "data= cdist(np.stack(cluster_labels_google_a.merged_headline_embedding.values),np.stack(cluster_labels_google_b.merged_headline_embedding.values),\"cosine\")\n",
    "fig = px.imshow(data,\n",
    "                labels=dict(x=\"cluster_labels_google_b\", y=\"cluster_labels_google_a\", color=\"Productivity\"),\n",
    "                x=cluster_labels_google_b.TopWords.to_list(),\n",
    "                y=cluster_labels_google_a.TopWords.to_list()\n",
    "               )\n",
    "fig.update_xaxes(side=\"top\")\n",
    "fig.update_layout(height=800)\n",
    "\n",
    "fig.show()"
   ]
  },
  {
   "cell_type": "code",
   "execution_count": 469,
   "metadata": {},
   "outputs": [
    {
     "data": {
      "application/vnd.plotly.v1+json": {
       "config": {
        "plotlyServerURL": "https://plot.ly"
       },
       "data": [
        {
         "coloraxis": "coloraxis",
         "hovertemplate": "x: %{x}<br>y: %{y}<br>color: %{z}<extra></extra>",
         "type": "heatmap",
         "z": [
          [
           0.35584913238816596,
           0.8908677834863715,
           0.8060982583220251,
           0.790443840616086,
           0.5082625261616216,
           0.620636828796226,
           0.8029717558030842,
           0.5834069625806397,
           0.5686994987758427,
           0.7655684918411584,
           0.7556788166538522,
           0.5960909361195772,
           0.7050699205404634,
           0.592406625181422
          ],
          [
           0.8390757590087361,
           0.18681544031638475,
           1.0174140121770552,
           0.9263004971762199,
           0.957569804861726,
           0.9310973124143691,
           0.9820530178687845,
           0.9165281305808141,
           0.8937068047798858,
           0.6980640197047459,
           1.0146147486022836,
           0.8885428021549321,
           0.9732797189105243,
           0.8962675934181861
          ],
          [
           0.7688623527835824,
           0.9512531758817944,
           0.8738704576890626,
           0.09520882811289988,
           0.7500867462916978,
           0.6658805912311994,
           0.9211708330820493,
           0.9180326508506765,
           0.8911267761688386,
           0.7694245580140009,
           0.8128614626728314,
           0.6640913820719949,
           0.7984279809705719,
           0.8778219443739246
          ],
          [
           0.5525794837199899,
           0.7751631414244827,
           0.8154908861900891,
           0.6467465732256257,
           0.6033986172584263,
           0.5175796467766884,
           0.9050180314853025,
           0.6867596896936465,
           0.7754040923968506,
           0.6635090306483429,
           0.6405206296018959,
           0.5842160814357876,
           0.7055238019233044,
           0.7472970119324163
          ],
          [
           0.7151130932418488,
           0.8488322591844938,
           0.8090538405419546,
           0.8022030701770255,
           0.8031145004925269,
           0.7131749235319285,
           1.0009089393493193,
           0.8007100480266615,
           0.5340774019209468,
           0.7675635586408656,
           0.8447076997458612,
           0.7649679720023018,
           0.8591770557462145,
           0.9040615589112998
          ],
          [
           0.4378029488263252,
           0.7854127975550247,
           0.6890523489964269,
           0.5792643032757201,
           0.7118928141379599,
           0.5341963936536018,
           0.9173041850871892,
           0.6742515641114877,
           0.7029453179052436,
           0.5428494365909688,
           0.5591770923961197,
           0.3336825026779452,
           0.6181793943380315,
           0.6358376072331364
          ],
          [
           0.6037919054706791,
           0.8932781781514937,
           0.17904811177352875,
           0.7206274901436944,
           0.6401890772170624,
           0.6531560120280204,
           0.8306099388924502,
           0.8168749611450665,
           0.7734446342633451,
           0.7044972640340573,
           0.612894732514514,
           0.5371596415078237,
           0.7374872219195014,
           0.6680479837454152
          ],
          [
           0.9831129089294236,
           1.0659380928996371,
           0.865224970255758,
           0.8444983016593854,
           0.8860212775561038,
           0.9398539047783928,
           0.7817506879641238,
           0.8261811951025377,
           0.9244237489448186,
           0.9796822702096116,
           0.8154625386484256,
           0.9045943138000738,
           0.9612556310499877,
           0.9159679092486929
          ],
          [
           0.5344228510355631,
           0.8306260590224251,
           0.875958863882921,
           0.614052426011319,
           0.7136555554388837,
           0.17588375607909046,
           0.9544133377413355,
           0.7184044036563729,
           0.7041910915326962,
           0.6316275022816564,
           0.805837660395472,
           0.6012343479465803,
           0.6767862877412751,
           0.7643274584574768
          ],
          [
           0.6581318656952918,
           0.9787020275818126,
           0.912958823011039,
           0.6808101256326629,
           0.6888853933445369,
           0.6920950096353842,
           0.8871210812348865,
           0.8181236329718293,
           0.35847660826240557,
           0.7157227055938551,
           0.6534054756620032,
           0.4653080024141266,
           0.5315677832938177,
           0.7177825678559944
          ],
          [
           0.6908042098677523,
           0.9136580356096555,
           0.8912826118797779,
           0.774742598418307,
           0.8584961883734046,
           0.7243818522737451,
           1.0205164145215102,
           0.8517603890270817,
           0.7215772290517131,
           0.6950263999565605,
           0.7545083492388819,
           0.7620284750030157,
           0.24507180642116433,
           0.8139633038879338
          ],
          [
           0.5759397029648439,
           0.9009371299772149,
           0.7314854259896473,
           0.6960778065031606,
           0.7104399178030856,
           0.6792371884904953,
           0.7970914995297166,
           0.6344995620101078,
           0.8584532537080578,
           0.7555334957095359,
           0.20429634996818624,
           0.6173347793360228,
           0.6254091757737381,
           0.5470232550855865
          ],
          [
           0.8459320225583984,
           1.00359474259812,
           0.697902870026486,
           0.6846542211374596,
           0.41647436393915704,
           0.8970041207296995,
           0.9929597226046012,
           0.965327449308668,
           0.9755764644739979,
           0.9479074002373045,
           0.9982104528878758,
           0.9109499320102775,
           0.9943591257906127,
           0.9895748610292778
          ],
          [
           0.7342418117040331,
           1.00271720494979,
           0.7733703062436453,
           0.7466331848891312,
           0.5095386688077643,
           0.7206363693748188,
           0.9175659955235325,
           0.8158163248236724,
           0.8384401538481671,
           0.8641356035847572,
           0.9070184727213149,
           0.7977647497456736,
           0.9324208864545881,
           0.9321757567244113
          ],
          [
           0.7606051155199816,
           0.9668514495185965,
           0.8598430511734967,
           0.8130904306812492,
           0.831942015752039,
           0.7736456496365884,
           0.8237469110398161,
           0.12082776644791415,
           0.8515139449489071,
           0.7383204770098519,
           0.6227201050779521,
           0.7092550433823983,
           0.9075916339258365,
           0.8487663517894952
          ],
          [
           0.696329106492627,
           0.8757068151366396,
           0.7671461507316274,
           0.8486510739468072,
           0.7910477617745053,
           0.6750042245709437,
           0.3007542900370267,
           0.7092522949839067,
           0.871885780496066,
           0.7884164425570621,
           0.7380553157854719,
           0.8041232426915045,
           0.8475715331616169,
           0.8519382840769321
          ],
          [
           0.875796090185838,
           0.9828204593595763,
           0.7719332780952899,
           0.8091421689529192,
           0.3436286454842403,
           0.8958139975404203,
           0.950210653237545,
           0.8985638026598509,
           0.878013298486289,
           0.98567292316136,
           0.8337602916065215,
           0.8733124711169423,
           0.9503475215248287,
           0.899527754617315
          ]
         ]
        }
       ],
       "layout": {
        "autosize": true,
        "coloraxis": {
         "colorscale": [
          [
           0,
           "#0d0887"
          ],
          [
           0.1111111111111111,
           "#46039f"
          ],
          [
           0.2222222222222222,
           "#7201a8"
          ],
          [
           0.3333333333333333,
           "#9c179e"
          ],
          [
           0.4444444444444444,
           "#bd3786"
          ],
          [
           0.5555555555555556,
           "#d8576b"
          ],
          [
           0.6666666666666666,
           "#ed7953"
          ],
          [
           0.7777777777777778,
           "#fb9f3a"
          ],
          [
           0.8888888888888888,
           "#fdca26"
          ],
          [
           1,
           "#f0f921"
          ]
         ]
        },
        "margin": {
         "t": 60
        },
        "template": {
         "data": {
          "bar": [
           {
            "error_x": {
             "color": "#2a3f5f"
            },
            "error_y": {
             "color": "#2a3f5f"
            },
            "marker": {
             "line": {
              "color": "#E5ECF6",
              "width": 0.5
             }
            },
            "type": "bar"
           }
          ],
          "barpolar": [
           {
            "marker": {
             "line": {
              "color": "#E5ECF6",
              "width": 0.5
             }
            },
            "type": "barpolar"
           }
          ],
          "carpet": [
           {
            "aaxis": {
             "endlinecolor": "#2a3f5f",
             "gridcolor": "white",
             "linecolor": "white",
             "minorgridcolor": "white",
             "startlinecolor": "#2a3f5f"
            },
            "baxis": {
             "endlinecolor": "#2a3f5f",
             "gridcolor": "white",
             "linecolor": "white",
             "minorgridcolor": "white",
             "startlinecolor": "#2a3f5f"
            },
            "type": "carpet"
           }
          ],
          "choropleth": [
           {
            "colorbar": {
             "outlinewidth": 0,
             "ticks": ""
            },
            "type": "choropleth"
           }
          ],
          "contour": [
           {
            "colorbar": {
             "outlinewidth": 0,
             "ticks": ""
            },
            "colorscale": [
             [
              0,
              "#0d0887"
             ],
             [
              0.1111111111111111,
              "#46039f"
             ],
             [
              0.2222222222222222,
              "#7201a8"
             ],
             [
              0.3333333333333333,
              "#9c179e"
             ],
             [
              0.4444444444444444,
              "#bd3786"
             ],
             [
              0.5555555555555556,
              "#d8576b"
             ],
             [
              0.6666666666666666,
              "#ed7953"
             ],
             [
              0.7777777777777778,
              "#fb9f3a"
             ],
             [
              0.8888888888888888,
              "#fdca26"
             ],
             [
              1,
              "#f0f921"
             ]
            ],
            "type": "contour"
           }
          ],
          "contourcarpet": [
           {
            "colorbar": {
             "outlinewidth": 0,
             "ticks": ""
            },
            "type": "contourcarpet"
           }
          ],
          "heatmap": [
           {
            "colorbar": {
             "outlinewidth": 0,
             "ticks": ""
            },
            "colorscale": [
             [
              0,
              "#0d0887"
             ],
             [
              0.1111111111111111,
              "#46039f"
             ],
             [
              0.2222222222222222,
              "#7201a8"
             ],
             [
              0.3333333333333333,
              "#9c179e"
             ],
             [
              0.4444444444444444,
              "#bd3786"
             ],
             [
              0.5555555555555556,
              "#d8576b"
             ],
             [
              0.6666666666666666,
              "#ed7953"
             ],
             [
              0.7777777777777778,
              "#fb9f3a"
             ],
             [
              0.8888888888888888,
              "#fdca26"
             ],
             [
              1,
              "#f0f921"
             ]
            ],
            "type": "heatmap"
           }
          ],
          "heatmapgl": [
           {
            "colorbar": {
             "outlinewidth": 0,
             "ticks": ""
            },
            "colorscale": [
             [
              0,
              "#0d0887"
             ],
             [
              0.1111111111111111,
              "#46039f"
             ],
             [
              0.2222222222222222,
              "#7201a8"
             ],
             [
              0.3333333333333333,
              "#9c179e"
             ],
             [
              0.4444444444444444,
              "#bd3786"
             ],
             [
              0.5555555555555556,
              "#d8576b"
             ],
             [
              0.6666666666666666,
              "#ed7953"
             ],
             [
              0.7777777777777778,
              "#fb9f3a"
             ],
             [
              0.8888888888888888,
              "#fdca26"
             ],
             [
              1,
              "#f0f921"
             ]
            ],
            "type": "heatmapgl"
           }
          ],
          "histogram": [
           {
            "marker": {
             "colorbar": {
              "outlinewidth": 0,
              "ticks": ""
             }
            },
            "type": "histogram"
           }
          ],
          "histogram2d": [
           {
            "colorbar": {
             "outlinewidth": 0,
             "ticks": ""
            },
            "colorscale": [
             [
              0,
              "#0d0887"
             ],
             [
              0.1111111111111111,
              "#46039f"
             ],
             [
              0.2222222222222222,
              "#7201a8"
             ],
             [
              0.3333333333333333,
              "#9c179e"
             ],
             [
              0.4444444444444444,
              "#bd3786"
             ],
             [
              0.5555555555555556,
              "#d8576b"
             ],
             [
              0.6666666666666666,
              "#ed7953"
             ],
             [
              0.7777777777777778,
              "#fb9f3a"
             ],
             [
              0.8888888888888888,
              "#fdca26"
             ],
             [
              1,
              "#f0f921"
             ]
            ],
            "type": "histogram2d"
           }
          ],
          "histogram2dcontour": [
           {
            "colorbar": {
             "outlinewidth": 0,
             "ticks": ""
            },
            "colorscale": [
             [
              0,
              "#0d0887"
             ],
             [
              0.1111111111111111,
              "#46039f"
             ],
             [
              0.2222222222222222,
              "#7201a8"
             ],
             [
              0.3333333333333333,
              "#9c179e"
             ],
             [
              0.4444444444444444,
              "#bd3786"
             ],
             [
              0.5555555555555556,
              "#d8576b"
             ],
             [
              0.6666666666666666,
              "#ed7953"
             ],
             [
              0.7777777777777778,
              "#fb9f3a"
             ],
             [
              0.8888888888888888,
              "#fdca26"
             ],
             [
              1,
              "#f0f921"
             ]
            ],
            "type": "histogram2dcontour"
           }
          ],
          "mesh3d": [
           {
            "colorbar": {
             "outlinewidth": 0,
             "ticks": ""
            },
            "type": "mesh3d"
           }
          ],
          "parcoords": [
           {
            "line": {
             "colorbar": {
              "outlinewidth": 0,
              "ticks": ""
             }
            },
            "type": "parcoords"
           }
          ],
          "pie": [
           {
            "automargin": true,
            "type": "pie"
           }
          ],
          "scatter": [
           {
            "marker": {
             "colorbar": {
              "outlinewidth": 0,
              "ticks": ""
             }
            },
            "type": "scatter"
           }
          ],
          "scatter3d": [
           {
            "line": {
             "colorbar": {
              "outlinewidth": 0,
              "ticks": ""
             }
            },
            "marker": {
             "colorbar": {
              "outlinewidth": 0,
              "ticks": ""
             }
            },
            "type": "scatter3d"
           }
          ],
          "scattercarpet": [
           {
            "marker": {
             "colorbar": {
              "outlinewidth": 0,
              "ticks": ""
             }
            },
            "type": "scattercarpet"
           }
          ],
          "scattergeo": [
           {
            "marker": {
             "colorbar": {
              "outlinewidth": 0,
              "ticks": ""
             }
            },
            "type": "scattergeo"
           }
          ],
          "scattergl": [
           {
            "marker": {
             "colorbar": {
              "outlinewidth": 0,
              "ticks": ""
             }
            },
            "type": "scattergl"
           }
          ],
          "scattermapbox": [
           {
            "marker": {
             "colorbar": {
              "outlinewidth": 0,
              "ticks": ""
             }
            },
            "type": "scattermapbox"
           }
          ],
          "scatterpolar": [
           {
            "marker": {
             "colorbar": {
              "outlinewidth": 0,
              "ticks": ""
             }
            },
            "type": "scatterpolar"
           }
          ],
          "scatterpolargl": [
           {
            "marker": {
             "colorbar": {
              "outlinewidth": 0,
              "ticks": ""
             }
            },
            "type": "scatterpolargl"
           }
          ],
          "scatterternary": [
           {
            "marker": {
             "colorbar": {
              "outlinewidth": 0,
              "ticks": ""
             }
            },
            "type": "scatterternary"
           }
          ],
          "surface": [
           {
            "colorbar": {
             "outlinewidth": 0,
             "ticks": ""
            },
            "colorscale": [
             [
              0,
              "#0d0887"
             ],
             [
              0.1111111111111111,
              "#46039f"
             ],
             [
              0.2222222222222222,
              "#7201a8"
             ],
             [
              0.3333333333333333,
              "#9c179e"
             ],
             [
              0.4444444444444444,
              "#bd3786"
             ],
             [
              0.5555555555555556,
              "#d8576b"
             ],
             [
              0.6666666666666666,
              "#ed7953"
             ],
             [
              0.7777777777777778,
              "#fb9f3a"
             ],
             [
              0.8888888888888888,
              "#fdca26"
             ],
             [
              1,
              "#f0f921"
             ]
            ],
            "type": "surface"
           }
          ],
          "table": [
           {
            "cells": {
             "fill": {
              "color": "#EBF0F8"
             },
             "line": {
              "color": "white"
             }
            },
            "header": {
             "fill": {
              "color": "#C8D4E3"
             },
             "line": {
              "color": "white"
             }
            },
            "type": "table"
           }
          ]
         },
         "layout": {
          "annotationdefaults": {
           "arrowcolor": "#2a3f5f",
           "arrowhead": 0,
           "arrowwidth": 1
          },
          "coloraxis": {
           "colorbar": {
            "outlinewidth": 0,
            "ticks": ""
           }
          },
          "colorscale": {
           "diverging": [
            [
             0,
             "#8e0152"
            ],
            [
             0.1,
             "#c51b7d"
            ],
            [
             0.2,
             "#de77ae"
            ],
            [
             0.3,
             "#f1b6da"
            ],
            [
             0.4,
             "#fde0ef"
            ],
            [
             0.5,
             "#f7f7f7"
            ],
            [
             0.6,
             "#e6f5d0"
            ],
            [
             0.7,
             "#b8e186"
            ],
            [
             0.8,
             "#7fbc41"
            ],
            [
             0.9,
             "#4d9221"
            ],
            [
             1,
             "#276419"
            ]
           ],
           "sequential": [
            [
             0,
             "#0d0887"
            ],
            [
             0.1111111111111111,
             "#46039f"
            ],
            [
             0.2222222222222222,
             "#7201a8"
            ],
            [
             0.3333333333333333,
             "#9c179e"
            ],
            [
             0.4444444444444444,
             "#bd3786"
            ],
            [
             0.5555555555555556,
             "#d8576b"
            ],
            [
             0.6666666666666666,
             "#ed7953"
            ],
            [
             0.7777777777777778,
             "#fb9f3a"
            ],
            [
             0.8888888888888888,
             "#fdca26"
            ],
            [
             1,
             "#f0f921"
            ]
           ],
           "sequentialminus": [
            [
             0,
             "#0d0887"
            ],
            [
             0.1111111111111111,
             "#46039f"
            ],
            [
             0.2222222222222222,
             "#7201a8"
            ],
            [
             0.3333333333333333,
             "#9c179e"
            ],
            [
             0.4444444444444444,
             "#bd3786"
            ],
            [
             0.5555555555555556,
             "#d8576b"
            ],
            [
             0.6666666666666666,
             "#ed7953"
            ],
            [
             0.7777777777777778,
             "#fb9f3a"
            ],
            [
             0.8888888888888888,
             "#fdca26"
            ],
            [
             1,
             "#f0f921"
            ]
           ]
          },
          "colorway": [
           "#636efa",
           "#EF553B",
           "#00cc96",
           "#ab63fa",
           "#FFA15A",
           "#19d3f3",
           "#FF6692",
           "#B6E880",
           "#FF97FF",
           "#FECB52"
          ],
          "font": {
           "color": "#2a3f5f"
          },
          "geo": {
           "bgcolor": "white",
           "lakecolor": "white",
           "landcolor": "#E5ECF6",
           "showlakes": true,
           "showland": true,
           "subunitcolor": "white"
          },
          "hoverlabel": {
           "align": "left"
          },
          "hovermode": "closest",
          "mapbox": {
           "style": "light"
          },
          "paper_bgcolor": "white",
          "plot_bgcolor": "#E5ECF6",
          "polar": {
           "angularaxis": {
            "gridcolor": "white",
            "linecolor": "white",
            "ticks": ""
           },
           "bgcolor": "#E5ECF6",
           "radialaxis": {
            "gridcolor": "white",
            "linecolor": "white",
            "ticks": ""
           }
          },
          "scene": {
           "xaxis": {
            "backgroundcolor": "#E5ECF6",
            "gridcolor": "white",
            "gridwidth": 2,
            "linecolor": "white",
            "showbackground": true,
            "ticks": "",
            "zerolinecolor": "white"
           },
           "yaxis": {
            "backgroundcolor": "#E5ECF6",
            "gridcolor": "white",
            "gridwidth": 2,
            "linecolor": "white",
            "showbackground": true,
            "ticks": "",
            "zerolinecolor": "white"
           },
           "zaxis": {
            "backgroundcolor": "#E5ECF6",
            "gridcolor": "white",
            "gridwidth": 2,
            "linecolor": "white",
            "showbackground": true,
            "ticks": "",
            "zerolinecolor": "white"
           }
          },
          "shapedefaults": {
           "line": {
            "color": "#2a3f5f"
           }
          },
          "ternary": {
           "aaxis": {
            "gridcolor": "white",
            "linecolor": "white",
            "ticks": ""
           },
           "baxis": {
            "gridcolor": "white",
            "linecolor": "white",
            "ticks": ""
           },
           "bgcolor": "#E5ECF6",
           "caxis": {
            "gridcolor": "white",
            "linecolor": "white",
            "ticks": ""
           }
          },
          "title": {
           "x": 0.05
          },
          "xaxis": {
           "automargin": true,
           "gridcolor": "white",
           "linecolor": "white",
           "ticks": "",
           "title": {
            "standoff": 15
           },
           "zerolinecolor": "white",
           "zerolinewidth": 2
          },
          "yaxis": {
           "automargin": true,
           "gridcolor": "white",
           "linecolor": "white",
           "ticks": "",
           "title": {
            "standoff": 15
           },
           "zerolinecolor": "white",
           "zerolinewidth": 2
          }
         }
        },
        "xaxis": {
         "autorange": true,
         "constrain": "domain",
         "domain": [
          0.43556433173976306,
          0.564435668260237
         ],
         "range": [
          -0.5,
          13.5
         ],
         "scaleanchor": "y"
        },
        "yaxis": {
         "autorange": true,
         "constrain": "domain",
         "domain": [
          0,
          1
         ],
         "range": [
          16.5,
          -0.5
         ]
        }
       }
      },
      "image/png": "[encoded data removed]",
      "text/html": [
       "<div>                            <div id=\"d9202333-cc53-414d-a764-e2d9d520e5f1\" class=\"plotly-graph-div\" style=\"height:525px; width:100%;\"></div>            <script type=\"text/javascript\">                require([\"plotly\"], function(Plotly) {                    window.PLOTLYENV=window.PLOTLYENV || {};                                    if (document.getElementById(\"d9202333-cc53-414d-a764-e2d9d520e5f1\")) {                    Plotly.newPlot(                        \"d9202333-cc53-414d-a764-e2d9d520e5f1\",                        [{\"coloraxis\": \"coloraxis\", \"hovertemplate\": \"x: %{x}<br>y: %{y}<br>color: %{z}<extra></extra>\", \"type\": \"heatmap\", \"z\": [[0.35584913238816596, 0.8908677834863715, 0.8060982583220251, 0.790443840616086, 0.5082625261616216, 0.620636828796226, 0.8029717558030842, 0.5834069625806397, 0.5686994987758427, 0.7655684918411584, 0.7556788166538522, 0.5960909361195772, 0.7050699205404634, 0.592406625181422], [0.8390757590087361, 0.18681544031638475, 1.0174140121770552, 0.9263004971762199, 0.957569804861726, 0.9310973124143691, 0.9820530178687845, 0.9165281305808141, 0.8937068047798858, 0.6980640197047459, 1.0146147486022836, 0.8885428021549321, 0.9732797189105243, 0.8962675934181861], [0.7688623527835824, 0.9512531758817944, 0.8738704576890626, 0.09520882811289988, 0.7500867462916978, 0.6658805912311994, 0.9211708330820493, 0.9180326508506765, 0.8911267761688386, 0.7694245580140009, 0.8128614626728314, 0.6640913820719949, 0.7984279809705719, 0.8778219443739246], [0.5525794837199899, 0.7751631414244827, 0.8154908861900891, 0.6467465732256257, 0.6033986172584263, 0.5175796467766884, 0.9050180314853025, 0.6867596896936465, 0.7754040923968506, 0.6635090306483429, 0.6405206296018959, 0.5842160814357876, 0.7055238019233044, 0.7472970119324163], [0.7151130932418488, 0.8488322591844938, 0.8090538405419546, 0.8022030701770255, 0.8031145004925269, 0.7131749235319285, 1.0009089393493193, 0.8007100480266615, 0.5340774019209468, 0.7675635586408656, 0.8447076997458612, 0.7649679720023018, 0.8591770557462145, 0.9040615589112998], [0.4378029488263252, 0.7854127975550247, 0.6890523489964269, 0.5792643032757201, 0.7118928141379599, 0.5341963936536018, 0.9173041850871892, 0.6742515641114877, 0.7029453179052436, 0.5428494365909688, 0.5591770923961197, 0.3336825026779452, 0.6181793943380315, 0.6358376072331364], [0.6037919054706791, 0.8932781781514937, 0.17904811177352875, 0.7206274901436944, 0.6401890772170624, 0.6531560120280204, 0.8306099388924502, 0.8168749611450665, 0.7734446342633451, 0.7044972640340573, 0.612894732514514, 0.5371596415078237, 0.7374872219195014, 0.6680479837454152], [0.9831129089294236, 1.0659380928996371, 0.865224970255758, 0.8444983016593854, 0.8860212775561038, 0.9398539047783928, 0.7817506879641238, 0.8261811951025377, 0.9244237489448186, 0.9796822702096116, 0.8154625386484256, 0.9045943138000738, 0.9612556310499877, 0.9159679092486929], [0.5344228510355631, 0.8306260590224251, 0.875958863882921, 0.614052426011319, 0.7136555554388837, 0.17588375607909046, 0.9544133377413355, 0.7184044036563729, 0.7041910915326962, 0.6316275022816564, 0.805837660395472, 0.6012343479465803, 0.6767862877412751, 0.7643274584574768], [0.6581318656952918, 0.9787020275818126, 0.912958823011039, 0.6808101256326629, 0.6888853933445369, 0.6920950096353842, 0.8871210812348865, 0.8181236329718293, 0.35847660826240557, 0.7157227055938551, 0.6534054756620032, 0.4653080024141266, 0.5315677832938177, 0.7177825678559944], [0.6908042098677523, 0.9136580356096555, 0.8912826118797779, 0.774742598418307, 0.8584961883734046, 0.7243818522737451, 1.0205164145215102, 0.8517603890270817, 0.7215772290517131, 0.6950263999565605, 0.7545083492388819, 0.7620284750030157, 0.24507180642116433, 0.8139633038879338], [0.5759397029648439, 0.9009371299772149, 0.7314854259896473, 0.6960778065031606, 0.7104399178030856, 0.6792371884904953, 0.7970914995297166, 0.6344995620101078, 0.8584532537080578, 0.7555334957095359, 0.20429634996818624, 0.6173347793360228, 0.6254091757737381, 0.5470232550855865], [0.8459320225583984, 1.00359474259812, 0.697902870026486, 0.6846542211374596, 0.41647436393915704, 0.8970041207296995, 0.9929597226046012, 0.965327449308668, 0.9755764644739979, 0.9479074002373045, 0.9982104528878758, 0.9109499320102775, 0.9943591257906127, 0.9895748610292778], [0.7342418117040331, 1.00271720494979, 0.7733703062436453, 0.7466331848891312, 0.5095386688077643, 0.7206363693748188, 0.9175659955235325, 0.8158163248236724, 0.8384401538481671, 0.8641356035847572, 0.9070184727213149, 0.7977647497456736, 0.9324208864545881, 0.9321757567244113], [0.7606051155199816, 0.9668514495185965, 0.8598430511734967, 0.8130904306812492, 0.831942015752039, 0.7736456496365884, 0.8237469110398161, 0.12082776644791415, 0.8515139449489071, 0.7383204770098519, 0.6227201050779521, 0.7092550433823983, 0.9075916339258365, 0.8487663517894952], [0.696329106492627, 0.8757068151366396, 0.7671461507316274, 0.8486510739468072, 0.7910477617745053, 0.6750042245709437, 0.3007542900370267, 0.7092522949839067, 0.871885780496066, 0.7884164425570621, 0.7380553157854719, 0.8041232426915045, 0.8475715331616169, 0.8519382840769321], [0.875796090185838, 0.9828204593595763, 0.7719332780952899, 0.8091421689529192, 0.3436286454842403, 0.8958139975404203, 0.950210653237545, 0.8985638026598509, 0.878013298486289, 0.98567292316136, 0.8337602916065215, 0.8733124711169423, 0.9503475215248287, 0.899527754617315]]}],                        {\"coloraxis\": {\"colorscale\": [[0.0, \"#0d0887\"], [0.1111111111111111, \"#46039f\"], [0.2222222222222222, \"#7201a8\"], [0.3333333333333333, \"#9c179e\"], [0.4444444444444444, \"#bd3786\"], [0.5555555555555556, \"#d8576b\"], [0.6666666666666666, \"#ed7953\"], [0.7777777777777778, \"#fb9f3a\"], [0.8888888888888888, \"#fdca26\"], [1.0, \"#f0f921\"]]}, \"margin\": {\"t\": 60}, \"template\": {\"data\": {\"bar\": [{\"error_x\": {\"color\": \"#2a3f5f\"}, \"error_y\": {\"color\": \"#2a3f5f\"}, \"marker\": {\"line\": {\"color\": \"#E5ECF6\", \"width\": 0.5}}, \"type\": \"bar\"}], \"barpolar\": [{\"marker\": {\"line\": {\"color\": \"#E5ECF6\", \"width\": 0.5}}, \"type\": \"barpolar\"}], \"carpet\": [{\"aaxis\": {\"endlinecolor\": \"#2a3f5f\", \"gridcolor\": \"white\", \"linecolor\": \"white\", \"minorgridcolor\": \"white\", \"startlinecolor\": \"#2a3f5f\"}, \"baxis\": {\"endlinecolor\": \"#2a3f5f\", \"gridcolor\": \"white\", \"linecolor\": \"white\", \"minorgridcolor\": \"white\", \"startlinecolor\": \"#2a3f5f\"}, \"type\": \"carpet\"}], \"choropleth\": [{\"colorbar\": {\"outlinewidth\": 0, \"ticks\": \"\"}, \"type\": \"choropleth\"}], \"contour\": [{\"colorbar\": {\"outlinewidth\": 0, \"ticks\": \"\"}, \"colorscale\": [[0.0, \"#0d0887\"], [0.1111111111111111, \"#46039f\"], [0.2222222222222222, \"#7201a8\"], [0.3333333333333333, \"#9c179e\"], [0.4444444444444444, \"#bd3786\"], [0.5555555555555556, \"#d8576b\"], [0.6666666666666666, \"#ed7953\"], [0.7777777777777778, \"#fb9f3a\"], [0.8888888888888888, \"#fdca26\"], [1.0, \"#f0f921\"]], \"type\": \"contour\"}], \"contourcarpet\": [{\"colorbar\": {\"outlinewidth\": 0, \"ticks\": \"\"}, \"type\": \"contourcarpet\"}], \"heatmap\": [{\"colorbar\": {\"outlinewidth\": 0, \"ticks\": \"\"}, \"colorscale\": [[0.0, \"#0d0887\"], [0.1111111111111111, \"#46039f\"], [0.2222222222222222, \"#7201a8\"], [0.3333333333333333, \"#9c179e\"], [0.4444444444444444, \"#bd3786\"], [0.5555555555555556, \"#d8576b\"], [0.6666666666666666, \"#ed7953\"], [0.7777777777777778, \"#fb9f3a\"], [0.8888888888888888, \"#fdca26\"], [1.0, \"#f0f921\"]], \"type\": \"heatmap\"}], \"heatmapgl\": [{\"colorbar\": {\"outlinewidth\": 0, \"ticks\": \"\"}, \"colorscale\": [[0.0, \"#0d0887\"], [0.1111111111111111, \"#46039f\"], [0.2222222222222222, \"#7201a8\"], [0.3333333333333333, \"#9c179e\"], [0.4444444444444444, \"#bd3786\"], [0.5555555555555556, \"#d8576b\"], [0.6666666666666666, \"#ed7953\"], [0.7777777777777778, \"#fb9f3a\"], [0.8888888888888888, \"#fdca26\"], [1.0, \"#f0f921\"]], \"type\": \"heatmapgl\"}], \"histogram\": [{\"marker\": {\"colorbar\": {\"outlinewidth\": 0, \"ticks\": \"\"}}, \"type\": \"histogram\"}], \"histogram2d\": [{\"colorbar\": {\"outlinewidth\": 0, \"ticks\": \"\"}, \"colorscale\": [[0.0, \"#0d0887\"], [0.1111111111111111, \"#46039f\"], [0.2222222222222222, \"#7201a8\"], [0.3333333333333333, \"#9c179e\"], [0.4444444444444444, \"#bd3786\"], [0.5555555555555556, \"#d8576b\"], [0.6666666666666666, \"#ed7953\"], [0.7777777777777778, \"#fb9f3a\"], [0.8888888888888888, \"#fdca26\"], [1.0, \"#f0f921\"]], \"type\": \"histogram2d\"}], \"histogram2dcontour\": [{\"colorbar\": {\"outlinewidth\": 0, \"ticks\": \"\"}, \"colorscale\": [[0.0, \"#0d0887\"], [0.1111111111111111, \"#46039f\"], [0.2222222222222222, \"#7201a8\"], [0.3333333333333333, \"#9c179e\"], [0.4444444444444444, \"#bd3786\"], [0.5555555555555556, \"#d8576b\"], [0.6666666666666666, \"#ed7953\"], [0.7777777777777778, \"#fb9f3a\"], [0.8888888888888888, \"#fdca26\"], [1.0, \"#f0f921\"]], \"type\": \"histogram2dcontour\"}], \"mesh3d\": [{\"colorbar\": {\"outlinewidth\": 0, \"ticks\": \"\"}, \"type\": \"mesh3d\"}], \"parcoords\": [{\"line\": {\"colorbar\": {\"outlinewidth\": 0, \"ticks\": \"\"}}, \"type\": \"parcoords\"}], \"pie\": [{\"automargin\": true, \"type\": \"pie\"}], \"scatter\": [{\"marker\": {\"colorbar\": {\"outlinewidth\": 0, \"ticks\": \"\"}}, \"type\": \"scatter\"}], \"scatter3d\": [{\"line\": {\"colorbar\": {\"outlinewidth\": 0, \"ticks\": \"\"}}, \"marker\": {\"colorbar\": {\"outlinewidth\": 0, \"ticks\": \"\"}}, \"type\": \"scatter3d\"}], \"scattercarpet\": [{\"marker\": {\"colorbar\": {\"outlinewidth\": 0, \"ticks\": \"\"}}, \"type\": \"scattercarpet\"}], \"scattergeo\": [{\"marker\": {\"colorbar\": {\"outlinewidth\": 0, \"ticks\": \"\"}}, \"type\": \"scattergeo\"}], \"scattergl\": [{\"marker\": {\"colorbar\": {\"outlinewidth\": 0, \"ticks\": \"\"}}, \"type\": \"scattergl\"}], \"scattermapbox\": [{\"marker\": {\"colorbar\": {\"outlinewidth\": 0, \"ticks\": \"\"}}, \"type\": \"scattermapbox\"}], \"scatterpolar\": [{\"marker\": {\"colorbar\": {\"outlinewidth\": 0, \"ticks\": \"\"}}, \"type\": \"scatterpolar\"}], \"scatterpolargl\": [{\"marker\": {\"colorbar\": {\"outlinewidth\": 0, \"ticks\": \"\"}}, \"type\": \"scatterpolargl\"}], \"scatterternary\": [{\"marker\": {\"colorbar\": {\"outlinewidth\": 0, \"ticks\": \"\"}}, \"type\": \"scatterternary\"}], \"surface\": [{\"colorbar\": {\"outlinewidth\": 0, \"ticks\": \"\"}, \"colorscale\": [[0.0, \"#0d0887\"], [0.1111111111111111, \"#46039f\"], [0.2222222222222222, \"#7201a8\"], [0.3333333333333333, \"#9c179e\"], [0.4444444444444444, \"#bd3786\"], [0.5555555555555556, \"#d8576b\"], [0.6666666666666666, \"#ed7953\"], [0.7777777777777778, \"#fb9f3a\"], [0.8888888888888888, \"#fdca26\"], [1.0, \"#f0f921\"]], \"type\": \"surface\"}], \"table\": [{\"cells\": {\"fill\": {\"color\": \"#EBF0F8\"}, \"line\": {\"color\": \"white\"}}, \"header\": {\"fill\": {\"color\": \"#C8D4E3\"}, \"line\": {\"color\": \"white\"}}, \"type\": \"table\"}]}, \"layout\": {\"annotationdefaults\": {\"arrowcolor\": \"#2a3f5f\", \"arrowhead\": 0, \"arrowwidth\": 1}, \"coloraxis\": {\"colorbar\": {\"outlinewidth\": 0, \"ticks\": \"\"}}, \"colorscale\": {\"diverging\": [[0, \"#8e0152\"], [0.1, \"#c51b7d\"], [0.2, \"#de77ae\"], [0.3, \"#f1b6da\"], [0.4, \"#fde0ef\"], [0.5, \"#f7f7f7\"], [0.6, \"#e6f5d0\"], [0.7, \"#b8e186\"], [0.8, \"#7fbc41\"], [0.9, \"#4d9221\"], [1, \"#276419\"]], \"sequential\": [[0.0, \"#0d0887\"], [0.1111111111111111, \"#46039f\"], [0.2222222222222222, \"#7201a8\"], [0.3333333333333333, \"#9c179e\"], [0.4444444444444444, \"#bd3786\"], [0.5555555555555556, \"#d8576b\"], [0.6666666666666666, \"#ed7953\"], [0.7777777777777778, \"#fb9f3a\"], [0.8888888888888888, \"#fdca26\"], [1.0, \"#f0f921\"]], \"sequentialminus\": [[0.0, \"#0d0887\"], [0.1111111111111111, \"#46039f\"], [0.2222222222222222, \"#7201a8\"], [0.3333333333333333, \"#9c179e\"], [0.4444444444444444, \"#bd3786\"], [0.5555555555555556, \"#d8576b\"], [0.6666666666666666, \"#ed7953\"], [0.7777777777777778, \"#fb9f3a\"], [0.8888888888888888, \"#fdca26\"], [1.0, \"#f0f921\"]]}, \"colorway\": [\"#636efa\", \"#EF553B\", \"#00cc96\", \"#ab63fa\", \"#FFA15A\", \"#19d3f3\", \"#FF6692\", \"#B6E880\", \"#FF97FF\", \"#FECB52\"], \"font\": {\"color\": \"#2a3f5f\"}, \"geo\": {\"bgcolor\": \"white\", \"lakecolor\": \"white\", \"landcolor\": \"#E5ECF6\", \"showlakes\": true, \"showland\": true, \"subunitcolor\": \"white\"}, \"hoverlabel\": {\"align\": \"left\"}, \"hovermode\": \"closest\", \"mapbox\": {\"style\": \"light\"}, \"paper_bgcolor\": \"white\", \"plot_bgcolor\": \"#E5ECF6\", \"polar\": {\"angularaxis\": {\"gridcolor\": \"white\", \"linecolor\": \"white\", \"ticks\": \"\"}, \"bgcolor\": \"#E5ECF6\", \"radialaxis\": {\"gridcolor\": \"white\", \"linecolor\": \"white\", \"ticks\": \"\"}}, \"scene\": {\"xaxis\": {\"backgroundcolor\": \"#E5ECF6\", \"gridcolor\": \"white\", \"gridwidth\": 2, \"linecolor\": \"white\", \"showbackground\": true, \"ticks\": \"\", \"zerolinecolor\": \"white\"}, \"yaxis\": {\"backgroundcolor\": \"#E5ECF6\", \"gridcolor\": \"white\", \"gridwidth\": 2, \"linecolor\": \"white\", \"showbackground\": true, \"ticks\": \"\", \"zerolinecolor\": \"white\"}, \"zaxis\": {\"backgroundcolor\": \"#E5ECF6\", \"gridcolor\": \"white\", \"gridwidth\": 2, \"linecolor\": \"white\", \"showbackground\": true, \"ticks\": \"\", \"zerolinecolor\": \"white\"}}, \"shapedefaults\": {\"line\": {\"color\": \"#2a3f5f\"}}, \"ternary\": {\"aaxis\": {\"gridcolor\": \"white\", \"linecolor\": \"white\", \"ticks\": \"\"}, \"baxis\": {\"gridcolor\": \"white\", \"linecolor\": \"white\", \"ticks\": \"\"}, \"bgcolor\": \"#E5ECF6\", \"caxis\": {\"gridcolor\": \"white\", \"linecolor\": \"white\", \"ticks\": \"\"}}, \"title\": {\"x\": 0.05}, \"xaxis\": {\"automargin\": true, \"gridcolor\": \"white\", \"linecolor\": \"white\", \"ticks\": \"\", \"title\": {\"standoff\": 15}, \"zerolinecolor\": \"white\", \"zerolinewidth\": 2}, \"yaxis\": {\"automargin\": true, \"gridcolor\": \"white\", \"linecolor\": \"white\", \"ticks\": \"\", \"title\": {\"standoff\": 15}, \"zerolinecolor\": \"white\", \"zerolinewidth\": 2}}}, \"xaxis\": {\"constrain\": \"domain\", \"scaleanchor\": \"y\"}, \"yaxis\": {\"autorange\": \"reversed\", \"constrain\": \"domain\"}},                        {\"responsive\": true}                    ).then(function(){\n",
       "                            \n",
       "var gd = document.getElementById('d9202333-cc53-414d-a764-e2d9d520e5f1');\n",
       "var x = new MutationObserver(function (mutations, observer) {{\n",
       "        var display = window.getComputedStyle(gd).display;\n",
       "        if (!display || display === 'none') {{\n",
       "            console.log([gd, 'removed!']);\n",
       "            Plotly.purge(gd);\n",
       "            observer.disconnect();\n",
       "        }}\n",
       "}});\n",
       "\n",
       "// Listen for the removal of the full notebook cells\n",
       "var notebookContainer = gd.closest('#notebook-container');\n",
       "if (notebookContainer) {{\n",
       "    x.observe(notebookContainer, {childList: true});\n",
       "}}\n",
       "\n",
       "// Listen for the clearing of the current output cell\n",
       "var outputEl = gd.closest('.output');\n",
       "if (outputEl) {{\n",
       "    x.observe(outputEl, {childList: true});\n",
       "}}\n",
       "\n",
       "                        })                };                });            </script>        </div>"
      ]
     },
     "metadata": {},
     "output_type": "display_data"
    }
   ],
   "source": [
    "\n",
    "fig = px.imshow(cdist(np.stack(cluster_labels_google_a.merged_headline_embedding.values),np.stack(cluster_labels_google_b.merged_headline_embedding.values),\"cosine\"))\n",
    "fig.show()"
   ]
  },
  {
   "cell_type": "code",
   "execution_count": 396,
   "metadata": {},
   "outputs": [
    {
     "data": {
      "text/plain": [
       "['a', 'c', 'va', 'as', 'ss', 's', 'ss', 's']"
      ]
     },
     "execution_count": 396,
     "metadata": {},
     "output_type": "execute_result"
    }
   ],
   "source": [
    "['a','c']+[\"va\",'as']+[\"ss\",\"s\"]*2"
   ]
  },
  {
   "cell_type": "code",
   "execution_count": 385,
   "metadata": {},
   "outputs": [
    {
     "ename": "NameError",
     "evalue": "name 'embeddings' is not defined",
     "output_type": "error",
     "traceback": [
      "\u001b[0;31m---------------------------------------------------------------------------\u001b[0m",
      "\u001b[0;31mNameError\u001b[0m                                 Traceback (most recent call last)",
      "\u001b[0;32m<ipython-input-385-abe1de80a662>\u001b[0m in \u001b[0;36m<module>\u001b[0;34m\u001b[0m\n\u001b[1;32m     11\u001b[0m \u001b[0;34m\u001b[0m\u001b[0m\n\u001b[1;32m     12\u001b[0m \u001b[0;34m\u001b[0m\u001b[0m\n\u001b[0;32m---> 13\u001b[0;31m \u001b[0;32mfor\u001b[0m \u001b[0mi\u001b[0m\u001b[0;34m,\u001b[0m \u001b[0mx\u001b[0m \u001b[0;32min\u001b[0m \u001b[0menumerate\u001b[0m\u001b[0;34m(\u001b[0m\u001b[0membeddings\u001b[0m\u001b[0;34m)\u001b[0m\u001b[0;34m:\u001b[0m\u001b[0;34m\u001b[0m\u001b[0;34m\u001b[0m\u001b[0m\n\u001b[0m\u001b[1;32m     14\u001b[0m         \u001b[0;32mfor\u001b[0m \u001b[0mu\u001b[0m \u001b[0;32min\u001b[0m \u001b[0mUfit\u001b[0m\u001b[0;34m[\u001b[0m\u001b[0;36m0\u001b[0m\u001b[0;34m:\u001b[0m\u001b[0;36m3\u001b[0m\u001b[0;34m]\u001b[0m\u001b[0;34m:\u001b[0m\u001b[0;34m\u001b[0m\u001b[0;34m\u001b[0m\u001b[0m\n\u001b[1;32m     15\u001b[0m             \u001b[0membeddings\u001b[0m\u001b[0;34m[\u001b[0m\u001b[0mi\u001b[0m\u001b[0;34m]\u001b[0m \u001b[0;34m=\u001b[0m \u001b[0membeddings\u001b[0m\u001b[0;34m[\u001b[0m\u001b[0mi\u001b[0m\u001b[0;34m]\u001b[0m \u001b[0;34m-\u001b[0m \u001b[0mnp\u001b[0m\u001b[0;34m.\u001b[0m\u001b[0mdot\u001b[0m\u001b[0;34m(\u001b[0m\u001b[0mu\u001b[0m\u001b[0;34m.\u001b[0m\u001b[0mtranspose\u001b[0m\u001b[0;34m(\u001b[0m\u001b[0;34m)\u001b[0m\u001b[0;34m,\u001b[0m\u001b[0membeddings\u001b[0m\u001b[0;34m[\u001b[0m\u001b[0mi\u001b[0m\u001b[0;34m]\u001b[0m\u001b[0;34m)\u001b[0m \u001b[0;34m*\u001b[0m \u001b[0mu\u001b[0m\u001b[0;34m\u001b[0m\u001b[0;34m\u001b[0m\u001b[0m\n",
      "\u001b[0;31mNameError\u001b[0m: name 'embeddings' is not defined"
     ]
    }
   ],
   "source": [
    "# PCA Dim Reduction\n",
    "pca =  PCA(n_components = 3)\n",
    "X_train = embeddings_a - np.mean(embeddings_a)\n",
    "X_new_final = pca.fit_transform(embeddings_a)\n",
    "\n",
    "# PCA to do Post-Processing\n",
    "pca =  PCA(n_components = 3)\n",
    "X_new = X_new_final - np.mean(embeddings_a)\n",
    "X_new = pca.fit_transform(X_new)\n",
    "Ufit = pca.components_\n",
    "\n",
    "\n",
    "for i, x in enumerate(embeddings):\n",
    "        for u in Ufit[0:3]:\n",
    "            embeddings[i] = embeddings[i] - np.dot(u.transpose(),embeddings[i]) * u \n"
   ]
  },
  {
   "cell_type": "code",
   "execution_count": null,
   "metadata": {},
   "outputs": [],
   "source": []
  }
 ],
 "metadata": {
  "kernelspec": {
   "display_name": "py38",
   "language": "python",
   "name": "py38"
  },
  "language_info": {
   "codemirror_mode": {
    "name": "ipython",
    "version": 3
   },
   "file_extension": ".py",
   "mimetype": "text/x-python",
   "name": "python",
   "nbconvert_exporter": "python",
   "pygments_lexer": "ipython3",
   "version": "3.8.3"
  }
 },
 "nbformat": 4,
 "nbformat_minor": 4
}
