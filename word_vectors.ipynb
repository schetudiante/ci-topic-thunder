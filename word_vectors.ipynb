{
 "cells": [
  {
   "cell_type": "code",
   "execution_count": 1,
   "metadata": {},
   "outputs": [
    {
     "name": "stdout",
     "output_type": "stream",
     "text": [
      "Number of stopwords 607\n"
     ]
    }
   ],
   "source": [
    "import pandas as pd\n",
    "import numpy as np\n",
    "import gensim,re,time\n",
    "from gensim.models.fasttext import load_facebook_model\n",
    "from nltk.tokenize import RegexpTokenizer,TreebankWordTokenizer\n",
    "from code import utils\n",
    "from sklearn.preprocessing import normalize\n",
    "from sklearn.decomposition import PCA\n",
    "from sklearn.manifold import TSNE\n",
    "import plotly.offline as py\n",
    "import plotly.express as px\n",
    "tokenizer = TreebankWordTokenizer()\n",
    "\n",
    "pca = PCA(n_components=3)\n",
    "tsne = TSNE(n_components=3)\n",
    "\n",
    "#Paramters\n",
    "TOP_N_ARTICLES = 60000\n",
    "TRAIN_N = 10000\n",
    "%load_ext autoreload\n",
    "%autoreload 2\n",
    "\n"
   ]
  },
  {
   "cell_type": "markdown",
   "metadata": {},
   "source": [
    "### Load data and the model "
   ]
  },
  {
   "cell_type": "code",
   "execution_count": 2,
   "metadata": {},
   "outputs": [
    {
     "data": {
      "text/plain": [
       "'wenn du bei deinem comeback nach tagen nur drei sekunden und genau einen ballkontakt für dein erstes pflichtspieltor brauchst wahnsinns-rückkehr für marco reus bei borussia dortmund mehr als ein halbes jahr nach seinem sehnenriss im februar riesen-aufreger nach der hsv-pleite im pokal bei dynamo dresden plötzlich steigt hsv-profi toni leistner über die absperrung beimpokal-spaziergang in duisburg wird der nationalspieler in der minute eingewechselt. und trifft einen augenblick später nach einer freistoß-vorlage von jadon sancho  am tag der bvb-teenies zeigt der alte reus dass er wieder da ist. vor allemmio-neuzugang jude bellingham lässt bei seinem pflichtspiel-debüt bei trainer lucian favre die augen leuchten. nach hacken-ablage von thorgan hazard trifft der england-teenie zum . zuvor hatte landsmann sancho einen elfer zum ins tor gehämmert. noch vor der pause zaubert hazard einen freistoß direkt ins linke obere eck. die vorentscheidung. bellingham darf zur pause duschen. die teenie-tor-party geht weiter. giovanni reyna macht das und dann schlägt auch noch blitz-joker reus zu. bitter dass das nur im stadion sehen dürfen so leer war es hoffentlich zum letzten mal bvb-boss hans-joachim watzke macht hoffnung ich würde mir den samstagabend definitiv frei halten. ich kann es nicht versprechen aber es könnte ja sein dass wir es bis dahin hinkriegen und man dann per losverfahren dabei ist.  samstag uhr steigt dortmunds kracher-duell zum ligastart gegen gladbach und watzke hofft auf eine corona-rekordkulisse. watzke ich denke prozent wären auf jeden fall verantwortbar. plätze hat die bvb-arena. heißt prozent davon wären zuschauer. bei einem treffen der staatskanzleien-chefs der bundesländer steht das thema zuschauer am dienstag erneut auf der tagesordnung. bayerns ministerpräsident markus söder csu zu bild wir wollen eine einheitliche regelung für einen probebetrieb und möglicherweise könnte der dann auch relativ schnell erfolgen also zum start der bundesliga etwa.'"
      ]
     },
     "execution_count": 2,
     "metadata": {},
     "output_type": "execute_result"
    }
   ],
   "source": [
    "df = utils.load_text_data()\n",
    "pdf=utils.preprocess_text(df.head(TOP_N_ARTICLES))\n",
    "tokenized_texts = [tokenizer.tokenize(txt) for txt in pdf ]\n",
    "\n",
    "pdf[0]"
   ]
  },
  {
   "cell_type": "code",
   "execution_count": 3,
   "metadata": {},
   "outputs": [
    {
     "name": "stdout",
     "output_type": "stream",
     "text": [
      "--- Model loaded in 93.05387711524963 seconds ---\n"
     ]
    }
   ],
   "source": [
    "start_time = time.time()\n",
    "\n",
    "fb_model = load_facebook_model(\"cc.de.300.bin\")\n",
    "fb_model.wv.most_similar(positive=['covid'])\n",
    "print(\"--- Model loaded in %s seconds ---\" % (time.time() - start_time))"
   ]
  },
  {
   "cell_type": "code",
   "execution_count": 4,
   "metadata": {},
   "outputs": [
    {
     "name": "stdout",
     "output_type": "stream",
     "text": [
      "False\n",
      "False\n",
      "False\n",
      "--- 0.0002789497375488281 seconds ---\n"
     ]
    }
   ],
   "source": [
    "import time\n",
    "start_time = time.time()\n",
    "print('covid' in fb_model.wv.vocab)  # Word is out of vocabulary\n",
    "print('covidioten' in fb_model.wv.vocab)  # Word is out of vocabulary\n",
    "print('coronavirus' in fb_model.wv.vocab)  # Word is out of vocabulary\n",
    "\n",
    "print(\"--- %s seconds ---\" % (time.time() - start_time))"
   ]
  },
  {
   "cell_type": "code",
   "execution_count": 5,
   "metadata": {},
   "outputs": [
    {
     "name": "stdout",
     "output_type": "stream",
     "text": [
      "--- 249.3782079219818 seconds ---\n"
     ]
    }
   ],
   "source": [
    "start_time = time.time()\n",
    "\n",
    "fb_model.build_vocab(tokenized_texts, update=True)\n",
    "fb_model.train(sentences=tokenized_texts, total_examples=len(tokenized_texts), epochs=7)\n",
    "print(\"--- %s seconds ---\" % (time.time() - start_time))\n"
   ]
  },
  {
   "cell_type": "code",
   "execution_count": 6,
   "metadata": {},
   "outputs": [
    {
     "data": {
      "text/plain": [
       "[('coronavirus', 0.9802075624465942),\n",
       " ('corona-virus', 0.9771857857704163),\n",
       " ('coronavirus.', 0.9725087285041809),\n",
       " ('coronavirus’', 0.9713901281356812),\n",
       " ('coronaviren', 0.9705122113227844),\n",
       " ('coronavirusncov', 0.9698304533958435),\n",
       " ('coronaviren.', 0.9695255160331726),\n",
       " ('corona-virus.', 0.9688683748245239),\n",
       " ('coronavirus-infektion.', 0.9632284045219421),\n",
       " ('coronavirus-fall', 0.9626423120498657)]"
      ]
     },
     "execution_count": 6,
     "metadata": {},
     "output_type": "execute_result"
    }
   ],
   "source": [
    "fb_model.wv.most_similar(positive=['corona','virus'])\n"
   ]
  },
  {
   "cell_type": "code",
   "execution_count": null,
   "metadata": {},
   "outputs": [],
   "source": []
  },
  {
   "cell_type": "code",
   "execution_count": 7,
   "metadata": {},
   "outputs": [
    {
     "data": {
      "text/plain": [
       "['wenn die neue bundesliga-saison startet könnte es im dortmunder stadion endlich wieder richtig laut werden  hans-joachim watzke macht den fans hoffnung dass der auftakt gegen gladbach vor einer corona-rekord-kulisse stattfinden kann',\n",
       " 'was der bvb-boss sagt und wie er die lage einschätzt das lesen sie nur mit bildplus']"
      ]
     },
     "execution_count": 7,
     "metadata": {},
     "output_type": "execute_result"
    }
   ],
   "source": [
    "sentences_from_text = [ utils.get_sentences_from_text(txt) for txt in pdf]\n",
    "\n",
    "sentences_from_text[5]"
   ]
  },
  {
   "cell_type": "code",
   "execution_count": 8,
   "metadata": {},
   "outputs": [
    {
     "name": "stderr",
     "output_type": "stream",
     "text": [
      "<ipython-input-8-3e8c68f9c425>:7: DeprecationWarning:\n",
      "\n",
      "Call to deprecated `__getitem__` (Method will be removed in 4.0.0, use self.wv.__getitem__() instead).\n",
      "\n"
     ]
    },
    {
     "name": "stdout",
     "output_type": "stream",
     "text": [
      "--- 127.41815614700317 seconds ---\n"
     ]
    }
   ],
   "source": [
    "start_time = time.time()\n",
    "\n",
    "vectors = []\n",
    "for sentences in sentences_from_text:\n",
    "    ve=[]\n",
    "    for sen in sentences:\n",
    "        ve.append(np.array(fb_model[sen]))\n",
    "    vectors.append(np.mean(ve,axis=0))\n",
    "print(\"--- %s seconds ---\" % (time.time() - start_time))\n",
    "    "
   ]
  },
  {
   "cell_type": "code",
   "execution_count": 9,
   "metadata": {},
   "outputs": [
    {
     "data": {
      "text/plain": [
       "(60000, (300,))"
      ]
     },
     "execution_count": 9,
     "metadata": {},
     "output_type": "execute_result"
    }
   ],
   "source": [
    "len(vectors),vectors[0].shape"
   ]
  },
  {
   "cell_type": "code",
   "execution_count": null,
   "metadata": {},
   "outputs": [],
   "source": []
  },
  {
   "cell_type": "code",
   "execution_count": 11,
   "metadata": {},
   "outputs": [],
   "source": [
    "p = pca.fit_transform(vectors)\n",
    "p = pd.DataFrame(p,columns=[\"x\",'y','z'])\n",
    "p['headline'] = df.head(TOP_N_ARTICLES)[\"headline\"].values\n"
   ]
  },
  {
   "cell_type": "code",
   "execution_count": null,
   "metadata": {},
   "outputs": [],
   "source": [
    "from hdbscan import HDBSCAN\n",
    "from sklearn.cluster import DBSCAN, MeanShift, OPTICS\n",
    "from sklearn.metrics.pairwise import cosine_distances\n",
    "\n",
    "\n",
    "clusterer = HDBSCAN(algorithm='best', alpha=0.8, approx_min_span_tree=False,\n",
    "    gen_min_span_tree=True, leaf_size=20,\n",
    "metric='euclidean', min_cluster_size=5, min_samples=2, p=None)\n",
    "\n",
    "#clusterer = DBSCAN(metric=cosine_distances)\n",
    "\n",
    "cluster_labels = clusterer.fit_predict(normalize(vectors,norm=\"l2\"))\n",
    "p[\"clusters\"] = cluster_labels\n",
    "fig = px.scatter(p, x=\"x\", y=\"y\",hover_name=\"headline\", color = \"clusters\", size_max=60)\n",
    "fig.update_layout(\n",
    "     height=1200)"
   ]
  },
  {
   "cell_type": "code",
   "execution_count": null,
   "metadata": {},
   "outputs": [],
   "source": [
    "clusterer.fit_predict(np.array(vectors))"
   ]
  },
  {
   "cell_type": "code",
   "execution_count": null,
   "metadata": {},
   "outputs": [],
   "source": [
    "from gensim.models import KeyedVectors\n",
    "\n",
    "\n",
    "model = KeyedVectors.load_word2vec_format(\"german.model\", binary=False)\n"
   ]
  },
  {
   "cell_type": "code",
   "execution_count": null,
   "metadata": {},
   "outputs": [],
   "source": []
  },
  {
   "cell_type": "code",
   "execution_count": null,
   "metadata": {},
   "outputs": [],
   "source": []
  },
  {
   "cell_type": "code",
   "execution_count": null,
   "metadata": {},
   "outputs": [],
   "source": []
  },
  {
   "cell_type": "code",
   "execution_count": null,
   "metadata": {},
   "outputs": [],
   "source": []
  },
  {
   "cell_type": "code",
   "execution_count": null,
   "metadata": {},
   "outputs": [],
   "source": []
  }
 ],
 "metadata": {
  "kernelspec": {
   "display_name": "py38",
   "language": "python",
   "name": "py38"
  },
  "language_info": {
   "codemirror_mode": {
    "name": "ipython",
    "version": 3
   },
   "file_extension": ".py",
   "mimetype": "text/x-python",
   "name": "python",
   "nbconvert_exporter": "python",
   "pygments_lexer": "ipython3",
   "version": "3.8.3"
  }
 },
 "nbformat": 4,
 "nbformat_minor": 4
}
